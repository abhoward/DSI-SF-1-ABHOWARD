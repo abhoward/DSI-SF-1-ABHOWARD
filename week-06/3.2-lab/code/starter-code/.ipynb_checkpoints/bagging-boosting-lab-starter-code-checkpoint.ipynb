{
 "cells": [
  {
   "cell_type": "markdown",
   "metadata": {},
   "source": [
    "# Bagging and Boosting Lab\n",
    "\n",
    "In this lab we will practice using Random Forest Regressor and Boosted Trees Regressor on the SF health code violation data.\n",
    "\n",
    "---"
   ]
  },
  {
   "cell_type": "markdown",
   "metadata": {},
   "source": [
    "## 1. Load and inspect the data\n",
    "\n",
    "In the [asset folder](../../assets/datasets/violations_words.csv) you can find the dataset of SF health code violations and inspections.\n",
    "\n",
    "There are many columns in this dataset, many of which you will not want/need to use!\n",
    "\n",
    "**NOTE: the back 373 columns are word appearances from CountVectorizer derived from the inspection/violation description.**\n",
    "\n",
    "---\n",
    "\n",
    "We will be training several classification and regression models. For classification, you can choose to predict:\n",
    "\n",
    "    neighborhood   :  the neighborhood of the business recieving the inspection/violation\n",
    "    score_code     :  health code score category\n",
    "    zip code       :  zip code the business is in\n",
    "\n",
    "For the regression problem, you will predict either:\n",
    "\n",
    "    score          :  the recieved health code score\n",
    "\n",
    "**OR [BONUS]**: aggregate the total number of violations by `neighborhood` (using groupby). If you choose to use this as your dependent for regression, you must *adjust this count for number of businesses and population in the neighborhood!*\n",
    "\n",
    "---\n",
    "\n",
    "### 1.1 Inspect the data and create your X, Y data for the classification and regression problems\n"
   ]
  },
  {
   "cell_type": "code",
   "execution_count": 2,
   "metadata": {
    "collapsed": false
   },
   "outputs": [],
   "source": [
    "import pandas as pd\n",
    "import numpy as np\n",
    "import patsy\n",
    "\n",
    "import matplotlib.pyplot as plt\n",
    "import seaborn as sns\n",
    "%matplotlib inline"
   ]
  },
  {
   "cell_type": "code",
   "execution_count": 3,
   "metadata": {
    "collapsed": false
   },
   "outputs": [
    {
     "name": "stderr",
     "output_type": "stream",
     "text": [
      "C:\\Anaconda2\\lib\\site-packages\\IPython\\core\\interactiveshell.py:2723: DtypeWarning: Columns (10,13) have mixed types. Specify dtype option on import or set low_memory=False.\n",
      "  interactivity=interactivity, compiler=compiler, result=result)\n"
     ]
    }
   ],
   "source": [
    "data = pd.read_csv('../../assets/datasets/violations_words.csv')"
   ]
  },
  {
   "cell_type": "code",
   "execution_count": 5,
   "metadata": {
    "collapsed": false
   },
   "outputs": [
    {
     "data": {
      "text/html": [
       "<div>\n",
       "<table border=\"1\" class=\"dataframe\">\n",
       "  <thead>\n",
       "    <tr style=\"text-align: right;\">\n",
       "      <th></th>\n",
       "      <th>business_id</th>\n",
       "      <th>score</th>\n",
       "      <th>date</th>\n",
       "      <th>type</th>\n",
       "      <th>violation_count</th>\n",
       "      <th>days_since_first_violation</th>\n",
       "      <th>name</th>\n",
       "      <th>address</th>\n",
       "      <th>city</th>\n",
       "      <th>state</th>\n",
       "      <th>...</th>\n",
       "      <th>washed fruits</th>\n",
       "      <th>wastewater</th>\n",
       "      <th>wastewater contamination</th>\n",
       "      <th>wastewater disposal</th>\n",
       "      <th>water</th>\n",
       "      <th>water running</th>\n",
       "      <th>wiping</th>\n",
       "      <th>wiping cloths</th>\n",
       "      <th>worker</th>\n",
       "      <th>worker safety</th>\n",
       "    </tr>\n",
       "  </thead>\n",
       "  <tbody>\n",
       "    <tr>\n",
       "      <th>0</th>\n",
       "      <td>10.0</td>\n",
       "      <td>92.0</td>\n",
       "      <td>2014-01-14</td>\n",
       "      <td>routine</td>\n",
       "      <td>1.0</td>\n",
       "      <td>0.0</td>\n",
       "      <td>TIRAMISU KITCHEN</td>\n",
       "      <td>033 BELDEN PL</td>\n",
       "      <td>San Francisco</td>\n",
       "      <td>CA</td>\n",
       "      <td>...</td>\n",
       "      <td>0</td>\n",
       "      <td>0</td>\n",
       "      <td>0</td>\n",
       "      <td>0</td>\n",
       "      <td>0</td>\n",
       "      <td>0</td>\n",
       "      <td>0</td>\n",
       "      <td>0</td>\n",
       "      <td>0</td>\n",
       "      <td>0</td>\n",
       "    </tr>\n",
       "    <tr>\n",
       "      <th>1</th>\n",
       "      <td>10.0</td>\n",
       "      <td>92.0</td>\n",
       "      <td>2014-01-14</td>\n",
       "      <td>routine</td>\n",
       "      <td>1.0</td>\n",
       "      <td>0.0</td>\n",
       "      <td>TIRAMISU KITCHEN</td>\n",
       "      <td>033 BELDEN PL</td>\n",
       "      <td>San Francisco</td>\n",
       "      <td>CA</td>\n",
       "      <td>...</td>\n",
       "      <td>0</td>\n",
       "      <td>0</td>\n",
       "      <td>0</td>\n",
       "      <td>0</td>\n",
       "      <td>0</td>\n",
       "      <td>0</td>\n",
       "      <td>0</td>\n",
       "      <td>0</td>\n",
       "      <td>0</td>\n",
       "      <td>0</td>\n",
       "    </tr>\n",
       "    <tr>\n",
       "      <th>2</th>\n",
       "      <td>10.0</td>\n",
       "      <td>92.0</td>\n",
       "      <td>2014-01-14</td>\n",
       "      <td>routine</td>\n",
       "      <td>1.0</td>\n",
       "      <td>0.0</td>\n",
       "      <td>TIRAMISU KITCHEN</td>\n",
       "      <td>033 BELDEN PL</td>\n",
       "      <td>San Francisco</td>\n",
       "      <td>CA</td>\n",
       "      <td>...</td>\n",
       "      <td>0</td>\n",
       "      <td>0</td>\n",
       "      <td>0</td>\n",
       "      <td>0</td>\n",
       "      <td>0</td>\n",
       "      <td>0</td>\n",
       "      <td>0</td>\n",
       "      <td>0</td>\n",
       "      <td>0</td>\n",
       "      <td>0</td>\n",
       "    </tr>\n",
       "    <tr>\n",
       "      <th>3</th>\n",
       "      <td>10.0</td>\n",
       "      <td>94.0</td>\n",
       "      <td>2014-07-29</td>\n",
       "      <td>routine</td>\n",
       "      <td>2.0</td>\n",
       "      <td>196.0</td>\n",
       "      <td>TIRAMISU KITCHEN</td>\n",
       "      <td>033 BELDEN PL</td>\n",
       "      <td>San Francisco</td>\n",
       "      <td>CA</td>\n",
       "      <td>...</td>\n",
       "      <td>0</td>\n",
       "      <td>0</td>\n",
       "      <td>0</td>\n",
       "      <td>0</td>\n",
       "      <td>1</td>\n",
       "      <td>1</td>\n",
       "      <td>0</td>\n",
       "      <td>0</td>\n",
       "      <td>0</td>\n",
       "      <td>0</td>\n",
       "    </tr>\n",
       "    <tr>\n",
       "      <th>4</th>\n",
       "      <td>10.0</td>\n",
       "      <td>94.0</td>\n",
       "      <td>2014-07-29</td>\n",
       "      <td>routine</td>\n",
       "      <td>2.0</td>\n",
       "      <td>196.0</td>\n",
       "      <td>TIRAMISU KITCHEN</td>\n",
       "      <td>033 BELDEN PL</td>\n",
       "      <td>San Francisco</td>\n",
       "      <td>CA</td>\n",
       "      <td>...</td>\n",
       "      <td>0</td>\n",
       "      <td>0</td>\n",
       "      <td>0</td>\n",
       "      <td>0</td>\n",
       "      <td>0</td>\n",
       "      <td>0</td>\n",
       "      <td>0</td>\n",
       "      <td>0</td>\n",
       "      <td>0</td>\n",
       "      <td>0</td>\n",
       "    </tr>\n",
       "  </tbody>\n",
       "</table>\n",
       "<p>5 rows × 393 columns</p>\n",
       "</div>"
      ],
      "text/plain": [
       "   business_id  score        date     type  violation_count  \\\n",
       "0         10.0   92.0  2014-01-14  routine              1.0   \n",
       "1         10.0   92.0  2014-01-14  routine              1.0   \n",
       "2         10.0   92.0  2014-01-14  routine              1.0   \n",
       "3         10.0   94.0  2014-07-29  routine              2.0   \n",
       "4         10.0   94.0  2014-07-29  routine              2.0   \n",
       "\n",
       "   days_since_first_violation              name        address           city  \\\n",
       "0                         0.0  TIRAMISU KITCHEN  033 BELDEN PL  San Francisco   \n",
       "1                         0.0  TIRAMISU KITCHEN  033 BELDEN PL  San Francisco   \n",
       "2                         0.0  TIRAMISU KITCHEN  033 BELDEN PL  San Francisco   \n",
       "3                       196.0  TIRAMISU KITCHEN  033 BELDEN PL  San Francisco   \n",
       "4                       196.0  TIRAMISU KITCHEN  033 BELDEN PL  San Francisco   \n",
       "\n",
       "  state      ...      washed fruits  wastewater  wastewater contamination  \\\n",
       "0    CA      ...                  0           0                         0   \n",
       "1    CA      ...                  0           0                         0   \n",
       "2    CA      ...                  0           0                         0   \n",
       "3    CA      ...                  0           0                         0   \n",
       "4    CA      ...                  0           0                         0   \n",
       "\n",
       "  wastewater disposal  water water running wiping wiping cloths  worker  \\\n",
       "0                   0      0             0      0             0       0   \n",
       "1                   0      0             0      0             0       0   \n",
       "2                   0      0             0      0             0       0   \n",
       "3                   0      1             1      0             0       0   \n",
       "4                   0      0             0      0             0       0   \n",
       "\n",
       "  worker safety  \n",
       "0             0  \n",
       "1             0  \n",
       "2             0  \n",
       "3             0  \n",
       "4             0  \n",
       "\n",
       "[5 rows x 393 columns]"
      ]
     },
     "execution_count": 5,
     "metadata": {},
     "output_type": "execute_result"
    }
   ],
   "source": [
    "data.head()"
   ]
  },
  {
   "cell_type": "code",
   "execution_count": null,
   "metadata": {
    "collapsed": true
   },
   "outputs": [],
   "source": []
  },
  {
   "cell_type": "markdown",
   "metadata": {},
   "source": [
    "---\n",
    "\n",
    "### 2. Decision Tree Regressor\n",
    "\n",
    "1. Train a decision tree regressor on the regression problem\n",
    "- Evaluate the score with a 5-fold cross-validation\n",
    "- Make a scatter plot of the predicted vs actual scores for each of the 5 folds, do they match?\n"
   ]
  },
  {
   "cell_type": "code",
   "execution_count": null,
   "metadata": {
    "collapsed": false
   },
   "outputs": [],
   "source": []
  },
  {
   "cell_type": "markdown",
   "metadata": {},
   "source": [
    "---\n",
    "\n",
    "### 3. Random Forest Regressor\n",
    "\n",
    "1. Train a random forest regressor on the regression problem and predict your dependent.\n",
    "- Evaluate the score with a 5-fold cross-validation\n",
    "- Do a scatter plot of the predicted vs actual scores for each of the 5 folds, do they match?\n",
    "- How does this fit compare with the previous one?"
   ]
  },
  {
   "cell_type": "code",
   "execution_count": null,
   "metadata": {
    "collapsed": false
   },
   "outputs": [],
   "source": []
  },
  {
   "cell_type": "markdown",
   "metadata": {},
   "source": [
    "---\n",
    "\n",
    "### 4. Extra Trees Regressor\n",
    "\n",
    "1. Train an extra trees regressor on the regression problem and predict your dependent.\n",
    "- Evaluate the score with a 5-fold cross-validation\n",
    "- Do a scatter plot of the predicted vs actual scores for each of the 5 folds, do they match?\n",
    "- How does this fit compare with the previous models?"
   ]
  },
  {
   "cell_type": "code",
   "execution_count": null,
   "metadata": {
    "collapsed": true
   },
   "outputs": [],
   "source": []
  },
  {
   "cell_type": "markdown",
   "metadata": {},
   "source": [
    "---\n",
    "\n",
    "### 5. AdaBoost Classifier\n",
    "\n",
    "1. Train a AdaBoost classifier on your chosen classification problem.\n",
    "- Evaluate the classifier performance with a 5-fold cross-validation."
   ]
  },
  {
   "cell_type": "code",
   "execution_count": null,
   "metadata": {
    "collapsed": false
   },
   "outputs": [],
   "source": []
  },
  {
   "cell_type": "markdown",
   "metadata": {},
   "source": [
    "---\n",
    "\n",
    "### 6. Gradient Boosted Trees Classifier\n",
    "\n",
    "\n",
    "1. Train a Gradient Boosting Trees classifier on your chosen classification problem.\n",
    "- Evaluate the score with a 5-fold cross-validation.\n",
    "- Compare with the AdaBoost score."
   ]
  },
  {
   "cell_type": "code",
   "execution_count": null,
   "metadata": {
    "collapsed": false
   },
   "outputs": [],
   "source": []
  },
  {
   "cell_type": "markdown",
   "metadata": {},
   "source": [
    "### 7. [BONUS] Use gridsearch to fine-tune a model or models.\n",
    "\n",
    "1. What are the best parameters found with the gridsearch?\n",
    "2. How does the best score compare to the model(s) without cross-validation?"
   ]
  },
  {
   "cell_type": "code",
   "execution_count": null,
   "metadata": {
    "collapsed": true
   },
   "outputs": [],
   "source": []
  }
 ],
 "metadata": {
  "kernelspec": {
   "display_name": "Python 2",
   "language": "python",
   "name": "python2"
  },
  "language_info": {
   "codemirror_mode": {
    "name": "ipython",
    "version": 2
   },
   "file_extension": ".py",
   "mimetype": "text/x-python",
   "name": "python",
   "nbconvert_exporter": "python",
   "pygments_lexer": "ipython2",
   "version": "2.7.11"
  }
 },
 "nbformat": 4,
 "nbformat_minor": 0
}
