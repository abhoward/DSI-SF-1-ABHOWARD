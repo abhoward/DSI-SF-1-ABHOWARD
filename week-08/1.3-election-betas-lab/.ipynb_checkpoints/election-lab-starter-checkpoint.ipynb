{
 "cells": [
  {
   "cell_type": "markdown",
   "metadata": {},
   "source": [
    "# Beta distributions on election data \n",
    "\n",
    "In this lab you will be looking at [election data taken from Andrew Gelman's book on Bayesian statistics](http://www.stat.columbia.edu/~gelman/arm/examples/election88/) (highly recommended!).\n",
    "\n",
    "---\n",
    "\n",
    "## Dataset\n",
    "\n",
    "The initial parsing code for the data has been completed to save you time so you can get to the Bayesian stuff. You are still required to perform some feature engineering though.\n",
    "\n",
    "The data contains polling information for George H.W. Bush as well as election information. \n",
    "\n",
    "The polling information indicates samples by state of who intends to vote for Bush or not. The voting information is a sample after the election asking who actually voted for bush or not.\n",
    "\n",
    "---"
   ]
  },
  {
   "cell_type": "markdown",
   "metadata": {},
   "source": [
    "## 1. Import and parse the data\n",
    "\n",
    "This portion is done for you. There are two datasets:\n",
    "\n",
    "    election88  :  this contains the election voting poll information\n",
    "    pre_poll    :  this contains the pre-election voting poll information"
   ]
  },
  {
   "cell_type": "code",
   "execution_count": 1,
   "metadata": {
    "collapsed": false,
    "scrolled": true
   },
   "outputs": [
    {
     "name": "stdout",
     "output_type": "stream",
     "text": [
      "   state_id  st  electionresult  vote_total    raking  _merge\n",
      "0         1  AL            0.59         203  0.673067       3\n",
      "2         3  AZ            0.60         194  0.568980       3\n",
      "3         4  AR            0.56         121  0.563672       3\n"
     ]
    }
   ],
   "source": [
    "import pandas as pd\n",
    "import numpy as np\n",
    "\n",
    "election88 = pd.read_csv('./datasets/election88.csv')\n",
    "\n",
    "election88.rename(columns={'stnum':'state_id','samplesize':'vote_total'}, inplace=True)\n",
    "\n",
    "election88 = election88[~election88.st.isin(['DC','AK','HI'])]\n",
    "\n",
    "print election88.head(3)"
   ]
  },
  {
   "cell_type": "code",
   "execution_count": 2,
   "metadata": {
    "collapsed": false
   },
   "outputs": [
    {
     "name": "stdout",
     "output_type": "stream",
     "text": [
      "   year survey  bush  state_id  edu  age  female  black  weight  st\n",
      "0     1   9152   1.0         7    2    2       1      0    1403  CT\n",
      "1     1   9152   1.0         7    4    3       1      0     701  CT\n",
      "2     1   9152   0.0         7    2    1       0      0    4341  CT\n",
      "(13525, 10)\n"
     ]
    }
   ],
   "source": [
    "# Reading in the poll csv file\n",
    "pre_poll = pd.read_csv('./datasets/polls.csv')\n",
    "\n",
    "# remove unneccessary columns:\n",
    "del pre_poll['org']\n",
    "\n",
    "pre_poll.rename(columns={'state':'state_id'}, inplace=True)\n",
    "\n",
    "pre_poll = pre_poll.merge(election88[['state_id','st']], on='state_id')\n",
    "\n",
    "print pre_poll.head(3)\n",
    "print pre_poll.shape"
   ]
  },
  {
   "cell_type": "code",
   "execution_count": 3,
   "metadata": {
    "collapsed": false,
    "scrolled": true
   },
   "outputs": [
    {
     "name": "stdout",
     "output_type": "stream",
     "text": [
      "CA    1493\n",
      "NY     894\n",
      "TX     788\n",
      "FL     750\n",
      "PA     616\n",
      "OH     605\n",
      "IL     567\n",
      "MI     530\n",
      "NJ     428\n",
      "WA     393\n",
      "WI     389\n",
      "MA     373\n",
      "VA     354\n",
      "NC     346\n",
      "TN     329\n",
      "GA     316\n",
      "MO     309\n",
      "IN     291\n",
      "MN     289\n",
      "MD     284\n",
      "SC     223\n",
      "MS     220\n",
      "KY     210\n",
      "AL     203\n",
      "LA     196\n",
      "AZ     194\n",
      "CO     181\n",
      "CT     171\n",
      "OR     149\n",
      "IA     143\n",
      "KS     141\n",
      "OK     130\n",
      "NE     125\n",
      "AR     121\n",
      "WV     117\n",
      "NM     109\n",
      "RI      91\n",
      "UT      79\n",
      "SD      60\n",
      "ND      60\n",
      "ME      51\n",
      "ID      42\n",
      "MT      40\n",
      "DE      39\n",
      "NV      32\n",
      "NH      27\n",
      "WY      15\n",
      "VT      12\n",
      "Name: st, dtype: int64\n"
     ]
    }
   ],
   "source": [
    "# print state category counts\n",
    "print pre_poll['st'].value_counts()"
   ]
  },
  {
   "cell_type": "markdown",
   "metadata": {},
   "source": [
    "--- \n",
    "\n",
    "## 2. In the poll data, compute the number of people who did and didn't intend to vote for Bush by state."
   ]
  },
  {
   "cell_type": "code",
   "execution_count": 30,
   "metadata": {
    "collapsed": false
   },
   "outputs": [],
   "source": [
    "yes_bush = pre_poll[pre_poll.bush == 1.0].groupby(['st'])['bush'].count()"
   ]
  },
  {
   "cell_type": "code",
   "execution_count": 31,
   "metadata": {
    "collapsed": false,
    "scrolled": true
   },
   "outputs": [
    {
     "data": {
      "text/plain": [
       "st\n",
       "AL    113\n",
       "AR     59\n",
       "AZ     99\n",
       "CA    730\n",
       "CO     86\n",
       "CT     71\n",
       "DE     14\n",
       "FL    409\n",
       "GA    155\n",
       "IA     44\n",
       "ID     17\n",
       "IL    255\n",
       "IN    176\n",
       "KS     88\n",
       "KY    109\n",
       "LA    109\n",
       "MA    151\n",
       "MD    122\n",
       "ME     25\n",
       "MI    248\n",
       "MN    124\n",
       "MO    123\n",
       "MS    132\n",
       "MT     14\n",
       "NC    177\n",
       "ND     30\n",
       "NE     60\n",
       "NH     16\n",
       "NJ    202\n",
       "NM     52\n",
       "NV     15\n",
       "NY    335\n",
       "OH    326\n",
       "OK     61\n",
       "OR     64\n",
       "PA    273\n",
       "RI     25\n",
       "SC    123\n",
       "SD     32\n",
       "TN    196\n",
       "TX    395\n",
       "UT     54\n",
       "VA    203\n",
       "VT      7\n",
       "WA    152\n",
       "WI    161\n",
       "WV     54\n",
       "WY      9\n",
       "Name: bush, dtype: int64"
      ]
     },
     "execution_count": 31,
     "metadata": {},
     "output_type": "execute_result"
    }
   ],
   "source": [
    "yes_bush"
   ]
  },
  {
   "cell_type": "code",
   "execution_count": 28,
   "metadata": {
    "collapsed": true
   },
   "outputs": [],
   "source": [
    "no_bush = pre_poll[pre_poll.bush == 0.0].groupby(['st'])['bush'].count()"
   ]
  },
  {
   "cell_type": "code",
   "execution_count": 29,
   "metadata": {
    "collapsed": false,
    "scrolled": true
   },
   "outputs": [
    {
     "data": {
      "text/plain": [
       "st\n",
       "AL     46\n",
       "AR     42\n",
       "AZ     69\n",
       "CA    550\n",
       "CO     59\n",
       "CT     63\n",
       "DE     23\n",
       "FL    232\n",
       "GA    109\n",
       "IA     69\n",
       "ID     17\n",
       "IL    224\n",
       "IN     85\n",
       "KS     39\n",
       "KY     74\n",
       "LA     60\n",
       "MA    174\n",
       "MD    124\n",
       "ME     24\n",
       "MI    199\n",
       "MN    116\n",
       "MO    140\n",
       "MS     57\n",
       "MT     21\n",
       "NC    115\n",
       "ND     24\n",
       "NE     42\n",
       "NH      8\n",
       "NJ    161\n",
       "NM     44\n",
       "NV      9\n",
       "NY    442\n",
       "OH    195\n",
       "OK     54\n",
       "OR     60\n",
       "PA    244\n",
       "RI     50\n",
       "SC     60\n",
       "SD     24\n",
       "TN     94\n",
       "TX    303\n",
       "UT     15\n",
       "VA     99\n",
       "VT      5\n",
       "WA    171\n",
       "WI    162\n",
       "WV     55\n",
       "WY      6\n",
       "Name: bush, dtype: int64"
      ]
     },
     "execution_count": 29,
     "metadata": {},
     "output_type": "execute_result"
    }
   ],
   "source": [
    "no_bush"
   ]
  },
  {
   "cell_type": "markdown",
   "metadata": {},
   "source": [
    "--- \n",
    "\n",
    "## 3. In the vote data, compute the number of people who did and didn't vote for Bush by state."
   ]
  },
  {
   "cell_type": "code",
   "execution_count": 43,
   "metadata": {
    "collapsed": false
   },
   "outputs": [],
   "source": [
    "election88['yes_bush'] = election88.electionresult * election88.vote_total\n",
    "election88['yes_bush'] = election88.yes_bush.apply(round)"
   ]
  },
  {
   "cell_type": "code",
   "execution_count": 45,
   "metadata": {
    "collapsed": true
   },
   "outputs": [],
   "source": [
    "election88['no_bush'] = election88.vote_total - election88.yes_bush"
   ]
  },
  {
   "cell_type": "code",
   "execution_count": 47,
   "metadata": {
    "collapsed": false
   },
   "outputs": [
    {
     "data": {
      "text/html": [
       "<div>\n",
       "<table border=\"1\" class=\"dataframe\">\n",
       "  <thead>\n",
       "    <tr style=\"text-align: right;\">\n",
       "      <th></th>\n",
       "      <th>state_id</th>\n",
       "      <th>st</th>\n",
       "      <th>electionresult</th>\n",
       "      <th>vote_total</th>\n",
       "      <th>raking</th>\n",
       "      <th>_merge</th>\n",
       "      <th>yes_bush</th>\n",
       "      <th>no_bush</th>\n",
       "    </tr>\n",
       "  </thead>\n",
       "  <tbody>\n",
       "    <tr>\n",
       "      <th>0</th>\n",
       "      <td>1</td>\n",
       "      <td>AL</td>\n",
       "      <td>0.59</td>\n",
       "      <td>203</td>\n",
       "      <td>0.673067</td>\n",
       "      <td>3</td>\n",
       "      <td>120.0</td>\n",
       "      <td>83.0</td>\n",
       "    </tr>\n",
       "    <tr>\n",
       "      <th>2</th>\n",
       "      <td>3</td>\n",
       "      <td>AZ</td>\n",
       "      <td>0.60</td>\n",
       "      <td>194</td>\n",
       "      <td>0.568980</td>\n",
       "      <td>3</td>\n",
       "      <td>116.0</td>\n",
       "      <td>78.0</td>\n",
       "    </tr>\n",
       "    <tr>\n",
       "      <th>3</th>\n",
       "      <td>4</td>\n",
       "      <td>AR</td>\n",
       "      <td>0.56</td>\n",
       "      <td>121</td>\n",
       "      <td>0.563672</td>\n",
       "      <td>3</td>\n",
       "      <td>68.0</td>\n",
       "      <td>53.0</td>\n",
       "    </tr>\n",
       "    <tr>\n",
       "      <th>4</th>\n",
       "      <td>5</td>\n",
       "      <td>CA</td>\n",
       "      <td>0.51</td>\n",
       "      <td>1493</td>\n",
       "      <td>0.531725</td>\n",
       "      <td>3</td>\n",
       "      <td>761.0</td>\n",
       "      <td>732.0</td>\n",
       "    </tr>\n",
       "    <tr>\n",
       "      <th>5</th>\n",
       "      <td>6</td>\n",
       "      <td>CO</td>\n",
       "      <td>0.53</td>\n",
       "      <td>181</td>\n",
       "      <td>0.599325</td>\n",
       "      <td>3</td>\n",
       "      <td>96.0</td>\n",
       "      <td>85.0</td>\n",
       "    </tr>\n",
       "  </tbody>\n",
       "</table>\n",
       "</div>"
      ],
      "text/plain": [
       "   state_id  st  electionresult  vote_total    raking  _merge  yes_bush  \\\n",
       "0         1  AL            0.59         203  0.673067       3     120.0   \n",
       "2         3  AZ            0.60         194  0.568980       3     116.0   \n",
       "3         4  AR            0.56         121  0.563672       3      68.0   \n",
       "4         5  CA            0.51        1493  0.531725       3     761.0   \n",
       "5         6  CO            0.53         181  0.599325       3      96.0   \n",
       "\n",
       "   no_bush  \n",
       "0     83.0  \n",
       "2     78.0  \n",
       "3     53.0  \n",
       "4    732.0  \n",
       "5     85.0  "
      ]
     },
     "execution_count": 47,
     "metadata": {},
     "output_type": "execute_result"
    }
   ],
   "source": [
    "election88.head()"
   ]
  },
  {
   "cell_type": "markdown",
   "metadata": {},
   "source": [
    "---\n",
    "\n",
    "## 4. Merge the poll and vote data together by state"
   ]
  },
  {
   "cell_type": "code",
   "execution_count": 49,
   "metadata": {
    "collapsed": false
   },
   "outputs": [],
   "source": [
    "total_df = pre_poll.merge(right = election88, how = 'inner', on = 'st')"
   ]
  },
  {
   "cell_type": "code",
   "execution_count": 50,
   "metadata": {
    "collapsed": false
   },
   "outputs": [
    {
     "data": {
      "text/html": [
       "<div>\n",
       "<table border=\"1\" class=\"dataframe\">\n",
       "  <thead>\n",
       "    <tr style=\"text-align: right;\">\n",
       "      <th></th>\n",
       "      <th>year</th>\n",
       "      <th>survey</th>\n",
       "      <th>bush</th>\n",
       "      <th>state_id_x</th>\n",
       "      <th>edu</th>\n",
       "      <th>age</th>\n",
       "      <th>female</th>\n",
       "      <th>black</th>\n",
       "      <th>weight</th>\n",
       "      <th>st</th>\n",
       "      <th>state_id_y</th>\n",
       "      <th>electionresult</th>\n",
       "      <th>vote_total</th>\n",
       "      <th>raking</th>\n",
       "      <th>_merge</th>\n",
       "      <th>yes_bush</th>\n",
       "      <th>no_bush</th>\n",
       "    </tr>\n",
       "  </thead>\n",
       "  <tbody>\n",
       "    <tr>\n",
       "      <th>0</th>\n",
       "      <td>1</td>\n",
       "      <td>9152</td>\n",
       "      <td>1.0</td>\n",
       "      <td>7</td>\n",
       "      <td>2</td>\n",
       "      <td>2</td>\n",
       "      <td>1</td>\n",
       "      <td>0</td>\n",
       "      <td>1403</td>\n",
       "      <td>CT</td>\n",
       "      <td>7</td>\n",
       "      <td>0.52</td>\n",
       "      <td>171</td>\n",
       "      <td>0.51958</td>\n",
       "      <td>3</td>\n",
       "      <td>89.0</td>\n",
       "      <td>82.0</td>\n",
       "    </tr>\n",
       "    <tr>\n",
       "      <th>1</th>\n",
       "      <td>1</td>\n",
       "      <td>9152</td>\n",
       "      <td>1.0</td>\n",
       "      <td>7</td>\n",
       "      <td>4</td>\n",
       "      <td>3</td>\n",
       "      <td>1</td>\n",
       "      <td>0</td>\n",
       "      <td>701</td>\n",
       "      <td>CT</td>\n",
       "      <td>7</td>\n",
       "      <td>0.52</td>\n",
       "      <td>171</td>\n",
       "      <td>0.51958</td>\n",
       "      <td>3</td>\n",
       "      <td>89.0</td>\n",
       "      <td>82.0</td>\n",
       "    </tr>\n",
       "    <tr>\n",
       "      <th>2</th>\n",
       "      <td>1</td>\n",
       "      <td>9152</td>\n",
       "      <td>0.0</td>\n",
       "      <td>7</td>\n",
       "      <td>2</td>\n",
       "      <td>1</td>\n",
       "      <td>0</td>\n",
       "      <td>0</td>\n",
       "      <td>4341</td>\n",
       "      <td>CT</td>\n",
       "      <td>7</td>\n",
       "      <td>0.52</td>\n",
       "      <td>171</td>\n",
       "      <td>0.51958</td>\n",
       "      <td>3</td>\n",
       "      <td>89.0</td>\n",
       "      <td>82.0</td>\n",
       "    </tr>\n",
       "    <tr>\n",
       "      <th>3</th>\n",
       "      <td>1</td>\n",
       "      <td>9152</td>\n",
       "      <td>1.0</td>\n",
       "      <td>7</td>\n",
       "      <td>2</td>\n",
       "      <td>2</td>\n",
       "      <td>0</td>\n",
       "      <td>0</td>\n",
       "      <td>1558</td>\n",
       "      <td>CT</td>\n",
       "      <td>7</td>\n",
       "      <td>0.52</td>\n",
       "      <td>171</td>\n",
       "      <td>0.51958</td>\n",
       "      <td>3</td>\n",
       "      <td>89.0</td>\n",
       "      <td>82.0</td>\n",
       "    </tr>\n",
       "    <tr>\n",
       "      <th>4</th>\n",
       "      <td>1</td>\n",
       "      <td>9152</td>\n",
       "      <td>0.0</td>\n",
       "      <td>7</td>\n",
       "      <td>4</td>\n",
       "      <td>3</td>\n",
       "      <td>0</td>\n",
       "      <td>0</td>\n",
       "      <td>1167</td>\n",
       "      <td>CT</td>\n",
       "      <td>7</td>\n",
       "      <td>0.52</td>\n",
       "      <td>171</td>\n",
       "      <td>0.51958</td>\n",
       "      <td>3</td>\n",
       "      <td>89.0</td>\n",
       "      <td>82.0</td>\n",
       "    </tr>\n",
       "  </tbody>\n",
       "</table>\n",
       "</div>"
      ],
      "text/plain": [
       "   year survey  bush  state_id_x  edu  age  female  black  weight  st  \\\n",
       "0     1   9152   1.0           7    2    2       1      0    1403  CT   \n",
       "1     1   9152   1.0           7    4    3       1      0     701  CT   \n",
       "2     1   9152   0.0           7    2    1       0      0    4341  CT   \n",
       "3     1   9152   1.0           7    2    2       0      0    1558  CT   \n",
       "4     1   9152   0.0           7    4    3       0      0    1167  CT   \n",
       "\n",
       "   state_id_y  electionresult  vote_total   raking  _merge  yes_bush  no_bush  \n",
       "0           7            0.52         171  0.51958       3      89.0     82.0  \n",
       "1           7            0.52         171  0.51958       3      89.0     82.0  \n",
       "2           7            0.52         171  0.51958       3      89.0     82.0  \n",
       "3           7            0.52         171  0.51958       3      89.0     82.0  \n",
       "4           7            0.52         171  0.51958       3      89.0     82.0  "
      ]
     },
     "execution_count": 50,
     "metadata": {},
     "output_type": "execute_result"
    }
   ],
   "source": [
    "total_df.head()"
   ]
  },
  {
   "cell_type": "code",
   "execution_count": 65,
   "metadata": {
    "collapsed": false
   },
   "outputs": [
    {
     "data": {
      "text/html": [
       "<div>\n",
       "<table border=\"1\" class=\"dataframe\">\n",
       "  <thead>\n",
       "    <tr style=\"text-align: right;\">\n",
       "      <th></th>\n",
       "      <th>year</th>\n",
       "      <th>survey</th>\n",
       "      <th>bush</th>\n",
       "      <th>state_id_x</th>\n",
       "      <th>edu</th>\n",
       "      <th>age</th>\n",
       "      <th>female</th>\n",
       "      <th>black</th>\n",
       "      <th>weight</th>\n",
       "      <th>st</th>\n",
       "      <th>state_id_y</th>\n",
       "      <th>electionresult</th>\n",
       "      <th>vote_total</th>\n",
       "      <th>raking</th>\n",
       "      <th>_merge</th>\n",
       "      <th>yes_bush</th>\n",
       "      <th>no_bush</th>\n",
       "    </tr>\n",
       "  </thead>\n",
       "  <tbody>\n",
       "    <tr>\n",
       "      <th>13513</th>\n",
       "      <td>2</td>\n",
       "      <td>9153</td>\n",
       "      <td>0.0</td>\n",
       "      <td>46</td>\n",
       "      <td>3</td>\n",
       "      <td>2</td>\n",
       "      <td>1</td>\n",
       "      <td>0</td>\n",
       "      <td>603</td>\n",
       "      <td>VT</td>\n",
       "      <td>46</td>\n",
       "      <td>0.51</td>\n",
       "      <td>12</td>\n",
       "      <td>0.802644</td>\n",
       "      <td>3</td>\n",
       "      <td>6.0</td>\n",
       "      <td>6.0</td>\n",
       "    </tr>\n",
       "  </tbody>\n",
       "</table>\n",
       "</div>"
      ],
      "text/plain": [
       "       year survey  bush  state_id_x  edu  age  female  black  weight  st  \\\n",
       "13513     2   9153   0.0          46    3    2       1      0     603  VT   \n",
       "\n",
       "       state_id_y  electionresult  vote_total    raking  _merge  yes_bush  \\\n",
       "13513          46            0.51          12  0.802644       3       6.0   \n",
       "\n",
       "       no_bush  \n",
       "13513      6.0  "
      ]
     },
     "execution_count": 65,
     "metadata": {},
     "output_type": "execute_result"
    }
   ],
   "source": [
    "total_df[total_df.st == 'VT'].head(1)"
   ]
  },
  {
   "cell_type": "markdown",
   "metadata": {},
   "source": [
    "---\n",
    "\n",
    "## 5. Construct a function to plot beta probability distributions based on poll and vote counts\n",
    "\n",
    "The distributions should be on the same chart."
   ]
  },
  {
   "cell_type": "code",
   "execution_count": 58,
   "metadata": {
    "collapsed": false
   },
   "outputs": [],
   "source": [
    "from scipy.stats import beta\n",
    "import matplotlib.pyplot as plt\n",
    "import seaborn as sns\n",
    "\n",
    "sns.set_style('white')\n",
    "%matplotlib inline"
   ]
  },
  {
   "cell_type": "code",
   "execution_count": 59,
   "metadata": {
    "collapsed": true
   },
   "outputs": [],
   "source": [
    "def poll_vote_betas(vote_a, vote_b, poll_a, poll_b, state):\n",
    "\n",
    "    plt.figure(figsize=(7,6))\n",
    "    pr = np.linspace(0.001, 0.999, 1000)\n",
    "    \n",
    "    # vote beta:\n",
    "    plt.plot(pr, beta.pdf(pr, vote_a, vote_b), lw=3, c='darkred', label='vote')\n",
    "    \n",
    "    # poll beta:\n",
    "    plt.plot(pr, beta.pdf(pr, poll_a, poll_b), lw=3, c='steelblue', label='poll')\n",
    "    \n",
    "    # poll beta:\n",
    "    plt.title(state+' poll vs. vote beta distributions', fontsize=20)\n",
    "    plt.xlabel('probability density', fontsize=16)\n",
    "    plt.ylabel('P(bush)', fontsize=16)\n",
    "    \n",
    "    plt.legend(loc='upper left', fontsize=14)\n",
    "\n",
    "    plt.show()"
   ]
  },
  {
   "cell_type": "markdown",
   "metadata": {},
   "source": [
    "---\n",
    "\n",
    "## 6. Select 4 states of your choice and plot the beta distributions\n"
   ]
  },
  {
   "cell_type": "code",
   "execution_count": 60,
   "metadata": {
    "collapsed": false
   },
   "outputs": [
    {
     "data": {
      "image/png": "[encoded data removed]",
      "text/plain": [
       "<matplotlib.figure.Figure at 0xb6b09b0>"
      ]
     },
     "metadata": {},
     "output_type": "display_data"
    }
   ],
   "source": [
    "poll_vote_betas(730, 550, 761, 732, 'CA')"
   ]
  },
  {
   "cell_type": "code",
   "execution_count": 62,
   "metadata": {
    "collapsed": false
   },
   "outputs": [
    {
     "data": {
      "image/png": "[encoded data removed]",
      "text/plain": [
       "<matplotlib.figure.Figure at 0xb7763c8>"
      ]
     },
     "metadata": {},
     "output_type": "display_data"
    }
   ],
   "source": [
    "poll_vote_betas(99, 69, 120, 83, 'AL')"
   ]
  },
  {
   "cell_type": "code",
   "execution_count": 64,
   "metadata": {
    "collapsed": false
   },
   "outputs": [
    {
     "data": {
      "image/png": "[encoded data removed]",
      "text/plain": [
       "<matplotlib.figure.Figure at 0xbb265c0>"
      ]
     },
     "metadata": {},
     "output_type": "display_data"
    }
   ],
   "source": [
    "poll_vote_betas(155, 109, 190, 126, 'GA')"
   ]
  },
  {
   "cell_type": "code",
   "execution_count": 66,
   "metadata": {
    "collapsed": false
   },
   "outputs": [
    {
     "data": {
      "image/png": "[encoded data removed]",
      "text/plain": [
       "<matplotlib.figure.Figure at 0xbcb1e48>"
      ]
     },
     "metadata": {},
     "output_type": "display_data"
    }
   ],
   "source": [
    "poll_vote_betas(7, 5, 6, 6, 'VT')"
   ]
  },
  {
   "cell_type": "markdown",
   "metadata": {},
   "source": [
    "---\n",
    "\n",
    "## 7. [BONUS] Use bootstrapping to estimate the percent of the voting distribution greater than the polling distribution\n",
    "\n",
    "Selecting random samples from a beta distribution can be done with:\n",
    "\n",
    "```python\n",
    "from numpy.random import beta as random_beta\n",
    "```\n",
    "\n",
    "HINT: You will want to calculate the percentage of random draws from the voting distribution that are greater than all of the draws from the poll distribution."
   ]
  },
  {
   "cell_type": "code",
   "execution_count": 5,
   "metadata": {
    "collapsed": false
   },
   "outputs": [],
   "source": [
    "from numpy.random import beta as random_beta"
   ]
  },
  {
   "cell_type": "code",
   "execution_count": null,
   "metadata": {
    "collapsed": true
   },
   "outputs": [],
   "source": []
  }
 ],
 "metadata": {
  "kernelspec": {
   "display_name": "Python 2",
   "language": "python",
   "name": "python2"
  },
  "language_info": {
   "codemirror_mode": {
    "name": "ipython",
    "version": 2
   },
   "file_extension": ".py",
   "mimetype": "text/x-python",
   "name": "python",
   "nbconvert_exporter": "python",
   "pygments_lexer": "ipython2",
   "version": "2.7.11"
  }
 },
 "nbformat": 4,
 "nbformat_minor": 0
}
