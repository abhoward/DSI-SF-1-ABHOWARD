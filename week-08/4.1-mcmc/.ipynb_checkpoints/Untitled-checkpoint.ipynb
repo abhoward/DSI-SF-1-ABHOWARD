{
 "cells": [
  {
   "cell_type": "code",
   "execution_count": 4,
   "metadata": {
    "collapsed": false
   },
   "outputs": [],
   "source": [
    "import numpy as np\n",
    "import scipy.stats as stats\n",
    "import pandas as pd\n",
    "import seaborn as sns\n",
    "import matplotlib.pyplot as plt\n",
    "import matplotlib.mlab as mlab\n",
    "\n",
    "sns.set_style('white')\n",
    "%matplotlib inline"
   ]
  },
  {
   "cell_type": "code",
   "execution_count": 5,
   "metadata": {
    "collapsed": false
   },
   "outputs": [
    {
     "data": {
      "text/html": [
       "<div>\n",
       "<table border=\"1\" class=\"dataframe\">\n",
       "  <thead>\n",
       "    <tr style=\"text-align: right;\">\n",
       "      <th></th>\n",
       "      <th>airport</th>\n",
       "      <th>year</th>\n",
       "      <th>departures_for_metric_computation</th>\n",
       "      <th>arrivals_for_metric_computation</th>\n",
       "      <th>percent_on_time_gate_departures</th>\n",
       "      <th>percent_on_time_airport_departures</th>\n",
       "      <th>percent_on_time_gate_arrivals</th>\n",
       "      <th>average_gate_departure_delay</th>\n",
       "      <th>average_taxi_out_time</th>\n",
       "      <th>average_taxi_out_delay</th>\n",
       "      <th>average_airport_departure_delay</th>\n",
       "      <th>average_airborne_delay</th>\n",
       "      <th>average_taxi_in_delay</th>\n",
       "      <th>average_block_delay</th>\n",
       "      <th>average_gate_arrival_delay</th>\n",
       "    </tr>\n",
       "  </thead>\n",
       "  <tbody>\n",
       "    <tr>\n",
       "      <th>0</th>\n",
       "      <td>ABQ</td>\n",
       "      <td>2004</td>\n",
       "      <td>53971</td>\n",
       "      <td>53818</td>\n",
       "      <td>0.803</td>\n",
       "      <td>0.7809</td>\n",
       "      <td>0.7921</td>\n",
       "      <td>10.38</td>\n",
       "      <td>9.89</td>\n",
       "      <td>2.43</td>\n",
       "      <td>12.1</td>\n",
       "      <td>2.46</td>\n",
       "      <td>0.83</td>\n",
       "      <td>2.55</td>\n",
       "      <td>10.87</td>\n",
       "    </tr>\n",
       "    <tr>\n",
       "      <th>1</th>\n",
       "      <td>ABQ</td>\n",
       "      <td>2005</td>\n",
       "      <td>51829</td>\n",
       "      <td>51877</td>\n",
       "      <td>0.814</td>\n",
       "      <td>0.7922</td>\n",
       "      <td>0.8001</td>\n",
       "      <td>9.60</td>\n",
       "      <td>9.79</td>\n",
       "      <td>2.29</td>\n",
       "      <td>11.2</td>\n",
       "      <td>2.26</td>\n",
       "      <td>0.89</td>\n",
       "      <td>2.34</td>\n",
       "      <td>10.24</td>\n",
       "    </tr>\n",
       "  </tbody>\n",
       "</table>\n",
       "</div>"
      ],
      "text/plain": [
       "  airport  year  departures_for_metric_computation  \\\n",
       "0     ABQ  2004                              53971   \n",
       "1     ABQ  2005                              51829   \n",
       "\n",
       "   arrivals_for_metric_computation  percent_on_time_gate_departures  \\\n",
       "0                            53818                            0.803   \n",
       "1                            51877                            0.814   \n",
       "\n",
       "   percent_on_time_airport_departures  percent_on_time_gate_arrivals  \\\n",
       "0                              0.7809                         0.7921   \n",
       "1                              0.7922                         0.8001   \n",
       "\n",
       "   average_gate_departure_delay  average_taxi_out_time  \\\n",
       "0                         10.38                   9.89   \n",
       "1                          9.60                   9.79   \n",
       "\n",
       "   average_taxi_out_delay  average_airport_departure_delay  \\\n",
       "0                    2.43                             12.1   \n",
       "1                    2.29                             11.2   \n",
       "\n",
       "   average_airborne_delay  average_taxi_in_delay  average_block_delay  \\\n",
       "0                    2.46                   0.83                 2.55   \n",
       "1                    2.26                   0.89                 2.34   \n",
       "\n",
       "   average_gate_arrival_delay  \n",
       "0                       10.87  \n",
       "1                       10.24  "
      ]
     },
     "execution_count": 5,
     "metadata": {},
     "output_type": "execute_result"
    }
   ],
   "source": [
    "air = pd.read_csv('assets/datasets/airport_operations.csv')\n",
    "air.columns = [c.replace(' ','_').replace('-', '_') for c in air.columns]\n",
    "air.head(2)"
   ]
  },
  {
   "cell_type": "code",
   "execution_count": 13,
   "metadata": {
    "collapsed": false,
    "scrolled": true
   },
   "outputs": [
    {
     "data": {
      "image/png": "[encoded data removed]",
      "text/plain": [
       "<matplotlib.figure.Figure at 0xb83be10>"
      ]
     },
     "metadata": {},
     "output_type": "display_data"
    }
   ],
   "source": [
    "delay = air.average_airport_departure_delay.values\n",
    "\n",
    "fig = plt.figure(figsize = (9, 7))\n",
    "ax = fig.gca()\n",
    "\n",
    "ax = sns.distplot(delay, bins = 40)\n",
    "ax.axvline(mean_delay, lw = 3, ls = 'dashed', color = 'black')\n",
    "\n",
    "plt.show()"
   ]
  },
  {
   "cell_type": "code",
   "execution_count": 7,
   "metadata": {
    "collapsed": false
   },
   "outputs": [
    {
     "name": "stdout",
     "output_type": "stream",
     "text": [
      "16.2499643282\n"
     ]
    }
   ],
   "source": [
    "mean_delay = np.mean(delay)\n",
    "print mean_delay"
   ]
  },
  {
   "cell_type": "code",
   "execution_count": 8,
   "metadata": {
    "collapsed": false
   },
   "outputs": [
    {
     "name": "stdout",
     "output_type": "stream",
     "text": [
      "841\n"
     ]
    }
   ],
   "source": [
    "number_obs = len(delay)\n",
    "print number_obs"
   ]
  },
  {
   "cell_type": "code",
   "execution_count": 9,
   "metadata": {
    "collapsed": true
   },
   "outputs": [],
   "source": [
    "delay_subset = np.random.choice(delay, replace = False, size = 50)"
   ]
  },
  {
   "cell_type": "code",
   "execution_count": 10,
   "metadata": {
    "collapsed": false
   },
   "outputs": [
    {
     "data": {
      "text/plain": [
       "<matplotlib.axes._subplots.AxesSubplot at 0xb426048>"
      ]
     },
     "execution_count": 10,
     "metadata": {},
     "output_type": "execute_result"
    },
    {
     "data": {
      "image/png": "[encoded data removed]",
      "text/plain": [
       "<matplotlib.figure.Figure at 0xb4c0828>"
      ]
     },
     "metadata": {},
     "output_type": "display_data"
    }
   ],
   "source": [
    "sns.distplot(delay_subset, bins = 25)"
   ]
  },
  {
   "cell_type": "code",
   "execution_count": 18,
   "metadata": {
    "collapsed": false
   },
   "outputs": [
    {
     "data": {
      "image/png": "[encoded data removed]",
      "text/plain": [
       "<matplotlib.figure.Figure at 0xc7f50f0>"
      ]
     },
     "metadata": {},
     "output_type": "display_data"
    }
   ],
   "source": [
    "weak_prior = stats.norm(20, 10)\n",
    "strong_prior = stats.norm(20, 1)\n",
    "\n",
    "fig = plt.figure(figsize = (9, 7))\n",
    "ax = fig.gca()\n",
    "\n",
    "minute_range = np.linspace(5, 35, 30*200)\n",
    "\n",
    "weak_pdf = weak_prior.pdf(minute_range)\n",
    "strong_pdf = strong_prior.pdf(minute_range)\n",
    "\n",
    "ax.plot(minute_range, weak_pdf, color = 'steelblue', lw = 4)\n",
    "ax.plot(minute_range, strong_pdf, color = 'darkred', lw = 4)\n",
    "\n",
    "plt.show()"
   ]
  },
  {
   "cell_type": "code",
   "execution_count": 40,
   "metadata": {
    "collapsed": false
   },
   "outputs": [],
   "source": [
    "# likelihood:\n",
    "# P(data | P(statistic))\n",
    "# here statistic is just going to be the mean delay, the statistic we are measuring\n",
    "# P(statistic) is our prior belief about what the distribution of mean delays are\n",
    "# data is our observed flight delays\n",
    "\n",
    "# prior_distribution is the distribution form of our beliefs about delays\n",
    "# prior_std is the standard deviation (scale) of that prior belief distribution\n",
    "def log_likelihood(data, statistic, prior_distribution, prior_std):\n",
    "    prior = prior_distribution(statistic, prior_std)\n",
    "    loglike = prior.logpdf(data)\n",
    "    return loglike\n",
    "\n",
    "# just the non-log version of the above (for your reference)\n",
    "def likelihood(data, statistic, prior_distribution, prior_std):\n",
    "    prior = prior_distribution(statistic, prior_std)\n",
    "    like = prior.pdf(data)\n",
    "    return like\n",
    "\n",
    "# get log pdf for single means, given a prior statistic (mean) and standard deviation\n",
    "def prior_logpdf(statistic, prior_distribution, prior_statistic, prior_std):\n",
    "    prior = prior_distribution(prior_statistic, prior_std)\n",
    "    statistic_logpdf = prior.logpdf(statistic)"
   ]
  },
  {
   "cell_type": "code",
   "execution_count": 36,
   "metadata": {
    "collapsed": false
   },
   "outputs": [
    {
     "name": "stdout",
     "output_type": "stream",
     "text": [
      "6.41954188457e-76\n"
     ]
    }
   ],
   "source": [
    "# to convert log likelihood to normal likelihood just use np.exp()\n",
    "delay_loglikes = log_likelihood(delay_subset, 20, stats.norm, 10)\n",
    "delay_likes = likelihood(delay_subset, 20, stats.norm, 10)\n",
    "\n",
    "delay_likelihood_weakprior = np.exp(delay_loglikes)\n",
    "weak_likelihood = np.prod(delay_likes)\n",
    "print weak_likelihood"
   ]
  },
  {
   "cell_type": "code",
   "execution_count": 39,
   "metadata": {
    "collapsed": false
   },
   "outputs": [
    {
     "name": "stdout",
     "output_type": "stream",
     "text": [
      "0.0\n"
     ]
    }
   ],
   "source": [
    "strong_loglikes = log_likelihood(delay_subset, 20, stats.norm, 1)\n",
    "\n",
    "strong_likelihood = np.prod(np.exp(strong_loglikes))\n",
    "print strong_likelihood"
   ]
  },
  {
   "cell_type": "code",
   "execution_count": 38,
   "metadata": {
    "collapsed": false
   },
   "outputs": [
    {
     "data": {
      "image/png": "[encoded data removed]",
      "text/plain": [
       "<matplotlib.figure.Figure at 0xda24048>"
      ]
     },
     "metadata": {},
     "output_type": "display_data"
    }
   ],
   "source": [
    "plt.figure(figsize = (7, 6))\n",
    "\n",
    "plt.scatter(delay_subset, delay_likelihood_weakprior, color = 'steelblue', s = 50)\n",
    "\n",
    "plt.show()"
   ]
  },
  {
   "cell_type": "code",
   "execution_count": null,
   "metadata": {
    "collapsed": true
   },
   "outputs": [],
   "source": [
    "def metropolis_sampler(data, statistic, prior_distribution, prior_statistic, prior_std,\n",
    "                      proposal_distribution, proposal_avg_step):\n",
    "    \n",
    "    current_loglike = log_likelihood(data, statistic, prior_distribution, prior_std)\n",
    "    current_prior = prior_logpdf(statistic, prior_distribution, prior_statistic, prior_std)\n",
    "    "
   ]
  },
  {
   "cell_type": "code",
   "execution_count": null,
   "metadata": {
    "collapsed": true
   },
   "outputs": [],
   "source": [
    "def markov_chain_monte_carlo(data, initial_statistic,\n",
    "                             prior_distribution, prior_statistic, prior_std,\n",
    "                             proposal_distribution, proposal_avg_step,\n",
    "                             iterations=1000):\n",
    "    \n",
    "    statistic_posterior = [initial_statistic]\n",
    "    \n",
    "    current_statistic = initial_statistic\n",
    "    \n",
    "    for i in range(iterations):\n",
    "        \n",
    "        current_statistic = metropolis_sampler()\n",
    "        \n",
    "        statistic_posterior.append(current_statistic)\n",
    "        \n",
    "    return statistic_posterior"
   ]
  }
 ],
 "metadata": {
  "kernelspec": {
   "display_name": "Python 2",
   "language": "python",
   "name": "python2"
  },
  "language_info": {
   "codemirror_mode": {
    "name": "ipython",
    "version": 2
   },
   "file_extension": ".py",
   "mimetype": "text/x-python",
   "name": "python",
   "nbconvert_exporter": "python",
   "pygments_lexer": "ipython2",
   "version": "2.7.11"
  }
 },
 "nbformat": 4,
 "nbformat_minor": 0
}
