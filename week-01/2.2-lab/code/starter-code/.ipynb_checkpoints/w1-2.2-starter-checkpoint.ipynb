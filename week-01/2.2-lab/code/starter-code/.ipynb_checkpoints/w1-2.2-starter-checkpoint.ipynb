{
 "cells": [
  {
   "cell_type": "code",
   "execution_count": 7,
   "metadata": {
    "collapsed": false
   },
   "outputs": [
    {
     "name": "stdout",
     "output_type": "stream",
     "text": [
      "1\n",
      "4\n",
      "9\n",
      "16\n",
      "25\n"
     ]
    }
   ],
   "source": [
    "# write a function with one argument. Find the area of a square. \n",
    "def areaSquare(side): \n",
    "    area = side ** 2\n",
    "    return area\n",
    "\n",
    "squares = [1, 2, 3, 4, 5]\n",
    "for square in squares:\n",
    "    area = areaSquare(square)\n",
    "    print area"
   ]
  },
  {
   "cell_type": "code",
   "execution_count": 9,
   "metadata": {
    "collapsed": false
   },
   "outputs": [
    {
     "name": "stdout",
     "output_type": "stream",
     "text": [
      "1\n",
      "2\n",
      "2\n",
      "4\n"
     ]
    }
   ],
   "source": [
    "# write a function with two arguments. Find the area of a rectangle. \n",
    "def areaRect(length,breadth):\n",
    "    area = length * breadth\n",
    "    return area\n",
    "\n",
    "rectangles = [(1, 1), (1, 2), (2, 1), (2, 2)]\n",
    "for rectangle in rectangles:\n",
    "    area = areaRect(rectangle[0], rectangle[1])\n",
    "    print area"
   ]
  },
  {
   "cell_type": "code",
   "execution_count": 10,
   "metadata": {
    "collapsed": false
   },
   "outputs": [
    {
     "name": "stdout",
     "output_type": "stream",
     "text": [
      "6\n",
      "10\n",
      "16\n",
      "22\n"
     ]
    }
   ],
   "source": [
    "# write a function with three arguments. Find the surface area of cuboid.\n",
    "def surfaceAreaCuboid(length,breadth,height): \n",
    "    area=2*(length*breadth+breadth*height+length*height)\n",
    "    return area\n",
    "\n",
    "cuboids = [(1, 1, 1), (1, 2, 1), (1, 2, 2), (1, 2, 3)]\n",
    "for cuboid in cuboids:\n",
    "    surfacearea = surfaceAreaCuboid(cuboid[0], cuboid[1], cuboid[2])\n",
    "    print surfacearea"
   ]
  },
  {
   "cell_type": "code",
   "execution_count": null,
   "metadata": {
    "collapsed": true
   },
   "outputs": [],
   "source": []
  }
 ],
 "metadata": {
  "kernelspec": {
   "display_name": "Python 2",
   "language": "python",
   "name": "python2"
  },
  "language_info": {
   "codemirror_mode": {
    "name": "ipython",
    "version": 2
   },
   "file_extension": ".py",
   "mimetype": "text/x-python",
   "name": "python",
   "nbconvert_exporter": "python",
   "pygments_lexer": "ipython2",
   "version": "2.7.11"
  }
 },
 "nbformat": 4,
 "nbformat_minor": 0
}
