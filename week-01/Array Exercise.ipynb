{
 "cells": [
  {
   "cell_type": "code",
   "execution_count": 31,
   "metadata": {
    "collapsed": true
   },
   "outputs": [],
   "source": [
    "import numpy as np"
   ]
  },
  {
   "cell_type": "code",
   "execution_count": 45,
   "metadata": {
    "collapsed": false
   },
   "outputs": [
    {
     "data": {
      "text/plain": [
       "array([5, 5, 5, 5])"
      ]
     },
     "execution_count": 45,
     "metadata": {},
     "output_type": "execute_result"
    }
   ],
   "source": [
    "vector = np.array([1,2,3,4])\n",
    "vector2 = np.array([4,3,2,1])\n",
    "\n",
    "np.add(vector, vector2)"
   ]
  },
  {
   "cell_type": "code",
   "execution_count": 33,
   "metadata": {
    "collapsed": false
   },
   "outputs": [
    {
     "data": {
      "text/plain": [
       "(4,)"
      ]
     },
     "execution_count": 33,
     "metadata": {},
     "output_type": "execute_result"
    }
   ],
   "source": [
    "vector.shape"
   ]
  },
  {
   "cell_type": "code",
   "execution_count": 40,
   "metadata": {
    "collapsed": false
   },
   "outputs": [
    {
     "name": "stdout",
     "output_type": "stream",
     "text": [
      "[[1 2 3]\n",
      " [4 5 6]\n",
      " [7 8 9]]\n"
     ]
    },
    {
     "data": {
      "text/plain": [
       "(3, 3)"
      ]
     },
     "execution_count": 40,
     "metadata": {},
     "output_type": "execute_result"
    }
   ],
   "source": [
    "matrix = np.array([[1, 2, 3],  [4, 5, 6], [7, 8, 9]])\n",
    "\n",
    "print matrix\n",
    "\n",
    "matrix.shape"
   ]
  },
  {
   "cell_type": "code",
   "execution_count": 41,
   "metadata": {
    "collapsed": false
   },
   "outputs": [
    {
     "name": "stdout",
     "output_type": "stream",
     "text": [
      "[[ 1  2  3  4  5  6  7  8]\n",
      " [ 8  7  6  5  4  3  2  1]\n",
      " [ 0  2  4  6  8 10 12 14]\n",
      " [ 1  3  5  7  9 11 13 15]]\n"
     ]
    },
    {
     "data": {
      "text/plain": [
       "(4, 8)"
      ]
     },
     "execution_count": 41,
     "metadata": {},
     "output_type": "execute_result"
    }
   ],
   "source": [
    "array = np.array([[1, 2, 3, 4, 5, 6, 7, 8], \n",
    "                  [8, 7, 6, 5, 4, 3, 2, 1], \n",
    "                  [0, 2, 4, 6, 8, 10, 12, 14], \n",
    "                  [1, 3, 5, 7, 9, 11, 13, 15]])\n",
    "print array\n",
    "\n",
    "array.shape"
   ]
  },
  {
   "cell_type": "code",
   "execution_count": 46,
   "metadata": {
    "collapsed": false
   },
   "outputs": [
    {
     "data": {
      "text/plain": [
       "array([-5, -3, -1,  1,  3,  5])"
      ]
     },
     "execution_count": 46,
     "metadata": {},
     "output_type": "execute_result"
    }
   ],
   "source": [
    "a = [1, 2, 3, 4, 5, 6]\n",
    "b = [-6, -5, -4, -3, -2, -1]\n",
    "\n",
    "np.add(a, b)"
   ]
  },
  {
   "cell_type": "code",
   "execution_count": 47,
   "metadata": {
    "collapsed": false
   },
   "outputs": [
    {
     "data": {
      "text/plain": [
       "array([ 5,  3,  1, -1, -3, -5])"
      ]
     },
     "execution_count": 47,
     "metadata": {},
     "output_type": "execute_result"
    }
   ],
   "source": [
    "c = [-1, -2, -3, -4, -5, -6]\n",
    "d = [-6, -5, -4, -3, -2, -1]\n",
    "\n",
    "np.subtract(c, d)"
   ]
  },
  {
   "cell_type": "code",
   "execution_count": 48,
   "metadata": {
    "collapsed": false
   },
   "outputs": [
    {
     "data": {
      "text/plain": [
       "array([ 702.       , -300.33     ,  146.22     , -426.3000003,\n",
       "          7.3234   ,   -4.234    ])"
      ]
     },
     "execution_count": 48,
     "metadata": {},
     "output_type": "execute_result"
    }
   ],
   "source": [
    "e = [101, 201, 33.22, -423, 5.3234, -6.234]\n",
    "f = [-601, 501.33, -113, 3.3000003, -2, -1.999999999999999]\n",
    "\n",
    "np.subtract(e, f)"
   ]
  },
  {
   "cell_type": "code",
   "execution_count": 93,
   "metadata": {
    "collapsed": false
   },
   "outputs": [
    {
     "name": "stdout",
     "output_type": "stream",
     "text": [
      "[-101.     -201.      -33.22    423.       -5.3234  -34.    ]\n",
      "['601' '-501.33' '113' '-3.3000003' 'l' '11.0']\n"
     ]
    }
   ],
   "source": [
    "g = np.array([-101, -201, -33.22, 423, -5.3234, -34])\n",
    "h = np.array([601, -501.33, 113, -3.3000003, 'l', 10.999999999999999])\n",
    "\n",
    "print h"
   ]
  },
  {
   "cell_type": "code",
   "execution_count": 97,
   "metadata": {
    "collapsed": false
   },
   "outputs": [
    {
     "name": "stdout",
     "output_type": "stream",
     "text": [
      "[601, -501.33, 113, -3.3000003, 0, 10.999999999999998]\n"
     ]
    }
   ],
   "source": [
    "g = [-101, -201, -33.22, 423, -5.3234, -34]\n",
    "h = [601, -501.33, 113, -3.3000003, 'l', 10.999999999999999]\n",
    "\n",
    "for i in range(len(h)):\n",
    "    if type(h[i]) == str:\n",
    "        h[i] = 0\n",
    "\n",
    "print h"
   ]
  },
  {
   "cell_type": "code",
   "execution_count": 53,
   "metadata": {
    "collapsed": false
   },
   "outputs": [
    {
     "data": {
      "text/plain": [
       "4"
      ]
     },
     "execution_count": 53,
     "metadata": {},
     "output_type": "execute_result"
    }
   ],
   "source": [
    "x = [1, 2]\n",
    "y = [2, 1]\n",
    "\n",
    "np.dot(x, y)"
   ]
  },
  {
   "cell_type": "code",
   "execution_count": 77,
   "metadata": {
    "collapsed": false
   },
   "outputs": [
    {
     "name": "stdout",
     "output_type": "stream",
     "text": [
      "[ 1  5 11 19 30 44]\n",
      "[ -1  -3  -7 -13 -20 -28]\n",
      "483\n",
      "[[[0 1 2]\n",
      "  [1 2 3]]\n",
      "\n",
      " [[2 1 0]\n",
      "  [3 2 1]]]\n",
      "[[[[[[1, 2] [2, 1]]\n",
      "    [[0, 1] [1, 0]]]\n",
      "\n",
      "   [[1 2]\n",
      "    [2 1]]\n",
      "\n",
      "   [[0 1]\n",
      "    [1 0]]]\n",
      "\n",
      "\n",
      "  [[[[1, 2] [2, 1]]\n",
      "    [[0, 1] [1, 0]]]\n",
      "\n",
      "   [[1 2]\n",
      "    [2 1]]\n",
      "\n",
      "   [[0 1]\n",
      "    [1 0]]]]]\n",
      "(2, 2, 3)\n",
      "(1, 2, 3, 2, 2)\n"
     ]
    }
   ],
   "source": [
    "array1 = np.array([0, 1, 2, 3, 5, 8])\n",
    "array2 = np.array([1, 4, 9, 16, 25, 36])\n",
    "\n",
    "print np.add(array1, array2)\n",
    "print np.subtract(array1, array2)\n",
    "print np.dot(array1, array2)\n",
    "\n",
    "array_3d = np.array([[[0,1,2],[1,2,3]],[[2,1,0],[3,2,1]]])\n",
    "array_5d = np.array([[[[[[1,2],[2,1]],[[0,1],[1,0]]],[[1,2],[2,1]],[[0,1],[1,0]]],\n",
    "                     [[[[1,2],[2,1]],[[0,1],[1,0]]],[[1,2],[2,1]],[[0,1],[1,0]]]]])\n",
    "\n",
    "print array_3d\n",
    "\n",
    "print array_5d\n",
    "\n",
    "print array_3d.shape\n",
    "print array_5d.shape"
   ]
  },
  {
   "cell_type": "code",
   "execution_count": null,
   "metadata": {
    "collapsed": true
   },
   "outputs": [],
   "source": []
  }
 ],
 "metadata": {
  "kernelspec": {
   "display_name": "Python 2",
   "language": "python",
   "name": "python2"
  },
  "language_info": {
   "codemirror_mode": {
    "name": "ipython",
    "version": 2
   },
   "file_extension": ".py",
   "mimetype": "text/x-python",
   "name": "python",
   "nbconvert_exporter": "python",
   "pygments_lexer": "ipython2",
   "version": "2.7.11"
  }
 },
 "nbformat": 4,
 "nbformat_minor": 0
}
