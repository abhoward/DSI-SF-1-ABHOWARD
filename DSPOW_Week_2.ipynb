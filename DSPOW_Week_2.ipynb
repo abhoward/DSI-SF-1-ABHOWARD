{
 "cells": [
  {
   "cell_type": "markdown",
   "metadata": {},
   "source": [
    "Data Structures Problem of the Week:\n",
    "\n",
    "Add commas appropriately into a number (i.e. 1000000 -> 1,000,000)\n",
    "\n",
    "Steps:\n",
    "    1. Psuedo Code: Write a general workflow of how you would solve the problem,\n",
    "    2. Brute Force: Write any kind of code that will solve the problem.\n",
    "    3. Str/Built-in functions only: Only use if/for loops.\n",
    "    4. List Comprehensions: Solve the problem using only list comprehensions."
   ]
  },
  {
   "cell_type": "markdown",
   "metadata": {},
   "source": [
    "    1. Pseudo Code:"
   ]
  },
  {
   "cell_type": "markdown",
   "metadata": {},
   "source": [
    "a. Ask the user for a number (without commas).\n",
    "\n",
    "b. Define a function that will take the user's number and iterate through each number backwards.\n",
    "\n",
    "c. For each third number, add a comma. Return the result into a new variable.\n",
    "\n",
    "d. Print this variable."
   ]
  },
  {
   "cell_type": "markdown",
   "metadata": {},
   "source": [
    "    3. Str/Built-in Function:"
   ]
  },
  {
   "cell_type": "code",
   "execution_count": 39,
   "metadata": {
    "collapsed": false
   },
   "outputs": [
    {
     "name": "stdout",
     "output_type": "stream",
     "text": [
      "Enter a number without commas here: 1000000\n",
      "1,000,000\n"
     ]
    }
   ],
   "source": [
    "number = raw_input('Enter a number without commas here: ')\n",
    "\n",
    "count = 0\n",
    "list = []\n",
    "for i in number[::-1]:\n",
    "    count += 1\n",
    "    list.append(i)\n",
    "    if (count % 3 == 0) & (count != len(number)):\n",
    "        list.append(',')\n",
    "\n",
    "print ''.join(list[::-1])"
   ]
  },
  {
   "cell_type": "markdown",
   "metadata": {
    "collapsed": true
   },
   "source": [
    "    4. List Comprehensions:"
   ]
  },
  {
   "cell_type": "code",
   "execution_count": 38,
   "metadata": {
    "collapsed": false
   },
   "outputs": [
    {
     "ename": "TypeError",
     "evalue": "'int' object is not iterable",
     "output_type": "error",
     "traceback": [
      "\u001b[1;31m---------------------------------------------------------------------------\u001b[0m",
      "\u001b[1;31mTypeError\u001b[0m                                 Traceback (most recent call last)",
      "\u001b[1;32m<ipython-input-38-000ecca013a3>\u001b[0m in \u001b[0;36m<module>\u001b[1;34m()\u001b[0m\n\u001b[0;32m      7\u001b[0m \u001b[0mnumber\u001b[0m \u001b[1;33m=\u001b[0m \u001b[1;36m1000000\u001b[0m\u001b[1;33m\u001b[0m\u001b[0m\n\u001b[0;32m      8\u001b[0m \u001b[1;33m\u001b[0m\u001b[0m\n\u001b[1;32m----> 9\u001b[1;33m \u001b[1;33m[\u001b[0m\u001b[0mlist\u001b[0m\u001b[1;33m.\u001b[0m\u001b[0mappend\u001b[0m\u001b[1;33m(\u001b[0m\u001b[0mi\u001b[0m\u001b[1;33m)\u001b[0m \u001b[1;32mfor\u001b[0m \u001b[0mi\u001b[0m \u001b[1;32min\u001b[0m \u001b[0mnumber\u001b[0m\u001b[1;33m]\u001b[0m\u001b[1;33m\u001b[0m\u001b[0m\n\u001b[0m\u001b[0;32m     10\u001b[0m \u001b[1;33m\u001b[0m\u001b[0m\n\u001b[0;32m     11\u001b[0m \u001b[1;31m# [c + 1 and list.append(',') if c % 3 == 0 [list.append(i) for c, i in enumerate(number[::-1])]]\u001b[0m\u001b[1;33m\u001b[0m\u001b[1;33m\u001b[0m\u001b[0m\n",
      "\u001b[1;31mTypeError\u001b[0m: 'int' object is not iterable"
     ]
    }
   ],
   "source": [
    "# number = raw_input('Enter a number without commas here: ')\n",
    "\n",
    "list = []\n",
    "# c = 0\n",
    "# [list.append(',') for c in [c + 1 for a in range(len([list.append(i) for i in number]))] if c % 3 == 0]\n",
    "\n",
    "number = 1000000\n",
    "\n",
    "[list.append(i) for i in number]\n",
    "\n",
    "# [c + 1 and list.append(',') if c % 3 == 0 [list.append(i) for c, i in enumerate(number[::-1])]]\n",
    "# print list[::-1]"
   ]
  },
  {
   "cell_type": "code",
   "execution_count": null,
   "metadata": {
    "collapsed": true
   },
   "outputs": [],
   "source": []
  }
 ],
 "metadata": {
  "kernelspec": {
   "display_name": "Python 2",
   "language": "python",
   "name": "python2"
  },
  "language_info": {
   "codemirror_mode": {
    "name": "ipython",
    "version": 2
   },
   "file_extension": ".py",
   "mimetype": "text/x-python",
   "name": "python",
   "nbconvert_exporter": "python",
   "pygments_lexer": "ipython2",
   "version": "2.7.11"
  }
 },
 "nbformat": 4,
 "nbformat_minor": 0
}
