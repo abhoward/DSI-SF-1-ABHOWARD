{
 "cells": [
  {
   "cell_type": "code",
   "execution_count": 1,
   "metadata": {
    "collapsed": true
   },
   "outputs": [],
   "source": [
    "import pandas as pd\n",
    "import numpy as np\n",
    "import os\n",
    "from matplotlib import pyplot as plt\n",
    "import numpy as np\n",
    "import math\n",
    "from sklearn.preprocessing import StandardScaler\n",
    "from sklearn.decomposition import PCA \n",
    "\n",
    "votes_file = '../assets/datasets/votes.csv'\n",
    "airport_file = '../assets/datasets/Airport_operations.csv'"
   ]
  },
  {
   "cell_type": "markdown",
   "metadata": {},
   "source": [
    "# Case #1: Congressional Voting Data"
   ]
  },
  {
   "cell_type": "markdown",
   "metadata": {},
   "source": [
    "After you've downloaded the data from the repository, go ahead and load it with Pandas"
   ]
  },
  {
   "cell_type": "code",
   "execution_count": 2,
   "metadata": {
    "collapsed": false
   },
   "outputs": [
    {
     "data": {
      "text/html": [
       "<div>\n",
       "<table border=\"1\" class=\"dataframe\">\n",
       "  <thead>\n",
       "    <tr style=\"text-align: right;\">\n",
       "      <th></th>\n",
       "      <th>Unnamed: 0</th>\n",
       "      <th>Class</th>\n",
       "      <th>V1</th>\n",
       "      <th>V2</th>\n",
       "      <th>V3</th>\n",
       "      <th>V4</th>\n",
       "      <th>V5</th>\n",
       "      <th>V6</th>\n",
       "      <th>V7</th>\n",
       "      <th>V8</th>\n",
       "      <th>V9</th>\n",
       "      <th>V10</th>\n",
       "      <th>V11</th>\n",
       "      <th>V12</th>\n",
       "      <th>V13</th>\n",
       "      <th>V14</th>\n",
       "      <th>V15</th>\n",
       "      <th>V16</th>\n",
       "    </tr>\n",
       "  </thead>\n",
       "  <tbody>\n",
       "    <tr>\n",
       "      <th>0</th>\n",
       "      <td>1</td>\n",
       "      <td>republican</td>\n",
       "      <td>n</td>\n",
       "      <td>y</td>\n",
       "      <td>n</td>\n",
       "      <td>y</td>\n",
       "      <td>y</td>\n",
       "      <td>y</td>\n",
       "      <td>n</td>\n",
       "      <td>n</td>\n",
       "      <td>n</td>\n",
       "      <td>y</td>\n",
       "      <td>NaN</td>\n",
       "      <td>y</td>\n",
       "      <td>y</td>\n",
       "      <td>y</td>\n",
       "      <td>n</td>\n",
       "      <td>y</td>\n",
       "    </tr>\n",
       "    <tr>\n",
       "      <th>1</th>\n",
       "      <td>2</td>\n",
       "      <td>republican</td>\n",
       "      <td>n</td>\n",
       "      <td>y</td>\n",
       "      <td>n</td>\n",
       "      <td>y</td>\n",
       "      <td>y</td>\n",
       "      <td>y</td>\n",
       "      <td>n</td>\n",
       "      <td>n</td>\n",
       "      <td>n</td>\n",
       "      <td>n</td>\n",
       "      <td>n</td>\n",
       "      <td>y</td>\n",
       "      <td>y</td>\n",
       "      <td>y</td>\n",
       "      <td>n</td>\n",
       "      <td>NaN</td>\n",
       "    </tr>\n",
       "    <tr>\n",
       "      <th>2</th>\n",
       "      <td>3</td>\n",
       "      <td>democrat</td>\n",
       "      <td>NaN</td>\n",
       "      <td>y</td>\n",
       "      <td>y</td>\n",
       "      <td>NaN</td>\n",
       "      <td>y</td>\n",
       "      <td>y</td>\n",
       "      <td>n</td>\n",
       "      <td>n</td>\n",
       "      <td>n</td>\n",
       "      <td>n</td>\n",
       "      <td>y</td>\n",
       "      <td>n</td>\n",
       "      <td>y</td>\n",
       "      <td>y</td>\n",
       "      <td>n</td>\n",
       "      <td>n</td>\n",
       "    </tr>\n",
       "    <tr>\n",
       "      <th>3</th>\n",
       "      <td>4</td>\n",
       "      <td>democrat</td>\n",
       "      <td>n</td>\n",
       "      <td>y</td>\n",
       "      <td>y</td>\n",
       "      <td>n</td>\n",
       "      <td>NaN</td>\n",
       "      <td>y</td>\n",
       "      <td>n</td>\n",
       "      <td>n</td>\n",
       "      <td>n</td>\n",
       "      <td>n</td>\n",
       "      <td>y</td>\n",
       "      <td>n</td>\n",
       "      <td>y</td>\n",
       "      <td>n</td>\n",
       "      <td>n</td>\n",
       "      <td>y</td>\n",
       "    </tr>\n",
       "    <tr>\n",
       "      <th>4</th>\n",
       "      <td>5</td>\n",
       "      <td>democrat</td>\n",
       "      <td>y</td>\n",
       "      <td>y</td>\n",
       "      <td>y</td>\n",
       "      <td>n</td>\n",
       "      <td>y</td>\n",
       "      <td>y</td>\n",
       "      <td>n</td>\n",
       "      <td>n</td>\n",
       "      <td>n</td>\n",
       "      <td>n</td>\n",
       "      <td>y</td>\n",
       "      <td>NaN</td>\n",
       "      <td>y</td>\n",
       "      <td>y</td>\n",
       "      <td>y</td>\n",
       "      <td>y</td>\n",
       "    </tr>\n",
       "  </tbody>\n",
       "</table>\n",
       "</div>"
      ],
      "text/plain": [
       "   Unnamed: 0       Class   V1 V2 V3   V4   V5 V6 V7 V8 V9 V10  V11  V12 V13  \\\n",
       "0           1  republican    n  y  n    y    y  y  n  n  n   y  NaN    y   y   \n",
       "1           2  republican    n  y  n    y    y  y  n  n  n   n    n    y   y   \n",
       "2           3    democrat  NaN  y  y  NaN    y  y  n  n  n   n    y    n   y   \n",
       "3           4    democrat    n  y  y    n  NaN  y  n  n  n   n    y    n   y   \n",
       "4           5    democrat    y  y  y    n    y  y  n  n  n   n    y  NaN   y   \n",
       "\n",
       "  V14 V15  V16  \n",
       "0   y   n    y  \n",
       "1   y   n  NaN  \n",
       "2   y   n    n  \n",
       "3   n   n    y  \n",
       "4   y   y    y  "
      ]
     },
     "execution_count": 2,
     "metadata": {},
     "output_type": "execute_result"
    }
   ],
   "source": [
    "votes = pd.read_csv(votes_file)\n",
    "votes.head()"
   ]
  },
  {
   "cell_type": "markdown",
   "metadata": {},
   "source": [
    "Next, let's define the x and y variables: "
   ]
  },
  {
   "cell_type": "code",
   "execution_count": 3,
   "metadata": {
    "collapsed": false
   },
   "outputs": [
    {
     "data": {
      "text/html": [
       "<div>\n",
       "<table border=\"1\" class=\"dataframe\">\n",
       "  <thead>\n",
       "    <tr style=\"text-align: right;\">\n",
       "      <th></th>\n",
       "      <th>Class</th>\n",
       "      <th>V1</th>\n",
       "      <th>V2</th>\n",
       "      <th>V3</th>\n",
       "      <th>V4</th>\n",
       "      <th>V5</th>\n",
       "      <th>V6</th>\n",
       "      <th>V7</th>\n",
       "      <th>V8</th>\n",
       "      <th>V9</th>\n",
       "      <th>V10</th>\n",
       "      <th>V11</th>\n",
       "      <th>V12</th>\n",
       "      <th>V13</th>\n",
       "      <th>V14</th>\n",
       "      <th>V15</th>\n",
       "      <th>V16</th>\n",
       "    </tr>\n",
       "  </thead>\n",
       "  <tbody>\n",
       "    <tr>\n",
       "      <th>0</th>\n",
       "      <td>republican</td>\n",
       "      <td>n</td>\n",
       "      <td>y</td>\n",
       "      <td>n</td>\n",
       "      <td>y</td>\n",
       "      <td>y</td>\n",
       "      <td>y</td>\n",
       "      <td>n</td>\n",
       "      <td>n</td>\n",
       "      <td>n</td>\n",
       "      <td>y</td>\n",
       "      <td>NaN</td>\n",
       "      <td>y</td>\n",
       "      <td>y</td>\n",
       "      <td>y</td>\n",
       "      <td>n</td>\n",
       "      <td>y</td>\n",
       "    </tr>\n",
       "    <tr>\n",
       "      <th>1</th>\n",
       "      <td>republican</td>\n",
       "      <td>n</td>\n",
       "      <td>y</td>\n",
       "      <td>n</td>\n",
       "      <td>y</td>\n",
       "      <td>y</td>\n",
       "      <td>y</td>\n",
       "      <td>n</td>\n",
       "      <td>n</td>\n",
       "      <td>n</td>\n",
       "      <td>n</td>\n",
       "      <td>n</td>\n",
       "      <td>y</td>\n",
       "      <td>y</td>\n",
       "      <td>y</td>\n",
       "      <td>n</td>\n",
       "      <td>NaN</td>\n",
       "    </tr>\n",
       "  </tbody>\n",
       "</table>\n",
       "</div>"
      ],
      "text/plain": [
       "        Class V1 V2 V3 V4 V5 V6 V7 V8 V9 V10  V11 V12 V13 V14 V15  V16\n",
       "0  republican  n  y  n  y  y  y  n  n  n   y  NaN   y   y   y   n    y\n",
       "1  republican  n  y  n  y  y  y  n  n  n   n    n   y   y   y   n  NaN"
      ]
     },
     "execution_count": 3,
     "metadata": {},
     "output_type": "execute_result"
    }
   ],
   "source": [
    "votes = votes.ix[:, 1:]\n",
    "votes.head(2)"
   ]
  },
  {
   "cell_type": "code",
   "execution_count": 4,
   "metadata": {
    "collapsed": false
   },
   "outputs": [
    {
     "name": "stdout",
     "output_type": "stream",
     "text": [
      "[0, 0, 1, 1, 1, 1, 1, 0, 0, 1]\n"
     ]
    }
   ],
   "source": [
    "Y = [1 if x == 'democrat' else 0 for x in votes.Class.values]\n",
    "print Y[0:10]"
   ]
  },
  {
   "cell_type": "code",
   "execution_count": 5,
   "metadata": {
    "collapsed": false
   },
   "outputs": [
    {
     "data": {
      "text/html": [
       "<div>\n",
       "<table border=\"1\" class=\"dataframe\">\n",
       "  <thead>\n",
       "    <tr style=\"text-align: right;\">\n",
       "      <th></th>\n",
       "      <th>V1</th>\n",
       "      <th>V2</th>\n",
       "      <th>V3</th>\n",
       "      <th>V4</th>\n",
       "      <th>V5</th>\n",
       "      <th>V6</th>\n",
       "      <th>V7</th>\n",
       "      <th>V8</th>\n",
       "      <th>V9</th>\n",
       "      <th>V10</th>\n",
       "      <th>V11</th>\n",
       "      <th>V12</th>\n",
       "      <th>V13</th>\n",
       "      <th>V14</th>\n",
       "      <th>V15</th>\n",
       "      <th>V16</th>\n",
       "    </tr>\n",
       "  </thead>\n",
       "  <tbody>\n",
       "    <tr>\n",
       "      <th>0</th>\n",
       "      <td>n</td>\n",
       "      <td>y</td>\n",
       "      <td>n</td>\n",
       "      <td>y</td>\n",
       "      <td>y</td>\n",
       "      <td>y</td>\n",
       "      <td>n</td>\n",
       "      <td>n</td>\n",
       "      <td>n</td>\n",
       "      <td>y</td>\n",
       "      <td>NaN</td>\n",
       "      <td>y</td>\n",
       "      <td>y</td>\n",
       "      <td>y</td>\n",
       "      <td>n</td>\n",
       "      <td>y</td>\n",
       "    </tr>\n",
       "    <tr>\n",
       "      <th>1</th>\n",
       "      <td>n</td>\n",
       "      <td>y</td>\n",
       "      <td>n</td>\n",
       "      <td>y</td>\n",
       "      <td>y</td>\n",
       "      <td>y</td>\n",
       "      <td>n</td>\n",
       "      <td>n</td>\n",
       "      <td>n</td>\n",
       "      <td>n</td>\n",
       "      <td>n</td>\n",
       "      <td>y</td>\n",
       "      <td>y</td>\n",
       "      <td>y</td>\n",
       "      <td>n</td>\n",
       "      <td>NaN</td>\n",
       "    </tr>\n",
       "  </tbody>\n",
       "</table>\n",
       "</div>"
      ],
      "text/plain": [
       "  V1 V2 V3 V4 V5 V6 V7 V8 V9 V10  V11 V12 V13 V14 V15  V16\n",
       "0  n  y  n  y  y  y  n  n  n   y  NaN   y   y   y   n    y\n",
       "1  n  y  n  y  y  y  n  n  n   n    n   y   y   y   n  NaN"
      ]
     },
     "execution_count": 5,
     "metadata": {},
     "output_type": "execute_result"
    }
   ],
   "source": [
    "Xvote = votes.iloc[:, 1:]\n",
    "Xvote.head(2)"
   ]
  },
  {
   "cell_type": "code",
   "execution_count": 6,
   "metadata": {
    "collapsed": false
   },
   "outputs": [
    {
     "data": {
      "text/plain": [
       "V1      12\n",
       "V2      48\n",
       "V3      11\n",
       "V4      11\n",
       "V5      15\n",
       "V6      11\n",
       "V7      14\n",
       "V8      15\n",
       "V9      22\n",
       "V10      7\n",
       "V11     21\n",
       "V12     31\n",
       "V13     25\n",
       "V14     17\n",
       "V15     28\n",
       "V16    104\n",
       "dtype: int64"
      ]
     },
     "execution_count": 6,
     "metadata": {},
     "output_type": "execute_result"
    }
   ],
   "source": [
    "Xvote.isnull().sum()"
   ]
  },
  {
   "cell_type": "code",
   "execution_count": 10,
   "metadata": {
    "collapsed": false,
    "scrolled": true
   },
   "outputs": [
    {
     "name": "stderr",
     "output_type": "stream",
     "text": [
      "C:\\Anaconda2\\lib\\site-packages\\pandas\\core\\indexing.py:545: SettingWithCopyWarning: \n",
      "A value is trying to be set on a copy of a slice from a DataFrame.\n",
      "Try using .loc[row_indexer,col_indexer] = value instead\n",
      "\n",
      "See the caveats in the documentation: http://pandas.pydata.org/pandas-docs/stable/indexing.html#indexing-view-versus-copy\n",
      "  self.obj[item_labels[indexer[info_axis]]] = value\n",
      "C:\\Anaconda2\\lib\\site-packages\\pandas\\core\\indexing.py:461: SettingWithCopyWarning: \n",
      "A value is trying to be set on a copy of a slice from a DataFrame.\n",
      "Try using .loc[row_indexer,col_indexer] = value instead\n",
      "\n",
      "See the caveats in the documentation: http://pandas.pydata.org/pandas-docs/stable/indexing.html#indexing-view-versus-copy\n",
      "  self.obj[item] = s\n",
      "C:\\Anaconda2\\lib\\site-packages\\ipykernel\\__main__.py:19: SettingWithCopyWarning: \n",
      "A value is trying to be set on a copy of a slice from a DataFrame\n",
      "\n",
      "See the caveats in the documentation: http://pandas.pydata.org/pandas-docs/stable/indexing.html#indexing-view-versus-copy\n"
     ]
    },
    {
     "data": {
      "text/plain": [
       "V1     0\n",
       "V2     0\n",
       "V3     0\n",
       "V4     0\n",
       "V5     0\n",
       "V6     0\n",
       "V7     0\n",
       "V8     0\n",
       "V9     0\n",
       "V10    0\n",
       "V11    0\n",
       "V12    0\n",
       "V13    0\n",
       "V14    0\n",
       "V15    0\n",
       "V16    0\n",
       "dtype: int64"
      ]
     },
     "execution_count": 10,
     "metadata": {},
     "output_type": "execute_result"
    }
   ],
   "source": [
    "def change_yn_to_binary(x):\n",
    "    if x == 'y':\n",
    "        return 1\n",
    "    elif x == 'n':\n",
    "        return 0\n",
    "    else:\n",
    "        return x\n",
    "\n",
    "# Because we would lose about half of the data if we dropped all null values, we're going to \"impute\" here.\n",
    "# fill in the missing values with random 1 or 0:\n",
    "\n",
    "# iterate through the columns\n",
    "for c in Xvote.columns:\n",
    "    Xvote.loc[:, c] = Xvote[c].map(change_yn_to_binary)\n",
    "    # make a mask of rows for this column where the value is null/nan\n",
    "    mask = Xvote[c].isnull()\n",
    "    # for those rows at this column, put in random 1's or 0's the size of the number\n",
    "    # of missing values\n",
    "    Xvote.loc[mask, c] = np.random.choice(2, size = np.sum(mask))\n",
    "    \n",
    "Xvote.isnull().sum()"
   ]
  },
  {
   "cell_type": "markdown",
   "metadata": {},
   "source": [
    "Next, create the covariance matrix from the standardized x-values and decompose these values to find the eigenvalues and eigenvectors"
   ]
  },
  {
   "cell_type": "code",
   "execution_count": 12,
   "metadata": {
    "collapsed": false
   },
   "outputs": [
    {
     "data": {
      "text/html": [
       "<div>\n",
       "<table border=\"1\" class=\"dataframe\">\n",
       "  <thead>\n",
       "    <tr style=\"text-align: right;\">\n",
       "      <th></th>\n",
       "      <th>V1</th>\n",
       "      <th>V2</th>\n",
       "      <th>V3</th>\n",
       "      <th>V4</th>\n",
       "      <th>V5</th>\n",
       "      <th>V6</th>\n",
       "      <th>V7</th>\n",
       "      <th>V8</th>\n",
       "      <th>V9</th>\n",
       "      <th>V10</th>\n",
       "      <th>V11</th>\n",
       "      <th>V12</th>\n",
       "      <th>V13</th>\n",
       "      <th>V14</th>\n",
       "      <th>V15</th>\n",
       "      <th>V16</th>\n",
       "    </tr>\n",
       "  </thead>\n",
       "  <tbody>\n",
       "    <tr>\n",
       "      <th>V1</th>\n",
       "      <td>1.000000</td>\n",
       "      <td>0.016977</td>\n",
       "      <td>0.389139</td>\n",
       "      <td>-0.415917</td>\n",
       "      <td>-0.348070</td>\n",
       "      <td>-0.398317</td>\n",
       "      <td>0.347050</td>\n",
       "      <td>0.396149</td>\n",
       "      <td>0.314194</td>\n",
       "      <td>-0.076609</td>\n",
       "      <td>0.115259</td>\n",
       "      <td>-0.407077</td>\n",
       "      <td>-0.327600</td>\n",
       "      <td>-0.339027</td>\n",
       "      <td>0.197382</td>\n",
       "      <td>0.108773</td>\n",
       "    </tr>\n",
       "    <tr>\n",
       "      <th>V2</th>\n",
       "      <td>0.016977</td>\n",
       "      <td>1.000000</td>\n",
       "      <td>-0.050680</td>\n",
       "      <td>0.064137</td>\n",
       "      <td>0.140163</td>\n",
       "      <td>0.143673</td>\n",
       "      <td>-0.221918</td>\n",
       "      <td>-0.105360</td>\n",
       "      <td>-0.153901</td>\n",
       "      <td>-0.121826</td>\n",
       "      <td>0.185436</td>\n",
       "      <td>-0.024548</td>\n",
       "      <td>0.232087</td>\n",
       "      <td>-0.012963</td>\n",
       "      <td>-0.103439</td>\n",
       "      <td>-0.064515</td>\n",
       "    </tr>\n",
       "    <tr>\n",
       "      <th>V3</th>\n",
       "      <td>0.389139</td>\n",
       "      <td>-0.050680</td>\n",
       "      <td>1.000000</td>\n",
       "      <td>-0.710194</td>\n",
       "      <td>-0.628838</td>\n",
       "      <td>-0.415098</td>\n",
       "      <td>0.560003</td>\n",
       "      <td>0.699074</td>\n",
       "      <td>0.580180</td>\n",
       "      <td>0.026278</td>\n",
       "      <td>0.214087</td>\n",
       "      <td>-0.650672</td>\n",
       "      <td>-0.501384</td>\n",
       "      <td>-0.555445</td>\n",
       "      <td>0.450612</td>\n",
       "      <td>0.275550</td>\n",
       "    </tr>\n",
       "    <tr>\n",
       "      <th>V4</th>\n",
       "      <td>-0.415917</td>\n",
       "      <td>0.064137</td>\n",
       "      <td>-0.710194</td>\n",
       "      <td>1.000000</td>\n",
       "      <td>0.741225</td>\n",
       "      <td>0.466395</td>\n",
       "      <td>-0.566233</td>\n",
       "      <td>-0.694566</td>\n",
       "      <td>-0.599136</td>\n",
       "      <td>0.034588</td>\n",
       "      <td>-0.286040</td>\n",
       "      <td>0.693898</td>\n",
       "      <td>0.576666</td>\n",
       "      <td>0.607677</td>\n",
       "      <td>-0.523519</td>\n",
       "      <td>-0.222664</td>\n",
       "    </tr>\n",
       "    <tr>\n",
       "      <th>V5</th>\n",
       "      <td>-0.348070</td>\n",
       "      <td>0.140163</td>\n",
       "      <td>-0.628838</td>\n",
       "      <td>0.741225</td>\n",
       "      <td>1.000000</td>\n",
       "      <td>0.615013</td>\n",
       "      <td>-0.664392</td>\n",
       "      <td>-0.797486</td>\n",
       "      <td>-0.728726</td>\n",
       "      <td>0.020718</td>\n",
       "      <td>-0.142262</td>\n",
       "      <td>0.631351</td>\n",
       "      <td>0.622964</td>\n",
       "      <td>0.664173</td>\n",
       "      <td>-0.543445</td>\n",
       "      <td>-0.241124</td>\n",
       "    </tr>\n",
       "    <tr>\n",
       "      <th>V6</th>\n",
       "      <td>-0.398317</td>\n",
       "      <td>0.143673</td>\n",
       "      <td>-0.415098</td>\n",
       "      <td>0.466395</td>\n",
       "      <td>0.615013</td>\n",
       "      <td>1.000000</td>\n",
       "      <td>-0.527397</td>\n",
       "      <td>-0.546542</td>\n",
       "      <td>-0.530139</td>\n",
       "      <td>0.108048</td>\n",
       "      <td>0.024578</td>\n",
       "      <td>0.511261</td>\n",
       "      <td>0.533697</td>\n",
       "      <td>0.562500</td>\n",
       "      <td>-0.422934</td>\n",
       "      <td>-0.192413</td>\n",
       "    </tr>\n",
       "    <tr>\n",
       "      <th>V7</th>\n",
       "      <td>0.347050</td>\n",
       "      <td>-0.221918</td>\n",
       "      <td>0.560003</td>\n",
       "      <td>-0.566233</td>\n",
       "      <td>-0.664392</td>\n",
       "      <td>-0.527397</td>\n",
       "      <td>1.000000</td>\n",
       "      <td>0.695036</td>\n",
       "      <td>0.615481</td>\n",
       "      <td>0.030572</td>\n",
       "      <td>0.019729</td>\n",
       "      <td>-0.515967</td>\n",
       "      <td>-0.546474</td>\n",
       "      <td>-0.488942</td>\n",
       "      <td>0.463212</td>\n",
       "      <td>0.275108</td>\n",
       "    </tr>\n",
       "    <tr>\n",
       "      <th>V8</th>\n",
       "      <td>0.396149</td>\n",
       "      <td>-0.105360</td>\n",
       "      <td>0.699074</td>\n",
       "      <td>-0.694566</td>\n",
       "      <td>-0.797486</td>\n",
       "      <td>-0.546542</td>\n",
       "      <td>0.695036</td>\n",
       "      <td>1.000000</td>\n",
       "      <td>0.702094</td>\n",
       "      <td>0.035119</td>\n",
       "      <td>0.136168</td>\n",
       "      <td>-0.606081</td>\n",
       "      <td>-0.596032</td>\n",
       "      <td>-0.603367</td>\n",
       "      <td>0.502572</td>\n",
       "      <td>0.277052</td>\n",
       "    </tr>\n",
       "    <tr>\n",
       "      <th>V9</th>\n",
       "      <td>0.314194</td>\n",
       "      <td>-0.153901</td>\n",
       "      <td>0.580180</td>\n",
       "      <td>-0.599136</td>\n",
       "      <td>-0.728726</td>\n",
       "      <td>-0.530139</td>\n",
       "      <td>0.615481</td>\n",
       "      <td>0.702094</td>\n",
       "      <td>1.000000</td>\n",
       "      <td>0.039035</td>\n",
       "      <td>0.038370</td>\n",
       "      <td>-0.563808</td>\n",
       "      <td>-0.489274</td>\n",
       "      <td>-0.516808</td>\n",
       "      <td>0.453615</td>\n",
       "      <td>0.243659</td>\n",
       "    </tr>\n",
       "    <tr>\n",
       "      <th>V10</th>\n",
       "      <td>-0.076609</td>\n",
       "      <td>-0.121826</td>\n",
       "      <td>0.026278</td>\n",
       "      <td>0.034588</td>\n",
       "      <td>0.020718</td>\n",
       "      <td>0.108048</td>\n",
       "      <td>0.030572</td>\n",
       "      <td>0.035119</td>\n",
       "      <td>0.039035</td>\n",
       "      <td>1.000000</td>\n",
       "      <td>-0.017316</td>\n",
       "      <td>0.048454</td>\n",
       "      <td>0.048366</td>\n",
       "      <td>0.110298</td>\n",
       "      <td>-0.076826</td>\n",
       "      <td>0.077751</td>\n",
       "    </tr>\n",
       "    <tr>\n",
       "      <th>V11</th>\n",
       "      <td>0.115259</td>\n",
       "      <td>0.185436</td>\n",
       "      <td>0.214087</td>\n",
       "      <td>-0.286040</td>\n",
       "      <td>-0.142262</td>\n",
       "      <td>0.024578</td>\n",
       "      <td>0.019729</td>\n",
       "      <td>0.136168</td>\n",
       "      <td>0.038370</td>\n",
       "      <td>-0.017316</td>\n",
       "      <td>1.000000</td>\n",
       "      <td>-0.196712</td>\n",
       "      <td>-0.099117</td>\n",
       "      <td>-0.102085</td>\n",
       "      <td>0.139289</td>\n",
       "      <td>0.052791</td>\n",
       "    </tr>\n",
       "    <tr>\n",
       "      <th>V12</th>\n",
       "      <td>-0.407077</td>\n",
       "      <td>-0.024548</td>\n",
       "      <td>-0.650672</td>\n",
       "      <td>0.693898</td>\n",
       "      <td>0.631351</td>\n",
       "      <td>0.511261</td>\n",
       "      <td>-0.515967</td>\n",
       "      <td>-0.606081</td>\n",
       "      <td>-0.563808</td>\n",
       "      <td>0.048454</td>\n",
       "      <td>-0.196712</td>\n",
       "      <td>1.000000</td>\n",
       "      <td>0.532011</td>\n",
       "      <td>0.577526</td>\n",
       "      <td>-0.485713</td>\n",
       "      <td>-0.229564</td>\n",
       "    </tr>\n",
       "    <tr>\n",
       "      <th>V13</th>\n",
       "      <td>-0.327600</td>\n",
       "      <td>0.232087</td>\n",
       "      <td>-0.501384</td>\n",
       "      <td>0.576666</td>\n",
       "      <td>0.622964</td>\n",
       "      <td>0.533697</td>\n",
       "      <td>-0.546474</td>\n",
       "      <td>-0.596032</td>\n",
       "      <td>-0.489274</td>\n",
       "      <td>0.048366</td>\n",
       "      <td>-0.099117</td>\n",
       "      <td>0.532011</td>\n",
       "      <td>1.000000</td>\n",
       "      <td>0.539412</td>\n",
       "      <td>-0.457704</td>\n",
       "      <td>-0.177692</td>\n",
       "    </tr>\n",
       "    <tr>\n",
       "      <th>V14</th>\n",
       "      <td>-0.339027</td>\n",
       "      <td>-0.012963</td>\n",
       "      <td>-0.555445</td>\n",
       "      <td>0.607677</td>\n",
       "      <td>0.664173</td>\n",
       "      <td>0.562500</td>\n",
       "      <td>-0.488942</td>\n",
       "      <td>-0.603367</td>\n",
       "      <td>-0.516808</td>\n",
       "      <td>0.110298</td>\n",
       "      <td>-0.102085</td>\n",
       "      <td>0.577526</td>\n",
       "      <td>0.539412</td>\n",
       "      <td>1.000000</td>\n",
       "      <td>-0.487288</td>\n",
       "      <td>-0.176104</td>\n",
       "    </tr>\n",
       "    <tr>\n",
       "      <th>V15</th>\n",
       "      <td>0.197382</td>\n",
       "      <td>-0.103439</td>\n",
       "      <td>0.450612</td>\n",
       "      <td>-0.523519</td>\n",
       "      <td>-0.543445</td>\n",
       "      <td>-0.422934</td>\n",
       "      <td>0.463212</td>\n",
       "      <td>0.502572</td>\n",
       "      <td>0.453615</td>\n",
       "      <td>-0.076826</td>\n",
       "      <td>0.139289</td>\n",
       "      <td>-0.485713</td>\n",
       "      <td>-0.457704</td>\n",
       "      <td>-0.487288</td>\n",
       "      <td>1.000000</td>\n",
       "      <td>0.172628</td>\n",
       "    </tr>\n",
       "    <tr>\n",
       "      <th>V16</th>\n",
       "      <td>0.108773</td>\n",
       "      <td>-0.064515</td>\n",
       "      <td>0.275550</td>\n",
       "      <td>-0.222664</td>\n",
       "      <td>-0.241124</td>\n",
       "      <td>-0.192413</td>\n",
       "      <td>0.275108</td>\n",
       "      <td>0.277052</td>\n",
       "      <td>0.243659</td>\n",
       "      <td>0.077751</td>\n",
       "      <td>0.052791</td>\n",
       "      <td>-0.229564</td>\n",
       "      <td>-0.177692</td>\n",
       "      <td>-0.176104</td>\n",
       "      <td>0.172628</td>\n",
       "      <td>1.000000</td>\n",
       "    </tr>\n",
       "  </tbody>\n",
       "</table>\n",
       "</div>"
      ],
      "text/plain": [
       "           V1        V2        V3        V4        V5        V6        V7  \\\n",
       "V1   1.000000  0.016977  0.389139 -0.415917 -0.348070 -0.398317  0.347050   \n",
       "V2   0.016977  1.000000 -0.050680  0.064137  0.140163  0.143673 -0.221918   \n",
       "V3   0.389139 -0.050680  1.000000 -0.710194 -0.628838 -0.415098  0.560003   \n",
       "V4  -0.415917  0.064137 -0.710194  1.000000  0.741225  0.466395 -0.566233   \n",
       "V5  -0.348070  0.140163 -0.628838  0.741225  1.000000  0.615013 -0.664392   \n",
       "V6  -0.398317  0.143673 -0.415098  0.466395  0.615013  1.000000 -0.527397   \n",
       "V7   0.347050 -0.221918  0.560003 -0.566233 -0.664392 -0.527397  1.000000   \n",
       "V8   0.396149 -0.105360  0.699074 -0.694566 -0.797486 -0.546542  0.695036   \n",
       "V9   0.314194 -0.153901  0.580180 -0.599136 -0.728726 -0.530139  0.615481   \n",
       "V10 -0.076609 -0.121826  0.026278  0.034588  0.020718  0.108048  0.030572   \n",
       "V11  0.115259  0.185436  0.214087 -0.286040 -0.142262  0.024578  0.019729   \n",
       "V12 -0.407077 -0.024548 -0.650672  0.693898  0.631351  0.511261 -0.515967   \n",
       "V13 -0.327600  0.232087 -0.501384  0.576666  0.622964  0.533697 -0.546474   \n",
       "V14 -0.339027 -0.012963 -0.555445  0.607677  0.664173  0.562500 -0.488942   \n",
       "V15  0.197382 -0.103439  0.450612 -0.523519 -0.543445 -0.422934  0.463212   \n",
       "V16  0.108773 -0.064515  0.275550 -0.222664 -0.241124 -0.192413  0.275108   \n",
       "\n",
       "           V8        V9       V10       V11       V12       V13       V14  \\\n",
       "V1   0.396149  0.314194 -0.076609  0.115259 -0.407077 -0.327600 -0.339027   \n",
       "V2  -0.105360 -0.153901 -0.121826  0.185436 -0.024548  0.232087 -0.012963   \n",
       "V3   0.699074  0.580180  0.026278  0.214087 -0.650672 -0.501384 -0.555445   \n",
       "V4  -0.694566 -0.599136  0.034588 -0.286040  0.693898  0.576666  0.607677   \n",
       "V5  -0.797486 -0.728726  0.020718 -0.142262  0.631351  0.622964  0.664173   \n",
       "V6  -0.546542 -0.530139  0.108048  0.024578  0.511261  0.533697  0.562500   \n",
       "V7   0.695036  0.615481  0.030572  0.019729 -0.515967 -0.546474 -0.488942   \n",
       "V8   1.000000  0.702094  0.035119  0.136168 -0.606081 -0.596032 -0.603367   \n",
       "V9   0.702094  1.000000  0.039035  0.038370 -0.563808 -0.489274 -0.516808   \n",
       "V10  0.035119  0.039035  1.000000 -0.017316  0.048454  0.048366  0.110298   \n",
       "V11  0.136168  0.038370 -0.017316  1.000000 -0.196712 -0.099117 -0.102085   \n",
       "V12 -0.606081 -0.563808  0.048454 -0.196712  1.000000  0.532011  0.577526   \n",
       "V13 -0.596032 -0.489274  0.048366 -0.099117  0.532011  1.000000  0.539412   \n",
       "V14 -0.603367 -0.516808  0.110298 -0.102085  0.577526  0.539412  1.000000   \n",
       "V15  0.502572  0.453615 -0.076826  0.139289 -0.485713 -0.457704 -0.487288   \n",
       "V16  0.277052  0.243659  0.077751  0.052791 -0.229564 -0.177692 -0.176104   \n",
       "\n",
       "          V15       V16  \n",
       "V1   0.197382  0.108773  \n",
       "V2  -0.103439 -0.064515  \n",
       "V3   0.450612  0.275550  \n",
       "V4  -0.523519 -0.222664  \n",
       "V5  -0.543445 -0.241124  \n",
       "V6  -0.422934 -0.192413  \n",
       "V7   0.463212  0.275108  \n",
       "V8   0.502572  0.277052  \n",
       "V9   0.453615  0.243659  \n",
       "V10 -0.076826  0.077751  \n",
       "V11  0.139289  0.052791  \n",
       "V12 -0.485713 -0.229564  \n",
       "V13 -0.457704 -0.177692  \n",
       "V14 -0.487288 -0.176104  \n",
       "V15  1.000000  0.172628  \n",
       "V16  0.172628  1.000000  "
      ]
     },
     "execution_count": 12,
     "metadata": {},
     "output_type": "execute_result"
    }
   ],
   "source": [
    "Xn = (Xvote - Xvote.mean()) / Xvote.std()\n",
    "Xn_corr = Xn.cov()\n",
    "Xn_corr"
   ]
  },
  {
   "cell_type": "markdown",
   "metadata": {},
   "source": [
    "Now, let's check the eigenvalues: "
   ]
  },
  {
   "cell_type": "code",
   "execution_count": 13,
   "metadata": {
    "collapsed": true
   },
   "outputs": [],
   "source": [
    "eigenvalues, eigenvectors = np.linalg.eig(Xn_corr.values)"
   ]
  },
  {
   "cell_type": "code",
   "execution_count": 14,
   "metadata": {
    "collapsed": false
   },
   "outputs": [
    {
     "data": {
      "text/plain": [
       "array([ 7.15511309,  1.40472985,  1.1391514 ,  0.88206536,  0.84589317,\n",
       "        0.77538254,  0.58480676,  0.53484941,  0.1588224 ,  0.50888715,\n",
       "        0.22893064,  0.43598645,  0.35686353,  0.27888657,  0.40064942,\n",
       "        0.30898226])"
      ]
     },
     "execution_count": 14,
     "metadata": {},
     "output_type": "execute_result"
    }
   ],
   "source": [
    "eigenvalues"
   ]
  },
  {
   "cell_type": "markdown",
   "metadata": {},
   "source": [
    "And the eigenvectors: "
   ]
  },
  {
   "cell_type": "code",
   "execution_count": 15,
   "metadata": {
    "collapsed": false
   },
   "outputs": [
    {
     "name": "stdout",
     "output_type": "stream",
     "text": [
      "[[ 0.18880909 -0.17076426  0.13099701 -0.26291937  0.63204762  0.49586205\n",
      "   0.11690237  0.2966895   0.0756184  -0.15831857  0.032137   -0.04022251\n",
      "   0.18613688  0.04296618  0.16355995 -0.07191144]\n",
      " [-0.0538208  -0.63365838 -0.0314694  -0.33037786  0.13470517 -0.54499682\n",
      "   0.08954622 -0.07308253  0.02902259 -0.11081497 -0.11115146 -0.32258873\n",
      "   0.07260681 -0.04049464 -0.12334431  0.07244407]]\n",
      "16\n"
     ]
    }
   ],
   "source": [
    "print eigenvectors[0:2]\n",
    "print len(eigenvectors[0])"
   ]
  },
  {
   "cell_type": "markdown",
   "metadata": {},
   "source": [
    "To find the principal componants, find the eigenpairs, and sort them from highest to lowest. "
   ]
  },
  {
   "cell_type": "code",
   "execution_count": 16,
   "metadata": {
    "collapsed": true
   },
   "outputs": [],
   "source": [
    "eigen_pairs = [[e_value, e_vector] for e_value, e_vector in zip(eigenvalues, eigenvectors)]\n",
    "eigen_pairs = sorted(eigen_pairs, reverse = True)"
   ]
  },
  {
   "cell_type": "code",
   "execution_count": 17,
   "metadata": {
    "collapsed": false
   },
   "outputs": [
    {
     "data": {
      "text/plain": [
       "[7.1551130934316935,\n",
       " 1.4047298506242887,\n",
       " 1.1391513955138441,\n",
       " 0.88206536457596962,\n",
       " 0.8458931702976018,\n",
       " 0.77538254305798182,\n",
       " 0.58480676326112957,\n",
       " 0.5348494073870782,\n",
       " 0.50888714705214833,\n",
       " 0.43598644925528179,\n",
       " 0.40064942459911879,\n",
       " 0.35686353026589585,\n",
       " 0.30898226088250513,\n",
       " 0.27888656590385513,\n",
       " 0.22893063504260736,\n",
       " 0.15882239884901572]"
      ]
     },
     "execution_count": 17,
     "metadata": {},
     "output_type": "execute_result"
    }
   ],
   "source": [
    "[e[0] for e in eigen_pairs]"
   ]
  },
  {
   "cell_type": "markdown",
   "metadata": {
    "collapsed": true
   },
   "source": [
    "Now, calculate the explained variance. Recall the methods we learned in lesson 2.2!"
   ]
  },
  {
   "cell_type": "code",
   "execution_count": 18,
   "metadata": {
    "collapsed": false
   },
   "outputs": [
    {
     "data": {
      "text/plain": [
       "[44.719456833948044,\n",
       " 8.7795615664017959,\n",
       " 7.1196962219615187,\n",
       " 5.5129085285998052,\n",
       " 5.286832314360006,\n",
       " 4.8461408941123825,\n",
       " 3.6550422703820562,\n",
       " 3.3428087961692361,\n",
       " 3.1805446690759243,\n",
       " 2.7249153078455088,\n",
       " 2.5040589037444905,\n",
       " 2.2303970641618469,\n",
       " 1.9311391305156553,\n",
       " 1.7430410368990932,\n",
       " 1.4308164690162948,\n",
       " 0.9926399928063474]"
      ]
     },
     "execution_count": 18,
     "metadata": {},
     "output_type": "execute_result"
    }
   ],
   "source": [
    "total_variance = np.sum(eigenvalues)\n",
    "explained_variance = [(e[0] / total_variance) * 100 for e in eigen_pairs]\n",
    "explained_variance"
   ]
  },
  {
   "cell_type": "markdown",
   "metadata": {},
   "source": [
    "Now, calculate the explained variance and the Cumulative explained variance"
   ]
  },
  {
   "cell_type": "code",
   "execution_count": 43,
   "metadata": {
    "collapsed": true
   },
   "outputs": [],
   "source": []
  },
  {
   "cell_type": "markdown",
   "metadata": {},
   "source": [
    "Now, conduct a PCA using scikit learn\n",
    "\n",
    "http://scikit-learn.org/stable/modules/generated/sklearn.decomposition.PCA.html"
   ]
  },
  {
   "cell_type": "code",
   "execution_count": null,
   "metadata": {
    "collapsed": true
   },
   "outputs": [],
   "source": []
  },
  {
   "cell_type": "markdown",
   "metadata": {},
   "source": [
    "# Case #2: Airport Delays"
   ]
  },
  {
   "cell_type": "code",
   "execution_count": 34,
   "metadata": {
    "collapsed": true
   },
   "outputs": [],
   "source": []
  },
  {
   "cell_type": "markdown",
   "metadata": {},
   "source": [
    "First, let's define the x and y variables: Airport is going to be our \"x\" variable"
   ]
  },
  {
   "cell_type": "code",
   "execution_count": 36,
   "metadata": {
    "collapsed": true
   },
   "outputs": [],
   "source": []
  },
  {
   "cell_type": "markdown",
   "metadata": {},
   "source": [
    "Then, standardize the x variable for analysis"
   ]
  },
  {
   "cell_type": "code",
   "execution_count": 37,
   "metadata": {
    "collapsed": false
   },
   "outputs": [],
   "source": []
  },
  {
   "cell_type": "markdown",
   "metadata": {},
   "source": [
    "Next, create the covariance matrix from the standardized x-values and decompose these values to find the eigenvalues and eigenvectors"
   ]
  },
  {
   "cell_type": "code",
   "execution_count": 38,
   "metadata": {
    "collapsed": false
   },
   "outputs": [],
   "source": []
  },
  {
   "cell_type": "markdown",
   "metadata": {},
   "source": [
    "Then, check your eigenvalues and eigenvectors:"
   ]
  },
  {
   "cell_type": "code",
   "execution_count": null,
   "metadata": {
    "collapsed": true
   },
   "outputs": [],
   "source": []
  },
  {
   "cell_type": "markdown",
   "metadata": {},
   "source": [
    "To find the principal componants, find the eigenpairs, and sort them from highest to lowest. "
   ]
  },
  {
   "cell_type": "code",
   "execution_count": null,
   "metadata": {
    "collapsed": true
   },
   "outputs": [],
   "source": []
  },
  {
   "cell_type": "markdown",
   "metadata": {},
   "source": [
    "Next, Calculate the explained variance"
   ]
  },
  {
   "cell_type": "code",
   "execution_count": 41,
   "metadata": {
    "collapsed": false
   },
   "outputs": [],
   "source": []
  },
  {
   "cell_type": "markdown",
   "metadata": {},
   "source": [
    "Finally, conduct the PCA - use the results about to guide your selection of \"n\" componants"
   ]
  },
  {
   "cell_type": "code",
   "execution_count": 49,
   "metadata": {
    "collapsed": false
   },
   "outputs": [],
   "source": []
  }
 ],
 "metadata": {
  "kernelspec": {
   "display_name": "Python 2",
   "language": "python",
   "name": "python2"
  },
  "language_info": {
   "codemirror_mode": {
    "name": "ipython",
    "version": 2
   },
   "file_extension": ".py",
   "mimetype": "text/x-python",
   "name": "python",
   "nbconvert_exporter": "python",
   "pygments_lexer": "ipython2",
   "version": "2.7.11"
  }
 },
 "nbformat": 4,
 "nbformat_minor": 0
}
