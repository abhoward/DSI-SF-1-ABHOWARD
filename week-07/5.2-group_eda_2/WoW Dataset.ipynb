{
 "cells": [
  {
   "cell_type": "code",
   "execution_count": 63,
   "metadata": {
    "collapsed": true
   },
   "outputs": [],
   "source": [
    "import pandas as pd\n",
    "import time\n",
    "import datetime\n",
    "import seaborn as sns\n",
    "\n",
    "%matplotlib inline"
   ]
  },
  {
   "cell_type": "code",
   "execution_count": 3,
   "metadata": {
    "collapsed": false
   },
   "outputs": [],
   "source": [
    "wow = pd.read_csv('assets/datasets/wowah_data.csv')"
   ]
  },
  {
   "cell_type": "code",
   "execution_count": 31,
   "metadata": {
    "collapsed": false
   },
   "outputs": [],
   "source": [
    "wow = wow.sample(frac = 0.01, random_state = 1234)"
   ]
  },
  {
   "cell_type": "code",
   "execution_count": 32,
   "metadata": {
    "collapsed": false
   },
   "outputs": [
    {
     "data": {
      "text/html": [
       "<div>\n",
       "<table border=\"1\" class=\"dataframe\">\n",
       "  <thead>\n",
       "    <tr style=\"text-align: right;\">\n",
       "      <th></th>\n",
       "      <th>char</th>\n",
       "      <th>level</th>\n",
       "      <th>race</th>\n",
       "      <th>charclass</th>\n",
       "      <th>zone</th>\n",
       "      <th>guild</th>\n",
       "      <th>timestamp</th>\n",
       "    </tr>\n",
       "  </thead>\n",
       "  <tbody>\n",
       "    <tr>\n",
       "      <th>6694998</th>\n",
       "      <td>1368</td>\n",
       "      <td>70</td>\n",
       "      <td>Orc</td>\n",
       "      <td>Hunter</td>\n",
       "      <td>Karazhan</td>\n",
       "      <td>5</td>\n",
       "      <td>07/18/08 23:23:54</td>\n",
       "    </tr>\n",
       "    <tr>\n",
       "      <th>9505810</th>\n",
       "      <td>25355</td>\n",
       "      <td>70</td>\n",
       "      <td>Troll</td>\n",
       "      <td>Shaman</td>\n",
       "      <td>The Hinterlands</td>\n",
       "      <td>103</td>\n",
       "      <td>11/02/08 17:07:56</td>\n",
       "    </tr>\n",
       "    <tr>\n",
       "      <th>771494</th>\n",
       "      <td>22382</td>\n",
       "      <td>70</td>\n",
       "      <td>Troll</td>\n",
       "      <td>Mage</td>\n",
       "      <td>Coilfang: The Slave Pens</td>\n",
       "      <td>103</td>\n",
       "      <td>01/19/08 16:47:48</td>\n",
       "    </tr>\n",
       "    <tr>\n",
       "      <th>8400611</th>\n",
       "      <td>29539</td>\n",
       "      <td>70</td>\n",
       "      <td>Orc</td>\n",
       "      <td>Hunter</td>\n",
       "      <td>Shadowmoon Valley</td>\n",
       "      <td>282</td>\n",
       "      <td>09/17/08 18:06:55</td>\n",
       "    </tr>\n",
       "    <tr>\n",
       "      <th>9514427</th>\n",
       "      <td>49425</td>\n",
       "      <td>41</td>\n",
       "      <td>Blood Elf</td>\n",
       "      <td>Priest</td>\n",
       "      <td>Stranglethorn Vale</td>\n",
       "      <td>-1</td>\n",
       "      <td>11/02/08 22:59:15</td>\n",
       "    </tr>\n",
       "  </tbody>\n",
       "</table>\n",
       "</div>"
      ],
      "text/plain": [
       "          char  level       race charclass                      zone  guild  \\\n",
       "6694998   1368     70        Orc    Hunter                  Karazhan      5   \n",
       "9505810  25355     70      Troll    Shaman           The Hinterlands    103   \n",
       "771494   22382     70      Troll      Mage  Coilfang: The Slave Pens    103   \n",
       "8400611  29539     70        Orc    Hunter         Shadowmoon Valley    282   \n",
       "9514427  49425     41  Blood Elf    Priest        Stranglethorn Vale     -1   \n",
       "\n",
       "                 timestamp  \n",
       "6694998  07/18/08 23:23:54  \n",
       "9505810  11/02/08 17:07:56  \n",
       "771494   01/19/08 16:47:48  \n",
       "8400611  09/17/08 18:06:55  \n",
       "9514427  11/02/08 22:59:15  "
      ]
     },
     "execution_count": 32,
     "metadata": {},
     "output_type": "execute_result"
    }
   ],
   "source": [
    "wow.head()"
   ]
  },
  {
   "cell_type": "code",
   "execution_count": 33,
   "metadata": {
    "collapsed": false
   },
   "outputs": [],
   "source": [
    "wow.columns = ['char', 'level', 'race', 'charclass', 'zone', 'guild', 'timestamp']"
   ]
  },
  {
   "cell_type": "code",
   "execution_count": 34,
   "metadata": {
    "collapsed": false
   },
   "outputs": [
    {
     "data": {
      "text/plain": [
       "Index([u'char', u'level', u'race', u'charclass', u'zone', u'guild',\n",
       "       u'timestamp'],\n",
       "      dtype='object')"
      ]
     },
     "execution_count": 34,
     "metadata": {},
     "output_type": "execute_result"
    }
   ],
   "source": [
    "wow.columns"
   ]
  },
  {
   "cell_type": "code",
   "execution_count": 35,
   "metadata": {
    "collapsed": false
   },
   "outputs": [
    {
     "data": {
      "text/html": [
       "<div>\n",
       "<table border=\"1\" class=\"dataframe\">\n",
       "  <thead>\n",
       "    <tr style=\"text-align: right;\">\n",
       "      <th></th>\n",
       "      <th>char</th>\n",
       "      <th>level</th>\n",
       "      <th>race</th>\n",
       "      <th>charclass</th>\n",
       "      <th>zone</th>\n",
       "      <th>guild</th>\n",
       "      <th>timestamp</th>\n",
       "    </tr>\n",
       "  </thead>\n",
       "  <tbody>\n",
       "    <tr>\n",
       "      <th>6694998</th>\n",
       "      <td>1368</td>\n",
       "      <td>70</td>\n",
       "      <td>Orc</td>\n",
       "      <td>Hunter</td>\n",
       "      <td>Karazhan</td>\n",
       "      <td>5</td>\n",
       "      <td>07/18/08 23:23:54</td>\n",
       "    </tr>\n",
       "    <tr>\n",
       "      <th>9505810</th>\n",
       "      <td>25355</td>\n",
       "      <td>70</td>\n",
       "      <td>Troll</td>\n",
       "      <td>Shaman</td>\n",
       "      <td>The Hinterlands</td>\n",
       "      <td>103</td>\n",
       "      <td>11/02/08 17:07:56</td>\n",
       "    </tr>\n",
       "    <tr>\n",
       "      <th>771494</th>\n",
       "      <td>22382</td>\n",
       "      <td>70</td>\n",
       "      <td>Troll</td>\n",
       "      <td>Mage</td>\n",
       "      <td>Coilfang: The Slave Pens</td>\n",
       "      <td>103</td>\n",
       "      <td>01/19/08 16:47:48</td>\n",
       "    </tr>\n",
       "    <tr>\n",
       "      <th>8400611</th>\n",
       "      <td>29539</td>\n",
       "      <td>70</td>\n",
       "      <td>Orc</td>\n",
       "      <td>Hunter</td>\n",
       "      <td>Shadowmoon Valley</td>\n",
       "      <td>282</td>\n",
       "      <td>09/17/08 18:06:55</td>\n",
       "    </tr>\n",
       "    <tr>\n",
       "      <th>9514427</th>\n",
       "      <td>49425</td>\n",
       "      <td>41</td>\n",
       "      <td>Blood Elf</td>\n",
       "      <td>Priest</td>\n",
       "      <td>Stranglethorn Vale</td>\n",
       "      <td>-1</td>\n",
       "      <td>11/02/08 22:59:15</td>\n",
       "    </tr>\n",
       "  </tbody>\n",
       "</table>\n",
       "</div>"
      ],
      "text/plain": [
       "          char  level       race charclass                      zone  guild  \\\n",
       "6694998   1368     70        Orc    Hunter                  Karazhan      5   \n",
       "9505810  25355     70      Troll    Shaman           The Hinterlands    103   \n",
       "771494   22382     70      Troll      Mage  Coilfang: The Slave Pens    103   \n",
       "8400611  29539     70        Orc    Hunter         Shadowmoon Valley    282   \n",
       "9514427  49425     41  Blood Elf    Priest        Stranglethorn Vale     -1   \n",
       "\n",
       "                 timestamp  \n",
       "6694998  07/18/08 23:23:54  \n",
       "9505810  11/02/08 17:07:56  \n",
       "771494   01/19/08 16:47:48  \n",
       "8400611  09/17/08 18:06:55  \n",
       "9514427  11/02/08 22:59:15  "
      ]
     },
     "execution_count": 35,
     "metadata": {},
     "output_type": "execute_result"
    }
   ],
   "source": [
    "wow.head()"
   ]
  },
  {
   "cell_type": "code",
   "execution_count": 36,
   "metadata": {
    "collapsed": false
   },
   "outputs": [],
   "source": [
    "wow.timestamp =  pd.to_datetime(wow.timestamp, infer_datetime_format = True)"
   ]
  },
  {
   "cell_type": "code",
   "execution_count": 46,
   "metadata": {
    "collapsed": false
   },
   "outputs": [
    {
     "data": {
      "text/html": [
       "<div>\n",
       "<table border=\"1\" class=\"dataframe\">\n",
       "  <thead>\n",
       "    <tr style=\"text-align: right;\">\n",
       "      <th></th>\n",
       "      <th>zone</th>\n",
       "      <th>char</th>\n",
       "      <th>timestamp</th>\n",
       "    </tr>\n",
       "  </thead>\n",
       "  <tbody>\n",
       "    <tr>\n",
       "      <th>0</th>\n",
       "      <td>Ahn'Qiraj</td>\n",
       "      <td>178</td>\n",
       "      <td>2008-10-27 00:56:01</td>\n",
       "    </tr>\n",
       "    <tr>\n",
       "      <th>1</th>\n",
       "      <td>Ahn'kahet: The Old Kingdom</td>\n",
       "      <td>28749</td>\n",
       "      <td>2008-12-10 00:17:48</td>\n",
       "    </tr>\n",
       "    <tr>\n",
       "      <th>2</th>\n",
       "      <td>Ahn'kahet: The Old Kingdom</td>\n",
       "      <td>35072</td>\n",
       "      <td>2008-12-27 15:50:03</td>\n",
       "    </tr>\n",
       "    <tr>\n",
       "      <th>3</th>\n",
       "      <td>Ahn'kahet: The Old Kingdom</td>\n",
       "      <td>37072</td>\n",
       "      <td>2008-12-26 01:55:39</td>\n",
       "    </tr>\n",
       "    <tr>\n",
       "      <th>4</th>\n",
       "      <td>Ahn'kahet: The Old Kingdom</td>\n",
       "      <td>53785</td>\n",
       "      <td>2008-11-30 15:03:31</td>\n",
       "    </tr>\n",
       "  </tbody>\n",
       "</table>\n",
       "</div>"
      ],
      "text/plain": [
       "                         zone   char           timestamp\n",
       "0                   Ahn'Qiraj    178 2008-10-27 00:56:01\n",
       "1  Ahn'kahet: The Old Kingdom  28749 2008-12-10 00:17:48\n",
       "2  Ahn'kahet: The Old Kingdom  35072 2008-12-27 15:50:03\n",
       "3  Ahn'kahet: The Old Kingdom  37072 2008-12-26 01:55:39\n",
       "4  Ahn'kahet: The Old Kingdom  53785 2008-11-30 15:03:31"
      ]
     },
     "execution_count": 46,
     "metadata": {},
     "output_type": "execute_result"
    }
   ],
   "source": [
    "last_zones = wow.groupby(['zone', 'char'])['timestamp'].max().reset_index()\n",
    "last_zones.head()"
   ]
  },
  {
   "cell_type": "code",
   "execution_count": 85,
   "metadata": {
    "collapsed": false,
    "scrolled": true
   },
   "outputs": [],
   "source": [
    "test = pd.DataFrame([last_zones.ix[i, :] for i in range(len(last_zones.timestamp)) if last_zones.timestamp[i].month != 12])\n",
    "\n",
    "stuff = test.zone.value_counts()"
   ]
  },
  {
   "cell_type": "code",
   "execution_count": 87,
   "metadata": {
    "collapsed": false,
    "scrolled": true
   },
   "outputs": [
    {
     "data": {
      "text/plain": [
       "Shattrath City                852\n",
       "Orgrimmar                     539\n",
       "Karazhan                      414\n",
       "Terokkar Forest               357\n",
       "Hellfire Peninsula            332\n",
       "Nagrand                       277\n",
       "Isle of Quel'Danas            275\n",
       "Arathi Basin                  268\n",
       "Alterac Valley                265\n",
       "Netherstorm                   253\n",
       "Zangarmarsh                   251\n",
       "Blade's Edge Mountains        249\n",
       "Shadowmoon Valley             234\n",
       "The Barrens                   228\n",
       "Warsong Gulch                 215\n",
       "Stranglethorn Vale            197\n",
       "Ghostlands                    159\n",
       "Eversong Woods                154\n",
       "Undercity                     146\n",
       "The Mechanar                  136\n",
       "Eye of the Storm              135\n",
       "Hillsbrad Foothills           116\n",
       "Tanaris                       113\n",
       "Durotar                       110\n",
       "Magisters' Terrace            104\n",
       "Tempest Keep                  100\n",
       "Hyjal                          92\n",
       "Serpentshrine Cavern           90\n",
       "Black Temple                   82\n",
       "Tirisfal Glades                78\n",
       "                             ... \n",
       "Sholazar Basin                  5\n",
       "Dire Maul                       5\n",
       "Uldaman                         5\n",
       "Gnomeregan                      4\n",
       "Icecrown                        4\n",
       "Molten Core                     4\n",
       "The Nexus                       3\n",
       "Dalaran                         3\n",
       "Blackrock Mountain              3\n",
       "Wetlands                        2\n",
       "Onyxia's Lair                   2\n",
       "Drak'Tharon Keep                2\n",
       "Twisting Nether                 2\n",
       "The Violet Hold                 2\n",
       "Darkshore                       2\n",
       "Westfall                        2\n",
       "Halls of Stone                  2\n",
       "Ahn'kahet: The Old Kingdom      2\n",
       "Elwynn Forest                   2\n",
       "Loch Modan                      1\n",
       "Dun Morogh                      1\n",
       "Azjol-Nerub                     1\n",
       "Deadmines                       1\n",
       "Utgarde Pinnacle                1\n",
       "Bloodmyst Isle                  1\n",
       "Naxxramas                       1\n",
       "Ahn'Qiraj                       1\n",
       "Utgarde Keep                    1\n",
       "Halls of Lightning              1\n",
       "Quel'thalas                     1\n",
       "Name: zone, dtype: int64"
      ]
     },
     "execution_count": 87,
     "metadata": {},
     "output_type": "execute_result"
    }
   ],
   "source": [
    "stuff"
   ]
  },
  {
   "cell_type": "code",
   "execution_count": 92,
   "metadata": {
    "collapsed": false,
    "scrolled": true
   },
   "outputs": [],
   "source": [
    "stuff = pd.DataFrame(stuff).reset_index()"
   ]
  },
  {
   "cell_type": "code",
   "execution_count": 97,
   "metadata": {
    "collapsed": false
   },
   "outputs": [
    {
     "data": {
      "text/plain": [
       "<matplotlib.axes._subplots.AxesSubplot at 0x1b5ea908>"
      ]
     },
     "execution_count": 97,
     "metadata": {},
     "output_type": "execute_result"
    },
    {
     "data": {
      "image/png": "[encoded data removed]",
      "text/plain": [
       "<matplotlib.figure.Figure at 0x1afe7518>"
      ]
     },
     "metadata": {},
     "output_type": "display_data"
    }
   ],
   "source": [
    "sns.set(style = 'whitegrid', rc = {'figure.figsize':(12, 70)})\n",
    "sns.barplot(x = 'index', y = 'zone', data = stuff, orient = 'v')"
   ]
  },
  {
   "cell_type": "code",
   "execution_count": null,
   "metadata": {
    "collapsed": true
   },
   "outputs": [],
   "source": []
  }
 ],
 "metadata": {
  "kernelspec": {
   "display_name": "Python 2",
   "language": "python",
   "name": "python2"
  },
  "language_info": {
   "codemirror_mode": {
    "name": "ipython",
    "version": 2
   },
   "file_extension": ".py",
   "mimetype": "text/x-python",
   "name": "python",
   "nbconvert_exporter": "python",
   "pygments_lexer": "ipython2",
   "version": "2.7.11"
  }
 },
 "nbformat": 4,
 "nbformat_minor": 0
}
