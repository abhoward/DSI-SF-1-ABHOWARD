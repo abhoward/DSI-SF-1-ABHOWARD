{
 "cells": [
  {
   "cell_type": "code",
   "execution_count": 1,
   "metadata": {
    "collapsed": true
   },
   "outputs": [],
   "source": [
    "import pandas as pd\n",
    "import numpy as np\n",
    "import sklearn.datasets as datasets\n",
    "from sklearn.linear_model import LogisticRegression\n",
    "import patsy\n",
    "\n",
    "bc = datasets.load_breast_cancer()\n",
    "\n",
    "X = pd.DataFrame(bc.data, columns=bc.feature_names)\n",
    "Y = bc.target"
   ]
  },
  {
   "cell_type": "markdown",
   "metadata": {},
   "source": [
    "### 1. What are logistic regression coefficients, really?\n",
    "\n",
    "Logistic regression coefficients correspond to log odds. Not very useful.\n",
    "\n",
    "log odds: $$P(Y = 1) = b_0 + b_1x_1 + ...b_nx_n$$\n",
    "\n",
    "Like any regression this is a linear combination of our predictors times their coefficients.\n",
    "\n",
    "Just to refresh you on ordinary least squares regression:\n",
    "\n",
    "$$E[y] = b_0 + b_1x_1 + ... + b_nx_n$$\n",
    "\n",
    "In OLS the coefficients are very interpretable. So, for example, if $b_1 = 3.5$, then every unit increase in $x_1$ corresponds to an expected 3.5 unit increase in the mean of y.\n",
    "\n",
    "Understanding logreg coefs is more of a process..."
   ]
  },
  {
   "cell_type": "markdown",
   "metadata": {},
   "source": [
    "### 2. Log Odds $\\rightarrow$ odds, odds $\\rightarrow$ probability"
   ]
  },
  {
   "cell_type": "code",
   "execution_count": 2,
   "metadata": {
    "collapsed": true
   },
   "outputs": [],
   "source": [
    "# np.esp is the equivalent of e^ whatever\n",
    "# this is the inverse function of natural log\n",
    "def logodds_to_odds(lo):\n",
    "    return np.exp(lo)\n",
    "\n",
    "def logodds_to_prob(lo):\n",
    "    return np.exp(lo) / (1 + np.exp(lo))\n",
    "\n",
    "# Odds Note:\n",
    "# an odds ratio of 1:1 --> P = 0.5 (1/2)\n",
    "# most common appearance is in horse racing\n",
    "# odds ratio 4:1 -- > P = 0.8 (4/5)\n",
    "# odds ratio 1:5 --> P = 0.1666 (1/6)"
   ]
  },
  {
   "cell_type": "markdown",
   "metadata": {},
   "source": [
    "### 3. Intercept in the logistic regression"
   ]
  },
  {
   "cell_type": "code",
   "execution_count": 6,
   "metadata": {
    "collapsed": false
   },
   "outputs": [
    {
     "data": {
      "text/plain": [
       "LogisticRegression(C=1.0, class_weight=None, dual=False, fit_intercept=True,\n",
       "          intercept_scaling=1, max_iter=100, multi_class='ovr', n_jobs=1,\n",
       "          penalty='l2', random_state=None, solver='liblinear', tol=0.0001,\n",
       "          verbose=0, warm_start=False)"
      ]
     },
     "execution_count": 6,
     "metadata": {},
     "output_type": "execute_result"
    }
   ],
   "source": [
    "Xsub = X[['mean symmetry', 'worst radius']]\n",
    "Xsub = (Xsub - Xsub.mean()) / Xsub.std()\n",
    "lr = LogisticRegression()\n",
    "lr.fit(Xsub, Y)"
   ]
  },
  {
   "cell_type": "code",
   "execution_count": 7,
   "metadata": {
    "collapsed": false
   },
   "outputs": [
    {
     "name": "stdout",
     "output_type": "stream",
     "text": [
      "[[-1.08904585 -4.69834081]]\n",
      "[ 0.45678836]\n"
     ]
    }
   ],
   "source": [
    "# get the coefs for the predictors\n",
    "print lr.coef_\n",
    "print lr.intercept_"
   ]
  },
  {
   "cell_type": "code",
   "execution_count": 17,
   "metadata": {
    "collapsed": false
   },
   "outputs": [
    {
     "name": "stdout",
     "output_type": "stream",
     "text": [
      "[ 0.363  0.637]\n"
     ]
    },
    {
     "name": "stderr",
     "output_type": "stream",
     "text": [
      "C:\\Anaconda2\\lib\\site-packages\\sklearn\\utils\\validation.py:386: DeprecationWarning: Passing 1d arrays as data is deprecated in 0.17 and willraise ValueError in 0.19. Reshape your data either using X.reshape(-1, 1) if your data has a single feature or X.reshape(1, -1) if it contains a single sample.\n",
      "  DeprecationWarning)\n"
     ]
    }
   ],
   "source": [
    "# predicted probabilities for classes at Y index 100\n",
    "y100_pp = lr.predict_proba(Xsub.ix[100, :])[0]\n",
    "print np.round(y100_pp*1000)/1000."
   ]
  },
  {
   "cell_type": "code",
   "execution_count": 14,
   "metadata": {
    "collapsed": false
   },
   "outputs": [
    {
     "name": "stdout",
     "output_type": "stream",
     "text": [
      "[-0.73909882  0.14913597]\n"
     ]
    }
   ],
   "source": [
    "# do this manually: \n",
    "X100 = Xsub.iloc[100, :].values\n",
    "print X100\n",
    "\n",
    "intercept = lr.intercept_\n",
    "coefs = lr.coef_[0]"
   ]
  },
  {
   "cell_type": "code",
   "execution_count": 15,
   "metadata": {
    "collapsed": false
   },
   "outputs": [
    {
     "name": "stdout",
     "output_type": "stream",
     "text": [
      "[ 0.56100922]\n"
     ]
    }
   ],
   "source": [
    "X100_lo = lr.intercept_ + X100[0]*coefs[0] + X100[1]*coefs[1]\n",
    "print X100_lo"
   ]
  },
  {
   "cell_type": "code",
   "execution_count": 16,
   "metadata": {
    "collapsed": false
   },
   "outputs": [
    {
     "name": "stdout",
     "output_type": "stream",
     "text": [
      "0.636686021862\n"
     ]
    }
   ],
   "source": [
    "# this is how to manually calculate for the whole row\n",
    "print logodds_to_prob(X100_lo[0])"
   ]
  },
  {
   "cell_type": "code",
   "execution_count": 19,
   "metadata": {
    "collapsed": false
   },
   "outputs": [
    {
     "name": "stdout",
     "output_type": "stream",
     "text": [
      "0.627416520211\n"
     ]
    }
   ],
   "source": [
    "# actual probability of 1 vs 0, probability of having cancer in our sample:\n",
    "print np.mean(Y)"
   ]
  },
  {
   "cell_type": "markdown",
   "metadata": {},
   "source": [
    "### 4. Interpret individual coefficients - their impact on the probability!"
   ]
  },
  {
   "cell_type": "code",
   "execution_count": 18,
   "metadata": {
    "collapsed": false
   },
   "outputs": [
    {
     "name": "stdout",
     "output_type": "stream",
     "text": [
      "[ 0.61225201]\n"
     ]
    }
   ],
   "source": [
    "intercept_p = logodds_to_prob(intercept)\n",
    "print intercept_p"
   ]
  },
  {
   "cell_type": "code",
   "execution_count": 20,
   "metadata": {
    "collapsed": false
   },
   "outputs": [
    {
     "name": "stdout",
     "output_type": "stream",
     "text": [
      "[-1.08904585 -4.69834081]\n"
     ]
    }
   ],
   "source": [
    "# what if mean symmetry was 1 standard deviation higher than the mean?\n",
    "# but worst radius for the person is the mean\n",
    "print coefs"
   ]
  },
  {
   "cell_type": "code",
   "execution_count": 23,
   "metadata": {
    "collapsed": false
   },
   "outputs": [
    {
     "name": "stdout",
     "output_type": "stream",
     "text": [
      "[ 0.34699883]\n"
     ]
    }
   ],
   "source": [
    "prob_1std_ms = logodds_to_prob(intercept + coefs[0]*1 + coefs[1]*0)\n",
    "print prob_1std_ms"
   ]
  },
  {
   "cell_type": "code",
   "execution_count": 24,
   "metadata": {
    "collapsed": false
   },
   "outputs": [
    {
     "name": "stdout",
     "output_type": "stream",
     "text": [
      "probability of logodds 1: 0.73105857863\n",
      "probability of logodds 1: 0.5\n"
     ]
    }
   ],
   "source": [
    "# logodds of different values turned into probabilities\n",
    "print 'probability of logodds 1:', logodds_to_prob(1)\n",
    "\n",
    "# coefficient if 0 indicates equal odds for that predictor - no effect on the probability\n",
    "# no matter what your predictor value is, it's multiplied by 0, so no effect\n",
    "print 'probability of logodds 1:', logodds_to_prob(0)"
   ]
  },
  {
   "cell_type": "code",
   "execution_count": 38,
   "metadata": {
    "collapsed": false
   },
   "outputs": [
    {
     "name": "stdout",
     "output_type": "stream",
     "text": [
      "0.990971869282\n",
      "0.748202006074\n"
     ]
    }
   ],
   "source": [
    "# ok, what is the effect, the change in odds, of a predictor, based on its coefficients?\n",
    "# worst radius has a big, negative coefficient\n",
    "# If I had 1 standard deviation higher worst radius, what is the change in my probability of having cancer?\n",
    "# Here a 1 is NOT having cancer, a 0 IS having cancer\n",
    "my_worst_radius_increase = 1\n",
    "change_prob_having_cancer_1std_worst_radius = (1 - (logodds_to_prob(coefs[1]*my_worst_radius_increase)))\n",
    "print change_prob_having_cancer_1std_worst_radius\n",
    "\n",
    "my_mean_symmetry_increase = 1\n",
    "change_prob_mean_symmetry = (1 - (logodds_to_prob(coefs[0]*my_mean_symmetry_increase)))\n",
    "print change_prob_mean_symmetry"
   ]
  },
  {
   "cell_type": "code",
   "execution_count": 35,
   "metadata": {
    "collapsed": false
   },
   "outputs": [
    {
     "data": {
      "text/plain": [
       "-0.49097186928181558"
      ]
     },
     "execution_count": 35,
     "metadata": {},
     "output_type": "execute_result"
    }
   ],
   "source": [
    "change_prob_having_cancer_1std_worst_radius"
   ]
  },
  {
   "cell_type": "code",
   "execution_count": null,
   "metadata": {
    "collapsed": true
   },
   "outputs": [],
   "source": []
  }
 ],
 "metadata": {
  "kernelspec": {
   "display_name": "Python 2",
   "language": "python",
   "name": "python2"
  },
  "language_info": {
   "codemirror_mode": {
    "name": "ipython",
    "version": 2
   },
   "file_extension": ".py",
   "mimetype": "text/x-python",
   "name": "python",
   "nbconvert_exporter": "python",
   "pygments_lexer": "ipython2",
   "version": "2.7.11"
  }
 },
 "nbformat": 4,
 "nbformat_minor": 0
}
