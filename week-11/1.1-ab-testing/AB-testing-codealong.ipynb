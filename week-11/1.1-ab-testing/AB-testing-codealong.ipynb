{
 "cells": [
  {
   "cell_type": "markdown",
   "metadata": {},
   "source": [
    "<img src=\"https://ga-dash.s3.amazonaws.com/production/assets/logo-9f88ae6c9c3871690e33280fcf557f33.png\" style=\"float: left; margin: 15px\">\n",
    "\n",
    "# Introduction to A/B Testing\n",
    "\n",
    "Week 11 | Lesson 1.1\n",
    "\n",
    "---\n",
    "\n",
    "A/B  (A/B/C/etc.) split testing is a popular and ubiquitous technique for improving products in industry (particular the tech industry).\n",
    "\n",
    "The main topics of this lecture are the design and the ways of \"winnering\" a split test.\n",
    "\n",
    "---"
   ]
  },
  {
   "cell_type": "code",
   "execution_count": 1,
   "metadata": {
    "collapsed": true
   },
   "outputs": [],
   "source": [
    "import pandas as pd\n",
    "import numpy as np\n",
    "import matplotlib.pyplot as plt\n",
    "import seaborn as sns\n",
    "import datetime as dt\n",
    "#import prettyplotlib as ppl\n",
    "\n",
    "sns.set_style('whitegrid')\n",
    "\n",
    "%matplotlib inline\n",
    "%config InlineBackend.figure_format = 'retina'\n",
    "\n",
    "from ipywidgets import interact\n",
    "import ipywidgets as widgets\n",
    "from IPython.display import Image\n"
   ]
  },
  {
   "cell_type": "markdown",
   "metadata": {},
   "source": [
    "---\n",
    "\n",
    "## A/B Test Design\n",
    "\n",
    "An example of an A/B test might be:\n",
    "\n",
    ">Google wants to test if changing the size of the information card on the right side of the search results page will result in more people clicking on links inside of it. They construct two versions of their search results page, one with the original, \"control\" page where the box is 300px wide, and a new \"experimental\" page where the box is 301px wide.\n",
    "        \n",
    ">For one day, they funnel 90% of searchers to the control page and 10% to the experimental page. At the end of the day, they check the click rates for each and determine a winner.\n",
    "\n",
    "\n",
    "Good A/B test design applies scientific standards borrowed from experimental design in science. As is described above, A/B tests are really just experiments and hypothesis testing with a different name and context.\n"
   ]
  },
  {
   "cell_type": "code",
   "execution_count": 2,
   "metadata": {
    "collapsed": false
   },
   "outputs": [
    {
     "data": {
      "image/png": "[encoded data removed]",
      "text/plain": [
       "<IPython.core.display.Image object>"
      ]
     },
     "execution_count": 2,
     "metadata": {
      "image/png": {
       "width": 900
      }
     },
     "output_type": "execute_result"
    }
   ],
   "source": [
    "Image(filename='./assets/images/ab_test1.png', width=900) "
   ]
  },
  {
   "cell_type": "markdown",
   "metadata": {},
   "source": [
    "---\n",
    "\n",
    "## A/B Testing Case Studies\n",
    "\n",
    "In groups read about A/B testing case studies, discuss, and then present to the class on what the findings and outcome of the case study was.\n",
    "\n",
    "\n",
    "#### Case study 1: How Obama raised 60 million dollars\n",
    "\n",
    "https://blog.optimizely.com/2010/11/29/how-obama-raised-60-million-by-running-a-simple-experiment/\n",
    "\n",
    "#### Case study 2: How AMD increased social sharing by 3600%\n",
    "\n",
    "https://vwo.com/blog/amd-3600-social-sharing-increase/\n",
    "\n",
    "#### Case study 3: Failed A/B tests increase conversion\n",
    "\n",
    "http://unbounce.com/a-b-testing/failed-ab-test-results/\n",
    "\n",
    "#### Case study 4: When good design is bad for business\n",
    "\n",
    "https://vwo.com/blog/good-design-bad-conversion-rate/\n",
    "\n"
   ]
  },
  {
   "cell_type": "markdown",
   "metadata": {},
   "source": [
    "---\n",
    "\n",
    "### Setup of a Split Test\n",
    "\n",
    "Companies running as split test, and particularly the data scientists responsible for the construction and analysis of the test, should consider in detail the value, purpose, and setup of the test before beginning any _technical_ work. Four essential considerations before beginning a test are:\n",
    "\n",
    "**1. WHAT ELEMENTS WILL BE CHANGED IN THE PRODUCT?**\n",
    "\n",
    "Data scientist typically work closely with Product or Project Managers (PMs). You will often have limited say in what elements are changed for a test, but this does not mean you should avoid \"weighing in\". In fact, it is essential as a data scientist to clearly communicate your opinion of the test since you are the most statistically savvy. At this stage in the process, ensuring the smallest/most limited changes are made will prevent false correlations in the data and have the most meaningful results.\n",
    "\n",
    "**2. WHO WILL BE PART OF THE TESTING GROUPS (ARMS) AND BY HOW MUCH?**\n",
    "\n",
    "Will the test split incoming traffic 50/50 between variants? Should you serve the variant under test to a smaller group? Will the test split change? A common and safe practice is to begin by only showing the new variant(s) to a very small proportion of users to ensure there is nothing very wrong with the change, then performing the actual split test on a larger proportion of users.\n",
    "\n",
    "**3. HOW LONG WILL THE TEST RUN?**\n",
    "\n",
    "This is a very important question to ask. If the test doesn't run long enough, your data won't be useful. If it runs too long, that can impact business needs. _In the standard split test procedure, you cannot check the results multiple times!_ We will examine and explain why in a later section.\n",
    "\n",
    "**4. IS THE THE TEST NECESSARY? WHY?**\n",
    "\n",
    "A/B testing is a gamble, and potentially an expensive one. If the business result of the test is less valuable than the possible negative effects on churn or conversion rate, then it is worth re-evaluating your variants and design."
   ]
  },
  {
   "cell_type": "markdown",
   "metadata": {},
   "source": [
    "---\n",
    "\n",
    "### Requirements of the Standard Split Test\n",
    "\n",
    "As with any scientific test, there are requirements for ensuring that the experimental design and results are valid. Below are described the requirements for constructing a _standard_ split test, though variations exist that attempt to get around one or more of these.\n",
    "\n",
    "---\n",
    "\n",
    "**SPLIT TEST REQUIREMENTS**\n",
    "\n",
    "1. **Randomized design:** users are randomly assigned to one of the arms of the test as they visit the site/app. \n",
    "- **Win criteria set in advance:** you must decide before running the test what the condition for accepting a change will be.\n",
    "- **One thing changed per test:** the control and experiemental conditions only vary on one change. Note that more than one change per arm is not statistically invalid, but makes results difficult or impossible to interperet.\n",
    "- **Split test is evaluated only once:** The test ends at a specific point – there is no \"peeking\" at the rates as the test runs.\n",
    "\n",
    "The final point is the most commonly violated and also the biggest pain point when working with other departments in your company. The most popular variations on the standard split test design try to address this issue. We will discuss this more in depth later.\n",
    "\n",
    "---\n",
    "\n",
    "**TWO COMMON SPLIT TEST MISCONCEPTIONS**\n",
    "\n",
    "1. **Split testing can only compare two versions.** This is not true, and multiple arm tests are often referred to as A/B/C, A/B/C/D, etc.\n",
    "2. **Split test arms must have equal fractions of users.** There is no statistical reason that your arms must have equal splits (other than requiring fewer data points).\n"
   ]
  },
  {
   "cell_type": "markdown",
   "metadata": {},
   "source": [
    "---\n",
    "\n",
    "## Analysis of Split Test Results\n",
    "\n",
    "The jargon for choosing the best version and applying it to all users is \"winnering\" an arm of the test. This process is the same as doing a hypothesis test such as a t-test to compare the two mean rates.\n",
    "\n",
    "We will load and analyze the results of a simple A/B test on click-through rates for a website in the dataset below:"
   ]
  },
  {
   "cell_type": "code",
   "execution_count": 31,
   "metadata": {
    "collapsed": false
   },
   "outputs": [],
   "source": [
    "abtest = pd.read_csv('./assets/datasets/CTR.csv')"
   ]
  },
  {
   "cell_type": "markdown",
   "metadata": {},
   "source": [
    "The data columns are:\n",
    "\n",
    "    clicks_converted: the number of clicks that ended up in a \"conversion\", which is the number of users who continued into the site beyond this landing page\n",
    "    clicks_left: the number of users who left the site after clicking into this landing page\n",
    "    test_variant: a 1/0 coded column indicating which of the two arms of the test this measurement was from.\n",
    "    \n",
    "Rows in this dataset are measurements taken at different times separately for each arm. There were 1000 total measurements made before the test was stopped, and the test is not evenly split as only 28.5% of users recieved variant 1 (the \"experimental\" arm).\n",
    "\n",
    "---\n",
    "\n",
    "### Aggregate and Plot Conversion Data\n",
    "\n",
    "Aggregate the number of clicks converted and clicks left by test variant, then plot the differences using a barplot."
   ]
  },
  {
   "cell_type": "code",
   "execution_count": 3,
   "metadata": {
    "collapsed": false
   },
   "outputs": [
    {
     "data": {
      "text/html": [
       "<div>\n",
       "<table border=\"1\" class=\"dataframe\">\n",
       "  <thead>\n",
       "    <tr style=\"text-align: right;\">\n",
       "      <th></th>\n",
       "      <th>clicks_converted</th>\n",
       "      <th>clicks_left</th>\n",
       "      <th>test_variant</th>\n",
       "    </tr>\n",
       "  </thead>\n",
       "  <tbody>\n",
       "    <tr>\n",
       "      <th>0</th>\n",
       "      <td>11</td>\n",
       "      <td>19</td>\n",
       "      <td>0</td>\n",
       "    </tr>\n",
       "    <tr>\n",
       "      <th>1</th>\n",
       "      <td>10</td>\n",
       "      <td>20</td>\n",
       "      <td>0</td>\n",
       "    </tr>\n",
       "    <tr>\n",
       "      <th>2</th>\n",
       "      <td>11</td>\n",
       "      <td>17</td>\n",
       "      <td>0</td>\n",
       "    </tr>\n",
       "    <tr>\n",
       "      <th>3</th>\n",
       "      <td>15</td>\n",
       "      <td>14</td>\n",
       "      <td>0</td>\n",
       "    </tr>\n",
       "    <tr>\n",
       "      <th>4</th>\n",
       "      <td>11</td>\n",
       "      <td>18</td>\n",
       "      <td>0</td>\n",
       "    </tr>\n",
       "  </tbody>\n",
       "</table>\n",
       "</div>"
      ],
      "text/plain": [
       "   clicks_converted  clicks_left  test_variant\n",
       "0                11           19             0\n",
       "1                10           20             0\n",
       "2                11           17             0\n",
       "3                15           14             0\n",
       "4                11           18             0"
      ]
     },
     "execution_count": 3,
     "metadata": {},
     "output_type": "execute_result"
    }
   ],
   "source": [
    "abtest.head()"
   ]
  },
  {
   "cell_type": "code",
   "execution_count": 13,
   "metadata": {
    "collapsed": false
   },
   "outputs": [
    {
     "data": {
      "text/html": [
       "<div>\n",
       "<table border=\"1\" class=\"dataframe\">\n",
       "  <thead>\n",
       "    <tr style=\"text-align: right;\">\n",
       "      <th></th>\n",
       "      <th>test_variant</th>\n",
       "      <th>clicks_converted</th>\n",
       "    </tr>\n",
       "  </thead>\n",
       "  <tbody>\n",
       "    <tr>\n",
       "      <th>0</th>\n",
       "      <td>0</td>\n",
       "      <td>8615</td>\n",
       "    </tr>\n",
       "    <tr>\n",
       "      <th>1</th>\n",
       "      <td>1</td>\n",
       "      <td>6197</td>\n",
       "    </tr>\n",
       "  </tbody>\n",
       "</table>\n",
       "</div>"
      ],
      "text/plain": [
       "   test_variant  clicks_converted\n",
       "0             0              8615\n",
       "1             1              6197"
      ]
     },
     "execution_count": 13,
     "metadata": {},
     "output_type": "execute_result"
    }
   ],
   "source": [
    "clicks_conv = abtest.groupby('test_variant')['clicks_converted'].sum().reset_index()\n",
    "clicks_conv"
   ]
  },
  {
   "cell_type": "code",
   "execution_count": 14,
   "metadata": {
    "collapsed": false
   },
   "outputs": [
    {
     "data": {
      "text/html": [
       "<div>\n",
       "<table border=\"1\" class=\"dataframe\">\n",
       "  <thead>\n",
       "    <tr style=\"text-align: right;\">\n",
       "      <th></th>\n",
       "      <th>test_variant</th>\n",
       "      <th>clicks_left</th>\n",
       "    </tr>\n",
       "  </thead>\n",
       "  <tbody>\n",
       "    <tr>\n",
       "      <th>0</th>\n",
       "      <td>0</td>\n",
       "      <td>14181</td>\n",
       "    </tr>\n",
       "    <tr>\n",
       "      <th>1</th>\n",
       "      <td>1</td>\n",
       "      <td>5724</td>\n",
       "    </tr>\n",
       "  </tbody>\n",
       "</table>\n",
       "</div>"
      ],
      "text/plain": [
       "   test_variant  clicks_left\n",
       "0             0        14181\n",
       "1             1         5724"
      ]
     },
     "execution_count": 14,
     "metadata": {},
     "output_type": "execute_result"
    }
   ],
   "source": [
    "clicks_left = abtest.groupby('test_variant')['clicks_left'].sum().reset_index()\n",
    "clicks_left"
   ]
  },
  {
   "cell_type": "code",
   "execution_count": 29,
   "metadata": {
    "collapsed": false
   },
   "outputs": [
    {
     "data": {
      "text/plain": [
       "<matplotlib.axes._subplots.AxesSubplot at 0xd1f0a20>"
      ]
     },
     "execution_count": 29,
     "metadata": {},
     "output_type": "execute_result"
    },
    {
     "data": {
      "image/png": "[encoded data removed]",
      "text/plain": [
       "<matplotlib.figure.Figure at 0xd131198>"
      ]
     },
     "metadata": {
      "image/png": {
       "height": 273,
       "width": 393
      }
     },
     "output_type": "display_data"
    }
   ],
   "source": [
    "sns.barplot(x = 'test_variant', y = 'clicks_converted', data = clicks_conv)"
   ]
  },
  {
   "cell_type": "code",
   "execution_count": 30,
   "metadata": {
    "collapsed": false
   },
   "outputs": [
    {
     "data": {
      "text/plain": [
       "<matplotlib.axes._subplots.AxesSubplot at 0xd304908>"
      ]
     },
     "execution_count": 30,
     "metadata": {},
     "output_type": "execute_result"
    },
    {
     "data": {
      "image/png": "[encoded data removed]",
      "text/plain": [
       "<matplotlib.figure.Figure at 0xc148828>"
      ]
     },
     "metadata": {
      "image/png": {
       "height": 273,
       "width": 399
      }
     },
     "output_type": "display_data"
    }
   ],
   "source": [
    "sns.barplot(x = 'test_variant', y = 'clicks_left', data = clicks_left)"
   ]
  },
  {
   "cell_type": "markdown",
   "metadata": {},
   "source": [
    "---\n",
    "\n",
    "### Analyzing Results with the Chi-square Test\n",
    "\n",
    "It's pretty obvious from the above chart which of the two is achieving the higher click-through rate per user, but you always need to do a rigorous statistical test.\n",
    "\n",
    "A basic statistical method for evaluating this test is the **chi-square test of independence.** Essentially, the chi-square test is a procedure to determine if the observed distribution of categorical variables is independent or not. In the context here, it tells us the probability that our arms come from the same distribution. \n",
    "\n",
    "If the likelihood of dependence is low, then we can assume that the measured mean counts of arms (rates of conversion) are not the same, which is the null hypothesis.\n",
    "\n",
    "For more information see:\n",
    "\n",
    "http://www.ling.upenn.edu/~clight/chisquared.htm\n",
    "\n",
    "http://thestatsgeek.com/2013/07/22/ab-testing/\n",
    "\n",
    "\n",
    "#### Calculate the chi-square p-value below and describe what it means:\n",
    "\n",
    "You can use the `chi2_contingency()` function to calculate this on a contingency table matrix.\n",
    "\n",
    "http://docs.scipy.org/doc/scipy-0.16.0/reference/generated/scipy.stats.chi2_contingency.html\n"
   ]
  },
  {
   "cell_type": "code",
   "execution_count": 32,
   "metadata": {
    "collapsed": false
   },
   "outputs": [],
   "source": [
    "from scipy.stats import chi2_contingency"
   ]
  },
  {
   "cell_type": "code",
   "execution_count": 40,
   "metadata": {
    "collapsed": false
   },
   "outputs": [
    {
     "data": {
      "text/html": [
       "<div>\n",
       "<table border=\"1\" class=\"dataframe\">\n",
       "  <thead>\n",
       "    <tr style=\"text-align: right;\">\n",
       "      <th></th>\n",
       "      <th>test_variant</th>\n",
       "      <th>clicks_converted</th>\n",
       "      <th>clicks_left</th>\n",
       "    </tr>\n",
       "  </thead>\n",
       "  <tbody>\n",
       "    <tr>\n",
       "      <th>0</th>\n",
       "      <td>0</td>\n",
       "      <td>8615</td>\n",
       "      <td>14181</td>\n",
       "    </tr>\n",
       "    <tr>\n",
       "      <th>1</th>\n",
       "      <td>1</td>\n",
       "      <td>6197</td>\n",
       "      <td>5724</td>\n",
       "    </tr>\n",
       "  </tbody>\n",
       "</table>\n",
       "</div>"
      ],
      "text/plain": [
       "   test_variant  clicks_converted  clicks_left\n",
       "0             0              8615        14181\n",
       "1             1              6197         5724"
      ]
     },
     "execution_count": 40,
     "metadata": {},
     "output_type": "execute_result"
    }
   ],
   "source": [
    "ab_agg = abtest.groupby('test_variant').sum().reset_index()\n",
    "ab_agg"
   ]
  },
  {
   "cell_type": "code",
   "execution_count": 42,
   "metadata": {
    "collapsed": false,
    "scrolled": true
   },
   "outputs": [
    {
     "ename": "TypeError",
     "evalue": "melt() got an unexpected keyword argument 'column'",
     "output_type": "error",
     "traceback": [
      "\u001b[1;31m---------------------------------------------------------------------------\u001b[0m",
      "\u001b[1;31mTypeError\u001b[0m                                 Traceback (most recent call last)",
      "\u001b[1;32m<ipython-input-42-a45d4232fa06>\u001b[0m in \u001b[0;36m<module>\u001b[1;34m()\u001b[0m\n\u001b[1;32m----> 1\u001b[1;33m \u001b[0mab_agg_long\u001b[0m \u001b[1;33m=\u001b[0m \u001b[0mpd\u001b[0m\u001b[1;33m.\u001b[0m\u001b[0mmelt\u001b[0m\u001b[1;33m(\u001b[0m\u001b[0mab_agg\u001b[0m\u001b[1;33m,\u001b[0m \u001b[0mid_vars\u001b[0m \u001b[1;33m=\u001b[0m \u001b[1;33m[\u001b[0m\u001b[1;34m'test_variant'\u001b[0m\u001b[1;33m]\u001b[0m\u001b[1;33m,\u001b[0m \u001b[0mcolumn\u001b[0m \u001b[1;33m=\u001b[0m \u001b[1;34m'count'\u001b[0m\u001b[1;33m)\u001b[0m\u001b[1;33m.\u001b[0m\u001b[0mreset_index\u001b[0m\u001b[1;33m(\u001b[0m\u001b[0mdrop\u001b[0m\u001b[1;33m=\u001b[0m\u001b[0mTrue\u001b[0m\u001b[1;33m)\u001b[0m\u001b[1;33m\u001b[0m\u001b[0m\n\u001b[0m",
      "\u001b[1;31mTypeError\u001b[0m: melt() got an unexpected keyword argument 'column'"
     ]
    }
   ],
   "source": [
    "ab_agg_long = pd.melt(ab_agg, id_vars = ['test_variant'], column = 'count').reset_index(drop=True)"
   ]
  },
  {
   "cell_type": "code",
   "execution_count": 37,
   "metadata": {
    "collapsed": false
   },
   "outputs": [
    {
     "name": "stdout",
     "output_type": "stream",
     "text": [
      "[[ 8615 14181]\n",
      " [ 6197  5724]]\n"
     ]
    }
   ],
   "source": [
    "contingency = ab_agg[['clicks_converted', 'clicks_left']].values\n",
    "print contingency"
   ]
  },
  {
   "cell_type": "code",
   "execution_count": 39,
   "metadata": {
    "collapsed": false
   },
   "outputs": [
    {
     "name": "stdout",
     "output_type": "stream",
     "text": [
      "643.938809137 4.64847157614e-142\n"
     ]
    }
   ],
   "source": [
    "chi_sq_stats, chi_sq_pvalue, _, _ = chi2_contingency(contingency)\n",
    "print chi_sq_stats, chi_sq_pvalue"
   ]
  },
  {
   "cell_type": "markdown",
   "metadata": {},
   "source": [
    "---\n",
    "\n",
    "### Analyzing Results with a T-test\n",
    "\n",
    "As you may recall, the **student's t-test** is a method for examining whether the mean of two distributions are different. Our null hypothesis is that the means are not different between arms, and likewise the alternative hypothesis is that they are.\n",
    "\n",
    "You can also use the similar z-test to calculate difference of means for split tests, and some do, but I prefer student's t-test as it can assume that the variances are not equal between distributions.\n",
    "\n",
    "#### Calculate the two-tailed t-test below\n",
    "\n",
    "You can use the `ttest_ind()` function from `scipy.stats` to do the calculation. \n",
    "\n",
    "http://docs.scipy.org/doc/scipy/reference/generated/scipy.stats.ttest_ind.html\n",
    "\n",
    "T-tests can be \"one-tailed\" or \"two-tailed\". If you've forgotten what these refer to look it up on Google! Explain why the two-tailed is more appropriate."
   ]
  },
  {
   "cell_type": "code",
   "execution_count": 43,
   "metadata": {
    "collapsed": false
   },
   "outputs": [
    {
     "data": {
      "text/html": [
       "<div>\n",
       "<table border=\"1\" class=\"dataframe\">\n",
       "  <thead>\n",
       "    <tr style=\"text-align: right;\">\n",
       "      <th></th>\n",
       "      <th>clicks_converted</th>\n",
       "      <th>clicks_left</th>\n",
       "      <th>test_variant</th>\n",
       "    </tr>\n",
       "  </thead>\n",
       "  <tbody>\n",
       "    <tr>\n",
       "      <th>0</th>\n",
       "      <td>11</td>\n",
       "      <td>19</td>\n",
       "      <td>0</td>\n",
       "    </tr>\n",
       "    <tr>\n",
       "      <th>1</th>\n",
       "      <td>10</td>\n",
       "      <td>20</td>\n",
       "      <td>0</td>\n",
       "    </tr>\n",
       "    <tr>\n",
       "      <th>2</th>\n",
       "      <td>11</td>\n",
       "      <td>17</td>\n",
       "      <td>0</td>\n",
       "    </tr>\n",
       "    <tr>\n",
       "      <th>3</th>\n",
       "      <td>15</td>\n",
       "      <td>14</td>\n",
       "      <td>0</td>\n",
       "    </tr>\n",
       "    <tr>\n",
       "      <th>4</th>\n",
       "      <td>11</td>\n",
       "      <td>18</td>\n",
       "      <td>0</td>\n",
       "    </tr>\n",
       "  </tbody>\n",
       "</table>\n",
       "</div>"
      ],
      "text/plain": [
       "   clicks_converted  clicks_left  test_variant\n",
       "0                11           19             0\n",
       "1                10           20             0\n",
       "2                11           17             0\n",
       "3                15           14             0\n",
       "4                11           18             0"
      ]
     },
     "execution_count": 43,
     "metadata": {},
     "output_type": "execute_result"
    }
   ],
   "source": [
    "abtest.head()"
   ]
  },
  {
   "cell_type": "code",
   "execution_count": 44,
   "metadata": {
    "collapsed": true
   },
   "outputs": [],
   "source": [
    "abtest['convert_rate'] = abtest.clicks_converted / (abtest.clicks_converted + abtest.clicks_left)"
   ]
  },
  {
   "cell_type": "code",
   "execution_count": 46,
   "metadata": {
    "collapsed": false
   },
   "outputs": [
    {
     "data": {
      "text/html": [
       "<div>\n",
       "<table border=\"1\" class=\"dataframe\">\n",
       "  <thead>\n",
       "    <tr style=\"text-align: right;\">\n",
       "      <th></th>\n",
       "      <th>clicks_converted</th>\n",
       "      <th>clicks_left</th>\n",
       "      <th>test_variant</th>\n",
       "      <th>convert_rate</th>\n",
       "    </tr>\n",
       "  </thead>\n",
       "  <tbody>\n",
       "    <tr>\n",
       "      <th>0</th>\n",
       "      <td>11</td>\n",
       "      <td>19</td>\n",
       "      <td>0</td>\n",
       "      <td>0.366667</td>\n",
       "    </tr>\n",
       "    <tr>\n",
       "      <th>1</th>\n",
       "      <td>10</td>\n",
       "      <td>20</td>\n",
       "      <td>0</td>\n",
       "      <td>0.333333</td>\n",
       "    </tr>\n",
       "    <tr>\n",
       "      <th>2</th>\n",
       "      <td>11</td>\n",
       "      <td>17</td>\n",
       "      <td>0</td>\n",
       "      <td>0.392857</td>\n",
       "    </tr>\n",
       "    <tr>\n",
       "      <th>3</th>\n",
       "      <td>15</td>\n",
       "      <td>14</td>\n",
       "      <td>0</td>\n",
       "      <td>0.517241</td>\n",
       "    </tr>\n",
       "    <tr>\n",
       "      <th>4</th>\n",
       "      <td>11</td>\n",
       "      <td>18</td>\n",
       "      <td>0</td>\n",
       "      <td>0.379310</td>\n",
       "    </tr>\n",
       "  </tbody>\n",
       "</table>\n",
       "</div>"
      ],
      "text/plain": [
       "   clicks_converted  clicks_left  test_variant  convert_rate\n",
       "0                11           19             0      0.366667\n",
       "1                10           20             0      0.333333\n",
       "2                11           17             0      0.392857\n",
       "3                15           14             0      0.517241\n",
       "4                11           18             0      0.379310"
      ]
     },
     "execution_count": 46,
     "metadata": {},
     "output_type": "execute_result"
    }
   ],
   "source": [
    "abtest.head()"
   ]
  },
  {
   "cell_type": "code",
   "execution_count": 48,
   "metadata": {
    "collapsed": false
   },
   "outputs": [],
   "source": [
    "arm_A_rates = abtest[abtest.test_variant == 0].convert_rate\n",
    "arm_B_rates = abtest[abtest.test_variant == 1].convert_rate"
   ]
  },
  {
   "cell_type": "code",
   "execution_count": 49,
   "metadata": {
    "collapsed": true
   },
   "outputs": [],
   "source": [
    "from scipy.stats import ttest_ind"
   ]
  },
  {
   "cell_type": "code",
   "execution_count": 50,
   "metadata": {
    "collapsed": true
   },
   "outputs": [],
   "source": [
    "tval, t_pval = ttest_ind(arm_A_rates, arm_B_rates, equal_var = False)"
   ]
  },
  {
   "cell_type": "code",
   "execution_count": 51,
   "metadata": {
    "collapsed": false
   },
   "outputs": [
    {
     "name": "stdout",
     "output_type": "stream",
     "text": [
      "-26.6625466199 3.83422923362e-103\n"
     ]
    }
   ],
   "source": [
    "print tval, t_pval"
   ]
  },
  {
   "cell_type": "markdown",
   "metadata": {},
   "source": [
    "---\n",
    "\n",
    "## LAB: The danger of \"peeking\" – examining the results of your split test over time.\n",
    "\n",
    "Analyzing the results of a split test multiple times over time is one of the most common and dangerous mistakes that statistically uninformed analysts make. It is actually pretty shocking how much this is done, though people are much better about it now. As a data scientist it is essential that you enforce no \"peeking\" multiple times at the state of the split test results.\n",
    "\n",
    "To look at why this is the case, we will look at peeking vs not peeking on fake split tests below.\n",
    "\n",
    "---\n",
    "\n",
    "### Conversion function\n",
    "\n",
    "You are provided with a function `split_test_results(user_count, arm)` that will accept a number of \"users\" and an arm (\"A\" or \"B\"). The function returns the number of conversions and the number that left in a list."
   ]
  },
  {
   "cell_type": "code",
   "execution_count": 52,
   "metadata": {
    "collapsed": true
   },
   "outputs": [],
   "source": [
    "from numpy.random import binomial\n",
    "\n",
    "def split_test_results(user_count, arm='A'):\n",
    "    \n",
    "    if arm == 'A':\n",
    "        a = binomial(1, .08, size=user_count)\n",
    "        return [np.sum(a), user_count - np.sum(a)]\n",
    "    \n",
    "    if arm == 'B':\n",
    "        b = binomial(1, .13, size=user_count)\n",
    "        return [np.sum(b), user_count - np.sum(b)]\n",
    "    "
   ]
  },
  {
   "cell_type": "markdown",
   "metadata": {},
   "source": [
    "---\n",
    "\n",
    "### Create 50 split test results\n",
    "\n",
    "You will run 50 different split tests that each run for 75 \"days\" (don't worry about datetime stuff here - just use each row as a day. Datetime manipulation is not the point here.)\n",
    "\n",
    "The DataFrame for each test should look something like this:\n",
    "\n",
    "| arm_a_conversions | arm_a_left | arm_b_conversions | arm_b_left | day | split_test_num |\n",
    "| :---: | :---: | :---: | :---: | :---: | :---: |\n",
    "| 3 | 7 | 9 | 4 | 1 | 1 |\n",
    "| 1 | 8 | 10 | 3 | 2 | 1 |\n",
    "| 4 | 5 | 2 | 11 | 3 | 1 |\n",
    "\n",
    "Make **arm A take 28 users per day**, and **arm B take 16 users per day**. Again, there should be 75 days per split test and 50 split tests, so the shape of the dataframe will be (3750, 6).\n"
   ]
  },
  {
   "cell_type": "code",
   "execution_count": 60,
   "metadata": {
    "collapsed": true
   },
   "outputs": [],
   "source": [
    "abtest = pd.DataFrame(columns = ['arm_a_conversions', 'arm_a_left', 'arm_b_conversions', 'arm_b_left'])"
   ]
  },
  {
   "cell_type": "code",
   "execution_count": 64,
   "metadata": {
    "collapsed": false
   },
   "outputs": [
    {
     "data": {
      "text/plain": [
       "3"
      ]
     },
     "execution_count": 64,
     "metadata": {},
     "output_type": "execute_result"
    }
   ],
   "source": [
    "split_test_results(28, arm = 'A')[0]"
   ]
  },
  {
   "cell_type": "code",
   "execution_count": 82,
   "metadata": {
    "collapsed": false
   },
   "outputs": [],
   "source": [
    "def split_test_func(days, tests, arm_a_users, arm_b_users):\n",
    "\n",
    "    arm_a_conversions = []\n",
    "    arm_b_conversions = []\n",
    "    arm_a_left = []\n",
    "    arm_b_left = []\n",
    "    split_test_num = []\n",
    "    day = []\n",
    "\n",
    "    for j in range(tests):\n",
    "        for i in range(days):\n",
    "            split_test_num.append(j + 1)\n",
    "            day.append(i)\n",
    "            arm_a_conversions.append(split_test_results(arm_a_users, arm = 'A')[0])\n",
    "            arm_a_left.append(split_test_results(arm_a_users, arm = 'A')[1])\n",
    "\n",
    "    for j in range(tests):\n",
    "        for i in range(days):\n",
    "            arm_b_conversions.append(split_test_results(arm_b_users, arm = 'B')[0])\n",
    "            arm_b_left.append(split_test_results(arm_b_users, arm = 'B')[1])"
   ]
  },
  {
   "cell_type": "code",
   "execution_count": 83,
   "metadata": {
    "collapsed": true
   },
   "outputs": [],
   "source": [
    "split_test_func(75, 50, 28, 16)"
   ]
  },
  {
   "cell_type": "code",
   "execution_count": 84,
   "metadata": {
    "collapsed": false
   },
   "outputs": [],
   "source": [
    "abtest['arm_a_conversions'] = arm_a_conversions\n",
    "abtest['arm_a_left'] = arm_a_left\n",
    "abtest['arm_b_conversions'] = arm_b_conversions\n",
    "abtest['arm_b_left'] = arm_b_left\n",
    "abtest['split_test_num'] = split_test_num\n",
    "abtest['day'] = day"
   ]
  },
  {
   "cell_type": "code",
   "execution_count": 85,
   "metadata": {
    "collapsed": false,
    "scrolled": true
   },
   "outputs": [
    {
     "data": {
      "text/html": [
       "<div>\n",
       "<table border=\"1\" class=\"dataframe\">\n",
       "  <thead>\n",
       "    <tr style=\"text-align: right;\">\n",
       "      <th></th>\n",
       "      <th>arm_a_conversions</th>\n",
       "      <th>arm_a_left</th>\n",
       "      <th>arm_b_conversions</th>\n",
       "      <th>arm_b_left</th>\n",
       "      <th>split_test_num</th>\n",
       "      <th>day</th>\n",
       "    </tr>\n",
       "  </thead>\n",
       "  <tbody>\n",
       "    <tr>\n",
       "      <th>0</th>\n",
       "      <td>3</td>\n",
       "      <td>28</td>\n",
       "      <td>2</td>\n",
       "      <td>13</td>\n",
       "      <td>1</td>\n",
       "      <td>0</td>\n",
       "    </tr>\n",
       "    <tr>\n",
       "      <th>1</th>\n",
       "      <td>1</td>\n",
       "      <td>27</td>\n",
       "      <td>3</td>\n",
       "      <td>15</td>\n",
       "      <td>1</td>\n",
       "      <td>1</td>\n",
       "    </tr>\n",
       "    <tr>\n",
       "      <th>2</th>\n",
       "      <td>2</td>\n",
       "      <td>28</td>\n",
       "      <td>2</td>\n",
       "      <td>16</td>\n",
       "      <td>1</td>\n",
       "      <td>2</td>\n",
       "    </tr>\n",
       "    <tr>\n",
       "      <th>3</th>\n",
       "      <td>3</td>\n",
       "      <td>26</td>\n",
       "      <td>3</td>\n",
       "      <td>13</td>\n",
       "      <td>1</td>\n",
       "      <td>3</td>\n",
       "    </tr>\n",
       "    <tr>\n",
       "      <th>4</th>\n",
       "      <td>1</td>\n",
       "      <td>26</td>\n",
       "      <td>1</td>\n",
       "      <td>14</td>\n",
       "      <td>1</td>\n",
       "      <td>4</td>\n",
       "    </tr>\n",
       "    <tr>\n",
       "      <th>5</th>\n",
       "      <td>2</td>\n",
       "      <td>23</td>\n",
       "      <td>2</td>\n",
       "      <td>14</td>\n",
       "      <td>1</td>\n",
       "      <td>5</td>\n",
       "    </tr>\n",
       "    <tr>\n",
       "      <th>6</th>\n",
       "      <td>1</td>\n",
       "      <td>27</td>\n",
       "      <td>1</td>\n",
       "      <td>16</td>\n",
       "      <td>1</td>\n",
       "      <td>6</td>\n",
       "    </tr>\n",
       "    <tr>\n",
       "      <th>7</th>\n",
       "      <td>3</td>\n",
       "      <td>27</td>\n",
       "      <td>2</td>\n",
       "      <td>13</td>\n",
       "      <td>1</td>\n",
       "      <td>7</td>\n",
       "    </tr>\n",
       "    <tr>\n",
       "      <th>8</th>\n",
       "      <td>1</td>\n",
       "      <td>25</td>\n",
       "      <td>2</td>\n",
       "      <td>14</td>\n",
       "      <td>1</td>\n",
       "      <td>8</td>\n",
       "    </tr>\n",
       "    <tr>\n",
       "      <th>9</th>\n",
       "      <td>1</td>\n",
       "      <td>27</td>\n",
       "      <td>2</td>\n",
       "      <td>13</td>\n",
       "      <td>1</td>\n",
       "      <td>9</td>\n",
       "    </tr>\n",
       "    <tr>\n",
       "      <th>10</th>\n",
       "      <td>3</td>\n",
       "      <td>25</td>\n",
       "      <td>1</td>\n",
       "      <td>12</td>\n",
       "      <td>1</td>\n",
       "      <td>10</td>\n",
       "    </tr>\n",
       "    <tr>\n",
       "      <th>11</th>\n",
       "      <td>2</td>\n",
       "      <td>23</td>\n",
       "      <td>0</td>\n",
       "      <td>14</td>\n",
       "      <td>1</td>\n",
       "      <td>11</td>\n",
       "    </tr>\n",
       "    <tr>\n",
       "      <th>12</th>\n",
       "      <td>1</td>\n",
       "      <td>27</td>\n",
       "      <td>2</td>\n",
       "      <td>15</td>\n",
       "      <td>1</td>\n",
       "      <td>12</td>\n",
       "    </tr>\n",
       "    <tr>\n",
       "      <th>13</th>\n",
       "      <td>2</td>\n",
       "      <td>26</td>\n",
       "      <td>1</td>\n",
       "      <td>15</td>\n",
       "      <td>1</td>\n",
       "      <td>13</td>\n",
       "    </tr>\n",
       "    <tr>\n",
       "      <th>14</th>\n",
       "      <td>5</td>\n",
       "      <td>25</td>\n",
       "      <td>2</td>\n",
       "      <td>16</td>\n",
       "      <td>1</td>\n",
       "      <td>14</td>\n",
       "    </tr>\n",
       "    <tr>\n",
       "      <th>15</th>\n",
       "      <td>1</td>\n",
       "      <td>25</td>\n",
       "      <td>3</td>\n",
       "      <td>15</td>\n",
       "      <td>1</td>\n",
       "      <td>15</td>\n",
       "    </tr>\n",
       "    <tr>\n",
       "      <th>16</th>\n",
       "      <td>0</td>\n",
       "      <td>23</td>\n",
       "      <td>3</td>\n",
       "      <td>13</td>\n",
       "      <td>1</td>\n",
       "      <td>16</td>\n",
       "    </tr>\n",
       "    <tr>\n",
       "      <th>17</th>\n",
       "      <td>0</td>\n",
       "      <td>24</td>\n",
       "      <td>1</td>\n",
       "      <td>15</td>\n",
       "      <td>1</td>\n",
       "      <td>17</td>\n",
       "    </tr>\n",
       "    <tr>\n",
       "      <th>18</th>\n",
       "      <td>2</td>\n",
       "      <td>26</td>\n",
       "      <td>5</td>\n",
       "      <td>14</td>\n",
       "      <td>1</td>\n",
       "      <td>18</td>\n",
       "    </tr>\n",
       "    <tr>\n",
       "      <th>19</th>\n",
       "      <td>2</td>\n",
       "      <td>26</td>\n",
       "      <td>2</td>\n",
       "      <td>16</td>\n",
       "      <td>1</td>\n",
       "      <td>19</td>\n",
       "    </tr>\n",
       "    <tr>\n",
       "      <th>20</th>\n",
       "      <td>2</td>\n",
       "      <td>25</td>\n",
       "      <td>4</td>\n",
       "      <td>16</td>\n",
       "      <td>1</td>\n",
       "      <td>20</td>\n",
       "    </tr>\n",
       "    <tr>\n",
       "      <th>21</th>\n",
       "      <td>1</td>\n",
       "      <td>24</td>\n",
       "      <td>3</td>\n",
       "      <td>13</td>\n",
       "      <td>1</td>\n",
       "      <td>21</td>\n",
       "    </tr>\n",
       "    <tr>\n",
       "      <th>22</th>\n",
       "      <td>1</td>\n",
       "      <td>23</td>\n",
       "      <td>2</td>\n",
       "      <td>15</td>\n",
       "      <td>1</td>\n",
       "      <td>22</td>\n",
       "    </tr>\n",
       "    <tr>\n",
       "      <th>23</th>\n",
       "      <td>5</td>\n",
       "      <td>25</td>\n",
       "      <td>2</td>\n",
       "      <td>16</td>\n",
       "      <td>1</td>\n",
       "      <td>23</td>\n",
       "    </tr>\n",
       "    <tr>\n",
       "      <th>24</th>\n",
       "      <td>1</td>\n",
       "      <td>28</td>\n",
       "      <td>2</td>\n",
       "      <td>14</td>\n",
       "      <td>1</td>\n",
       "      <td>24</td>\n",
       "    </tr>\n",
       "    <tr>\n",
       "      <th>25</th>\n",
       "      <td>0</td>\n",
       "      <td>25</td>\n",
       "      <td>3</td>\n",
       "      <td>14</td>\n",
       "      <td>1</td>\n",
       "      <td>25</td>\n",
       "    </tr>\n",
       "    <tr>\n",
       "      <th>26</th>\n",
       "      <td>1</td>\n",
       "      <td>21</td>\n",
       "      <td>0</td>\n",
       "      <td>15</td>\n",
       "      <td>1</td>\n",
       "      <td>26</td>\n",
       "    </tr>\n",
       "    <tr>\n",
       "      <th>27</th>\n",
       "      <td>2</td>\n",
       "      <td>26</td>\n",
       "      <td>2</td>\n",
       "      <td>14</td>\n",
       "      <td>1</td>\n",
       "      <td>27</td>\n",
       "    </tr>\n",
       "    <tr>\n",
       "      <th>28</th>\n",
       "      <td>1</td>\n",
       "      <td>25</td>\n",
       "      <td>6</td>\n",
       "      <td>13</td>\n",
       "      <td>1</td>\n",
       "      <td>28</td>\n",
       "    </tr>\n",
       "    <tr>\n",
       "      <th>29</th>\n",
       "      <td>0</td>\n",
       "      <td>23</td>\n",
       "      <td>2</td>\n",
       "      <td>13</td>\n",
       "      <td>1</td>\n",
       "      <td>29</td>\n",
       "    </tr>\n",
       "    <tr>\n",
       "      <th>...</th>\n",
       "      <td>...</td>\n",
       "      <td>...</td>\n",
       "      <td>...</td>\n",
       "      <td>...</td>\n",
       "      <td>...</td>\n",
       "      <td>...</td>\n",
       "    </tr>\n",
       "    <tr>\n",
       "      <th>3720</th>\n",
       "      <td>1</td>\n",
       "      <td>24</td>\n",
       "      <td>1</td>\n",
       "      <td>14</td>\n",
       "      <td>50</td>\n",
       "      <td>45</td>\n",
       "    </tr>\n",
       "    <tr>\n",
       "      <th>3721</th>\n",
       "      <td>1</td>\n",
       "      <td>26</td>\n",
       "      <td>2</td>\n",
       "      <td>14</td>\n",
       "      <td>50</td>\n",
       "      <td>46</td>\n",
       "    </tr>\n",
       "    <tr>\n",
       "      <th>3722</th>\n",
       "      <td>1</td>\n",
       "      <td>27</td>\n",
       "      <td>2</td>\n",
       "      <td>14</td>\n",
       "      <td>50</td>\n",
       "      <td>47</td>\n",
       "    </tr>\n",
       "    <tr>\n",
       "      <th>3723</th>\n",
       "      <td>2</td>\n",
       "      <td>24</td>\n",
       "      <td>2</td>\n",
       "      <td>16</td>\n",
       "      <td>50</td>\n",
       "      <td>48</td>\n",
       "    </tr>\n",
       "    <tr>\n",
       "      <th>3724</th>\n",
       "      <td>1</td>\n",
       "      <td>25</td>\n",
       "      <td>1</td>\n",
       "      <td>14</td>\n",
       "      <td>50</td>\n",
       "      <td>49</td>\n",
       "    </tr>\n",
       "    <tr>\n",
       "      <th>3725</th>\n",
       "      <td>3</td>\n",
       "      <td>26</td>\n",
       "      <td>3</td>\n",
       "      <td>15</td>\n",
       "      <td>50</td>\n",
       "      <td>50</td>\n",
       "    </tr>\n",
       "    <tr>\n",
       "      <th>3726</th>\n",
       "      <td>2</td>\n",
       "      <td>27</td>\n",
       "      <td>4</td>\n",
       "      <td>12</td>\n",
       "      <td>50</td>\n",
       "      <td>51</td>\n",
       "    </tr>\n",
       "    <tr>\n",
       "      <th>3727</th>\n",
       "      <td>3</td>\n",
       "      <td>27</td>\n",
       "      <td>1</td>\n",
       "      <td>16</td>\n",
       "      <td>50</td>\n",
       "      <td>52</td>\n",
       "    </tr>\n",
       "    <tr>\n",
       "      <th>3728</th>\n",
       "      <td>3</td>\n",
       "      <td>24</td>\n",
       "      <td>2</td>\n",
       "      <td>16</td>\n",
       "      <td>50</td>\n",
       "      <td>53</td>\n",
       "    </tr>\n",
       "    <tr>\n",
       "      <th>3729</th>\n",
       "      <td>4</td>\n",
       "      <td>25</td>\n",
       "      <td>4</td>\n",
       "      <td>13</td>\n",
       "      <td>50</td>\n",
       "      <td>54</td>\n",
       "    </tr>\n",
       "    <tr>\n",
       "      <th>3730</th>\n",
       "      <td>3</td>\n",
       "      <td>26</td>\n",
       "      <td>2</td>\n",
       "      <td>15</td>\n",
       "      <td>50</td>\n",
       "      <td>55</td>\n",
       "    </tr>\n",
       "    <tr>\n",
       "      <th>3731</th>\n",
       "      <td>1</td>\n",
       "      <td>26</td>\n",
       "      <td>6</td>\n",
       "      <td>14</td>\n",
       "      <td>50</td>\n",
       "      <td>56</td>\n",
       "    </tr>\n",
       "    <tr>\n",
       "      <th>3732</th>\n",
       "      <td>1</td>\n",
       "      <td>27</td>\n",
       "      <td>0</td>\n",
       "      <td>14</td>\n",
       "      <td>50</td>\n",
       "      <td>57</td>\n",
       "    </tr>\n",
       "    <tr>\n",
       "      <th>3733</th>\n",
       "      <td>0</td>\n",
       "      <td>25</td>\n",
       "      <td>3</td>\n",
       "      <td>16</td>\n",
       "      <td>50</td>\n",
       "      <td>58</td>\n",
       "    </tr>\n",
       "    <tr>\n",
       "      <th>3734</th>\n",
       "      <td>2</td>\n",
       "      <td>25</td>\n",
       "      <td>3</td>\n",
       "      <td>12</td>\n",
       "      <td>50</td>\n",
       "      <td>59</td>\n",
       "    </tr>\n",
       "    <tr>\n",
       "      <th>3735</th>\n",
       "      <td>1</td>\n",
       "      <td>25</td>\n",
       "      <td>2</td>\n",
       "      <td>14</td>\n",
       "      <td>50</td>\n",
       "      <td>60</td>\n",
       "    </tr>\n",
       "    <tr>\n",
       "      <th>3736</th>\n",
       "      <td>2</td>\n",
       "      <td>26</td>\n",
       "      <td>3</td>\n",
       "      <td>13</td>\n",
       "      <td>50</td>\n",
       "      <td>61</td>\n",
       "    </tr>\n",
       "    <tr>\n",
       "      <th>3737</th>\n",
       "      <td>4</td>\n",
       "      <td>23</td>\n",
       "      <td>3</td>\n",
       "      <td>12</td>\n",
       "      <td>50</td>\n",
       "      <td>62</td>\n",
       "    </tr>\n",
       "    <tr>\n",
       "      <th>3738</th>\n",
       "      <td>4</td>\n",
       "      <td>25</td>\n",
       "      <td>3</td>\n",
       "      <td>13</td>\n",
       "      <td>50</td>\n",
       "      <td>63</td>\n",
       "    </tr>\n",
       "    <tr>\n",
       "      <th>3739</th>\n",
       "      <td>1</td>\n",
       "      <td>26</td>\n",
       "      <td>1</td>\n",
       "      <td>15</td>\n",
       "      <td>50</td>\n",
       "      <td>64</td>\n",
       "    </tr>\n",
       "    <tr>\n",
       "      <th>3740</th>\n",
       "      <td>3</td>\n",
       "      <td>26</td>\n",
       "      <td>1</td>\n",
       "      <td>14</td>\n",
       "      <td>50</td>\n",
       "      <td>65</td>\n",
       "    </tr>\n",
       "    <tr>\n",
       "      <th>3741</th>\n",
       "      <td>2</td>\n",
       "      <td>25</td>\n",
       "      <td>2</td>\n",
       "      <td>15</td>\n",
       "      <td>50</td>\n",
       "      <td>66</td>\n",
       "    </tr>\n",
       "    <tr>\n",
       "      <th>3742</th>\n",
       "      <td>1</td>\n",
       "      <td>24</td>\n",
       "      <td>2</td>\n",
       "      <td>11</td>\n",
       "      <td>50</td>\n",
       "      <td>67</td>\n",
       "    </tr>\n",
       "    <tr>\n",
       "      <th>3743</th>\n",
       "      <td>5</td>\n",
       "      <td>26</td>\n",
       "      <td>2</td>\n",
       "      <td>12</td>\n",
       "      <td>50</td>\n",
       "      <td>68</td>\n",
       "    </tr>\n",
       "    <tr>\n",
       "      <th>3744</th>\n",
       "      <td>3</td>\n",
       "      <td>28</td>\n",
       "      <td>3</td>\n",
       "      <td>14</td>\n",
       "      <td>50</td>\n",
       "      <td>69</td>\n",
       "    </tr>\n",
       "    <tr>\n",
       "      <th>3745</th>\n",
       "      <td>1</td>\n",
       "      <td>25</td>\n",
       "      <td>6</td>\n",
       "      <td>15</td>\n",
       "      <td>50</td>\n",
       "      <td>70</td>\n",
       "    </tr>\n",
       "    <tr>\n",
       "      <th>3746</th>\n",
       "      <td>4</td>\n",
       "      <td>27</td>\n",
       "      <td>2</td>\n",
       "      <td>13</td>\n",
       "      <td>50</td>\n",
       "      <td>71</td>\n",
       "    </tr>\n",
       "    <tr>\n",
       "      <th>3747</th>\n",
       "      <td>2</td>\n",
       "      <td>27</td>\n",
       "      <td>3</td>\n",
       "      <td>13</td>\n",
       "      <td>50</td>\n",
       "      <td>72</td>\n",
       "    </tr>\n",
       "    <tr>\n",
       "      <th>3748</th>\n",
       "      <td>1</td>\n",
       "      <td>25</td>\n",
       "      <td>2</td>\n",
       "      <td>12</td>\n",
       "      <td>50</td>\n",
       "      <td>73</td>\n",
       "    </tr>\n",
       "    <tr>\n",
       "      <th>3749</th>\n",
       "      <td>4</td>\n",
       "      <td>26</td>\n",
       "      <td>1</td>\n",
       "      <td>14</td>\n",
       "      <td>50</td>\n",
       "      <td>74</td>\n",
       "    </tr>\n",
       "  </tbody>\n",
       "</table>\n",
       "<p>3750 rows × 6 columns</p>\n",
       "</div>"
      ],
      "text/plain": [
       "      arm_a_conversions  arm_a_left  arm_b_conversions  arm_b_left  \\\n",
       "0                     3          28                  2          13   \n",
       "1                     1          27                  3          15   \n",
       "2                     2          28                  2          16   \n",
       "3                     3          26                  3          13   \n",
       "4                     1          26                  1          14   \n",
       "5                     2          23                  2          14   \n",
       "6                     1          27                  1          16   \n",
       "7                     3          27                  2          13   \n",
       "8                     1          25                  2          14   \n",
       "9                     1          27                  2          13   \n",
       "10                    3          25                  1          12   \n",
       "11                    2          23                  0          14   \n",
       "12                    1          27                  2          15   \n",
       "13                    2          26                  1          15   \n",
       "14                    5          25                  2          16   \n",
       "15                    1          25                  3          15   \n",
       "16                    0          23                  3          13   \n",
       "17                    0          24                  1          15   \n",
       "18                    2          26                  5          14   \n",
       "19                    2          26                  2          16   \n",
       "20                    2          25                  4          16   \n",
       "21                    1          24                  3          13   \n",
       "22                    1          23                  2          15   \n",
       "23                    5          25                  2          16   \n",
       "24                    1          28                  2          14   \n",
       "25                    0          25                  3          14   \n",
       "26                    1          21                  0          15   \n",
       "27                    2          26                  2          14   \n",
       "28                    1          25                  6          13   \n",
       "29                    0          23                  2          13   \n",
       "...                 ...         ...                ...         ...   \n",
       "3720                  1          24                  1          14   \n",
       "3721                  1          26                  2          14   \n",
       "3722                  1          27                  2          14   \n",
       "3723                  2          24                  2          16   \n",
       "3724                  1          25                  1          14   \n",
       "3725                  3          26                  3          15   \n",
       "3726                  2          27                  4          12   \n",
       "3727                  3          27                  1          16   \n",
       "3728                  3          24                  2          16   \n",
       "3729                  4          25                  4          13   \n",
       "3730                  3          26                  2          15   \n",
       "3731                  1          26                  6          14   \n",
       "3732                  1          27                  0          14   \n",
       "3733                  0          25                  3          16   \n",
       "3734                  2          25                  3          12   \n",
       "3735                  1          25                  2          14   \n",
       "3736                  2          26                  3          13   \n",
       "3737                  4          23                  3          12   \n",
       "3738                  4          25                  3          13   \n",
       "3739                  1          26                  1          15   \n",
       "3740                  3          26                  1          14   \n",
       "3741                  2          25                  2          15   \n",
       "3742                  1          24                  2          11   \n",
       "3743                  5          26                  2          12   \n",
       "3744                  3          28                  3          14   \n",
       "3745                  1          25                  6          15   \n",
       "3746                  4          27                  2          13   \n",
       "3747                  2          27                  3          13   \n",
       "3748                  1          25                  2          12   \n",
       "3749                  4          26                  1          14   \n",
       "\n",
       "      split_test_num  day  \n",
       "0                  1    0  \n",
       "1                  1    1  \n",
       "2                  1    2  \n",
       "3                  1    3  \n",
       "4                  1    4  \n",
       "5                  1    5  \n",
       "6                  1    6  \n",
       "7                  1    7  \n",
       "8                  1    8  \n",
       "9                  1    9  \n",
       "10                 1   10  \n",
       "11                 1   11  \n",
       "12                 1   12  \n",
       "13                 1   13  \n",
       "14                 1   14  \n",
       "15                 1   15  \n",
       "16                 1   16  \n",
       "17                 1   17  \n",
       "18                 1   18  \n",
       "19                 1   19  \n",
       "20                 1   20  \n",
       "21                 1   21  \n",
       "22                 1   22  \n",
       "23                 1   23  \n",
       "24                 1   24  \n",
       "25                 1   25  \n",
       "26                 1   26  \n",
       "27                 1   27  \n",
       "28                 1   28  \n",
       "29                 1   29  \n",
       "...              ...  ...  \n",
       "3720              50   45  \n",
       "3721              50   46  \n",
       "3722              50   47  \n",
       "3723              50   48  \n",
       "3724              50   49  \n",
       "3725              50   50  \n",
       "3726              50   51  \n",
       "3727              50   52  \n",
       "3728              50   53  \n",
       "3729              50   54  \n",
       "3730              50   55  \n",
       "3731              50   56  \n",
       "3732              50   57  \n",
       "3733              50   58  \n",
       "3734              50   59  \n",
       "3735              50   60  \n",
       "3736              50   61  \n",
       "3737              50   62  \n",
       "3738              50   63  \n",
       "3739              50   64  \n",
       "3740              50   65  \n",
       "3741              50   66  \n",
       "3742              50   67  \n",
       "3743              50   68  \n",
       "3744              50   69  \n",
       "3745              50   70  \n",
       "3746              50   71  \n",
       "3747              50   72  \n",
       "3748              50   73  \n",
       "3749              50   74  \n",
       "\n",
       "[3750 rows x 6 columns]"
      ]
     },
     "execution_count": 85,
     "metadata": {},
     "output_type": "execute_result"
    }
   ],
   "source": [
    "abtest"
   ]
  },
  {
   "cell_type": "markdown",
   "metadata": {},
   "source": [
    "---\n",
    "\n",
    "### Analyze each split test and declare winner on the 75th day\n",
    "\n",
    "For each of the 50 split tests, analyze the results and determine the winning arm.\n",
    "\n",
    "Your threshold criterion for choosing arm B over arm A should be **alpha = 0.05.** In other words, the mean rate for arm B, the \"experimental\" arm, would need to be larger with a significance of p < 0.05 to be accepted as the new version over arm A, the \"control\" arm.\n"
   ]
  },
  {
   "cell_type": "code",
   "execution_count": 87,
   "metadata": {
    "collapsed": false
   },
   "outputs": [],
   "source": [
    "def chi2_for_75d(st):\n",
    "    contingency = []\n",
    "    \n",
    "    a_conv = float(abtest.arm_a_conversions.sum())\n",
    "    b_conv = float(abtest.arm_b_conversions.sum())\n",
    "    \n",
    "    a_left = float(abtest.arm_a_left.sum())\n",
    "    b_left = float(abtest.arm_b_left.sum())\n",
    "    \n",
    "    contingency.append([a_conv, a_left])\n",
    "    contingency.append([b_conv, b_left])\n",
    "    contingency = np.array(contingency)\n",
    "    \n",
    "    chi2, pval, _, _ = chi2_contingency(contingency)\n",
    "    \n",
    "    a_mean_rate = a_conv / (a_conv + a_left)\n",
    "    b_mean_rate = b_conv / (b_conv + b_left)\n",
    "    \n",
    "    if (pval < 0.05) and (b_mean_rate > a_mean_rate):\n",
    "        winner = 'B'\n",
    "    else:\n",
    "        winner = 'A'\n",
    "        \n",
    "    return pd.DataFrame({'winner': [winner], 'a_rate': [a_mean_rate], 'b_rate': [b_mean_rate], 'pval': [pval]})\n",
    "\n",
    "chi2_75d = abtest.groupby('split_test_num').apply(chi2_for_75d).reset_index(drop = True)"
   ]
  },
  {
   "cell_type": "code",
   "execution_count": 93,
   "metadata": {
    "collapsed": false
   },
   "outputs": [
    {
     "name": "stdout",
     "output_type": "stream",
     "text": [
      "0\n",
      "50\n"
     ]
    }
   ],
   "source": [
    "print chi2_75d[chi2_75d.winner == 'A'].shape[0]\n",
    "print chi2_75d[chi2_75d.winner == 'B'].shape[0]"
   ]
  },
  {
   "cell_type": "markdown",
   "metadata": {},
   "source": [
    "---\n",
    "\n",
    "### Select winner while \"peeking\" at the tests.\n",
    "\n",
    "\"Peeking\" at split tests is essentially watching the test as it runs, and whatever day it hits the winning condition you declare the winning arm.\n",
    "\n",
    "You will use the same split test data above, to compare the results of peeking vs. not. Again, your threshold is alpha = 0.05, and arm B is declared the winner if the p-value is less than alpha and the mean rate of B is greater than the mean rate of A. If the p-value goes below the alpha threshold and the mean rate of A is higher, A is winnered.\n",
    "\n",
    "Create a DataFrame in the following format:\n",
    "\n",
    "| winning_arm | a_mean_rate | b_mean_rate | day_won | split_test_num |\n",
    "| :---: | :---: | :---: | :---: | :---: |\n",
    "| A | 0.12 | 0.04 | 30 | 1 |\n",
    "| B | 0.03 | 0.11 | 45 | 1 |"
   ]
  },
  {
   "cell_type": "code",
   "execution_count": 95,
   "metadata": {
    "collapsed": false
   },
   "outputs": [],
   "source": [
    "# np.cumsum calculates rolling sum\n",
    "\n",
    "def calc_cumsum(st):\n",
    "    c = pd.DataFrame({\n",
    "            'a_conv_cs': np.cumsum(st.arm_a_conversions),\n",
    "            'a_left_cs': np.cumsum(st.arm_a_left),\n",
    "            'b_conv_cs': np.cumsum(st.arm_b_conversions),\n",
    "            'b_left_cs': np.cumsum(st.arm_b_left),\n",
    "            'split_test_num': st.split_test_num,\n",
    "            'day':       st.day\n",
    "        })\n",
    "    return c\n",
    "\n",
    "cumulative = abtest.groupby('split_test_num').apply(calc_cumsum).reset_index(drop = True)"
   ]
  },
  {
   "cell_type": "code",
   "execution_count": 96,
   "metadata": {
    "collapsed": false
   },
   "outputs": [
    {
     "data": {
      "text/html": [
       "<div>\n",
       "<table border=\"1\" class=\"dataframe\">\n",
       "  <thead>\n",
       "    <tr style=\"text-align: right;\">\n",
       "      <th></th>\n",
       "      <th>a_conv_cs</th>\n",
       "      <th>a_left_cs</th>\n",
       "      <th>b_conv_cs</th>\n",
       "      <th>b_left_cs</th>\n",
       "      <th>day</th>\n",
       "      <th>split_test_num</th>\n",
       "    </tr>\n",
       "  </thead>\n",
       "  <tbody>\n",
       "    <tr>\n",
       "      <th>0</th>\n",
       "      <td>3</td>\n",
       "      <td>28</td>\n",
       "      <td>2</td>\n",
       "      <td>13</td>\n",
       "      <td>0</td>\n",
       "      <td>1</td>\n",
       "    </tr>\n",
       "    <tr>\n",
       "      <th>1</th>\n",
       "      <td>4</td>\n",
       "      <td>55</td>\n",
       "      <td>5</td>\n",
       "      <td>28</td>\n",
       "      <td>1</td>\n",
       "      <td>1</td>\n",
       "    </tr>\n",
       "    <tr>\n",
       "      <th>2</th>\n",
       "      <td>6</td>\n",
       "      <td>83</td>\n",
       "      <td>7</td>\n",
       "      <td>44</td>\n",
       "      <td>2</td>\n",
       "      <td>1</td>\n",
       "    </tr>\n",
       "    <tr>\n",
       "      <th>3</th>\n",
       "      <td>9</td>\n",
       "      <td>109</td>\n",
       "      <td>10</td>\n",
       "      <td>57</td>\n",
       "      <td>3</td>\n",
       "      <td>1</td>\n",
       "    </tr>\n",
       "    <tr>\n",
       "      <th>4</th>\n",
       "      <td>10</td>\n",
       "      <td>135</td>\n",
       "      <td>11</td>\n",
       "      <td>71</td>\n",
       "      <td>4</td>\n",
       "      <td>1</td>\n",
       "    </tr>\n",
       "  </tbody>\n",
       "</table>\n",
       "</div>"
      ],
      "text/plain": [
       "   a_conv_cs  a_left_cs  b_conv_cs  b_left_cs  day  split_test_num\n",
       "0          3         28          2         13    0               1\n",
       "1          4         55          5         28    1               1\n",
       "2          6         83          7         44    2               1\n",
       "3          9        109         10         57    3               1\n",
       "4         10        135         11         71    4               1"
      ]
     },
     "execution_count": 96,
     "metadata": {},
     "output_type": "execute_result"
    }
   ],
   "source": [
    "cumulative.head()"
   ]
  },
  {
   "cell_type": "code",
   "execution_count": 100,
   "metadata": {
    "collapsed": false
   },
   "outputs": [
    {
     "ename": "KeyError",
     "evalue": "0L",
     "output_type": "error",
     "traceback": [
      "\u001b[1;31m---------------------------------------------------------------------------\u001b[0m",
      "\u001b[1;31mKeyError\u001b[0m                                  Traceback (most recent call last)",
      "\u001b[1;32m<ipython-input-100-113887ad00df>\u001b[0m in \u001b[0;36m<module>\u001b[1;34m()\u001b[0m\n\u001b[0;32m     30\u001b[0m         })\n\u001b[0;32m     31\u001b[0m \u001b[1;33m\u001b[0m\u001b[0m\n\u001b[1;32m---> 32\u001b[1;33m \u001b[0mpeeking\u001b[0m \u001b[1;33m=\u001b[0m \u001b[0mcumulative\u001b[0m\u001b[1;33m.\u001b[0m\u001b[0mgroupby\u001b[0m\u001b[1;33m(\u001b[0m\u001b[1;33m[\u001b[0m\u001b[1;34m'split_test_num'\u001b[0m\u001b[1;33m,\u001b[0m \u001b[1;34m'day'\u001b[0m\u001b[1;33m]\u001b[0m\u001b[1;33m)\u001b[0m\u001b[1;33m.\u001b[0m\u001b[0mapply\u001b[0m\u001b[1;33m(\u001b[0m\u001b[0mcalc_daily_chi2\u001b[0m\u001b[1;33m)\u001b[0m\u001b[1;33m.\u001b[0m\u001b[0mreset_index\u001b[0m\u001b[1;33m(\u001b[0m\u001b[0mdrop\u001b[0m \u001b[1;33m=\u001b[0m \u001b[0mTrue\u001b[0m\u001b[1;33m)\u001b[0m\u001b[1;33m\u001b[0m\u001b[0m\n\u001b[0m",
      "\u001b[1;32mC:\\Anaconda2\\lib\\site-packages\\pandas\\core\\groupby.pyc\u001b[0m in \u001b[0;36mapply\u001b[1;34m(self, func, *args, **kwargs)\u001b[0m\n\u001b[0;32m    638\u001b[0m         \u001b[1;31m# ignore SettingWithCopy here in case the user mutates\u001b[0m\u001b[1;33m\u001b[0m\u001b[1;33m\u001b[0m\u001b[0m\n\u001b[0;32m    639\u001b[0m         \u001b[1;32mwith\u001b[0m \u001b[0moption_context\u001b[0m\u001b[1;33m(\u001b[0m\u001b[1;34m'mode.chained_assignment'\u001b[0m\u001b[1;33m,\u001b[0m \u001b[0mNone\u001b[0m\u001b[1;33m)\u001b[0m\u001b[1;33m:\u001b[0m\u001b[1;33m\u001b[0m\u001b[0m\n\u001b[1;32m--> 640\u001b[1;33m             \u001b[1;32mreturn\u001b[0m \u001b[0mself\u001b[0m\u001b[1;33m.\u001b[0m\u001b[0m_python_apply_general\u001b[0m\u001b[1;33m(\u001b[0m\u001b[0mf\u001b[0m\u001b[1;33m)\u001b[0m\u001b[1;33m\u001b[0m\u001b[0m\n\u001b[0m\u001b[0;32m    641\u001b[0m \u001b[1;33m\u001b[0m\u001b[0m\n\u001b[0;32m    642\u001b[0m     \u001b[1;32mdef\u001b[0m \u001b[0m_python_apply_general\u001b[0m\u001b[1;33m(\u001b[0m\u001b[0mself\u001b[0m\u001b[1;33m,\u001b[0m \u001b[0mf\u001b[0m\u001b[1;33m)\u001b[0m\u001b[1;33m:\u001b[0m\u001b[1;33m\u001b[0m\u001b[0m\n",
      "\u001b[1;32mC:\\Anaconda2\\lib\\site-packages\\pandas\\core\\groupby.pyc\u001b[0m in \u001b[0;36m_python_apply_general\u001b[1;34m(self, f)\u001b[0m\n\u001b[0;32m    642\u001b[0m     \u001b[1;32mdef\u001b[0m \u001b[0m_python_apply_general\u001b[0m\u001b[1;33m(\u001b[0m\u001b[0mself\u001b[0m\u001b[1;33m,\u001b[0m \u001b[0mf\u001b[0m\u001b[1;33m)\u001b[0m\u001b[1;33m:\u001b[0m\u001b[1;33m\u001b[0m\u001b[0m\n\u001b[0;32m    643\u001b[0m         keys, values, mutated = self.grouper.apply(f, self._selected_obj,\n\u001b[1;32m--> 644\u001b[1;33m                                                    self.axis)\n\u001b[0m\u001b[0;32m    645\u001b[0m \u001b[1;33m\u001b[0m\u001b[0m\n\u001b[0;32m    646\u001b[0m         return self._wrap_applied_output(keys, values,\n",
      "\u001b[1;32mC:\\Anaconda2\\lib\\site-packages\\pandas\\core\\groupby.pyc\u001b[0m in \u001b[0;36mapply\u001b[1;34m(self, f, data, axis)\u001b[0m\n\u001b[0;32m   1522\u001b[0m             \u001b[1;31m# group might be modified\u001b[0m\u001b[1;33m\u001b[0m\u001b[1;33m\u001b[0m\u001b[0m\n\u001b[0;32m   1523\u001b[0m             \u001b[0mgroup_axes\u001b[0m \u001b[1;33m=\u001b[0m \u001b[0m_get_axes\u001b[0m\u001b[1;33m(\u001b[0m\u001b[0mgroup\u001b[0m\u001b[1;33m)\u001b[0m\u001b[1;33m\u001b[0m\u001b[0m\n\u001b[1;32m-> 1524\u001b[1;33m             \u001b[0mres\u001b[0m \u001b[1;33m=\u001b[0m \u001b[0mf\u001b[0m\u001b[1;33m(\u001b[0m\u001b[0mgroup\u001b[0m\u001b[1;33m)\u001b[0m\u001b[1;33m\u001b[0m\u001b[0m\n\u001b[0m\u001b[0;32m   1525\u001b[0m             \u001b[1;32mif\u001b[0m \u001b[1;32mnot\u001b[0m \u001b[0m_is_indexed_like\u001b[0m\u001b[1;33m(\u001b[0m\u001b[0mres\u001b[0m\u001b[1;33m,\u001b[0m \u001b[0mgroup_axes\u001b[0m\u001b[1;33m)\u001b[0m\u001b[1;33m:\u001b[0m\u001b[1;33m\u001b[0m\u001b[0m\n\u001b[0;32m   1526\u001b[0m                 \u001b[0mmutated\u001b[0m \u001b[1;33m=\u001b[0m \u001b[0mTrue\u001b[0m\u001b[1;33m\u001b[0m\u001b[0m\n",
      "\u001b[1;32mC:\\Anaconda2\\lib\\site-packages\\pandas\\core\\groupby.pyc\u001b[0m in \u001b[0;36mf\u001b[1;34m(g)\u001b[0m\n\u001b[0;32m    634\u001b[0m         \u001b[1;33m@\u001b[0m\u001b[0mwraps\u001b[0m\u001b[1;33m(\u001b[0m\u001b[0mfunc\u001b[0m\u001b[1;33m)\u001b[0m\u001b[1;33m\u001b[0m\u001b[0m\n\u001b[0;32m    635\u001b[0m         \u001b[1;32mdef\u001b[0m \u001b[0mf\u001b[0m\u001b[1;33m(\u001b[0m\u001b[0mg\u001b[0m\u001b[1;33m)\u001b[0m\u001b[1;33m:\u001b[0m\u001b[1;33m\u001b[0m\u001b[0m\n\u001b[1;32m--> 636\u001b[1;33m             \u001b[1;32mreturn\u001b[0m \u001b[0mfunc\u001b[0m\u001b[1;33m(\u001b[0m\u001b[0mg\u001b[0m\u001b[1;33m,\u001b[0m \u001b[1;33m*\u001b[0m\u001b[0margs\u001b[0m\u001b[1;33m,\u001b[0m \u001b[1;33m**\u001b[0m\u001b[0mkwargs\u001b[0m\u001b[1;33m)\u001b[0m\u001b[1;33m\u001b[0m\u001b[0m\n\u001b[0m\u001b[0;32m    637\u001b[0m \u001b[1;33m\u001b[0m\u001b[0m\n\u001b[0;32m    638\u001b[0m         \u001b[1;31m# ignore SettingWithCopy here in case the user mutates\u001b[0m\u001b[1;33m\u001b[0m\u001b[1;33m\u001b[0m\u001b[0m\n",
      "\u001b[1;32m<ipython-input-100-113887ad00df>\u001b[0m in \u001b[0;36mcalc_daily_chi2\u001b[1;34m(st)\u001b[0m\n\u001b[0;32m     26\u001b[0m             \u001b[1;34m'winner'\u001b[0m\u001b[1;33m:\u001b[0m \u001b[1;33m[\u001b[0m\u001b[0mwinner\u001b[0m\u001b[1;33m]\u001b[0m\u001b[1;33m,\u001b[0m\u001b[1;33m\u001b[0m\u001b[0m\n\u001b[0;32m     27\u001b[0m             \u001b[1;34m'pval'\u001b[0m\u001b[1;33m:\u001b[0m \u001b[1;33m[\u001b[0m\u001b[0mpval\u001b[0m\u001b[1;33m]\u001b[0m\u001b[1;33m,\u001b[0m\u001b[1;33m\u001b[0m\u001b[0m\n\u001b[1;32m---> 28\u001b[1;33m             \u001b[1;34m'day'\u001b[0m\u001b[1;33m:\u001b[0m \u001b[1;33m[\u001b[0m\u001b[0mst\u001b[0m\u001b[1;33m.\u001b[0m\u001b[0mday\u001b[0m\u001b[1;33m[\u001b[0m\u001b[1;36m0\u001b[0m\u001b[1;33m]\u001b[0m\u001b[1;33m]\u001b[0m\u001b[1;33m,\u001b[0m\u001b[1;33m\u001b[0m\u001b[0m\n\u001b[0m\u001b[0;32m     29\u001b[0m             \u001b[1;34m'split_test_num'\u001b[0m\u001b[1;33m:\u001b[0m \u001b[1;33m[\u001b[0m\u001b[0mst\u001b[0m\u001b[1;33m.\u001b[0m\u001b[0msplit_test_num\u001b[0m\u001b[1;33m.\u001b[0m\u001b[0mvalues\u001b[0m\u001b[1;33m[\u001b[0m\u001b[1;36m0\u001b[0m\u001b[1;33m]\u001b[0m\u001b[1;33m]\u001b[0m\u001b[1;33m\u001b[0m\u001b[0m\n\u001b[0;32m     30\u001b[0m         })\n",
      "\u001b[1;32mC:\\Anaconda2\\lib\\site-packages\\pandas\\core\\series.pyc\u001b[0m in \u001b[0;36m__getitem__\u001b[1;34m(self, key)\u001b[0m\n\u001b[0;32m    558\u001b[0m     \u001b[1;32mdef\u001b[0m \u001b[0m__getitem__\u001b[0m\u001b[1;33m(\u001b[0m\u001b[0mself\u001b[0m\u001b[1;33m,\u001b[0m \u001b[0mkey\u001b[0m\u001b[1;33m)\u001b[0m\u001b[1;33m:\u001b[0m\u001b[1;33m\u001b[0m\u001b[0m\n\u001b[0;32m    559\u001b[0m         \u001b[1;32mtry\u001b[0m\u001b[1;33m:\u001b[0m\u001b[1;33m\u001b[0m\u001b[0m\n\u001b[1;32m--> 560\u001b[1;33m             \u001b[0mresult\u001b[0m \u001b[1;33m=\u001b[0m \u001b[0mself\u001b[0m\u001b[1;33m.\u001b[0m\u001b[0mindex\u001b[0m\u001b[1;33m.\u001b[0m\u001b[0mget_value\u001b[0m\u001b[1;33m(\u001b[0m\u001b[0mself\u001b[0m\u001b[1;33m,\u001b[0m \u001b[0mkey\u001b[0m\u001b[1;33m)\u001b[0m\u001b[1;33m\u001b[0m\u001b[0m\n\u001b[0m\u001b[0;32m    561\u001b[0m \u001b[1;33m\u001b[0m\u001b[0m\n\u001b[0;32m    562\u001b[0m             \u001b[1;32mif\u001b[0m \u001b[1;32mnot\u001b[0m \u001b[0mlib\u001b[0m\u001b[1;33m.\u001b[0m\u001b[0misscalar\u001b[0m\u001b[1;33m(\u001b[0m\u001b[0mresult\u001b[0m\u001b[1;33m)\u001b[0m\u001b[1;33m:\u001b[0m\u001b[1;33m\u001b[0m\u001b[0m\n",
      "\u001b[1;32mC:\\Anaconda2\\lib\\site-packages\\pandas\\indexes\\base.pyc\u001b[0m in \u001b[0;36mget_value\u001b[1;34m(self, series, key)\u001b[0m\n\u001b[0;32m   1909\u001b[0m         \u001b[1;32mtry\u001b[0m\u001b[1;33m:\u001b[0m\u001b[1;33m\u001b[0m\u001b[0m\n\u001b[0;32m   1910\u001b[0m             return self._engine.get_value(s, k,\n\u001b[1;32m-> 1911\u001b[1;33m                                           tz=getattr(series.dtype, 'tz', None))\n\u001b[0m\u001b[0;32m   1912\u001b[0m         \u001b[1;32mexcept\u001b[0m \u001b[0mKeyError\u001b[0m \u001b[1;32mas\u001b[0m \u001b[0me1\u001b[0m\u001b[1;33m:\u001b[0m\u001b[1;33m\u001b[0m\u001b[0m\n\u001b[0;32m   1913\u001b[0m             \u001b[1;32mif\u001b[0m \u001b[0mlen\u001b[0m\u001b[1;33m(\u001b[0m\u001b[0mself\u001b[0m\u001b[1;33m)\u001b[0m \u001b[1;33m>\u001b[0m \u001b[1;36m0\u001b[0m \u001b[1;32mand\u001b[0m \u001b[0mself\u001b[0m\u001b[1;33m.\u001b[0m\u001b[0minferred_type\u001b[0m \u001b[1;32min\u001b[0m \u001b[1;33m[\u001b[0m\u001b[1;34m'integer'\u001b[0m\u001b[1;33m,\u001b[0m \u001b[1;34m'boolean'\u001b[0m\u001b[1;33m]\u001b[0m\u001b[1;33m:\u001b[0m\u001b[1;33m\u001b[0m\u001b[0m\n",
      "\u001b[1;32mpandas\\index.pyx\u001b[0m in \u001b[0;36mpandas.index.IndexEngine.get_value (pandas\\index.c:3234)\u001b[1;34m()\u001b[0m\n",
      "\u001b[1;32mpandas\\index.pyx\u001b[0m in \u001b[0;36mpandas.index.IndexEngine.get_value (pandas\\index.c:2931)\u001b[1;34m()\u001b[0m\n",
      "\u001b[1;32mpandas\\index.pyx\u001b[0m in \u001b[0;36mpandas.index.IndexEngine.get_loc (pandas\\index.c:3891)\u001b[1;34m()\u001b[0m\n",
      "\u001b[1;32mpandas\\hashtable.pyx\u001b[0m in \u001b[0;36mpandas.hashtable.Int64HashTable.get_item (pandas\\hashtable.c:6527)\u001b[1;34m()\u001b[0m\n",
      "\u001b[1;32mpandas\\hashtable.pyx\u001b[0m in \u001b[0;36mpandas.hashtable.Int64HashTable.get_item (pandas\\hashtable.c:6465)\u001b[1;34m()\u001b[0m\n",
      "\u001b[1;31mKeyError\u001b[0m: 0L"
     ]
    }
   ],
   "source": [
    "def calc_daily_chi2(st):\n",
    "    a_conv = st.a_conv_cs.values[0]\n",
    "    a_left = st.a_left_cs.values[0]\n",
    "    b_conv = st.b_conv_cs.values[0]\n",
    "    b_left = st.b_left_cs.values[0]\n",
    "    \n",
    "    contingency = np.array([[a_conv, a_left], \n",
    "                           [b_conv, b_left]])\n",
    "    \n",
    "    a_rate = a_conv / float(a_conv + a_left)\n",
    "    b_rate = a_conv / float(b_conv + b_left)\n",
    "    \n",
    "    if (a_rate > 0) and (b_rate > 0):\n",
    "        chi2, pval, _, _ = chi2_contingency(contingency)\n",
    "    else:\n",
    "        pval = 1.\n",
    "    \n",
    "    chi2, pval, _, _ = chi2_contingency(contingency)\n",
    "    \n",
    "    if (b_rate > a_rate) and (pval < 0.05):\n",
    "        winner = 'B'\n",
    "    else:\n",
    "        winner = 'A'\n",
    "        \n",
    "    return pd.DataFrame({\n",
    "            'winner': [winner],\n",
    "            'pval': [pval],\n",
    "            'day': [st.day[0]],\n",
    "            'split_test_num': [st.split_test_num.values[0]]\n",
    "        })\n",
    "        \n",
    "peeking = cumulative.groupby(['split_test_num', 'day']).apply(calc_daily_chi2).reset_index(drop = True)"
   ]
  },
  {
   "cell_type": "code",
   "execution_count": 101,
   "metadata": {
    "collapsed": false
   },
   "outputs": [
    {
     "ename": "NameError",
     "evalue": "name 'peeking' is not defined",
     "output_type": "error",
     "traceback": [
      "\u001b[1;31m---------------------------------------------------------------------------\u001b[0m",
      "\u001b[1;31mNameError\u001b[0m                                 Traceback (most recent call last)",
      "\u001b[1;32m<ipython-input-101-493e2a8c68b9>\u001b[0m in \u001b[0;36m<module>\u001b[1;34m()\u001b[0m\n\u001b[1;32m----> 1\u001b[1;33m \u001b[0msignificant\u001b[0m \u001b[1;33m=\u001b[0m \u001b[0mpeeking\u001b[0m\u001b[1;33m(\u001b[0m\u001b[0mpeeking\u001b[0m\u001b[1;33m.\u001b[0m\u001b[0mpval\u001b[0m \u001b[1;33m<\u001b[0m \u001b[1;36m0.05\u001b[0m\u001b[1;33m)\u001b[0m\u001b[1;33m\u001b[0m\u001b[0m\n\u001b[0m",
      "\u001b[1;31mNameError\u001b[0m: name 'peeking' is not defined"
     ]
    }
   ],
   "source": [
    "significant = peeking(peeking.pval < 0.05)"
   ]
  },
  {
   "cell_type": "code",
   "execution_count": 102,
   "metadata": {
    "collapsed": false
   },
   "outputs": [
    {
     "ename": "NameError",
     "evalue": "name 'significant' is not defined",
     "output_type": "error",
     "traceback": [
      "\u001b[1;31m---------------------------------------------------------------------------\u001b[0m",
      "\u001b[1;31mNameError\u001b[0m                                 Traceback (most recent call last)",
      "\u001b[1;32m<ipython-input-102-425166d446cf>\u001b[0m in \u001b[0;36m<module>\u001b[1;34m()\u001b[0m\n\u001b[1;32m----> 1\u001b[1;33m \u001b[0msignificant\u001b[0m\u001b[1;33m.\u001b[0m\u001b[0msort_values\u001b[0m\u001b[1;33m(\u001b[0m\u001b[1;33m[\u001b[0m\u001b[1;34m'split_test_num'\u001b[0m\u001b[1;33m,\u001b[0m \u001b[1;34m'day'\u001b[0m\u001b[1;33m]\u001b[0m\u001b[1;33m,\u001b[0m \u001b[0minplace\u001b[0m \u001b[1;33m=\u001b[0m \u001b[0mTrue\u001b[0m\u001b[1;33m)\u001b[0m\u001b[1;33m\u001b[0m\u001b[0m\n\u001b[0m",
      "\u001b[1;31mNameError\u001b[0m: name 'significant' is not defined"
     ]
    }
   ],
   "source": [
    "significant.sort_values(['split_test_num', 'day'], inplace = True)"
   ]
  },
  {
   "cell_type": "code",
   "execution_count": 103,
   "metadata": {
    "collapsed": false
   },
   "outputs": [
    {
     "ename": "NameError",
     "evalue": "name 'significant' is not defined",
     "output_type": "error",
     "traceback": [
      "\u001b[1;31m---------------------------------------------------------------------------\u001b[0m",
      "\u001b[1;31mNameError\u001b[0m                                 Traceback (most recent call last)",
      "\u001b[1;32m<ipython-input-103-a02beda17d16>\u001b[0m in \u001b[0;36m<module>\u001b[1;34m()\u001b[0m\n\u001b[1;32m----> 1\u001b[1;33m \u001b[0mlen\u001b[0m\u001b[1;33m(\u001b[0m\u001b[0msignificant\u001b[0m\u001b[1;33m.\u001b[0m\u001b[0msplit_test_num\u001b[0m\u001b[1;33m)\u001b[0m\u001b[1;33m\u001b[0m\u001b[0m\n\u001b[0m",
      "\u001b[1;31mNameError\u001b[0m: name 'significant' is not defined"
     ]
    }
   ],
   "source": [
    "len(significant.split_test_num)"
   ]
  },
  {
   "cell_type": "code",
   "execution_count": 104,
   "metadata": {
    "collapsed": false
   },
   "outputs": [
    {
     "ename": "NameError",
     "evalue": "name 'significant' is not defined",
     "output_type": "error",
     "traceback": [
      "\u001b[1;31m---------------------------------------------------------------------------\u001b[0m",
      "\u001b[1;31mNameError\u001b[0m                                 Traceback (most recent call last)",
      "\u001b[1;32m<ipython-input-104-ac51cd56f5ca>\u001b[0m in \u001b[0;36m<module>\u001b[1;34m()\u001b[0m\n\u001b[1;32m----> 1\u001b[1;33m \u001b[0mfirst_sig\u001b[0m \u001b[1;33m=\u001b[0m \u001b[0msignificant\u001b[0m\u001b[1;33m.\u001b[0m\u001b[0mgroupby\u001b[0m\u001b[1;33m(\u001b[0m\u001b[1;34m'split_test_num'\u001b[0m\u001b[1;33m)\u001b[0m\u001b[1;33m.\u001b[0m\u001b[0mapply\u001b[0m\u001b[1;33m(\u001b[0m\u001b[1;32mlambda\u001b[0m \u001b[0mst\u001b[0m\u001b[1;33m:\u001b[0m \u001b[0mst\u001b[0m\u001b[1;33m.\u001b[0m\u001b[0miloc\u001b[0m\u001b[1;33m[\u001b[0m\u001b[1;36m0\u001b[0m\u001b[1;33m,\u001b[0m \u001b[1;33m:\u001b[0m\u001b[1;33m]\u001b[0m\u001b[1;33m)\u001b[0m\u001b[1;33m.\u001b[0m\u001b[0mreset_index\u001b[0m\u001b[1;33m(\u001b[0m\u001b[0mdrop\u001b[0m \u001b[1;33m=\u001b[0m \u001b[0mTrue\u001b[0m\u001b[1;33m)\u001b[0m\u001b[1;33m\u001b[0m\u001b[0m\n\u001b[0m",
      "\u001b[1;31mNameError\u001b[0m: name 'significant' is not defined"
     ]
    }
   ],
   "source": [
    "first_sig = significant.groupby('split_test_num').apply(lambda st: st.iloc[0, :]).reset_index(drop = True)"
   ]
  },
  {
   "cell_type": "code",
   "execution_count": 105,
   "metadata": {
    "collapsed": false
   },
   "outputs": [
    {
     "ename": "NameError",
     "evalue": "name 'first_sig' is not defined",
     "output_type": "error",
     "traceback": [
      "\u001b[1;31m---------------------------------------------------------------------------\u001b[0m",
      "\u001b[1;31mNameError\u001b[0m                                 Traceback (most recent call last)",
      "\u001b[1;32m<ipython-input-105-6926540cd5e1>\u001b[0m in \u001b[0;36m<module>\u001b[1;34m()\u001b[0m\n\u001b[1;32m----> 1\u001b[1;33m \u001b[0mfirst_sig\u001b[0m\u001b[1;33m.\u001b[0m\u001b[0mhead\u001b[0m\u001b[1;33m(\u001b[0m\u001b[1;33m)\u001b[0m\u001b[1;33m\u001b[0m\u001b[0m\n\u001b[0m",
      "\u001b[1;31mNameError\u001b[0m: name 'first_sig' is not defined"
     ]
    }
   ],
   "source": [
    "first_sig.head()"
   ]
  },
  {
   "cell_type": "code",
   "execution_count": null,
   "metadata": {
    "collapsed": true
   },
   "outputs": [],
   "source": [
    "print 'Day 75 Results:'\n"
   ]
  }
 ],
 "metadata": {
  "kernelspec": {
   "display_name": "Python 2",
   "language": "python",
   "name": "python2"
  },
  "language_info": {
   "codemirror_mode": {
    "name": "ipython",
    "version": 2
   },
   "file_extension": ".py",
   "mimetype": "text/x-python",
   "name": "python",
   "nbconvert_exporter": "python",
   "pygments_lexer": "ipython2",
   "version": "2.7.11"
  }
 },
 "nbformat": 4,
 "nbformat_minor": 0
}
