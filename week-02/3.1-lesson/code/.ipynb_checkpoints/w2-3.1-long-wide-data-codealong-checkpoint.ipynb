{
 "cells": [
  {
   "cell_type": "markdown",
   "metadata": {},
   "source": [
    "# 3.3: Practice \"long\" and \"wide\" data formats\n",
    "\n",
    "In this lesson we are going to practice going between long and wide formats using pandas.\n",
    "\n",
    "Recall that **long format:**\n",
    "\n",
    "- Has potentially multiple \"id\" (identification) columns.\n",
    "- Has a single value column that is described by the id columns.\n",
    "- When converted from wide format, there is a \"variable\" column that is one of the id columns. This \"variable\" column corresponds to the multiple columns in your wide format you wanted converted into one \"variable\" id column and one \"value\" column.\n",
    "- Is a standard format in SQL databases.\n",
    "\n",
    "And **wide format:**\n",
    "\n",
    "- Can have multiple ID _and_ value columns.\n",
    "- Trades off the simplicity of a single value column for a more compact matrix.\n",
    "- Is not useful in SQL because it is harder to join tables (more on this later).\n",
    "- Can be more useful in pandas because operations due to operations across columns.\n",
    "\n",
    "---"
   ]
  },
  {
   "cell_type": "markdown",
   "metadata": {},
   "source": [
    "## A: Humor styles dataset\n",
    "\n",
    "We are going to explore a dataset where people answered a questionnaire on their \"humor styles\", which tries to get at differences in people's sense of humor and their relationship with humor.\n",
    "\n",
    "---\n",
    "\n",
    "### A.1: The 32 questions\n",
    "\n",
    "Subjects answered **32** different questions outlined below:\n",
    "\n",
    "1. I usually don't laugh or joke with other people.\n",
    "2. If I feel depressed, I can cheer myself up with humor.\n",
    "3. If someone makes a mistake, I will tease them about it.\n",
    "4. I let people laugh at me or make fun of me at my expense more than I should.\n",
    "5. I don't have to work very hard to make other people laugh. I am a naturally humorous person.\n",
    "6. Even when I'm alone, I am often amused by the absurdities of life.\n",
    "7. People are never offended or hurt by my sense of humor.\n",
    "8. I will often get carried away in putting myself down if it makes family or friends laugh.\n",
    "9. I rarely make other people laugh by telling funny stories about myself.\n",
    "10. If I am feeling upset or unhappy I usually try to think of something funny about the situation to make myself feel better.\n",
    "11. When telling jokes or saying funny things, I am usually not concerned about how other people are taking it.\n",
    "12. I often try to make people like or accept me more by saying something funny about my own weaknesses, blunders, or faults.\n",
    "13. I laugh and joke a lot with my closest friends.\n",
    "14. My humorous outlook on life keeps me from getting overly upset or depressed about things.\n",
    "15. I do not like it when people use humor as a way of criticizing or putting someone down.\n",
    "16. I don't often say funny things to put myself down.\n",
    "17. I usually don't like to tell jokes or amuse people.\n",
    "18. If I'm by myself and I'm feeling unhappy, I make an effort to think of something funny to cheer myself up.\n",
    "19. Sometimes I think of something that is so funny that I can't stop myself from saying it, even if it is not appropriate for the situation.\n",
    "20. I often go overboard in putting myself down when I am making jokes or trying to be funny.\n",
    "21. I enjoy making people laugh.\n",
    "22. If I am feeling sad or upset, I usually lose my sense of humor.\n",
    "23. I never participate in laughing at others even if all my friends are doing it.\n",
    "24. When I am with friends or family, I often seem to be the one that other people make fun of or joke about.\n",
    "25. I donít often joke around with my friends.\n",
    "26. It is my experience that thinking about some amusing aspect of a situation is often a very effective way of coping with problems.\n",
    "27. If I don't like someone, I often use humor or teasing to put them down.\n",
    "28. If I am having problems or feeling unhappy, I often cover it up by joking around, so that even my closest friends don't know how I really feel.\n",
    "29. I usually can't think of witty things to say when I'm with other people.\n",
    "30. I don't need to be with other people to feel amused. I can usually find things to laugh about even when I'm by myself.\n",
    "31. Even if something is really funny to me, I will not laugh or joke about it if someone will be offended.\n",
    "32. Letting others laugh at me is my way of keeping my friends and family in good spirits.\n",
    "\n",
    "That's a lot of questions!\n",
    "\n",
    "---"
   ]
  },
  {
   "cell_type": "markdown",
   "metadata": {},
   "source": [
    "### A.2: Response codes\n",
    "\n",
    "For each question, there are 5 possible response codes (\"likert scale\") that correspond to different answers. There is also a code that indicates there is no response for that subject.\n",
    "\n",
    "    1 == \"Never or very rarely true\"\n",
    "    2 == \"Rarely true\"\n",
    "    3 == \"Sometimes true\"\n",
    "    4 == \"Often true\"\n",
    "    5 == \"Very often or always true\n",
    "    [-1 == Did not select an answer]\n",
    "\n",
    "---\n",
    "\n",
    "[For more info: https://en.wikipedia.org/wiki/Humor_styles]\n",
    "\n",
    "---"
   ]
  },
  {
   "cell_type": "markdown",
   "metadata": {},
   "source": [
    "## B: Load modules\n",
    "\n",
    "Let's load the standard modules we always use. None of these are new to you.\n",
    "\n",
    "---"
   ]
  },
  {
   "cell_type": "code",
   "execution_count": 1,
   "metadata": {
    "collapsed": true
   },
   "outputs": [],
   "source": [
    "# data modules\n",
    "import numpy as np\n",
    "import scipy.stats as stats\n",
    "import pandas as pd\n",
    "\n",
    "# plotting modules\n",
    "import matplotlib.pyplot as plt\n",
    "import seaborn as sns\n",
    "\n",
    "# make sure charts appear in the notebook:\n",
    "%matplotlib inline"
   ]
  },
  {
   "cell_type": "markdown",
   "metadata": {},
   "source": [
    "---\n",
    "\n",
    "## C: Loading and examining the data\n",
    "\n",
    "The dataset as usual is stored in your **```assets/datasets```** directory.\n",
    "\n",
    "The dataset is called **```hsq_data.csv```**. \"hsq\", as you might expect, stands for \"humor styles questionnaire.\n",
    "\n",
    "[There is also a file called **```hsq_codebook.txt```** which is a text file that contains the information I detailed above. You can examine it if you like.]\n",
    "\n",
    "---"
   ]
  },
  {
   "cell_type": "markdown",
   "metadata": {},
   "source": [
    "### C.1: Create path string and load into pandas"
   ]
  },
  {
   "cell_type": "code",
   "execution_count": 15,
   "metadata": {
    "collapsed": true
   },
   "outputs": [],
   "source": [
    "hsq_path = '../assets/datasets/hsq_data.csv'\n",
    "\n",
    "hsq = pd.read_csv(hsq_path)"
   ]
  },
  {
   "cell_type": "markdown",
   "metadata": {},
   "source": [
    "---\n",
    "\n",
    "### C.2 Look at the header.\n",
    "\n",
    "Let's make sure it looks like what we expect and the data didn't load in incorrectly. This is, of course, always good practice."
   ]
  },
  {
   "cell_type": "code",
   "execution_count": 16,
   "metadata": {
    "collapsed": false
   },
   "outputs": [
    {
     "data": {
      "text/html": [
       "<div>\n",
       "<table border=\"1\" class=\"dataframe\">\n",
       "  <thead>\n",
       "    <tr style=\"text-align: right;\">\n",
       "      <th></th>\n",
       "      <th>Q1</th>\n",
       "      <th>Q2</th>\n",
       "      <th>Q3</th>\n",
       "      <th>Q4</th>\n",
       "      <th>Q5</th>\n",
       "      <th>Q6</th>\n",
       "      <th>Q7</th>\n",
       "      <th>Q8</th>\n",
       "      <th>Q9</th>\n",
       "      <th>Q10</th>\n",
       "      <th>...</th>\n",
       "      <th>Q30</th>\n",
       "      <th>Q31</th>\n",
       "      <th>Q32</th>\n",
       "      <th>affiliative</th>\n",
       "      <th>selfenhancing</th>\n",
       "      <th>agressive</th>\n",
       "      <th>selfdefeating</th>\n",
       "      <th>age</th>\n",
       "      <th>gender</th>\n",
       "      <th>accuracy</th>\n",
       "    </tr>\n",
       "  </thead>\n",
       "  <tbody>\n",
       "    <tr>\n",
       "      <th>0</th>\n",
       "      <td>2</td>\n",
       "      <td>2</td>\n",
       "      <td>3</td>\n",
       "      <td>1</td>\n",
       "      <td>4</td>\n",
       "      <td>5</td>\n",
       "      <td>4</td>\n",
       "      <td>3</td>\n",
       "      <td>4</td>\n",
       "      <td>3</td>\n",
       "      <td>...</td>\n",
       "      <td>4</td>\n",
       "      <td>2</td>\n",
       "      <td>2</td>\n",
       "      <td>4.0</td>\n",
       "      <td>3.5</td>\n",
       "      <td>3.0</td>\n",
       "      <td>2.3</td>\n",
       "      <td>25</td>\n",
       "      <td>2</td>\n",
       "      <td>100</td>\n",
       "    </tr>\n",
       "    <tr>\n",
       "      <th>1</th>\n",
       "      <td>2</td>\n",
       "      <td>3</td>\n",
       "      <td>2</td>\n",
       "      <td>2</td>\n",
       "      <td>4</td>\n",
       "      <td>4</td>\n",
       "      <td>4</td>\n",
       "      <td>3</td>\n",
       "      <td>4</td>\n",
       "      <td>3</td>\n",
       "      <td>...</td>\n",
       "      <td>4</td>\n",
       "      <td>3</td>\n",
       "      <td>1</td>\n",
       "      <td>3.3</td>\n",
       "      <td>3.5</td>\n",
       "      <td>3.3</td>\n",
       "      <td>2.4</td>\n",
       "      <td>44</td>\n",
       "      <td>2</td>\n",
       "      <td>90</td>\n",
       "    </tr>\n",
       "    <tr>\n",
       "      <th>2</th>\n",
       "      <td>3</td>\n",
       "      <td>4</td>\n",
       "      <td>3</td>\n",
       "      <td>3</td>\n",
       "      <td>4</td>\n",
       "      <td>4</td>\n",
       "      <td>3</td>\n",
       "      <td>1</td>\n",
       "      <td>2</td>\n",
       "      <td>4</td>\n",
       "      <td>...</td>\n",
       "      <td>5</td>\n",
       "      <td>4</td>\n",
       "      <td>2</td>\n",
       "      <td>3.9</td>\n",
       "      <td>3.9</td>\n",
       "      <td>3.1</td>\n",
       "      <td>2.3</td>\n",
       "      <td>50</td>\n",
       "      <td>1</td>\n",
       "      <td>75</td>\n",
       "    </tr>\n",
       "    <tr>\n",
       "      <th>3</th>\n",
       "      <td>3</td>\n",
       "      <td>3</td>\n",
       "      <td>3</td>\n",
       "      <td>4</td>\n",
       "      <td>3</td>\n",
       "      <td>5</td>\n",
       "      <td>4</td>\n",
       "      <td>3</td>\n",
       "      <td>-1</td>\n",
       "      <td>4</td>\n",
       "      <td>...</td>\n",
       "      <td>5</td>\n",
       "      <td>3</td>\n",
       "      <td>3</td>\n",
       "      <td>3.6</td>\n",
       "      <td>4.0</td>\n",
       "      <td>2.9</td>\n",
       "      <td>3.3</td>\n",
       "      <td>30</td>\n",
       "      <td>2</td>\n",
       "      <td>85</td>\n",
       "    </tr>\n",
       "    <tr>\n",
       "      <th>4</th>\n",
       "      <td>1</td>\n",
       "      <td>4</td>\n",
       "      <td>2</td>\n",
       "      <td>2</td>\n",
       "      <td>3</td>\n",
       "      <td>5</td>\n",
       "      <td>4</td>\n",
       "      <td>1</td>\n",
       "      <td>4</td>\n",
       "      <td>4</td>\n",
       "      <td>...</td>\n",
       "      <td>5</td>\n",
       "      <td>4</td>\n",
       "      <td>2</td>\n",
       "      <td>4.1</td>\n",
       "      <td>4.1</td>\n",
       "      <td>2.9</td>\n",
       "      <td>2.0</td>\n",
       "      <td>52</td>\n",
       "      <td>1</td>\n",
       "      <td>80</td>\n",
       "    </tr>\n",
       "  </tbody>\n",
       "</table>\n",
       "<p>5 rows × 39 columns</p>\n",
       "</div>"
      ],
      "text/plain": [
       "   Q1  Q2  Q3  Q4  Q5  Q6  Q7  Q8  Q9  Q10    ...     Q30  Q31  Q32  \\\n",
       "0   2   2   3   1   4   5   4   3   4    3    ...       4    2    2   \n",
       "1   2   3   2   2   4   4   4   3   4    3    ...       4    3    1   \n",
       "2   3   4   3   3   4   4   3   1   2    4    ...       5    4    2   \n",
       "3   3   3   3   4   3   5   4   3  -1    4    ...       5    3    3   \n",
       "4   1   4   2   2   3   5   4   1   4    4    ...       5    4    2   \n",
       "\n",
       "   affiliative  selfenhancing  agressive  selfdefeating  age  gender  accuracy  \n",
       "0          4.0            3.5        3.0            2.3   25       2       100  \n",
       "1          3.3            3.5        3.3            2.4   44       2        90  \n",
       "2          3.9            3.9        3.1            2.3   50       1        75  \n",
       "3          3.6            4.0        2.9            3.3   30       2        85  \n",
       "4          4.1            4.1        2.9            2.0   52       1        80  \n",
       "\n",
       "[5 rows x 39 columns]"
      ]
     },
     "execution_count": 16,
     "metadata": {},
     "output_type": "execute_result"
    }
   ],
   "source": [
    "hsq.head()"
   ]
  },
  {
   "cell_type": "markdown",
   "metadata": {},
   "source": [
    "Looking at the head it's apparent we have **32 columns for each question**, but if we scroll over to the right we can see that there are **7 columns of subject properties**.\n",
    "\n",
    "What are these properties? Some are clear and some are not.\n",
    "\n",
    "#### Styles of humor:\n",
    "\n",
    "1. **affiliative**\n",
    "    - The style of humor used to enhance one's relationships with others in a positive and benevolent way. \n",
    "2. **selfenhancing** \n",
    "    - The style of humor related to having a good-natured attitude toward life, having the ability to laugh at yourself, your circumstances and the idiosyncrasies of life in constructive, non-detrimental manner.\n",
    "3. **aggressive** \n",
    "    - The style of humor that is potentially detrimental towards others. This type of humor is characterized by the use of sarcasm, put-downs, teasing, criticism, ridicule, and other types of humor used at the expense of others.   \n",
    "4. **selfdefeating** \n",
    "    - The style of humor characterized by the use of potentially detrimental humor towards the self in order to gain approval from others. Individuals high in this dimension engage in self-disparaging humor in which laughter is often at their own expense.\n",
    "    \n",
    "These are dimensions of humor calculated from the question responses. \n",
    "\n",
    "- The two positive dimensions of humore are: **affiliative** and **selfenhancing**. \n",
    "- The two _(purportedly)_ negative dimensions of humor are: **aggressive** and **selfdefeating**.\n",
    "\n",
    "We are going to calculate these manually later to practice column-wise operations in pandas.\n",
    "\n",
    "---\n",
    "\n",
    "#### Demographics and self-reported accuracy\n",
    "\n",
    "The demographic columns are:\n",
    "\n",
    "- **age**\n",
    "- **gender**\n",
    "    - 1 == male\n",
    "    - 2 == female\n",
    "    - 3 == other\n",
    "\n",
    "Demographics are great to have for each subject in a dataset. We will see the reasons for this later when we start doing regressions and classification.\n",
    "\n",
    "The **accuracy** column is the self-reported accuracy of the questions by the subjects. It is how accurate they thought their answers were on a scale from 0 to 100.\n",
    "\n",
    "**If a subject entered 0 for accuracy, this actually means they did not want to be included in research.**"
   ]
  },
  {
   "cell_type": "markdown",
   "metadata": {},
   "source": [
    "---\n",
    "\n",
    "### C.3: Data shape\n",
    "\n",
    "Lets start to take a look at our data. Print out the shape of the DataFrame."
   ]
  },
  {
   "cell_type": "code",
   "execution_count": 17,
   "metadata": {
    "collapsed": false
   },
   "outputs": [
    {
     "data": {
      "text/plain": [
       "(1071, 39)"
      ]
     },
     "execution_count": 17,
     "metadata": {},
     "output_type": "execute_result"
    }
   ],
   "source": [
    "hsq.shape"
   ]
  },
  {
   "cell_type": "markdown",
   "metadata": {},
   "source": [
    "**C.3.1:** What does the shape mean? What does it tell us for this dataset?"
   ]
  },
  {
   "cell_type": "markdown",
   "metadata": {},
   "source": [
    "**C.3.1.A:** "
   ]
  },
  {
   "cell_type": "markdown",
   "metadata": {},
   "source": [
    "---\n",
    "\n",
    "### C.4: Describe the data"
   ]
  },
  {
   "cell_type": "markdown",
   "metadata": {},
   "source": [
    "**C.4.1** Print out the names of the columns. You can see that aggressive is misspelled \"agressive\". Replace that column specifically using the ```.rename()``` built-in function. "
   ]
  },
  {
   "cell_type": "code",
   "execution_count": 18,
   "metadata": {
    "collapsed": false
   },
   "outputs": [
    {
     "data": {
      "text/plain": [
       "array(['Q1', 'Q2', 'Q3', 'Q4', 'Q5', 'Q6', 'Q7', 'Q8', 'Q9', 'Q10', 'Q11',\n",
       "       'Q12', 'Q13', 'Q14', 'Q15', 'Q16', 'Q17', 'Q18', 'Q19', 'Q20',\n",
       "       'Q21', 'Q22', 'Q23', 'Q24', 'Q25', 'Q26', 'Q27', 'Q28', 'Q29',\n",
       "       'Q30', 'Q31', 'Q32', 'affiliative', 'selfenhancing', 'agressive',\n",
       "       'selfdefeating', 'age', 'gender', 'accuracy'], dtype=object)"
      ]
     },
     "execution_count": 18,
     "metadata": {},
     "output_type": "execute_result"
    }
   ],
   "source": [
    "hsq.columns.values"
   ]
  },
  {
   "cell_type": "code",
   "execution_count": 26,
   "metadata": {
    "collapsed": false
   },
   "outputs": [
    {
     "data": {
      "text/html": [
       "<div>\n",
       "<table border=\"1\" class=\"dataframe\">\n",
       "  <thead>\n",
       "    <tr style=\"text-align: right;\">\n",
       "      <th></th>\n",
       "      <th>Q1</th>\n",
       "      <th>Q2</th>\n",
       "      <th>Q3</th>\n",
       "      <th>Q4</th>\n",
       "      <th>Q5</th>\n",
       "      <th>Q6</th>\n",
       "      <th>Q7</th>\n",
       "      <th>Q8</th>\n",
       "      <th>Q9</th>\n",
       "      <th>Q10</th>\n",
       "      <th>...</th>\n",
       "      <th>Q30</th>\n",
       "      <th>Q31</th>\n",
       "      <th>Q32</th>\n",
       "      <th>affiliative</th>\n",
       "      <th>selfenhancing</th>\n",
       "      <th>aggressive</th>\n",
       "      <th>selfdefeating</th>\n",
       "      <th>age</th>\n",
       "      <th>gender</th>\n",
       "      <th>accuracy</th>\n",
       "    </tr>\n",
       "  </thead>\n",
       "  <tbody>\n",
       "    <tr>\n",
       "      <th>0</th>\n",
       "      <td>2</td>\n",
       "      <td>2</td>\n",
       "      <td>3</td>\n",
       "      <td>1</td>\n",
       "      <td>4</td>\n",
       "      <td>5</td>\n",
       "      <td>4</td>\n",
       "      <td>3</td>\n",
       "      <td>4</td>\n",
       "      <td>3</td>\n",
       "      <td>...</td>\n",
       "      <td>4</td>\n",
       "      <td>2</td>\n",
       "      <td>2</td>\n",
       "      <td>4.0</td>\n",
       "      <td>3.5</td>\n",
       "      <td>3.0</td>\n",
       "      <td>2.3</td>\n",
       "      <td>25</td>\n",
       "      <td>2</td>\n",
       "      <td>100</td>\n",
       "    </tr>\n",
       "    <tr>\n",
       "      <th>1</th>\n",
       "      <td>2</td>\n",
       "      <td>3</td>\n",
       "      <td>2</td>\n",
       "      <td>2</td>\n",
       "      <td>4</td>\n",
       "      <td>4</td>\n",
       "      <td>4</td>\n",
       "      <td>3</td>\n",
       "      <td>4</td>\n",
       "      <td>3</td>\n",
       "      <td>...</td>\n",
       "      <td>4</td>\n",
       "      <td>3</td>\n",
       "      <td>1</td>\n",
       "      <td>3.3</td>\n",
       "      <td>3.5</td>\n",
       "      <td>3.3</td>\n",
       "      <td>2.4</td>\n",
       "      <td>44</td>\n",
       "      <td>2</td>\n",
       "      <td>90</td>\n",
       "    </tr>\n",
       "    <tr>\n",
       "      <th>2</th>\n",
       "      <td>3</td>\n",
       "      <td>4</td>\n",
       "      <td>3</td>\n",
       "      <td>3</td>\n",
       "      <td>4</td>\n",
       "      <td>4</td>\n",
       "      <td>3</td>\n",
       "      <td>1</td>\n",
       "      <td>2</td>\n",
       "      <td>4</td>\n",
       "      <td>...</td>\n",
       "      <td>5</td>\n",
       "      <td>4</td>\n",
       "      <td>2</td>\n",
       "      <td>3.9</td>\n",
       "      <td>3.9</td>\n",
       "      <td>3.1</td>\n",
       "      <td>2.3</td>\n",
       "      <td>50</td>\n",
       "      <td>1</td>\n",
       "      <td>75</td>\n",
       "    </tr>\n",
       "    <tr>\n",
       "      <th>3</th>\n",
       "      <td>3</td>\n",
       "      <td>3</td>\n",
       "      <td>3</td>\n",
       "      <td>4</td>\n",
       "      <td>3</td>\n",
       "      <td>5</td>\n",
       "      <td>4</td>\n",
       "      <td>3</td>\n",
       "      <td>-1</td>\n",
       "      <td>4</td>\n",
       "      <td>...</td>\n",
       "      <td>5</td>\n",
       "      <td>3</td>\n",
       "      <td>3</td>\n",
       "      <td>3.6</td>\n",
       "      <td>4.0</td>\n",
       "      <td>2.9</td>\n",
       "      <td>3.3</td>\n",
       "      <td>30</td>\n",
       "      <td>2</td>\n",
       "      <td>85</td>\n",
       "    </tr>\n",
       "    <tr>\n",
       "      <th>4</th>\n",
       "      <td>1</td>\n",
       "      <td>4</td>\n",
       "      <td>2</td>\n",
       "      <td>2</td>\n",
       "      <td>3</td>\n",
       "      <td>5</td>\n",
       "      <td>4</td>\n",
       "      <td>1</td>\n",
       "      <td>4</td>\n",
       "      <td>4</td>\n",
       "      <td>...</td>\n",
       "      <td>5</td>\n",
       "      <td>4</td>\n",
       "      <td>2</td>\n",
       "      <td>4.1</td>\n",
       "      <td>4.1</td>\n",
       "      <td>2.9</td>\n",
       "      <td>2.0</td>\n",
       "      <td>52</td>\n",
       "      <td>1</td>\n",
       "      <td>80</td>\n",
       "    </tr>\n",
       "  </tbody>\n",
       "</table>\n",
       "<p>5 rows × 39 columns</p>\n",
       "</div>"
      ],
      "text/plain": [
       "   Q1  Q2  Q3  Q4  Q5  Q6  Q7  Q8  Q9  Q10    ...     Q30  Q31  Q32  \\\n",
       "0   2   2   3   1   4   5   4   3   4    3    ...       4    2    2   \n",
       "1   2   3   2   2   4   4   4   3   4    3    ...       4    3    1   \n",
       "2   3   4   3   3   4   4   3   1   2    4    ...       5    4    2   \n",
       "3   3   3   3   4   3   5   4   3  -1    4    ...       5    3    3   \n",
       "4   1   4   2   2   3   5   4   1   4    4    ...       5    4    2   \n",
       "\n",
       "   affiliative  selfenhancing  aggressive  selfdefeating  age  gender  \\\n",
       "0          4.0            3.5         3.0            2.3   25       2   \n",
       "1          3.3            3.5         3.3            2.4   44       2   \n",
       "2          3.9            3.9         3.1            2.3   50       1   \n",
       "3          3.6            4.0         2.9            3.3   30       2   \n",
       "4          4.1            4.1         2.9            2.0   52       1   \n",
       "\n",
       "   accuracy  \n",
       "0       100  \n",
       "1        90  \n",
       "2        75  \n",
       "3        85  \n",
       "4        80  \n",
       "\n",
       "[5 rows x 39 columns]"
      ]
     },
     "execution_count": 26,
     "metadata": {},
     "output_type": "execute_result"
    }
   ],
   "source": [
    "hsq.rename(columns = {'agressive': 'aggressive'}, inplace = True)\n",
    "\n",
    "hsq.head()\n",
    "# hsq.head()\n",
    "\n",
    "# hsq_tmp = hsq.columns.map(lambda x: x.replace('Q', 'Question'))\n",
    "# hsq_tmp\n",
    "\n",
    "# hsq_tmp = hsq.replace({col:col.replace('Q', 'Question') for col in hsq.columns.values \n",
    "#                        if all([True if char in ['Q', '1', '2', '3', '4', '5', '6', '7', '8', '9', '0'] \n",
    "#                         else False for char in col])}\n",
    "                     \n",
    "#                      hsq_tmp.columns.values)"
   ]
  },
  {
   "cell_type": "markdown",
   "metadata": {},
   "source": [
    "**C.4.2** Use the describe built-in function to look at the data"
   ]
  },
  {
   "cell_type": "code",
   "execution_count": 25,
   "metadata": {
    "collapsed": false
   },
   "outputs": [
    {
     "data": {
      "text/html": [
       "<div>\n",
       "<table border=\"1\" class=\"dataframe\">\n",
       "  <thead>\n",
       "    <tr style=\"text-align: right;\">\n",
       "      <th></th>\n",
       "      <th>Q1</th>\n",
       "      <th>Q2</th>\n",
       "      <th>Q3</th>\n",
       "      <th>Q4</th>\n",
       "      <th>Q5</th>\n",
       "      <th>Q6</th>\n",
       "      <th>Q7</th>\n",
       "      <th>Q8</th>\n",
       "      <th>Q9</th>\n",
       "      <th>Q10</th>\n",
       "      <th>...</th>\n",
       "      <th>Q30</th>\n",
       "      <th>Q31</th>\n",
       "      <th>Q32</th>\n",
       "      <th>affiliative</th>\n",
       "      <th>selfenhancing</th>\n",
       "      <th>aggressive</th>\n",
       "      <th>selfdefeating</th>\n",
       "      <th>age</th>\n",
       "      <th>gender</th>\n",
       "      <th>accuracy</th>\n",
       "    </tr>\n",
       "  </thead>\n",
       "  <tbody>\n",
       "    <tr>\n",
       "      <th>count</th>\n",
       "      <td>1071.000000</td>\n",
       "      <td>1071.000000</td>\n",
       "      <td>1071.000000</td>\n",
       "      <td>1071.000000</td>\n",
       "      <td>1071.000000</td>\n",
       "      <td>1071.000000</td>\n",
       "      <td>1071.000000</td>\n",
       "      <td>1071.000000</td>\n",
       "      <td>1071.000000</td>\n",
       "      <td>1071.000000</td>\n",
       "      <td>...</td>\n",
       "      <td>1071.000000</td>\n",
       "      <td>1071.000000</td>\n",
       "      <td>1071.000000</td>\n",
       "      <td>1071.000000</td>\n",
       "      <td>1071.000000</td>\n",
       "      <td>1071.000000</td>\n",
       "      <td>1071.000000</td>\n",
       "      <td>1071.000000</td>\n",
       "      <td>1071.000000</td>\n",
       "      <td>1071.000000</td>\n",
       "    </tr>\n",
       "    <tr>\n",
       "      <th>mean</th>\n",
       "      <td>2.025210</td>\n",
       "      <td>3.342670</td>\n",
       "      <td>3.078431</td>\n",
       "      <td>2.833800</td>\n",
       "      <td>3.599440</td>\n",
       "      <td>4.152194</td>\n",
       "      <td>3.277311</td>\n",
       "      <td>2.535014</td>\n",
       "      <td>2.582633</td>\n",
       "      <td>2.869281</td>\n",
       "      <td>...</td>\n",
       "      <td>3.945845</td>\n",
       "      <td>2.767507</td>\n",
       "      <td>2.838469</td>\n",
       "      <td>4.010644</td>\n",
       "      <td>3.375537</td>\n",
       "      <td>2.956583</td>\n",
       "      <td>2.762745</td>\n",
       "      <td>70.966387</td>\n",
       "      <td>1.455649</td>\n",
       "      <td>87.542484</td>\n",
       "    </tr>\n",
       "    <tr>\n",
       "      <th>std</th>\n",
       "      <td>1.075782</td>\n",
       "      <td>1.112898</td>\n",
       "      <td>1.167877</td>\n",
       "      <td>1.160252</td>\n",
       "      <td>1.061281</td>\n",
       "      <td>0.979315</td>\n",
       "      <td>1.099974</td>\n",
       "      <td>1.231380</td>\n",
       "      <td>1.224530</td>\n",
       "      <td>1.205013</td>\n",
       "      <td>...</td>\n",
       "      <td>1.135189</td>\n",
       "      <td>1.309601</td>\n",
       "      <td>1.233889</td>\n",
       "      <td>0.708479</td>\n",
       "      <td>0.661533</td>\n",
       "      <td>0.410870</td>\n",
       "      <td>0.645982</td>\n",
       "      <td>1371.989249</td>\n",
       "      <td>0.522076</td>\n",
       "      <td>12.038483</td>\n",
       "    </tr>\n",
       "    <tr>\n",
       "      <th>min</th>\n",
       "      <td>-1.000000</td>\n",
       "      <td>-1.000000</td>\n",
       "      <td>-1.000000</td>\n",
       "      <td>-1.000000</td>\n",
       "      <td>-1.000000</td>\n",
       "      <td>-1.000000</td>\n",
       "      <td>-1.000000</td>\n",
       "      <td>-1.000000</td>\n",
       "      <td>-1.000000</td>\n",
       "      <td>-1.000000</td>\n",
       "      <td>...</td>\n",
       "      <td>-1.000000</td>\n",
       "      <td>-1.000000</td>\n",
       "      <td>-1.000000</td>\n",
       "      <td>1.300000</td>\n",
       "      <td>0.000000</td>\n",
       "      <td>0.000000</td>\n",
       "      <td>0.000000</td>\n",
       "      <td>14.000000</td>\n",
       "      <td>0.000000</td>\n",
       "      <td>2.000000</td>\n",
       "    </tr>\n",
       "    <tr>\n",
       "      <th>25%</th>\n",
       "      <td>1.000000</td>\n",
       "      <td>3.000000</td>\n",
       "      <td>2.000000</td>\n",
       "      <td>2.000000</td>\n",
       "      <td>3.000000</td>\n",
       "      <td>4.000000</td>\n",
       "      <td>3.000000</td>\n",
       "      <td>2.000000</td>\n",
       "      <td>2.000000</td>\n",
       "      <td>2.000000</td>\n",
       "      <td>...</td>\n",
       "      <td>3.000000</td>\n",
       "      <td>2.000000</td>\n",
       "      <td>2.000000</td>\n",
       "      <td>3.600000</td>\n",
       "      <td>2.900000</td>\n",
       "      <td>2.800000</td>\n",
       "      <td>2.300000</td>\n",
       "      <td>18.500000</td>\n",
       "      <td>1.000000</td>\n",
       "      <td>80.000000</td>\n",
       "    </tr>\n",
       "    <tr>\n",
       "      <th>50%</th>\n",
       "      <td>2.000000</td>\n",
       "      <td>3.000000</td>\n",
       "      <td>3.000000</td>\n",
       "      <td>3.000000</td>\n",
       "      <td>4.000000</td>\n",
       "      <td>4.000000</td>\n",
       "      <td>3.000000</td>\n",
       "      <td>2.000000</td>\n",
       "      <td>2.000000</td>\n",
       "      <td>3.000000</td>\n",
       "      <td>...</td>\n",
       "      <td>4.000000</td>\n",
       "      <td>3.000000</td>\n",
       "      <td>3.000000</td>\n",
       "      <td>4.100000</td>\n",
       "      <td>3.400000</td>\n",
       "      <td>3.000000</td>\n",
       "      <td>2.800000</td>\n",
       "      <td>23.000000</td>\n",
       "      <td>1.000000</td>\n",
       "      <td>90.000000</td>\n",
       "    </tr>\n",
       "    <tr>\n",
       "      <th>75%</th>\n",
       "      <td>3.000000</td>\n",
       "      <td>4.000000</td>\n",
       "      <td>4.000000</td>\n",
       "      <td>4.000000</td>\n",
       "      <td>4.000000</td>\n",
       "      <td>5.000000</td>\n",
       "      <td>4.000000</td>\n",
       "      <td>3.000000</td>\n",
       "      <td>3.000000</td>\n",
       "      <td>4.000000</td>\n",
       "      <td>...</td>\n",
       "      <td>5.000000</td>\n",
       "      <td>4.000000</td>\n",
       "      <td>4.000000</td>\n",
       "      <td>4.500000</td>\n",
       "      <td>3.800000</td>\n",
       "      <td>3.300000</td>\n",
       "      <td>3.100000</td>\n",
       "      <td>31.000000</td>\n",
       "      <td>2.000000</td>\n",
       "      <td>95.000000</td>\n",
       "    </tr>\n",
       "    <tr>\n",
       "      <th>max</th>\n",
       "      <td>5.000000</td>\n",
       "      <td>5.000000</td>\n",
       "      <td>5.000000</td>\n",
       "      <td>5.000000</td>\n",
       "      <td>5.000000</td>\n",
       "      <td>5.000000</td>\n",
       "      <td>5.000000</td>\n",
       "      <td>5.000000</td>\n",
       "      <td>5.000000</td>\n",
       "      <td>5.000000</td>\n",
       "      <td>...</td>\n",
       "      <td>5.000000</td>\n",
       "      <td>5.000000</td>\n",
       "      <td>5.000000</td>\n",
       "      <td>5.100000</td>\n",
       "      <td>5.000000</td>\n",
       "      <td>5.000000</td>\n",
       "      <td>5.000000</td>\n",
       "      <td>44849.000000</td>\n",
       "      <td>3.000000</td>\n",
       "      <td>100.000000</td>\n",
       "    </tr>\n",
       "  </tbody>\n",
       "</table>\n",
       "<p>8 rows × 39 columns</p>\n",
       "</div>"
      ],
      "text/plain": [
       "                Q1           Q2           Q3           Q4           Q5  \\\n",
       "count  1071.000000  1071.000000  1071.000000  1071.000000  1071.000000   \n",
       "mean      2.025210     3.342670     3.078431     2.833800     3.599440   \n",
       "std       1.075782     1.112898     1.167877     1.160252     1.061281   \n",
       "min      -1.000000    -1.000000    -1.000000    -1.000000    -1.000000   \n",
       "25%       1.000000     3.000000     2.000000     2.000000     3.000000   \n",
       "50%       2.000000     3.000000     3.000000     3.000000     4.000000   \n",
       "75%       3.000000     4.000000     4.000000     4.000000     4.000000   \n",
       "max       5.000000     5.000000     5.000000     5.000000     5.000000   \n",
       "\n",
       "                Q6           Q7           Q8           Q9          Q10  \\\n",
       "count  1071.000000  1071.000000  1071.000000  1071.000000  1071.000000   \n",
       "mean      4.152194     3.277311     2.535014     2.582633     2.869281   \n",
       "std       0.979315     1.099974     1.231380     1.224530     1.205013   \n",
       "min      -1.000000    -1.000000    -1.000000    -1.000000    -1.000000   \n",
       "25%       4.000000     3.000000     2.000000     2.000000     2.000000   \n",
       "50%       4.000000     3.000000     2.000000     2.000000     3.000000   \n",
       "75%       5.000000     4.000000     3.000000     3.000000     4.000000   \n",
       "max       5.000000     5.000000     5.000000     5.000000     5.000000   \n",
       "\n",
       "          ...               Q30          Q31          Q32  affiliative  \\\n",
       "count     ...       1071.000000  1071.000000  1071.000000  1071.000000   \n",
       "mean      ...          3.945845     2.767507     2.838469     4.010644   \n",
       "std       ...          1.135189     1.309601     1.233889     0.708479   \n",
       "min       ...         -1.000000    -1.000000    -1.000000     1.300000   \n",
       "25%       ...          3.000000     2.000000     2.000000     3.600000   \n",
       "50%       ...          4.000000     3.000000     3.000000     4.100000   \n",
       "75%       ...          5.000000     4.000000     4.000000     4.500000   \n",
       "max       ...          5.000000     5.000000     5.000000     5.100000   \n",
       "\n",
       "       selfenhancing   aggressive  selfdefeating           age       gender  \\\n",
       "count    1071.000000  1071.000000    1071.000000   1071.000000  1071.000000   \n",
       "mean        3.375537     2.956583       2.762745     70.966387     1.455649   \n",
       "std         0.661533     0.410870       0.645982   1371.989249     0.522076   \n",
       "min         0.000000     0.000000       0.000000     14.000000     0.000000   \n",
       "25%         2.900000     2.800000       2.300000     18.500000     1.000000   \n",
       "50%         3.400000     3.000000       2.800000     23.000000     1.000000   \n",
       "75%         3.800000     3.300000       3.100000     31.000000     2.000000   \n",
       "max         5.000000     5.000000       5.000000  44849.000000     3.000000   \n",
       "\n",
       "          accuracy  \n",
       "count  1071.000000  \n",
       "mean     87.542484  \n",
       "std      12.038483  \n",
       "min       2.000000  \n",
       "25%      80.000000  \n",
       "50%      90.000000  \n",
       "75%      95.000000  \n",
       "max     100.000000  \n",
       "\n",
       "[8 rows x 39 columns]"
      ]
     },
     "execution_count": 25,
     "metadata": {},
     "output_type": "execute_result"
    }
   ],
   "source": [
    "hsq.describe()"
   ]
  },
  {
   "cell_type": "markdown",
   "metadata": {},
   "source": [
    "**C.4.3** Do you spot anything wrong or suspicious about the data?"
   ]
  },
  {
   "cell_type": "markdown",
   "metadata": {},
   "source": [
    "**C.4.3.A** "
   ]
  },
  {
   "cell_type": "markdown",
   "metadata": {},
   "source": [
    "**C.4.4** Calculate and print just the standard deviation for the columns."
   ]
  },
  {
   "cell_type": "code",
   "execution_count": 30,
   "metadata": {
    "collapsed": false
   },
   "outputs": [
    {
     "data": {
      "text/plain": [
       "Q1                  1.075280\n",
       "Q2                  1.112378\n",
       "Q3                  1.167331\n",
       "Q4                  1.159710\n",
       "Q5                  1.060785\n",
       "Q6                  0.978858\n",
       "Q7                  1.099460\n",
       "Q8                  1.230805\n",
       "Q9                  1.223958\n",
       "Q10                 1.204450\n",
       "Q11                 1.249403\n",
       "Q12                 1.229015\n",
       "Q13                 0.884552\n",
       "Q14                 1.269906\n",
       "Q15                 1.377542\n",
       "Q16                 1.213952\n",
       "Q17                 1.147102\n",
       "Q18                 1.205897\n",
       "Q19                 1.258174\n",
       "Q20                 1.122841\n",
       "Q21                 0.968370\n",
       "Q22                 1.241046\n",
       "Q23                 1.221006\n",
       "Q24                 1.148111\n",
       "Q25                 0.885473\n",
       "Q26                 1.205932\n",
       "Q27                 1.290498\n",
       "Q28                 1.318124\n",
       "Q29                 1.209791\n",
       "Q30                 1.134659\n",
       "Q31                 1.308990\n",
       "Q32                 1.233313\n",
       "affiliative         0.708148\n",
       "selfenhancing       0.661224\n",
       "aggressive          0.410678\n",
       "selfdefeating       0.645681\n",
       "age              1371.348582\n",
       "gender              0.521833\n",
       "accuracy           12.032861\n",
       "dtype: float64"
      ]
     },
     "execution_count": 30,
     "metadata": {},
     "output_type": "execute_result"
    }
   ],
   "source": [
    "# hsq.apply(np.std, axis = 0)\n",
    "# hsq.std()\n",
    "\n",
    "np.std(hsq)"
   ]
  },
  {
   "cell_type": "markdown",
   "metadata": {},
   "source": [
    "**C.4.5** List three interesting things about the standard deviation  values in the context of our data."
   ]
  },
  {
   "cell_type": "markdown",
   "metadata": {},
   "source": [
    "**C.4.5.A**"
   ]
  },
  {
   "cell_type": "markdown",
   "metadata": {},
   "source": [
    "**C.4.6** Using seaborn, plot the distribution for Q15 and plot the distribution for aggressive\n",
    "\n",
    "[Note: ```sns.set(rc={\"figure.figsize\": (12, 12)})``` entered before the distribution plot will set the figure size to 12x12 for example.]"
   ]
  },
  {
   "cell_type": "code",
   "execution_count": 48,
   "metadata": {
    "collapsed": false
   },
   "outputs": [
    {
     "data": {
      "text/plain": [
       "<matplotlib.axes._subplots.AxesSubplot at 0x7fbf437dd210>"
      ]
     },
     "execution_count": 48,
     "metadata": {},
     "output_type": "execute_result"
    },
    {
     "data": {
      "image/png": "[encoded data removed]",
      "text/plain": [
       "<matplotlib.figure.Figure at 0x7fbf437fff50>"
      ]
     },
     "metadata": {},
     "output_type": "display_data"
    }
   ],
   "source": [
    "sns.set(rc={\"figure.figsize\": (6, 6)})\n",
    "\n",
    "sns.distplot(hsq['Q15'])\n",
    "sns.distplot(hsq['aggressive'])"
   ]
  },
  {
   "cell_type": "code",
   "execution_count": null,
   "metadata": {
    "collapsed": false
   },
   "outputs": [],
   "source": []
  },
  {
   "cell_type": "markdown",
   "metadata": {},
   "source": [
    "**C.4.7** Having seen the distributions, what does it look like is causing the difference in standard deviation?"
   ]
  },
  {
   "cell_type": "markdown",
   "metadata": {},
   "source": [
    "**C.4.7.A** "
   ]
  },
  {
   "cell_type": "markdown",
   "metadata": {},
   "source": [
    "---\n",
    "\n",
    "## D: Convert the data from \"wide\" to \"long\"\n",
    "\n",
    "### D.1: Make the question columns clearer\n",
    "\n",
    "**D.1.1** Before we transform our DataFrame to long format, we should make the questions more descriptive so that we know what they are referring to. Use the provided dictionary of question numbers and names to transform the column labels."
   ]
  },
  {
   "cell_type": "code",
   "execution_count": null,
   "metadata": {
    "collapsed": true
   },
   "outputs": [],
   "source": [
    "column_change = {\n",
    "    'Q1':'usually_dont_laugh',\n",
    "    'Q2':'if_depressed_use_humor',\n",
    "    'Q3':'tease_others_mistakes',\n",
    "    'Q4':'let_others_laugh_at_me',\n",
    "    'Q5':'make_others_laugh_easy',\n",
    "    'Q6':'when_alone_amused',\n",
    "    'Q7':'my_humor_never_offensive',\n",
    "    'Q8':'use_self_deprecation',\n",
    "    'Q9':'rarely_make_laugh_stories',\n",
    "    'Q10':'if_upset_use_humor',\n",
    "    'Q11':'dont_care_impact_jokes',\n",
    "    'Q12':'self_deprecate_to_befriend',\n",
    "    'Q13':'laugh_alot_with_friends',\n",
    "    'Q14':'humorous_outlook_improves_mood',\n",
    "    'Q15':'dislike_mean_humor',\n",
    "    'Q16':'dont_self_deprecate',\n",
    "    'Q17':'dont_like_telling_jokes',\n",
    "    'Q18':'when_alone_try_laugh',\n",
    "    'Q19':'joke_when_inappropriate',\n",
    "    'Q20':'harshly_self_deprecate',\n",
    "    'Q21':'enjoy_making_others_laugh',\n",
    "    'Q22':'if_sad_cant_laugh',\n",
    "    'Q23':'never_use_mean_humor',\n",
    "    'Q24':'friends_often_tease_me',\n",
    "    'Q25':'dont_often_joke',\n",
    "    'Q26':'humor_coping_mechanism',\n",
    "    'Q27':'tease_disliked_people',\n",
    "    'Q28':'hide_unhappiness_humor',\n",
    "    'Q29':'cant_think_witty_things',\n",
    "    'Q30':'dont_need_others_amused',\n",
    "    'Q31':'if_mean_wont_laugh',\n",
    "    'Q32':'allow_others_tease_me'\n",
    "}"
   ]
  },
  {
   "cell_type": "code",
   "execution_count": null,
   "metadata": {
    "collapsed": true
   },
   "outputs": [],
   "source": []
  },
  {
   "cell_type": "markdown",
   "metadata": {},
   "source": [
    "**D.1.2** Print out the columns and take a look at the header to make sure the columns were renamed."
   ]
  },
  {
   "cell_type": "code",
   "execution_count": null,
   "metadata": {
    "collapsed": false
   },
   "outputs": [],
   "source": []
  },
  {
   "cell_type": "code",
   "execution_count": null,
   "metadata": {
    "collapsed": false
   },
   "outputs": [],
   "source": []
  },
  {
   "cell_type": "markdown",
   "metadata": {},
   "source": [
    "---\n",
    "\n",
    "### D.2: Add a subject ID column\n",
    "\n",
    "We have an index which identifies the rows, but we are going to want a column that is the ID for each subject so that we can keep track of which rows correspond to which subject.\n",
    "\n",
    "If this is not clear, don't worry. The reason we are doing this will become clear when we look at the long-form data visually.\n",
    "\n",
    "**D.2.1** Create an \"ID\" array that is the length of the rows in our data and where each element is unique.\n",
    "\n",
    "[NOTE: Don't call this variable \"id\", as this is reserved. In jupyter notebook, when a variable you are typing gets colored green, you should make it a different name as that is a reserved name.]"
   ]
  },
  {
   "cell_type": "code",
   "execution_count": 55,
   "metadata": {
    "collapsed": false
   },
   "outputs": [],
   "source": [
    "unique_ids = np.arange(1, len(hsq) + 1)"
   ]
  },
  {
   "cell_type": "markdown",
   "metadata": {},
   "source": [
    "**D.2.2** Add a new column to your dataset that is the values of this subject_ids array called \"subject_id\"."
   ]
  },
  {
   "cell_type": "code",
   "execution_count": 60,
   "metadata": {
    "collapsed": false
   },
   "outputs": [
    {
     "ename": "TypeError",
     "evalue": "'list' object is not callable",
     "output_type": "error",
     "traceback": [
      "\u001b[1;31m---------------------------------------------------------------------------\u001b[0m",
      "\u001b[1;31mTypeError\u001b[0m                                 Traceback (most recent call last)",
      "\u001b[1;32m<ipython-input-60-13f0acf74227>\u001b[0m in \u001b[0;36m<module>\u001b[1;34m()\u001b[0m\n\u001b[0;32m      1\u001b[0m \u001b[0mhsq\u001b[0m\u001b[1;33m[\u001b[0m\u001b[1;34m'subject_ids'\u001b[0m\u001b[1;33m]\u001b[0m \u001b[1;33m=\u001b[0m \u001b[0munique_ids\u001b[0m\u001b[1;33m\u001b[0m\u001b[0m\n\u001b[0;32m      2\u001b[0m \u001b[1;33m\u001b[0m\u001b[0m\n\u001b[1;32m----> 3\u001b[1;33m \u001b[0mhsq_tmp\u001b[0m \u001b[1;33m=\u001b[0m \u001b[0mhsq\u001b[0m\u001b[1;33m[\u001b[0m\u001b[1;33m[\u001b[0m\u001b[1;34m'subject_ids'\u001b[0m\u001b[1;33m]\u001b[0m \u001b[1;33m+\u001b[0m \u001b[0mlist\u001b[0m\u001b[1;33m(\u001b[0m\u001b[0mhsq\u001b[0m\u001b[1;33m.\u001b[0m\u001b[0mcolumns\u001b[0m\u001b[1;33m.\u001b[0m\u001b[0mvalues\u001b[0m\u001b[1;33m)\u001b[0m\u001b[1;33m[\u001b[0m\u001b[1;36m0\u001b[0m\u001b[1;33m:\u001b[0m\u001b[1;33m-\u001b[0m\u001b[1;36m1\u001b[0m\u001b[1;33m]\u001b[0m\u001b[1;33m]\u001b[0m\u001b[1;33m\u001b[0m\u001b[0m\n\u001b[0m\u001b[0;32m      4\u001b[0m \u001b[1;33m\u001b[0m\u001b[0m\n\u001b[0;32m      5\u001b[0m \u001b[0mhsq_tmp\u001b[0m\u001b[1;33m.\u001b[0m\u001b[0mhead\u001b[0m\u001b[1;33m(\u001b[0m\u001b[1;33m)\u001b[0m\u001b[1;33m\u001b[0m\u001b[0m\n",
      "\u001b[1;31mTypeError\u001b[0m: 'list' object is not callable"
     ]
    }
   ],
   "source": [
    "hsq['subject_ids'] = unique_ids\n",
    "\n",
    "hsq_tmp = hsq[['subject_ids'] + list(hsq.columns.values)[0:-1]]\n",
    "\n",
    "hsq_tmp.head()"
   ]
  },
  {
   "cell_type": "markdown",
   "metadata": {},
   "source": [
    "---\n",
    "\n",
    "### D.3: Transform the data to long format\n",
    "\n",
    "We are now going to transform our dataset from **wide** to **long** format.\n",
    "\n",
    "The pandas function to convert a wide dataset to a long dataset is **```pd.melt()```**\n",
    "\n",
    "Here is an example call of the function:\n",
    "\n",
    "```python\n",
    "id_theft_long = pd.melt(id_theft_wide,\n",
    "                        id_vars=['full_name','birth_date'],\n",
    "                        value_vars=['ccv','zip_code','credit_card_number','pin','ssn'],\n",
    "                        var_name='personal_info',\n",
    "                        value_name='info_value')\n",
    "```\n",
    "\n",
    "So, what are the inputs to this function?\n",
    "\n",
    "- **```id_theft_wide```:** this is my wide format dataset with peoples personal info.\n",
    "- **```id_vars```:** these are the columns that are _already identifiers_ or can otherwise not be in value_vars because it is a different data type.\n",
    "- **```value_vars```:** these are the columns that are going to be now represented in a single value column.\n",
    "- **```var_name```:** this is the name of the new, single column that will have the identifiers for each value by row. _The value_var columns are now represented in a single column._\n",
    "- **```value_name```:** this is the name of the new, single column that has the values from the value_vars columns.\n",
    "\n",
    "**D.3.1** Convert your dataset to long format assigned to a new DataFrame.\n",
    "\n",
    "- Your id_vars will be:\n",
    "    - subject_id\n",
    "    - age\n",
    "    - gender\n",
    "- Your ```value_vars``` will be the names of your question, accuracy, and four humor styles columns.\n",
    "- Make ```var_name``` \"variable\"\n",
    "- Make ```value_name``` \"value\"\n"
   ]
  },
  {
   "cell_type": "code",
   "execution_count": 61,
   "metadata": {
    "collapsed": true
   },
   "outputs": [],
   "source": [
    "hsq_long = pd.melt(hsq, id_vars = ['subject_ids', 'age', 'gender'], value_vars = None,\n",
    "                   var_name = 'variable', value_name = 'value')"
   ]
  },
  {
   "cell_type": "markdown",
   "metadata": {},
   "source": [
    "**D.3.2** Look at the header. Print the shape of the long DataFrame as well as the unique values in the \"variable\" column."
   ]
  },
  {
   "cell_type": "code",
   "execution_count": 71,
   "metadata": {
    "collapsed": false
   },
   "outputs": [
    {
     "data": {
      "text/plain": [
       "{'Q1',\n",
       " 'Q10',\n",
       " 'Q11',\n",
       " 'Q12',\n",
       " 'Q13',\n",
       " 'Q14',\n",
       " 'Q15',\n",
       " 'Q16',\n",
       " 'Q17',\n",
       " 'Q18',\n",
       " 'Q19',\n",
       " 'Q2',\n",
       " 'Q20',\n",
       " 'Q21',\n",
       " 'Q22',\n",
       " 'Q23',\n",
       " 'Q24',\n",
       " 'Q25',\n",
       " 'Q26',\n",
       " 'Q27',\n",
       " 'Q28',\n",
       " 'Q29',\n",
       " 'Q3',\n",
       " 'Q30',\n",
       " 'Q31',\n",
       " 'Q32',\n",
       " 'Q4',\n",
       " 'Q5',\n",
       " 'Q6',\n",
       " 'Q7',\n",
       " 'Q8',\n",
       " 'Q9',\n",
       " 'accuracy',\n",
       " 'affiliative',\n",
       " 'aggressive',\n",
       " 'selfdefeating',\n",
       " 'selfenhancing'}"
      ]
     },
     "execution_count": 71,
     "metadata": {},
     "output_type": "execute_result"
    }
   ],
   "source": [
    "hsq_long.head()\n",
    "\n",
    "set(hsq_long['variable'])"
   ]
  },
  {
   "cell_type": "code",
   "execution_count": 64,
   "metadata": {
    "collapsed": false
   },
   "outputs": [
    {
     "data": {
      "text/plain": [
       "(39627, 5)"
      ]
     },
     "execution_count": 64,
     "metadata": {},
     "output_type": "execute_result"
    }
   ],
   "source": [
    "hsq_long.shape"
   ]
  },
  {
   "cell_type": "markdown",
   "metadata": {},
   "source": [
    "**D.3.3** Print the entire subset of the DataFrame where ```subject_id == 10```"
   ]
  },
  {
   "cell_type": "code",
   "execution_count": 76,
   "metadata": {
    "collapsed": false
   },
   "outputs": [
    {
     "data": {
      "text/html": [
       "<div>\n",
       "<table border=\"1\" class=\"dataframe\">\n",
       "  <thead>\n",
       "    <tr style=\"text-align: right;\">\n",
       "      <th></th>\n",
       "      <th>subject_ids</th>\n",
       "      <th>age</th>\n",
       "      <th>gender</th>\n",
       "      <th>variable</th>\n",
       "      <th>value</th>\n",
       "    </tr>\n",
       "  </thead>\n",
       "  <tbody>\n",
       "    <tr>\n",
       "      <th>9</th>\n",
       "      <td>10</td>\n",
       "      <td>18</td>\n",
       "      <td>1</td>\n",
       "      <td>Q1</td>\n",
       "      <td>4.0</td>\n",
       "    </tr>\n",
       "    <tr>\n",
       "      <th>1080</th>\n",
       "      <td>10</td>\n",
       "      <td>18</td>\n",
       "      <td>1</td>\n",
       "      <td>Q2</td>\n",
       "      <td>2.0</td>\n",
       "    </tr>\n",
       "    <tr>\n",
       "      <th>2151</th>\n",
       "      <td>10</td>\n",
       "      <td>18</td>\n",
       "      <td>1</td>\n",
       "      <td>Q3</td>\n",
       "      <td>4.0</td>\n",
       "    </tr>\n",
       "    <tr>\n",
       "      <th>3222</th>\n",
       "      <td>10</td>\n",
       "      <td>18</td>\n",
       "      <td>1</td>\n",
       "      <td>Q4</td>\n",
       "      <td>1.0</td>\n",
       "    </tr>\n",
       "    <tr>\n",
       "      <th>4293</th>\n",
       "      <td>10</td>\n",
       "      <td>18</td>\n",
       "      <td>1</td>\n",
       "      <td>Q5</td>\n",
       "      <td>3.0</td>\n",
       "    </tr>\n",
       "  </tbody>\n",
       "</table>\n",
       "</div>"
      ],
      "text/plain": [
       "      subject_ids  age  gender variable  value\n",
       "9              10   18       1       Q1    4.0\n",
       "1080           10   18       1       Q2    2.0\n",
       "2151           10   18       1       Q3    4.0\n",
       "3222           10   18       1       Q4    1.0\n",
       "4293           10   18       1       Q5    3.0"
      ]
     },
     "execution_count": 76,
     "metadata": {},
     "output_type": "execute_result"
    }
   ],
   "source": [
    "subset = hsq_long[hsq_long['subject_ids'] == 10]\n",
    "\n",
    "subset.head()"
   ]
  },
  {
   "cell_type": "markdown",
   "metadata": {},
   "source": [
    "**D.3.4** Explain why the row index for the subset is increasing, but there is such a big difference between them for subject 10."
   ]
  },
  {
   "cell_type": "markdown",
   "metadata": {},
   "source": [
    "**D.3.4.A** "
   ]
  },
  {
   "cell_type": "markdown",
   "metadata": {},
   "source": [
    "**D.3.5** Devise a way to have the index ordered by subject_id. You're likely going to need to look it up on google. Get used to it!"
   ]
  },
  {
   "cell_type": "code",
   "execution_count": 79,
   "metadata": {
    "collapsed": false
   },
   "outputs": [
    {
     "data": {
      "text/html": [
       "<div>\n",
       "<table border=\"1\" class=\"dataframe\">\n",
       "  <thead>\n",
       "    <tr style=\"text-align: right;\">\n",
       "      <th></th>\n",
       "      <th>subject_ids</th>\n",
       "      <th>age</th>\n",
       "      <th>gender</th>\n",
       "      <th>variable</th>\n",
       "      <th>value</th>\n",
       "    </tr>\n",
       "  </thead>\n",
       "  <tbody>\n",
       "    <tr>\n",
       "      <th>0</th>\n",
       "      <td>1</td>\n",
       "      <td>25</td>\n",
       "      <td>2</td>\n",
       "      <td>Q1</td>\n",
       "      <td>2.0</td>\n",
       "    </tr>\n",
       "    <tr>\n",
       "      <th>13923</th>\n",
       "      <td>1</td>\n",
       "      <td>25</td>\n",
       "      <td>2</td>\n",
       "      <td>Q14</td>\n",
       "      <td>4.0</td>\n",
       "    </tr>\n",
       "    <tr>\n",
       "      <th>18207</th>\n",
       "      <td>1</td>\n",
       "      <td>25</td>\n",
       "      <td>2</td>\n",
       "      <td>Q18</td>\n",
       "      <td>3.0</td>\n",
       "    </tr>\n",
       "    <tr>\n",
       "      <th>21420</th>\n",
       "      <td>1</td>\n",
       "      <td>25</td>\n",
       "      <td>2</td>\n",
       "      <td>Q21</td>\n",
       "      <td>4.0</td>\n",
       "    </tr>\n",
       "    <tr>\n",
       "      <th>32130</th>\n",
       "      <td>1</td>\n",
       "      <td>25</td>\n",
       "      <td>2</td>\n",
       "      <td>Q31</td>\n",
       "      <td>2.0</td>\n",
       "    </tr>\n",
       "  </tbody>\n",
       "</table>\n",
       "</div>"
      ],
      "text/plain": [
       "       subject_ids  age  gender variable  value\n",
       "0                1   25       2       Q1    2.0\n",
       "13923            1   25       2      Q14    4.0\n",
       "18207            1   25       2      Q18    3.0\n",
       "21420            1   25       2      Q21    4.0\n",
       "32130            1   25       2      Q31    2.0"
      ]
     },
     "execution_count": 79,
     "metadata": {},
     "output_type": "execute_result"
    }
   ],
   "source": [
    "hsq_long.sort_values(['subject_ids'], inplace = True)\n",
    "hsq_long.head()"
   ]
  },
  {
   "cell_type": "code",
   "execution_count": null,
   "metadata": {
    "collapsed": false
   },
   "outputs": [],
   "source": []
  },
  {
   "cell_type": "markdown",
   "metadata": {},
   "source": [
    "---\n",
    "\n",
    "## E: Clean dataset and transform variables\n",
    "\n",
    "Transformation and manipulation of variables within subsets of your data is an essential data science skill!\n",
    "\n",
    "Cleaning is also essential. Cleaning data means removing \"bad\" data or any data that should be excluded from your analyses.\n",
    "\n",
    "### E.1: Convert the gender column to a string representation\n",
    "\n",
    "Recall that:\n",
    "    \n",
    "    1 == 'male'\n",
    "    2 == 'female'\n",
    "    3 == 'other'\n",
    "\n",
    "Let's make gender more readable. Convert the numeric gender column to a string column with the gender labels."
   ]
  },
  {
   "cell_type": "code",
   "execution_count": 82,
   "metadata": {
    "collapsed": false
   },
   "outputs": [
    {
     "data": {
      "text/html": [
       "<div>\n",
       "<table border=\"1\" class=\"dataframe\">\n",
       "  <thead>\n",
       "    <tr style=\"text-align: right;\">\n",
       "      <th></th>\n",
       "      <th>subject_ids</th>\n",
       "      <th>age</th>\n",
       "      <th>gender</th>\n",
       "      <th>variable</th>\n",
       "      <th>value</th>\n",
       "    </tr>\n",
       "  </thead>\n",
       "  <tbody>\n",
       "    <tr>\n",
       "      <th>0</th>\n",
       "      <td>1</td>\n",
       "      <td>25</td>\n",
       "      <td>female</td>\n",
       "      <td>Q1</td>\n",
       "      <td>2.0</td>\n",
       "    </tr>\n",
       "    <tr>\n",
       "      <th>13923</th>\n",
       "      <td>1</td>\n",
       "      <td>25</td>\n",
       "      <td>female</td>\n",
       "      <td>Q14</td>\n",
       "      <td>4.0</td>\n",
       "    </tr>\n",
       "    <tr>\n",
       "      <th>18207</th>\n",
       "      <td>1</td>\n",
       "      <td>25</td>\n",
       "      <td>female</td>\n",
       "      <td>Q18</td>\n",
       "      <td>3.0</td>\n",
       "    </tr>\n",
       "    <tr>\n",
       "      <th>21420</th>\n",
       "      <td>1</td>\n",
       "      <td>25</td>\n",
       "      <td>female</td>\n",
       "      <td>Q21</td>\n",
       "      <td>4.0</td>\n",
       "    </tr>\n",
       "    <tr>\n",
       "      <th>32130</th>\n",
       "      <td>1</td>\n",
       "      <td>25</td>\n",
       "      <td>female</td>\n",
       "      <td>Q31</td>\n",
       "      <td>2.0</td>\n",
       "    </tr>\n",
       "  </tbody>\n",
       "</table>\n",
       "</div>"
      ],
      "text/plain": [
       "       subject_ids  age  gender variable  value\n",
       "0                1   25  female       Q1    2.0\n",
       "13923            1   25  female      Q14    4.0\n",
       "18207            1   25  female      Q18    3.0\n",
       "21420            1   25  female      Q21    4.0\n",
       "32130            1   25  female      Q31    2.0"
      ]
     },
     "execution_count": 82,
     "metadata": {},
     "output_type": "execute_result"
    }
   ],
   "source": [
    "def rep(x):\n",
    "    if x == 1:\n",
    "        return 'male'\n",
    "    elif x == 2:\n",
    "        return 'female'\n",
    "    else:\n",
    "        return 'other'\n",
    "\n",
    "hsq_long['gender'] = hsq_long['gender'].map(rep)\n",
    "hsq_long.head()"
   ]
  },
  {
   "cell_type": "markdown",
   "metadata": {},
   "source": [
    "---\n",
    "\n",
    "### E.2: Removing subjects from the dataset\n",
    "\n",
    "**E.2.1** Users that did not respond to certain questions are going to have potentially unreasonable values for their humor style ratings. \n",
    "\n",
    "Find the users that responded ```-1``` on any of the questions."
   ]
  },
  {
   "cell_type": "code",
   "execution_count": 91,
   "metadata": {
    "collapsed": false
   },
   "outputs": [
    {
     "data": {
      "text/plain": [
       "array([   4,   13,   26,   46,   56,   60,   86,  108,  118,  122,  150,\n",
       "        165,  179,  190,  222,  237,  262,  265,  290,  316,  351,  355,\n",
       "        376,  436,  448,  450,  452,  466,  482,  491,  499,  501,  502,\n",
       "        505,  527,  529,  530,  535,  536,  552,  591,  605,  612,  634,\n",
       "        639,  647,  649,  656,  682,  684,  694,  697,  705,  716,  724,\n",
       "        731,  759,  771,  774,  779,  788,  807,  814,  858,  879,  895,\n",
       "        898,  955,  959,  980,  984, 1005, 1010, 1026, 1038, 1044, 1048,\n",
       "       1053])"
      ]
     },
     "execution_count": 91,
     "metadata": {},
     "output_type": "execute_result"
    }
   ],
   "source": [
    "mask = hsq_long.variable.isin(['Q' + str(x) for x in range(1, 33)])\n",
    "# print(mask[0:20])\n",
    "# print(hsq_long.variable[0:20])\n",
    "\n",
    "hsq_question_values = hsq_long.ix[mask, ['variable', 'value', 'subject_ids']]\n",
    "\n",
    "hsq_question_values[0:20]\n",
    "\n",
    "bad_users = hsq_question_values[hsq_question_values.value == -1]\n",
    "\n",
    "bad_users = bad_users.subject_ids.unique()\n",
    "\n",
    "bad_users"
   ]
  },
  {
   "cell_type": "code",
   "execution_count": null,
   "metadata": {
    "collapsed": false
   },
   "outputs": [],
   "source": []
  },
  {
   "cell_type": "code",
   "execution_count": null,
   "metadata": {
    "collapsed": false
   },
   "outputs": [],
   "source": []
  },
  {
   "cell_type": "markdown",
   "metadata": {},
   "source": [
    "**E.2.2** Remove all rows from the datasets corresponding to the bad users.\n",
    "\n",
    "HINTS:\n",
    "    \n",
    "- The **```~```** operator can invert a logical condition/boolean array.\n",
    "- The **```.isin()```** built-in function takes a list of values and returns a boolean array that indicates whether any of the Series or DataFrame values were a member of the list.\n",
    "    "
   ]
  },
  {
   "cell_type": "code",
   "execution_count": 110,
   "metadata": {
    "collapsed": false
   },
   "outputs": [],
   "source": [
    "hsq_long = hsq_long[~(hsq_long.subject_ids.isin(bad_users))]"
   ]
  },
  {
   "cell_type": "markdown",
   "metadata": {},
   "source": [
    "**E.2.3** Recall that subjects who entered 0 for accuracy are actually requesting to not be part of the research. Respecting their wishes, check if any subjects entered 0 for accuracy and remove them."
   ]
  },
  {
   "cell_type": "code",
   "execution_count": 109,
   "metadata": {
    "collapsed": false
   },
   "outputs": [],
   "source": [
    "hsq_long = hsq_long[~((hsq_long.variable == 'accuracy') & (hsq_long.value == 0))]"
   ]
  },
  {
   "cell_type": "markdown",
   "metadata": {},
   "source": [
    "**E.2.4** Find the subject that reported an age over 100 and remove them, because they're almost certainly lying."
   ]
  },
  {
   "cell_type": "code",
   "execution_count": 92,
   "metadata": {
    "collapsed": false
   },
   "outputs": [
    {
     "data": {
      "text/html": [
       "<div>\n",
       "<table border=\"1\" class=\"dataframe\">\n",
       "  <thead>\n",
       "    <tr style=\"text-align: right;\">\n",
       "      <th></th>\n",
       "      <th>subject_ids</th>\n",
       "      <th>age</th>\n",
       "      <th>gender</th>\n",
       "      <th>variable</th>\n",
       "      <th>value</th>\n",
       "    </tr>\n",
       "  </thead>\n",
       "  <tbody>\n",
       "    <tr>\n",
       "      <th>0</th>\n",
       "      <td>1</td>\n",
       "      <td>25</td>\n",
       "      <td>female</td>\n",
       "      <td>Q1</td>\n",
       "      <td>2.0</td>\n",
       "    </tr>\n",
       "    <tr>\n",
       "      <th>13923</th>\n",
       "      <td>1</td>\n",
       "      <td>25</td>\n",
       "      <td>female</td>\n",
       "      <td>Q14</td>\n",
       "      <td>4.0</td>\n",
       "    </tr>\n",
       "    <tr>\n",
       "      <th>18207</th>\n",
       "      <td>1</td>\n",
       "      <td>25</td>\n",
       "      <td>female</td>\n",
       "      <td>Q18</td>\n",
       "      <td>3.0</td>\n",
       "    </tr>\n",
       "    <tr>\n",
       "      <th>21420</th>\n",
       "      <td>1</td>\n",
       "      <td>25</td>\n",
       "      <td>female</td>\n",
       "      <td>Q21</td>\n",
       "      <td>4.0</td>\n",
       "    </tr>\n",
       "    <tr>\n",
       "      <th>32130</th>\n",
       "      <td>1</td>\n",
       "      <td>25</td>\n",
       "      <td>female</td>\n",
       "      <td>Q31</td>\n",
       "      <td>2.0</td>\n",
       "    </tr>\n",
       "  </tbody>\n",
       "</table>\n",
       "</div>"
      ],
      "text/plain": [
       "       subject_ids  age  gender variable  value\n",
       "0                1   25  female       Q1    2.0\n",
       "13923            1   25  female      Q14    4.0\n",
       "18207            1   25  female      Q18    3.0\n",
       "21420            1   25  female      Q21    4.0\n",
       "32130            1   25  female      Q31    2.0"
      ]
     },
     "execution_count": 92,
     "metadata": {},
     "output_type": "execute_result"
    }
   ],
   "source": [
    "hsq_long.head()"
   ]
  },
  {
   "cell_type": "code",
   "execution_count": 93,
   "metadata": {
    "collapsed": false
   },
   "outputs": [
    {
     "data": {
      "text/html": [
       "<div>\n",
       "<table border=\"1\" class=\"dataframe\">\n",
       "  <thead>\n",
       "    <tr style=\"text-align: right;\">\n",
       "      <th></th>\n",
       "      <th>subject_ids</th>\n",
       "      <th>age</th>\n",
       "      <th>gender</th>\n",
       "      <th>variable</th>\n",
       "      <th>value</th>\n",
       "    </tr>\n",
       "  </thead>\n",
       "  <tbody>\n",
       "    <tr>\n",
       "      <th>37778</th>\n",
       "      <td>294</td>\n",
       "      <td>242</td>\n",
       "      <td>male</td>\n",
       "      <td>selfdefeating</td>\n",
       "      <td>2.8</td>\n",
       "    </tr>\n",
       "    <tr>\n",
       "      <th>29210</th>\n",
       "      <td>294</td>\n",
       "      <td>242</td>\n",
       "      <td>male</td>\n",
       "      <td>Q28</td>\n",
       "      <td>4.0</td>\n",
       "    </tr>\n",
       "    <tr>\n",
       "      <th>12074</th>\n",
       "      <td>294</td>\n",
       "      <td>242</td>\n",
       "      <td>male</td>\n",
       "      <td>Q12</td>\n",
       "      <td>4.0</td>\n",
       "    </tr>\n",
       "    <tr>\n",
       "      <th>30281</th>\n",
       "      <td>294</td>\n",
       "      <td>242</td>\n",
       "      <td>male</td>\n",
       "      <td>Q29</td>\n",
       "      <td>3.0</td>\n",
       "    </tr>\n",
       "    <tr>\n",
       "      <th>35636</th>\n",
       "      <td>294</td>\n",
       "      <td>242</td>\n",
       "      <td>male</td>\n",
       "      <td>selfenhancing</td>\n",
       "      <td>3.8</td>\n",
       "    </tr>\n",
       "  </tbody>\n",
       "</table>\n",
       "</div>"
      ],
      "text/plain": [
       "       subject_ids  age gender       variable  value\n",
       "37778          294  242   male  selfdefeating    2.8\n",
       "29210          294  242   male            Q28    4.0\n",
       "12074          294  242   male            Q12    4.0\n",
       "30281          294  242   male            Q29    3.0\n",
       "35636          294  242   male  selfenhancing    3.8"
      ]
     },
     "execution_count": 93,
     "metadata": {},
     "output_type": "execute_result"
    }
   ],
   "source": [
    "old_subjects = hsq_long[hsq_long.age > 100]\n",
    "\n",
    "old_subjects.head()"
   ]
  },
  {
   "cell_type": "code",
   "execution_count": 94,
   "metadata": {
    "collapsed": false
   },
   "outputs": [
    {
     "name": "stdout",
     "output_type": "stream",
     "text": [
      "[294 304 633 958]\n"
     ]
    }
   ],
   "source": [
    "old_subjects = old_subjects.subject_ids.unique()\n",
    "print old_subjects"
   ]
  },
  {
   "cell_type": "code",
   "execution_count": 113,
   "metadata": {
    "collapsed": false
   },
   "outputs": [
    {
     "data": {
      "text/html": [
       "<div>\n",
       "<table border=\"1\" class=\"dataframe\">\n",
       "  <thead>\n",
       "    <tr style=\"text-align: right;\">\n",
       "      <th></th>\n",
       "      <th>subject_ids</th>\n",
       "      <th>age</th>\n",
       "      <th>gender</th>\n",
       "      <th>variable</th>\n",
       "      <th>value</th>\n",
       "    </tr>\n",
       "  </thead>\n",
       "  <tbody>\n",
       "    <tr>\n",
       "      <th>0</th>\n",
       "      <td>1</td>\n",
       "      <td>25</td>\n",
       "      <td>female</td>\n",
       "      <td>Q1</td>\n",
       "      <td>2.0</td>\n",
       "    </tr>\n",
       "    <tr>\n",
       "      <th>13923</th>\n",
       "      <td>1</td>\n",
       "      <td>25</td>\n",
       "      <td>female</td>\n",
       "      <td>Q14</td>\n",
       "      <td>4.0</td>\n",
       "    </tr>\n",
       "    <tr>\n",
       "      <th>18207</th>\n",
       "      <td>1</td>\n",
       "      <td>25</td>\n",
       "      <td>female</td>\n",
       "      <td>Q18</td>\n",
       "      <td>3.0</td>\n",
       "    </tr>\n",
       "    <tr>\n",
       "      <th>21420</th>\n",
       "      <td>1</td>\n",
       "      <td>25</td>\n",
       "      <td>female</td>\n",
       "      <td>Q21</td>\n",
       "      <td>4.0</td>\n",
       "    </tr>\n",
       "    <tr>\n",
       "      <th>32130</th>\n",
       "      <td>1</td>\n",
       "      <td>25</td>\n",
       "      <td>female</td>\n",
       "      <td>Q31</td>\n",
       "      <td>2.0</td>\n",
       "    </tr>\n",
       "  </tbody>\n",
       "</table>\n",
       "</div>"
      ],
      "text/plain": [
       "       subject_ids  age  gender variable  value\n",
       "0                1   25  female       Q1    2.0\n",
       "13923            1   25  female      Q14    4.0\n",
       "18207            1   25  female      Q18    3.0\n",
       "21420            1   25  female      Q21    4.0\n",
       "32130            1   25  female      Q31    2.0"
      ]
     },
     "execution_count": 113,
     "metadata": {},
     "output_type": "execute_result"
    }
   ],
   "source": [
    "ages = hsq_long.age[0:10]\n",
    "# print ~(ages > 25)\n",
    "hsq_long = hsq_long[~(hsq_long.subject_ids.isin(old_subjects))]\n",
    "\n",
    "hsq_long.head()"
   ]
  },
  {
   "cell_type": "markdown",
   "metadata": {},
   "source": [
    "---\n",
    "\n",
    "### E.3: Transform variables (invert some)\n",
    "\n",
    "Some of the scales need to be reversed. We will transform variables so that the valence of the 1-5 likert scale is always going from negative valence to positive valence.\n",
    "\n",
    "For example the scale for this question is already correctly rated from 1 to 5:\n",
    "\n",
    "    Even if I'm by myself, I'm often amused by the absurdity of life.\n",
    "    \n",
    "And this is one that needs to be reversed, since the 1 value actually corresponds to a positive humor style:\n",
    "\n",
    "    I usually don't laugh or joke around much with other people.\n",
    "    \n",
    "Below is a list of the questions that need to be inverted."
   ]
  },
  {
   "cell_type": "code",
   "execution_count": null,
   "metadata": {
    "collapsed": true
   },
   "outputs": [],
   "source": [
    "inverted_questions = ['usually_dont_laugh',\n",
    "                      'tease_others_mistakes',\n",
    "                      'let_others_laugh_at_me',\n",
    "                      'rarely_make_laugh_stories',\n",
    "                      'use_self_deprecation',\n",
    "                      'tease_disliked_people',\n",
    "                      'cant_think_witty_things',\n",
    "                      'allow_others_tease_me',\n",
    "                      'harshly_self_deprecate',\n",
    "                      'dont_often_joke',\n",
    "                      'if_sad_cant_laugh',\n",
    "                      'dont_like_telling_jokes',\n",
    "                      'dont_care_impact_jokes',\n",
    "                      'self_deprecate_to_befriend',\n",
    "                      'friends_often_tease_me',\n",
    "                      'joke_when_inappropriate']"
   ]
  },
  {
   "cell_type": "markdown",
   "metadata": {},
   "source": [
    "**E.3.1** Write a function that will accept a score value and \"invert\" the score. That is to say:\n",
    "\n",
    "    1 -> 5\n",
    "    2 -> 4\n",
    "    3 -> 3\n",
    "    4 -> 2\n",
    "    5 -> 1"
   ]
  },
  {
   "cell_type": "code",
   "execution_count": null,
   "metadata": {
    "collapsed": true
   },
   "outputs": [],
   "source": []
  },
  {
   "cell_type": "markdown",
   "metadata": {},
   "source": [
    "**E.3.2** Apply the score inverter function to the values where the variable is in the ```inverted_question``` list, reassigning the ```value``` column at those locations.\n",
    "\n",
    "Don't forget about the ```.isin()``` function for Series as well as the ```.map()``` or ```.apply()``` functions for element-wise operations on a Series!\n",
    "\n",
    "http://pandas.pydata.org/pandas-docs/stable/generated/pandas.Series.isin.html\n",
    "\n",
    "http://pandas.pydata.org/pandas-docs/stable/generated/pandas.Series.map.html\n",
    "\n",
    "http://pandas.pydata.org/pandas-docs/version/0.17.0/generated/pandas.Series.apply.html"
   ]
  },
  {
   "cell_type": "code",
   "execution_count": null,
   "metadata": {
    "collapsed": false
   },
   "outputs": [],
   "source": []
  },
  {
   "cell_type": "markdown",
   "metadata": {},
   "source": [
    "---\n",
    "\n",
    "## F: Transforming the dataset back to wide format\n",
    "\n",
    "Now we will transform the DataFrame in long format back to wide format.\n",
    "\n",
    "We are going to be using the powerful **```pd.pivot_table()```** function. \n",
    "\n",
    "---\n",
    "\n",
    "### F.1: Use pd.pivot_table() to re-widen your data\n",
    "\n",
    "The ```pd.pivot_table()``` function takes a variety of arguments. For now, lets just set the keyword arguments and corresponding values outlined below:\n",
    "\n",
    "- **data** The first argument is your DataFrame you are going to pivot.\n",
    "\n",
    "- **index** is the key or keys to group by along the pivot table indices, or rows. These \"keys\" are column names in your DataFrame:\n",
    "\n",
    "```python\n",
    "index = ['subject_id','age','gender']\n",
    "```\n",
    "\n",
    "- **columns** is the key or keys to group by along the pivot table columns. These are also column names or a name:\n",
    "\n",
    "```python\n",
    "columns = ['variable']\n",
    "```\n",
    "\n",
    "- **values** is the key or keys that are the values to \"aggregate\". More on aggregation soon, but don't worry about it right now.\n",
    "\n",
    "```python\n",
    "values = ['value']\n",
    "```\n",
    "\n",
    "**F.1.1** Create a new widened DataFrame from your long data using the specified keyword arguments above. Print out the head and the shape as well."
   ]
  },
  {
   "cell_type": "code",
   "execution_count": null,
   "metadata": {
    "collapsed": false
   },
   "outputs": [],
   "source": []
  },
  {
   "cell_type": "code",
   "execution_count": null,
   "metadata": {
    "collapsed": false,
    "scrolled": true
   },
   "outputs": [],
   "source": []
  },
  {
   "cell_type": "markdown",
   "metadata": {},
   "source": [
    "This looks different than our original wide dataset, and is going to take some explaining for sure.\n",
    "\n",
    "This is what pandas calls alternatively **hierarchical indexing** or just **MultiIndex**.\n",
    "\n",
    "Look up at the top left corner of the header. You can see now that there are **multiple levels to both the index (rows) and the column headers.** This is what is meant by hierarchical or \"multi\" indexing.\n",
    "\n",
    "- under the super-index \"variable\" are sub-indices \"subject_id\", \"age\", and \"gender\"\n",
    "- under the super-header \"value\" are sub-headers that are all the unique values previously in the \"variable\" column of our long-form DataFrame\n",
    "\n"
   ]
  },
  {
   "cell_type": "markdown",
   "metadata": {},
   "source": [
    "---\n",
    "\n",
    "### F.2: Understanding the MultiIndex\n",
    "\n",
    "The MultiIndex at first appears daunting and confusing. What is it? How do we use it?\n",
    "\n",
    "**F.2.1** Print out the columns of your wide dataset."
   ]
  },
  {
   "cell_type": "code",
   "execution_count": null,
   "metadata": {
    "collapsed": false
   },
   "outputs": [],
   "source": []
  },
  {
   "cell_type": "markdown",
   "metadata": {},
   "source": [
    "The columns before was just a list of the column names, but now there are three attributes:\n",
    "\n",
    "- **levels** is the list of lists that contains the hierarchy of header labels\n",
    "- **labels** is the list of lists that specifies which level label goes in which position at each hierarchical level\n",
    "- **names** are the names of the hierarchical header levels\n",
    "\n",
    "**F.2.2** Print out the ```.columns.names``` property specifically"
   ]
  },
  {
   "cell_type": "code",
   "execution_count": null,
   "metadata": {
    "collapsed": false
   },
   "outputs": [],
   "source": []
  },
  {
   "cell_type": "markdown",
   "metadata": {},
   "source": [
    "The name for the second level is \"variable\", and the first (top) level has ```None```: no name.\n",
    "\n",
    "Why is the top level ```None```? \n",
    "\n",
    "The name \"variable\" is indicating the category, so to speak, of the bottom level header labels. Looking at the ```.head()``` printout, you can see that the \"variable\" is just to the left of all the bottom level headers. The **name of that level is \"variable\"** (which is the column they were pulled out of in the long data).\n",
    "\n",
    "The upper level, \"value\", has no name because there aren't tiers above it and pandas chooses to not give it a name! \n",
    "\n",
    "The names are just convenience anyway, since you **index by labels**.\n",
    "\n",
    "---\n",
    "\n",
    "Still confused? Think of it this way: the \"value\" label at the top spans all the columns and corresponds to the values in the cells of the columns. \n",
    "\n",
    "Remember how the variable and value columns in the long data looked?\n",
    "\n",
    "```\n",
    "variable       value\n",
    "--------       -----\n",
    "accuracy       100\n",
    "accuracy       80\n",
    "selfdefeating  2.2\n",
    "selfenhancing  3.1\n",
    "selfdefeating  1.1\n",
    "...\n",
    "```\n",
    "\n",
    "**\"value\" is the top level in the header hierarchy because the unique \"variable\" column items correspond to a subset of the \"value\" column numbers.**\n",
    "\n",
    "---"
   ]
  },
  {
   "cell_type": "markdown",
   "metadata": {},
   "source": [
    "**F.2.3** Print out the ```.index.names``` property of your wide data"
   ]
  },
  {
   "cell_type": "code",
   "execution_count": null,
   "metadata": {
    "collapsed": false
   },
   "outputs": [],
   "source": []
  },
  {
   "cell_type": "markdown",
   "metadata": {},
   "source": [
    "We see that there are 3 named indices. This corresponds to the leftmost part of the ```.head()``` we printed out before: you can see 3 bolded columns that are indices with these titles."
   ]
  },
  {
   "cell_type": "markdown",
   "metadata": {},
   "source": [
    "Before moving on to indexing, we can actually easily get rid of that useless \"value\" header.\n",
    "\n",
    "**F.2.4** Reassign your wide data to the wide data pulling out column value. As in:\n",
    "\n",
    "```python\n",
    "hsq_wide = hsq_wide['value']\n",
    "```\n",
    "\n",
    "Then print the dataset and print the columns attribute to see how it gets rid of the hierarchical header."
   ]
  },
  {
   "cell_type": "code",
   "execution_count": null,
   "metadata": {
    "collapsed": false
   },
   "outputs": [],
   "source": []
  },
  {
   "cell_type": "code",
   "execution_count": null,
   "metadata": {
    "collapsed": false
   },
   "outputs": [],
   "source": []
  },
  {
   "cell_type": "code",
   "execution_count": null,
   "metadata": {
    "collapsed": false
   },
   "outputs": [],
   "source": []
  },
  {
   "cell_type": "markdown",
   "metadata": {},
   "source": [
    "---\n",
    "\n",
    "### F.3: Indexing with a MultiIndex\n",
    "\n",
    "pandas provides many different ways you can index your DataFrame when it has a MultiIndex. I am just going to go over three, which are the ones I find most intuitive in order:\n",
    "\n",
    "1. Using **```.xs()```** which is the \"cross-section\" indexing function\n",
    "2. Using a **```pd.IndexSlice```** object\n",
    "3. Using the **```.query()```** function\n",
    "\n",
    "Let's start with the cross-section function.\n",
    "\n",
    "**F.3.1** Type the following (replacing hsq_wide with your wide DataFrame name):\n",
    "\n",
    "```python\n",
    "hsq_wide.xs(3, level='subject_id')\n",
    "```"
   ]
  },
  {
   "cell_type": "code",
   "execution_count": null,
   "metadata": {
    "collapsed": false
   },
   "outputs": [],
   "source": []
  },
  {
   "cell_type": "markdown",
   "metadata": {},
   "source": [
    "**F.3.2** What did the cross-section function pull out using these parameters? Explain what cross-section is doing here."
   ]
  },
  {
   "cell_type": "markdown",
   "metadata": {},
   "source": [
    "**F.3.2.A** "
   ]
  },
  {
   "cell_type": "markdown",
   "metadata": {},
   "source": [
    "**F.3.3** Type the following python and explain what is happening and why:\n",
    "\n",
    "```python\n",
    "hsq_wide.xs((21, 'male'), level='subject_id', axis=0, drop_level=False)[['aggressive','affiliative']]\n",
    "```"
   ]
  },
  {
   "cell_type": "code",
   "execution_count": null,
   "metadata": {
    "collapsed": false,
    "scrolled": false
   },
   "outputs": [],
   "source": []
  },
  {
   "cell_type": "markdown",
   "metadata": {},
   "source": [
    "**F.3.3.A** "
   ]
  },
  {
   "cell_type": "markdown",
   "metadata": {},
   "source": [
    "**F.3.4** What is the limitation of the cross-section function?"
   ]
  },
  {
   "cell_type": "markdown",
   "metadata": {},
   "source": [
    "**F.3.4.A** "
   ]
  },
  {
   "cell_type": "markdown",
   "metadata": {},
   "source": [
    "---\n",
    "\n",
    "**F.3.5** Instantiate a **```pd.IndexSlice```** object and try it on your dataset with the code below.\n",
    "\n",
    "```python\n",
    "idx = pd.IndexSlice\n",
    "\n",
    "hsq_wide.loc[idx[:,21,'male'],['aggressive','affiliative']]\n",
    "```\n",
    "\n",
    "**IMPORTANT: The IndexSlice object and hierarchical indexes should be used with ```.loc``` !**"
   ]
  },
  {
   "cell_type": "code",
   "execution_count": null,
   "metadata": {
    "collapsed": false
   },
   "outputs": [],
   "source": []
  },
  {
   "cell_type": "markdown",
   "metadata": {},
   "source": [
    "**F.3.6** Try the following code below. What is this letting you do that the cross-section is unable to do?\n",
    "\n",
    "```python\n",
    "hsq_wide.loc[idx[30:35,:,:],['aggressive','affiliative']]\n",
    "```"
   ]
  },
  {
   "cell_type": "code",
   "execution_count": null,
   "metadata": {
    "collapsed": false
   },
   "outputs": [],
   "source": []
  },
  {
   "cell_type": "markdown",
   "metadata": {},
   "source": [
    "**F.3.6.A** "
   ]
  },
  {
   "cell_type": "markdown",
   "metadata": {},
   "source": [
    "---\n",
    "\n",
    "**F.3.7** Let's try out the query function for DataFrames. Query is VERY nice because it allows us to enter in expressions as strings that are very intuitive.\n",
    "\n",
    "Try these query examples out below:\n",
    "\n",
    "```dislike_mean_humor``` scores for males only aged 18, 25, or 30:\n",
    "\n",
    "```python\n",
    "hsq_wide.query('(gender == male) and (age in [18, 25, 30)')[['dislike_mean_humor']]\n",
    "```"
   ]
  },
  {
   "cell_type": "code",
   "execution_count": null,
   "metadata": {
    "collapsed": false
   },
   "outputs": [],
   "source": []
  },
  {
   "cell_type": "markdown",
   "metadata": {},
   "source": [
    "where aggressive, affiliative, selfdefeating, and selfenhancing multiplied by each other are less than the subject's age:\n",
    "\n",
    "```python\n",
    "hsq_wide.query('(aggresive*affiliative*selfenhancing*selfdefeating) > age')[['aggresive','affiliative','selfenhancing','selfdefeating']]\n",
    "```"
   ]
  },
  {
   "cell_type": "code",
   "execution_count": null,
   "metadata": {
    "collapsed": false
   },
   "outputs": [],
   "source": []
  },
  {
   "cell_type": "markdown",
   "metadata": {},
   "source": [
    "---\n",
    "\n",
    "More on MultiIndex and advanced indexing below. **HIGHLY RECOMMENDED READING!**\n",
    "\n",
    "http://pandas.pydata.org/pandas-docs/stable/advanced.html"
   ]
  },
  {
   "cell_type": "markdown",
   "metadata": {},
   "source": [
    "---\n",
    "\n",
    "### F.4 Flattening a MultiIndex DataFrame\n",
    "\n",
    "MultiIndex is great and quite powerful, but if you are feeling overwhelmed and want to go back to the standard indexed data, you can.\n",
    "\n",
    "The command you want is **```.reset_index()```**\n",
    "\n",
    "Try it out on the wide data below with:\n",
    "\n",
    "```python\n",
    "hsq_wide.reset_index()\n",
    "```"
   ]
  },
  {
   "cell_type": "code",
   "execution_count": null,
   "metadata": {
    "collapsed": false
   },
   "outputs": [],
   "source": []
  },
  {
   "cell_type": "markdown",
   "metadata": {},
   "source": [
    "Your index is now called \"variable\", and all the hierarchical indices have been flattened down into columns.\n",
    "\n",
    "check out the ```.columns```"
   ]
  },
  {
   "cell_type": "code",
   "execution_count": null,
   "metadata": {
    "collapsed": false
   },
   "outputs": [],
   "source": []
  }
 ],
 "metadata": {
  "kernelspec": {
   "display_name": "Python 2",
   "language": "python",
   "name": "python2"
  },
  "language_info": {
   "codemirror_mode": {
    "name": "ipython",
    "version": 2
   },
   "file_extension": ".py",
   "mimetype": "text/x-python",
   "name": "python",
   "nbconvert_exporter": "python",
   "pygments_lexer": "ipython2",
   "version": "2.7.11"
  }
 },
 "nbformat": 4,
 "nbformat_minor": 0
}
