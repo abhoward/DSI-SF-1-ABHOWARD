{
 "cells": [
  {
   "cell_type": "code",
   "execution_count": 33,
   "metadata": {
    "collapsed": true
   },
   "outputs": [],
   "source": [
    "import requests"
   ]
  },
  {
   "cell_type": "code",
   "execution_count": 34,
   "metadata": {
    "collapsed": false
   },
   "outputs": [],
   "source": [
    "url = \"http://letsrevolutionizetesting.com/challenge?id=572744636\"\n",
    "\n",
    "r = requests.get(url)"
   ]
  },
  {
   "cell_type": "code",
   "execution_count": 35,
   "metadata": {
    "collapsed": true
   },
   "outputs": [],
   "source": [
    "def follow(url):\n",
    "    print \"Following \", url.replace(\"?\",\".json?\"), \" ...\"\n",
    "    r = requests.get(url.replace(\"?\",\".json?\"))\n",
    "    try:\n",
    "        return follow(r.json()['follow'])\n",
    "    except:\n",
    "        print \"Failed to find 'follow' element\"\n",
    "        return r.text"
   ]
  },
  {
   "cell_type": "code",
   "execution_count": 36,
   "metadata": {
    "collapsed": false,
    "scrolled": true
   },
   "outputs": [
    {
     "name": "stdout",
     "output_type": "stream",
     "text": [
      "Following  http://letsrevolutionizetesting.com/challenge.json?id=572744636  ...\n",
      "Following  http://letsrevolutionizetesting.com/challenge.json?id=461736456  ...\n",
      "Following  http://letsrevolutionizetesting.com/challenge.json?id=47526821  ...\n",
      "Following  http://letsrevolutionizetesting.com/challenge.json?id=80296008  ...\n",
      "Following  http://letsrevolutionizetesting.com/challenge.json?id=567724423  ...\n",
      "Following  http://letsrevolutionizetesting.com/challenge.json?id=32758300  ...\n",
      "Following  http://letsrevolutionizetesting.com/challenge.json?id=580396716  ...\n",
      "Following  http://letsrevolutionizetesting.com/challenge.json?id=479167105  ...\n",
      "Following  http://letsrevolutionizetesting.com/challenge.json?id=949971757  ...\n",
      "Following  http://letsrevolutionizetesting.com/challenge.json?id=861310992  ...\n",
      "Following  http://letsrevolutionizetesting.com/challenge.json?id=937651877  ...\n",
      "Following  http://letsrevolutionizetesting.com/challenge.json?id=354271637  ...\n",
      "Following  http://letsrevolutionizetesting.com/challenge.json?id=705630460  ...\n",
      "Following  http://letsrevolutionizetesting.com/challenge.json?id=606216317  ...\n",
      "Following  http://letsrevolutionizetesting.com/challenge.json?id=65584552  ...\n",
      "Following  http://letsrevolutionizetesting.com/challenge.json?id=831657532  ...\n",
      "Following  http://letsrevolutionizetesting.com/challenge.json?id=256000467  ...\n",
      "Following  http://letsrevolutionizetesting.com/challenge.json?id=161184211  ...\n",
      "Following  http://letsrevolutionizetesting.com/challenge.json?id=208550157  ...\n",
      "Following  http://letsrevolutionizetesting.com/challenge.json?id=475613963  ...\n",
      "Following  http://letsrevolutionizetesting.com/challenge.json?id=37577102  ...\n",
      "Following  http://letsrevolutionizetesting.com/challenge.json?id=724114586  ...\n",
      "Following  http://letsrevolutionizetesting.com/challenge.json?id=556333858  ...\n",
      "Following  http://letsrevolutionizetesting.com/challenge.json?id=115660865  ...\n",
      "Following  http://letsrevolutionizetesting.com/challenge.json?id=716571928  ...\n",
      "Following  http://letsrevolutionizetesting.com/challenge.json?id=596834351  ...\n",
      "Following  http://letsrevolutionizetesting.com/challenge.json?id=630823541  ...\n",
      "Following  http://letsrevolutionizetesting.com/challenge.json?id=652202071  ...\n",
      "Following  http://letsrevolutionizetesting.com/challenge.json?id=300716465  ...\n",
      "Following  http://letsrevolutionizetesting.com/challenge.json?id=155015675  ...\n",
      "Following  http://letsrevolutionizetesting.com/challenge.json?id=135205298  ...\n",
      "Following  http://letsrevolutionizetesting.com/challenge.json?id=897873681  ...\n",
      "Following  http://letsrevolutionizetesting.com/challenge.json?id=967454426  ...\n",
      "Following  http://letsrevolutionizetesting.com/challenge.json?id=71656714  ...\n",
      "Following  http://letsrevolutionizetesting.com/challenge.json?id=142868048  ...\n",
      "Following  http://letsrevolutionizetesting.com/challenge.json?id=930312428  ...\n",
      "Following  http://letsrevolutionizetesting.com/challenge.json?id=197119602  ...\n",
      "Following  http://letsrevolutionizetesting.com/challenge.json?id=617265884  ...\n",
      "Following  http://letsrevolutionizetesting.com/challenge.json?id=970138205  ...\n",
      "Following  http://letsrevolutionizetesting.com/challenge.json?id=201907239  ...\n",
      "Following  http://letsrevolutionizetesting.com/challenge.json?id=686630567  ...\n",
      "Following  http://letsrevolutionizetesting.com/challenge.json?id=121457796  ...\n",
      "Following  http://letsrevolutionizetesting.com/challenge.json?id=488888020  ...\n",
      "Following  http://letsrevolutionizetesting.com/challenge.json?id=895507276  ...\n",
      "Following  http://letsrevolutionizetesting.com/challenge.json?id=173103113  ...\n",
      "Following  http://letsrevolutionizetesting.com/challenge.json?id=803136089  ...\n",
      "Following  http://letsrevolutionizetesting.com/challenge.json?id=480810857  ...\n",
      "Following  http://letsrevolutionizetesting.com/challenge.json?id=553833934  ...\n",
      "Following  http://letsrevolutionizetesting.com/challenge.json?id=801238070  ...\n",
      "Following  http://letsrevolutionizetesting.com/challenge.json?id=477183693  ...\n",
      "Following  http://letsrevolutionizetesting.com/challenge.json?id=278432362  ...\n",
      "Following  http://letsrevolutionizetesting.com/challenge.json?id=75367184  ...\n",
      "Following  http://letsrevolutionizetesting.com/challenge.json?id=653620253  ...\n",
      "Following  http://letsrevolutionizetesting.com/challenge.json?id=620822263  ...\n",
      "Following  http://letsrevolutionizetesting.com/challenge.json?id=368201548  ...\n",
      "Following  http://letsrevolutionizetesting.com/challenge.json?id=202982190  ...\n",
      "Following  http://letsrevolutionizetesting.com/challenge.json?id=449699507  ...\n",
      "Following  http://letsrevolutionizetesting.com/challenge.json?id=469802573  ...\n",
      "Following  http://letsrevolutionizetesting.com/challenge.json?id=100196142  ...\n",
      "Following  http://letsrevolutionizetesting.com/challenge.json?id=532212727  ...\n",
      "Following  http://letsrevolutionizetesting.com/challenge.json?id=180103962  ...\n",
      "Following  http://letsrevolutionizetesting.com/challenge.json?id=569247979  ...\n",
      "Following  http://letsrevolutionizetesting.com/challenge.json?id=513897475  ...\n",
      "Following  http://letsrevolutionizetesting.com/challenge.json?id=911918452  ...\n",
      "Following  http://letsrevolutionizetesting.com/challenge.json?id=515668116  ...\n",
      "Following  http://letsrevolutionizetesting.com/challenge.json?id=400102864  ...\n",
      "Following  http://letsrevolutionizetesting.com/challenge.json?id=598053525  ...\n",
      "Following  http://letsrevolutionizetesting.com/challenge.json?id=94928201  ...\n",
      "Following  http://letsrevolutionizetesting.com/challenge.json?id=765856838  ...\n",
      "Following  http://letsrevolutionizetesting.com/challenge.json?id=529200894  ...\n",
      "Following  http://letsrevolutionizetesting.com/challenge.json?id=300886136  ...\n",
      "Following  http://letsrevolutionizetesting.com/challenge.json?id=307895327  ...\n",
      "Following  http://letsrevolutionizetesting.com/challenge.json?id=530146612  ...\n",
      "Following  http://letsrevolutionizetesting.com/challenge.json?id=599920573  ...\n",
      "Following  http://letsrevolutionizetesting.com/challenge.json?id=135743876  ...\n",
      "Following  http://letsrevolutionizetesting.com/challenge.json?id=454110831  ...\n",
      "Following  http://letsrevolutionizetesting.com/challenge.json?id=995478629  ...\n",
      "Following  http://letsrevolutionizetesting.com/challenge.json?id=582208015  ...\n",
      "Following  http://letsrevolutionizetesting.com/challenge.json?id=811715985  ...\n",
      "Following  http://letsrevolutionizetesting.com/challenge.json?id=650890482  ...\n",
      "Following  http://letsrevolutionizetesting.com/challenge.json?id=822042114  ...\n",
      "Following  http://letsrevolutionizetesting.com/challenge.json?id=582600663  ...\n",
      "Following  http://letsrevolutionizetesting.com/challenge.json?id=314974329  ...\n",
      "Following  http://letsrevolutionizetesting.com/challenge.json?id=169280871  ...\n",
      "Following  http://letsrevolutionizetesting.com/challenge.json?id=5136418  ...\n",
      "Following  http://letsrevolutionizetesting.com/challenge.json?id=329594904  ...\n",
      "Following  http://letsrevolutionizetesting.com/challenge.json?id=183208047  ...\n",
      "Following  http://letsrevolutionizetesting.com/challenge.json?id=627597879  ...\n",
      "Following  http://letsrevolutionizetesting.com/challenge.json?id=50576458  ...\n",
      "Following  http://letsrevolutionizetesting.com/challenge.json?id=302722799  ...\n",
      "Following  http://letsrevolutionizetesting.com/challenge.json?id=936408135  ...\n",
      "Following  http://letsrevolutionizetesting.com/challenge.json?id=254043118  ...\n",
      "Following  http://letsrevolutionizetesting.com/challenge.json?id=702496729  ...\n",
      "Following  http://letsrevolutionizetesting.com/challenge.json?id=94985935  ...\n",
      "Following  http://letsrevolutionizetesting.com/challenge.json?id=951438732  ...\n",
      "Following  http://letsrevolutionizetesting.com/challenge.json?id=903777032  ...\n",
      "Following  http://letsrevolutionizetesting.com/challenge.json?id=503047199  ...\n",
      "Failed to find 'follow' element\n"
     ]
    },
    {
     "data": {
      "text/plain": [
       "u'{\"message\":\"Congratulations! You\\'ve reached the end! You have passed our simple little test and we would love to hear from you. Please save the code you used to a private gist, and fill out the quick application form at https://jobs.lever.co/rainforest. We\\'ll be in touch shortly!\"}'"
      ]
     },
     "execution_count": 36,
     "metadata": {},
     "output_type": "execute_result"
    }
   ],
   "source": [
    "follow(url)"
   ]
  },
  {
   "cell_type": "code",
   "execution_count": null,
   "metadata": {
    "collapsed": true
   },
   "outputs": [],
   "source": []
  }
 ],
 "metadata": {
  "kernelspec": {
   "display_name": "Python 2",
   "language": "python",
   "name": "python2"
  },
  "language_info": {
   "codemirror_mode": {
    "name": "ipython",
    "version": 2
   },
   "file_extension": ".py",
   "mimetype": "text/x-python",
   "name": "python",
   "nbconvert_exporter": "python",
   "pygments_lexer": "ipython2",
   "version": "2.7.11"
  }
 },
 "nbformat": 4,
 "nbformat_minor": 0
}
