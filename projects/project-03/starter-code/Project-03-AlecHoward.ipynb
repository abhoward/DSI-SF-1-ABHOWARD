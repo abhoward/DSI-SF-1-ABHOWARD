{
 "cells": [
  {
   "cell_type": "markdown",
   "metadata": {},
   "source": [
    "# Getting started\n",
    "\n",
    "Once you've chosen your scenario, download the data from [the Iowa website](https://data.iowa.gov/Economy/Iowa-Liquor-Sales/m3tr-qhgy) in csv format. Start by loading the data with pandas. You may need to parse the date columns appropriately."
   ]
  },
  {
   "cell_type": "code",
   "execution_count": 118,
   "metadata": {
    "collapsed": true
   },
   "outputs": [],
   "source": [
    "import pandas as pd\n",
    "import seaborn as sns\n",
    "import numpy as np\n",
    "import matplotlib.pyplot as plt\n",
    "import patsy\n",
    "from sklearn.linear_model import LinearRegression\n",
    "from sklearn.linear_model import LogisticRegression\n",
    "from sklearn.linear_model import Ridge\n",
    "from sklearn.linear_model import Lasso\n",
    "from sklearn.neighbors import KNeighborsClassifier\n",
    "from sklearn.cross_validation import train_test_split, StratifiedKFold\n",
    "from ipywidgets import *\n",
    "from IPython.display import display\n",
    "%matplotlib inline"
   ]
  },
  {
   "cell_type": "code",
   "execution_count": 2,
   "metadata": {
    "collapsed": true
   },
   "outputs": [],
   "source": [
    "# Load the data into a DataFrame\n",
    "sales = pd.read_csv('../assets/datasets/Iowa_Liquor_sales_sample_10pct.csv')"
   ]
  },
  {
   "cell_type": "code",
   "execution_count": 3,
   "metadata": {
    "collapsed": false
   },
   "outputs": [],
   "source": [
    "# Converting dates\n",
    "sales['Date'] =  pd.to_datetime(sales['Date'], format = '%m/%d/%Y')\n",
    "\n",
    "# Removing redundant columns\n",
    "# sales.drop('Volume Sold (Gallons)', axis = 1, inplace = True)\n",
    "\n",
    "# Removing $ and convert to float\n",
    "sales['State Bottle Cost'].replace('\\$', '', regex = True, inplace = True)\n",
    "sales['State Bottle Cost'] = sales['State Bottle Cost'].astype(float, copy = True)\n",
    "\n",
    "sales['State Bottle Retail'].replace('\\$', '', regex = True, inplace = True)\n",
    "sales['State Bottle Retail'] = sales['State Bottle Retail'].astype(float, copy = True)\n",
    "\n",
    "sales['Sale (Dollars)'].replace('\\$', '', regex = True, inplace = True)\n",
    "sales['Sale (Dollars)'] = sales['Sale (Dollars)'].astype(float, copy = True)\n",
    "\n",
    "# Creating a profit column\n",
    "sales['Profit'] = (sales['State Bottle Retail'] - sales['State Bottle Cost']) * sales['Bottles Sold']\n",
    "\n",
    "sales['Month'] = sales.Date.dt.month\n",
    "\n",
    "sales['Year'] = sales.Date.dt.year\n",
    "\n",
    "# sales.Year = sales['Year'].apply(lambda x: x - 2015)\n",
    "\n",
    "# Creating a price per liter column\n",
    "sales['Price Per Liter'] = sales['State Bottle Retail']/(sales['Bottle Volume (ml)']/1000)\n",
    "sales['Price Per Liter'] = sales['Price Per Liter'].round(2)\n",
    "\n",
    "# Fixing Zip Code column\n",
    "sales['Zip Code'].replace('712-2', '51529', inplace = True)\n",
    "sales['Zip Code'] = sales['Zip Code'].astype(int, copy = True)\n",
    "\n",
    "# Dropping NaN values\n",
    "sales.dropna(axis = 0, how = 'any', inplace = True)"
   ]
  },
  {
   "cell_type": "code",
   "execution_count": 4,
   "metadata": {
    "collapsed": false,
    "scrolled": true
   },
   "outputs": [
    {
     "name": "stdout",
     "output_type": "stream",
     "text": [
      "<class 'pandas.core.frame.DataFrame'>\n",
      "Int64Index: 269258 entries, 0 to 270954\n",
      "Data columns (total 22 columns):\n",
      "Date                     269258 non-null datetime64[ns]\n",
      "Store Number             269258 non-null int64\n",
      "City                     269258 non-null object\n",
      "Zip Code                 269258 non-null int64\n",
      "County Number            269258 non-null float64\n",
      "County                   269258 non-null object\n",
      "Category                 269258 non-null float64\n",
      "Category Name            269258 non-null object\n",
      "Vendor Number            269258 non-null int64\n",
      "Item Number              269258 non-null int64\n",
      "Item Description         269258 non-null object\n",
      "Bottle Volume (ml)       269258 non-null int64\n",
      "State Bottle Cost        269258 non-null float64\n",
      "State Bottle Retail      269258 non-null float64\n",
      "Bottles Sold             269258 non-null int64\n",
      "Sale (Dollars)           269258 non-null float64\n",
      "Volume Sold (Liters)     269258 non-null float64\n",
      "Volume Sold (Gallons)    269258 non-null float64\n",
      "Profit                   269258 non-null float64\n",
      "Month                    269258 non-null int64\n",
      "Year                     269258 non-null int64\n",
      "Price Per Liter          269258 non-null float64\n",
      "dtypes: datetime64[ns](1), float64(9), int64(8), object(4)\n",
      "memory usage: 47.2+ MB\n"
     ]
    }
   ],
   "source": [
    "sales.info()"
   ]
  },
  {
   "cell_type": "code",
   "execution_count": 417,
   "metadata": {
    "collapsed": false
   },
   "outputs": [
    {
     "ename": "NameError",
     "evalue": "name 'df' is not defined",
     "output_type": "error",
     "traceback": [
      "\u001b[1;31m---------------------------------------------------------------------------\u001b[0m",
      "\u001b[1;31mNameError\u001b[0m                                 Traceback (most recent call last)",
      "\u001b[1;32m<ipython-input-417-51eaf3384b39>\u001b[0m in \u001b[0;36m<module>\u001b[1;34m()\u001b[0m\n\u001b[0;32m      4\u001b[0m \u001b[1;31m#     sales[mask] = sales[mask].sort([\"County\", \"Category\"]).ffill()\u001b[0m\u001b[1;33m\u001b[0m\u001b[1;33m\u001b[0m\u001b[0m\n\u001b[0;32m      5\u001b[0m \u001b[1;33m\u001b[0m\u001b[0m\n\u001b[1;32m----> 6\u001b[1;33m \u001b[1;32mfor\u001b[0m \u001b[0mgroup_label\u001b[0m\u001b[1;33m,\u001b[0m \u001b[0mgroup_df\u001b[0m \u001b[1;32min\u001b[0m \u001b[0mdf\u001b[0m\u001b[1;33m.\u001b[0m\u001b[0mgroupby\u001b[0m\u001b[1;33m(\u001b[0m\u001b[1;34m\"Zip Code\"\u001b[0m\u001b[1;33m)\u001b[0m\u001b[1;33m:\u001b[0m\u001b[1;33m\u001b[0m\u001b[0m\n\u001b[0m\u001b[0;32m      7\u001b[0m     \u001b[0mdf\u001b[0m\u001b[1;33m[\u001b[0m\u001b[0mdf\u001b[0m\u001b[1;33m[\u001b[0m\u001b[1;34m\"Zip Code\"\u001b[0m\u001b[1;33m]\u001b[0m \u001b[1;33m==\u001b[0m \u001b[0mgroup_label\u001b[0m\u001b[1;33m]\u001b[0m \u001b[1;33m=\u001b[0m \u001b[0mdf\u001b[0m\u001b[1;33m[\u001b[0m\u001b[0mdf\u001b[0m\u001b[1;33m[\u001b[0m\u001b[1;34m\"Zip Code\"\u001b[0m\u001b[1;33m]\u001b[0m \u001b[1;33m==\u001b[0m \u001b[0mgroup_label\u001b[0m\u001b[1;33m]\u001b[0m\u001b[1;33m.\u001b[0m\u001b[0msort\u001b[0m\u001b[1;33m(\u001b[0m\u001b[1;34m\"County Number\"\u001b[0m\u001b[1;33m)\u001b[0m\u001b[1;33m.\u001b[0m\u001b[0mffill\u001b[0m\u001b[1;33m(\u001b[0m\u001b[1;33m)\u001b[0m\u001b[1;33m\u001b[0m\u001b[0m\n\u001b[0;32m      8\u001b[0m \u001b[1;33m\u001b[0m\u001b[0m\n",
      "\u001b[1;31mNameError\u001b[0m: name 'df' is not defined"
     ]
    }
   ],
   "source": [
    "# DONT RUN THIS IT TAKES WAY TOO LONG\n",
    "# Using ffill to fill in nans \n",
    "# for group_label, group_sales in sales.groupby([\"Zip Code\", \"Item Number\"]): \n",
    "#     mask = (sales['Zip Code'] == group_label[0]) & (sales[\"Item Number\"] == group_label[1])\n",
    "#     sales[mask] = sales[mask].sort([\"County\", \"Category\"]).ffill()\n",
    "\n",
    "# for group_label, group_df in df.groupby(\"Zip Code\"):\n",
    "#     df[df[\"Zip Code\"] == group_label] = df[df[\"Zip Code\"] == group_label].sort(\"County Number\").ffill()\n",
    "    \n",
    "# df.interpolate(method = 'linear', inplace = True, limit_direction = 'both')"
   ]
  },
  {
   "cell_type": "code",
   "execution_count": 6,
   "metadata": {
    "collapsed": true
   },
   "outputs": [],
   "source": [
    "# Deleting liquors that were only sold 2 times\n",
    "beer_mask = sales['Category Name'] == 'HIGH PROOF BEER - AMERICAN'\n",
    "\n",
    "sales[beer_mask]\n",
    "\n",
    "sales.drop(sales[beer_mask].index, axis = 0, inplace = True)"
   ]
  },
  {
   "cell_type": "code",
   "execution_count": 7,
   "metadata": {
    "collapsed": false
   },
   "outputs": [
    {
     "data": {
      "text/html": [
       "<div>\n",
       "<table border=\"1\" class=\"dataframe\">\n",
       "  <thead>\n",
       "    <tr style=\"text-align: right;\">\n",
       "      <th></th>\n",
       "      <th>Date</th>\n",
       "      <th>Store Number</th>\n",
       "      <th>City</th>\n",
       "      <th>Zip Code</th>\n",
       "      <th>County Number</th>\n",
       "      <th>County</th>\n",
       "      <th>Category</th>\n",
       "      <th>Category Name</th>\n",
       "      <th>Vendor Number</th>\n",
       "      <th>Item Number</th>\n",
       "      <th>...</th>\n",
       "      <th>State Bottle Cost</th>\n",
       "      <th>State Bottle Retail</th>\n",
       "      <th>Bottles Sold</th>\n",
       "      <th>Sale (Dollars)</th>\n",
       "      <th>Volume Sold (Liters)</th>\n",
       "      <th>Volume Sold (Gallons)</th>\n",
       "      <th>Profit</th>\n",
       "      <th>Month</th>\n",
       "      <th>Year</th>\n",
       "      <th>Price Per Liter</th>\n",
       "    </tr>\n",
       "  </thead>\n",
       "  <tbody>\n",
       "    <tr>\n",
       "      <th>0</th>\n",
       "      <td>2015-11-04</td>\n",
       "      <td>3717</td>\n",
       "      <td>SUMNER</td>\n",
       "      <td>50674</td>\n",
       "      <td>9.0</td>\n",
       "      <td>Bremer</td>\n",
       "      <td>1051100.0</td>\n",
       "      <td>APRICOT BRANDIES</td>\n",
       "      <td>55</td>\n",
       "      <td>54436</td>\n",
       "      <td>...</td>\n",
       "      <td>4.50</td>\n",
       "      <td>6.75</td>\n",
       "      <td>12</td>\n",
       "      <td>81.00</td>\n",
       "      <td>9.0</td>\n",
       "      <td>2.38</td>\n",
       "      <td>27.00</td>\n",
       "      <td>11</td>\n",
       "      <td>2015</td>\n",
       "      <td>9.00</td>\n",
       "    </tr>\n",
       "    <tr>\n",
       "      <th>1</th>\n",
       "      <td>2016-03-02</td>\n",
       "      <td>2614</td>\n",
       "      <td>DAVENPORT</td>\n",
       "      <td>52807</td>\n",
       "      <td>82.0</td>\n",
       "      <td>Scott</td>\n",
       "      <td>1011100.0</td>\n",
       "      <td>BLENDED WHISKIES</td>\n",
       "      <td>395</td>\n",
       "      <td>27605</td>\n",
       "      <td>...</td>\n",
       "      <td>13.75</td>\n",
       "      <td>20.63</td>\n",
       "      <td>2</td>\n",
       "      <td>41.26</td>\n",
       "      <td>1.5</td>\n",
       "      <td>0.40</td>\n",
       "      <td>13.76</td>\n",
       "      <td>3</td>\n",
       "      <td>2016</td>\n",
       "      <td>27.51</td>\n",
       "    </tr>\n",
       "    <tr>\n",
       "      <th>2</th>\n",
       "      <td>2016-02-11</td>\n",
       "      <td>2106</td>\n",
       "      <td>CEDAR FALLS</td>\n",
       "      <td>50613</td>\n",
       "      <td>7.0</td>\n",
       "      <td>Black Hawk</td>\n",
       "      <td>1011200.0</td>\n",
       "      <td>STRAIGHT BOURBON WHISKIES</td>\n",
       "      <td>65</td>\n",
       "      <td>19067</td>\n",
       "      <td>...</td>\n",
       "      <td>12.59</td>\n",
       "      <td>18.89</td>\n",
       "      <td>24</td>\n",
       "      <td>453.36</td>\n",
       "      <td>24.0</td>\n",
       "      <td>6.34</td>\n",
       "      <td>151.20</td>\n",
       "      <td>2</td>\n",
       "      <td>2016</td>\n",
       "      <td>18.89</td>\n",
       "    </tr>\n",
       "    <tr>\n",
       "      <th>3</th>\n",
       "      <td>2016-02-03</td>\n",
       "      <td>2501</td>\n",
       "      <td>AMES</td>\n",
       "      <td>50010</td>\n",
       "      <td>85.0</td>\n",
       "      <td>Story</td>\n",
       "      <td>1071100.0</td>\n",
       "      <td>AMERICAN COCKTAILS</td>\n",
       "      <td>395</td>\n",
       "      <td>59154</td>\n",
       "      <td>...</td>\n",
       "      <td>9.50</td>\n",
       "      <td>14.25</td>\n",
       "      <td>6</td>\n",
       "      <td>85.50</td>\n",
       "      <td>10.5</td>\n",
       "      <td>2.77</td>\n",
       "      <td>28.50</td>\n",
       "      <td>2</td>\n",
       "      <td>2016</td>\n",
       "      <td>8.14</td>\n",
       "    </tr>\n",
       "    <tr>\n",
       "      <th>4</th>\n",
       "      <td>2015-08-18</td>\n",
       "      <td>3654</td>\n",
       "      <td>BELMOND</td>\n",
       "      <td>50421</td>\n",
       "      <td>99.0</td>\n",
       "      <td>Wright</td>\n",
       "      <td>1031080.0</td>\n",
       "      <td>VODKA 80 PROOF</td>\n",
       "      <td>297</td>\n",
       "      <td>35918</td>\n",
       "      <td>...</td>\n",
       "      <td>7.20</td>\n",
       "      <td>10.80</td>\n",
       "      <td>12</td>\n",
       "      <td>129.60</td>\n",
       "      <td>21.0</td>\n",
       "      <td>5.55</td>\n",
       "      <td>43.20</td>\n",
       "      <td>8</td>\n",
       "      <td>2015</td>\n",
       "      <td>6.17</td>\n",
       "    </tr>\n",
       "  </tbody>\n",
       "</table>\n",
       "<p>5 rows × 22 columns</p>\n",
       "</div>"
      ],
      "text/plain": [
       "        Date  Store Number         City  Zip Code  County Number      County  \\\n",
       "0 2015-11-04          3717       SUMNER     50674            9.0      Bremer   \n",
       "1 2016-03-02          2614    DAVENPORT     52807           82.0       Scott   \n",
       "2 2016-02-11          2106  CEDAR FALLS     50613            7.0  Black Hawk   \n",
       "3 2016-02-03          2501         AMES     50010           85.0       Story   \n",
       "4 2015-08-18          3654      BELMOND     50421           99.0      Wright   \n",
       "\n",
       "    Category              Category Name  Vendor Number  Item Number  \\\n",
       "0  1051100.0           APRICOT BRANDIES             55        54436   \n",
       "1  1011100.0           BLENDED WHISKIES            395        27605   \n",
       "2  1011200.0  STRAIGHT BOURBON WHISKIES             65        19067   \n",
       "3  1071100.0         AMERICAN COCKTAILS            395        59154   \n",
       "4  1031080.0             VODKA 80 PROOF            297        35918   \n",
       "\n",
       "        ...        State Bottle Cost  State Bottle Retail  Bottles Sold  \\\n",
       "0       ...                     4.50                 6.75            12   \n",
       "1       ...                    13.75                20.63             2   \n",
       "2       ...                    12.59                18.89            24   \n",
       "3       ...                     9.50                14.25             6   \n",
       "4       ...                     7.20                10.80            12   \n",
       "\n",
       "   Sale (Dollars)  Volume Sold (Liters)  Volume Sold (Gallons)  Profit  Month  \\\n",
       "0           81.00                   9.0                   2.38   27.00     11   \n",
       "1           41.26                   1.5                   0.40   13.76      3   \n",
       "2          453.36                  24.0                   6.34  151.20      2   \n",
       "3           85.50                  10.5                   2.77   28.50      2   \n",
       "4          129.60                  21.0                   5.55   43.20      8   \n",
       "\n",
       "   Year  Price Per Liter  \n",
       "0  2015             9.00  \n",
       "1  2016            27.51  \n",
       "2  2016            18.89  \n",
       "3  2016             8.14  \n",
       "4  2015             6.17  \n",
       "\n",
       "[5 rows x 22 columns]"
      ]
     },
     "execution_count": 7,
     "metadata": {},
     "output_type": "execute_result"
    }
   ],
   "source": [
    "sales.head()"
   ]
  },
  {
   "cell_type": "code",
   "execution_count": 8,
   "metadata": {
    "collapsed": false
   },
   "outputs": [
    {
     "data": {
      "text/plain": [
       "array(['Brandy', 'Whisky', 'Cocktail', 'Vodka', 'Gin', 'Specialties',\n",
       "       'Tequila', 'Liqueur', 'Rum', 'Amaretto', 'Misc.', 'Decanter',\n",
       "       'Mixer'], dtype=object)"
      ]
     },
     "execution_count": 8,
     "metadata": {},
     "output_type": "execute_result"
    }
   ],
   "source": [
    "# Generalizing categories\n",
    "\n",
    "for x in sales['Category Name']:\n",
    "    if 'WHISK' in str(x):\n",
    "        sales['Category Name'].replace(x, 'Whisky', inplace = True)\n",
    "    elif 'BRAND' in str(x):\n",
    "        sales['Category Name'].replace(x, 'Brandy', inplace = True)\n",
    "    elif 'COCKTAIL' in str(x):\n",
    "        sales['Category Name'].replace(x, 'Cocktail', inplace = True)\n",
    "    elif 'VODKA' in str(x):\n",
    "        sales['Category Name'].replace(x, 'Vodka', inplace = True)\n",
    "    elif 'GIN' in str(x):\n",
    "        sales['Category Name'].replace(x, 'Gin', inplace = True)\n",
    "    elif 'SCHNAP' in str(x):\n",
    "        sales['Category Name'].replace(x, 'Brandy', inplace = True)\n",
    "    elif 'LIQUEUR' in str(x):\n",
    "        sales['Category Name'].replace(x, 'Liqueur', inplace = True)\n",
    "    elif 'TRIPLE SEC' in str(x):\n",
    "        sales['Category Name'].replace(x, 'Liqueur', inplace = True)\n",
    "    elif 'ANISETTE' in str(x):\n",
    "        sales['Category Name'].replace(x, 'Liqueur', inplace = True)\n",
    "    elif 'TEQUILA' in str(x):\n",
    "        sales['Category Name'].replace(x, 'Tequila', inplace = True)\n",
    "    elif 'BOURBON' in str(x):\n",
    "        sales['Category Name'].replace(x, 'Whisky', inplace = True)\n",
    "    elif 'SCOTCH' in str(x):\n",
    "        sales['Category Name'].replace(x, 'Whisky', inplace = True)\n",
    "    elif 'RUM' in str(x):\n",
    "        sales['Category Name'].replace(x, 'Rum', inplace = True)\n",
    "    elif 'AMARETTO' in str(x):\n",
    "        sales['Category Name'].replace(x, 'Amaretto', inplace = True)\n",
    "    elif 'ROCK & RYE' in str(x):\n",
    "        sales['Category Name'].replace(x, 'Whisky', inplace = True)\n",
    "    elif 'CREME DE' in str(x):\n",
    "        sales['Category Name'].replace(x, 'Mixer', inplace = True)\n",
    "    elif 'AMERICAN ALCOHOL' in str(x):\n",
    "        sales['Category Name'].replace(x, 'Misc.', inplace = True)\n",
    "    elif 'DECANTER' in str(x):\n",
    "        sales['Category Name'].replace(x, 'Decanter', inplace = True)\n",
    "    elif 'SPECIALTY' in str(x):\n",
    "        sales['Category Name'].replace(x, 'Specialties', inplace = True)\n",
    "\n",
    "sales['Category Name'].unique()"
   ]
  },
  {
   "cell_type": "code",
   "execution_count": 222,
   "metadata": {
    "collapsed": false
   },
   "outputs": [
    {
     "name": "stdout",
     "output_type": "stream",
     "text": [
      "['Amaretto', 'Brandy', 'Cocktail', 'Decanter', 'Gin', 'Liqueur', 'Misc.', 'Mixer', 'Rum', 'Specialties', 'Tequila', 'Vodka', 'Whisky']\n"
     ]
    }
   ],
   "source": [
    "# Creating a new column that holds a number to represent each category.\n",
    "cats = sorted(sales['Category Name'].unique())\n",
    "cats_list = list(enumerate(cats, start = 1))\n",
    "\n",
    "lt = []\n",
    "for cats in sales['Category Name']:\n",
    "    for x in cats_list:\n",
    "        if x[1] == cats:\n",
    "            lt.append(x[0])\n",
    "\n",
    "sales['Category Number'] = lt\n",
    "\n",
    "sales.head()\n",
    "\n",
    "print sorted(sales['Category Name'].unique())"
   ]
  },
  {
   "cell_type": "markdown",
   "metadata": {},
   "source": [
    "# Explore the data\n",
    "\n",
    "Perform some exploratory statistical analysis and make some plots, such as histograms of transaction totals, bottles sold, etc."
   ]
  },
  {
   "cell_type": "code",
   "execution_count": 220,
   "metadata": {
    "collapsed": false
   },
   "outputs": [
    {
     "data": {
      "image/png": "[encoded data removed]",
      "text/plain": [
       "<matplotlib.figure.Figure at 0x7f7495f2c250>"
      ]
     },
     "metadata": {},
     "output_type": "display_data"
    }
   ],
   "source": [
    "# Seeing which liquor makes the most money on average\n",
    "avg_liquor_profit = sales.groupby('Category Name')['Sale (Dollars)'].mean()\n",
    "\n",
    "avg_liquor_profit = pd.DataFrame(avg_liquor_profit).reset_index().sort_values(by = 'Sale (Dollars)', ascending = False)\n",
    "\n",
    "sns.set(rc = {\"figure.figsize\": (12, 6)}, style = 'whitegrid')\n",
    "ax = sns.barplot(x = 'Category Name', y = 'Sale (Dollars)', data = avg_liquor_profit)\n",
    "\n",
    "ax.set(xlabel = 'Types of Liquor', ylabel = 'Average Sales')\n",
    "\n",
    "plt.show()"
   ]
  },
  {
   "cell_type": "markdown",
   "metadata": {},
   "source": [
    "## Record your findings\n",
    "\n",
    "Be sure to write out anything observations from your exploratory analysis."
   ]
  },
  {
   "cell_type": "markdown",
   "metadata": {},
   "source": [
    "- It seems like liquor plays a big part in how much money a store makes so I'm going to try to use each store's most profitable liquor as one of my predictors."
   ]
  },
  {
   "cell_type": "markdown",
   "metadata": {},
   "source": [
    "# Mine the data\n",
    "Now you are ready to compute the variables you will use for your regression from the data. For example, you may want to\n",
    "compute total sales per store from Jan to March of 2015, mean price per bottle, etc. Refer to the readme for more ideas appropriate to your scenario.\n",
    "\n",
    "Pandas is your friend for this task. Take a look at the operations [here](http://pandas.pydata.org/pandas-docs/stable/groupby.html) for ideas on how to make the best use of pandas and feel free to search for blog and Stack Overflow posts to help you group data by certain variables and compute sums, means, etc. You may find it useful to create a new data frame to house this summary data."
   ]
  },
  {
   "cell_type": "code",
   "execution_count": 12,
   "metadata": {
    "collapsed": false
   },
   "outputs": [
    {
     "data": {
      "text/html": [
       "<div>\n",
       "<table border=\"1\" class=\"dataframe\">\n",
       "  <thead>\n",
       "    <tr style=\"text-align: right;\">\n",
       "      <th></th>\n",
       "      <th>Date</th>\n",
       "      <th>Store Number</th>\n",
       "      <th>City</th>\n",
       "      <th>Zip Code</th>\n",
       "      <th>County Number</th>\n",
       "      <th>County</th>\n",
       "      <th>Category</th>\n",
       "      <th>Category Name</th>\n",
       "      <th>Vendor Number</th>\n",
       "      <th>Item Number</th>\n",
       "      <th>...</th>\n",
       "      <th>State Bottle Retail</th>\n",
       "      <th>Bottles Sold</th>\n",
       "      <th>Sale (Dollars)</th>\n",
       "      <th>Volume Sold (Liters)</th>\n",
       "      <th>Volume Sold (Gallons)</th>\n",
       "      <th>Profit</th>\n",
       "      <th>Month</th>\n",
       "      <th>Year</th>\n",
       "      <th>Price Per Liter</th>\n",
       "      <th>Category Number</th>\n",
       "    </tr>\n",
       "  </thead>\n",
       "  <tbody>\n",
       "    <tr>\n",
       "      <th>0</th>\n",
       "      <td>2015-11-04</td>\n",
       "      <td>3717</td>\n",
       "      <td>SUMNER</td>\n",
       "      <td>50674</td>\n",
       "      <td>9.0</td>\n",
       "      <td>Bremer</td>\n",
       "      <td>1051100.0</td>\n",
       "      <td>Brandy</td>\n",
       "      <td>55</td>\n",
       "      <td>54436</td>\n",
       "      <td>...</td>\n",
       "      <td>6.75</td>\n",
       "      <td>12</td>\n",
       "      <td>81.00</td>\n",
       "      <td>9.0</td>\n",
       "      <td>2.38</td>\n",
       "      <td>27.00</td>\n",
       "      <td>11</td>\n",
       "      <td>2015</td>\n",
       "      <td>9.00</td>\n",
       "      <td>2</td>\n",
       "    </tr>\n",
       "    <tr>\n",
       "      <th>1</th>\n",
       "      <td>2016-03-02</td>\n",
       "      <td>2614</td>\n",
       "      <td>DAVENPORT</td>\n",
       "      <td>52807</td>\n",
       "      <td>82.0</td>\n",
       "      <td>Scott</td>\n",
       "      <td>1011100.0</td>\n",
       "      <td>Whisky</td>\n",
       "      <td>395</td>\n",
       "      <td>27605</td>\n",
       "      <td>...</td>\n",
       "      <td>20.63</td>\n",
       "      <td>2</td>\n",
       "      <td>41.26</td>\n",
       "      <td>1.5</td>\n",
       "      <td>0.40</td>\n",
       "      <td>13.76</td>\n",
       "      <td>3</td>\n",
       "      <td>2016</td>\n",
       "      <td>27.51</td>\n",
       "      <td>13</td>\n",
       "    </tr>\n",
       "    <tr>\n",
       "      <th>2</th>\n",
       "      <td>2016-02-11</td>\n",
       "      <td>2106</td>\n",
       "      <td>CEDAR FALLS</td>\n",
       "      <td>50613</td>\n",
       "      <td>7.0</td>\n",
       "      <td>Black Hawk</td>\n",
       "      <td>1011200.0</td>\n",
       "      <td>Whisky</td>\n",
       "      <td>65</td>\n",
       "      <td>19067</td>\n",
       "      <td>...</td>\n",
       "      <td>18.89</td>\n",
       "      <td>24</td>\n",
       "      <td>453.36</td>\n",
       "      <td>24.0</td>\n",
       "      <td>6.34</td>\n",
       "      <td>151.20</td>\n",
       "      <td>2</td>\n",
       "      <td>2016</td>\n",
       "      <td>18.89</td>\n",
       "      <td>13</td>\n",
       "    </tr>\n",
       "    <tr>\n",
       "      <th>3</th>\n",
       "      <td>2016-02-03</td>\n",
       "      <td>2501</td>\n",
       "      <td>AMES</td>\n",
       "      <td>50010</td>\n",
       "      <td>85.0</td>\n",
       "      <td>Story</td>\n",
       "      <td>1071100.0</td>\n",
       "      <td>Cocktail</td>\n",
       "      <td>395</td>\n",
       "      <td>59154</td>\n",
       "      <td>...</td>\n",
       "      <td>14.25</td>\n",
       "      <td>6</td>\n",
       "      <td>85.50</td>\n",
       "      <td>10.5</td>\n",
       "      <td>2.77</td>\n",
       "      <td>28.50</td>\n",
       "      <td>2</td>\n",
       "      <td>2016</td>\n",
       "      <td>8.14</td>\n",
       "      <td>3</td>\n",
       "    </tr>\n",
       "    <tr>\n",
       "      <th>4</th>\n",
       "      <td>2015-08-18</td>\n",
       "      <td>3654</td>\n",
       "      <td>BELMOND</td>\n",
       "      <td>50421</td>\n",
       "      <td>99.0</td>\n",
       "      <td>Wright</td>\n",
       "      <td>1031080.0</td>\n",
       "      <td>Vodka</td>\n",
       "      <td>297</td>\n",
       "      <td>35918</td>\n",
       "      <td>...</td>\n",
       "      <td>10.80</td>\n",
       "      <td>12</td>\n",
       "      <td>129.60</td>\n",
       "      <td>21.0</td>\n",
       "      <td>5.55</td>\n",
       "      <td>43.20</td>\n",
       "      <td>8</td>\n",
       "      <td>2015</td>\n",
       "      <td>6.17</td>\n",
       "      <td>12</td>\n",
       "    </tr>\n",
       "  </tbody>\n",
       "</table>\n",
       "<p>5 rows × 23 columns</p>\n",
       "</div>"
      ],
      "text/plain": [
       "        Date  Store Number         City  Zip Code  County Number      County  \\\n",
       "0 2015-11-04          3717       SUMNER     50674            9.0      Bremer   \n",
       "1 2016-03-02          2614    DAVENPORT     52807           82.0       Scott   \n",
       "2 2016-02-11          2106  CEDAR FALLS     50613            7.0  Black Hawk   \n",
       "3 2016-02-03          2501         AMES     50010           85.0       Story   \n",
       "4 2015-08-18          3654      BELMOND     50421           99.0      Wright   \n",
       "\n",
       "    Category Category Name  Vendor Number  Item Number       ...         \\\n",
       "0  1051100.0        Brandy             55        54436       ...          \n",
       "1  1011100.0        Whisky            395        27605       ...          \n",
       "2  1011200.0        Whisky             65        19067       ...          \n",
       "3  1071100.0      Cocktail            395        59154       ...          \n",
       "4  1031080.0         Vodka            297        35918       ...          \n",
       "\n",
       "  State Bottle Retail  Bottles Sold  Sale (Dollars)  Volume Sold (Liters)  \\\n",
       "0                6.75            12           81.00                   9.0   \n",
       "1               20.63             2           41.26                   1.5   \n",
       "2               18.89            24          453.36                  24.0   \n",
       "3               14.25             6           85.50                  10.5   \n",
       "4               10.80            12          129.60                  21.0   \n",
       "\n",
       "   Volume Sold (Gallons)  Profit  Month  Year  Price Per Liter  \\\n",
       "0                   2.38   27.00     11  2015             9.00   \n",
       "1                   0.40   13.76      3  2016            27.51   \n",
       "2                   6.34  151.20      2  2016            18.89   \n",
       "3                   2.77   28.50      2  2016             8.14   \n",
       "4                   5.55   43.20      8  2015             6.17   \n",
       "\n",
       "   Category Number  \n",
       "0                2  \n",
       "1               13  \n",
       "2               13  \n",
       "3                3  \n",
       "4               12  \n",
       "\n",
       "[5 rows x 23 columns]"
      ]
     },
     "execution_count": 12,
     "metadata": {},
     "output_type": "execute_result"
    }
   ],
   "source": [
    "# Determine which stores were open all of 2015\n",
    "# Find the first and last sales date.\n",
    "mask1 = sales.Year == 2015\n",
    "\n",
    "first_sale_date = sales[mask1].groupby(['Store Number'])['Date'].min()\n",
    "last_sale_date = sales[mask1].groupby(['Store Number'])['Date'].max()\n",
    "# Filter out stores that opened or closed throughout the year\n",
    "\n",
    "first_sale_df = pd.DataFrame(first_sale_date).reset_index()\n",
    "last_sale_df = pd.DataFrame(last_sale_date).reset_index()\n",
    "\n",
    "mask2 = [first_sale_df.Date[i].month == 1 for i in range(len(first_sale_df))]\n",
    "mask3 = [last_sale_df.Date[i].month == 12 for i in range(len(first_sale_df))]\n",
    "\n",
    "jan_stores = first_sale_df[mask2]['Store Number']\n",
    "dec_stores = last_sale_df[mask3]['Store Number']\n",
    "\n",
    "full_year_stores_mask = jan_stores.isin(dec_stores)\n",
    "full_year_stores = jan_stores[full_year_stores_mask]\n",
    "\n",
    "final_mask = sales['Store Number'].isin(full_year_stores)\n",
    "sales_both = sales[final_mask]\n",
    "\n",
    "sales_both.head()"
   ]
  },
  {
   "cell_type": "code",
   "execution_count": 74,
   "metadata": {
    "collapsed": false
   },
   "outputs": [],
   "source": [
    "q1_15_mask = (sales_both.Month <= 3) & (sales_both.Month >= 1) & (sales_both.Year == 2015)\n",
    "q1_16_mask = (sales_both.Month <= 3) & (sales_both.Month >= 1) & (sales_both.Year == 2016)\n",
    "all_15_mask = sales_both.Year == 2015\n",
    "all_16_mask = sales_both.Year == 2016\n",
    "\n",
    "q1_15_stores = sales_both[q1_15_mask]\n",
    "q1_16_stores = sales_both[q1_16_mask]\n",
    "all_15_stores = sales_both[all_15_mask]\n",
    "all_16_stores = sales_both[all_16_mask]"
   ]
  },
  {
   "cell_type": "code",
   "execution_count": 75,
   "metadata": {
    "collapsed": true
   },
   "outputs": [],
   "source": [
    "# Store Number and respective County Numbers\n",
    "counties = sales_both.groupby(['Store Number', 'County Number'])\n",
    "store_cats = counties['Store Number', 'County Number'].head(1).sort_values(by = 'Store Number', ascending = True)"
   ]
  },
  {
   "cell_type": "code",
   "execution_count": 78,
   "metadata": {
    "collapsed": false,
    "scrolled": true
   },
   "outputs": [
    {
     "data": {
      "text/html": [
       "<div>\n",
       "<table border=\"1\" class=\"dataframe\">\n",
       "  <thead>\n",
       "    <tr style=\"text-align: right;\">\n",
       "      <th></th>\n",
       "      <th>Store Number</th>\n",
       "      <th>Category Number</th>\n",
       "    </tr>\n",
       "  </thead>\n",
       "  <tbody>\n",
       "    <tr>\n",
       "      <th>7</th>\n",
       "      <td>2106</td>\n",
       "      <td>9</td>\n",
       "    </tr>\n",
       "    <tr>\n",
       "      <th>17</th>\n",
       "      <td>2113</td>\n",
       "      <td>9</td>\n",
       "    </tr>\n",
       "    <tr>\n",
       "      <th>28</th>\n",
       "      <td>2130</td>\n",
       "      <td>9</td>\n",
       "    </tr>\n",
       "    <tr>\n",
       "      <th>39</th>\n",
       "      <td>2152</td>\n",
       "      <td>9</td>\n",
       "    </tr>\n",
       "    <tr>\n",
       "      <th>48</th>\n",
       "      <td>2178</td>\n",
       "      <td>9</td>\n",
       "    </tr>\n",
       "  </tbody>\n",
       "</table>\n",
       "</div>"
      ],
      "text/plain": [
       "    Store Number  Category Number\n",
       "7           2106                9\n",
       "17          2113                9\n",
       "28          2130                9\n",
       "39          2152                9\n",
       "48          2178                9"
      ]
     },
     "execution_count": 78,
     "metadata": {},
     "output_type": "execute_result"
    }
   ],
   "source": [
    "# Creating a subset with the average profit for each category for 2015\n",
    "avg_profit_cats_15 = all_15_stores.groupby(['Store Number', 'Category Number'])['Profit'].mean()\n",
    "avg_profit_cats_15 = pd.DataFrame(avg_profit_cats_15).reset_index()\n",
    "\n",
    "# Selecting the category with the max average profit for each store for 2015\n",
    "max_cats_15 = avg_profit_cats_15.loc[avg_profit_cats_15.reset_index().groupby(['Store Number'])['Profit'].idxmax()]\n",
    "max_cats_15.drop('Profit', axis = 1, inplace = True)\n",
    "max_cats_15.head()"
   ]
  },
  {
   "cell_type": "code",
   "execution_count": 16,
   "metadata": {
    "collapsed": false
   },
   "outputs": [
    {
     "data": {
      "text/html": [
       "<div>\n",
       "<table border=\"1\" class=\"dataframe\">\n",
       "  <thead>\n",
       "    <tr style=\"text-align: right;\">\n",
       "      <th></th>\n",
       "      <th>Store Number</th>\n",
       "      <th>Category Number</th>\n",
       "    </tr>\n",
       "  </thead>\n",
       "  <tbody>\n",
       "    <tr>\n",
       "      <th>6</th>\n",
       "      <td>2106</td>\n",
       "      <td>9</td>\n",
       "    </tr>\n",
       "    <tr>\n",
       "      <th>17</th>\n",
       "      <td>2113</td>\n",
       "      <td>13</td>\n",
       "    </tr>\n",
       "    <tr>\n",
       "      <th>24</th>\n",
       "      <td>2130</td>\n",
       "      <td>12</td>\n",
       "    </tr>\n",
       "    <tr>\n",
       "      <th>30</th>\n",
       "      <td>2152</td>\n",
       "      <td>13</td>\n",
       "    </tr>\n",
       "    <tr>\n",
       "      <th>36</th>\n",
       "      <td>2178</td>\n",
       "      <td>7</td>\n",
       "    </tr>\n",
       "  </tbody>\n",
       "</table>\n",
       "</div>"
      ],
      "text/plain": [
       "    Store Number  Category Number\n",
       "6           2106                9\n",
       "17          2113               13\n",
       "24          2130               12\n",
       "30          2152               13\n",
       "36          2178                7"
      ]
     },
     "execution_count": 16,
     "metadata": {},
     "output_type": "execute_result"
    }
   ],
   "source": [
    "# Creating a subset with the average profit for each category for 2016\n",
    "avg_profit_cats_16 = all_16_stores.groupby(['Store Number', 'Category Number'])['Profit'].mean()\n",
    "avg_profit_cats_16 = pd.DataFrame(avg_profit_cats_16).reset_index()\n",
    "\n",
    "# Selecting the category with the max average profit for each store for 2016\n",
    "max_cats_16 = avg_profit_cats_16.loc[avg_profit_cats_16.reset_index().groupby(['Store Number'])['Profit'].idxmax()]\n",
    "max_cats_16.drop('Profit', axis = 1, inplace = True)\n",
    "max_cats_16.head()"
   ]
  },
  {
   "cell_type": "code",
   "execution_count": 17,
   "metadata": {
    "collapsed": false
   },
   "outputs": [
    {
     "data": {
      "text/html": [
       "<div>\n",
       "<table border=\"1\" class=\"dataframe\">\n",
       "  <thead>\n",
       "    <tr style=\"text-align: right;\">\n",
       "      <th></th>\n",
       "      <th>Store Number</th>\n",
       "      <th>Price Per Liter</th>\n",
       "    </tr>\n",
       "  </thead>\n",
       "  <tbody>\n",
       "    <tr>\n",
       "      <th>0</th>\n",
       "      <td>2106</td>\n",
       "      <td>17.97</td>\n",
       "    </tr>\n",
       "    <tr>\n",
       "      <th>1</th>\n",
       "      <td>2113</td>\n",
       "      <td>17.48</td>\n",
       "    </tr>\n",
       "    <tr>\n",
       "      <th>2</th>\n",
       "      <td>2130</td>\n",
       "      <td>17.45</td>\n",
       "    </tr>\n",
       "    <tr>\n",
       "      <th>3</th>\n",
       "      <td>2152</td>\n",
       "      <td>12.49</td>\n",
       "    </tr>\n",
       "    <tr>\n",
       "      <th>4</th>\n",
       "      <td>2178</td>\n",
       "      <td>15.10</td>\n",
       "    </tr>\n",
       "  </tbody>\n",
       "</table>\n",
       "</div>"
      ],
      "text/plain": [
       "   Store Number  Price Per Liter\n",
       "0          2106            17.97\n",
       "1          2113            17.48\n",
       "2          2130            17.45\n",
       "3          2152            12.49\n",
       "4          2178            15.10"
      ]
     },
     "execution_count": 17,
     "metadata": {},
     "output_type": "execute_result"
    }
   ],
   "source": [
    "# Creating a subset with the average profit for each price per liter for 2016\n",
    "avg_ppl_16 = all_16_stores.groupby(['Store Number'])['Price Per Liter'].mean()\n",
    "avg_ppl_16 = pd.DataFrame(avg_ppl_16).reset_index()\n",
    "avg_ppl_16['Price Per Liter'] = avg_ppl_16['Price Per Liter'].round(2)\n",
    "\n",
    "avg_ppl_16.head()"
   ]
  },
  {
   "cell_type": "code",
   "execution_count": 18,
   "metadata": {
    "collapsed": false
   },
   "outputs": [
    {
     "data": {
      "text/html": [
       "<div>\n",
       "<table border=\"1\" class=\"dataframe\">\n",
       "  <thead>\n",
       "    <tr style=\"text-align: right;\">\n",
       "      <th></th>\n",
       "      <th>Store Number</th>\n",
       "      <th>Price Per Liter</th>\n",
       "    </tr>\n",
       "  </thead>\n",
       "  <tbody>\n",
       "    <tr>\n",
       "      <th>0</th>\n",
       "      <td>2106</td>\n",
       "      <td>17.85</td>\n",
       "    </tr>\n",
       "    <tr>\n",
       "      <th>1</th>\n",
       "      <td>2113</td>\n",
       "      <td>18.50</td>\n",
       "    </tr>\n",
       "    <tr>\n",
       "      <th>2</th>\n",
       "      <td>2130</td>\n",
       "      <td>16.82</td>\n",
       "    </tr>\n",
       "    <tr>\n",
       "      <th>3</th>\n",
       "      <td>2152</td>\n",
       "      <td>13.02</td>\n",
       "    </tr>\n",
       "    <tr>\n",
       "      <th>4</th>\n",
       "      <td>2178</td>\n",
       "      <td>16.06</td>\n",
       "    </tr>\n",
       "  </tbody>\n",
       "</table>\n",
       "</div>"
      ],
      "text/plain": [
       "   Store Number  Price Per Liter\n",
       "0          2106            17.85\n",
       "1          2113            18.50\n",
       "2          2130            16.82\n",
       "3          2152            13.02\n",
       "4          2178            16.06"
      ]
     },
     "execution_count": 18,
     "metadata": {},
     "output_type": "execute_result"
    }
   ],
   "source": [
    "# Creating a subset with the average profit for each price per liter for 2015\n",
    "avg_ppl_15 = all_15_stores.groupby(['Store Number'])['Price Per Liter'].mean()\n",
    "avg_ppl_15 = pd.DataFrame(avg_ppl_15).reset_index()\n",
    "avg_ppl_15['Price Per Liter'] = avg_ppl_15['Price Per Liter'].round(2)\n",
    "\n",
    "avg_ppl_15.head()"
   ]
  },
  {
   "cell_type": "code",
   "execution_count": 100,
   "metadata": {
    "collapsed": false
   },
   "outputs": [],
   "source": [
    "# Q1 2015 total profits per store\n",
    "q1_15_profits = q1_15_stores.groupby(['Store Number'])['Profit', 'Sale (Dollars)'].sum()\n",
    "q1_15_profits = pd.DataFrame(q1_15_profits).reset_index().sort_values(by = 'Store Number', ascending = True)\n",
    "\n",
    "# Q1 2016 total profits per store\n",
    "q1_16_profits = q1_16_stores.groupby(['Store Number'])['Profit', 'Sale (Dollars)'].sum()\n",
    "q1_16_profits = pd.DataFrame(q1_16_profits).reset_index().sort_values(by = 'Store Number', ascending = True)\n",
    "\n",
    "# All 2015 total profits per store\n",
    "all_15_profits = all_15_stores.groupby(['Store Number'])['Profit', 'Sale (Dollars)'].sum()\n",
    "all_15_profits = pd.DataFrame(all_15_profits).reset_index().sort_values(by = 'Store Number', ascending = True)"
   ]
  },
  {
   "cell_type": "code",
   "execution_count": 101,
   "metadata": {
    "collapsed": false
   },
   "outputs": [
    {
     "data": {
      "text/html": [
       "<div>\n",
       "<table border=\"1\" class=\"dataframe\">\n",
       "  <thead>\n",
       "    <tr style=\"text-align: right;\">\n",
       "      <th></th>\n",
       "      <th>Store Number</th>\n",
       "      <th>Q1 Profit</th>\n",
       "      <th>Q1 Sales</th>\n",
       "      <th>Q2 Profit</th>\n",
       "      <th>Q2 Sales</th>\n",
       "      <th>Q3 Profit</th>\n",
       "      <th>Q3 Sales</th>\n",
       "      <th>Q4 Profit</th>\n",
       "      <th>Q4 Sales</th>\n",
       "      <th>Q1-16 Profit</th>\n",
       "      <th>Q1-16 Sales</th>\n",
       "    </tr>\n",
       "  </thead>\n",
       "  <tbody>\n",
       "    <tr>\n",
       "      <th>0</th>\n",
       "      <td>2106</td>\n",
       "      <td>13108.37</td>\n",
       "      <td>39287.29</td>\n",
       "      <td>10420.43</td>\n",
       "      <td>31173.46</td>\n",
       "      <td>12787.25</td>\n",
       "      <td>38324.77</td>\n",
       "      <td>12426.15</td>\n",
       "      <td>37253.18</td>\n",
       "      <td>10174.68</td>\n",
       "      <td>30478.75</td>\n",
       "    </tr>\n",
       "    <tr>\n",
       "      <th>1</th>\n",
       "      <td>2113</td>\n",
       "      <td>944.72</td>\n",
       "      <td>2833.25</td>\n",
       "      <td>664.99</td>\n",
       "      <td>1994.30</td>\n",
       "      <td>704.77</td>\n",
       "      <td>2113.56</td>\n",
       "      <td>794.56</td>\n",
       "      <td>2369.11</td>\n",
       "      <td>693.49</td>\n",
       "      <td>2065.90</td>\n",
       "    </tr>\n",
       "    <tr>\n",
       "      <th>2</th>\n",
       "      <td>2130</td>\n",
       "      <td>8108.68</td>\n",
       "      <td>24272.57</td>\n",
       "      <td>11689.39</td>\n",
       "      <td>35038.09</td>\n",
       "      <td>8204.60</td>\n",
       "      <td>24605.88</td>\n",
       "      <td>9226.65</td>\n",
       "      <td>27667.37</td>\n",
       "      <td>9288.29</td>\n",
       "      <td>27856.11</td>\n",
       "    </tr>\n",
       "    <tr>\n",
       "      <th>3</th>\n",
       "      <td>2152</td>\n",
       "      <td>668.60</td>\n",
       "      <td>2003.46</td>\n",
       "      <td>470.86</td>\n",
       "      <td>1398.92</td>\n",
       "      <td>752.36</td>\n",
       "      <td>2246.70</td>\n",
       "      <td>695.71</td>\n",
       "      <td>2072.00</td>\n",
       "      <td>304.08</td>\n",
       "      <td>904.66</td>\n",
       "    </tr>\n",
       "    <tr>\n",
       "      <th>4</th>\n",
       "      <td>2178</td>\n",
       "      <td>1961.28</td>\n",
       "      <td>5856.41</td>\n",
       "      <td>2372.80</td>\n",
       "      <td>6986.33</td>\n",
       "      <td>1890.11</td>\n",
       "      <td>5668.15</td>\n",
       "      <td>1941.51</td>\n",
       "      <td>5813.29</td>\n",
       "      <td>1868.76</td>\n",
       "      <td>5588.50</td>\n",
       "    </tr>\n",
       "  </tbody>\n",
       "</table>\n",
       "</div>"
      ],
      "text/plain": [
       "   Store Number  Q1 Profit  Q1 Sales  Q2 Profit  Q2 Sales  Q3 Profit  \\\n",
       "0          2106   13108.37  39287.29   10420.43  31173.46   12787.25   \n",
       "1          2113     944.72   2833.25     664.99   1994.30     704.77   \n",
       "2          2130    8108.68  24272.57   11689.39  35038.09    8204.60   \n",
       "3          2152     668.60   2003.46     470.86   1398.92     752.36   \n",
       "4          2178    1961.28   5856.41    2372.80   6986.33    1890.11   \n",
       "\n",
       "   Q3 Sales  Q4 Profit  Q4 Sales  Q1-16 Profit  Q1-16 Sales  \n",
       "0  38324.77   12426.15  37253.18      10174.68     30478.75  \n",
       "1   2113.56     794.56   2369.11        693.49      2065.90  \n",
       "2  24605.88    9226.65  27667.37       9288.29     27856.11  \n",
       "3   2246.70     695.71   2072.00        304.08       904.66  \n",
       "4   5668.15    1941.51   5813.29       1868.76      5588.50  "
      ]
     },
     "execution_count": 101,
     "metadata": {},
     "output_type": "execute_result"
    }
   ],
   "source": [
    "# Creating dataframes per quarter of 2015 to calculate growth rate and predict 2016\n",
    "\n",
    "# Creating masks for other 3 quarters\n",
    "q2_15_mask = (sales_both.Year == 2015) & (sales_both.Month >= 4) & (sales_both.Month <= 6)\n",
    "q3_15_mask = (sales_both.Year == 2015) & (sales_both.Month >= 7) & (sales_both.Month <= 9)\n",
    "q4_15_mask = (sales_both.Year == 2015) & (sales_both.Month >= 10) & (sales_both.Month <= 12)\n",
    "\n",
    "# Grouping each quarter\n",
    "q2_15_profit = sales_both[q2_15_mask].groupby(['Store Number'])['Profit', 'Sale (Dollars)'].sum()\n",
    "q3_15_profit = sales_both[q3_15_mask].groupby(['Store Number'])['Profit', 'Sale (Dollars)'].sum()\n",
    "q4_15_profit = sales_both[q4_15_mask].groupby(['Store Number'])['Profit', 'Sale (Dollars)'].sum()\n",
    "\n",
    "# Turning groupby df into a df\n",
    "q2_15_profit = pd.DataFrame(q2_15_profit).reset_index()\n",
    "q3_15_profit = pd.DataFrame(q3_15_profit).reset_index()\n",
    "q4_15_profit = pd.DataFrame(q4_15_profit).reset_index()\n",
    "\n",
    "# Renaming column titles before merging dfs\n",
    "q2_15_profit = q2_15_profit.rename(columns = {'Profit':'Q2 Profit','Sale (Dollars)': 'Q2 Sales'})\n",
    "q3_15_profit = q3_15_profit.rename(columns = {'Profit':'Q3 Profit','Sale (Dollars)': 'Q3 Sales'})\n",
    "q4_15_profit = q4_15_profit.rename(columns = {'Profit':'Q4 Profit','Sale (Dollars)': 'Q4 Sales'})\n",
    "\n",
    "# Merging quarterly dataframes\n",
    "quarterly_profit = pd.merge(pd.merge(q2_15_profit, q3_15_profit, on = 'Store Number'),\n",
    "                            q4_15_profit, on = 'Store Number')\n",
    "quarter_preds = pd.merge(pd.merge(q1_15_profits, quarterly_profit, on = 'Store Number'), q1_16_profits, on = 'Store Number')\n",
    "\n",
    "# Renaming q1 since it is called profits\n",
    "quarter_preds = quarter_preds.rename(columns = {'Profit_x': 'Q1 Profit','Sale (Dollars)_x':'Q1 Sales',\n",
    "                                               'Profit_y': 'Q1-16 Profit','Sale (Dollars)_y':'Q1-16 Sales'})\n",
    "\n",
    "quarter_preds.head()"
   ]
  },
  {
   "cell_type": "code",
   "execution_count": 102,
   "metadata": {
    "collapsed": false
   },
   "outputs": [
    {
     "data": {
      "text/html": [
       "<div>\n",
       "<table border=\"1\" class=\"dataframe\">\n",
       "  <thead>\n",
       "    <tr style=\"text-align: right;\">\n",
       "      <th></th>\n",
       "      <th>Store Number</th>\n",
       "      <th>Q1 Profit</th>\n",
       "      <th>Q1 Sales</th>\n",
       "      <th>Q2 Profit</th>\n",
       "      <th>Q2 Sales</th>\n",
       "      <th>Q3 Profit</th>\n",
       "      <th>Q3 Sales</th>\n",
       "      <th>Q4 Profit</th>\n",
       "      <th>Q4 Sales</th>\n",
       "      <th>Q1-16 Profit</th>\n",
       "      <th>Q1-16 Sales</th>\n",
       "      <th>Q2-16 Predicted Profit</th>\n",
       "      <th>Q3-16 Predicted Profit</th>\n",
       "      <th>Q4-16 Predicted Profit</th>\n",
       "      <th>Q2-16 Predicted Sales</th>\n",
       "      <th>Q3-16 Predicted Sales</th>\n",
       "      <th>Q4-16 Predicted Sales</th>\n",
       "    </tr>\n",
       "  </thead>\n",
       "  <tbody>\n",
       "    <tr>\n",
       "      <th>0</th>\n",
       "      <td>2106</td>\n",
       "      <td>13108.37</td>\n",
       "      <td>39287.29</td>\n",
       "      <td>10420.43</td>\n",
       "      <td>31173.46</td>\n",
       "      <td>12787.25</td>\n",
       "      <td>38324.77</td>\n",
       "      <td>12426.15</td>\n",
       "      <td>37253.18</td>\n",
       "      <td>10174.68</td>\n",
       "      <td>30478.75</td>\n",
       "      <td>8088.31</td>\n",
       "      <td>9925.43</td>\n",
       "      <td>9645.14</td>\n",
       "      <td>24184.11</td>\n",
       "      <td>29732.04</td>\n",
       "      <td>28900.70</td>\n",
       "    </tr>\n",
       "    <tr>\n",
       "      <th>1</th>\n",
       "      <td>2113</td>\n",
       "      <td>944.72</td>\n",
       "      <td>2833.25</td>\n",
       "      <td>664.99</td>\n",
       "      <td>1994.30</td>\n",
       "      <td>704.77</td>\n",
       "      <td>2113.56</td>\n",
       "      <td>794.56</td>\n",
       "      <td>2369.11</td>\n",
       "      <td>693.49</td>\n",
       "      <td>2065.90</td>\n",
       "      <td>488.15</td>\n",
       "      <td>517.35</td>\n",
       "      <td>583.26</td>\n",
       "      <td>1454.17</td>\n",
       "      <td>1541.13</td>\n",
       "      <td>1727.47</td>\n",
       "    </tr>\n",
       "    <tr>\n",
       "      <th>2</th>\n",
       "      <td>2130</td>\n",
       "      <td>8108.68</td>\n",
       "      <td>24272.57</td>\n",
       "      <td>11689.39</td>\n",
       "      <td>35038.09</td>\n",
       "      <td>8204.60</td>\n",
       "      <td>24605.88</td>\n",
       "      <td>9226.65</td>\n",
       "      <td>27667.37</td>\n",
       "      <td>9288.29</td>\n",
       "      <td>27856.11</td>\n",
       "      <td>13389.90</td>\n",
       "      <td>9398.16</td>\n",
       "      <td>10568.90</td>\n",
       "      <td>40211.02</td>\n",
       "      <td>28238.63</td>\n",
       "      <td>31752.11</td>\n",
       "    </tr>\n",
       "    <tr>\n",
       "      <th>3</th>\n",
       "      <td>2152</td>\n",
       "      <td>668.60</td>\n",
       "      <td>2003.46</td>\n",
       "      <td>470.86</td>\n",
       "      <td>1398.92</td>\n",
       "      <td>752.36</td>\n",
       "      <td>2246.70</td>\n",
       "      <td>695.71</td>\n",
       "      <td>2072.00</td>\n",
       "      <td>304.08</td>\n",
       "      <td>904.66</td>\n",
       "      <td>214.15</td>\n",
       "      <td>342.17</td>\n",
       "      <td>316.41</td>\n",
       "      <td>631.68</td>\n",
       "      <td>1014.49</td>\n",
       "      <td>935.61</td>\n",
       "    </tr>\n",
       "    <tr>\n",
       "      <th>4</th>\n",
       "      <td>2178</td>\n",
       "      <td>1961.28</td>\n",
       "      <td>5856.41</td>\n",
       "      <td>2372.80</td>\n",
       "      <td>6986.33</td>\n",
       "      <td>1890.11</td>\n",
       "      <td>5668.15</td>\n",
       "      <td>1941.51</td>\n",
       "      <td>5813.29</td>\n",
       "      <td>1868.76</td>\n",
       "      <td>5588.50</td>\n",
       "      <td>2260.87</td>\n",
       "      <td>1800.95</td>\n",
       "      <td>1849.92</td>\n",
       "      <td>6666.73</td>\n",
       "      <td>5408.85</td>\n",
       "      <td>5547.35</td>\n",
       "    </tr>\n",
       "  </tbody>\n",
       "</table>\n",
       "</div>"
      ],
      "text/plain": [
       "   Store Number  Q1 Profit  Q1 Sales  Q2 Profit  Q2 Sales  Q3 Profit  \\\n",
       "0          2106   13108.37  39287.29   10420.43  31173.46   12787.25   \n",
       "1          2113     944.72   2833.25     664.99   1994.30     704.77   \n",
       "2          2130    8108.68  24272.57   11689.39  35038.09    8204.60   \n",
       "3          2152     668.60   2003.46     470.86   1398.92     752.36   \n",
       "4          2178    1961.28   5856.41    2372.80   6986.33    1890.11   \n",
       "\n",
       "   Q3 Sales  Q4 Profit  Q4 Sales  Q1-16 Profit  Q1-16 Sales  \\\n",
       "0  38324.77   12426.15  37253.18      10174.68     30478.75   \n",
       "1   2113.56     794.56   2369.11        693.49      2065.90   \n",
       "2  24605.88    9226.65  27667.37       9288.29     27856.11   \n",
       "3   2246.70     695.71   2072.00        304.08       904.66   \n",
       "4   5668.15    1941.51   5813.29       1868.76      5588.50   \n",
       "\n",
       "   Q2-16 Predicted Profit  Q3-16 Predicted Profit  Q4-16 Predicted Profit  \\\n",
       "0                 8088.31                 9925.43                 9645.14   \n",
       "1                  488.15                  517.35                  583.26   \n",
       "2                13389.90                 9398.16                10568.90   \n",
       "3                  214.15                  342.17                  316.41   \n",
       "4                 2260.87                 1800.95                 1849.92   \n",
       "\n",
       "   Q2-16 Predicted Sales  Q3-16 Predicted Sales  Q4-16 Predicted Sales  \n",
       "0               24184.11               29732.04               28900.70  \n",
       "1                1454.17                1541.13                1727.47  \n",
       "2               40211.02               28238.63               31752.11  \n",
       "3                 631.68                1014.49                 935.61  \n",
       "4                6666.73                5408.85                5547.35  "
      ]
     },
     "execution_count": 102,
     "metadata": {},
     "output_type": "execute_result"
    }
   ],
   "source": [
    "# Growth rate calculator\n",
    "def growth_rate(df, start, end):\n",
    "    return ((df[end] - df[start])/df[start])\n",
    "\n",
    "# Creating new columns for each growth rate by profit\n",
    "quarter_preds['Q2-16 Predicted Profit'] = quarter_preds['Q1-16 Profit'] + (\n",
    "    quarter_preds['Q1-16 Profit']*(growth_rate(quarter_preds, 'Q1 Profit', 'Q2 Profit')))\n",
    "\n",
    "quarter_preds['Q3-16 Predicted Profit'] = quarter_preds['Q2-16 Predicted Profit'] + (\n",
    "    quarter_preds['Q2-16 Predicted Profit']*(growth_rate(quarter_preds, 'Q2 Profit', 'Q3 Profit')))\n",
    "\n",
    "quarter_preds['Q4-16 Predicted Profit'] = quarter_preds['Q3-16 Predicted Profit'] + (\n",
    "    quarter_preds['Q3-16 Predicted Profit']*(growth_rate(quarter_preds, 'Q3 Profit', 'Q4 Profit')))\n",
    "\n",
    "# Creating new columns for each growth rate by sales\n",
    "quarter_preds['Q2-16 Predicted Sales'] = quarter_preds['Q1-16 Sales'] + (\n",
    "    quarter_preds['Q1-16 Sales']*(growth_rate(quarter_preds, 'Q1 Sales', 'Q2 Sales')))\n",
    "\n",
    "quarter_preds['Q3-16 Predicted Sales'] = quarter_preds['Q2-16 Predicted Sales'] + (\n",
    "    quarter_preds['Q2-16 Predicted Sales']*(growth_rate(quarter_preds, 'Q2 Sales', 'Q3 Sales')))\n",
    "\n",
    "quarter_preds['Q4-16 Predicted Sales'] = quarter_preds['Q3-16 Predicted Sales'] + (\n",
    "    quarter_preds['Q3-16 Predicted Sales']*(growth_rate(quarter_preds, 'Q3 Sales', 'Q4 Sales')))\n",
    "\n",
    "quarter_preds = quarter_preds.round(2)\n",
    "\n",
    "quarter_preds.head()"
   ]
  },
  {
   "cell_type": "markdown",
   "metadata": {},
   "source": [
    "# Refine the data\n",
    "Look for any statistical relationships, correlations, or other relevant properties of the dataset."
   ]
  },
  {
   "cell_type": "code",
   "execution_count": 103,
   "metadata": {
    "collapsed": false
   },
   "outputs": [
    {
     "data": {
      "text/html": [
       "<div>\n",
       "<table border=\"1\" class=\"dataframe\">\n",
       "  <thead>\n",
       "    <tr style=\"text-align: right;\">\n",
       "      <th></th>\n",
       "      <th>Store Number</th>\n",
       "      <th>2016 Predicted Profit</th>\n",
       "      <th>2016 Predicted Sales</th>\n",
       "    </tr>\n",
       "  </thead>\n",
       "  <tbody>\n",
       "    <tr>\n",
       "      <th>0</th>\n",
       "      <td>2106</td>\n",
       "      <td>37833.56</td>\n",
       "      <td>113295.60</td>\n",
       "    </tr>\n",
       "    <tr>\n",
       "      <th>1</th>\n",
       "      <td>2113</td>\n",
       "      <td>2282.25</td>\n",
       "      <td>6788.67</td>\n",
       "    </tr>\n",
       "    <tr>\n",
       "      <th>2</th>\n",
       "      <td>2130</td>\n",
       "      <td>42645.25</td>\n",
       "      <td>128057.87</td>\n",
       "    </tr>\n",
       "    <tr>\n",
       "      <th>3</th>\n",
       "      <td>2152</td>\n",
       "      <td>1176.81</td>\n",
       "      <td>3486.44</td>\n",
       "    </tr>\n",
       "    <tr>\n",
       "      <th>4</th>\n",
       "      <td>2178</td>\n",
       "      <td>7780.50</td>\n",
       "      <td>23211.43</td>\n",
       "    </tr>\n",
       "  </tbody>\n",
       "</table>\n",
       "</div>"
      ],
      "text/plain": [
       "   Store Number  2016 Predicted Profit  2016 Predicted Sales\n",
       "0          2106               37833.56             113295.60\n",
       "1          2113                2282.25               6788.67\n",
       "2          2130               42645.25             128057.87\n",
       "3          2152                1176.81               3486.44\n",
       "4          2178                7780.50              23211.43"
      ]
     },
     "execution_count": 103,
     "metadata": {},
     "output_type": "execute_result"
    }
   ],
   "source": [
    "total_preds = quarter_preds.copy()\n",
    "\n",
    "# Creating a sum of the total 2015 sales, 2016 predicted sales, and predicted profits\n",
    "total_preds['2016 Predicted Profit'] = total_preds['Q1-16 Profit'] + total_preds['Q2-16 Predicted Profit'] + total_preds['Q3-16 Predicted Profit'] + total_preds['Q4-16 Predicted Profit']\n",
    "total_preds['2016 Predicted Sales'] = total_preds['Q1-16 Sales'] + total_preds['Q2-16 Predicted Sales'] + total_preds['Q3-16 Predicted Sales'] + total_preds['Q4-16 Predicted Sales']\n",
    "\n",
    "# Dropping the unnecessary columns\n",
    "total_preds.drop(['Q1-16 Profit','Q2-16 Predicted Profit','Q3-16 Predicted Profit','Q4-16 Predicted Profit'], axis = 1, inplace = True)\n",
    "total_preds.drop(['Q1-16 Sales','Q2-16 Predicted Sales','Q3-16 Predicted Sales','Q4-16 Predicted Sales'], axis = 1, inplace = True)\n",
    "total_preds.drop(['Q1 Sales','Q2 Sales','Q3 Sales','Q4 Sales'], axis = 1, inplace = True)\n",
    "total_preds.drop(['Q1 Profit','Q2 Profit','Q3 Profit','Q4 Profit'], axis = 1, inplace = True)\n",
    "\n",
    "total_preds.head()"
   ]
  },
  {
   "cell_type": "code",
   "execution_count": 107,
   "metadata": {
    "collapsed": false
   },
   "outputs": [
    {
     "data": {
      "text/html": [
       "<div>\n",
       "<table border=\"1\" class=\"dataframe\">\n",
       "  <thead>\n",
       "    <tr style=\"text-align: right;\">\n",
       "      <th></th>\n",
       "      <th>Store Number</th>\n",
       "      <th>County Number</th>\n",
       "      <th>2015 Most Profitable Liquor</th>\n",
       "      <th>2016 Most Profitable Liquor</th>\n",
       "      <th>2015 Avg Price Per Liter</th>\n",
       "      <th>2016 Avg Price Per Liter</th>\n",
       "      <th>Q12015 Profit</th>\n",
       "      <th>Q12015 Sales</th>\n",
       "      <th>Q12016 Profit</th>\n",
       "      <th>Q12016 Sales</th>\n",
       "      <th>2015 Profit</th>\n",
       "      <th>2015 Sales</th>\n",
       "      <th>2016 Predicted Profit</th>\n",
       "      <th>2016 Predicted Sales</th>\n",
       "    </tr>\n",
       "  </thead>\n",
       "  <tbody>\n",
       "    <tr>\n",
       "      <th>0</th>\n",
       "      <td>2106</td>\n",
       "      <td>7.0</td>\n",
       "      <td>9</td>\n",
       "      <td>9</td>\n",
       "      <td>17.85</td>\n",
       "      <td>17.97</td>\n",
       "      <td>13108.37</td>\n",
       "      <td>39287.29</td>\n",
       "      <td>10174.68</td>\n",
       "      <td>30478.75</td>\n",
       "      <td>48742.20</td>\n",
       "      <td>146038.70</td>\n",
       "      <td>37833.56</td>\n",
       "      <td>113295.60</td>\n",
       "    </tr>\n",
       "    <tr>\n",
       "      <th>1</th>\n",
       "      <td>2113</td>\n",
       "      <td>94.0</td>\n",
       "      <td>9</td>\n",
       "      <td>13</td>\n",
       "      <td>18.50</td>\n",
       "      <td>17.48</td>\n",
       "      <td>944.72</td>\n",
       "      <td>2833.25</td>\n",
       "      <td>693.49</td>\n",
       "      <td>2065.90</td>\n",
       "      <td>3109.04</td>\n",
       "      <td>9310.22</td>\n",
       "      <td>2282.25</td>\n",
       "      <td>6788.67</td>\n",
       "    </tr>\n",
       "    <tr>\n",
       "      <th>2</th>\n",
       "      <td>2130</td>\n",
       "      <td>7.0</td>\n",
       "      <td>9</td>\n",
       "      <td>12</td>\n",
       "      <td>16.82</td>\n",
       "      <td>17.45</td>\n",
       "      <td>8108.68</td>\n",
       "      <td>24272.57</td>\n",
       "      <td>9288.29</td>\n",
       "      <td>27856.11</td>\n",
       "      <td>37229.32</td>\n",
       "      <td>111583.91</td>\n",
       "      <td>42645.25</td>\n",
       "      <td>128057.87</td>\n",
       "    </tr>\n",
       "    <tr>\n",
       "      <th>3</th>\n",
       "      <td>2152</td>\n",
       "      <td>17.0</td>\n",
       "      <td>9</td>\n",
       "      <td>13</td>\n",
       "      <td>13.02</td>\n",
       "      <td>12.49</td>\n",
       "      <td>668.60</td>\n",
       "      <td>2003.46</td>\n",
       "      <td>304.08</td>\n",
       "      <td>904.66</td>\n",
       "      <td>2587.53</td>\n",
       "      <td>7721.08</td>\n",
       "      <td>1176.81</td>\n",
       "      <td>3486.44</td>\n",
       "    </tr>\n",
       "    <tr>\n",
       "      <th>4</th>\n",
       "      <td>2178</td>\n",
       "      <td>3.0</td>\n",
       "      <td>9</td>\n",
       "      <td>7</td>\n",
       "      <td>16.06</td>\n",
       "      <td>15.10</td>\n",
       "      <td>1961.28</td>\n",
       "      <td>5856.41</td>\n",
       "      <td>1868.76</td>\n",
       "      <td>5588.50</td>\n",
       "      <td>8165.70</td>\n",
       "      <td>24324.18</td>\n",
       "      <td>7780.50</td>\n",
       "      <td>23211.43</td>\n",
       "    </tr>\n",
       "  </tbody>\n",
       "</table>\n",
       "</div>"
      ],
      "text/plain": [
       "   Store Number  County Number  2015 Most Profitable Liquor  \\\n",
       "0          2106            7.0                            9   \n",
       "1          2113           94.0                            9   \n",
       "2          2130            7.0                            9   \n",
       "3          2152           17.0                            9   \n",
       "4          2178            3.0                            9   \n",
       "\n",
       "   2016 Most Profitable Liquor  2015 Avg Price Per Liter  \\\n",
       "0                            9                     17.85   \n",
       "1                           13                     18.50   \n",
       "2                           12                     16.82   \n",
       "3                           13                     13.02   \n",
       "4                            7                     16.06   \n",
       "\n",
       "   2016 Avg Price Per Liter  Q12015 Profit  Q12015 Sales  Q12016 Profit  \\\n",
       "0                     17.97       13108.37      39287.29       10174.68   \n",
       "1                     17.48         944.72       2833.25         693.49   \n",
       "2                     17.45        8108.68      24272.57        9288.29   \n",
       "3                     12.49         668.60       2003.46         304.08   \n",
       "4                     15.10        1961.28       5856.41        1868.76   \n",
       "\n",
       "   Q12016 Sales  2015 Profit  2015 Sales  2016 Predicted Profit  \\\n",
       "0      30478.75     48742.20   146038.70               37833.56   \n",
       "1       2065.90      3109.04     9310.22                2282.25   \n",
       "2      27856.11     37229.32   111583.91               42645.25   \n",
       "3        904.66      2587.53     7721.08                1176.81   \n",
       "4       5588.50      8165.70    24324.18                7780.50   \n",
       "\n",
       "   2016 Predicted Sales  \n",
       "0             113295.60  \n",
       "1               6788.67  \n",
       "2             128057.87  \n",
       "3               3486.44  \n",
       "4              23211.43  "
      ]
     },
     "execution_count": 107,
     "metadata": {},
     "output_type": "execute_result"
    }
   ],
   "source": [
    "# Merging all above subsets into one subset containing all predictor and target variables\n",
    "subset1 = pd.merge(pd.merge(q1_15_profits, q1_16_profits, on = 'Store Number'), all_15_profits, on = 'Store Number')\n",
    "\n",
    "subset2 = pd.merge(pd.merge(avg_ppl_15, avg_ppl_16, on = 'Store Number'), subset1, on = 'Store Number')\n",
    "\n",
    "subset3 = pd.merge(pd.merge(max_cats_15, max_cats_16, on = 'Store Number'), subset2, on = 'Store Number')\n",
    "\n",
    "subset4 = pd.merge(pd.merge(store_cats, subset3, on = 'Store Number'), total_preds, on = 'Store Number')\n",
    "\n",
    "model_df = subset4.rename(columns = {'Profit_x': 'Q12015 Profit', 'Profit_y': 'Q12016 Profit', 'Profit': '2015 Profit',\n",
    "                                   'Category Number_x': '2015 Most Profitable Liquor', \n",
    "                                   'Category Number_y': '2016 Most Profitable Liquor',\n",
    "                                   'Price Per Liter_x': '2015 Avg Price Per Liter',\n",
    "                                   'Price Per Liter_y': '2016 Avg Price Per Liter',\n",
    "                                    'Sale (Dollars)': '2015 Sales', 'Sale (Dollars)_x': 'Q12015 Sales',\n",
    "                                    'Sale (Dollars)_y': 'Q12016 Sales'})\n",
    "\n",
    "model_df.head()"
   ]
  },
  {
   "cell_type": "code",
   "execution_count": 109,
   "metadata": {
    "collapsed": false
   },
   "outputs": [
    {
     "data": {
      "text/html": [
       "<div>\n",
       "<table border=\"1\" class=\"dataframe\">\n",
       "  <thead>\n",
       "    <tr style=\"text-align: right;\">\n",
       "      <th></th>\n",
       "      <th>Store Number</th>\n",
       "      <th>County Number</th>\n",
       "      <th>2015 Most Profitable Liquor</th>\n",
       "      <th>2016 Most Profitable Liquor</th>\n",
       "      <th>2015 Avg Price Per Liter</th>\n",
       "      <th>2016 Avg Price Per Liter</th>\n",
       "      <th>Q12015 Profit</th>\n",
       "      <th>Q12015 Sales</th>\n",
       "      <th>Q12016 Profit</th>\n",
       "      <th>Q12016 Sales</th>\n",
       "      <th>2015 Profit</th>\n",
       "      <th>2015 Sales</th>\n",
       "      <th>2016 Predicted Profit</th>\n",
       "      <th>2016 Predicted Sales</th>\n",
       "    </tr>\n",
       "  </thead>\n",
       "  <tbody>\n",
       "    <tr>\n",
       "      <th>0</th>\n",
       "      <td>2106</td>\n",
       "      <td>7.0</td>\n",
       "      <td>9</td>\n",
       "      <td>9</td>\n",
       "      <td>0.216476</td>\n",
       "      <td>0.175466</td>\n",
       "      <td>2.671994</td>\n",
       "      <td>2.675791</td>\n",
       "      <td>10174.68</td>\n",
       "      <td>30478.75</td>\n",
       "      <td>48742.20</td>\n",
       "      <td>146038.70</td>\n",
       "      <td>37833.56</td>\n",
       "      <td>113295.60</td>\n",
       "    </tr>\n",
       "    <tr>\n",
       "      <th>1</th>\n",
       "      <td>2113</td>\n",
       "      <td>94.0</td>\n",
       "      <td>9</td>\n",
       "      <td>13</td>\n",
       "      <td>0.388927</td>\n",
       "      <td>0.074389</td>\n",
       "      <td>-0.221082</td>\n",
       "      <td>-0.219952</td>\n",
       "      <td>693.49</td>\n",
       "      <td>2065.90</td>\n",
       "      <td>3109.04</td>\n",
       "      <td>9310.22</td>\n",
       "      <td>2282.25</td>\n",
       "      <td>6788.67</td>\n",
       "    </tr>\n",
       "    <tr>\n",
       "      <th>2</th>\n",
       "      <td>2130</td>\n",
       "      <td>7.0</td>\n",
       "      <td>9</td>\n",
       "      <td>12</td>\n",
       "      <td>-0.056793</td>\n",
       "      <td>0.068200</td>\n",
       "      <td>1.482837</td>\n",
       "      <td>1.483090</td>\n",
       "      <td>9288.29</td>\n",
       "      <td>27856.11</td>\n",
       "      <td>37229.32</td>\n",
       "      <td>111583.91</td>\n",
       "      <td>42645.25</td>\n",
       "      <td>128057.87</td>\n",
       "    </tr>\n",
       "    <tr>\n",
       "      <th>3</th>\n",
       "      <td>2152</td>\n",
       "      <td>17.0</td>\n",
       "      <td>9</td>\n",
       "      <td>13</td>\n",
       "      <td>-1.064967</td>\n",
       "      <td>-0.954952</td>\n",
       "      <td>-0.286756</td>\n",
       "      <td>-0.285867</td>\n",
       "      <td>304.08</td>\n",
       "      <td>904.66</td>\n",
       "      <td>2587.53</td>\n",
       "      <td>7721.08</td>\n",
       "      <td>1176.81</td>\n",
       "      <td>3486.44</td>\n",
       "    </tr>\n",
       "    <tr>\n",
       "      <th>4</th>\n",
       "      <td>2178</td>\n",
       "      <td>3.0</td>\n",
       "      <td>9</td>\n",
       "      <td>7</td>\n",
       "      <td>-0.258427</td>\n",
       "      <td>-0.416559</td>\n",
       "      <td>0.020703</td>\n",
       "      <td>0.020194</td>\n",
       "      <td>1868.76</td>\n",
       "      <td>5588.50</td>\n",
       "      <td>8165.70</td>\n",
       "      <td>24324.18</td>\n",
       "      <td>7780.50</td>\n",
       "      <td>23211.43</td>\n",
       "    </tr>\n",
       "  </tbody>\n",
       "</table>\n",
       "</div>"
      ],
      "text/plain": [
       "   Store Number  County Number  2015 Most Profitable Liquor  \\\n",
       "0          2106            7.0                            9   \n",
       "1          2113           94.0                            9   \n",
       "2          2130            7.0                            9   \n",
       "3          2152           17.0                            9   \n",
       "4          2178            3.0                            9   \n",
       "\n",
       "   2016 Most Profitable Liquor  2015 Avg Price Per Liter  \\\n",
       "0                            9                  0.216476   \n",
       "1                           13                  0.388927   \n",
       "2                           12                 -0.056793   \n",
       "3                           13                 -1.064967   \n",
       "4                            7                 -0.258427   \n",
       "\n",
       "   2016 Avg Price Per Liter  Q12015 Profit  Q12015 Sales  Q12016 Profit  \\\n",
       "0                  0.175466       2.671994      2.675791       10174.68   \n",
       "1                  0.074389      -0.221082     -0.219952         693.49   \n",
       "2                  0.068200       1.482837      1.483090        9288.29   \n",
       "3                 -0.954952      -0.286756     -0.285867         304.08   \n",
       "4                 -0.416559       0.020703      0.020194        1868.76   \n",
       "\n",
       "   Q12016 Sales  2015 Profit  2015 Sales  2016 Predicted Profit  \\\n",
       "0      30478.75     48742.20   146038.70               37833.56   \n",
       "1       2065.90      3109.04     9310.22                2282.25   \n",
       "2      27856.11     37229.32   111583.91               42645.25   \n",
       "3        904.66      2587.53     7721.08                1176.81   \n",
       "4       5588.50      8165.70    24324.18                7780.50   \n",
       "\n",
       "   2016 Predicted Sales  \n",
       "0             113295.60  \n",
       "1               6788.67  \n",
       "2             128057.87  \n",
       "3               3486.44  \n",
       "4              23211.43  "
      ]
     },
     "execution_count": 109,
     "metadata": {},
     "output_type": "execute_result"
    }
   ],
   "source": [
    "# Normalizing our above subset\n",
    "model_copy = model_df.copy()\n",
    "\n",
    "cols = [x for x in model_copy.columns if x != '2015 Profit' and x != 'Q12016 Profit' and x != 'County Number' and \n",
    "        x != '2015 Most Profitable Liquor' and x != '2016 Most Profitable Liquor' and x != 'Store Number' and\n",
    "        x != '2016 Predicted Profit' and x != '2016 Predicted Sales' and x != 'Q12016 Sales' and x != '2015 Sales']\n",
    "\n",
    "model_copy.ix[:, cols] = (model_copy.ix[:, cols] - model_copy.ix[:, cols].mean()) / model_copy.ix[:, cols].std()\n",
    "\n",
    "model_copy.head()"
   ]
  },
  {
   "cell_type": "markdown",
   "metadata": {},
   "source": [
    "# Build your models\n",
    "\n",
    "Using scikit-learn or statsmodels, build the necessary models for your scenario. Evaluate model fit."
   ]
  },
  {
   "cell_type": "code",
   "execution_count": 231,
   "metadata": {
    "collapsed": false
   },
   "outputs": [
    {
     "data": {
      "text/plain": [
       "Lasso(alpha=1, copy_X=True, fit_intercept=True, max_iter=1000,\n",
       "   normalize=False, positive=False, precompute=False, random_state=None,\n",
       "   selection='cyclic', tol=0.0001, warm_start=False)"
      ]
     },
     "execution_count": 231,
     "metadata": {},
     "output_type": "execute_result"
    }
   ],
   "source": [
    "# Using lasso to determine which predictors to use\n",
    "preds = ['2015 Avg Price Per Liter']\n",
    "\n",
    "#Can't use categorical values because they don't end up indicating quantitative values. \n",
    "#Can't use a predictor that was used in the calculations of what you're trying to predict\n",
    "\n",
    "x = model_copy[preds]\n",
    "y = model_copy['2015 Sales']\n",
    "\n",
    "lmodel = Lasso(alpha = 1)\n",
    "lmodel.fit(x ,y)"
   ]
  },
  {
   "cell_type": "code",
   "execution_count": 232,
   "metadata": {
    "collapsed": false
   },
   "outputs": [
    {
     "data": {
      "text/plain": [
       "array([ 9870.558958])"
      ]
     },
     "execution_count": 232,
     "metadata": {},
     "output_type": "execute_result"
    }
   ],
   "source": [
    "# When coef is 0 the predictor it matches to above is 'zeroed' out\n",
    "lmodel.coef_"
   ]
  },
  {
   "cell_type": "code",
   "execution_count": 233,
   "metadata": {
    "collapsed": false
   },
   "outputs": [
    {
     "name": "stdout",
     "output_type": "stream",
     "text": [
      "0.0298825351143\n"
     ]
    }
   ],
   "source": [
    "# Our lasso regression model's score\n",
    "print lmodel.score(x, y)"
   ]
  },
  {
   "cell_type": "code",
   "execution_count": 234,
   "metadata": {
    "collapsed": false
   },
   "outputs": [
    {
     "name": "stdout",
     "output_type": "stream",
     "text": [
      "0.0420373442488\n",
      "0.0262876174756\n"
     ]
    }
   ],
   "source": [
    "# Using train-test-split to cross validate whether this model is good.\n",
    "x_train, x_test, y_train, y_test = train_test_split(x, y, test_size = 0.3)\n",
    "lmodel.fit(x_train, y_train)\n",
    "lactual = y_test\n",
    "lpred = lmodel.predict(x_test)\n",
    "print lmodel.score(x_test, y_test)\n",
    "print lmodel.score(x_train, y_train)"
   ]
  },
  {
   "cell_type": "code",
   "execution_count": 245,
   "metadata": {
    "collapsed": false
   },
   "outputs": [
    {
     "data": {
      "text/plain": [
       "LinearRegression(copy_X=True, fit_intercept=True, n_jobs=1, normalize=False)"
      ]
     },
     "execution_count": 245,
     "metadata": {},
     "output_type": "execute_result"
    }
   ],
   "source": [
    "# Making our linear regression model for 2015 data\n",
    "lrmodel = LinearRegression()\n",
    "lrmodel.fit(x, y)"
   ]
  },
  {
   "cell_type": "code",
   "execution_count": 246,
   "metadata": {
    "collapsed": false
   },
   "outputs": [
    {
     "data": {
      "text/plain": [
       "0.02988253542150654"
      ]
     },
     "execution_count": 246,
     "metadata": {},
     "output_type": "execute_result"
    }
   ],
   "source": [
    "# Our linear regression model's score\n",
    "lrmodel.score(x, y)"
   ]
  },
  {
   "cell_type": "code",
   "execution_count": 247,
   "metadata": {
    "collapsed": false
   },
   "outputs": [
    {
     "name": "stdout",
     "output_type": "stream",
     "text": [
      "0.0420389395293\n",
      "0.0262876176983\n"
     ]
    }
   ],
   "source": [
    "# Fitting our 2015 model\n",
    "lrmodel.fit(x_train, y_train)\n",
    "lractual = y_test\n",
    "lrpred = lrmodel.predict(x_test)\n",
    "print lrmodel.score(x_test, y_test)\n",
    "print lrmodel.score(x_train, y_train)"
   ]
  },
  {
   "cell_type": "code",
   "execution_count": 248,
   "metadata": {
    "collapsed": false
   },
   "outputs": [
    {
     "data": {
      "text/plain": [
       "Lasso(alpha=1, copy_X=True, fit_intercept=True, max_iter=1000,\n",
       "   normalize=False, positive=False, precompute=False, random_state=None,\n",
       "   selection='cyclic', tol=0.0001, warm_start=False)"
      ]
     },
     "execution_count": 248,
     "metadata": {},
     "output_type": "execute_result"
    }
   ],
   "source": [
    "# Using our predictors from 2015 to predict 2016 sales\n",
    "preds16 = ['Q12015 Sales', '2015 Avg Price Per Liter']\n",
    "\n",
    "x16 = model_copy[preds16]\n",
    "y16 = model_copy['Q12016 Sales']\n",
    "\n",
    "# Creating our lasso model and fitting it to our 2015 data\n",
    "lmodel16 = Lasso(alpha = 1)\n",
    "lmodel16.fit(x16, y16)"
   ]
  },
  {
   "cell_type": "code",
   "execution_count": 249,
   "metadata": {
    "collapsed": false
   },
   "outputs": [
    {
     "data": {
      "text/plain": [
       "array([ 12092.64234966,    -35.23066447])"
      ]
     },
     "execution_count": 249,
     "metadata": {},
     "output_type": "execute_result"
    }
   ],
   "source": [
    "lmodel16.coef_"
   ]
  },
  {
   "cell_type": "code",
   "execution_count": 250,
   "metadata": {
    "collapsed": false
   },
   "outputs": [
    {
     "data": {
      "text/plain": [
       "0.90257479345863401"
      ]
     },
     "execution_count": 250,
     "metadata": {},
     "output_type": "execute_result"
    }
   ],
   "source": [
    "lmodel16.score(x16, y16)"
   ]
  },
  {
   "cell_type": "code",
   "execution_count": 251,
   "metadata": {
    "collapsed": false
   },
   "outputs": [
    {
     "name": "stdout",
     "output_type": "stream",
     "text": [
      "0.886931507865\n",
      "0.910385611095\n"
     ]
    }
   ],
   "source": [
    "# Using train-test-split to cross validate whether this model is good.\n",
    "x16_train, x16_test, y16_train, y16_test = train_test_split(x16, y16, test_size = 0.3)\n",
    "lmodel16.fit(x16_train, y16_train)\n",
    "lactual16 = y16_test\n",
    "lpred16 = lmodel16.predict(x16_test)\n",
    "print lmodel16.score(x16_test, y16_test)\n",
    "print lmodel16.score(x16_train, y16_train)"
   ]
  },
  {
   "cell_type": "code",
   "execution_count": 252,
   "metadata": {
    "collapsed": false
   },
   "outputs": [
    {
     "data": {
      "text/plain": [
       "LinearRegression(copy_X=True, fit_intercept=True, n_jobs=1, normalize=False)"
      ]
     },
     "execution_count": 252,
     "metadata": {},
     "output_type": "execute_result"
    }
   ],
   "source": [
    "# Making our linear regression model for 2016 data and fitting it\n",
    "lrmodel16 = LinearRegression()\n",
    "lrmodel16.fit(x16, y16)"
   ]
  },
  {
   "cell_type": "code",
   "execution_count": 253,
   "metadata": {
    "collapsed": false
   },
   "outputs": [
    {
     "data": {
      "text/plain": [
       "0.90257480838085902"
      ]
     },
     "execution_count": 253,
     "metadata": {},
     "output_type": "execute_result"
    }
   ],
   "source": [
    "lrmodel16.score(x16, y16)"
   ]
  },
  {
   "cell_type": "code",
   "execution_count": 254,
   "metadata": {
    "collapsed": false
   },
   "outputs": [
    {
     "name": "stdout",
     "output_type": "stream",
     "text": [
      "0.886911743334\n",
      "0.910385629199\n"
     ]
    }
   ],
   "source": [
    "# Cross validating our 2016 linear regression model\n",
    "lrmodel16.fit(x16_train, y16_train)\n",
    "lractual16 = y16_test\n",
    "lrpred16 = lrmodel16.predict(x16_test)\n",
    "print lrmodel16.score(x16_test, y16_test)\n",
    "print lrmodel16.score(x16_train, y16_train)"
   ]
  },
  {
   "cell_type": "code",
   "execution_count": 255,
   "metadata": {
    "collapsed": false
   },
   "outputs": [
    {
     "data": {
      "text/html": [
       "<div>\n",
       "<table border=\"1\" class=\"dataframe\">\n",
       "  <thead>\n",
       "    <tr style=\"text-align: right;\">\n",
       "      <th></th>\n",
       "      <th>Q12015 Sales</th>\n",
       "      <th>2015 Avg Price Per Liter</th>\n",
       "      <th>Target</th>\n",
       "      <th>Prediction</th>\n",
       "    </tr>\n",
       "  </thead>\n",
       "  <tbody>\n",
       "    <tr>\n",
       "      <th>116</th>\n",
       "      <td>-0.150495</td>\n",
       "      <td>-0.871291</td>\n",
       "      <td>3230.97</td>\n",
       "      <td>3707.278647</td>\n",
       "    </tr>\n",
       "    <tr>\n",
       "      <th>48</th>\n",
       "      <td>0.670956</td>\n",
       "      <td>0.187292</td>\n",
       "      <td>13941.81</td>\n",
       "      <td>14010.660882</td>\n",
       "    </tr>\n",
       "    <tr>\n",
       "      <th>290</th>\n",
       "      <td>4.038611</td>\n",
       "      <td>2.872219</td>\n",
       "      <td>63118.98</td>\n",
       "      <td>56316.681746</td>\n",
       "    </tr>\n",
       "    <tr>\n",
       "      <th>576</th>\n",
       "      <td>-0.358039</td>\n",
       "      <td>0.638317</td>\n",
       "      <td>1379.87</td>\n",
       "      <td>1033.348455</td>\n",
       "    </tr>\n",
       "    <tr>\n",
       "      <th>385</th>\n",
       "      <td>-0.347599</td>\n",
       "      <td>-0.393735</td>\n",
       "      <td>2074.39</td>\n",
       "      <td>1205.908591</td>\n",
       "    </tr>\n",
       "  </tbody>\n",
       "</table>\n",
       "</div>"
      ],
      "text/plain": [
       "     Q12015 Sales  2015 Avg Price Per Liter    Target    Prediction\n",
       "116     -0.150495                 -0.871291   3230.97   3707.278647\n",
       "48       0.670956                  0.187292  13941.81  14010.660882\n",
       "290      4.038611                  2.872219  63118.98  56316.681746\n",
       "576     -0.358039                  0.638317   1379.87   1033.348455\n",
       "385     -0.347599                 -0.393735   2074.39   1205.908591"
      ]
     },
     "execution_count": 255,
     "metadata": {},
     "output_type": "execute_result"
    }
   ],
   "source": [
    "summary_df = pd.DataFrame(x16_test)\n",
    "summary_df['Target'] = y16_test\n",
    "summary_df['Prediction'] = lrpred16\n",
    "\n",
    "summary_df.head()"
   ]
  },
  {
   "cell_type": "markdown",
   "metadata": {},
   "source": [
    "## Plot your results\n",
    "\n",
    "Again make sure that you record any valuable information. For example, in the tax scenario, did you find the sales from the first three months of the year to be a good predictor of the total sales for the year? Plot the predictions versus the true values and discuss the successes and limitations of your models"
   ]
  },
  {
   "cell_type": "code",
   "execution_count": 256,
   "metadata": {
    "collapsed": false
   },
   "outputs": [
    {
     "data": {
      "image/png": "[encoded data removed]",
      "text/plain": [
       "<matplotlib.figure.Figure at 0x7f74949ef650>"
      ]
     },
     "metadata": {},
     "output_type": "display_data"
    }
   ],
   "source": [
    "# Plotting 2015 model for our linear regression\n",
    "sns.set(rc = {\"figure.figsize\": (10, 6)}, style = 'whitegrid')\n",
    "ax = sns.regplot(x = lrpred, y = lractual)\n",
    "\n",
    "ax.set(xlabel = 'Predictions', ylabel = 'Actual Results')\n",
    "\n",
    "plt.show()"
   ]
  },
  {
   "cell_type": "code",
   "execution_count": 257,
   "metadata": {
    "collapsed": false
   },
   "outputs": [
    {
     "data": {
      "image/png": "[encoded data removed]",
      "text/plain": [
       "<matplotlib.figure.Figure at 0x7f749498fd50>"
      ]
     },
     "metadata": {},
     "output_type": "display_data"
    }
   ],
   "source": [
    "# Plotting the residuals for our linear regression\n",
    "sns.set(rc = {\"figure.figsize\": (10, 6)}, style = 'whitegrid')\n",
    "ax = sns.residplot(x = lrpred, y = lractual)\n",
    "\n",
    "ax.set(xlabel = 'Predictions', ylabel = 'Actual Results')\n",
    "\n",
    "plt.show()"
   ]
  },
  {
   "cell_type": "markdown",
   "metadata": {},
   "source": [
    "# Present the Results\n",
    "\n",
    "Present your conclusions and results. If you have more than one interesting model feel free to include more than one along with a discussion. Use your work in this notebook to prepare your write-up."
   ]
  },
  {
   "cell_type": "code",
   "execution_count": null,
   "metadata": {
    "collapsed": true
   },
   "outputs": [],
   "source": []
  }
 ],
 "metadata": {
  "kernelspec": {
   "display_name": "Python 2",
   "language": "python",
   "name": "python2"
  },
  "language_info": {
   "codemirror_mode": {
    "name": "ipython",
    "version": 2
   },
   "file_extension": ".py",
   "mimetype": "text/x-python",
   "name": "python",
   "nbconvert_exporter": "python",
   "pygments_lexer": "ipython2",
   "version": "2.7.11"
  }
 },
 "nbformat": 4,
 "nbformat_minor": 0
}
