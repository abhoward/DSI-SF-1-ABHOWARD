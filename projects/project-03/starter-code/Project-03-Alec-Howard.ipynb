{
 "cells": [
  {
   "cell_type": "code",
   "execution_count": null,
   "metadata": {
    "collapsed": true
   },
   "outputs": [],
   "source": [
    "import numpy as np\n",
    "import pandas as pd\n",
    "import seaborn as sns\n",
    "import matplotlib.pyplot as plt\n",
    "%matplotlib inline\n",
    "\n",
    "## Load the data into a DataFrame\n",
    "sales = pd.read_csv('../assets/datasets/Iowa_Liquor_sales_sample_10pct.csv')\n",
    "\n",
    "# Converting dates\n",
    "sales['Date'] =  pd.to_datetime(sales['Date'], format = '%m/%d/%Y')\n",
    "\n",
    "# Removing redundant columns\n",
    "sales.drop('Volume Sold (Gallons)', axis = 1, inplace = True)\n",
    "\n",
    "# Removing $ and convert to float\n",
    "sales['State Bottle Cost'].replace('\\$', '', regex = True, inplace = True)\n",
    "sales['State Bottle Cost'] = sales['State Bottle Cost'].astype(float, copy = True)\n",
    "\n",
    "sales['State Bottle Retail'].replace('\\$', '', regex = True, inplace = True)\n",
    "sales['State Bottle Retail'] = sales['State Bottle Retail'].astype(float, copy = True)\n",
    "\n",
    "sales['Sale (Dollars)'].replace('\\$', '', regex = True, inplace = True)\n",
    "sales['Sale (Dollars)'] = sales['Sale (Dollars)'].astype(float, copy = True)\n",
    "\n",
    "# Creating a profit column\n",
    "sales['Profit'] = (sales['State Bottle Retail'] - sales['State Bottle Cost']) * sales['Bottles Sold']\n",
    "\n",
    "# Dropping NaN values\n",
    "# sales.dropna(axis = 0, how = 'any')\n",
    "\n",
    "# Converting integers\n",
    "# sales['Category'] = sales['Category'].astype(int, copy = True)"
   ]
  },
  {
   "cell_type": "markdown",
   "metadata": {},
   "source": [
    "## Exploring the Data"
   ]
  },
  {
   "cell_type": "code",
   "execution_count": null,
   "metadata": {
    "collapsed": true
   },
   "outputs": [],
   "source": [
    "sales.dtypes"
   ]
  },
  {
   "cell_type": "code",
   "execution_count": null,
   "metadata": {
    "collapsed": true
   },
   "outputs": [],
   "source": [
    "sales.head()"
   ]
  }
 ],
 "metadata": {
  "kernelspec": {
   "display_name": "Python 2",
   "language": "python",
   "name": "python2"
  },
  "language_info": {
   "codemirror_mode": {
    "name": "ipython",
    "version": 2
   },
   "file_extension": ".py",
   "mimetype": "text/x-python",
   "name": "python",
   "nbconvert_exporter": "python",
   "pygments_lexer": "ipython2",
   "version": "2.7.11"
  }
 },
 "nbformat": 4,
 "nbformat_minor": 0
}
