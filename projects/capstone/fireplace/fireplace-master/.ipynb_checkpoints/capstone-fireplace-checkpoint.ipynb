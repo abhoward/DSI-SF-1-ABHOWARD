{
 "cells": [
  {
   "cell_type": "code",
   "execution_count": 1,
   "metadata": {
    "collapsed": false
   },
   "outputs": [],
   "source": [
    "import pandas as pd\n",
    "import numpy as np\n",
    "import seaborn as sns\n",
    "import ast\n",
    "from sqlalchemy import create_engine\n",
    "%matplotlib inline"
   ]
  },
  {
   "cell_type": "code",
   "execution_count": 2,
   "metadata": {
    "collapsed": false
   },
   "outputs": [],
   "source": [
    "engine = create_engine('sqlite:///hs_sims1.db')\n",
    "\n",
    "df = pd.read_sql('SELECT * FROM EVENTS', con = engine)"
   ]
  },
  {
   "cell_type": "code",
   "execution_count": 3,
   "metadata": {
    "collapsed": false
   },
   "outputs": [],
   "source": [
    "del df['index']"
   ]
  },
  {
   "cell_type": "code",
   "execution_count": 4,
   "metadata": {
    "collapsed": false
   },
   "outputs": [
    {
     "data": {
      "text/plain": [
       "event_key      object\n",
       "event_value    object\n",
       "game_id         int64\n",
       "player         object\n",
       "timestamp      object\n",
       "dtype: object"
      ]
     },
     "execution_count": 4,
     "metadata": {},
     "output_type": "execute_result"
    }
   ],
   "source": [
    "df.dtypes"
   ]
  },
  {
   "cell_type": "code",
   "execution_count": 5,
   "metadata": {
    "collapsed": false
   },
   "outputs": [
    {
     "data": {
      "text/html": [
       "<div>\n",
       "<table border=\"1\" class=\"dataframe\">\n",
       "  <thead>\n",
       "    <tr style=\"text-align: right;\">\n",
       "      <th></th>\n",
       "      <th>event_key</th>\n",
       "      <th>event_value</th>\n",
       "      <th>game_id</th>\n",
       "      <th>player</th>\n",
       "      <th>timestamp</th>\n",
       "    </tr>\n",
       "  </thead>\n",
       "  <tbody>\n",
       "    <tr>\n",
       "      <th>0</th>\n",
       "      <td>deck</td>\n",
       "      <td>['FP1_027', 'EX1_509', 'NEW1_029', 'OG_134', '...</td>\n",
       "      <td>1</td>\n",
       "      <td>player1</td>\n",
       "      <td>2016-06-08 18:47:53:334438</td>\n",
       "    </tr>\n",
       "    <tr>\n",
       "      <th>1</th>\n",
       "      <td>deck</td>\n",
       "      <td>['GVG_081', 'AT_106', 'OG_090', 'AT_070', 'EX1...</td>\n",
       "      <td>1</td>\n",
       "      <td>player1</td>\n",
       "      <td>2016-06-08 18:47:53:370128</td>\n",
       "    </tr>\n",
       "    <tr>\n",
       "      <th>2</th>\n",
       "      <td>deck</td>\n",
       "      <td>['FP1_015', 'OG_133', 'EX1_572', 'EX1_558', 'N...</td>\n",
       "      <td>1</td>\n",
       "      <td>player1</td>\n",
       "      <td>2016-06-08 18:47:53:374504</td>\n",
       "    </tr>\n",
       "    <tr>\n",
       "      <th>3</th>\n",
       "      <td>deck</td>\n",
       "      <td>['CS2_226', 'NEW1_019', 'CS2_186', 'BRM_033', ...</td>\n",
       "      <td>1</td>\n",
       "      <td>player1</td>\n",
       "      <td>2016-06-08 18:47:53:381442</td>\n",
       "    </tr>\n",
       "    <tr>\n",
       "      <th>4</th>\n",
       "      <td>deck</td>\n",
       "      <td>['EX1_556', 'EX1_170', 'EX1_011', 'OG_254', 'E...</td>\n",
       "      <td>1</td>\n",
       "      <td>player1</td>\n",
       "      <td>2016-06-08 18:47:53:411713</td>\n",
       "    </tr>\n",
       "  </tbody>\n",
       "</table>\n",
       "</div>"
      ],
      "text/plain": [
       "  event_key                                        event_value  game_id  \\\n",
       "0      deck  ['FP1_027', 'EX1_509', 'NEW1_029', 'OG_134', '...        1   \n",
       "1      deck  ['GVG_081', 'AT_106', 'OG_090', 'AT_070', 'EX1...        1   \n",
       "2      deck  ['FP1_015', 'OG_133', 'EX1_572', 'EX1_558', 'N...        1   \n",
       "3      deck  ['CS2_226', 'NEW1_019', 'CS2_186', 'BRM_033', ...        1   \n",
       "4      deck  ['EX1_556', 'EX1_170', 'EX1_011', 'OG_254', 'E...        1   \n",
       "\n",
       "    player                   timestamp  \n",
       "0  player1  2016-06-08 18:47:53:334438  \n",
       "1  player1  2016-06-08 18:47:53:370128  \n",
       "2  player1  2016-06-08 18:47:53:374504  \n",
       "3  player1  2016-06-08 18:47:53:381442  \n",
       "4  player1  2016-06-08 18:47:53:411713  "
      ]
     },
     "execution_count": 5,
     "metadata": {},
     "output_type": "execute_result"
    }
   ],
   "source": [
    "df.head()"
   ]
  },
  {
   "cell_type": "code",
   "execution_count": 7,
   "metadata": {
    "collapsed": false,
    "scrolled": true
   },
   "outputs": [],
   "source": [
    "# converting unicode values to strings\n",
    "df.event_value = df.event_value.astype(str)\n",
    "df.replace(to_replace = ['<', '>'], value = '', regex = True, inplace = True)\n",
    "\n",
    "#, '\\(', '\\)', 'Minion ', 'Spell ', 'Weapon ', 'Secret '], "
   ]
  },
  {
   "cell_type": "code",
   "execution_count": 8,
   "metadata": {
    "collapsed": false
   },
   "outputs": [
    {
     "name": "stderr",
     "output_type": "stream",
     "text": [
      "C:\\Anaconda2\\lib\\site-packages\\ipykernel\\__main__.py:4: SettingWithCopyWarning: \n",
      "A value is trying to be set on a copy of a slice from a DataFrame\n",
      "\n",
      "See the caveats in the documentation: http://pandas.pydata.org/pandas-docs/stable/indexing.html#indexing-view-versus-copy\n"
     ]
    }
   ],
   "source": [
    "# converting strings to lists\n",
    "for i in range(len(df.event_key)):\n",
    "    if df.event_key[i] in ['deck', 'cards_mulliganed', 'cards_kept']:\n",
    "        df.event_value[i] = ast.literal_eval(df.event_value[i])"
   ]
  },
  {
   "cell_type": "code",
   "execution_count": 8,
   "metadata": {
    "collapsed": false,
    "scrolled": true
   },
   "outputs": [
    {
     "data": {
      "text/plain": [
       "(190291, 5)"
      ]
     },
     "execution_count": 8,
     "metadata": {},
     "output_type": "execute_result"
    }
   ],
   "source": [
    "df.shape"
   ]
  },
  {
   "cell_type": "code",
   "execution_count": 9,
   "metadata": {
    "collapsed": true
   },
   "outputs": [],
   "source": [
    "def expand_decks(df):\n",
    "    ndf = pd.concat([df]*len(df.event_value.values[0]), ignore_index=True)\n",
    "    ndf['event_value'] = df.event_value.values[0]\n",
    "    ndf['event_iter'] = range(ndf.shape[0])\n",
    "    return ndf"
   ]
  },
  {
   "cell_type": "code",
   "execution_count": 10,
   "metadata": {
    "collapsed": false
   },
   "outputs": [
    {
     "data": {
      "text/plain": [
       "array([u'deck', u'deck_cost', u'num_minions', u'num_spells',\n",
       "       u'num_weapons', u'player1_class', u'player2_class', u'first_player',\n",
       "       u'cards_mulliganed', u'cards_kept', u'turn_begins', u'max_mana',\n",
       "       u'avg_hand_cost', u'mana_used', u'turn_end', u'hero_health',\n",
       "       u'hero_power', u'lost', u'overdraw'], dtype=object)"
      ]
     },
     "execution_count": 10,
     "metadata": {},
     "output_type": "execute_result"
    }
   ],
   "source": [
    "df.event_key.unique()"
   ]
  },
  {
   "cell_type": "code",
   "execution_count": 17,
   "metadata": {
    "collapsed": true
   },
   "outputs": [],
   "source": [
    "decks_times = df.loc[df.event_key.isin(['deck','cards_mulliganed','cards_kept'])]"
   ]
  },
  {
   "cell_type": "code",
   "execution_count": 21,
   "metadata": {
    "collapsed": false,
    "scrolled": true
   },
   "outputs": [
    {
     "data": {
      "text/html": [
       "<div>\n",
       "<table border=\"1\" class=\"dataframe\">\n",
       "  <thead>\n",
       "    <tr style=\"text-align: right;\">\n",
       "      <th></th>\n",
       "      <th>event_key</th>\n",
       "      <th>event_value</th>\n",
       "      <th>game_id</th>\n",
       "      <th>player</th>\n",
       "      <th>timestamp</th>\n",
       "    </tr>\n",
       "  </thead>\n",
       "  <tbody>\n",
       "    <tr>\n",
       "      <th>0</th>\n",
       "      <td>deck</td>\n",
       "      <td>[FP1_027, EX1_509, NEW1_029, OG_134, GVG_071, ...</td>\n",
       "      <td>1</td>\n",
       "      <td>player1</td>\n",
       "      <td>2016-06-08 18:47:53:334438</td>\n",
       "    </tr>\n",
       "    <tr>\n",
       "      <th>1</th>\n",
       "      <td>deck</td>\n",
       "      <td>[GVG_081, AT_106, OG_090, AT_070, EX1_007, CS2...</td>\n",
       "      <td>1</td>\n",
       "      <td>player1</td>\n",
       "      <td>2016-06-08 18:47:53:370128</td>\n",
       "    </tr>\n",
       "    <tr>\n",
       "      <th>2</th>\n",
       "      <td>deck</td>\n",
       "      <td>[FP1_015, OG_133, EX1_572, EX1_558, NEW1_041, ...</td>\n",
       "      <td>1</td>\n",
       "      <td>player1</td>\n",
       "      <td>2016-06-08 18:47:53:374504</td>\n",
       "    </tr>\n",
       "    <tr>\n",
       "      <th>3</th>\n",
       "      <td>deck</td>\n",
       "      <td>[CS2_226, NEW1_019, CS2_186, BRM_033, FP1_030,...</td>\n",
       "      <td>1</td>\n",
       "      <td>player1</td>\n",
       "      <td>2016-06-08 18:47:53:381442</td>\n",
       "    </tr>\n",
       "    <tr>\n",
       "      <th>4</th>\n",
       "      <td>deck</td>\n",
       "      <td>[EX1_556, EX1_170, EX1_011, OG_254, EX1_044, G...</td>\n",
       "      <td>1</td>\n",
       "      <td>player1</td>\n",
       "      <td>2016-06-08 18:47:53:411713</td>\n",
       "    </tr>\n",
       "    <tr>\n",
       "      <th>5</th>\n",
       "      <td>deck</td>\n",
       "      <td>[EX1_009, OG_122, EX1_050, EX1_062, OG_321, GV...</td>\n",
       "      <td>1</td>\n",
       "      <td>player1</td>\n",
       "      <td>2016-06-08 18:47:53:405278</td>\n",
       "    </tr>\n",
       "    <tr>\n",
       "      <th>6</th>\n",
       "      <td>deck</td>\n",
       "      <td>[AT_101, EX1_341, EX1_284, EX1_085, LOE_111, G...</td>\n",
       "      <td>1</td>\n",
       "      <td>player1</td>\n",
       "      <td>2016-06-08 18:47:53:388548</td>\n",
       "    </tr>\n",
       "    <tr>\n",
       "      <th>13</th>\n",
       "      <td>deck</td>\n",
       "      <td>[AT_113, OG_174, CS1_069, GVG_095, EX1_045, AT...</td>\n",
       "      <td>1</td>\n",
       "      <td>player1</td>\n",
       "      <td>2016-06-08 18:47:53:392971</td>\n",
       "    </tr>\n",
       "    <tr>\n",
       "      <th>36</th>\n",
       "      <td>deck</td>\n",
       "      <td>[OG_303, AT_092, CS2_120, EX1_067, BRM_033, OG...</td>\n",
       "      <td>1</td>\n",
       "      <td>player2</td>\n",
       "      <td>2016-06-08 18:47:53:868333</td>\n",
       "    </tr>\n",
       "    <tr>\n",
       "      <th>37</th>\n",
       "      <td>deck</td>\n",
       "      <td>[LOE_107, LOE_110, CS2_181, GVG_064, LOE_038, ...</td>\n",
       "      <td>1</td>\n",
       "      <td>player2</td>\n",
       "      <td>2016-06-08 18:47:53:890836</td>\n",
       "    </tr>\n",
       "    <tr>\n",
       "      <th>39</th>\n",
       "      <td>deck</td>\n",
       "      <td>[EX1_011, CS2_121, CS2_121, EX1_019, EX1_019, ...</td>\n",
       "      <td>1</td>\n",
       "      <td>player2</td>\n",
       "      <td>2016-06-08 18:47:53:914743</td>\n",
       "    </tr>\n",
       "    <tr>\n",
       "      <th>40</th>\n",
       "      <td>deck</td>\n",
       "      <td>[GVG_006, AT_101, BRM_022, EX1_274, FP1_008, N...</td>\n",
       "      <td>1</td>\n",
       "      <td>player2</td>\n",
       "      <td>2016-06-08 18:47:53:811674</td>\n",
       "    </tr>\n",
       "    <tr>\n",
       "      <th>44</th>\n",
       "      <td>deck</td>\n",
       "      <td>[OG_147, AT_129, CS2_142, OG_142, CS2_059, EX1...</td>\n",
       "      <td>1</td>\n",
       "      <td>player2</td>\n",
       "      <td>2016-06-08 18:47:53:897147</td>\n",
       "    </tr>\n",
       "    <tr>\n",
       "      <th>45</th>\n",
       "      <td>deck</td>\n",
       "      <td>[NEW1_020, AT_112, OG_042, EX1_083, FP1_031, G...</td>\n",
       "      <td>1</td>\n",
       "      <td>player2</td>\n",
       "      <td>2016-06-08 18:47:53:946426</td>\n",
       "    </tr>\n",
       "    <tr>\n",
       "      <th>53</th>\n",
       "      <td>deck</td>\n",
       "      <td>[GVG_040, OG_327, GVG_091, CS2_042, EX1_558, O...</td>\n",
       "      <td>1</td>\n",
       "      <td>player2</td>\n",
       "      <td>2016-06-08 18:47:54:052596</td>\n",
       "    </tr>\n",
       "    <tr>\n",
       "      <th>61</th>\n",
       "      <td>deck</td>\n",
       "      <td>[OG_295, AT_101, BRM_028, tt_004, NEW1_021, AT...</td>\n",
       "      <td>1</td>\n",
       "      <td>player2</td>\n",
       "      <td>2016-06-08 18:47:54:146581</td>\n",
       "    </tr>\n",
       "    <tr>\n",
       "      <th>86</th>\n",
       "      <td>cards_mulliganed</td>\n",
       "      <td>[Master Jouster]</td>\n",
       "      <td>1</td>\n",
       "      <td>Player1</td>\n",
       "      <td>2016-06-08 18:47:54:499830</td>\n",
       "    </tr>\n",
       "    <tr>\n",
       "      <th>90</th>\n",
       "      <td>cards_kept</td>\n",
       "      <td>[Shadowform, Lightspawn, Lost Tallstrider]</td>\n",
       "      <td>1</td>\n",
       "      <td>Player1</td>\n",
       "      <td>2016-06-08 18:47:54:570910</td>\n",
       "    </tr>\n",
       "    <tr>\n",
       "      <th>97</th>\n",
       "      <td>cards_mulliganed</td>\n",
       "      <td>[]</td>\n",
       "      <td>1</td>\n",
       "      <td>Player1</td>\n",
       "      <td>2016-06-08 18:47:54:641989</td>\n",
       "    </tr>\n",
       "    <tr>\n",
       "      <th>100</th>\n",
       "      <td>cards_mulliganed</td>\n",
       "      <td>[]</td>\n",
       "      <td>1</td>\n",
       "      <td>Player1</td>\n",
       "      <td>2016-06-08 18:47:54:602784</td>\n",
       "    </tr>\n",
       "    <tr>\n",
       "      <th>102</th>\n",
       "      <td>cards_mulliganed</td>\n",
       "      <td>[Drakonid Crusher]</td>\n",
       "      <td>1</td>\n",
       "      <td>Player2</td>\n",
       "      <td>2016-06-08 18:47:54:726264</td>\n",
       "    </tr>\n",
       "    <tr>\n",
       "      <th>104</th>\n",
       "      <td>cards_kept</td>\n",
       "      <td>[Mech-Bear-Cat, Molten Giant]</td>\n",
       "      <td>1</td>\n",
       "      <td>Player2</td>\n",
       "      <td>2016-06-08 18:47:54:788887</td>\n",
       "    </tr>\n",
       "    <tr>\n",
       "      <th>106</th>\n",
       "      <td>cards_mulliganed</td>\n",
       "      <td>[]</td>\n",
       "      <td>1</td>\n",
       "      <td>Player1</td>\n",
       "      <td>2016-06-08 18:47:54:748374</td>\n",
       "    </tr>\n",
       "    <tr>\n",
       "      <th>108</th>\n",
       "      <td>cards_kept</td>\n",
       "      <td>[Murloc Warleader, Coldlight Oracle, Naga Sea ...</td>\n",
       "      <td>1</td>\n",
       "      <td>Player1</td>\n",
       "      <td>2016-06-08 18:47:54:703951</td>\n",
       "    </tr>\n",
       "    <tr>\n",
       "      <th>109</th>\n",
       "      <td>cards_kept</td>\n",
       "      <td>[Bloodsail Corsair, Stoneskin Gargoyle, Leper ...</td>\n",
       "      <td>1</td>\n",
       "      <td>Player1</td>\n",
       "      <td>2016-06-08 18:47:54:738494</td>\n",
       "    </tr>\n",
       "    <tr>\n",
       "      <th>110</th>\n",
       "      <td>cards_mulliganed</td>\n",
       "      <td>[Ice Rager, Mini-Mage]</td>\n",
       "      <td>1</td>\n",
       "      <td>Player1</td>\n",
       "      <td>2016-06-08 18:47:54:812724</td>\n",
       "    </tr>\n",
       "    <tr>\n",
       "      <th>111</th>\n",
       "      <td>cards_kept</td>\n",
       "      <td>[Cult Master, Knife Juggler, Kel'Thuzad, Tinkm...</td>\n",
       "      <td>1</td>\n",
       "      <td>Player1</td>\n",
       "      <td>2016-06-08 18:47:54:838245</td>\n",
       "    </tr>\n",
       "    <tr>\n",
       "      <th>115</th>\n",
       "      <td>cards_kept</td>\n",
       "      <td>[Gnomeregan Infantry]</td>\n",
       "      <td>1</td>\n",
       "      <td>Player1</td>\n",
       "      <td>2016-06-08 18:47:54:873477</td>\n",
       "    </tr>\n",
       "    <tr>\n",
       "      <th>125</th>\n",
       "      <td>cards_mulliganed</td>\n",
       "      <td>[Animated Armor]</td>\n",
       "      <td>1</td>\n",
       "      <td>Player2</td>\n",
       "      <td>2016-06-08 18:47:54:968796</td>\n",
       "    </tr>\n",
       "    <tr>\n",
       "      <th>127</th>\n",
       "      <td>cards_mulliganed</td>\n",
       "      <td>[]</td>\n",
       "      <td>1</td>\n",
       "      <td>Player2</td>\n",
       "      <td>2016-06-08 18:47:55:030505</td>\n",
       "    </tr>\n",
       "    <tr>\n",
       "      <th>...</th>\n",
       "      <td>...</td>\n",
       "      <td>...</td>\n",
       "      <td>...</td>\n",
       "      <td>...</td>\n",
       "      <td>...</td>\n",
       "    </tr>\n",
       "    <tr>\n",
       "      <th>189253</th>\n",
       "      <td>cards_kept</td>\n",
       "      <td>[]</td>\n",
       "      <td>1401</td>\n",
       "      <td>Player1</td>\n",
       "      <td>2016-06-09 22:32:43:445165</td>\n",
       "    </tr>\n",
       "    <tr>\n",
       "      <th>189255</th>\n",
       "      <td>cards_mulliganed</td>\n",
       "      <td>[Mana Addict, Frigid Snobold, Fire Elemental, ...</td>\n",
       "      <td>1401</td>\n",
       "      <td>Player1</td>\n",
       "      <td>2016-06-09 22:32:43:405653</td>\n",
       "    </tr>\n",
       "    <tr>\n",
       "      <th>189257</th>\n",
       "      <td>cards_kept</td>\n",
       "      <td>[]</td>\n",
       "      <td>1401</td>\n",
       "      <td>Player2</td>\n",
       "      <td>2016-06-09 22:32:43:510127</td>\n",
       "    </tr>\n",
       "    <tr>\n",
       "      <th>189261</th>\n",
       "      <td>cards_kept</td>\n",
       "      <td>[]</td>\n",
       "      <td>1401</td>\n",
       "      <td>Player1</td>\n",
       "      <td>2016-06-09 22:32:43:538915</td>\n",
       "    </tr>\n",
       "    <tr>\n",
       "      <th>189264</th>\n",
       "      <td>cards_mulliganed</td>\n",
       "      <td>[]</td>\n",
       "      <td>1401</td>\n",
       "      <td>Player2</td>\n",
       "      <td>2016-06-09 22:32:43:562194</td>\n",
       "    </tr>\n",
       "    <tr>\n",
       "      <th>189274</th>\n",
       "      <td>cards_kept</td>\n",
       "      <td>[Ironforge Rifleman, Emperor Cobra, Zealous In...</td>\n",
       "      <td>1401</td>\n",
       "      <td>Player2</td>\n",
       "      <td>2016-06-09 22:32:43:648931</td>\n",
       "    </tr>\n",
       "    <tr>\n",
       "      <th>189275</th>\n",
       "      <td>cards_mulliganed</td>\n",
       "      <td>[Big Game Hunter, Twisted Worgen]</td>\n",
       "      <td>1401</td>\n",
       "      <td>Player1</td>\n",
       "      <td>2016-06-09 22:32:43:646955</td>\n",
       "    </tr>\n",
       "    <tr>\n",
       "      <th>189279</th>\n",
       "      <td>cards_mulliganed</td>\n",
       "      <td>[Violet Teacher]</td>\n",
       "      <td>1401</td>\n",
       "      <td>Player2</td>\n",
       "      <td>2016-06-09 22:32:43:703888</td>\n",
       "    </tr>\n",
       "    <tr>\n",
       "      <th>189280</th>\n",
       "      <td>cards_mulliganed</td>\n",
       "      <td>[Shadowbomber, Goblin Sapper]</td>\n",
       "      <td>1401</td>\n",
       "      <td>Player1</td>\n",
       "      <td>2016-06-09 22:32:43:775016</td>\n",
       "    </tr>\n",
       "    <tr>\n",
       "      <th>189281</th>\n",
       "      <td>cards_mulliganed</td>\n",
       "      <td>[Chromaggus]</td>\n",
       "      <td>1401</td>\n",
       "      <td>Player2</td>\n",
       "      <td>2016-06-09 22:32:43:748589</td>\n",
       "    </tr>\n",
       "    <tr>\n",
       "      <th>189284</th>\n",
       "      <td>cards_mulliganed</td>\n",
       "      <td>[Soggoth the Slitherer, Eydis Darkbane]</td>\n",
       "      <td>1401</td>\n",
       "      <td>Player2</td>\n",
       "      <td>2016-06-09 22:32:43:779784</td>\n",
       "    </tr>\n",
       "    <tr>\n",
       "      <th>189285</th>\n",
       "      <td>cards_kept</td>\n",
       "      <td>[Force of Nature, Blackwing Corruptor]</td>\n",
       "      <td>1401</td>\n",
       "      <td>Player1</td>\n",
       "      <td>2016-06-09 22:32:43:775584</td>\n",
       "    </tr>\n",
       "    <tr>\n",
       "      <th>189287</th>\n",
       "      <td>cards_kept</td>\n",
       "      <td>[Dragonling Mechanic]</td>\n",
       "      <td>1401</td>\n",
       "      <td>Player1</td>\n",
       "      <td>2016-06-09 22:32:43:850465</td>\n",
       "    </tr>\n",
       "    <tr>\n",
       "      <th>189289</th>\n",
       "      <td>cards_mulliganed</td>\n",
       "      <td>[]</td>\n",
       "      <td>1401</td>\n",
       "      <td>Player1</td>\n",
       "      <td>2016-06-09 22:32:43:727483</td>\n",
       "    </tr>\n",
       "    <tr>\n",
       "      <th>189290</th>\n",
       "      <td>cards_kept</td>\n",
       "      <td>[Eydis Darkbane, Faceless Manipulator, Cult Ap...</td>\n",
       "      <td>1401</td>\n",
       "      <td>Player2</td>\n",
       "      <td>2016-06-09 22:32:43:855166</td>\n",
       "    </tr>\n",
       "    <tr>\n",
       "      <th>189291</th>\n",
       "      <td>cards_kept</td>\n",
       "      <td>[Mogor the Ogre]</td>\n",
       "      <td>1401</td>\n",
       "      <td>Player2</td>\n",
       "      <td>2016-06-09 22:32:43:874764</td>\n",
       "    </tr>\n",
       "    <tr>\n",
       "      <th>189296</th>\n",
       "      <td>cards_kept</td>\n",
       "      <td>[Micro Machine, Grove Tender, Master Jouster, ...</td>\n",
       "      <td>1401</td>\n",
       "      <td>Player1</td>\n",
       "      <td>2016-06-09 22:32:43:926111</td>\n",
       "    </tr>\n",
       "    <tr>\n",
       "      <th>189299</th>\n",
       "      <td>cards_kept</td>\n",
       "      <td>[Temple Enforcer, Scaled Nightmare]</td>\n",
       "      <td>1401</td>\n",
       "      <td>Player2</td>\n",
       "      <td>2016-06-09 22:32:43:832031</td>\n",
       "    </tr>\n",
       "    <tr>\n",
       "      <th>189308</th>\n",
       "      <td>cards_mulliganed</td>\n",
       "      <td>[]</td>\n",
       "      <td>1401</td>\n",
       "      <td>Player2</td>\n",
       "      <td>2016-06-09 22:32:44:068844</td>\n",
       "    </tr>\n",
       "    <tr>\n",
       "      <th>189319</th>\n",
       "      <td>cards_kept</td>\n",
       "      <td>[Earthen Ring Farseer, Sir Finley Mrrgglton, S...</td>\n",
       "      <td>1401</td>\n",
       "      <td>Player2</td>\n",
       "      <td>2016-06-09 22:32:44:133559</td>\n",
       "    </tr>\n",
       "    <tr>\n",
       "      <th>189327</th>\n",
       "      <td>cards_mulliganed</td>\n",
       "      <td>[The Beast, Power Word: Tentacles, Amani Berse...</td>\n",
       "      <td>1401</td>\n",
       "      <td>Player1</td>\n",
       "      <td>2016-06-09 22:32:44:267105</td>\n",
       "    </tr>\n",
       "    <tr>\n",
       "      <th>189333</th>\n",
       "      <td>cards_kept</td>\n",
       "      <td>[]</td>\n",
       "      <td>1401</td>\n",
       "      <td>Player1</td>\n",
       "      <td>2016-06-09 22:32:44:344704</td>\n",
       "    </tr>\n",
       "    <tr>\n",
       "      <th>189339</th>\n",
       "      <td>cards_mulliganed</td>\n",
       "      <td>[Twilight Drake, Mukla's Champion]</td>\n",
       "      <td>1401</td>\n",
       "      <td>Player2</td>\n",
       "      <td>2016-06-09 22:32:44:221638</td>\n",
       "    </tr>\n",
       "    <tr>\n",
       "      <th>189345</th>\n",
       "      <td>cards_kept</td>\n",
       "      <td>[Ancient Harbinger]</td>\n",
       "      <td>1401</td>\n",
       "      <td>Player2</td>\n",
       "      <td>2016-06-09 22:32:44:486887</td>\n",
       "    </tr>\n",
       "    <tr>\n",
       "      <th>189351</th>\n",
       "      <td>cards_mulliganed</td>\n",
       "      <td>[Bomb Lobber]</td>\n",
       "      <td>1401</td>\n",
       "      <td>Player2</td>\n",
       "      <td>2016-06-09 22:32:44:496308</td>\n",
       "    </tr>\n",
       "    <tr>\n",
       "      <th>189356</th>\n",
       "      <td>cards_kept</td>\n",
       "      <td>[Wilfred Fizzlebang, Darkspeaker]</td>\n",
       "      <td>1401</td>\n",
       "      <td>Player2</td>\n",
       "      <td>2016-06-09 22:32:44:635711</td>\n",
       "    </tr>\n",
       "    <tr>\n",
       "      <th>189366</th>\n",
       "      <td>cards_mulliganed</td>\n",
       "      <td>[Nozdormu, Embrace the Shadow, Blood Knight, O...</td>\n",
       "      <td>1401</td>\n",
       "      <td>Player2</td>\n",
       "      <td>2016-06-09 22:32:44:591647</td>\n",
       "    </tr>\n",
       "    <tr>\n",
       "      <th>189372</th>\n",
       "      <td>cards_kept</td>\n",
       "      <td>[]</td>\n",
       "      <td>1401</td>\n",
       "      <td>Player2</td>\n",
       "      <td>2016-06-09 22:32:44:799777</td>\n",
       "    </tr>\n",
       "    <tr>\n",
       "      <th>190174</th>\n",
       "      <td>deck</td>\n",
       "      <td>[AT_020, AT_087, LOE_077, FP1_004, EX1_023, EX...</td>\n",
       "      <td>1402</td>\n",
       "      <td>player1</td>\n",
       "      <td>2016-06-09 22:32:54:380767</td>\n",
       "    </tr>\n",
       "    <tr>\n",
       "      <th>190228</th>\n",
       "      <td>deck</td>\n",
       "      <td>[GVG_097, AT_106, CS2_150, EX1_100, CS2_127, C...</td>\n",
       "      <td>1402</td>\n",
       "      <td>player2</td>\n",
       "      <td>2016-06-09 22:32:54:907090</td>\n",
       "    </tr>\n",
       "  </tbody>\n",
       "</table>\n",
       "<p>7108 rows × 5 columns</p>\n",
       "</div>"
      ],
      "text/plain": [
       "               event_key                                        event_value  \\\n",
       "0                   deck  [FP1_027, EX1_509, NEW1_029, OG_134, GVG_071, ...   \n",
       "1                   deck  [GVG_081, AT_106, OG_090, AT_070, EX1_007, CS2...   \n",
       "2                   deck  [FP1_015, OG_133, EX1_572, EX1_558, NEW1_041, ...   \n",
       "3                   deck  [CS2_226, NEW1_019, CS2_186, BRM_033, FP1_030,...   \n",
       "4                   deck  [EX1_556, EX1_170, EX1_011, OG_254, EX1_044, G...   \n",
       "5                   deck  [EX1_009, OG_122, EX1_050, EX1_062, OG_321, GV...   \n",
       "6                   deck  [AT_101, EX1_341, EX1_284, EX1_085, LOE_111, G...   \n",
       "13                  deck  [AT_113, OG_174, CS1_069, GVG_095, EX1_045, AT...   \n",
       "36                  deck  [OG_303, AT_092, CS2_120, EX1_067, BRM_033, OG...   \n",
       "37                  deck  [LOE_107, LOE_110, CS2_181, GVG_064, LOE_038, ...   \n",
       "39                  deck  [EX1_011, CS2_121, CS2_121, EX1_019, EX1_019, ...   \n",
       "40                  deck  [GVG_006, AT_101, BRM_022, EX1_274, FP1_008, N...   \n",
       "44                  deck  [OG_147, AT_129, CS2_142, OG_142, CS2_059, EX1...   \n",
       "45                  deck  [NEW1_020, AT_112, OG_042, EX1_083, FP1_031, G...   \n",
       "53                  deck  [GVG_040, OG_327, GVG_091, CS2_042, EX1_558, O...   \n",
       "61                  deck  [OG_295, AT_101, BRM_028, tt_004, NEW1_021, AT...   \n",
       "86      cards_mulliganed                                   [Master Jouster]   \n",
       "90            cards_kept         [Shadowform, Lightspawn, Lost Tallstrider]   \n",
       "97      cards_mulliganed                                                 []   \n",
       "100     cards_mulliganed                                                 []   \n",
       "102     cards_mulliganed                                 [Drakonid Crusher]   \n",
       "104           cards_kept                      [Mech-Bear-Cat, Molten Giant]   \n",
       "106     cards_mulliganed                                                 []   \n",
       "108           cards_kept  [Murloc Warleader, Coldlight Oracle, Naga Sea ...   \n",
       "109           cards_kept  [Bloodsail Corsair, Stoneskin Gargoyle, Leper ...   \n",
       "110     cards_mulliganed                             [Ice Rager, Mini-Mage]   \n",
       "111           cards_kept  [Cult Master, Knife Juggler, Kel'Thuzad, Tinkm...   \n",
       "115           cards_kept                              [Gnomeregan Infantry]   \n",
       "125     cards_mulliganed                                   [Animated Armor]   \n",
       "127     cards_mulliganed                                                 []   \n",
       "...                  ...                                                ...   \n",
       "189253        cards_kept                                                 []   \n",
       "189255  cards_mulliganed  [Mana Addict, Frigid Snobold, Fire Elemental, ...   \n",
       "189257        cards_kept                                                 []   \n",
       "189261        cards_kept                                                 []   \n",
       "189264  cards_mulliganed                                                 []   \n",
       "189274        cards_kept  [Ironforge Rifleman, Emperor Cobra, Zealous In...   \n",
       "189275  cards_mulliganed                  [Big Game Hunter, Twisted Worgen]   \n",
       "189279  cards_mulliganed                                   [Violet Teacher]   \n",
       "189280  cards_mulliganed                      [Shadowbomber, Goblin Sapper]   \n",
       "189281  cards_mulliganed                                       [Chromaggus]   \n",
       "189284  cards_mulliganed            [Soggoth the Slitherer, Eydis Darkbane]   \n",
       "189285        cards_kept             [Force of Nature, Blackwing Corruptor]   \n",
       "189287        cards_kept                              [Dragonling Mechanic]   \n",
       "189289  cards_mulliganed                                                 []   \n",
       "189290        cards_kept  [Eydis Darkbane, Faceless Manipulator, Cult Ap...   \n",
       "189291        cards_kept                                   [Mogor the Ogre]   \n",
       "189296        cards_kept  [Micro Machine, Grove Tender, Master Jouster, ...   \n",
       "189299        cards_kept                [Temple Enforcer, Scaled Nightmare]   \n",
       "189308  cards_mulliganed                                                 []   \n",
       "189319        cards_kept  [Earthen Ring Farseer, Sir Finley Mrrgglton, S...   \n",
       "189327  cards_mulliganed  [The Beast, Power Word: Tentacles, Amani Berse...   \n",
       "189333        cards_kept                                                 []   \n",
       "189339  cards_mulliganed                 [Twilight Drake, Mukla's Champion]   \n",
       "189345        cards_kept                                [Ancient Harbinger]   \n",
       "189351  cards_mulliganed                                      [Bomb Lobber]   \n",
       "189356        cards_kept                  [Wilfred Fizzlebang, Darkspeaker]   \n",
       "189366  cards_mulliganed  [Nozdormu, Embrace the Shadow, Blood Knight, O...   \n",
       "189372        cards_kept                                                 []   \n",
       "190174              deck  [AT_020, AT_087, LOE_077, FP1_004, EX1_023, EX...   \n",
       "190228              deck  [GVG_097, AT_106, CS2_150, EX1_100, CS2_127, C...   \n",
       "\n",
       "        game_id   player                   timestamp  \n",
       "0             1  player1  2016-06-08 18:47:53:334438  \n",
       "1             1  player1  2016-06-08 18:47:53:370128  \n",
       "2             1  player1  2016-06-08 18:47:53:374504  \n",
       "3             1  player1  2016-06-08 18:47:53:381442  \n",
       "4             1  player1  2016-06-08 18:47:53:411713  \n",
       "5             1  player1  2016-06-08 18:47:53:405278  \n",
       "6             1  player1  2016-06-08 18:47:53:388548  \n",
       "13            1  player1  2016-06-08 18:47:53:392971  \n",
       "36            1  player2  2016-06-08 18:47:53:868333  \n",
       "37            1  player2  2016-06-08 18:47:53:890836  \n",
       "39            1  player2  2016-06-08 18:47:53:914743  \n",
       "40            1  player2  2016-06-08 18:47:53:811674  \n",
       "44            1  player2  2016-06-08 18:47:53:897147  \n",
       "45            1  player2  2016-06-08 18:47:53:946426  \n",
       "53            1  player2  2016-06-08 18:47:54:052596  \n",
       "61            1  player2  2016-06-08 18:47:54:146581  \n",
       "86            1  Player1  2016-06-08 18:47:54:499830  \n",
       "90            1  Player1  2016-06-08 18:47:54:570910  \n",
       "97            1  Player1  2016-06-08 18:47:54:641989  \n",
       "100           1  Player1  2016-06-08 18:47:54:602784  \n",
       "102           1  Player2  2016-06-08 18:47:54:726264  \n",
       "104           1  Player2  2016-06-08 18:47:54:788887  \n",
       "106           1  Player1  2016-06-08 18:47:54:748374  \n",
       "108           1  Player1  2016-06-08 18:47:54:703951  \n",
       "109           1  Player1  2016-06-08 18:47:54:738494  \n",
       "110           1  Player1  2016-06-08 18:47:54:812724  \n",
       "111           1  Player1  2016-06-08 18:47:54:838245  \n",
       "115           1  Player1  2016-06-08 18:47:54:873477  \n",
       "125           1  Player2  2016-06-08 18:47:54:968796  \n",
       "127           1  Player2  2016-06-08 18:47:55:030505  \n",
       "...         ...      ...                         ...  \n",
       "189253     1401  Player1  2016-06-09 22:32:43:445165  \n",
       "189255     1401  Player1  2016-06-09 22:32:43:405653  \n",
       "189257     1401  Player2  2016-06-09 22:32:43:510127  \n",
       "189261     1401  Player1  2016-06-09 22:32:43:538915  \n",
       "189264     1401  Player2  2016-06-09 22:32:43:562194  \n",
       "189274     1401  Player2  2016-06-09 22:32:43:648931  \n",
       "189275     1401  Player1  2016-06-09 22:32:43:646955  \n",
       "189279     1401  Player2  2016-06-09 22:32:43:703888  \n",
       "189280     1401  Player1  2016-06-09 22:32:43:775016  \n",
       "189281     1401  Player2  2016-06-09 22:32:43:748589  \n",
       "189284     1401  Player2  2016-06-09 22:32:43:779784  \n",
       "189285     1401  Player1  2016-06-09 22:32:43:775584  \n",
       "189287     1401  Player1  2016-06-09 22:32:43:850465  \n",
       "189289     1401  Player1  2016-06-09 22:32:43:727483  \n",
       "189290     1401  Player2  2016-06-09 22:32:43:855166  \n",
       "189291     1401  Player2  2016-06-09 22:32:43:874764  \n",
       "189296     1401  Player1  2016-06-09 22:32:43:926111  \n",
       "189299     1401  Player2  2016-06-09 22:32:43:832031  \n",
       "189308     1401  Player2  2016-06-09 22:32:44:068844  \n",
       "189319     1401  Player2  2016-06-09 22:32:44:133559  \n",
       "189327     1401  Player1  2016-06-09 22:32:44:267105  \n",
       "189333     1401  Player1  2016-06-09 22:32:44:344704  \n",
       "189339     1401  Player2  2016-06-09 22:32:44:221638  \n",
       "189345     1401  Player2  2016-06-09 22:32:44:486887  \n",
       "189351     1401  Player2  2016-06-09 22:32:44:496308  \n",
       "189356     1401  Player2  2016-06-09 22:32:44:635711  \n",
       "189366     1401  Player2  2016-06-09 22:32:44:591647  \n",
       "189372     1401  Player2  2016-06-09 22:32:44:799777  \n",
       "190174     1402  player1  2016-06-09 22:32:54:380767  \n",
       "190228     1402  player2  2016-06-09 22:32:54:907090  \n",
       "\n",
       "[7108 rows x 5 columns]"
      ]
     },
     "execution_count": 21,
     "metadata": {},
     "output_type": "execute_result"
    }
   ],
   "source": [
    "decks_times"
   ]
  },
  {
   "cell_type": "code",
   "execution_count": 20,
   "metadata": {
    "collapsed": false,
    "scrolled": true
   },
   "outputs": [
    {
     "ename": "ValueError",
     "evalue": "No objects to concatenate",
     "output_type": "error",
     "traceback": [
      "\u001b[1;31m---------------------------------------------------------------------------\u001b[0m",
      "\u001b[1;31mValueError\u001b[0m                                Traceback (most recent call last)",
      "\u001b[1;32m<ipython-input-20-931057edf8ef>\u001b[0m in \u001b[0;36m<module>\u001b[1;34m()\u001b[0m\n\u001b[1;32m----> 1\u001b[1;33m \u001b[0mdecks_times\u001b[0m\u001b[1;33m.\u001b[0m\u001b[0mgroupby\u001b[0m\u001b[1;33m(\u001b[0m\u001b[1;34m'timestamp'\u001b[0m\u001b[1;33m)\u001b[0m\u001b[1;33m.\u001b[0m\u001b[0mapply\u001b[0m\u001b[1;33m(\u001b[0m\u001b[0mexpand_decks\u001b[0m\u001b[1;33m)\u001b[0m\u001b[1;33m\u001b[0m\u001b[0m\n\u001b[0m",
      "\u001b[1;32mC:\\Anaconda2\\lib\\site-packages\\pandas\\core\\groupby.pyc\u001b[0m in \u001b[0;36mapply\u001b[1;34m(self, func, *args, **kwargs)\u001b[0m\n\u001b[0;32m    638\u001b[0m         \u001b[1;31m# ignore SettingWithCopy here in case the user mutates\u001b[0m\u001b[1;33m\u001b[0m\u001b[1;33m\u001b[0m\u001b[0m\n\u001b[0;32m    639\u001b[0m         \u001b[1;32mwith\u001b[0m \u001b[0moption_context\u001b[0m\u001b[1;33m(\u001b[0m\u001b[1;34m'mode.chained_assignment'\u001b[0m\u001b[1;33m,\u001b[0m \u001b[0mNone\u001b[0m\u001b[1;33m)\u001b[0m\u001b[1;33m:\u001b[0m\u001b[1;33m\u001b[0m\u001b[0m\n\u001b[1;32m--> 640\u001b[1;33m             \u001b[1;32mreturn\u001b[0m \u001b[0mself\u001b[0m\u001b[1;33m.\u001b[0m\u001b[0m_python_apply_general\u001b[0m\u001b[1;33m(\u001b[0m\u001b[0mf\u001b[0m\u001b[1;33m)\u001b[0m\u001b[1;33m\u001b[0m\u001b[0m\n\u001b[0m\u001b[0;32m    641\u001b[0m \u001b[1;33m\u001b[0m\u001b[0m\n\u001b[0;32m    642\u001b[0m     \u001b[1;32mdef\u001b[0m \u001b[0m_python_apply_general\u001b[0m\u001b[1;33m(\u001b[0m\u001b[0mself\u001b[0m\u001b[1;33m,\u001b[0m \u001b[0mf\u001b[0m\u001b[1;33m)\u001b[0m\u001b[1;33m:\u001b[0m\u001b[1;33m\u001b[0m\u001b[0m\n",
      "\u001b[1;32mC:\\Anaconda2\\lib\\site-packages\\pandas\\core\\groupby.pyc\u001b[0m in \u001b[0;36m_python_apply_general\u001b[1;34m(self, f)\u001b[0m\n\u001b[0;32m    642\u001b[0m     \u001b[1;32mdef\u001b[0m \u001b[0m_python_apply_general\u001b[0m\u001b[1;33m(\u001b[0m\u001b[0mself\u001b[0m\u001b[1;33m,\u001b[0m \u001b[0mf\u001b[0m\u001b[1;33m)\u001b[0m\u001b[1;33m:\u001b[0m\u001b[1;33m\u001b[0m\u001b[0m\n\u001b[0;32m    643\u001b[0m         keys, values, mutated = self.grouper.apply(f, self._selected_obj,\n\u001b[1;32m--> 644\u001b[1;33m                                                    self.axis)\n\u001b[0m\u001b[0;32m    645\u001b[0m \u001b[1;33m\u001b[0m\u001b[0m\n\u001b[0;32m    646\u001b[0m         return self._wrap_applied_output(keys, values,\n",
      "\u001b[1;32mC:\\Anaconda2\\lib\\site-packages\\pandas\\core\\groupby.pyc\u001b[0m in \u001b[0;36mapply\u001b[1;34m(self, f, data, axis)\u001b[0m\n\u001b[0;32m   1522\u001b[0m             \u001b[1;31m# group might be modified\u001b[0m\u001b[1;33m\u001b[0m\u001b[1;33m\u001b[0m\u001b[0m\n\u001b[0;32m   1523\u001b[0m             \u001b[0mgroup_axes\u001b[0m \u001b[1;33m=\u001b[0m \u001b[0m_get_axes\u001b[0m\u001b[1;33m(\u001b[0m\u001b[0mgroup\u001b[0m\u001b[1;33m)\u001b[0m\u001b[1;33m\u001b[0m\u001b[0m\n\u001b[1;32m-> 1524\u001b[1;33m             \u001b[0mres\u001b[0m \u001b[1;33m=\u001b[0m \u001b[0mf\u001b[0m\u001b[1;33m(\u001b[0m\u001b[0mgroup\u001b[0m\u001b[1;33m)\u001b[0m\u001b[1;33m\u001b[0m\u001b[0m\n\u001b[0m\u001b[0;32m   1525\u001b[0m             \u001b[1;32mif\u001b[0m \u001b[1;32mnot\u001b[0m \u001b[0m_is_indexed_like\u001b[0m\u001b[1;33m(\u001b[0m\u001b[0mres\u001b[0m\u001b[1;33m,\u001b[0m \u001b[0mgroup_axes\u001b[0m\u001b[1;33m)\u001b[0m\u001b[1;33m:\u001b[0m\u001b[1;33m\u001b[0m\u001b[0m\n\u001b[0;32m   1526\u001b[0m                 \u001b[0mmutated\u001b[0m \u001b[1;33m=\u001b[0m \u001b[0mTrue\u001b[0m\u001b[1;33m\u001b[0m\u001b[0m\n",
      "\u001b[1;32mC:\\Anaconda2\\lib\\site-packages\\pandas\\core\\groupby.pyc\u001b[0m in \u001b[0;36mf\u001b[1;34m(g)\u001b[0m\n\u001b[0;32m    634\u001b[0m         \u001b[1;33m@\u001b[0m\u001b[0mwraps\u001b[0m\u001b[1;33m(\u001b[0m\u001b[0mfunc\u001b[0m\u001b[1;33m)\u001b[0m\u001b[1;33m\u001b[0m\u001b[0m\n\u001b[0;32m    635\u001b[0m         \u001b[1;32mdef\u001b[0m \u001b[0mf\u001b[0m\u001b[1;33m(\u001b[0m\u001b[0mg\u001b[0m\u001b[1;33m)\u001b[0m\u001b[1;33m:\u001b[0m\u001b[1;33m\u001b[0m\u001b[0m\n\u001b[1;32m--> 636\u001b[1;33m             \u001b[1;32mreturn\u001b[0m \u001b[0mfunc\u001b[0m\u001b[1;33m(\u001b[0m\u001b[0mg\u001b[0m\u001b[1;33m,\u001b[0m \u001b[1;33m*\u001b[0m\u001b[0margs\u001b[0m\u001b[1;33m,\u001b[0m \u001b[1;33m**\u001b[0m\u001b[0mkwargs\u001b[0m\u001b[1;33m)\u001b[0m\u001b[1;33m\u001b[0m\u001b[0m\n\u001b[0m\u001b[0;32m    637\u001b[0m \u001b[1;33m\u001b[0m\u001b[0m\n\u001b[0;32m    638\u001b[0m         \u001b[1;31m# ignore SettingWithCopy here in case the user mutates\u001b[0m\u001b[1;33m\u001b[0m\u001b[1;33m\u001b[0m\u001b[0m\n",
      "\u001b[1;32m<ipython-input-9-37e2d6f07e04>\u001b[0m in \u001b[0;36mexpand_decks\u001b[1;34m(df)\u001b[0m\n\u001b[0;32m      1\u001b[0m \u001b[1;32mdef\u001b[0m \u001b[0mexpand_decks\u001b[0m\u001b[1;33m(\u001b[0m\u001b[0mdf\u001b[0m\u001b[1;33m)\u001b[0m\u001b[1;33m:\u001b[0m\u001b[1;33m\u001b[0m\u001b[0m\n\u001b[1;32m----> 2\u001b[1;33m     \u001b[0mndf\u001b[0m \u001b[1;33m=\u001b[0m \u001b[0mpd\u001b[0m\u001b[1;33m.\u001b[0m\u001b[0mconcat\u001b[0m\u001b[1;33m(\u001b[0m\u001b[1;33m[\u001b[0m\u001b[0mdf\u001b[0m\u001b[1;33m]\u001b[0m\u001b[1;33m*\u001b[0m\u001b[0mlen\u001b[0m\u001b[1;33m(\u001b[0m\u001b[0mdf\u001b[0m\u001b[1;33m.\u001b[0m\u001b[0mevent_value\u001b[0m\u001b[1;33m.\u001b[0m\u001b[0mvalues\u001b[0m\u001b[1;33m[\u001b[0m\u001b[1;36m0\u001b[0m\u001b[1;33m]\u001b[0m\u001b[1;33m)\u001b[0m\u001b[1;33m,\u001b[0m \u001b[0mignore_index\u001b[0m\u001b[1;33m=\u001b[0m\u001b[0mTrue\u001b[0m\u001b[1;33m)\u001b[0m\u001b[1;33m\u001b[0m\u001b[0m\n\u001b[0m\u001b[0;32m      3\u001b[0m     \u001b[0mndf\u001b[0m\u001b[1;33m[\u001b[0m\u001b[1;34m'event_value'\u001b[0m\u001b[1;33m]\u001b[0m \u001b[1;33m=\u001b[0m \u001b[0mdf\u001b[0m\u001b[1;33m.\u001b[0m\u001b[0mevent_value\u001b[0m\u001b[1;33m.\u001b[0m\u001b[0mvalues\u001b[0m\u001b[1;33m[\u001b[0m\u001b[1;36m0\u001b[0m\u001b[1;33m]\u001b[0m\u001b[1;33m\u001b[0m\u001b[0m\n\u001b[0;32m      4\u001b[0m     \u001b[0mndf\u001b[0m\u001b[1;33m[\u001b[0m\u001b[1;34m'event_iter'\u001b[0m\u001b[1;33m]\u001b[0m \u001b[1;33m=\u001b[0m \u001b[0mrange\u001b[0m\u001b[1;33m(\u001b[0m\u001b[0mndf\u001b[0m\u001b[1;33m.\u001b[0m\u001b[0mshape\u001b[0m\u001b[1;33m[\u001b[0m\u001b[1;36m0\u001b[0m\u001b[1;33m]\u001b[0m\u001b[1;33m)\u001b[0m\u001b[1;33m\u001b[0m\u001b[0m\n\u001b[0;32m      5\u001b[0m     \u001b[1;32mreturn\u001b[0m \u001b[0mndf\u001b[0m\u001b[1;33m\u001b[0m\u001b[0m\n",
      "\u001b[1;32mC:\\Anaconda2\\lib\\site-packages\\pandas\\tools\\merge.pyc\u001b[0m in \u001b[0;36mconcat\u001b[1;34m(objs, axis, join, join_axes, ignore_index, keys, levels, names, verify_integrity, copy)\u001b[0m\n\u001b[0;32m    832\u001b[0m                        \u001b[0mkeys\u001b[0m\u001b[1;33m=\u001b[0m\u001b[0mkeys\u001b[0m\u001b[1;33m,\u001b[0m \u001b[0mlevels\u001b[0m\u001b[1;33m=\u001b[0m\u001b[0mlevels\u001b[0m\u001b[1;33m,\u001b[0m \u001b[0mnames\u001b[0m\u001b[1;33m=\u001b[0m\u001b[0mnames\u001b[0m\u001b[1;33m,\u001b[0m\u001b[1;33m\u001b[0m\u001b[0m\n\u001b[0;32m    833\u001b[0m                        \u001b[0mverify_integrity\u001b[0m\u001b[1;33m=\u001b[0m\u001b[0mverify_integrity\u001b[0m\u001b[1;33m,\u001b[0m\u001b[1;33m\u001b[0m\u001b[0m\n\u001b[1;32m--> 834\u001b[1;33m                        copy=copy)\n\u001b[0m\u001b[0;32m    835\u001b[0m     \u001b[1;32mreturn\u001b[0m \u001b[0mop\u001b[0m\u001b[1;33m.\u001b[0m\u001b[0mget_result\u001b[0m\u001b[1;33m(\u001b[0m\u001b[1;33m)\u001b[0m\u001b[1;33m\u001b[0m\u001b[0m\n\u001b[0;32m    836\u001b[0m \u001b[1;33m\u001b[0m\u001b[0m\n",
      "\u001b[1;32mC:\\Anaconda2\\lib\\site-packages\\pandas\\tools\\merge.pyc\u001b[0m in \u001b[0;36m__init__\u001b[1;34m(self, objs, axis, join, join_axes, keys, levels, names, ignore_index, verify_integrity, copy)\u001b[0m\n\u001b[0;32m    865\u001b[0m \u001b[1;33m\u001b[0m\u001b[0m\n\u001b[0;32m    866\u001b[0m         \u001b[1;32mif\u001b[0m \u001b[0mlen\u001b[0m\u001b[1;33m(\u001b[0m\u001b[0mobjs\u001b[0m\u001b[1;33m)\u001b[0m \u001b[1;33m==\u001b[0m \u001b[1;36m0\u001b[0m\u001b[1;33m:\u001b[0m\u001b[1;33m\u001b[0m\u001b[0m\n\u001b[1;32m--> 867\u001b[1;33m             \u001b[1;32mraise\u001b[0m \u001b[0mValueError\u001b[0m\u001b[1;33m(\u001b[0m\u001b[1;34m'No objects to concatenate'\u001b[0m\u001b[1;33m)\u001b[0m\u001b[1;33m\u001b[0m\u001b[0m\n\u001b[0m\u001b[0;32m    868\u001b[0m \u001b[1;33m\u001b[0m\u001b[0m\n\u001b[0;32m    869\u001b[0m         \u001b[1;32mif\u001b[0m \u001b[0mkeys\u001b[0m \u001b[1;32mis\u001b[0m \u001b[0mNone\u001b[0m\u001b[1;33m:\u001b[0m\u001b[1;33m\u001b[0m\u001b[0m\n",
      "\u001b[1;31mValueError\u001b[0m: No objects to concatenate"
     ]
    }
   ],
   "source": [
    "decks_times.groupby('timestamp')"
   ]
  },
  {
   "cell_type": "code",
   "execution_count": 11,
   "metadata": {
    "collapsed": false,
    "scrolled": true
   },
   "outputs": [
    {
     "ename": "ValueError",
     "evalue": "No objects to concatenate",
     "output_type": "error",
     "traceback": [
      "\u001b[1;31m---------------------------------------------------------------------------\u001b[0m",
      "\u001b[1;31mValueError\u001b[0m                                Traceback (most recent call last)",
      "\u001b[1;32m<ipython-input-11-5c0524de1b24>\u001b[0m in \u001b[0;36m<module>\u001b[1;34m()\u001b[0m\n\u001b[0;32m      1\u001b[0m \u001b[0mdecks_times\u001b[0m \u001b[1;33m=\u001b[0m \u001b[0mdf\u001b[0m\u001b[1;33m.\u001b[0m\u001b[0mloc\u001b[0m\u001b[1;33m[\u001b[0m\u001b[0mdf\u001b[0m\u001b[1;33m.\u001b[0m\u001b[0mevent_key\u001b[0m\u001b[1;33m.\u001b[0m\u001b[0misin\u001b[0m\u001b[1;33m(\u001b[0m\u001b[1;33m[\u001b[0m\u001b[1;34m'deck'\u001b[0m\u001b[1;33m,\u001b[0m\u001b[1;34m'cards_mulliganed'\u001b[0m\u001b[1;33m,\u001b[0m\u001b[1;34m'cards_kept'\u001b[0m\u001b[1;33m]\u001b[0m\u001b[1;33m)\u001b[0m\u001b[1;33m]\u001b[0m\u001b[1;33m\u001b[0m\u001b[0m\n\u001b[1;32m----> 2\u001b[1;33m \u001b[0mdecks\u001b[0m \u001b[1;33m=\u001b[0m \u001b[0mdecks_times\u001b[0m\u001b[1;33m.\u001b[0m\u001b[0mgroupby\u001b[0m\u001b[1;33m(\u001b[0m\u001b[1;34m'timestamp'\u001b[0m\u001b[1;33m)\u001b[0m\u001b[1;33m.\u001b[0m\u001b[0mapply\u001b[0m\u001b[1;33m(\u001b[0m\u001b[0mexpand_decks\u001b[0m\u001b[1;33m)\u001b[0m\u001b[1;33m.\u001b[0m\u001b[0mreset_index\u001b[0m\u001b[1;33m(\u001b[0m\u001b[0mdrop\u001b[0m\u001b[1;33m=\u001b[0m\u001b[0mTrue\u001b[0m\u001b[1;33m)\u001b[0m\u001b[1;33m\u001b[0m\u001b[0m\n\u001b[0m",
      "\u001b[1;32mC:\\Anaconda2\\lib\\site-packages\\pandas\\core\\groupby.pyc\u001b[0m in \u001b[0;36mapply\u001b[1;34m(self, func, *args, **kwargs)\u001b[0m\n\u001b[0;32m    638\u001b[0m         \u001b[1;31m# ignore SettingWithCopy here in case the user mutates\u001b[0m\u001b[1;33m\u001b[0m\u001b[1;33m\u001b[0m\u001b[0m\n\u001b[0;32m    639\u001b[0m         \u001b[1;32mwith\u001b[0m \u001b[0moption_context\u001b[0m\u001b[1;33m(\u001b[0m\u001b[1;34m'mode.chained_assignment'\u001b[0m\u001b[1;33m,\u001b[0m \u001b[0mNone\u001b[0m\u001b[1;33m)\u001b[0m\u001b[1;33m:\u001b[0m\u001b[1;33m\u001b[0m\u001b[0m\n\u001b[1;32m--> 640\u001b[1;33m             \u001b[1;32mreturn\u001b[0m \u001b[0mself\u001b[0m\u001b[1;33m.\u001b[0m\u001b[0m_python_apply_general\u001b[0m\u001b[1;33m(\u001b[0m\u001b[0mf\u001b[0m\u001b[1;33m)\u001b[0m\u001b[1;33m\u001b[0m\u001b[0m\n\u001b[0m\u001b[0;32m    641\u001b[0m \u001b[1;33m\u001b[0m\u001b[0m\n\u001b[0;32m    642\u001b[0m     \u001b[1;32mdef\u001b[0m \u001b[0m_python_apply_general\u001b[0m\u001b[1;33m(\u001b[0m\u001b[0mself\u001b[0m\u001b[1;33m,\u001b[0m \u001b[0mf\u001b[0m\u001b[1;33m)\u001b[0m\u001b[1;33m:\u001b[0m\u001b[1;33m\u001b[0m\u001b[0m\n",
      "\u001b[1;32mC:\\Anaconda2\\lib\\site-packages\\pandas\\core\\groupby.pyc\u001b[0m in \u001b[0;36m_python_apply_general\u001b[1;34m(self, f)\u001b[0m\n\u001b[0;32m    642\u001b[0m     \u001b[1;32mdef\u001b[0m \u001b[0m_python_apply_general\u001b[0m\u001b[1;33m(\u001b[0m\u001b[0mself\u001b[0m\u001b[1;33m,\u001b[0m \u001b[0mf\u001b[0m\u001b[1;33m)\u001b[0m\u001b[1;33m:\u001b[0m\u001b[1;33m\u001b[0m\u001b[0m\n\u001b[0;32m    643\u001b[0m         keys, values, mutated = self.grouper.apply(f, self._selected_obj,\n\u001b[1;32m--> 644\u001b[1;33m                                                    self.axis)\n\u001b[0m\u001b[0;32m    645\u001b[0m \u001b[1;33m\u001b[0m\u001b[0m\n\u001b[0;32m    646\u001b[0m         return self._wrap_applied_output(keys, values,\n",
      "\u001b[1;32mC:\\Anaconda2\\lib\\site-packages\\pandas\\core\\groupby.pyc\u001b[0m in \u001b[0;36mapply\u001b[1;34m(self, f, data, axis)\u001b[0m\n\u001b[0;32m   1522\u001b[0m             \u001b[1;31m# group might be modified\u001b[0m\u001b[1;33m\u001b[0m\u001b[1;33m\u001b[0m\u001b[0m\n\u001b[0;32m   1523\u001b[0m             \u001b[0mgroup_axes\u001b[0m \u001b[1;33m=\u001b[0m \u001b[0m_get_axes\u001b[0m\u001b[1;33m(\u001b[0m\u001b[0mgroup\u001b[0m\u001b[1;33m)\u001b[0m\u001b[1;33m\u001b[0m\u001b[0m\n\u001b[1;32m-> 1524\u001b[1;33m             \u001b[0mres\u001b[0m \u001b[1;33m=\u001b[0m \u001b[0mf\u001b[0m\u001b[1;33m(\u001b[0m\u001b[0mgroup\u001b[0m\u001b[1;33m)\u001b[0m\u001b[1;33m\u001b[0m\u001b[0m\n\u001b[0m\u001b[0;32m   1525\u001b[0m             \u001b[1;32mif\u001b[0m \u001b[1;32mnot\u001b[0m \u001b[0m_is_indexed_like\u001b[0m\u001b[1;33m(\u001b[0m\u001b[0mres\u001b[0m\u001b[1;33m,\u001b[0m \u001b[0mgroup_axes\u001b[0m\u001b[1;33m)\u001b[0m\u001b[1;33m:\u001b[0m\u001b[1;33m\u001b[0m\u001b[0m\n\u001b[0;32m   1526\u001b[0m                 \u001b[0mmutated\u001b[0m \u001b[1;33m=\u001b[0m \u001b[0mTrue\u001b[0m\u001b[1;33m\u001b[0m\u001b[0m\n",
      "\u001b[1;32mC:\\Anaconda2\\lib\\site-packages\\pandas\\core\\groupby.pyc\u001b[0m in \u001b[0;36mf\u001b[1;34m(g)\u001b[0m\n\u001b[0;32m    634\u001b[0m         \u001b[1;33m@\u001b[0m\u001b[0mwraps\u001b[0m\u001b[1;33m(\u001b[0m\u001b[0mfunc\u001b[0m\u001b[1;33m)\u001b[0m\u001b[1;33m\u001b[0m\u001b[0m\n\u001b[0;32m    635\u001b[0m         \u001b[1;32mdef\u001b[0m \u001b[0mf\u001b[0m\u001b[1;33m(\u001b[0m\u001b[0mg\u001b[0m\u001b[1;33m)\u001b[0m\u001b[1;33m:\u001b[0m\u001b[1;33m\u001b[0m\u001b[0m\n\u001b[1;32m--> 636\u001b[1;33m             \u001b[1;32mreturn\u001b[0m \u001b[0mfunc\u001b[0m\u001b[1;33m(\u001b[0m\u001b[0mg\u001b[0m\u001b[1;33m,\u001b[0m \u001b[1;33m*\u001b[0m\u001b[0margs\u001b[0m\u001b[1;33m,\u001b[0m \u001b[1;33m**\u001b[0m\u001b[0mkwargs\u001b[0m\u001b[1;33m)\u001b[0m\u001b[1;33m\u001b[0m\u001b[0m\n\u001b[0m\u001b[0;32m    637\u001b[0m \u001b[1;33m\u001b[0m\u001b[0m\n\u001b[0;32m    638\u001b[0m         \u001b[1;31m# ignore SettingWithCopy here in case the user mutates\u001b[0m\u001b[1;33m\u001b[0m\u001b[1;33m\u001b[0m\u001b[0m\n",
      "\u001b[1;32m<ipython-input-9-37e2d6f07e04>\u001b[0m in \u001b[0;36mexpand_decks\u001b[1;34m(df)\u001b[0m\n\u001b[0;32m      1\u001b[0m \u001b[1;32mdef\u001b[0m \u001b[0mexpand_decks\u001b[0m\u001b[1;33m(\u001b[0m\u001b[0mdf\u001b[0m\u001b[1;33m)\u001b[0m\u001b[1;33m:\u001b[0m\u001b[1;33m\u001b[0m\u001b[0m\n\u001b[1;32m----> 2\u001b[1;33m     \u001b[0mndf\u001b[0m \u001b[1;33m=\u001b[0m \u001b[0mpd\u001b[0m\u001b[1;33m.\u001b[0m\u001b[0mconcat\u001b[0m\u001b[1;33m(\u001b[0m\u001b[1;33m[\u001b[0m\u001b[0mdf\u001b[0m\u001b[1;33m]\u001b[0m\u001b[1;33m*\u001b[0m\u001b[0mlen\u001b[0m\u001b[1;33m(\u001b[0m\u001b[0mdf\u001b[0m\u001b[1;33m.\u001b[0m\u001b[0mevent_value\u001b[0m\u001b[1;33m.\u001b[0m\u001b[0mvalues\u001b[0m\u001b[1;33m[\u001b[0m\u001b[1;36m0\u001b[0m\u001b[1;33m]\u001b[0m\u001b[1;33m)\u001b[0m\u001b[1;33m,\u001b[0m \u001b[0mignore_index\u001b[0m\u001b[1;33m=\u001b[0m\u001b[0mTrue\u001b[0m\u001b[1;33m)\u001b[0m\u001b[1;33m\u001b[0m\u001b[0m\n\u001b[0m\u001b[0;32m      3\u001b[0m     \u001b[0mndf\u001b[0m\u001b[1;33m[\u001b[0m\u001b[1;34m'event_value'\u001b[0m\u001b[1;33m]\u001b[0m \u001b[1;33m=\u001b[0m \u001b[0mdf\u001b[0m\u001b[1;33m.\u001b[0m\u001b[0mevent_value\u001b[0m\u001b[1;33m.\u001b[0m\u001b[0mvalues\u001b[0m\u001b[1;33m[\u001b[0m\u001b[1;36m0\u001b[0m\u001b[1;33m]\u001b[0m\u001b[1;33m\u001b[0m\u001b[0m\n\u001b[0;32m      4\u001b[0m     \u001b[0mndf\u001b[0m\u001b[1;33m[\u001b[0m\u001b[1;34m'event_iter'\u001b[0m\u001b[1;33m]\u001b[0m \u001b[1;33m=\u001b[0m \u001b[0mrange\u001b[0m\u001b[1;33m(\u001b[0m\u001b[0mndf\u001b[0m\u001b[1;33m.\u001b[0m\u001b[0mshape\u001b[0m\u001b[1;33m[\u001b[0m\u001b[1;36m0\u001b[0m\u001b[1;33m]\u001b[0m\u001b[1;33m)\u001b[0m\u001b[1;33m\u001b[0m\u001b[0m\n\u001b[0;32m      5\u001b[0m     \u001b[1;32mreturn\u001b[0m \u001b[0mndf\u001b[0m\u001b[1;33m\u001b[0m\u001b[0m\n",
      "\u001b[1;32mC:\\Anaconda2\\lib\\site-packages\\pandas\\tools\\merge.pyc\u001b[0m in \u001b[0;36mconcat\u001b[1;34m(objs, axis, join, join_axes, ignore_index, keys, levels, names, verify_integrity, copy)\u001b[0m\n\u001b[0;32m    832\u001b[0m                        \u001b[0mkeys\u001b[0m\u001b[1;33m=\u001b[0m\u001b[0mkeys\u001b[0m\u001b[1;33m,\u001b[0m \u001b[0mlevels\u001b[0m\u001b[1;33m=\u001b[0m\u001b[0mlevels\u001b[0m\u001b[1;33m,\u001b[0m \u001b[0mnames\u001b[0m\u001b[1;33m=\u001b[0m\u001b[0mnames\u001b[0m\u001b[1;33m,\u001b[0m\u001b[1;33m\u001b[0m\u001b[0m\n\u001b[0;32m    833\u001b[0m                        \u001b[0mverify_integrity\u001b[0m\u001b[1;33m=\u001b[0m\u001b[0mverify_integrity\u001b[0m\u001b[1;33m,\u001b[0m\u001b[1;33m\u001b[0m\u001b[0m\n\u001b[1;32m--> 834\u001b[1;33m                        copy=copy)\n\u001b[0m\u001b[0;32m    835\u001b[0m     \u001b[1;32mreturn\u001b[0m \u001b[0mop\u001b[0m\u001b[1;33m.\u001b[0m\u001b[0mget_result\u001b[0m\u001b[1;33m(\u001b[0m\u001b[1;33m)\u001b[0m\u001b[1;33m\u001b[0m\u001b[0m\n\u001b[0;32m    836\u001b[0m \u001b[1;33m\u001b[0m\u001b[0m\n",
      "\u001b[1;32mC:\\Anaconda2\\lib\\site-packages\\pandas\\tools\\merge.pyc\u001b[0m in \u001b[0;36m__init__\u001b[1;34m(self, objs, axis, join, join_axes, keys, levels, names, ignore_index, verify_integrity, copy)\u001b[0m\n\u001b[0;32m    865\u001b[0m \u001b[1;33m\u001b[0m\u001b[0m\n\u001b[0;32m    866\u001b[0m         \u001b[1;32mif\u001b[0m \u001b[0mlen\u001b[0m\u001b[1;33m(\u001b[0m\u001b[0mobjs\u001b[0m\u001b[1;33m)\u001b[0m \u001b[1;33m==\u001b[0m \u001b[1;36m0\u001b[0m\u001b[1;33m:\u001b[0m\u001b[1;33m\u001b[0m\u001b[0m\n\u001b[1;32m--> 867\u001b[1;33m             \u001b[1;32mraise\u001b[0m \u001b[0mValueError\u001b[0m\u001b[1;33m(\u001b[0m\u001b[1;34m'No objects to concatenate'\u001b[0m\u001b[1;33m)\u001b[0m\u001b[1;33m\u001b[0m\u001b[0m\n\u001b[0m\u001b[0;32m    868\u001b[0m \u001b[1;33m\u001b[0m\u001b[0m\n\u001b[0;32m    869\u001b[0m         \u001b[1;32mif\u001b[0m \u001b[0mkeys\u001b[0m \u001b[1;32mis\u001b[0m \u001b[0mNone\u001b[0m\u001b[1;33m:\u001b[0m\u001b[1;33m\u001b[0m\u001b[0m\n",
      "\u001b[1;31mValueError\u001b[0m: No objects to concatenate"
     ]
    }
   ],
   "source": [
    "decks_times = df.loc[df.event_key.isin(['deck','cards_mulliganed','cards_kept'])]\n",
    "decks = decks_times.groupby('timestamp').apply(expand_decks).reset_index(drop=True)"
   ]
  },
  {
   "cell_type": "code",
   "execution_count": null,
   "metadata": {
    "collapsed": false
   },
   "outputs": [],
   "source": [
    "decks.head(10)"
   ]
  },
  {
   "cell_type": "code",
   "execution_count": null,
   "metadata": {
    "collapsed": false,
    "scrolled": false
   },
   "outputs": [],
   "source": [
    "nodecks = df[~df.event_key.isin(['deck','cards_mulliganed','cards_kept'])]\n",
    "nodecks['event_iter'] = 0\n",
    "expanded = pd.concat([decks, nodecks], ignore_index=True)\n",
    "expanded.sort_values(['event_key','event_iter','player','timestamp'], inplace=True)\n"
   ]
  },
  {
   "cell_type": "code",
   "execution_count": null,
   "metadata": {
    "collapsed": false
   },
   "outputs": [],
   "source": [
    "df.event_key.unique()"
   ]
  },
  {
   "cell_type": "code",
   "execution_count": null,
   "metadata": {
    "collapsed": false
   },
   "outputs": [],
   "source": [
    "df.ix[6, 0]"
   ]
  },
  {
   "cell_type": "code",
   "execution_count": null,
   "metadata": {
    "collapsed": false
   },
   "outputs": [],
   "source": [
    "df.ix[7]"
   ]
  },
  {
   "cell_type": "code",
   "execution_count": null,
   "metadata": {
    "collapsed": false
   },
   "outputs": [],
   "source": [
    "turns = pd.DataFrame([])"
   ]
  },
  {
   "cell_type": "code",
   "execution_count": null,
   "metadata": {
    "collapsed": true
   },
   "outputs": [],
   "source": [
    "for x in df.event_key.unique():\n",
    "    if x in ['turn_begins', 'max_mana', 'avg_hand_cost', 'mana_used', 'turn_end', 'hero_health', 'hero_power', 'overdraw']:\n",
    "        idx = df.event_key[df.event_key == x].index.tolist()\n",
    "        turns = turns.append(df.ix[idx])"
   ]
  },
  {
   "cell_type": "code",
   "execution_count": null,
   "metadata": {
    "collapsed": false
   },
   "outputs": [],
   "source": [
    "turns = turns[turns['game_id'] != 1]"
   ]
  },
  {
   "cell_type": "code",
   "execution_count": null,
   "metadata": {
    "collapsed": false
   },
   "outputs": [],
   "source": [
    "turns.sort_values(by = ['game_id', 'event_value'], ascending = True, inplace = True)"
   ]
  },
  {
   "cell_type": "code",
   "execution_count": null,
   "metadata": {
    "collapsed": false
   },
   "outputs": [],
   "source": [
    "for x in turns.event_value[900:1000]:\n",
    "    try:\n",
    "        turns.event_value[turns.event_value == x] = turns.event_value[turns.event_value == x].map(lambda y: float(y))\n",
    "    except ValueError:\n",
    "        pass"
   ]
  },
  {
   "cell_type": "code",
   "execution_count": null,
   "metadata": {
    "collapsed": false,
    "scrolled": true
   },
   "outputs": [],
   "source": [
    "turns"
   ]
  },
  {
   "cell_type": "code",
   "execution_count": null,
   "metadata": {
    "collapsed": false
   },
   "outputs": [],
   "source": [
    "df_pivot = df.pivot_table(index = 'game_id', columns=['event_key', 'player'], values='event_value', aggfunc=lambda x: ' '.join(x))\n",
    "df_pivot.head()"
   ]
  },
  {
   "cell_type": "code",
   "execution_count": null,
   "metadata": {
    "collapsed": false
   },
   "outputs": [],
   "source": [
    "def normalize(row):\n",
    "    print eval(row.event_value)\n",
    "    row['dave'] = 2\n",
    "    return row\n",
    "\n",
    "df.head(2).apply(normalize, axis = 1)"
   ]
  },
  {
   "cell_type": "code",
   "execution_count": null,
   "metadata": {
    "collapsed": true
   },
   "outputs": [],
   "source": []
  }
 ],
 "metadata": {
  "kernelspec": {
   "display_name": "Python 2",
   "language": "python",
   "name": "python2"
  },
  "language_info": {
   "codemirror_mode": {
    "name": "ipython",
    "version": 2
   },
   "file_extension": ".py",
   "mimetype": "text/x-python",
   "name": "python",
   "nbconvert_exporter": "python",
   "pygments_lexer": "ipython2",
   "version": "2.7.11"
  }
 },
 "nbformat": 4,
 "nbformat_minor": 0
}
