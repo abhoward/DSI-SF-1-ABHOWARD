{
 "cells": [
  {
   "cell_type": "code",
   "execution_count": 1,
   "metadata": {
    "collapsed": false,
    "scrolled": true
   },
   "outputs": [
    {
     "name": "stdout",
     "output_type": "stream",
     "text": [
      "[{'player': 'player1', 'timestamp': '2016-06-10 13:33:54:076581', 'event_key': 'deck', 'event_value': \"['OG_249', 'AT_098', 'GVG_082', 'OG_122', 'CS2_118', 'CS2_201', 'AT_090', 'EX1_017', 'EX1_093', 'OG_150', 'AT_115', 'EX1_595', 'GVG_071', 'CS2_231', 'AT_123', 'EX1_582', 'OG_034', 'CS2_182', 'CS2_117', 'OG_200', 'AT_088', 'OG_280', 'OG_131', 'EX1_284', 'EX1_032', 'CS2_127', 'FP1_002', 'AT_129', 'AT_118', 'EX1_249']\", 'game_id': 100}]\n",
      "[{'player': 'player1', 'timestamp': '2016-06-10 13:33:54:121713', 'event_key': 'deck_cost', 'event_value': '4.46666666667', 'game_id': 100}]\n",
      "[{'player': 'player1', 'timestamp': '2016-06-10 13:33:54:155735', 'event_key': 'num_minions', 'event_value': '30', 'game_id': 100}]\n",
      "[{'player': 'player1', 'timestamp': '2016-06-10 13:33:54:199788', 'event_key': 'num_spells', 'event_value': '0', 'game_id': 100}]\n",
      "[{'player': 'player1', 'timestamp': '2016-06-10 13:33:54:240825', 'event_key': 'num_weapons', 'event_value': '0', 'game_id': 100}]\n",
      "[{'player': 'player2', 'timestamp': '2016-06-10 13:33:54:277843', 'event_key': 'deck', 'event_value': \"['BRM_033', 'EX1_044', 'GVG_095', 'CS2_203', 'OG_131', 'NEW1_022', 'OG_082', 'EX1_577', 'GVG_105', 'AT_098', 'GVG_078', 'EX1_019', 'GVG_105', 'EX1_561', 'NEW1_020', 'CS2_231', 'EX1_557', 'AT_098', 'OG_151', 'LOE_038', 'CS2_162', 'OG_337', 'EX1_057', 'EX1_008', 'AT_092', 'CS2_120', 'GVG_118', 'GVG_009', 'LOE_086', 'CS2_161']\", 'game_id': 100}]\n",
      "[{'player': 'player2', 'timestamp': '2016-06-10 13:33:54:318872', 'event_key': 'deck_cost', 'event_value': '4.1', 'game_id': 100}]\n",
      "[{'player': 'player2', 'timestamp': '2016-06-10 13:33:54:354898', 'event_key': 'num_minions', 'event_value': '30', 'game_id': 100}]\n",
      "[{'player': 'player2', 'timestamp': '2016-06-10 13:33:54:391940', 'event_key': 'num_spells', 'event_value': '0', 'game_id': 100}]\n",
      "[{'player': 'player2', 'timestamp': '2016-06-10 13:33:54:430955', 'event_key': 'num_weapons', 'event_value': '0', 'game_id': 100}]\n",
      "[{'player': 'player1', 'timestamp': '2016-06-10 13:33:54:466978', 'event_key': 'player1_class', 'event_value': 'CardClass.HUNTER', 'game_id': 100}]\n",
      "[{'player': 'player2', 'timestamp': '2016-06-10 13:33:54:506006', 'event_key': 'player2_class', 'event_value': 'CardClass.PRIEST', 'game_id': 100}]\n",
      "[{'player': 'Player2', 'timestamp': '2016-06-10 13:33:54:537028', 'event_key': 'first_player', 'event_value': 'Player2', 'game_id': 100}]\n",
      "Can mulligan [<Minion (\"Twin Emperor Vek'lor\")>, <Minion ('Azure Drake')>, <Minion ('Silithid Swarmer')>, <Minion ('Wisp')>]\n"
     ]
    },
    {
     "ename": "AttributeError",
     "evalue": "'CardList' object has no attribute 'id'",
     "output_type": "error",
     "traceback": [
      "\u001b[1;31m---------------------------------------------------------------------------\u001b[0m",
      "\u001b[1;31mAttributeError\u001b[0m                            Traceback (most recent call last)",
      "\u001b[1;32m<ipython-input-1-a8ac10477620>\u001b[0m in \u001b[0;36m<module>\u001b[1;34m()\u001b[0m\n\u001b[0;32m     17\u001b[0m \u001b[1;33m\u001b[0m\u001b[0m\n\u001b[0;32m     18\u001b[0m \u001b[1;32mif\u001b[0m \u001b[0m__name__\u001b[0m \u001b[1;33m==\u001b[0m \u001b[1;34m\"__main__\"\u001b[0m\u001b[1;33m:\u001b[0m\u001b[1;33m\u001b[0m\u001b[0m\n\u001b[1;32m---> 19\u001b[1;33m     \u001b[0mmain\u001b[0m\u001b[1;33m(\u001b[0m\u001b[1;36m1\u001b[0m\u001b[1;33m)\u001b[0m\u001b[1;33m\u001b[0m\u001b[0m\n\u001b[0m",
      "\u001b[1;32m<ipython-input-1-a8ac10477620>\u001b[0m in \u001b[0;36mmain\u001b[1;34m(numgames)\u001b[0m\n\u001b[0;32m     14\u001b[0m     \u001b[0mcards\u001b[0m\u001b[1;33m.\u001b[0m\u001b[0mdb\u001b[0m\u001b[1;33m.\u001b[0m\u001b[0minitialize\u001b[0m\u001b[1;33m(\u001b[0m\u001b[1;33m)\u001b[0m\u001b[1;33m\u001b[0m\u001b[0m\n\u001b[0;32m     15\u001b[0m     \u001b[1;32mfor\u001b[0m \u001b[0mi\u001b[0m \u001b[1;32min\u001b[0m \u001b[0mrange\u001b[0m\u001b[1;33m(\u001b[0m\u001b[0mint\u001b[0m\u001b[1;33m(\u001b[0m\u001b[0mnumgames\u001b[0m\u001b[1;33m)\u001b[0m\u001b[1;33m)\u001b[0m\u001b[1;33m:\u001b[0m\u001b[1;33m\u001b[0m\u001b[0m\n\u001b[1;32m---> 16\u001b[1;33m         \u001b[0mtest_full_game\u001b[0m\u001b[1;33m(\u001b[0m\u001b[1;33m)\u001b[0m\u001b[1;33m\u001b[0m\u001b[0m\n\u001b[0m\u001b[0;32m     17\u001b[0m \u001b[1;33m\u001b[0m\u001b[0m\n\u001b[0;32m     18\u001b[0m \u001b[1;32mif\u001b[0m \u001b[0m__name__\u001b[0m \u001b[1;33m==\u001b[0m \u001b[1;34m\"__main__\"\u001b[0m\u001b[1;33m:\u001b[0m\u001b[1;33m\u001b[0m\u001b[0m\n",
      "\u001b[1;32m<ipython-input-1-a8ac10477620>\u001b[0m in \u001b[0;36mtest_full_game\u001b[1;34m()\u001b[0m\n\u001b[0;32m      7\u001b[0m \u001b[1;32mdef\u001b[0m \u001b[0mtest_full_game\u001b[0m\u001b[1;33m(\u001b[0m\u001b[1;33m)\u001b[0m\u001b[1;33m:\u001b[0m\u001b[1;33m\u001b[0m\u001b[0m\n\u001b[0;32m      8\u001b[0m     \u001b[1;32mtry\u001b[0m\u001b[1;33m:\u001b[0m\u001b[1;33m\u001b[0m\u001b[0m\n\u001b[1;32m----> 9\u001b[1;33m         \u001b[0mgame\u001b[0m \u001b[1;33m=\u001b[0m \u001b[0mplay_full_game\u001b[0m\u001b[1;33m(\u001b[0m\u001b[1;33m)\u001b[0m\u001b[1;33m\u001b[0m\u001b[0m\n\u001b[0m\u001b[0;32m     10\u001b[0m     \u001b[1;32mexcept\u001b[0m \u001b[0mGameOver\u001b[0m\u001b[1;33m:\u001b[0m\u001b[1;33m\u001b[0m\u001b[0m\n\u001b[0;32m     11\u001b[0m         \u001b[0mprint\u001b[0m\u001b[1;33m(\u001b[0m\u001b[1;34m\"Game completed normally.\"\u001b[0m\u001b[1;33m)\u001b[0m\u001b[1;33m\u001b[0m\u001b[0m\n",
      "\u001b[1;32mC:\\Users\\Owner\\Documents\\DSI-SF-1-ABHOWARD\\projects\\capstone\\fireplace\\fireplace-master\\fireplace\\utils.py\u001b[0m in \u001b[0;36mplay_full_game\u001b[1;34m()\u001b[0m\n\u001b[0;32m    268\u001b[0m                 \u001b[0mlog\u001b[0m\u001b[1;33m.\u001b[0m\u001b[0minfo\u001b[0m\u001b[1;33m(\u001b[0m\u001b[1;34m\"Can mulligan %r\"\u001b[0m \u001b[1;33m%\u001b[0m \u001b[1;33m(\u001b[0m\u001b[0mplayer\u001b[0m\u001b[1;33m.\u001b[0m\u001b[0mchoice\u001b[0m\u001b[1;33m.\u001b[0m\u001b[0mcards\u001b[0m\u001b[1;33m)\u001b[0m\u001b[1;33m)\u001b[0m\u001b[1;33m\u001b[0m\u001b[0m\n\u001b[0;32m    269\u001b[0m                 \u001b[0mmull_count\u001b[0m \u001b[1;33m=\u001b[0m \u001b[0mrandom\u001b[0m\u001b[1;33m.\u001b[0m\u001b[0mrandint\u001b[0m\u001b[1;33m(\u001b[0m\u001b[1;36m0\u001b[0m\u001b[1;33m,\u001b[0m \u001b[0mlen\u001b[0m\u001b[1;33m(\u001b[0m\u001b[0mplayer\u001b[0m\u001b[1;33m.\u001b[0m\u001b[0mchoice\u001b[0m\u001b[1;33m.\u001b[0m\u001b[0mcards\u001b[0m\u001b[1;33m)\u001b[0m\u001b[1;33m)\u001b[0m\u001b[1;33m\u001b[0m\u001b[0m\n\u001b[1;32m--> 270\u001b[1;33m                 \u001b[0mcards_to_mulligan\u001b[0m \u001b[1;33m=\u001b[0m \u001b[0mrandom\u001b[0m\u001b[1;33m.\u001b[0m\u001b[0msample\u001b[0m\u001b[1;33m(\u001b[0m\u001b[0mplayer\u001b[0m\u001b[1;33m.\u001b[0m\u001b[0mchoice\u001b[0m\u001b[1;33m.\u001b[0m\u001b[0mcards\u001b[0m\u001b[1;33m.\u001b[0m\u001b[0mid\u001b[0m\u001b[1;33m,\u001b[0m \u001b[0mmull_count\u001b[0m\u001b[1;33m)\u001b[0m\u001b[1;33m\u001b[0m\u001b[0m\n\u001b[0m\u001b[0;32m    271\u001b[0m                 \u001b[0mcards_to_keep\u001b[0m \u001b[1;33m=\u001b[0m \u001b[1;33m[\u001b[0m\u001b[0mx\u001b[0m \u001b[1;32mfor\u001b[0m \u001b[0mx\u001b[0m \u001b[1;32min\u001b[0m \u001b[0mlist\u001b[0m\u001b[1;33m(\u001b[0m\u001b[0mplayer\u001b[0m\u001b[1;33m.\u001b[0m\u001b[0mchoice\u001b[0m\u001b[1;33m.\u001b[0m\u001b[0mcards\u001b[0m\u001b[1;33m.\u001b[0m\u001b[0mid\u001b[0m\u001b[1;33m)\u001b[0m \u001b[1;32mif\u001b[0m \u001b[0mx\u001b[0m \u001b[1;32mnot\u001b[0m \u001b[1;32min\u001b[0m \u001b[0mcards_to_mulligan\u001b[0m\u001b[1;33m]\u001b[0m\u001b[1;33m\u001b[0m\u001b[0m\n\u001b[0;32m    272\u001b[0m                 \u001b[0mplayer\u001b[0m\u001b[1;33m.\u001b[0m\u001b[0mchoice\u001b[0m\u001b[1;33m.\u001b[0m\u001b[0mchoose\u001b[0m\u001b[1;33m(\u001b[0m\u001b[1;33m*\u001b[0m\u001b[0mcards_to_mulligan\u001b[0m\u001b[1;33m)\u001b[0m\u001b[1;33m\u001b[0m\u001b[0m\n",
      "\u001b[1;31mAttributeError\u001b[0m: 'CardList' object has no attribute 'id'"
     ]
    }
   ],
   "source": [
    "#!/usr/bin/env python\n",
    "import sys; sys.path.append(\"..\")\n",
    "from fireplace import cards\n",
    "from fireplace.exceptions import GameOver\n",
    "from fireplace.utils import play_full_game\n",
    "\n",
    "def test_full_game():\n",
    "    try:\n",
    "        game = play_full_game()\n",
    "    except GameOver:\n",
    "        print(\"Game completed normally.\")\n",
    "\n",
    "def main(numgames):\n",
    "    cards.db.initialize()\n",
    "    for i in range(int(numgames)):\n",
    "        test_full_game()\n",
    "\n",
    "if __name__ == \"__main__\":\n",
    "    main(1)"
   ]
  },
  {
   "cell_type": "code",
   "execution_count": null,
   "metadata": {
    "collapsed": true
   },
   "outputs": [],
   "source": []
  }
 ],
 "metadata": {
  "kernelspec": {
   "display_name": "Python 3",
   "language": "python",
   "name": "python3"
  },
  "language_info": {
   "codemirror_mode": {
    "name": "ipython",
    "version": 3
   },
   "file_extension": ".py",
   "mimetype": "text/x-python",
   "name": "python",
   "nbconvert_exporter": "python",
   "pygments_lexer": "ipython3",
   "version": "3.5.1"
  }
 },
 "nbformat": 4,
 "nbformat_minor": 0
}
