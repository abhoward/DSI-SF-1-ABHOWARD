{
 "cells": [
  {
   "cell_type": "code",
   "execution_count": 3,
   "metadata": {
    "collapsed": false,
    "scrolled": true
   },
   "outputs": [
    {
     "name": "stdout",
     "output_type": "stream",
     "text": [
      "Creating new game:  4bf4adc0-3967-11e6-a143-fcf8aed86bba\n",
      "Creating new game:  da83bc21-3967-11e6-b0f6-fcf8aed86bba\n",
      "Game completed normally.\n"
     ]
    }
   ],
   "source": [
    "#!/usr/bin/env python\n",
    "import sys; sys.path.append(\"..\")\n",
    "from fireplace import cards\n",
    "from fireplace.exceptions import GameOver\n",
    "from fireplace.utils import play_full_game\n",
    "from fireplace.http_logger import http_logger\n",
    "\n",
    "def test_full_game():\n",
    "    try:\n",
    "        df_logger = http_logger()\n",
    "        game = play_full_game()\n",
    "    except GameOver:\n",
    "        print(\"Game completed normally.\")\n",
    "\n",
    "def main(numgames):\n",
    "    cards.db.initialize()\n",
    "    for i in range(int(numgames)):\n",
    "        test_full_game()\n",
    "\n",
    "if __name__ == \"__main__\":\n",
    "    main(1)"
   ]
  },
  {
   "cell_type": "code",
   "execution_count": null,
   "metadata": {
    "collapsed": true
   },
   "outputs": [],
   "source": []
  }
 ],
 "metadata": {
  "kernelspec": {
   "display_name": "Python 3",
   "language": "python",
   "name": "python3"
  },
  "language_info": {
   "codemirror_mode": {
    "name": "ipython",
    "version": 3
   },
   "file_extension": ".py",
   "mimetype": "text/x-python",
   "name": "python",
   "nbconvert_exporter": "python",
   "pygments_lexer": "ipython3",
   "version": "3.5.1"
  }
 },
 "nbformat": 4,
 "nbformat_minor": 0
}
