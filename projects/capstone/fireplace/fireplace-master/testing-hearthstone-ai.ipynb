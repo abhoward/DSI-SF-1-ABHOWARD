{
 "cells": [
  {
   "cell_type": "code",
   "execution_count": 1,
   "metadata": {
    "collapsed": false,
    "scrolled": true
   },
   "outputs": [
    {
     "name": "stderr",
     "output_type": "stream",
     "text": [
      "[fireplace.__init__]: Initializing card database\n",
      "[fireplace.__init__]: Merged 2253 cards\n",
      "[fireplace.entity]: Setting up game Game(players=(Player(name='Player1', hero=None), Player(name='Player2', hero=None)))\n",
      "[fireplace.entity]: Tossing the coin... Player2 wins!\n"
     ]
    },
    {
     "name": "stdout",
     "output_type": "stream",
     "text": [
      "[{'timestamp': datetime.datetime(2016, 6, 3, 17, 35, 19, 323173), 'game_id': 3, 'event_value': 'CardClass.MAGE', 'event_key': 'player1_class', 'player': 'Player1'}]\n",
      "[{'timestamp': datetime.datetime(2016, 6, 3, 17, 35, 19, 432451), 'game_id': 3, 'event_value': 'CardClass.ROGUE', 'event_key': 'player2_class', 'player': 'Player2'}]\n",
      "[{'timestamp': datetime.datetime(2016, 6, 3, 17, 35, 19, 488457), 'game_id': 3, 'event_value': 'Player2', 'event_key': 'first_player', 'player': 'Player2'}]\n"
     ]
    },
    {
     "name": "stderr",
     "output_type": "stream",
     "text": [
      "[fireplace.actions]: Player(name='Player1', hero=<Hero ('Jaina Proudmoore')>) triggering <TargetedAction: Summon(<Summon.CARD>=<HeroPower ('Fireblast')>)> targeting [Player(name='Player1', hero=<Hero ('Jaina Proudmoore')>)]\n",
      "[fireplace.actions]: Player1 summons [<HeroPower ('Fireblast')>]\n",
      "[fireplace.entity]: Empty stack, refreshing auras and processing deaths\n",
      "[fireplace.actions]: Player(name='Player1', hero=<Hero ('Jaina Proudmoore')>) triggering <TargetedAction: Summon(<Summon.CARD>=<Hero ('Jaina Proudmoore')>)> targeting [Player(name='Player1', hero=<Hero ('Jaina Proudmoore')>)]\n",
      "[fireplace.actions]: Player1 summons [<Hero ('Jaina Proudmoore')>]\n",
      "[fireplace.entity]: Empty stack, refreshing auras and processing deaths\n",
      "[fireplace.entity]: Player(name='Player1', hero=<Hero ('Jaina Proudmoore')>) shuffles their deck\n",
      "[fireplace.card]: <Secret ('Counterspell')> moves from <Zone.DECK: 2> to <Zone.HAND: 3>\n",
      "[fireplace.card]: <Minion ('Mad Scientist')> moves from <Zone.DECK: 2> to <Zone.HAND: 3>\n",
      "[fireplace.card]: <Minion ('Murloc Tinyfin')> moves from <Zone.DECK: 2> to <Zone.HAND: 3>\n",
      "[fireplace.card]: <Minion ('Chillwind Yeti')> moves from <Zone.DECK: 2> to <Zone.HAND: 3>\n",
      "[fireplace.actions]: Player(name='Player2', hero=<Hero ('Valeera Sanguinar')>) triggering <TargetedAction: Summon(<Summon.CARD>=<HeroPower ('Dagger Mastery')>)> targeting [Player(name='Player2', hero=<Hero ('Valeera Sanguinar')>)]\n",
      "[fireplace.actions]: Player2 summons [<HeroPower ('Dagger Mastery')>]\n",
      "[fireplace.entity]: Empty stack, refreshing auras and processing deaths\n",
      "[fireplace.actions]: Player(name='Player2', hero=<Hero ('Valeera Sanguinar')>) triggering <TargetedAction: Summon(<Summon.CARD>=<Hero ('Valeera Sanguinar')>)> targeting [Player(name='Player2', hero=<Hero ('Valeera Sanguinar')>)]\n",
      "[fireplace.actions]: Player2 summons [<Hero ('Valeera Sanguinar')>]\n",
      "[fireplace.entity]: Empty stack, refreshing auras and processing deaths\n",
      "[fireplace.entity]: Player(name='Player2', hero=<Hero ('Valeera Sanguinar')>) shuffles their deck\n",
      "[fireplace.card]: <Minion ('Cult Master')> moves from <Zone.DECK: 2> to <Zone.HAND: 3>\n",
      "[fireplace.card]: <Minion ('Validated Doomsayer')> moves from <Zone.DECK: 2> to <Zone.HAND: 3>\n",
      "[fireplace.card]: <Minion ('The Beast')> moves from <Zone.DECK: 2> to <Zone.HAND: 3>\n",
      "[fireplace.entity]: Entering mulligan phase\n",
      "[fireplace.utils]: Can mulligan [<Secret ('Counterspell')>, <Minion ('Mad Scientist')>, <Minion ('Murloc Tinyfin')>, <Minion ('Chillwind Yeti')>]\n",
      "[fireplace.actions]: Player(name='Player1', hero=<Hero ('Jaina Proudmoore')>) triggering <TargetedAction: Draw()> targeting [Player(name='Player1', hero=<Hero ('Jaina Proudmoore')>)]\n",
      "[fireplace.entity]: Player1 draws <Minion ('Reno Jackson')>\n",
      "[fireplace.card]: <Minion ('Reno Jackson')> moves from <Zone.DECK: 2> to <Zone.HAND: 3>\n",
      "[fireplace.actions]: Player(name='Player1', hero=<Hero ('Jaina Proudmoore')>) triggering <TargetedAction: Draw()> targeting [Player(name='Player1', hero=<Hero ('Jaina Proudmoore')>)]\n",
      "[fireplace.entity]: Player1 draws <Spell ('Echo of Medivh')>\n",
      "[fireplace.card]: <Spell ('Echo of Medivh')> moves from <Zone.DECK: 2> to <Zone.HAND: 3>\n",
      "[fireplace.actions]: Player(name='Player1', hero=<Hero ('Jaina Proudmoore')>) triggering <TargetedAction: Draw()> targeting [Player(name='Player1', hero=<Hero ('Jaina Proudmoore')>)]\n",
      "[fireplace.entity]: Player1 draws <Minion ('Brann Bronzebeard')>\n",
      "[fireplace.card]: <Minion ('Brann Bronzebeard')> moves from <Zone.DECK: 2> to <Zone.HAND: 3>\n",
      "[fireplace.entity]: Empty stack, refreshing auras and processing deaths\n",
      "[fireplace.card]: <Minion ('Mad Scientist')> moves from <Zone.HAND: 3> to <Zone.DECK: 2>\n",
      "[fireplace.card]: <Minion ('Chillwind Yeti')> moves from <Zone.HAND: 3> to <Zone.DECK: 2>\n",
      "[fireplace.card]: <Minion ('Murloc Tinyfin')> moves from <Zone.HAND: 3> to <Zone.DECK: 2>\n",
      "[fireplace.entity]: Player(name='Player1', hero=<Hero ('Jaina Proudmoore')>) shuffles their deck\n",
      "[fireplace.utils]: Can mulligan [<Minion ('Cult Master')>, <Minion ('Validated Doomsayer')>, <Minion ('The Beast')>]\n",
      "[fireplace.actions]: Player(name='Player2', hero=<Hero ('Valeera Sanguinar')>) triggering <TargetedAction: Draw()> targeting [Player(name='Player2', hero=<Hero ('Valeera Sanguinar')>)]\n",
      "[fireplace.entity]: Player2 draws <Minion ('Mana Wraith')>\n",
      "[fireplace.card]: <Minion ('Mana Wraith')> moves from <Zone.DECK: 2> to <Zone.HAND: 3>\n",
      "[fireplace.actions]: Player(name='Player2', hero=<Hero ('Valeera Sanguinar')>) triggering <TargetedAction: Draw()> targeting [Player(name='Player2', hero=<Hero ('Valeera Sanguinar')>)]\n",
      "[fireplace.entity]: Player2 draws <Spell ('Shiv')>\n",
      "[fireplace.card]: <Spell ('Shiv')> moves from <Zone.DECK: 2> to <Zone.HAND: 3>\n",
      "[fireplace.entity]: Empty stack, refreshing auras and processing deaths\n"
     ]
    },
    {
     "name": "stdout",
     "output_type": "stream",
     "text": [
      "Can mulligan [<Secret ('Counterspell')>, <Minion ('Mad Scientist')>, <Minion ('Murloc Tinyfin')>, <Minion ('Chillwind Yeti')>]\n",
      "[{'timestamp': datetime.datetime(2016, 6, 3, 17, 35, 19, 812477), 'game_id': 3, 'event_value': \"[<Minion ('Mad Scientist')>, <Minion ('Chillwind Yeti')>, <Minion ('Murloc Tinyfin')>]\", 'event_key': 'cards_mulliganed', 'player': 'Player1'}]\n",
      "[{'timestamp': datetime.datetime(2016, 6, 3, 17, 35, 19, 848482), 'game_id': 3, 'event_value': \"[<Secret ('Counterspell')>]\", 'event_key': 'cards_kept', 'player': 'Player1'}]\n",
      "Can mulligan [<Minion ('Cult Master')>, <Minion ('Validated Doomsayer')>, <Minion ('The Beast')>]\n"
     ]
    },
    {
     "name": "stderr",
     "output_type": "stream",
     "text": [
      "[fireplace.card]: <Minion ('Cult Master')> moves from <Zone.HAND: 3> to <Zone.DECK: 2>\n",
      "[fireplace.card]: <Minion ('The Beast')> moves from <Zone.HAND: 3> to <Zone.DECK: 2>\n",
      "[fireplace.entity]: Player(name='Player2', hero=<Hero ('Valeera Sanguinar')>) shuffles their deck\n",
      "[fireplace.entity]: Player1 gets The Coin (GAME_005)\n",
      "[fireplace.actions]: Player(name='Player1', hero=<Hero ('Jaina Proudmoore')>) triggering <TargetedAction: Give(<Give.CARD>='GAME_005')> targeting [Player(name='Player1', hero=<Hero ('Jaina Proudmoore')>)]\n",
      "[fireplace.actions]: Giving [<Spell ('The Coin')>] to Player1\n",
      "[fireplace.card]: <Spell ('The Coin')> moves from <Zone.SETASIDE: 6> to <Zone.HAND: 3>\n",
      "[fireplace.entity]: Empty stack, refreshing auras and processing deaths\n",
      "[fireplace.entity]: Player2 begins turn 1\n",
      "[fireplace.entity]: Player2 is now at 1 mana crystals\n",
      "[fireplace.actions]: Player(name='Player2', hero=<Hero ('Valeera Sanguinar')>) triggering <TargetedAction: Draw()> targeting [Player(name='Player2', hero=<Hero ('Valeera Sanguinar')>)]\n",
      "[fireplace.entity]: Player2 draws <Minion (\"Nerub'ar Weblord\")>\n",
      "[fireplace.card]: <Minion (\"Nerub'ar Weblord\")> moves from <Zone.DECK: 2> to <Zone.HAND: 3>\n",
      "[fireplace.entity]: Empty stack, refreshing auras and processing deaths\n",
      "[fireplace.entity]: Player2 ends turn 1\n"
     ]
    },
    {
     "name": "stdout",
     "output_type": "stream",
     "text": [
      "[{'timestamp': datetime.datetime(2016, 6, 3, 17, 35, 19, 976504), 'game_id': 3, 'event_value': '1', 'event_key': 'turn_begins', 'player': 'Player2'}]\n",
      "[{'timestamp': datetime.datetime(2016, 6, 3, 17, 35, 20, 20507), 'game_id': 3, 'event_value': '1', 'event_key': 'max_mana', 'player': 'Player2'}]\n",
      "[{'timestamp': datetime.datetime(2016, 6, 3, 17, 35, 20, 88495), 'game_id': 3, 'event_value': \"[<Minion ('Cult Master')>, <Minion ('The Beast')>]\", 'event_key': 'cards_mulliganed', 'player': 'Player2'}]\n",
      "[{'timestamp': datetime.datetime(2016, 6, 3, 17, 35, 20, 128500), 'game_id': 3, 'event_value': \"[<Minion ('Validated Doomsayer')>]\", 'event_key': 'cards_kept', 'player': 'Player2'}]\n",
      "[{'timestamp': datetime.datetime(2016, 6, 3, 17, 35, 20, 176504), 'game_id': 3, 'event_value': '1', 'event_key': 'turn_end', 'player': 'Player2'}]\n"
     ]
    },
    {
     "name": "stderr",
     "output_type": "stream",
     "text": [
      "[fireplace.entity]: Player1 begins turn 2\n",
      "[fireplace.entity]: Player1 is now at 1 mana crystals\n",
      "[fireplace.actions]: Player(name='Player1', hero=<Hero ('Jaina Proudmoore')>) triggering <TargetedAction: Draw()> targeting [Player(name='Player1', hero=<Hero ('Jaina Proudmoore')>)]\n",
      "[fireplace.entity]: Player1 draws <Minion ('Murloc Tinyfin')>\n",
      "[fireplace.card]: <Minion ('Murloc Tinyfin')> moves from <Zone.DECK: 2> to <Zone.HAND: 3>\n",
      "[fireplace.entity]: Empty stack, refreshing auras and processing deaths\n",
      "[fireplace.utils]: Playing <Minion ('Murloc Tinyfin')> on None\n",
      "[fireplace.actions]: Player1 plays <Minion ('Murloc Tinyfin')> (target=None, index=None)\n",
      "[fireplace.entity]: Player1 pays 0 mana\n",
      "[fireplace.card]: <Minion ('Murloc Tinyfin')> moves from <Zone.HAND: 3> to <Zone.PLAY: 1>\n",
      "[fireplace.actions]: <Minion ('Murloc Tinyfin')> triggering <TargetedAction: Battlecry(<Battlecry.TARGET>=None)> targeting [<Minion ('Murloc Tinyfin')>]\n",
      "[fireplace.actions]: Activating <Minion ('Murloc Tinyfin')> action targeting None\n",
      "[fireplace.entity]: Empty stack, refreshing auras and processing deaths\n",
      "[fireplace.entity]: Empty stack, refreshing auras and processing deaths\n",
      "[fireplace.entity]: Player1 ends turn 2\n"
     ]
    },
    {
     "name": "stdout",
     "output_type": "stream",
     "text": [
      "[{'timestamp': datetime.datetime(2016, 6, 3, 17, 35, 20, 220511), 'game_id': 3, 'event_value': '2', 'event_key': 'turn_begins', 'player': 'Player1'}]\n",
      "[{'timestamp': datetime.datetime(2016, 6, 3, 17, 35, 20, 264512), 'game_id': 3, 'event_value': '1', 'event_key': 'max_mana', 'player': 'Player1'}]\n",
      "Playing <Minion ('Murloc Tinyfin')> on None\n",
      "[{'timestamp': datetime.datetime(2016, 6, 3, 17, 35, 20, 340515), 'game_id': 3, 'event_value': '0', 'event_key': 'mana_spent', 'player': 'Player1'}]\n",
      "[{'timestamp': datetime.datetime(2016, 6, 3, 17, 35, 20, 416517), 'game_id': 3, 'event_value': '2', 'event_key': 'turn_end', 'player': 'Player1'}]\n"
     ]
    },
    {
     "name": "stderr",
     "output_type": "stream",
     "text": [
      "[fireplace.entity]: Player2 begins turn 3\n",
      "[fireplace.entity]: Player2 is now at 2 mana crystals\n",
      "[fireplace.actions]: Player(name='Player2', hero=<Hero ('Valeera Sanguinar')>) triggering <TargetedAction: Draw()> targeting [Player(name='Player2', hero=<Hero ('Valeera Sanguinar')>)]\n",
      "[fireplace.entity]: Player2 draws <Minion ('Doomsayer')>\n",
      "[fireplace.card]: <Minion ('Doomsayer')> moves from <Zone.DECK: 2> to <Zone.HAND: 3>\n",
      "[fireplace.entity]: Empty stack, refreshing auras and processing deaths\n",
      "[fireplace.utils]: Playing <Minion ('Mana Wraith')> on None\n",
      "[fireplace.actions]: Player2 plays <Minion ('Mana Wraith')> (target=None, index=None)\n",
      "[fireplace.entity]: Player2 pays 2 mana\n",
      "[fireplace.card]: <Minion ('Mana Wraith')> moves from <Zone.HAND: 3> to <Zone.PLAY: 1>\n",
      "[fireplace.actions]: <Minion ('Mana Wraith')> triggering <TargetedAction: Battlecry(<Battlecry.TARGET>=None)> targeting [<Minion ('Mana Wraith')>]\n",
      "[fireplace.actions]: Activating <Minion ('Mana Wraith')> action targeting None\n",
      "[fireplace.entity]: Empty stack, refreshing auras and processing deaths\n",
      "[fireplace.aura]: Creating <AuraBuff <Minion ('Mana Wraith')> -> <Minion ('Reno Jackson')>>\n"
     ]
    },
    {
     "name": "stdout",
     "output_type": "stream",
     "text": [
      "[{'timestamp': datetime.datetime(2016, 6, 3, 17, 35, 20, 456538), 'game_id': 3, 'event_value': '3', 'event_key': 'turn_begins', 'player': 'Player2'}]\n",
      "[{'timestamp': datetime.datetime(2016, 6, 3, 17, 35, 20, 508524), 'game_id': 3, 'event_value': '2', 'event_key': 'max_mana', 'player': 'Player2'}]\n",
      "Playing <Minion ('Mana Wraith')> on None\n",
      "[{'timestamp': datetime.datetime(2016, 6, 3, 17, 35, 20, 596534), 'game_id': 3, 'event_value': '2', 'event_key': 'mana_spent', 'player': 'Player2'}]\n"
     ]
    },
    {
     "name": "stderr",
     "output_type": "stream",
     "text": [
      "[fireplace.aura]: Creating <AuraBuff <Minion ('Mana Wraith')> -> <Minion ('Brann Bronzebeard')>>\n",
      "[fireplace.aura]: Creating <AuraBuff <Minion ('Mana Wraith')> -> <Minion ('Validated Doomsayer')>>\n",
      "[fireplace.aura]: Creating <AuraBuff <Minion ('Mana Wraith')> -> <Minion (\"Nerub'ar Weblord\")>>\n",
      "[fireplace.aura]: Creating <AuraBuff <Minion ('Mana Wraith')> -> <Minion ('Doomsayer')>>\n",
      "[fireplace.entity]: Empty stack, refreshing auras and processing deaths\n",
      "[fireplace.entity]: Player2 ends turn 3\n",
      "[fireplace.entity]: Player1 begins turn 4\n",
      "[fireplace.entity]: Player1 is now at 2 mana crystals\n",
      "[fireplace.actions]: Player(name='Player1', hero=<Hero ('Jaina Proudmoore')>) triggering <TargetedAction: Draw()> targeting [Player(name='Player1', hero=<Hero ('Jaina Proudmoore')>)]\n",
      "[fireplace.entity]: Player1 draws <Minion ('Hungry Crab')>\n",
      "[fireplace.card]: <Minion ('Hungry Crab')> moves from <Zone.DECK: 2> to <Zone.HAND: 3>\n",
      "[fireplace.entity]: Empty stack, refreshing auras and processing deaths\n",
      "[fireplace.aura]: Creating <AuraBuff <Minion ('Mana Wraith')> -> <Minion ('Hungry Crab')>>\n",
      "[fireplace.utils]: Playing <Spell ('The Coin')> on None\n",
      "[fireplace.actions]: Player1 plays <Spell ('The Coin')> (target=None, index=None)\n",
      "[fireplace.entity]: Player1 pays 0 mana\n"
     ]
    },
    {
     "name": "stdout",
     "output_type": "stream",
     "text": [
      "[{'timestamp': datetime.datetime(2016, 6, 3, 17, 35, 20, 696554), 'game_id': 3, 'event_value': '3', 'event_key': 'turn_end', 'player': 'Player2'}]\n",
      "[{'timestamp': datetime.datetime(2016, 6, 3, 17, 35, 20, 732557), 'game_id': 3, 'event_value': '4', 'event_key': 'turn_begins', 'player': 'Player1'}]\n",
      "[{'timestamp': datetime.datetime(2016, 6, 3, 17, 35, 20, 780544), 'game_id': 3, 'event_value': '2', 'event_key': 'max_mana', 'player': 'Player1'}]\n",
      "Playing <Spell ('The Coin')> on None\n",
      "[{'timestamp': datetime.datetime(2016, 6, 3, 17, 35, 20, 868555), 'game_id': 3, 'event_value': '0', 'event_key': 'mana_spent', 'player': 'Player1'}]\n"
     ]
    },
    {
     "name": "stderr",
     "output_type": "stream",
     "text": [
      "[fireplace.card]: <Spell ('The Coin')> moves from <Zone.HAND: 3> to <Zone.PLAY: 1>\n",
      "[fireplace.actions]: <Spell ('The Coin')> triggering <TargetedAction: Battlecry(<Battlecry.TARGET>=None)> targeting [<Spell ('The Coin')>]\n",
      "[fireplace.actions]: Activating <Spell ('The Coin')> action targeting None\n",
      "[fireplace.actions]: <Spell ('The Coin')> triggering <TargetedAction: ManaThisTurn(<ManaThisTurn.AMOUNT>=1)> targeting [Player(name='Player1', hero=<Hero ('Jaina Proudmoore')>)]\n",
      "[fireplace.entity]: Empty stack, refreshing auras and processing deaths\n",
      "[fireplace.entity]: Empty stack, refreshing auras and processing deaths\n",
      "[fireplace.actions]: <Minion ('Murloc Tinyfin')> attacks <Hero ('Valeera Sanguinar')>\n",
      "[fireplace.actions]: <Minion ('Murloc Tinyfin')> triggering <TargetedAction: Hit(<Hit.AMOUNT>=1)> targeting [<Hero ('Valeera Sanguinar')>]\n",
      "[fireplace.actions]: <Minion ('Murloc Tinyfin')> triggering <TargetedAction: Predamage(<Predamage.AMOUNT>=1)> targeting [<Hero ('Valeera Sanguinar')>]\n",
      "[fireplace.actions]: <Minion ('Murloc Tinyfin')> triggering <TargetedAction: Damage()> targeting [<Hero ('Valeera Sanguinar')>]\n",
      "[fireplace.entity]: Empty stack, refreshing auras and processing deaths\n",
      "[fireplace.entity]: Player1 ends turn 4\n",
      "[fireplace.entity]: Player2 begins turn 5\n",
      "[fireplace.entity]: Player2 is now at 3 mana crystals\n",
      "[fireplace.actions]: Player(name='Player2', hero=<Hero ('Valeera Sanguinar')>) triggering <TargetedAction: Draw()> targeting [Player(name='Player2', hero=<Hero ('Valeera Sanguinar')>)]\n",
      "[fireplace.entity]: Player2 draws <Minion ('Youthful Brewmaster')>\n",
      "[fireplace.card]: <Minion ('Youthful Brewmaster')> moves from <Zone.DECK: 2> to <Zone.HAND: 3>\n",
      "[fireplace.entity]: Empty stack, refreshing auras and processing deaths\n",
      "[fireplace.aura]: Creating <AuraBuff <Minion ('Mana Wraith')> -> <Minion ('Youthful Brewmaster')>>\n",
      "[fireplace.utils]: Playing <Minion (\"Nerub'ar Weblord\")> on None\n",
      "[fireplace.actions]: Player2 plays <Minion (\"Nerub'ar Weblord\")> (target=None, index=None)\n",
      "[fireplace.entity]: Player2 pays 3 mana\n"
     ]
    },
    {
     "name": "stdout",
     "output_type": "stream",
     "text": [
      "[{'timestamp': datetime.datetime(2016, 6, 3, 17, 35, 20, 984557), 'game_id': 3, 'event_value': '4', 'event_key': 'turn_end', 'player': 'Player1'}]\n",
      "[{'timestamp': datetime.datetime(2016, 6, 3, 17, 35, 21, 24559), 'game_id': 3, 'event_value': '5', 'event_key': 'turn_begins', 'player': 'Player2'}]\n",
      "[{'timestamp': datetime.datetime(2016, 6, 3, 17, 35, 21, 68568), 'game_id': 3, 'event_value': '3', 'event_key': 'max_mana', 'player': 'Player2'}]\n",
      "Playing <Minion (\"Nerub'ar Weblord\")> on None\n",
      "[{'timestamp': datetime.datetime(2016, 6, 3, 17, 35, 21, 144570), 'game_id': 3, 'event_value': '3', 'event_key': 'mana_spent', 'player': 'Player2'}]\n"
     ]
    },
    {
     "name": "stderr",
     "output_type": "stream",
     "text": [
      "[fireplace.card]: <Minion (\"Nerub'ar Weblord\")> moves from <Zone.HAND: 3> to <Zone.PLAY: 1>\n",
      "[fireplace.actions]: <Minion (\"Nerub'ar Weblord\")> triggering <TargetedAction: Battlecry(<Battlecry.TARGET>=None)> targeting [<Minion (\"Nerub'ar Weblord\")>]\n",
      "[fireplace.actions]: Activating <Minion (\"Nerub'ar Weblord\")> action targeting None\n",
      "[fireplace.entity]: Empty stack, refreshing auras and processing deaths\n",
      "[fireplace.aura]: Creating <AuraBuff <Minion (\"Nerub'ar Weblord\")> -> <Minion ('Reno Jackson')>>\n",
      "[fireplace.aura]: Creating <AuraBuff <Minion (\"Nerub'ar Weblord\")> -> <Minion ('Hungry Crab')>>\n",
      "[fireplace.aura]: Creating <AuraBuff <Minion (\"Nerub'ar Weblord\")> -> <Minion ('Youthful Brewmaster')>>\n",
      "[fireplace.aura]: Destroying <AuraBuff <Minion ('Mana Wraith')> -> <Minion (\"Nerub'ar Weblord\")>>\n",
      "[fireplace.entity]: Empty stack, refreshing auras and processing deaths\n",
      "[fireplace.actions]: <Minion ('Mana Wraith')> attacks <Minion ('Murloc Tinyfin')>\n",
      "[fireplace.actions]: <Minion ('Mana Wraith')> triggering <TargetedAction: Hit(<Hit.AMOUNT>=2)> targeting [<Minion ('Murloc Tinyfin')>]\n",
      "[fireplace.actions]: <Minion ('Mana Wraith')> triggering <TargetedAction: Predamage(<Predamage.AMOUNT>=2)> targeting [<Minion ('Murloc Tinyfin')>]\n",
      "[fireplace.actions]: <Minion ('Mana Wraith')> triggering <TargetedAction: Damage()> targeting [<Minion ('Murloc Tinyfin')>]\n",
      "[fireplace.actions]: <Minion ('Murloc Tinyfin')> triggering <TargetedAction: Hit(<Hit.AMOUNT>=1)> targeting [<Minion ('Mana Wraith')>]\n",
      "[fireplace.actions]: <Minion ('Murloc Tinyfin')> triggering <TargetedAction: Predamage(<Predamage.AMOUNT>=1)> targeting [<Minion ('Mana Wraith')>]\n",
      "[fireplace.actions]: <Minion ('Murloc Tinyfin')> triggering <TargetedAction: Damage()> targeting [<Minion ('Mana Wraith')>]\n",
      "[fireplace.entity]: Empty stack, refreshing auras and processing deaths\n",
      "[fireplace.entity]: <Minion ('Murloc Tinyfin')> is removed from the field\n",
      "[fireplace.card]: <Minion ('Murloc Tinyfin')> moves from <Zone.PLAY: 1> to <Zone.GRAVEYARD: 4>\n",
      "[fireplace.entity]: Empty stack, refreshing auras and processing deaths\n",
      "[fireplace.actions]: Processing Death for <Minion ('Murloc Tinyfin')>\n",
      "[fireplace.entity]: Empty stack, refreshing auras and processing deaths\n",
      "[fireplace.entity]: Player2 ends turn 5\n",
      "[fireplace.entity]: Player1 begins turn 6\n",
      "[fireplace.entity]: Player1 is now at 3 mana crystals\n",
      "[fireplace.actions]: Player(name='Player1', hero=<Hero ('Jaina Proudmoore')>) triggering <TargetedAction: Draw()> targeting [Player(name='Player1', hero=<Hero ('Jaina Proudmoore')>)]\n",
      "[fireplace.entity]: Player1 draws <Minion ('Twisted Worgen')>\n",
      "[fireplace.card]: <Minion ('Twisted Worgen')> moves from <Zone.DECK: 2> to <Zone.HAND: 3>\n",
      "[fireplace.entity]: Empty stack, refreshing auras and processing deaths\n",
      "[fireplace.aura]: Creating <AuraBuff <Minion ('Mana Wraith')> -> <Minion ('Twisted Worgen')>>\n",
      "[fireplace.entity]: Player1 ends turn 6\n",
      "[fireplace.entity]: Player2 begins turn 7\n"
     ]
    },
    {
     "name": "stdout",
     "output_type": "stream",
     "text": [
      "[{'timestamp': datetime.datetime(2016, 6, 3, 17, 35, 21, 328579), 'game_id': 3, 'event_value': '5', 'event_key': 'turn_end', 'player': 'Player2'}]\n",
      "[{'timestamp': datetime.datetime(2016, 6, 3, 17, 35, 21, 364599), 'game_id': 3, 'event_value': '6', 'event_key': 'turn_begins', 'player': 'Player1'}]\n",
      "[{'timestamp': datetime.datetime(2016, 6, 3, 17, 35, 21, 412587), 'game_id': 3, 'event_value': '3', 'event_key': 'max_mana', 'player': 'Player1'}]\n",
      "[{'timestamp': datetime.datetime(2016, 6, 3, 17, 35, 21, 484591), 'game_id': 3, 'event_value': '6', 'event_key': 'turn_end', 'player': 'Player1'}]\n"
     ]
    },
    {
     "name": "stderr",
     "output_type": "stream",
     "text": [
      "[fireplace.entity]: Player2 is now at 4 mana crystals\n",
      "[fireplace.actions]: Player(name='Player2', hero=<Hero ('Valeera Sanguinar')>) triggering <TargetedAction: Draw()> targeting [Player(name='Player2', hero=<Hero ('Valeera Sanguinar')>)]\n",
      "[fireplace.entity]: Player2 draws <Minion ('River Crocolisk')>\n",
      "[fireplace.card]: <Minion ('River Crocolisk')> moves from <Zone.DECK: 2> to <Zone.HAND: 3>\n",
      "[fireplace.entity]: Empty stack, refreshing auras and processing deaths\n",
      "[fireplace.aura]: Creating <AuraBuff <Minion ('Mana Wraith')> -> <Minion ('River Crocolisk')>>\n",
      "[fireplace.utils]: Playing <Minion ('River Crocolisk')> on None\n",
      "[fireplace.actions]: Player2 plays <Minion ('River Crocolisk')> (target=None, index=None)\n",
      "[fireplace.entity]: Player2 pays 3 mana\n",
      "[fireplace.card]: <Minion ('River Crocolisk')> moves from <Zone.HAND: 3> to <Zone.PLAY: 1>\n",
      "[fireplace.actions]: <Minion ('River Crocolisk')> triggering <TargetedAction: Battlecry(<Battlecry.TARGET>=None)> targeting [<Minion ('River Crocolisk')>]\n",
      "[fireplace.actions]: Activating <Minion ('River Crocolisk')> action targeting None\n",
      "[fireplace.entity]: Empty stack, refreshing auras and processing deaths\n",
      "[fireplace.aura]: Destroying <AuraBuff <Minion ('Mana Wraith')> -> <Minion ('River Crocolisk')>>\n",
      "[fireplace.entity]: Empty stack, refreshing auras and processing deaths\n",
      "[fireplace.actions]: <Minion ('Mana Wraith')> attacks <Hero ('Jaina Proudmoore')>\n",
      "[fireplace.actions]: <Minion ('Mana Wraith')> triggering <TargetedAction: Hit(<Hit.AMOUNT>=2)> targeting [<Hero ('Jaina Proudmoore')>]\n"
     ]
    },
    {
     "name": "stdout",
     "output_type": "stream",
     "text": [
      "[{'timestamp': datetime.datetime(2016, 6, 3, 17, 35, 21, 528595), 'game_id': 3, 'event_value': '7', 'event_key': 'turn_begins', 'player': 'Player2'}]\n",
      "[{'timestamp': datetime.datetime(2016, 6, 3, 17, 35, 21, 576598), 'game_id': 3, 'event_value': '4', 'event_key': 'max_mana', 'player': 'Player2'}]\n",
      "Playing <Minion ('River Crocolisk')> on None\n",
      "[{'timestamp': datetime.datetime(2016, 6, 3, 17, 35, 21, 652602), 'game_id': 3, 'event_value': '3', 'event_key': 'mana_spent', 'player': 'Player2'}]\n"
     ]
    },
    {
     "name": "stderr",
     "output_type": "stream",
     "text": [
      "[fireplace.actions]: <Minion ('Mana Wraith')> triggering <TargetedAction: Predamage(<Predamage.AMOUNT>=2)> targeting [<Hero ('Jaina Proudmoore')>]\n",
      "[fireplace.actions]: <Minion ('Mana Wraith')> triggering <TargetedAction: Damage()> targeting [<Hero ('Jaina Proudmoore')>]\n",
      "[fireplace.entity]: Empty stack, refreshing auras and processing deaths\n",
      "[fireplace.actions]: <Minion (\"Nerub'ar Weblord\")> attacks <Hero ('Jaina Proudmoore')>\n",
      "[fireplace.actions]: <Minion (\"Nerub'ar Weblord\")> triggering <TargetedAction: Hit(<Hit.AMOUNT>=1)> targeting [<Hero ('Jaina Proudmoore')>]\n",
      "[fireplace.actions]: <Minion (\"Nerub'ar Weblord\")> triggering <TargetedAction: Predamage(<Predamage.AMOUNT>=1)> targeting [<Hero ('Jaina Proudmoore')>]\n",
      "[fireplace.actions]: <Minion (\"Nerub'ar Weblord\")> triggering <TargetedAction: Damage()> targeting [<Hero ('Jaina Proudmoore')>]\n",
      "[fireplace.entity]: Empty stack, refreshing auras and processing deaths\n",
      "[fireplace.entity]: Player2 ends turn 7\n",
      "[fireplace.entity]: Player1 begins turn 8\n",
      "[fireplace.entity]: Player1 is now at 4 mana crystals\n",
      "[fireplace.actions]: Player(name='Player1', hero=<Hero ('Jaina Proudmoore')>) triggering <TargetedAction: Draw()> targeting [Player(name='Player1', hero=<Hero ('Jaina Proudmoore')>)]\n",
      "[fireplace.entity]: Player1 draws <Minion ('Violet Teacher')>\n",
      "[fireplace.card]: <Minion ('Violet Teacher')> moves from <Zone.DECK: 2> to <Zone.HAND: 3>\n",
      "[fireplace.entity]: Empty stack, refreshing auras and processing deaths\n",
      "[fireplace.aura]: Creating <AuraBuff <Minion ('Mana Wraith')> -> <Minion ('Violet Teacher')>>\n",
      "[fireplace.utils]: Playing <Spell ('Echo of Medivh')> on None\n",
      "[fireplace.actions]: Player1 plays <Spell ('Echo of Medivh')> (target=None, index=None)\n",
      "[fireplace.entity]: Player1 pays 4 mana\n"
     ]
    },
    {
     "name": "stdout",
     "output_type": "stream",
     "text": [
      "[{'timestamp': datetime.datetime(2016, 6, 3, 17, 35, 21, 784612), 'game_id': 3, 'event_value': '7', 'event_key': 'turn_end', 'player': 'Player2'}]\n",
      "[{'timestamp': datetime.datetime(2016, 6, 3, 17, 35, 21, 828615), 'game_id': 3, 'event_value': '8', 'event_key': 'turn_begins', 'player': 'Player1'}]\n",
      "[{'timestamp': datetime.datetime(2016, 6, 3, 17, 35, 21, 876620), 'game_id': 3, 'event_value': '4', 'event_key': 'max_mana', 'player': 'Player1'}]\n",
      "Playing <Spell ('Echo of Medivh')> on None\n",
      "[{'timestamp': datetime.datetime(2016, 6, 3, 17, 35, 21, 976625), 'game_id': 3, 'event_value': '4', 'event_key': 'mana_spent', 'player': 'Player1'}]\n"
     ]
    },
    {
     "name": "stderr",
     "output_type": "stream",
     "text": [
      "[fireplace.card]: <Spell ('Echo of Medivh')> moves from <Zone.HAND: 3> to <Zone.PLAY: 1>\n",
      "[fireplace.actions]: <Spell ('Echo of Medivh')> triggering <TargetedAction: Battlecry(<Battlecry.TARGET>=None)> targeting [<Spell ('Echo of Medivh')>]\n",
      "[fireplace.actions]: Activating <Spell ('Echo of Medivh')> action targeting None\n",
      "[fireplace.actions]: <Spell ('Echo of Medivh')> triggering <TargetedAction: Give(<Give.CARD>=Copy(<<<PLAY> + <<CONTROLLER> == Controller(<SELF>)>> + <MINION>>))> targeting [Player(name='Player1', hero=<Hero ('Jaina Proudmoore')>)]\n",
      "[fireplace.actions]: Giving [] to Player1\n",
      "[fireplace.entity]: Empty stack, refreshing auras and processing deaths\n",
      "[fireplace.entity]: Empty stack, refreshing auras and processing deaths\n",
      "[fireplace.entity]: Player1 ends turn 8\n",
      "[fireplace.entity]: Player2 begins turn 9\n",
      "[fireplace.entity]: Player2 is now at 5 mana crystals\n",
      "[fireplace.actions]: Player(name='Player2', hero=<Hero ('Valeera Sanguinar')>) triggering <TargetedAction: Draw()> targeting [Player(name='Player2', hero=<Hero ('Valeera Sanguinar')>)]\n",
      "[fireplace.entity]: Player2 draws <Minion ('Chillwind Yeti')>\n",
      "[fireplace.card]: <Minion ('Chillwind Yeti')> moves from <Zone.DECK: 2> to <Zone.HAND: 3>\n",
      "[fireplace.entity]: Empty stack, refreshing auras and processing deaths\n",
      "[fireplace.aura]: Creating <AuraBuff <Minion ('Mana Wraith')> -> <Minion ('Chillwind Yeti')>>\n",
      "[fireplace.utils]: Playing <Minion ('Youthful Brewmaster')> on <Minion ('River Crocolisk')>\n",
      "[fireplace.actions]: Player2 plays <Minion ('Youthful Brewmaster')> (target=<Minion ('River Crocolisk')>, index=None)\n",
      "[fireplace.entity]: Player2 pays 5 mana\n"
     ]
    },
    {
     "name": "stdout",
     "output_type": "stream",
     "text": [
      "[{'timestamp': datetime.datetime(2016, 6, 3, 17, 35, 22, 68662), 'game_id': 3, 'event_value': '8', 'event_key': 'turn_end', 'player': 'Player1'}]\n",
      "[{'timestamp': datetime.datetime(2016, 6, 3, 17, 35, 22, 108636), 'game_id': 3, 'event_value': '9', 'event_key': 'turn_begins', 'player': 'Player2'}]\n",
      "[{'timestamp': datetime.datetime(2016, 6, 3, 17, 35, 22, 152640), 'game_id': 3, 'event_value': '5', 'event_key': 'max_mana', 'player': 'Player2'}]\n",
      "Playing <Minion ('Youthful Brewmaster')> on <Minion ('River Crocolisk')>\n",
      "[{'timestamp': datetime.datetime(2016, 6, 3, 17, 35, 22, 248645), 'game_id': 3, 'event_value': '5', 'event_key': 'mana_spent', 'player': 'Player2'}]\n"
     ]
    },
    {
     "name": "stderr",
     "output_type": "stream",
     "text": [
      "[fireplace.card]: <Minion ('Youthful Brewmaster')> moves from <Zone.HAND: 3> to <Zone.PLAY: 1>\n",
      "[fireplace.actions]: <Minion ('Youthful Brewmaster')> triggering <TargetedAction: Battlecry(<Battlecry.TARGET>=<Minion ('River Crocolisk')>)> targeting [<Minion ('Youthful Brewmaster')>]\n",
      "[fireplace.actions]: Activating <Minion ('Youthful Brewmaster')> action targeting <Minion ('River Crocolisk')>\n",
      "[fireplace.actions]: <Minion ('Youthful Brewmaster')> triggering <TargetedAction: Bounce()> targeting [<Minion ('River Crocolisk')>]\n",
      "[fireplace.actions]: <Minion ('River Crocolisk')> is bounced back to Player2's hand\n",
      "[fireplace.entity]: <Minion ('River Crocolisk')> is removed from the field\n",
      "[fireplace.card]: <Minion ('River Crocolisk')> moves from <Zone.PLAY: 1> to <Zone.HAND: 3>\n",
      "[fireplace.entity]: Empty stack, refreshing auras and processing deaths\n",
      "[fireplace.aura]: Creating <AuraBuff <Minion ('Mana Wraith')> -> <Minion ('River Crocolisk')>>\n",
      "[fireplace.aura]: Destroying <AuraBuff <Minion ('Mana Wraith')> -> <Minion ('Youthful Brewmaster')>>\n",
      "[fireplace.aura]: Destroying <AuraBuff <Minion (\"Nerub'ar Weblord\")> -> <Minion ('Youthful Brewmaster')>>\n",
      "[fireplace.entity]: Empty stack, refreshing auras and processing deaths\n",
      "[fireplace.actions]: <Minion ('Mana Wraith')> attacks <Hero ('Jaina Proudmoore')>\n",
      "[fireplace.actions]: <Minion ('Mana Wraith')> triggering <TargetedAction: Hit(<Hit.AMOUNT>=2)> targeting [<Hero ('Jaina Proudmoore')>]\n",
      "[fireplace.actions]: <Minion ('Mana Wraith')> triggering <TargetedAction: Predamage(<Predamage.AMOUNT>=2)> targeting [<Hero ('Jaina Proudmoore')>]\n",
      "[fireplace.actions]: <Minion ('Mana Wraith')> triggering <TargetedAction: Damage()> targeting [<Hero ('Jaina Proudmoore')>]\n",
      "[fireplace.entity]: Empty stack, refreshing auras and processing deaths\n",
      "[fireplace.actions]: <Minion (\"Nerub'ar Weblord\")> attacks <Hero ('Jaina Proudmoore')>\n",
      "[fireplace.actions]: <Minion (\"Nerub'ar Weblord\")> triggering <TargetedAction: Hit(<Hit.AMOUNT>=1)> targeting [<Hero ('Jaina Proudmoore')>]\n",
      "[fireplace.actions]: <Minion (\"Nerub'ar Weblord\")> triggering <TargetedAction: Predamage(<Predamage.AMOUNT>=1)> targeting [<Hero ('Jaina Proudmoore')>]\n",
      "[fireplace.actions]: <Minion (\"Nerub'ar Weblord\")> triggering <TargetedAction: Damage()> targeting [<Hero ('Jaina Proudmoore')>]\n",
      "[fireplace.entity]: Empty stack, refreshing auras and processing deaths\n",
      "[fireplace.entity]: Player2 ends turn 9\n",
      "[fireplace.entity]: Player1 begins turn 10\n",
      "[fireplace.entity]: Player1 is now at 5 mana crystals\n",
      "[fireplace.actions]: Player(name='Player1', hero=<Hero ('Jaina Proudmoore')>) triggering <TargetedAction: Draw()> targeting [Player(name='Player1', hero=<Hero ('Jaina Proudmoore')>)]\n",
      "[fireplace.entity]: Player1 draws <Minion ('Rhonin')>\n",
      "[fireplace.card]: <Minion ('Rhonin')> moves from <Zone.DECK: 2> to <Zone.HAND: 3>\n",
      "[fireplace.entity]: Empty stack, refreshing auras and processing deaths\n",
      "[fireplace.aura]: Creating <AuraBuff <Minion ('Mana Wraith')> -> <Minion ('Rhonin')>>\n",
      "[fireplace.utils]: Playing <Secret ('Counterspell')> on None\n",
      "[fireplace.actions]: Player1 plays <Secret ('Counterspell')> (target=None, index=None)\n",
      "[fireplace.entity]: Player1 pays 3 mana\n"
     ]
    },
    {
     "name": "stdout",
     "output_type": "stream",
     "text": [
      "[{'timestamp': datetime.datetime(2016, 6, 3, 17, 35, 22, 444656), 'game_id': 3, 'event_value': '9', 'event_key': 'turn_end', 'player': 'Player2'}]\n",
      "[{'timestamp': datetime.datetime(2016, 6, 3, 17, 35, 22, 480661), 'game_id': 3, 'event_value': '10', 'event_key': 'turn_begins', 'player': 'Player1'}]\n",
      "[{'timestamp': datetime.datetime(2016, 6, 3, 17, 35, 22, 536664), 'game_id': 3, 'event_value': '5', 'event_key': 'max_mana', 'player': 'Player1'}]\n",
      "Playing <Secret ('Counterspell')> on None\n",
      "[{'timestamp': datetime.datetime(2016, 6, 3, 17, 35, 22, 624670), 'game_id': 3, 'event_value': '3', 'event_key': 'mana_spent', 'player': 'Player1'}]\n"
     ]
    },
    {
     "name": "stderr",
     "output_type": "stream",
     "text": [
      "[fireplace.card]: <Secret ('Counterspell')> moves from <Zone.HAND: 3> to <Zone.SECRET: 7>\n",
      "[fireplace.actions]: <Secret ('Counterspell')> triggering <TargetedAction: Battlecry(<Battlecry.TARGET>=None)> targeting [<Secret ('Counterspell')>]\n",
      "[fireplace.actions]: Activating <Secret ('Counterspell')> action targeting None\n",
      "[fireplace.entity]: Empty stack, refreshing auras and processing deaths\n",
      "[fireplace.entity]: Empty stack, refreshing auras and processing deaths\n",
      "[fireplace.entity]: Player1 ends turn 10\n",
      "[fireplace.entity]: Player2 begins turn 11\n",
      "[fireplace.entity]: Player2 is now at 6 mana crystals\n",
      "[fireplace.actions]: Player(name='Player2', hero=<Hero ('Valeera Sanguinar')>) triggering <TargetedAction: Draw()> targeting [Player(name='Player2', hero=<Hero ('Valeera Sanguinar')>)]\n",
      "[fireplace.entity]: Player2 draws <Minion ('Stonesplinter Trogg')>\n",
      "[fireplace.card]: <Minion ('Stonesplinter Trogg')> moves from <Zone.DECK: 2> to <Zone.HAND: 3>\n",
      "[fireplace.entity]: Empty stack, refreshing auras and processing deaths\n",
      "[fireplace.aura]: Creating <AuraBuff <Minion ('Mana Wraith')> -> <Minion ('Stonesplinter Trogg')>>\n",
      "[fireplace.utils]: Playing <Minion ('Doomsayer')> on None\n",
      "[fireplace.actions]: Player2 plays <Minion ('Doomsayer')> (target=None, index=None)\n",
      "[fireplace.entity]: Player2 pays 3 mana\n"
     ]
    },
    {
     "name": "stdout",
     "output_type": "stream",
     "text": [
      "[{'timestamp': datetime.datetime(2016, 6, 3, 17, 35, 22, 696677), 'game_id': 3, 'event_value': '10', 'event_key': 'turn_end', 'player': 'Player1'}]\n",
      "[{'timestamp': datetime.datetime(2016, 6, 3, 17, 35, 22, 748684), 'game_id': 3, 'event_value': '11', 'event_key': 'turn_begins', 'player': 'Player2'}]\n",
      "[{'timestamp': datetime.datetime(2016, 6, 3, 17, 35, 22, 792681), 'game_id': 3, 'event_value': '6', 'event_key': 'max_mana', 'player': 'Player2'}]\n",
      "Playing <Minion ('Doomsayer')> on None\n",
      "[{'timestamp': datetime.datetime(2016, 6, 3, 17, 35, 22, 884688), 'game_id': 3, 'event_value': '3', 'event_key': 'mana_spent', 'player': 'Player2'}]\n"
     ]
    },
    {
     "name": "stderr",
     "output_type": "stream",
     "text": [
      "[fireplace.card]: <Minion ('Doomsayer')> moves from <Zone.HAND: 3> to <Zone.PLAY: 1>\n",
      "[fireplace.actions]: <Minion ('Doomsayer')> triggering <TargetedAction: Battlecry(<Battlecry.TARGET>=None)> targeting [<Minion ('Doomsayer')>]\n",
      "[fireplace.actions]: Activating <Minion ('Doomsayer')> action targeting None\n",
      "[fireplace.entity]: Empty stack, refreshing auras and processing deaths\n",
      "[fireplace.aura]: Destroying <AuraBuff <Minion ('Mana Wraith')> -> <Minion ('Doomsayer')>>\n",
      "[fireplace.entity]: Empty stack, refreshing auras and processing deaths\n",
      "[fireplace.utils]: Playing <Minion ('River Crocolisk')> on None\n",
      "[fireplace.actions]: Player2 plays <Minion ('River Crocolisk')> (target=None, index=None)\n",
      "[fireplace.entity]: Player2 pays 3 mana\n",
      "[fireplace.card]: <Minion ('River Crocolisk')> moves from <Zone.HAND: 3> to <Zone.PLAY: 1>\n",
      "[fireplace.actions]: <Minion ('River Crocolisk')> triggering <TargetedAction: Battlecry(<Battlecry.TARGET>=None)> targeting [<Minion ('River Crocolisk')>]\n",
      "[fireplace.actions]: Activating <Minion ('River Crocolisk')> action targeting None\n",
      "[fireplace.entity]: Empty stack, refreshing auras and processing deaths\n",
      "[fireplace.aura]: Destroying <AuraBuff <Minion ('Mana Wraith')> -> <Minion ('River Crocolisk')>>\n",
      "[fireplace.entity]: Empty stack, refreshing auras and processing deaths\n",
      "[fireplace.actions]: <Minion ('Mana Wraith')> attacks <Hero ('Jaina Proudmoore')>\n",
      "[fireplace.actions]: <Minion ('Mana Wraith')> triggering <TargetedAction: Hit(<Hit.AMOUNT>=2)> targeting [<Hero ('Jaina Proudmoore')>]\n",
      "[fireplace.actions]: <Minion ('Mana Wraith')> triggering <TargetedAction: Predamage(<Predamage.AMOUNT>=2)> targeting [<Hero ('Jaina Proudmoore')>]\n",
      "[fireplace.actions]: <Minion ('Mana Wraith')> triggering <TargetedAction: Damage()> targeting [<Hero ('Jaina Proudmoore')>]\n",
      "[fireplace.entity]: Empty stack, refreshing auras and processing deaths\n",
      "[fireplace.actions]: <Minion (\"Nerub'ar Weblord\")> attacks <Hero ('Jaina Proudmoore')>\n",
      "[fireplace.actions]: <Minion (\"Nerub'ar Weblord\")> triggering <TargetedAction: Hit(<Hit.AMOUNT>=1)> targeting [<Hero ('Jaina Proudmoore')>]\n",
      "[fireplace.actions]: <Minion (\"Nerub'ar Weblord\")> triggering <TargetedAction: Predamage(<Predamage.AMOUNT>=1)> targeting [<Hero ('Jaina Proudmoore')>]\n",
      "[fireplace.actions]: <Minion (\"Nerub'ar Weblord\")> triggering <TargetedAction: Damage()> targeting [<Hero ('Jaina Proudmoore')>]\n",
      "[fireplace.entity]: Empty stack, refreshing auras and processing deaths\n",
      "[fireplace.actions]: <Minion ('Youthful Brewmaster')> attacks <Hero ('Jaina Proudmoore')>\n",
      "[fireplace.actions]: <Minion ('Youthful Brewmaster')> triggering <TargetedAction: Hit(<Hit.AMOUNT>=3)> targeting [<Hero ('Jaina Proudmoore')>]\n",
      "[fireplace.actions]: <Minion ('Youthful Brewmaster')> triggering <TargetedAction: Predamage(<Predamage.AMOUNT>=3)> targeting [<Hero ('Jaina Proudmoore')>]\n",
      "[fireplace.actions]: <Minion ('Youthful Brewmaster')> triggering <TargetedAction: Damage()> targeting [<Hero ('Jaina Proudmoore')>]\n",
      "[fireplace.entity]: Empty stack, refreshing auras and processing deaths\n",
      "[fireplace.actions]: <Minion ('River Crocolisk')> attacks <Hero ('Jaina Proudmoore')>\n",
      "[fireplace.actions]: <Minion ('River Crocolisk')> triggering <TargetedAction: Hit(<Hit.AMOUNT>=2)> targeting [<Hero ('Jaina Proudmoore')>]\n",
      "[fireplace.actions]: <Minion ('River Crocolisk')> triggering <TargetedAction: Predamage(<Predamage.AMOUNT>=2)> targeting [<Hero ('Jaina Proudmoore')>]\n",
      "[fireplace.actions]: <Minion ('River Crocolisk')> triggering <TargetedAction: Damage()> targeting [<Hero ('Jaina Proudmoore')>]\n",
      "[fireplace.entity]: Empty stack, refreshing auras and processing deaths\n",
      "[fireplace.entity]: Player2 ends turn 11\n"
     ]
    },
    {
     "name": "stdout",
     "output_type": "stream",
     "text": [
      "Playing <Minion ('River Crocolisk')> on None\n",
      "[{'timestamp': datetime.datetime(2016, 6, 3, 17, 35, 22, 980705), 'game_id': 3, 'event_value': '3', 'event_key': 'mana_spent', 'player': 'Player2'}]\n"
     ]
    },
    {
     "name": "stderr",
     "output_type": "stream",
     "text": [
      "[fireplace.entity]: Player1 begins turn 12\n",
      "[fireplace.entity]: Player1 is now at 6 mana crystals\n",
      "[fireplace.actions]: Player(name='Player1', hero=<Hero ('Jaina Proudmoore')>) triggering <TargetedAction: Draw()> targeting [Player(name='Player1', hero=<Hero ('Jaina Proudmoore')>)]\n",
      "[fireplace.entity]: Player1 draws <Spell ('Fireball')>\n",
      "[fireplace.card]: <Spell ('Fireball')> moves from <Zone.DECK: 2> to <Zone.HAND: 3>\n",
      "[fireplace.entity]: Empty stack, refreshing auras and processing deaths\n",
      "[fireplace.utils]: Playing <Minion ('Hungry Crab')> on None\n",
      "[fireplace.actions]: Player1 plays <Minion ('Hungry Crab')> (target=None, index=None)\n",
      "[fireplace.entity]: Player1 pays 4 mana\n",
      "[fireplace.card]: <Minion ('Hungry Crab')> moves from <Zone.HAND: 3> to <Zone.PLAY: 1>\n"
     ]
    },
    {
     "name": "stdout",
     "output_type": "stream",
     "text": [
      "[{'timestamp': datetime.datetime(2016, 6, 3, 17, 35, 23, 168724), 'game_id': 3, 'event_value': '11', 'event_key': 'turn_end', 'player': 'Player2'}]\n",
      "[{'timestamp': datetime.datetime(2016, 6, 3, 17, 35, 23, 208713), 'game_id': 3, 'event_value': '12', 'event_key': 'turn_begins', 'player': 'Player1'}]\n",
      "[{'timestamp': datetime.datetime(2016, 6, 3, 17, 35, 23, 256727), 'game_id': 3, 'event_value': '6', 'event_key': 'max_mana', 'player': 'Player1'}]\n",
      "Playing <Minion ('Hungry Crab')> on None\n",
      "[{'timestamp': datetime.datetime(2016, 6, 3, 17, 35, 23, 332721), 'game_id': 3, 'event_value': '4', 'event_key': 'mana_spent', 'player': 'Player1'}]\n"
     ]
    },
    {
     "name": "stderr",
     "output_type": "stream",
     "text": [
      "[fireplace.actions]: <Minion ('Hungry Crab')> triggering <TargetedAction: Battlecry(<Battlecry.TARGET>=None)> targeting [<Minion ('Hungry Crab')>]\n",
      "[fireplace.actions]: <Minion ('Hungry Crab')> has no target, action exits early\n",
      "[fireplace.entity]: Empty stack, refreshing auras and processing deaths\n",
      "[fireplace.aura]: Destroying <AuraBuff <Minion ('Mana Wraith')> -> <Minion ('Hungry Crab')>>\n",
      "[fireplace.aura]: Destroying <AuraBuff <Minion (\"Nerub'ar Weblord\")> -> <Minion ('Hungry Crab')>>\n",
      "[fireplace.entity]: Player1 ends turn 12\n",
      "[fireplace.actions]: <Minion ('Doomsayer')> triggers off <Action: BeginTurn(<BeginTurn.PLAYER>=Player(name='Player2', hero=<Hero ('Valeera Sanguinar')>))> from Game(players=(Player(name='Player1', hero=<Hero ('Jaina Proudmoore')>), Player(name='Player2', hero=<Hero ('Valeera Sanguinar')>)))\n",
      "[fireplace.actions]: <Minion ('Doomsayer')> triggering <TargetedAction: Destroy()> targeting [<Minion ('Hungry Crab')>, <Minion ('Mana Wraith')>, <Minion (\"Nerub'ar Weblord\")>, <Minion ('Youthful Brewmaster')>, <Minion ('Doomsayer')>, <Minion ('River Crocolisk')>]\n",
      "[fireplace.actions]: <Minion ('Doomsayer')> marks <Minion ('Hungry Crab')> for imminent death\n",
      "[fireplace.actions]: <Minion ('Doomsayer')> marks <Minion ('Mana Wraith')> for imminent death\n",
      "[fireplace.actions]: <Minion ('Doomsayer')> marks <Minion (\"Nerub'ar Weblord\")> for imminent death\n",
      "[fireplace.actions]: <Minion ('Doomsayer')> marks <Minion ('Youthful Brewmaster')> for imminent death\n",
      "[fireplace.actions]: <Minion ('Doomsayer')> marks <Minion ('Doomsayer')> for imminent death\n",
      "[fireplace.actions]: <Minion ('Doomsayer')> marks <Minion ('River Crocolisk')> for imminent death\n",
      "[fireplace.entity]: Empty stack, refreshing auras and processing deaths\n",
      "[fireplace.entity]: <Minion ('Hungry Crab')> is removed from the field\n",
      "[fireplace.card]: <Minion ('Hungry Crab')> moves from <Zone.PLAY: 1> to <Zone.GRAVEYARD: 4>\n",
      "[fireplace.entity]: <Minion ('Mana Wraith')> is removed from the field\n",
      "[fireplace.card]: <Minion ('Mana Wraith')> moves from <Zone.PLAY: 1> to <Zone.GRAVEYARD: 4>\n",
      "[fireplace.entity]: <Minion (\"Nerub'ar Weblord\")> is removed from the field\n",
      "[fireplace.card]: <Minion (\"Nerub'ar Weblord\")> moves from <Zone.PLAY: 1> to <Zone.GRAVEYARD: 4>\n",
      "[fireplace.entity]: <Minion ('Youthful Brewmaster')> is removed from the field\n",
      "[fireplace.card]: <Minion ('Youthful Brewmaster')> moves from <Zone.PLAY: 1> to <Zone.GRAVEYARD: 4>\n",
      "[fireplace.entity]: <Minion ('Doomsayer')> is removed from the field\n",
      "[fireplace.card]: <Minion ('Doomsayer')> moves from <Zone.PLAY: 1> to <Zone.GRAVEYARD: 4>\n",
      "[fireplace.entity]: <Minion ('River Crocolisk')> is removed from the field\n",
      "[fireplace.card]: <Minion ('River Crocolisk')> moves from <Zone.PLAY: 1> to <Zone.GRAVEYARD: 4>\n",
      "[fireplace.entity]: Empty stack, refreshing auras and processing deaths\n",
      "[fireplace.aura]: Destroying <AuraBuff <Minion ('Mana Wraith')> -> <Minion ('Reno Jackson')>>\n",
      "[fireplace.aura]: Destroying <AuraBuff <Minion ('Mana Wraith')> -> <Minion ('Brann Bronzebeard')>>\n",
      "[fireplace.aura]: Destroying <AuraBuff <Minion ('Mana Wraith')> -> <Minion ('Validated Doomsayer')>>\n",
      "[fireplace.aura]: Destroying <AuraBuff <Minion (\"Nerub'ar Weblord\")> -> <Minion ('Reno Jackson')>>\n",
      "[fireplace.aura]: Destroying <AuraBuff <Minion ('Mana Wraith')> -> <Minion ('Twisted Worgen')>>\n",
      "[fireplace.aura]: Destroying <AuraBuff <Minion ('Mana Wraith')> -> <Minion ('Violet Teacher')>>\n",
      "[fireplace.aura]: Destroying <AuraBuff <Minion ('Mana Wraith')> -> <Minion ('Chillwind Yeti')>>\n",
      "[fireplace.aura]: Destroying <AuraBuff <Minion ('Mana Wraith')> -> <Minion ('Rhonin')>>\n"
     ]
    },
    {
     "name": "stdout",
     "output_type": "stream",
     "text": [
      "[{'timestamp': datetime.datetime(2016, 6, 3, 17, 35, 23, 412724), 'game_id': 3, 'event_value': '12', 'event_key': 'turn_end', 'player': 'Player1'}]\n"
     ]
    },
    {
     "name": "stderr",
     "output_type": "stream",
     "text": [
      "[fireplace.aura]: Destroying <AuraBuff <Minion ('Mana Wraith')> -> <Minion ('Stonesplinter Trogg')>>\n",
      "[fireplace.actions]: Processing Death for <Minion ('Hungry Crab')>\n",
      "[fireplace.actions]: Processing Death for <Minion ('Mana Wraith')>\n",
      "[fireplace.actions]: Processing Death for <Minion (\"Nerub'ar Weblord\")>\n",
      "[fireplace.actions]: Processing Death for <Minion ('Youthful Brewmaster')>\n",
      "[fireplace.actions]: Processing Death for <Minion ('Doomsayer')>\n",
      "[fireplace.actions]: Processing Death for <Minion ('River Crocolisk')>\n",
      "[fireplace.entity]: Empty stack, refreshing auras and processing deaths\n",
      "[fireplace.entity]: Player2 begins turn 13\n",
      "[fireplace.entity]: Player2 is now at 7 mana crystals\n",
      "[fireplace.actions]: Player(name='Player2', hero=<Hero ('Valeera Sanguinar')>) triggering <TargetedAction: Draw()> targeting [Player(name='Player2', hero=<Hero ('Valeera Sanguinar')>)]\n",
      "[fireplace.entity]: Player2 draws <Minion ('Pit Fighter')>\n",
      "[fireplace.card]: <Minion ('Pit Fighter')> moves from <Zone.DECK: 2> to <Zone.HAND: 3>\n",
      "[fireplace.entity]: Empty stack, refreshing auras and processing deaths\n",
      "[fireplace.utils]: Playing <Minion ('Validated Doomsayer')> on None\n",
      "[fireplace.actions]: Player2 plays <Minion ('Validated Doomsayer')> (target=None, index=None)\n",
      "[fireplace.entity]: Player2 pays 5 mana\n",
      "[fireplace.card]: <Minion ('Validated Doomsayer')> moves from <Zone.HAND: 3> to <Zone.PLAY: 1>\n",
      "[fireplace.actions]: <Minion ('Validated Doomsayer')> triggering <TargetedAction: Battlecry(<Battlecry.TARGET>=None)> targeting [<Minion ('Validated Doomsayer')>]\n",
      "[fireplace.actions]: Activating <Minion ('Validated Doomsayer')> action targeting None\n",
      "[fireplace.entity]: Empty stack, refreshing auras and processing deaths\n",
      "[fireplace.entity]: Empty stack, refreshing auras and processing deaths\n",
      "[fireplace.utils]: Playing <Minion ('Stonesplinter Trogg')> on None\n",
      "[fireplace.actions]: Player2 plays <Minion ('Stonesplinter Trogg')> (target=None, index=None)\n",
      "[fireplace.entity]: Player2 pays 2 mana\n"
     ]
    },
    {
     "name": "stdout",
     "output_type": "stream",
     "text": [
      "[{'timestamp': datetime.datetime(2016, 6, 3, 17, 35, 23, 648744), 'game_id': 3, 'event_value': '13', 'event_key': 'turn_begins', 'player': 'Player2'}]\n",
      "[{'timestamp': datetime.datetime(2016, 6, 3, 17, 35, 23, 688746), 'game_id': 3, 'event_value': '7', 'event_key': 'max_mana', 'player': 'Player2'}]\n",
      "Playing <Minion ('Validated Doomsayer')> on None\n",
      "[{'timestamp': datetime.datetime(2016, 6, 3, 17, 35, 23, 764748), 'game_id': 3, 'event_value': '5', 'event_key': 'mana_spent', 'player': 'Player2'}]\n",
      "Playing <Minion ('Stonesplinter Trogg')> on None\n"
     ]
    },
    {
     "name": "stderr",
     "output_type": "stream",
     "text": [
      "[fireplace.card]: <Minion ('Stonesplinter Trogg')> moves from <Zone.HAND: 3> to <Zone.PLAY: 1>\n",
      "[fireplace.actions]: <Minion ('Stonesplinter Trogg')> triggering <TargetedAction: Battlecry(<Battlecry.TARGET>=None)> targeting [<Minion ('Stonesplinter Trogg')>]\n",
      "[fireplace.actions]: Activating <Minion ('Stonesplinter Trogg')> action targeting None\n",
      "[fireplace.entity]: Empty stack, refreshing auras and processing deaths\n",
      "[fireplace.entity]: Empty stack, refreshing auras and processing deaths\n",
      "[fireplace.entity]: Player2 ends turn 13\n",
      "[fireplace.entity]: Player1 begins turn 14\n",
      "[fireplace.entity]: Player1 is now at 7 mana crystals\n",
      "[fireplace.actions]: Player(name='Player1', hero=<Hero ('Jaina Proudmoore')>) triggering <TargetedAction: Draw()> targeting [Player(name='Player1', hero=<Hero ('Jaina Proudmoore')>)]\n"
     ]
    },
    {
     "name": "stdout",
     "output_type": "stream",
     "text": [
      "[{'timestamp': datetime.datetime(2016, 6, 3, 17, 35, 23, 848756), 'game_id': 3, 'event_value': '2', 'event_key': 'mana_spent', 'player': 'Player2'}]\n",
      "[{'timestamp': datetime.datetime(2016, 6, 3, 17, 35, 23, 920759), 'game_id': 3, 'event_value': '13', 'event_key': 'turn_end', 'player': 'Player2'}]\n",
      "[{'timestamp': datetime.datetime(2016, 6, 3, 17, 35, 23, 964762), 'game_id': 3, 'event_value': '14', 'event_key': 'turn_begins', 'player': 'Player1'}]\n",
      "[{'timestamp': datetime.datetime(2016, 6, 3, 17, 35, 24, 12765), 'game_id': 3, 'event_value': '7', 'event_key': 'max_mana', 'player': 'Player1'}]\n"
     ]
    },
    {
     "name": "stderr",
     "output_type": "stream",
     "text": [
      "[fireplace.entity]: Player1 draws <Minion ('Hungry Crab')>\n",
      "[fireplace.card]: <Minion ('Hungry Crab')> moves from <Zone.DECK: 2> to <Zone.HAND: 3>\n",
      "[fireplace.entity]: Empty stack, refreshing auras and processing deaths\n",
      "[fireplace.utils]: Playing <Minion ('Reno Jackson')> on None\n",
      "[fireplace.actions]: Player1 plays <Minion ('Reno Jackson')> (target=None, index=None)\n",
      "[fireplace.entity]: Player1 pays 6 mana\n",
      "[fireplace.card]: <Minion ('Reno Jackson')> moves from <Zone.HAND: 3> to <Zone.PLAY: 1>\n",
      "[fireplace.actions]: <Minion ('Reno Jackson')> triggering <TargetedAction: Battlecry(<Battlecry.TARGET>=None)> targeting [<Minion ('Reno Jackson')>]\n",
      "[fireplace.actions]: Activating <Minion ('Reno Jackson')> action targeting None\n",
      "[fireplace.actions]: <Minion ('Reno Jackson')> triggering <TargetedAction: FullHeal()> targeting [<Hero ('Jaina Proudmoore')>]\n",
      "[fireplace.actions]: <Minion ('Reno Jackson')> triggering <TargetedAction: Heal(<Heal.AMOUNT>=30)> targeting [<Hero ('Jaina Proudmoore')>]\n",
      "[fireplace.actions]: <Minion ('Reno Jackson')> heals <Hero ('Jaina Proudmoore')> for 14\n",
      "[fireplace.entity]: Empty stack, refreshing auras and processing deaths\n",
      "[fireplace.entity]: Empty stack, refreshing auras and processing deaths\n",
      "[fireplace.entity]: Player1 ends turn 14\n",
      "[fireplace.entity]: Player2 begins turn 15\n",
      "[fireplace.entity]: Player2 is now at 8 mana crystals\n"
     ]
    },
    {
     "name": "stdout",
     "output_type": "stream",
     "text": [
      "Playing <Minion ('Reno Jackson')> on None\n",
      "[{'timestamp': datetime.datetime(2016, 6, 3, 17, 35, 24, 92773), 'game_id': 3, 'event_value': '6', 'event_key': 'mana_spent', 'player': 'Player1'}]\n",
      "[{'timestamp': datetime.datetime(2016, 6, 3, 17, 35, 24, 192778), 'game_id': 3, 'event_value': '14', 'event_key': 'turn_end', 'player': 'Player1'}]\n",
      "[{'timestamp': datetime.datetime(2016, 6, 3, 17, 35, 24, 232784), 'game_id': 3, 'event_value': '15', 'event_key': 'turn_begins', 'player': 'Player2'}]\n",
      "[{'timestamp': datetime.datetime(2016, 6, 3, 17, 35, 24, 280785), 'game_id': 3, 'event_value': '8', 'event_key': 'max_mana', 'player': 'Player2'}]\n"
     ]
    },
    {
     "name": "stderr",
     "output_type": "stream",
     "text": [
      "[fireplace.actions]: Player(name='Player2', hero=<Hero ('Valeera Sanguinar')>) triggering <TargetedAction: Draw()> targeting [Player(name='Player2', hero=<Hero ('Valeera Sanguinar')>)]\n",
      "[fireplace.entity]: Player2 draws <Minion ('Cult Master')>\n",
      "[fireplace.card]: <Minion ('Cult Master')> moves from <Zone.DECK: 2> to <Zone.HAND: 3>\n",
      "[fireplace.entity]: Empty stack, refreshing auras and processing deaths\n",
      "[fireplace.utils]: Playing <Minion ('Chillwind Yeti')> on None\n",
      "[fireplace.actions]: Player2 plays <Minion ('Chillwind Yeti')> (target=None, index=None)\n",
      "[fireplace.entity]: Player2 pays 4 mana\n",
      "[fireplace.card]: <Minion ('Chillwind Yeti')> moves from <Zone.HAND: 3> to <Zone.PLAY: 1>\n",
      "[fireplace.actions]: <Minion ('Chillwind Yeti')> triggering <TargetedAction: Battlecry(<Battlecry.TARGET>=None)> targeting [<Minion ('Chillwind Yeti')>]\n",
      "[fireplace.actions]: Activating <Minion ('Chillwind Yeti')> action targeting None\n",
      "[fireplace.entity]: Empty stack, refreshing auras and processing deaths\n",
      "[fireplace.entity]: Empty stack, refreshing auras and processing deaths\n",
      "[fireplace.utils]: Playing <Minion ('Cult Master')> on None\n",
      "[fireplace.actions]: Player2 plays <Minion ('Cult Master')> (target=None, index=None)\n",
      "[fireplace.entity]: Player2 pays 4 mana\n",
      "[fireplace.card]: <Minion ('Cult Master')> moves from <Zone.HAND: 3> to <Zone.PLAY: 1>\n",
      "[fireplace.actions]: <Minion ('Cult Master')> triggering <TargetedAction: Battlecry(<Battlecry.TARGET>=None)> targeting [<Minion ('Cult Master')>]\n",
      "[fireplace.actions]: Activating <Minion ('Cult Master')> action targeting None\n",
      "[fireplace.entity]: Empty stack, refreshing auras and processing deaths\n",
      "[fireplace.entity]: Empty stack, refreshing auras and processing deaths\n",
      "[fireplace.actions]: <Minion ('Stonesplinter Trogg')> attacks <Hero ('Jaina Proudmoore')>\n",
      "[fireplace.actions]: <Minion ('Stonesplinter Trogg')> triggering <TargetedAction: Hit(<Hit.AMOUNT>=2)> targeting [<Hero ('Jaina Proudmoore')>]\n",
      "[fireplace.actions]: <Minion ('Stonesplinter Trogg')> triggering <TargetedAction: Predamage(<Predamage.AMOUNT>=2)> targeting [<Hero ('Jaina Proudmoore')>]\n",
      "[fireplace.actions]: <Minion ('Stonesplinter Trogg')> triggering <TargetedAction: Damage()> targeting [<Hero ('Jaina Proudmoore')>]\n"
     ]
    },
    {
     "name": "stdout",
     "output_type": "stream",
     "text": [
      "Playing <Minion ('Chillwind Yeti')> on None\n",
      "[{'timestamp': datetime.datetime(2016, 6, 3, 17, 35, 24, 364789), 'game_id': 3, 'event_value': '4', 'event_key': 'mana_spent', 'player': 'Player2'}]\n",
      "Playing <Minion ('Cult Master')> on None\n",
      "[{'timestamp': datetime.datetime(2016, 6, 3, 17, 35, 24, 444798), 'game_id': 3, 'event_value': '4', 'event_key': 'mana_spent', 'player': 'Player2'}]\n"
     ]
    },
    {
     "name": "stderr",
     "output_type": "stream",
     "text": [
      "[fireplace.entity]: Empty stack, refreshing auras and processing deaths\n",
      "[fireplace.entity]: Player2 ends turn 15\n",
      "[fireplace.entity]: Player1 begins turn 16\n",
      "[fireplace.entity]: Player1 is now at 8 mana crystals\n",
      "[fireplace.actions]: Player(name='Player1', hero=<Hero ('Jaina Proudmoore')>) triggering <TargetedAction: Draw()> targeting [Player(name='Player1', hero=<Hero ('Jaina Proudmoore')>)]\n",
      "[fireplace.entity]: Player1 draws <Minion ('Stonesplinter Trogg')>\n",
      "[fireplace.card]: <Minion ('Stonesplinter Trogg')> moves from <Zone.DECK: 2> to <Zone.HAND: 3>\n",
      "[fireplace.entity]: Empty stack, refreshing auras and processing deaths\n",
      "[fireplace.entity]: Player1 uses hero power <HeroPower ('Fireblast')> on <Minion ('Validated Doomsayer')>\n",
      "[fireplace.actions]: <HeroPower ('Fireblast')> triggering <TargetedAction: Hit(<Hit.AMOUNT>=1)> targeting [<Minion ('Validated Doomsayer')>]\n",
      "[fireplace.actions]: <HeroPower ('Fireblast')> triggering <TargetedAction: Predamage(<Predamage.AMOUNT>=1)> targeting [<Minion ('Validated Doomsayer')>]\n"
     ]
    },
    {
     "name": "stdout",
     "output_type": "stream",
     "text": [
      "[{'timestamp': datetime.datetime(2016, 6, 3, 17, 35, 24, 560804), 'game_id': 3, 'event_value': '15', 'event_key': 'turn_end', 'player': 'Player2'}]\n",
      "[{'timestamp': datetime.datetime(2016, 6, 3, 17, 35, 24, 596808), 'game_id': 3, 'event_value': '16', 'event_key': 'turn_begins', 'player': 'Player1'}]\n",
      "[{'timestamp': datetime.datetime(2016, 6, 3, 17, 35, 24, 644813), 'game_id': 3, 'event_value': '8', 'event_key': 'max_mana', 'player': 'Player1'}]\n",
      "[{'timestamp': datetime.datetime(2016, 6, 3, 17, 35, 24, 712813), 'game_id': 3, 'event_value': 'Validated Doomsayer', 'event_key': 'hero_power', 'player': 'Player1'}]\n"
     ]
    },
    {
     "name": "stderr",
     "output_type": "stream",
     "text": [
      "[fireplace.actions]: <HeroPower ('Fireblast')> triggering <TargetedAction: Damage()> targeting [<Minion ('Validated Doomsayer')>]\n",
      "[fireplace.entity]: Empty stack, refreshing auras and processing deaths\n",
      "[fireplace.utils]: Playing <Minion ('Violet Teacher')> on None\n",
      "[fireplace.actions]: Player1 plays <Minion ('Violet Teacher')> (target=None, index=None)\n",
      "[fireplace.entity]: Player1 pays 4 mana\n",
      "[fireplace.card]: <Minion ('Violet Teacher')> moves from <Zone.HAND: 3> to <Zone.PLAY: 1>\n",
      "[fireplace.actions]: <Minion ('Violet Teacher')> triggering <TargetedAction: Battlecry(<Battlecry.TARGET>=None)> targeting [<Minion ('Violet Teacher')>]\n",
      "[fireplace.actions]: Activating <Minion ('Violet Teacher')> action targeting None\n",
      "[fireplace.entity]: Empty stack, refreshing auras and processing deaths\n",
      "[fireplace.entity]: Empty stack, refreshing auras and processing deaths\n",
      "[fireplace.actions]: <Minion ('Reno Jackson')> attacks <Minion ('Stonesplinter Trogg')>\n",
      "[fireplace.actions]: <Minion ('Reno Jackson')> triggering <TargetedAction: Hit(<Hit.AMOUNT>=4)> targeting [<Minion ('Stonesplinter Trogg')>]\n",
      "[fireplace.actions]: <Minion ('Reno Jackson')> triggering <TargetedAction: Predamage(<Predamage.AMOUNT>=4)> targeting [<Minion ('Stonesplinter Trogg')>]\n",
      "[fireplace.actions]: <Minion ('Reno Jackson')> triggering <TargetedAction: Damage()> targeting [<Minion ('Stonesplinter Trogg')>]\n",
      "[fireplace.actions]: <Minion ('Stonesplinter Trogg')> triggering <TargetedAction: Hit(<Hit.AMOUNT>=2)> targeting [<Minion ('Reno Jackson')>]\n",
      "[fireplace.actions]: <Minion ('Stonesplinter Trogg')> triggering <TargetedAction: Predamage(<Predamage.AMOUNT>=2)> targeting [<Minion ('Reno Jackson')>]\n",
      "[fireplace.actions]: <Minion ('Stonesplinter Trogg')> triggering <TargetedAction: Damage()> targeting [<Minion ('Reno Jackson')>]\n",
      "[fireplace.entity]: Empty stack, refreshing auras and processing deaths\n",
      "[fireplace.entity]: <Minion ('Stonesplinter Trogg')> is removed from the field\n",
      "[fireplace.card]: <Minion ('Stonesplinter Trogg')> moves from <Zone.PLAY: 1> to <Zone.GRAVEYARD: 4>\n",
      "[fireplace.entity]: Empty stack, refreshing auras and processing deaths\n",
      "[fireplace.actions]: Processing Death for <Minion ('Stonesplinter Trogg')>\n",
      "[fireplace.actions]: <Minion ('Cult Master')> triggers off <Action: Death(<Death.ENTITY>=<Minion ('Stonesplinter Trogg')>)> from Game(players=(Player(name='Player1', hero=<Hero ('Jaina Proudmoore')>), Player(name='Player2', hero=<Hero ('Valeera Sanguinar')>)))\n",
      "[fireplace.actions]: <Minion ('Cult Master')> triggering <TargetedAction: Draw()> targeting [Player(name='Player2', hero=<Hero ('Valeera Sanguinar')>)]\n"
     ]
    },
    {
     "name": "stdout",
     "output_type": "stream",
     "text": [
      "Playing <Minion ('Violet Teacher')> on None\n",
      "[{'timestamp': datetime.datetime(2016, 6, 3, 17, 35, 24, 800822), 'game_id': 3, 'event_value': '4', 'event_key': 'mana_spent', 'player': 'Player1'}]\n"
     ]
    },
    {
     "name": "stderr",
     "output_type": "stream",
     "text": [
      "[fireplace.entity]: Player2 draws <Minion ('Fencing Coach')>\n",
      "[fireplace.card]: <Minion ('Fencing Coach')> moves from <Zone.DECK: 2> to <Zone.HAND: 3>\n",
      "[fireplace.entity]: Empty stack, refreshing auras and processing deaths\n",
      "[fireplace.entity]: Player1 ends turn 16\n",
      "[fireplace.entity]: Player2 begins turn 17\n",
      "[fireplace.entity]: Player2 is now at 9 mana crystals\n",
      "[fireplace.actions]: Player(name='Player2', hero=<Hero ('Valeera Sanguinar')>) triggering <TargetedAction: Draw()> targeting [Player(name='Player2', hero=<Hero ('Valeera Sanguinar')>)]\n",
      "[fireplace.entity]: Player2 draws <Minion ('Iron Sensei')>\n",
      "[fireplace.card]: <Minion ('Iron Sensei')> moves from <Zone.DECK: 2> to <Zone.HAND: 3>\n",
      "[fireplace.entity]: Empty stack, refreshing auras and processing deaths\n",
      "[fireplace.actions]: <Minion ('Chillwind Yeti')> attacks <Hero ('Jaina Proudmoore')>\n",
      "[fireplace.actions]: <Minion ('Chillwind Yeti')> triggering <TargetedAction: Hit(<Hit.AMOUNT>=4)> targeting [<Hero ('Jaina Proudmoore')>]\n",
      "[fireplace.actions]: <Minion ('Chillwind Yeti')> triggering <TargetedAction: Predamage(<Predamage.AMOUNT>=4)> targeting [<Hero ('Jaina Proudmoore')>]\n"
     ]
    },
    {
     "name": "stdout",
     "output_type": "stream",
     "text": [
      "[{'timestamp': datetime.datetime(2016, 6, 3, 17, 35, 25, 4833), 'game_id': 3, 'event_value': '16', 'event_key': 'turn_end', 'player': 'Player1'}]\n",
      "[{'timestamp': datetime.datetime(2016, 6, 3, 17, 35, 25, 52838), 'game_id': 3, 'event_value': '17', 'event_key': 'turn_begins', 'player': 'Player2'}]\n",
      "[{'timestamp': datetime.datetime(2016, 6, 3, 17, 35, 25, 108841), 'game_id': 3, 'event_value': '9', 'event_key': 'max_mana', 'player': 'Player2'}]\n"
     ]
    },
    {
     "name": "stderr",
     "output_type": "stream",
     "text": [
      "[fireplace.actions]: <Minion ('Chillwind Yeti')> triggering <TargetedAction: Damage()> targeting [<Hero ('Jaina Proudmoore')>]\n",
      "[fireplace.entity]: Empty stack, refreshing auras and processing deaths\n",
      "[fireplace.actions]: <Minion ('Cult Master')> attacks <Minion ('Reno Jackson')>\n",
      "[fireplace.actions]: <Minion ('Cult Master')> triggering <TargetedAction: Hit(<Hit.AMOUNT>=4)> targeting [<Minion ('Reno Jackson')>]\n",
      "[fireplace.actions]: <Minion ('Cult Master')> triggering <TargetedAction: Predamage(<Predamage.AMOUNT>=4)> targeting [<Minion ('Reno Jackson')>]\n",
      "[fireplace.actions]: <Minion ('Cult Master')> triggering <TargetedAction: Damage()> targeting [<Minion ('Reno Jackson')>]\n",
      "[fireplace.actions]: <Minion ('Reno Jackson')> triggering <TargetedAction: Hit(<Hit.AMOUNT>=4)> targeting [<Minion ('Cult Master')>]\n",
      "[fireplace.actions]: <Minion ('Reno Jackson')> triggering <TargetedAction: Predamage(<Predamage.AMOUNT>=4)> targeting [<Minion ('Cult Master')>]\n",
      "[fireplace.actions]: <Minion ('Reno Jackson')> triggering <TargetedAction: Damage()> targeting [<Minion ('Cult Master')>]\n",
      "[fireplace.entity]: Empty stack, refreshing auras and processing deaths\n",
      "[fireplace.entity]: <Minion ('Reno Jackson')> is removed from the field\n",
      "[fireplace.card]: <Minion ('Reno Jackson')> moves from <Zone.PLAY: 1> to <Zone.GRAVEYARD: 4>\n",
      "[fireplace.entity]: <Minion ('Cult Master')> is removed from the field\n",
      "[fireplace.card]: <Minion ('Cult Master')> moves from <Zone.PLAY: 1> to <Zone.GRAVEYARD: 4>\n",
      "[fireplace.entity]: Empty stack, refreshing auras and processing deaths\n",
      "[fireplace.actions]: Processing Death for <Minion ('Reno Jackson')>\n",
      "[fireplace.actions]: Processing Death for <Minion ('Cult Master')>\n",
      "[fireplace.entity]: Empty stack, refreshing auras and processing deaths\n",
      "[fireplace.entity]: Player2 ends turn 17\n",
      "[fireplace.entity]: Player1 begins turn 18\n",
      "[fireplace.entity]: Player1 is now at 9 mana crystals\n",
      "[fireplace.actions]: Player(name='Player1', hero=<Hero ('Jaina Proudmoore')>) triggering <TargetedAction: Draw()> targeting [Player(name='Player1', hero=<Hero ('Jaina Proudmoore')>)]\n",
      "[fireplace.entity]: Player1 draws <Minion ('Violet Teacher')>\n",
      "[fireplace.card]: <Minion ('Violet Teacher')> moves from <Zone.DECK: 2> to <Zone.HAND: 3>\n",
      "[fireplace.entity]: Empty stack, refreshing auras and processing deaths\n",
      "[fireplace.utils]: Playing <Minion ('Twisted Worgen')> on None\n",
      "[fireplace.actions]: Player1 plays <Minion ('Twisted Worgen')> (target=None, index=None)\n",
      "[fireplace.entity]: Player1 pays 2 mana\n"
     ]
    },
    {
     "name": "stdout",
     "output_type": "stream",
     "text": [
      "[{'timestamp': datetime.datetime(2016, 6, 3, 17, 35, 25, 296854), 'game_id': 3, 'event_value': '17', 'event_key': 'turn_end', 'player': 'Player2'}]\n",
      "[{'timestamp': datetime.datetime(2016, 6, 3, 17, 35, 25, 332856), 'game_id': 3, 'event_value': '18', 'event_key': 'turn_begins', 'player': 'Player1'}]\n",
      "[{'timestamp': datetime.datetime(2016, 6, 3, 17, 35, 25, 380876), 'game_id': 3, 'event_value': '9', 'event_key': 'max_mana', 'player': 'Player1'}]\n",
      "Playing <Minion ('Twisted Worgen')> on None\n",
      "[{'timestamp': datetime.datetime(2016, 6, 3, 17, 35, 25, 460875), 'game_id': 3, 'event_value': '2', 'event_key': 'mana_spent', 'player': 'Player1'}]\n"
     ]
    },
    {
     "name": "stderr",
     "output_type": "stream",
     "text": [
      "[fireplace.card]: <Minion ('Twisted Worgen')> moves from <Zone.HAND: 3> to <Zone.PLAY: 1>\n",
      "[fireplace.actions]: <Minion ('Twisted Worgen')> triggering <TargetedAction: Battlecry(<Battlecry.TARGET>=None)> targeting [<Minion ('Twisted Worgen')>]\n",
      "[fireplace.actions]: Activating <Minion ('Twisted Worgen')> action targeting None\n",
      "[fireplace.entity]: Empty stack, refreshing auras and processing deaths\n",
      "[fireplace.entity]: Empty stack, refreshing auras and processing deaths\n",
      "[fireplace.utils]: Playing <Spell ('Fireball')> on <Minion ('Validated Doomsayer')>\n",
      "[fireplace.actions]: Player1 plays <Spell ('Fireball')> (target=<Minion ('Validated Doomsayer')>, index=None)\n",
      "[fireplace.entity]: Player1 pays 4 mana\n",
      "[fireplace.card]: <Spell ('Fireball')> moves from <Zone.HAND: 3> to <Zone.PLAY: 1>\n",
      "[fireplace.actions]: <Minion ('Violet Teacher')> triggers off <Action: Play(<Play.PLAYER>=<Spell ('Fireball')>, <Play.CARD>=<Minion ('Validated Doomsayer')>, <Play.TARGET>=None, <Play.INDEX>=None)> from Player(name='Player1', hero=<Hero ('Jaina Proudmoore')>)\n",
      "[fireplace.actions]: <Minion ('Violet Teacher')> triggering <TargetedAction: Summon(<Summon.CARD>='NEW1_026t')> targeting [Player(name='Player1', hero=<Hero ('Jaina Proudmoore')>)]\n",
      "[fireplace.actions]: Player1 summons [<Minion ('Violet Apprentice')>]\n",
      "[fireplace.card]: <Minion ('Violet Apprentice')> moves from <Zone.SETASIDE: 6> to <Zone.PLAY: 1>\n",
      "[fireplace.entity]: Empty stack, refreshing auras and processing deaths\n",
      "[fireplace.actions]: <Spell ('Fireball')> triggering <TargetedAction: Battlecry(<Battlecry.TARGET>=<Minion ('Validated Doomsayer')>)> targeting [<Spell ('Fireball')>]\n",
      "[fireplace.actions]: Activating <Spell ('Fireball')> action targeting <Minion ('Validated Doomsayer')>\n",
      "[fireplace.actions]: <Spell ('Fireball')> triggering <TargetedAction: Hit(<Hit.AMOUNT>=6)> targeting [<Minion ('Validated Doomsayer')>]\n",
      "[fireplace.actions]: <Spell ('Fireball')> triggering <TargetedAction: Predamage(<Predamage.AMOUNT>=6)> targeting [<Minion ('Validated Doomsayer')>]\n",
      "[fireplace.actions]: <Spell ('Fireball')> triggering <TargetedAction: Damage()> targeting [<Minion ('Validated Doomsayer')>]\n",
      "[fireplace.entity]: Empty stack, refreshing auras and processing deaths\n",
      "[fireplace.entity]: <Minion ('Validated Doomsayer')> is removed from the field\n",
      "[fireplace.card]: <Minion ('Validated Doomsayer')> moves from <Zone.PLAY: 1> to <Zone.GRAVEYARD: 4>\n",
      "[fireplace.entity]: Empty stack, refreshing auras and processing deaths\n",
      "[fireplace.actions]: Processing Death for <Minion ('Validated Doomsayer')>\n",
      "[fireplace.entity]: Empty stack, refreshing auras and processing deaths\n",
      "[fireplace.entity]: Empty stack, refreshing auras and processing deaths\n",
      "[fireplace.utils]: Playing <Minion ('Stonesplinter Trogg')> on None\n",
      "[fireplace.actions]: Player1 plays <Minion ('Stonesplinter Trogg')> (target=None, index=None)\n",
      "[fireplace.entity]: Player1 pays 2 mana\n",
      "[fireplace.card]: <Minion ('Stonesplinter Trogg')> moves from <Zone.HAND: 3> to <Zone.PLAY: 1>\n"
     ]
    },
    {
     "name": "stdout",
     "output_type": "stream",
     "text": [
      "Playing <Spell ('Fireball')> on <Minion ('Validated Doomsayer')>\n",
      "[{'timestamp': datetime.datetime(2016, 6, 3, 17, 35, 25, 552872), 'game_id': 3, 'event_value': '4', 'event_key': 'mana_spent', 'player': 'Player1'}]\n",
      "Playing <Minion ('Stonesplinter Trogg')> on None\n",
      "[{'timestamp': datetime.datetime(2016, 6, 3, 17, 35, 25, 708887), 'game_id': 3, 'event_value': '2', 'event_key': 'mana_spent', 'player': 'Player1'}]\n"
     ]
    },
    {
     "name": "stderr",
     "output_type": "stream",
     "text": [
      "[fireplace.actions]: <Minion ('Stonesplinter Trogg')> triggering <TargetedAction: Battlecry(<Battlecry.TARGET>=None)> targeting [<Minion ('Stonesplinter Trogg')>]\n",
      "[fireplace.actions]: Activating <Minion ('Stonesplinter Trogg')> action targeting None\n",
      "[fireplace.entity]: Empty stack, refreshing auras and processing deaths\n",
      "[fireplace.entity]: Empty stack, refreshing auras and processing deaths\n",
      "[fireplace.actions]: <Minion ('Violet Teacher')> attacks <Minion ('Chillwind Yeti')>\n",
      "[fireplace.actions]: <Minion ('Violet Teacher')> triggering <TargetedAction: Hit(<Hit.AMOUNT>=3)> targeting [<Minion ('Chillwind Yeti')>]\n",
      "[fireplace.actions]: <Minion ('Violet Teacher')> triggering <TargetedAction: Predamage(<Predamage.AMOUNT>=3)> targeting [<Minion ('Chillwind Yeti')>]\n",
      "[fireplace.actions]: <Minion ('Violet Teacher')> triggering <TargetedAction: Damage()> targeting [<Minion ('Chillwind Yeti')>]\n",
      "[fireplace.actions]: <Minion ('Chillwind Yeti')> triggering <TargetedAction: Hit(<Hit.AMOUNT>=4)> targeting [<Minion ('Violet Teacher')>]\n",
      "[fireplace.actions]: <Minion ('Chillwind Yeti')> triggering <TargetedAction: Predamage(<Predamage.AMOUNT>=4)> targeting [<Minion ('Violet Teacher')>]\n",
      "[fireplace.actions]: <Minion ('Chillwind Yeti')> triggering <TargetedAction: Damage()> targeting [<Minion ('Violet Teacher')>]\n",
      "[fireplace.entity]: Empty stack, refreshing auras and processing deaths\n",
      "[fireplace.entity]: Player1 ends turn 18\n",
      "[fireplace.entity]: Player2 begins turn 19\n",
      "[fireplace.entity]: Player2 is now at 10 mana crystals\n",
      "[fireplace.actions]: Player(name='Player2', hero=<Hero ('Valeera Sanguinar')>) triggering <TargetedAction: Draw()> targeting [Player(name='Player2', hero=<Hero ('Valeera Sanguinar')>)]\n",
      "[fireplace.entity]: Player2 draws <Minion ('Twilight Geomancer')>\n",
      "[fireplace.card]: <Minion ('Twilight Geomancer')> moves from <Zone.DECK: 2> to <Zone.HAND: 3>\n",
      "[fireplace.entity]: Empty stack, refreshing auras and processing deaths\n",
      "[fireplace.utils]: Playing <Spell ('Shiv')> on <Minion ('Violet Apprentice')>\n",
      "[fireplace.actions]: Player2 plays <Spell ('Shiv')> (target=<Minion ('Violet Apprentice')>, index=None)\n",
      "[fireplace.entity]: Player2 pays 2 mana\n",
      "[fireplace.card]: <Spell ('Shiv')> moves from <Zone.HAND: 3> to <Zone.PLAY: 1>\n"
     ]
    },
    {
     "name": "stdout",
     "output_type": "stream",
     "text": [
      "[{'timestamp': datetime.datetime(2016, 6, 3, 17, 35, 25, 836890), 'game_id': 3, 'event_value': '18', 'event_key': 'turn_end', 'player': 'Player1'}]\n",
      "[{'timestamp': datetime.datetime(2016, 6, 3, 17, 35, 25, 876893), 'game_id': 3, 'event_value': '19', 'event_key': 'turn_begins', 'player': 'Player2'}]\n",
      "[{'timestamp': datetime.datetime(2016, 6, 3, 17, 35, 25, 924896), 'game_id': 3, 'event_value': '10', 'event_key': 'max_mana', 'player': 'Player2'}]\n",
      "Playing <Spell ('Shiv')> on <Minion ('Violet Apprentice')>\n",
      "[{'timestamp': datetime.datetime(2016, 6, 3, 17, 35, 26, 901), 'game_id': 3, 'event_value': '2', 'event_key': 'mana_spent', 'player': 'Player2'}]\n"
     ]
    },
    {
     "name": "stderr",
     "output_type": "stream",
     "text": [
      "[fireplace.actions]: <Minion ('Stonesplinter Trogg')> triggers off <Action: Play(<Play.PLAYER>=<Spell ('Shiv')>, <Play.CARD>=<Minion ('Violet Apprentice')>, <Play.TARGET>=None, <Play.INDEX>=None)> from Player(name='Player2', hero=<Hero ('Valeera Sanguinar')>)\n",
      "[fireplace.actions]: <Minion ('Stonesplinter Trogg')> triggering <TargetedAction: Buff(<Buff.BUFF>='GVG_067a')> targeting [<Minion ('Stonesplinter Trogg')>]\n",
      "[fireplace.entity]: Applying <Enchantment ('Metabolized Magic')> to <Minion ('Stonesplinter Trogg')>\n",
      "[fireplace.card]: <Enchantment ('Metabolized Magic')> moves from <Zone.SETASIDE: 6> to <Zone.PLAY: 1>\n",
      "[fireplace.entity]: Empty stack, refreshing auras and processing deaths\n",
      "[fireplace.actions]: <Secret ('Counterspell')> triggers off <Action: Play(<Play.PLAYER>=<Spell ('Shiv')>, <Play.CARD>=<Minion ('Violet Apprentice')>, <Play.TARGET>=None, <Play.INDEX>=None)> from Player(name='Player2', hero=<Hero ('Valeera Sanguinar')>)\n",
      "[fireplace.actions]: <Secret ('Counterspell')> triggering <TargetedAction: Reveal()> targeting [<Secret ('Counterspell')>]\n",
      "[fireplace.actions]: Revealing secret <Secret ('Counterspell')>\n",
      "[fireplace.card]: <Secret ('Counterspell')> moves from <Zone.SECRET: 7> to <Zone.GRAVEYARD: 4>\n",
      "[fireplace.actions]: <Secret ('Counterspell')> triggering <TargetedAction: Counter()> targeting [<Spell ('Shiv')>]\n",
      "[fireplace.entity]: Empty stack, refreshing auras and processing deaths\n",
      "[fireplace.entity]: Empty stack, refreshing auras and processing deaths\n",
      "[fireplace.utils]: Playing <Minion ('Iron Sensei')> on None\n",
      "[fireplace.actions]: Player2 plays <Minion ('Iron Sensei')> (target=None, index=None)\n",
      "[fireplace.entity]: Player2 pays 3 mana\n",
      "[fireplace.card]: <Minion ('Iron Sensei')> moves from <Zone.HAND: 3> to <Zone.PLAY: 1>\n",
      "[fireplace.actions]: <Minion ('Iron Sensei')> triggering <TargetedAction: Battlecry(<Battlecry.TARGET>=None)> targeting [<Minion ('Iron Sensei')>]\n",
      "[fireplace.actions]: Activating <Minion ('Iron Sensei')> action targeting None\n",
      "[fireplace.entity]: Empty stack, refreshing auras and processing deaths\n",
      "[fireplace.entity]: Empty stack, refreshing auras and processing deaths\n",
      "[fireplace.actions]: <Minion ('Chillwind Yeti')> attacks <Minion ('Stonesplinter Trogg')>\n",
      "[fireplace.actions]: <Minion ('Chillwind Yeti')> triggering <TargetedAction: Hit(<Hit.AMOUNT>=4)> targeting [<Minion ('Stonesplinter Trogg')>]\n",
      "[fireplace.actions]: <Minion ('Chillwind Yeti')> triggering <TargetedAction: Predamage(<Predamage.AMOUNT>=4)> targeting [<Minion ('Stonesplinter Trogg')>]\n",
      "[fireplace.actions]: <Minion ('Chillwind Yeti')> triggering <TargetedAction: Damage()> targeting [<Minion ('Stonesplinter Trogg')>]\n",
      "[fireplace.actions]: <Minion ('Stonesplinter Trogg')> triggering <TargetedAction: Hit(<Hit.AMOUNT>=3)> targeting [<Minion ('Chillwind Yeti')>]\n",
      "[fireplace.actions]: <Minion ('Stonesplinter Trogg')> triggering <TargetedAction: Predamage(<Predamage.AMOUNT>=3)> targeting [<Minion ('Chillwind Yeti')>]\n",
      "[fireplace.actions]: <Minion ('Stonesplinter Trogg')> triggering <TargetedAction: Damage()> targeting [<Minion ('Chillwind Yeti')>]\n",
      "[fireplace.entity]: Empty stack, refreshing auras and processing deaths\n",
      "[fireplace.entity]: <Minion ('Stonesplinter Trogg')> is removed from the field\n",
      "[fireplace.card]: <Minion ('Stonesplinter Trogg')> moves from <Zone.PLAY: 1> to <Zone.GRAVEYARD: 4>\n",
      "[fireplace.entity]: <Minion ('Chillwind Yeti')> is removed from the field\n",
      "[fireplace.card]: <Minion ('Chillwind Yeti')> moves from <Zone.PLAY: 1> to <Zone.GRAVEYARD: 4>\n",
      "[fireplace.entity]: Empty stack, refreshing auras and processing deaths\n",
      "[fireplace.actions]: Processing Death for <Minion ('Stonesplinter Trogg')>\n",
      "[fireplace.actions]: Processing Death for <Minion ('Chillwind Yeti')>\n",
      "[fireplace.entity]: Empty stack, refreshing auras and processing deaths\n",
      "[fireplace.actions]: <Minion ('Iron Sensei')> triggers off <Action: EndTurn(<EndTurn.PLAYER>=Player(name='Player2', hero=<Hero ('Valeera Sanguinar')>))> from Game(players=(Player(name='Player1', hero=<Hero ('Jaina Proudmoore')>), Player(name='Player2', hero=<Hero ('Valeera Sanguinar')>)))\n",
      "[fireplace.actions]: <Minion ('Iron Sensei')> triggering <TargetedAction: Buff(<Buff.BUFF>='GVG_027e')> targeting []\n",
      "[fireplace.entity]: Empty stack, refreshing auras and processing deaths\n",
      "[fireplace.entity]: Player2 ends turn 19\n"
     ]
    },
    {
     "name": "stdout",
     "output_type": "stream",
     "text": [
      "Playing <Minion ('Iron Sensei')> on None\n",
      "[{'timestamp': datetime.datetime(2016, 6, 3, 17, 35, 26, 136912), 'game_id': 3, 'event_value': '3', 'event_key': 'mana_spent', 'player': 'Player2'}]\n",
      "[{'timestamp': datetime.datetime(2016, 6, 3, 17, 35, 26, 312925), 'game_id': 3, 'event_value': '19', 'event_key': 'turn_end', 'player': 'Player2'}]\n"
     ]
    },
    {
     "name": "stderr",
     "output_type": "stream",
     "text": [
      "[fireplace.entity]: Player1 begins turn 20\n",
      "[fireplace.entity]: Player1 is now at 10 mana crystals\n",
      "[fireplace.actions]: Player(name='Player1', hero=<Hero ('Jaina Proudmoore')>) triggering <TargetedAction: Draw()> targeting [Player(name='Player1', hero=<Hero ('Jaina Proudmoore')>)]\n",
      "[fireplace.entity]: Player1 draws <Minion ('North Sea Kraken')>\n",
      "[fireplace.card]: <Minion ('North Sea Kraken')> moves from <Zone.DECK: 2> to <Zone.HAND: 3>\n",
      "[fireplace.entity]: Empty stack, refreshing auras and processing deaths\n",
      "[fireplace.utils]: Playing <Minion ('Hungry Crab')> on None\n",
      "[fireplace.actions]: Player1 plays <Minion ('Hungry Crab')> (target=None, index=None)\n",
      "[fireplace.entity]: Player1 pays 1 mana\n",
      "[fireplace.card]: <Minion ('Hungry Crab')> moves from <Zone.HAND: 3> to <Zone.PLAY: 1>\n",
      "[fireplace.actions]: <Minion ('Hungry Crab')> triggering <TargetedAction: Battlecry(<Battlecry.TARGET>=None)> targeting [<Minion ('Hungry Crab')>]\n",
      "[fireplace.actions]: <Minion ('Hungry Crab')> has no target, action exits early\n"
     ]
    },
    {
     "name": "stdout",
     "output_type": "stream",
     "text": [
      "[{'timestamp': datetime.datetime(2016, 6, 3, 17, 35, 26, 352928), 'game_id': 3, 'event_value': '20', 'event_key': 'turn_begins', 'player': 'Player1'}]\n",
      "[{'timestamp': datetime.datetime(2016, 6, 3, 17, 35, 26, 404930), 'game_id': 3, 'event_value': '10', 'event_key': 'max_mana', 'player': 'Player1'}]\n",
      "Playing <Minion ('Hungry Crab')> on None\n",
      "[{'timestamp': datetime.datetime(2016, 6, 3, 17, 35, 26, 500081), 'game_id': 3, 'event_value': '1', 'event_key': 'mana_spent', 'player': 'Player1'}]\n"
     ]
    },
    {
     "name": "stderr",
     "output_type": "stream",
     "text": [
      "[fireplace.entity]: Empty stack, refreshing auras and processing deaths\n",
      "[fireplace.utils]: Playing <Minion ('North Sea Kraken')> on <Hero ('Jaina Proudmoore')>\n",
      "[fireplace.actions]: Player1 plays <Minion ('North Sea Kraken')> (target=<Hero ('Jaina Proudmoore')>, index=None)\n",
      "[fireplace.entity]: Player1 pays 9 mana\n",
      "[fireplace.card]: <Minion ('North Sea Kraken')> moves from <Zone.HAND: 3> to <Zone.PLAY: 1>\n",
      "[fireplace.actions]: <Minion ('North Sea Kraken')> triggering <TargetedAction: Battlecry(<Battlecry.TARGET>=<Hero ('Jaina Proudmoore')>)> targeting [<Minion ('North Sea Kraken')>]\n",
      "[fireplace.actions]: Activating <Minion ('North Sea Kraken')> action targeting <Hero ('Jaina Proudmoore')>\n",
      "[fireplace.actions]: <Minion ('North Sea Kraken')> triggering <TargetedAction: Hit(<Hit.AMOUNT>=4)> targeting [<Hero ('Jaina Proudmoore')>]\n",
      "[fireplace.actions]: <Minion ('North Sea Kraken')> triggering <TargetedAction: Predamage(<Predamage.AMOUNT>=4)> targeting [<Hero ('Jaina Proudmoore')>]\n",
      "[fireplace.actions]: <Minion ('North Sea Kraken')> triggering <TargetedAction: Damage()> targeting [<Hero ('Jaina Proudmoore')>]\n",
      "[fireplace.entity]: Empty stack, refreshing auras and processing deaths\n",
      "[fireplace.entity]: Empty stack, refreshing auras and processing deaths\n",
      "[fireplace.actions]: <Minion ('Violet Teacher')> attacks <Minion ('Iron Sensei')>\n",
      "[fireplace.actions]: <Minion ('Violet Teacher')> triggering <TargetedAction: Hit(<Hit.AMOUNT>=3)> targeting [<Minion ('Iron Sensei')>]\n",
      "[fireplace.actions]: <Minion ('Violet Teacher')> triggering <TargetedAction: Predamage(<Predamage.AMOUNT>=3)> targeting [<Minion ('Iron Sensei')>]\n",
      "[fireplace.actions]: <Minion ('Violet Teacher')> triggering <TargetedAction: Damage()> targeting [<Minion ('Iron Sensei')>]\n",
      "[fireplace.actions]: <Minion ('Iron Sensei')> triggering <TargetedAction: Hit(<Hit.AMOUNT>=2)> targeting [<Minion ('Violet Teacher')>]\n",
      "[fireplace.actions]: <Minion ('Iron Sensei')> triggering <TargetedAction: Predamage(<Predamage.AMOUNT>=2)> targeting [<Minion ('Violet Teacher')>]\n",
      "[fireplace.actions]: <Minion ('Iron Sensei')> triggering <TargetedAction: Damage()> targeting [<Minion ('Violet Teacher')>]\n",
      "[fireplace.entity]: Empty stack, refreshing auras and processing deaths\n",
      "[fireplace.entity]: <Minion ('Violet Teacher')> is removed from the field\n",
      "[fireplace.card]: <Minion ('Violet Teacher')> moves from <Zone.PLAY: 1> to <Zone.GRAVEYARD: 4>\n",
      "[fireplace.entity]: <Minion ('Iron Sensei')> is removed from the field\n",
      "[fireplace.card]: <Minion ('Iron Sensei')> moves from <Zone.PLAY: 1> to <Zone.GRAVEYARD: 4>\n",
      "[fireplace.entity]: Empty stack, refreshing auras and processing deaths\n",
      "[fireplace.actions]: Processing Death for <Minion ('Violet Teacher')>\n"
     ]
    },
    {
     "name": "stdout",
     "output_type": "stream",
     "text": [
      "Playing <Minion ('North Sea Kraken')> on <Hero ('Jaina Proudmoore')>\n",
      "[{'timestamp': datetime.datetime(2016, 6, 3, 17, 35, 26, 584098), 'game_id': 3, 'event_value': '9', 'event_key': 'mana_spent', 'player': 'Player1'}]\n"
     ]
    },
    {
     "name": "stderr",
     "output_type": "stream",
     "text": [
      "[fireplace.actions]: Processing Death for <Minion ('Iron Sensei')>\n",
      "[fireplace.entity]: Empty stack, refreshing auras and processing deaths\n",
      "[fireplace.actions]: <Minion ('Violet Apprentice')> attacks <Hero ('Valeera Sanguinar')>\n",
      "[fireplace.actions]: <Minion ('Violet Apprentice')> triggering <TargetedAction: Hit(<Hit.AMOUNT>=1)> targeting [<Hero ('Valeera Sanguinar')>]\n",
      "[fireplace.actions]: <Minion ('Violet Apprentice')> triggering <TargetedAction: Predamage(<Predamage.AMOUNT>=1)> targeting [<Hero ('Valeera Sanguinar')>]\n",
      "[fireplace.actions]: <Minion ('Violet Apprentice')> triggering <TargetedAction: Damage()> targeting [<Hero ('Valeera Sanguinar')>]\n",
      "[fireplace.entity]: Empty stack, refreshing auras and processing deaths\n",
      "[fireplace.actions]: <Minion ('Twisted Worgen')> attacks <Hero ('Valeera Sanguinar')>\n",
      "[fireplace.actions]: <Minion ('Twisted Worgen')> triggering <TargetedAction: Hit(<Hit.AMOUNT>=3)> targeting [<Hero ('Valeera Sanguinar')>]\n",
      "[fireplace.actions]: <Minion ('Twisted Worgen')> triggering <TargetedAction: Predamage(<Predamage.AMOUNT>=3)> targeting [<Hero ('Valeera Sanguinar')>]\n",
      "[fireplace.actions]: <Minion ('Twisted Worgen')> triggering <TargetedAction: Damage()> targeting [<Hero ('Valeera Sanguinar')>]\n",
      "[fireplace.entity]: Empty stack, refreshing auras and processing deaths\n",
      "[fireplace.entity]: Player1 ends turn 20\n",
      "[fireplace.entity]: Player2 begins turn 21\n",
      "[fireplace.entity]: Player2 is now at 10 mana crystals\n",
      "[fireplace.actions]: Player(name='Player2', hero=<Hero ('Valeera Sanguinar')>) triggering <TargetedAction: Draw()> targeting [Player(name='Player2', hero=<Hero ('Valeera Sanguinar')>)]\n",
      "[fireplace.entity]: Player2 draws <Minion ('Defias Ringleader')>\n",
      "[fireplace.card]: <Minion ('Defias Ringleader')> moves from <Zone.DECK: 2> to <Zone.HAND: 3>\n",
      "[fireplace.entity]: Empty stack, refreshing auras and processing deaths\n",
      "[fireplace.utils]: Playing <Minion ('Pit Fighter')> on None\n",
      "[fireplace.actions]: Player2 plays <Minion ('Pit Fighter')> (target=None, index=None)\n",
      "[fireplace.entity]: Player2 pays 5 mana\n"
     ]
    },
    {
     "name": "stdout",
     "output_type": "stream",
     "text": [
      "[{'timestamp': datetime.datetime(2016, 6, 3, 17, 35, 26, 840106), 'game_id': 3, 'event_value': '20', 'event_key': 'turn_end', 'player': 'Player1'}]\n",
      "[{'timestamp': datetime.datetime(2016, 6, 3, 17, 35, 26, 884127), 'game_id': 3, 'event_value': '21', 'event_key': 'turn_begins', 'player': 'Player2'}]\n",
      "[{'timestamp': datetime.datetime(2016, 6, 3, 17, 35, 26, 940112), 'game_id': 3, 'event_value': '10', 'event_key': 'max_mana', 'player': 'Player2'}]\n",
      "Playing <Minion ('Pit Fighter')> on None\n",
      "[{'timestamp': datetime.datetime(2016, 6, 3, 17, 35, 27, 40124), 'game_id': 3, 'event_value': '5', 'event_key': 'mana_spent', 'player': 'Player2'}]\n"
     ]
    },
    {
     "name": "stderr",
     "output_type": "stream",
     "text": [
      "[fireplace.card]: <Minion ('Pit Fighter')> moves from <Zone.HAND: 3> to <Zone.PLAY: 1>\n",
      "[fireplace.actions]: <Minion ('Pit Fighter')> triggering <TargetedAction: Battlecry(<Battlecry.TARGET>=None)> targeting [<Minion ('Pit Fighter')>]\n",
      "[fireplace.actions]: Activating <Minion ('Pit Fighter')> action targeting None\n",
      "[fireplace.entity]: Empty stack, refreshing auras and processing deaths\n",
      "[fireplace.entity]: Empty stack, refreshing auras and processing deaths\n",
      "[fireplace.utils]: Playing <Minion ('Defias Ringleader')> on None\n",
      "[fireplace.actions]: Player2 plays <Minion ('Defias Ringleader')> (target=None, index=None)\n",
      "[fireplace.entity]: Player2 pays 2 mana\n",
      "[fireplace.card]: <Minion ('Defias Ringleader')> moves from <Zone.HAND: 3> to <Zone.PLAY: 1>\n",
      "[fireplace.actions]: <Minion ('Defias Ringleader')> triggering <TargetedAction: Battlecry(<Battlecry.TARGET>=None)> targeting [<Minion ('Defias Ringleader')>]\n",
      "[fireplace.actions]: Activating <Minion ('Defias Ringleader')> combo targeting None\n",
      "[fireplace.actions]: <Minion ('Defias Ringleader')> triggering <TargetedAction: Summon(<Summon.CARD>='EX1_131t')> targeting [Player(name='Player2', hero=<Hero ('Valeera Sanguinar')>)]\n",
      "[fireplace.actions]: Player2 summons [<Minion ('Defias Bandit')>]\n",
      "[fireplace.card]: <Minion ('Defias Bandit')> moves from <Zone.SETASIDE: 6> to <Zone.PLAY: 1>\n",
      "[fireplace.entity]: Empty stack, refreshing auras and processing deaths\n",
      "[fireplace.entity]: Empty stack, refreshing auras and processing deaths\n",
      "[fireplace.entity]: Player2 ends turn 21\n",
      "[fireplace.entity]: Player1 begins turn 22\n"
     ]
    },
    {
     "name": "stdout",
     "output_type": "stream",
     "text": [
      "Playing <Minion ('Defias Ringleader')> on None\n",
      "[{'timestamp': datetime.datetime(2016, 6, 3, 17, 35, 27, 152126), 'game_id': 3, 'event_value': '2', 'event_key': 'mana_spent', 'player': 'Player2'}]\n",
      "[{'timestamp': datetime.datetime(2016, 6, 3, 17, 35, 27, 248136), 'game_id': 3, 'event_value': '21', 'event_key': 'turn_end', 'player': 'Player2'}]\n",
      "[{'timestamp': datetime.datetime(2016, 6, 3, 17, 35, 27, 288152), 'game_id': 3, 'event_value': '22', 'event_key': 'turn_begins', 'player': 'Player1'}]\n"
     ]
    },
    {
     "name": "stderr",
     "output_type": "stream",
     "text": [
      "[fireplace.entity]: Player1 is now at 10 mana crystals\n",
      "[fireplace.actions]: Player(name='Player1', hero=<Hero ('Jaina Proudmoore')>) triggering <TargetedAction: Draw()> targeting [Player(name='Player1', hero=<Hero ('Jaina Proudmoore')>)]\n",
      "[fireplace.entity]: Player1 draws <Minion ('Emperor Thaurissan')>\n",
      "[fireplace.card]: <Minion ('Emperor Thaurissan')> moves from <Zone.DECK: 2> to <Zone.HAND: 3>\n",
      "[fireplace.entity]: Empty stack, refreshing auras and processing deaths\n",
      "[fireplace.utils]: Playing <Minion ('Brann Bronzebeard')> on None\n",
      "[fireplace.actions]: Player1 plays <Minion ('Brann Bronzebeard')> (target=None, index=None)\n",
      "[fireplace.entity]: Player1 pays 3 mana\n",
      "[fireplace.card]: <Minion ('Brann Bronzebeard')> moves from <Zone.HAND: 3> to <Zone.PLAY: 1>\n",
      "[fireplace.actions]: <Minion ('Brann Bronzebeard')> triggering <TargetedAction: Battlecry(<Battlecry.TARGET>=None)> targeting [<Minion ('Brann Bronzebeard')>]\n",
      "[fireplace.actions]: Activating <Minion ('Brann Bronzebeard')> action targeting None\n",
      "[fireplace.entity]: Empty stack, refreshing auras and processing deaths\n",
      "[fireplace.aura]: Creating <AuraBuff <Minion ('Brann Bronzebeard')> -> Player(name='Player1', hero=<Hero ('Jaina Proudmoore')>)>\n",
      "[fireplace.entity]: Empty stack, refreshing auras and processing deaths\n",
      "[fireplace.utils]: Playing <Minion ('Violet Teacher')> on None\n",
      "[fireplace.actions]: Player1 plays <Minion ('Violet Teacher')> (target=None, index=None)\n",
      "[fireplace.entity]: Player1 pays 4 mana\n"
     ]
    },
    {
     "name": "stdout",
     "output_type": "stream",
     "text": [
      "[{'timestamp': datetime.datetime(2016, 6, 3, 17, 35, 27, 340163), 'game_id': 3, 'event_value': '10', 'event_key': 'max_mana', 'player': 'Player1'}]\n",
      "Playing <Minion ('Brann Bronzebeard')> on None\n",
      "[{'timestamp': datetime.datetime(2016, 6, 3, 17, 35, 27, 420144), 'game_id': 3, 'event_value': '3', 'event_key': 'mana_spent', 'player': 'Player1'}]\n",
      "Playing <Minion ('Violet Teacher')> on None\n",
      "[{'timestamp': datetime.datetime(2016, 6, 3, 17, 35, 27, 512155), 'game_id': 3, 'event_value': '4', 'event_key': 'mana_spent', 'player': 'Player1'}]\n"
     ]
    },
    {
     "name": "stderr",
     "output_type": "stream",
     "text": [
      "[fireplace.card]: <Minion ('Violet Teacher')> moves from <Zone.HAND: 3> to <Zone.PLAY: 1>\n",
      "[fireplace.actions]: <Minion ('Violet Teacher')> triggering <TargetedAction: Battlecry(<Battlecry.TARGET>=None)> targeting [<Minion ('Violet Teacher')>]\n",
      "[fireplace.actions]: Activating <Minion ('Violet Teacher')> action targeting None\n",
      "[fireplace.entity]: Empty stack, refreshing auras and processing deaths\n",
      "[fireplace.entity]: Empty stack, refreshing auras and processing deaths\n",
      "[fireplace.actions]: <Minion ('Violet Apprentice')> attacks <Minion ('Pit Fighter')>\n",
      "[fireplace.actions]: <Minion ('Violet Apprentice')> triggering <TargetedAction: Hit(<Hit.AMOUNT>=1)> targeting [<Minion ('Pit Fighter')>]\n",
      "[fireplace.actions]: <Minion ('Violet Apprentice')> triggering <TargetedAction: Predamage(<Predamage.AMOUNT>=1)> targeting [<Minion ('Pit Fighter')>]\n",
      "[fireplace.actions]: <Minion ('Violet Apprentice')> triggering <TargetedAction: Damage()> targeting [<Minion ('Pit Fighter')>]\n",
      "[fireplace.actions]: <Minion ('Pit Fighter')> triggering <TargetedAction: Hit(<Hit.AMOUNT>=5)> targeting [<Minion ('Violet Apprentice')>]\n",
      "[fireplace.actions]: <Minion ('Pit Fighter')> triggering <TargetedAction: Predamage(<Predamage.AMOUNT>=5)> targeting [<Minion ('Violet Apprentice')>]\n",
      "[fireplace.actions]: <Minion ('Pit Fighter')> triggering <TargetedAction: Damage()> targeting [<Minion ('Violet Apprentice')>]\n",
      "[fireplace.entity]: Empty stack, refreshing auras and processing deaths\n",
      "[fireplace.entity]: <Minion ('Violet Apprentice')> is removed from the field\n",
      "[fireplace.card]: <Minion ('Violet Apprentice')> moves from <Zone.PLAY: 1> to <Zone.GRAVEYARD: 4>\n",
      "[fireplace.entity]: Empty stack, refreshing auras and processing deaths\n",
      "[fireplace.actions]: Processing Death for <Minion ('Violet Apprentice')>\n",
      "[fireplace.entity]: Empty stack, refreshing auras and processing deaths\n",
      "[fireplace.actions]: <Minion ('Twisted Worgen')> attacks <Hero ('Valeera Sanguinar')>\n",
      "[fireplace.actions]: <Minion ('Twisted Worgen')> triggering <TargetedAction: Hit(<Hit.AMOUNT>=3)> targeting [<Hero ('Valeera Sanguinar')>]\n",
      "[fireplace.actions]: <Minion ('Twisted Worgen')> triggering <TargetedAction: Predamage(<Predamage.AMOUNT>=3)> targeting [<Hero ('Valeera Sanguinar')>]\n",
      "[fireplace.actions]: <Minion ('Twisted Worgen')> triggering <TargetedAction: Damage()> targeting [<Hero ('Valeera Sanguinar')>]\n",
      "[fireplace.entity]: Empty stack, refreshing auras and processing deaths\n",
      "[fireplace.actions]: <Minion ('Hungry Crab')> attacks <Minion ('Pit Fighter')>\n",
      "[fireplace.actions]: <Minion ('Hungry Crab')> triggering <TargetedAction: Hit(<Hit.AMOUNT>=1)> targeting [<Minion ('Pit Fighter')>]\n",
      "[fireplace.actions]: <Minion ('Hungry Crab')> triggering <TargetedAction: Predamage(<Predamage.AMOUNT>=1)> targeting [<Minion ('Pit Fighter')>]\n",
      "[fireplace.actions]: <Minion ('Hungry Crab')> triggering <TargetedAction: Damage()> targeting [<Minion ('Pit Fighter')>]\n",
      "[fireplace.actions]: <Minion ('Pit Fighter')> triggering <TargetedAction: Hit(<Hit.AMOUNT>=5)> targeting [<Minion ('Hungry Crab')>]\n",
      "[fireplace.actions]: <Minion ('Pit Fighter')> triggering <TargetedAction: Predamage(<Predamage.AMOUNT>=5)> targeting [<Minion ('Hungry Crab')>]\n",
      "[fireplace.actions]: <Minion ('Pit Fighter')> triggering <TargetedAction: Damage()> targeting [<Minion ('Hungry Crab')>]\n",
      "[fireplace.entity]: Empty stack, refreshing auras and processing deaths\n",
      "[fireplace.entity]: <Minion ('Hungry Crab')> is removed from the field\n",
      "[fireplace.card]: <Minion ('Hungry Crab')> moves from <Zone.PLAY: 1> to <Zone.GRAVEYARD: 4>\n",
      "[fireplace.entity]: Empty stack, refreshing auras and processing deaths\n",
      "[fireplace.actions]: Processing Death for <Minion ('Hungry Crab')>\n",
      "[fireplace.entity]: Empty stack, refreshing auras and processing deaths\n",
      "[fireplace.actions]: <Minion ('North Sea Kraken')> attacks <Hero ('Valeera Sanguinar')>\n",
      "[fireplace.actions]: <Minion ('North Sea Kraken')> triggering <TargetedAction: Hit(<Hit.AMOUNT>=9)> targeting [<Hero ('Valeera Sanguinar')>]\n",
      "[fireplace.actions]: <Minion ('North Sea Kraken')> triggering <TargetedAction: Predamage(<Predamage.AMOUNT>=9)> targeting [<Hero ('Valeera Sanguinar')>]\n",
      "[fireplace.actions]: <Minion ('North Sea Kraken')> triggering <TargetedAction: Damage()> targeting [<Hero ('Valeera Sanguinar')>]\n",
      "[fireplace.entity]: Empty stack, refreshing auras and processing deaths\n",
      "[fireplace.entity]: Player1 ends turn 22\n",
      "[fireplace.entity]: Player2 begins turn 23\n",
      "[fireplace.entity]: Player2 is now at 10 mana crystals\n"
     ]
    },
    {
     "name": "stdout",
     "output_type": "stream",
     "text": [
      "[{'timestamp': datetime.datetime(2016, 6, 3, 17, 35, 27, 784170), 'game_id': 3, 'event_value': '22', 'event_key': 'turn_end', 'player': 'Player1'}]\n",
      "[{'timestamp': datetime.datetime(2016, 6, 3, 17, 35, 27, 908182), 'game_id': 3, 'event_value': '23', 'event_key': 'turn_begins', 'player': 'Player2'}]\n",
      "[{'timestamp': datetime.datetime(2016, 6, 3, 17, 35, 27, 952184), 'game_id': 3, 'event_value': '10', 'event_key': 'max_mana', 'player': 'Player2'}]\n"
     ]
    },
    {
     "name": "stderr",
     "output_type": "stream",
     "text": [
      "[fireplace.actions]: Player(name='Player2', hero=<Hero ('Valeera Sanguinar')>) triggering <TargetedAction: Draw()> targeting [Player(name='Player2', hero=<Hero ('Valeera Sanguinar')>)]\n",
      "[fireplace.entity]: Player2 draws <Minion (\"Mimiron's Head\")>\n",
      "[fireplace.card]: <Minion (\"Mimiron's Head\")> moves from <Zone.DECK: 2> to <Zone.HAND: 3>\n",
      "[fireplace.entity]: Empty stack, refreshing auras and processing deaths\n",
      "[fireplace.utils]: Playing <Minion ('Fencing Coach')> on None\n",
      "[fireplace.actions]: Player2 plays <Minion ('Fencing Coach')> (target=None, index=None)\n",
      "[fireplace.entity]: Player2 pays 3 mana\n",
      "[fireplace.card]: <Minion ('Fencing Coach')> moves from <Zone.HAND: 3> to <Zone.PLAY: 1>\n",
      "[fireplace.actions]: <Minion ('Fencing Coach')> triggering <TargetedAction: Battlecry(<Battlecry.TARGET>=None)> targeting [<Minion ('Fencing Coach')>]\n",
      "[fireplace.actions]: Activating <Minion ('Fencing Coach')> action targeting None\n",
      "[fireplace.actions]: <Minion ('Fencing Coach')> triggering <TargetedAction: Buff(<Buff.BUFF>='AT_115e')> targeting [Player(name='Player2', hero=<Hero ('Valeera Sanguinar')>)]\n",
      "[fireplace.entity]: Applying <Enchantment ('Fencing Practice')> to Player(name='Player2', hero=<Hero ('Valeera Sanguinar')>)\n",
      "[fireplace.card]: <Enchantment ('Fencing Practice')> moves from <Zone.SETASIDE: 6> to <Zone.PLAY: 1>\n",
      "[fireplace.entity]: Empty stack, refreshing auras and processing deaths\n",
      "[fireplace.aura]: Creating <AuraBuff <Enchantment ('Fencing Practice')> -> <HeroPower ('Dagger Mastery')>>\n",
      "[fireplace.entity]: Empty stack, refreshing auras and processing deaths\n",
      "[fireplace.actions]: <Minion ('Pit Fighter')> attacks <Minion ('Violet Teacher')>\n",
      "[fireplace.actions]: <Minion ('Pit Fighter')> triggering <TargetedAction: Hit(<Hit.AMOUNT>=5)> targeting [<Minion ('Violet Teacher')>]\n",
      "[fireplace.actions]: <Minion ('Pit Fighter')> triggering <TargetedAction: Predamage(<Predamage.AMOUNT>=5)> targeting [<Minion ('Violet Teacher')>]\n",
      "[fireplace.actions]: <Minion ('Pit Fighter')> triggering <TargetedAction: Damage()> targeting [<Minion ('Violet Teacher')>]\n",
      "[fireplace.actions]: <Minion ('Violet Teacher')> triggering <TargetedAction: Hit(<Hit.AMOUNT>=3)> targeting [<Minion ('Pit Fighter')>]\n",
      "[fireplace.actions]: <Minion ('Violet Teacher')> triggering <TargetedAction: Predamage(<Predamage.AMOUNT>=3)> targeting [<Minion ('Pit Fighter')>]\n",
      "[fireplace.actions]: <Minion ('Violet Teacher')> triggering <TargetedAction: Damage()> targeting [<Minion ('Pit Fighter')>]\n",
      "[fireplace.entity]: Empty stack, refreshing auras and processing deaths\n",
      "[fireplace.entity]: <Minion ('Violet Teacher')> is removed from the field\n",
      "[fireplace.card]: <Minion ('Violet Teacher')> moves from <Zone.PLAY: 1> to <Zone.GRAVEYARD: 4>\n",
      "[fireplace.entity]: Empty stack, refreshing auras and processing deaths\n",
      "[fireplace.actions]: Processing Death for <Minion ('Violet Teacher')>\n",
      "[fireplace.entity]: Empty stack, refreshing auras and processing deaths\n",
      "[fireplace.actions]: <Minion ('Defias Ringleader')> attacks <Minion ('Twisted Worgen')>\n",
      "[fireplace.actions]: <Minion ('Defias Ringleader')> triggering <TargetedAction: Hit(<Hit.AMOUNT>=2)> targeting [<Minion ('Twisted Worgen')>]\n"
     ]
    },
    {
     "name": "stdout",
     "output_type": "stream",
     "text": [
      "Playing <Minion ('Fencing Coach')> on None\n",
      "[{'timestamp': datetime.datetime(2016, 6, 3, 17, 35, 28, 40190), 'game_id': 3, 'event_value': '3', 'event_key': 'mana_spent', 'player': 'Player2'}]\n"
     ]
    },
    {
     "name": "stderr",
     "output_type": "stream",
     "text": [
      "[fireplace.actions]: <Minion ('Defias Ringleader')> triggering <TargetedAction: Predamage(<Predamage.AMOUNT>=2)> targeting [<Minion ('Twisted Worgen')>]\n",
      "[fireplace.actions]: <Minion ('Defias Ringleader')> triggering <TargetedAction: Damage()> targeting [<Minion ('Twisted Worgen')>]\n",
      "[fireplace.actions]: <Minion ('Twisted Worgen')> triggering <TargetedAction: Hit(<Hit.AMOUNT>=3)> targeting [<Minion ('Defias Ringleader')>]\n",
      "[fireplace.actions]: <Minion ('Twisted Worgen')> triggering <TargetedAction: Predamage(<Predamage.AMOUNT>=3)> targeting [<Minion ('Defias Ringleader')>]\n",
      "[fireplace.actions]: <Minion ('Twisted Worgen')> triggering <TargetedAction: Damage()> targeting [<Minion ('Defias Ringleader')>]\n",
      "[fireplace.entity]: Empty stack, refreshing auras and processing deaths\n",
      "[fireplace.entity]: <Minion ('Twisted Worgen')> is removed from the field\n",
      "[fireplace.card]: <Minion ('Twisted Worgen')> moves from <Zone.PLAY: 1> to <Zone.GRAVEYARD: 4>\n",
      "[fireplace.entity]: <Minion ('Defias Ringleader')> is removed from the field\n",
      "[fireplace.card]: <Minion ('Defias Ringleader')> moves from <Zone.PLAY: 1> to <Zone.GRAVEYARD: 4>\n",
      "[fireplace.entity]: Empty stack, refreshing auras and processing deaths\n",
      "[fireplace.actions]: Processing Death for <Minion ('Twisted Worgen')>\n",
      "[fireplace.actions]: Processing Death for <Minion ('Defias Ringleader')>\n",
      "[fireplace.entity]: Empty stack, refreshing auras and processing deaths\n",
      "[fireplace.actions]: <Minion ('Defias Bandit')> attacks <Minion ('North Sea Kraken')>\n",
      "[fireplace.actions]: <Minion ('Defias Bandit')> triggering <TargetedAction: Hit(<Hit.AMOUNT>=2)> targeting [<Minion ('North Sea Kraken')>]\n",
      "[fireplace.actions]: <Minion ('Defias Bandit')> triggering <TargetedAction: Predamage(<Predamage.AMOUNT>=2)> targeting [<Minion ('North Sea Kraken')>]\n",
      "[fireplace.actions]: <Minion ('Defias Bandit')> triggering <TargetedAction: Damage()> targeting [<Minion ('North Sea Kraken')>]\n",
      "[fireplace.actions]: <Minion ('North Sea Kraken')> triggering <TargetedAction: Hit(<Hit.AMOUNT>=9)> targeting [<Minion ('Defias Bandit')>]\n",
      "[fireplace.actions]: <Minion ('North Sea Kraken')> triggering <TargetedAction: Predamage(<Predamage.AMOUNT>=9)> targeting [<Minion ('Defias Bandit')>]\n",
      "[fireplace.actions]: <Minion ('North Sea Kraken')> triggering <TargetedAction: Damage()> targeting [<Minion ('Defias Bandit')>]\n",
      "[fireplace.entity]: Empty stack, refreshing auras and processing deaths\n",
      "[fireplace.entity]: <Minion ('Defias Bandit')> is removed from the field\n",
      "[fireplace.card]: <Minion ('Defias Bandit')> moves from <Zone.PLAY: 1> to <Zone.GRAVEYARD: 4>\n",
      "[fireplace.entity]: Empty stack, refreshing auras and processing deaths\n",
      "[fireplace.actions]: Processing Death for <Minion ('Defias Bandit')>\n",
      "[fireplace.entity]: Empty stack, refreshing auras and processing deaths\n",
      "[fireplace.entity]: Player2 ends turn 23\n",
      "[fireplace.entity]: Player1 begins turn 24\n",
      "[fireplace.entity]: Player1 is now at 10 mana crystals\n",
      "[fireplace.actions]: Player(name='Player1', hero=<Hero ('Jaina Proudmoore')>) triggering <TargetedAction: Draw()> targeting [Player(name='Player1', hero=<Hero ('Jaina Proudmoore')>)]\n",
      "[fireplace.entity]: Player1 draws <Minion ('Magma Rager')>\n",
      "[fireplace.card]: <Minion ('Magma Rager')> moves from <Zone.DECK: 2> to <Zone.HAND: 3>\n",
      "[fireplace.entity]: Empty stack, refreshing auras and processing deaths\n",
      "[fireplace.utils]: Playing <Minion ('Magma Rager')> on None\n",
      "[fireplace.actions]: Player1 plays <Minion ('Magma Rager')> (target=None, index=None)\n",
      "[fireplace.entity]: Player1 pays 3 mana\n"
     ]
    },
    {
     "name": "stdout",
     "output_type": "stream",
     "text": [
      "[{'timestamp': datetime.datetime(2016, 6, 3, 17, 35, 28, 372210), 'game_id': 3, 'event_value': '23', 'event_key': 'turn_end', 'player': 'Player2'}]\n",
      "[{'timestamp': datetime.datetime(2016, 6, 3, 17, 35, 28, 412231), 'game_id': 3, 'event_value': '24', 'event_key': 'turn_begins', 'player': 'Player1'}]\n",
      "[{'timestamp': datetime.datetime(2016, 6, 3, 17, 35, 28, 460216), 'game_id': 3, 'event_value': '10', 'event_key': 'max_mana', 'player': 'Player1'}]\n",
      "Playing <Minion ('Magma Rager')> on None\n",
      "[{'timestamp': datetime.datetime(2016, 6, 3, 17, 35, 28, 540223), 'game_id': 3, 'event_value': '3', 'event_key': 'mana_spent', 'player': 'Player1'}]\n"
     ]
    },
    {
     "name": "stderr",
     "output_type": "stream",
     "text": [
      "[fireplace.card]: <Minion ('Magma Rager')> moves from <Zone.HAND: 3> to <Zone.PLAY: 1>\n",
      "[fireplace.actions]: <Minion ('Magma Rager')> triggering <TargetedAction: Battlecry(<Battlecry.TARGET>=None)> targeting [<Minion ('Magma Rager')>]\n",
      "[fireplace.actions]: Activating <Minion ('Magma Rager')> action targeting None\n",
      "[fireplace.entity]: Empty stack, refreshing auras and processing deaths\n",
      "[fireplace.entity]: Empty stack, refreshing auras and processing deaths\n",
      "[fireplace.actions]: <Minion ('North Sea Kraken')> attacks <Hero ('Valeera Sanguinar')>\n",
      "[fireplace.actions]: <Minion ('North Sea Kraken')> triggering <TargetedAction: Hit(<Hit.AMOUNT>=9)> targeting [<Hero ('Valeera Sanguinar')>]\n",
      "[fireplace.actions]: <Minion ('North Sea Kraken')> triggering <TargetedAction: Predamage(<Predamage.AMOUNT>=9)> targeting [<Hero ('Valeera Sanguinar')>]\n",
      "[fireplace.actions]: <Minion ('North Sea Kraken')> triggering <TargetedAction: Damage()> targeting [<Hero ('Valeera Sanguinar')>]\n",
      "[fireplace.entity]: Empty stack, refreshing auras and processing deaths\n",
      "[fireplace.actions]: <Minion ('Brann Bronzebeard')> attacks <Minion ('Fencing Coach')>\n",
      "[fireplace.actions]: <Minion ('Brann Bronzebeard')> triggering <TargetedAction: Hit(<Hit.AMOUNT>=2)> targeting [<Minion ('Fencing Coach')>]\n",
      "[fireplace.actions]: <Minion ('Brann Bronzebeard')> triggering <TargetedAction: Predamage(<Predamage.AMOUNT>=2)> targeting [<Minion ('Fencing Coach')>]\n",
      "[fireplace.actions]: <Minion ('Brann Bronzebeard')> triggering <TargetedAction: Damage()> targeting [<Minion ('Fencing Coach')>]\n",
      "[fireplace.actions]: <Minion ('Fencing Coach')> triggering <TargetedAction: Hit(<Hit.AMOUNT>=2)> targeting [<Minion ('Brann Bronzebeard')>]\n",
      "[fireplace.actions]: <Minion ('Fencing Coach')> triggering <TargetedAction: Predamage(<Predamage.AMOUNT>=2)> targeting [<Minion ('Brann Bronzebeard')>]\n",
      "[fireplace.actions]: <Minion ('Fencing Coach')> triggering <TargetedAction: Damage()> targeting [<Minion ('Brann Bronzebeard')>]\n",
      "[fireplace.entity]: Empty stack, refreshing auras and processing deaths\n",
      "[fireplace.entity]: <Minion ('Fencing Coach')> is removed from the field\n",
      "[fireplace.card]: <Minion ('Fencing Coach')> moves from <Zone.PLAY: 1> to <Zone.GRAVEYARD: 4>\n",
      "[fireplace.entity]: Empty stack, refreshing auras and processing deaths\n",
      "[fireplace.actions]: Processing Death for <Minion ('Fencing Coach')>\n",
      "[fireplace.entity]: Empty stack, refreshing auras and processing deaths\n",
      "[fireplace.entity]: Player1 ends turn 24\n",
      "[fireplace.entity]: Player2 begins turn 25\n",
      "[fireplace.entity]: Player2 is now at 10 mana crystals\n",
      "[fireplace.actions]: Player(name='Player2', hero=<Hero ('Valeera Sanguinar')>) triggering <TargetedAction: Draw()> targeting [Player(name='Player2', hero=<Hero ('Valeera Sanguinar')>)]\n",
      "[fireplace.entity]: Player2 draws <Spell ('Assassinate')>\n",
      "[fireplace.card]: <Spell ('Assassinate')> moves from <Zone.DECK: 2> to <Zone.HAND: 3>\n",
      "[fireplace.entity]: Empty stack, refreshing auras and processing deaths\n",
      "[fireplace.utils]: Playing <Minion ('Twilight Geomancer')> on None\n",
      "[fireplace.actions]: Player2 plays <Minion ('Twilight Geomancer')> (target=None, index=None)\n",
      "[fireplace.entity]: Player2 pays 2 mana\n"
     ]
    },
    {
     "name": "stdout",
     "output_type": "stream",
     "text": [
      "[{'timestamp': datetime.datetime(2016, 6, 3, 17, 35, 28, 724244), 'game_id': 3, 'event_value': '24', 'event_key': 'turn_end', 'player': 'Player1'}]\n",
      "[{'timestamp': datetime.datetime(2016, 6, 3, 17, 35, 28, 764240), 'game_id': 3, 'event_value': '25', 'event_key': 'turn_begins', 'player': 'Player2'}]\n",
      "[{'timestamp': datetime.datetime(2016, 6, 3, 17, 35, 28, 812244), 'game_id': 3, 'event_value': '10', 'event_key': 'max_mana', 'player': 'Player2'}]\n",
      "Playing <Minion ('Twilight Geomancer')> on None\n",
      "[{'timestamp': datetime.datetime(2016, 6, 3, 17, 35, 28, 892247), 'game_id': 3, 'event_value': '2', 'event_key': 'mana_spent', 'player': 'Player2'}]\n"
     ]
    },
    {
     "name": "stderr",
     "output_type": "stream",
     "text": [
      "[fireplace.card]: <Minion ('Twilight Geomancer')> moves from <Zone.HAND: 3> to <Zone.PLAY: 1>\n",
      "[fireplace.actions]: <Minion ('Twilight Geomancer')> triggering <TargetedAction: Battlecry(<Battlecry.TARGET>=None)> targeting [<Minion ('Twilight Geomancer')>]\n",
      "[fireplace.actions]: Activating <Minion ('Twilight Geomancer')> action targeting None\n",
      "[fireplace.entity]: Empty stack, refreshing auras and processing deaths\n",
      "[fireplace.entity]: Empty stack, refreshing auras and processing deaths\n",
      "[fireplace.utils]: Playing <Spell ('Assassinate')> on <Minion ('Brann Bronzebeard')>\n",
      "[fireplace.actions]: Player2 plays <Spell ('Assassinate')> (target=<Minion ('Brann Bronzebeard')>, index=None)\n",
      "[fireplace.entity]: Player2 pays 5 mana\n",
      "[fireplace.card]: <Spell ('Assassinate')> moves from <Zone.HAND: 3> to <Zone.PLAY: 1>\n",
      "[fireplace.actions]: <Spell ('Assassinate')> triggering <TargetedAction: Battlecry(<Battlecry.TARGET>=<Minion ('Brann Bronzebeard')>)> targeting [<Spell ('Assassinate')>]\n",
      "[fireplace.actions]: Activating <Spell ('Assassinate')> action targeting <Minion ('Brann Bronzebeard')>\n",
      "[fireplace.actions]: <Spell ('Assassinate')> triggering <TargetedAction: Destroy()> targeting [<Minion ('Brann Bronzebeard')>]\n",
      "[fireplace.actions]: <Spell ('Assassinate')> marks <Minion ('Brann Bronzebeard')> for imminent death\n",
      "[fireplace.entity]: Empty stack, refreshing auras and processing deaths\n",
      "[fireplace.entity]: <Minion ('Brann Bronzebeard')> is removed from the field\n",
      "[fireplace.card]: <Minion ('Brann Bronzebeard')> moves from <Zone.PLAY: 1> to <Zone.GRAVEYARD: 4>\n",
      "[fireplace.entity]: Empty stack, refreshing auras and processing deaths\n",
      "[fireplace.aura]: Destroying <AuraBuff <Minion ('Brann Bronzebeard')> -> Player(name='Player1', hero=<Hero ('Jaina Proudmoore')>)>\n",
      "[fireplace.actions]: Processing Death for <Minion ('Brann Bronzebeard')>\n",
      "[fireplace.entity]: Empty stack, refreshing auras and processing deaths\n",
      "[fireplace.entity]: Empty stack, refreshing auras and processing deaths\n",
      "[fireplace.actions]: <Minion ('Pit Fighter')> attacks <Hero ('Jaina Proudmoore')>\n",
      "[fireplace.actions]: <Minion ('Pit Fighter')> triggering <TargetedAction: Hit(<Hit.AMOUNT>=5)> targeting [<Hero ('Jaina Proudmoore')>]\n",
      "[fireplace.actions]: <Minion ('Pit Fighter')> triggering <TargetedAction: Predamage(<Predamage.AMOUNT>=5)> targeting [<Hero ('Jaina Proudmoore')>]\n",
      "[fireplace.actions]: <Minion ('Pit Fighter')> triggering <TargetedAction: Damage()> targeting [<Hero ('Jaina Proudmoore')>]\n",
      "[fireplace.entity]: Empty stack, refreshing auras and processing deaths\n",
      "[fireplace.entity]: Player2 ends turn 25\n"
     ]
    },
    {
     "name": "stdout",
     "output_type": "stream",
     "text": [
      "Playing <Spell ('Assassinate')> on <Minion ('Brann Bronzebeard')>\n",
      "[{'timestamp': datetime.datetime(2016, 6, 3, 17, 35, 28, 988258), 'game_id': 3, 'event_value': '5', 'event_key': 'mana_spent', 'player': 'Player2'}]\n",
      "[{'timestamp': datetime.datetime(2016, 6, 3, 17, 35, 29, 140264), 'game_id': 3, 'event_value': '25', 'event_key': 'turn_end', 'player': 'Player2'}]\n"
     ]
    },
    {
     "name": "stderr",
     "output_type": "stream",
     "text": [
      "[fireplace.entity]: Player1 begins turn 26\n",
      "[fireplace.entity]: Player1 is now at 10 mana crystals\n",
      "[fireplace.actions]: Player(name='Player1', hero=<Hero ('Jaina Proudmoore')>) triggering <TargetedAction: Draw()> targeting [Player(name='Player1', hero=<Hero ('Jaina Proudmoore')>)]\n",
      "[fireplace.entity]: Player1 draws <Minion ('Chillwind Yeti')>\n",
      "[fireplace.card]: <Minion ('Chillwind Yeti')> moves from <Zone.DECK: 2> to <Zone.HAND: 3>\n",
      "[fireplace.entity]: Empty stack, refreshing auras and processing deaths\n",
      "[fireplace.utils]: Playing <Minion ('Rhonin')> on None\n",
      "[fireplace.actions]: Player1 plays <Minion ('Rhonin')> (target=None, index=None)\n",
      "[fireplace.entity]: Player1 pays 8 mana\n",
      "[fireplace.card]: <Minion ('Rhonin')> moves from <Zone.HAND: 3> to <Zone.PLAY: 1>\n",
      "[fireplace.actions]: <Minion ('Rhonin')> triggering <TargetedAction: Battlecry(<Battlecry.TARGET>=None)> targeting [<Minion ('Rhonin')>]\n",
      "[fireplace.actions]: Activating <Minion ('Rhonin')> action targeting None\n"
     ]
    },
    {
     "name": "stdout",
     "output_type": "stream",
     "text": [
      "[{'timestamp': datetime.datetime(2016, 6, 3, 17, 35, 29, 180267), 'game_id': 3, 'event_value': '26', 'event_key': 'turn_begins', 'player': 'Player1'}]\n",
      "[{'timestamp': datetime.datetime(2016, 6, 3, 17, 35, 29, 232271), 'game_id': 3, 'event_value': '10', 'event_key': 'max_mana', 'player': 'Player1'}]\n",
      "Playing <Minion ('Rhonin')> on None\n",
      "[{'timestamp': datetime.datetime(2016, 6, 3, 17, 35, 29, 324277), 'game_id': 3, 'event_value': '8', 'event_key': 'mana_spent', 'player': 'Player1'}]\n"
     ]
    },
    {
     "name": "stderr",
     "output_type": "stream",
     "text": [
      "[fireplace.entity]: Empty stack, refreshing auras and processing deaths\n",
      "[fireplace.entity]: Empty stack, refreshing auras and processing deaths\n",
      "[fireplace.actions]: <Minion ('North Sea Kraken')> attacks <Minion ('Twilight Geomancer')>\n",
      "[fireplace.actions]: <Minion ('North Sea Kraken')> triggering <TargetedAction: Hit(<Hit.AMOUNT>=9)> targeting [<Minion ('Twilight Geomancer')>]\n",
      "[fireplace.actions]: <Minion ('North Sea Kraken')> triggering <TargetedAction: Predamage(<Predamage.AMOUNT>=9)> targeting [<Minion ('Twilight Geomancer')>]\n",
      "[fireplace.actions]: <Minion ('North Sea Kraken')> triggering <TargetedAction: Damage()> targeting [<Minion ('Twilight Geomancer')>]\n",
      "[fireplace.actions]: <Minion ('Twilight Geomancer')> triggering <TargetedAction: Hit(<Hit.AMOUNT>=1)> targeting [<Minion ('North Sea Kraken')>]\n",
      "[fireplace.actions]: <Minion ('Twilight Geomancer')> triggering <TargetedAction: Predamage(<Predamage.AMOUNT>=1)> targeting [<Minion ('North Sea Kraken')>]\n",
      "[fireplace.actions]: <Minion ('Twilight Geomancer')> triggering <TargetedAction: Damage()> targeting [<Minion ('North Sea Kraken')>]\n",
      "[fireplace.entity]: Empty stack, refreshing auras and processing deaths\n",
      "[fireplace.entity]: <Minion ('Twilight Geomancer')> is removed from the field\n",
      "[fireplace.card]: <Minion ('Twilight Geomancer')> moves from <Zone.PLAY: 1> to <Zone.GRAVEYARD: 4>\n",
      "[fireplace.entity]: Empty stack, refreshing auras and processing deaths\n",
      "[fireplace.actions]: Processing Death for <Minion ('Twilight Geomancer')>\n",
      "[fireplace.entity]: Empty stack, refreshing auras and processing deaths\n",
      "[fireplace.actions]: <Minion ('Magma Rager')> attacks <Minion ('Pit Fighter')>\n",
      "[fireplace.actions]: <Minion ('Magma Rager')> triggering <TargetedAction: Hit(<Hit.AMOUNT>=5)> targeting [<Minion ('Pit Fighter')>]\n",
      "[fireplace.actions]: <Minion ('Magma Rager')> triggering <TargetedAction: Predamage(<Predamage.AMOUNT>=5)> targeting [<Minion ('Pit Fighter')>]\n",
      "[fireplace.actions]: <Minion ('Magma Rager')> triggering <TargetedAction: Damage()> targeting [<Minion ('Pit Fighter')>]\n",
      "[fireplace.actions]: <Minion ('Pit Fighter')> triggering <TargetedAction: Hit(<Hit.AMOUNT>=5)> targeting [<Minion ('Magma Rager')>]\n",
      "[fireplace.actions]: <Minion ('Pit Fighter')> triggering <TargetedAction: Predamage(<Predamage.AMOUNT>=5)> targeting [<Minion ('Magma Rager')>]\n",
      "[fireplace.actions]: <Minion ('Pit Fighter')> triggering <TargetedAction: Damage()> targeting [<Minion ('Magma Rager')>]\n",
      "[fireplace.entity]: Empty stack, refreshing auras and processing deaths\n",
      "[fireplace.entity]: <Minion ('Magma Rager')> is removed from the field\n",
      "[fireplace.card]: <Minion ('Magma Rager')> moves from <Zone.PLAY: 1> to <Zone.GRAVEYARD: 4>\n",
      "[fireplace.entity]: <Minion ('Pit Fighter')> is removed from the field\n",
      "[fireplace.card]: <Minion ('Pit Fighter')> moves from <Zone.PLAY: 1> to <Zone.GRAVEYARD: 4>\n",
      "[fireplace.entity]: Empty stack, refreshing auras and processing deaths\n",
      "[fireplace.actions]: Processing Death for <Minion ('Magma Rager')>\n",
      "[fireplace.actions]: Processing Death for <Minion ('Pit Fighter')>\n",
      "[fireplace.entity]: Empty stack, refreshing auras and processing deaths\n",
      "[fireplace.entity]: Player1 ends turn 26\n",
      "[fireplace.entity]: Player2 begins turn 27\n",
      "[fireplace.entity]: Player2 is now at 10 mana crystals\n",
      "[fireplace.actions]: Player(name='Player2', hero=<Hero ('Valeera Sanguinar')>) triggering <TargetedAction: Draw()> targeting [Player(name='Player2', hero=<Hero ('Valeera Sanguinar')>)]\n",
      "[fireplace.entity]: Player2 draws <Minion ('Ancient Harbinger')>\n",
      "[fireplace.card]: <Minion ('Ancient Harbinger')> moves from <Zone.DECK: 2> to <Zone.HAND: 3>\n",
      "[fireplace.entity]: Empty stack, refreshing auras and processing deaths\n",
      "[fireplace.utils]: Playing <Minion ('Ancient Harbinger')> on None\n",
      "[fireplace.actions]: Player2 plays <Minion ('Ancient Harbinger')> (target=None, index=None)\n",
      "[fireplace.entity]: Player2 pays 6 mana\n"
     ]
    },
    {
     "name": "stdout",
     "output_type": "stream",
     "text": [
      "[{'timestamp': datetime.datetime(2016, 6, 3, 17, 35, 29, 560292), 'game_id': 3, 'event_value': '26', 'event_key': 'turn_end', 'player': 'Player1'}]\n",
      "[{'timestamp': datetime.datetime(2016, 6, 3, 17, 35, 29, 600295), 'game_id': 3, 'event_value': '27', 'event_key': 'turn_begins', 'player': 'Player2'}]\n",
      "[{'timestamp': datetime.datetime(2016, 6, 3, 17, 35, 29, 648298), 'game_id': 3, 'event_value': '10', 'event_key': 'max_mana', 'player': 'Player2'}]\n",
      "Playing <Minion ('Ancient Harbinger')> on None\n",
      "[{'timestamp': datetime.datetime(2016, 6, 3, 17, 35, 29, 724309), 'game_id': 3, 'event_value': '6', 'event_key': 'mana_spent', 'player': 'Player2'}]\n"
     ]
    },
    {
     "name": "stderr",
     "output_type": "stream",
     "text": [
      "[fireplace.card]: <Minion ('Ancient Harbinger')> moves from <Zone.HAND: 3> to <Zone.PLAY: 1>\n",
      "[fireplace.actions]: <Minion ('Ancient Harbinger')> triggering <TargetedAction: Battlecry(<Battlecry.TARGET>=None)> targeting [<Minion ('Ancient Harbinger')>]\n",
      "[fireplace.actions]: Activating <Minion ('Ancient Harbinger')> action targeting None\n",
      "[fireplace.entity]: Empty stack, refreshing auras and processing deaths\n",
      "[fireplace.entity]: Empty stack, refreshing auras and processing deaths\n",
      "[fireplace.entity]: Player2 ends turn 27\n",
      "[fireplace.entity]: Player1 begins turn 28\n",
      "[fireplace.entity]: Player1 is now at 10 mana crystals\n",
      "[fireplace.actions]: Player(name='Player1', hero=<Hero ('Jaina Proudmoore')>) triggering <TargetedAction: Draw()> targeting [Player(name='Player1', hero=<Hero ('Jaina Proudmoore')>)]\n",
      "[fireplace.entity]: Player1 draws <Minion ('Twisted Worgen')>\n",
      "[fireplace.card]: <Minion ('Twisted Worgen')> moves from <Zone.DECK: 2> to <Zone.HAND: 3>\n",
      "[fireplace.entity]: Empty stack, refreshing auras and processing deaths\n",
      "[fireplace.utils]: Playing <Minion ('Chillwind Yeti')> on None\n",
      "[fireplace.actions]: Player1 plays <Minion ('Chillwind Yeti')> (target=None, index=None)\n",
      "[fireplace.entity]: Player1 pays 4 mana\n"
     ]
    },
    {
     "name": "stdout",
     "output_type": "stream",
     "text": [
      "[{'timestamp': datetime.datetime(2016, 6, 3, 17, 35, 29, 808310), 'game_id': 3, 'event_value': '27', 'event_key': 'turn_end', 'player': 'Player2'}]\n",
      "[{'timestamp': datetime.datetime(2016, 6, 3, 17, 35, 29, 852316), 'game_id': 3, 'event_value': '28', 'event_key': 'turn_begins', 'player': 'Player1'}]\n",
      "[{'timestamp': datetime.datetime(2016, 6, 3, 17, 35, 29, 908317), 'game_id': 3, 'event_value': '10', 'event_key': 'max_mana', 'player': 'Player1'}]\n",
      "Playing <Minion ('Chillwind Yeti')> on None\n",
      "[{'timestamp': datetime.datetime(2016, 6, 3, 17, 35, 29, 992322), 'game_id': 3, 'event_value': '4', 'event_key': 'mana_spent', 'player': 'Player1'}]\n"
     ]
    },
    {
     "name": "stderr",
     "output_type": "stream",
     "text": [
      "[fireplace.card]: <Minion ('Chillwind Yeti')> moves from <Zone.HAND: 3> to <Zone.PLAY: 1>\n",
      "[fireplace.actions]: <Minion ('Chillwind Yeti')> triggering <TargetedAction: Battlecry(<Battlecry.TARGET>=None)> targeting [<Minion ('Chillwind Yeti')>]\n",
      "[fireplace.actions]: Activating <Minion ('Chillwind Yeti')> action targeting None\n",
      "[fireplace.entity]: Empty stack, refreshing auras and processing deaths\n",
      "[fireplace.entity]: Empty stack, refreshing auras and processing deaths\n",
      "[fireplace.actions]: <Minion ('North Sea Kraken')> attacks <Minion ('Ancient Harbinger')>\n",
      "[fireplace.actions]: <Minion ('North Sea Kraken')> triggering <TargetedAction: Hit(<Hit.AMOUNT>=9)> targeting [<Minion ('Ancient Harbinger')>]\n",
      "[fireplace.actions]: <Minion ('North Sea Kraken')> triggering <TargetedAction: Predamage(<Predamage.AMOUNT>=9)> targeting [<Minion ('Ancient Harbinger')>]\n",
      "[fireplace.actions]: <Minion ('North Sea Kraken')> triggering <TargetedAction: Damage()> targeting [<Minion ('Ancient Harbinger')>]\n",
      "[fireplace.actions]: <Minion ('Ancient Harbinger')> triggering <TargetedAction: Hit(<Hit.AMOUNT>=4)> targeting [<Minion ('North Sea Kraken')>]\n",
      "[fireplace.actions]: <Minion ('Ancient Harbinger')> triggering <TargetedAction: Predamage(<Predamage.AMOUNT>=4)> targeting [<Minion ('North Sea Kraken')>]\n",
      "[fireplace.actions]: <Minion ('Ancient Harbinger')> triggering <TargetedAction: Damage()> targeting [<Minion ('North Sea Kraken')>]\n",
      "[fireplace.entity]: Empty stack, refreshing auras and processing deaths\n",
      "[fireplace.entity]: <Minion ('North Sea Kraken')> is removed from the field\n",
      "[fireplace.card]: <Minion ('North Sea Kraken')> moves from <Zone.PLAY: 1> to <Zone.GRAVEYARD: 4>\n",
      "[fireplace.entity]: <Minion ('Ancient Harbinger')> is removed from the field\n",
      "[fireplace.card]: <Minion ('Ancient Harbinger')> moves from <Zone.PLAY: 1> to <Zone.GRAVEYARD: 4>\n",
      "[fireplace.entity]: Empty stack, refreshing auras and processing deaths\n",
      "[fireplace.actions]: Processing Death for <Minion ('North Sea Kraken')>\n",
      "[fireplace.actions]: Processing Death for <Minion ('Ancient Harbinger')>\n",
      "[fireplace.entity]: Empty stack, refreshing auras and processing deaths\n",
      "[fireplace.actions]: <Minion ('Rhonin')> attacks <Hero ('Valeera Sanguinar')>\n",
      "[fireplace.actions]: <Minion ('Rhonin')> triggering <TargetedAction: Hit(<Hit.AMOUNT>=7)> targeting [<Hero ('Valeera Sanguinar')>]\n",
      "[fireplace.actions]: <Minion ('Rhonin')> triggering <TargetedAction: Predamage(<Predamage.AMOUNT>=7)> targeting [<Hero ('Valeera Sanguinar')>]\n",
      "[fireplace.actions]: <Minion ('Rhonin')> triggering <TargetedAction: Damage()> targeting [<Hero ('Valeera Sanguinar')>]\n",
      "[fireplace.entity]: Empty stack, refreshing auras and processing deaths\n",
      "[fireplace.card]: <HeroPower ('Dagger Mastery')> moves from <Zone.PLAY: 1> to <Zone.GRAVEYARD: 4>\n",
      "[fireplace.card]: <Hero ('Valeera Sanguinar')> moves from <Zone.PLAY: 1> to <Zone.GRAVEYARD: 4>\n"
     ]
    },
    {
     "name": "stdout",
     "output_type": "stream",
     "text": [
      "[{'timestamp': datetime.datetime(2016, 6, 3, 17, 35, 30, 192353), 'game_id': 3, 'event_value': 'Zone.GRAVEYARD', 'event_key': 'lost', 'player': 'Player2'}]\n",
      "[{'timestamp': datetime.datetime(2016, 6, 3, 17, 35, 30, 240340), 'game_id': 3, 'event_value': 'ending_game', 'event_key': 'debug', 'player': 'check_for_end_game'}]\n"
     ]
    },
    {
     "name": "stderr",
     "output_type": "stream",
     "text": [
      "[fireplace.entity]: Setting up game Game(players=(Player(name='Player1', hero=None), Player(name='Player2', hero=None)))\n",
      "[fireplace.entity]: Tossing the coin... Player1 wins!\n",
      "[fireplace.actions]: Player(name='Player1', hero=<Hero ('Rexxar')>) triggering <TargetedAction: Summon(<Summon.CARD>=<HeroPower ('Steady Shot')>)> targeting [Player(name='Player1', hero=<Hero ('Rexxar')>)]\n",
      "[fireplace.actions]: Player1 summons [<HeroPower ('Steady Shot')>]\n",
      "[fireplace.entity]: Empty stack, refreshing auras and processing deaths\n",
      "[fireplace.actions]: Player(name='Player1', hero=<Hero ('Rexxar')>) triggering <TargetedAction: Summon(<Summon.CARD>=<Hero ('Rexxar')>)> targeting [Player(name='Player1', hero=<Hero ('Rexxar')>)]\n",
      "[fireplace.actions]: Player1 summons [<Hero ('Rexxar')>]\n",
      "[fireplace.entity]: Empty stack, refreshing auras and processing deaths\n"
     ]
    },
    {
     "name": "stdout",
     "output_type": "stream",
     "text": [
      "Game completed normally.\n",
      "[{'timestamp': datetime.datetime(2016, 6, 3, 17, 35, 30, 452357), 'game_id': 4, 'event_value': 'CardClass.HUNTER', 'event_key': 'player1_class', 'player': 'Player1'}]\n",
      "[{'timestamp': datetime.datetime(2016, 6, 3, 17, 35, 30, 500358), 'game_id': 4, 'event_value': 'CardClass.HUNTER', 'event_key': 'player2_class', 'player': 'Player2'}]\n",
      "[{'timestamp': datetime.datetime(2016, 6, 3, 17, 35, 30, 564367), 'game_id': 4, 'event_value': 'Player1', 'event_key': 'first_player', 'player': 'Player1'}]\n"
     ]
    },
    {
     "name": "stderr",
     "output_type": "stream",
     "text": [
      "[fireplace.entity]: Player(name='Player1', hero=<Hero ('Rexxar')>) shuffles their deck\n",
      "[fireplace.card]: <Minion ('Blackwater Pirate')> moves from <Zone.DECK: 2> to <Zone.HAND: 3>\n",
      "[fireplace.card]: <Minion ('Mad Scientist')> moves from <Zone.DECK: 2> to <Zone.HAND: 3>\n",
      "[fireplace.card]: <Minion (\"Captain's Parrot\")> moves from <Zone.DECK: 2> to <Zone.HAND: 3>\n",
      "[fireplace.actions]: Player(name='Player2', hero=<Hero ('Rexxar')>) triggering <TargetedAction: Summon(<Summon.CARD>=<HeroPower ('Steady Shot')>)> targeting [Player(name='Player2', hero=<Hero ('Rexxar')>)]\n",
      "[fireplace.actions]: Player2 summons [<HeroPower ('Steady Shot')>]\n",
      "[fireplace.entity]: Empty stack, refreshing auras and processing deaths\n",
      "[fireplace.actions]: Player(name='Player2', hero=<Hero ('Rexxar')>) triggering <TargetedAction: Summon(<Summon.CARD>=<Hero ('Rexxar')>)> targeting [Player(name='Player2', hero=<Hero ('Rexxar')>)]\n",
      "[fireplace.actions]: Player2 summons [<Hero ('Rexxar')>]\n",
      "[fireplace.entity]: Empty stack, refreshing auras and processing deaths\n",
      "[fireplace.entity]: Player(name='Player2', hero=<Hero ('Rexxar')>) shuffles their deck\n",
      "[fireplace.card]: <Minion ('Madder Bomber')> moves from <Zone.DECK: 2> to <Zone.HAND: 3>\n",
      "[fireplace.card]: <Minion ('Foe Reaper 4000')> moves from <Zone.DECK: 2> to <Zone.HAND: 3>\n",
      "[fireplace.card]: <Minion ('Twilight Summoner')> moves from <Zone.DECK: 2> to <Zone.HAND: 3>\n",
      "[fireplace.card]: <Minion ('Questing Adventurer')> moves from <Zone.DECK: 2> to <Zone.HAND: 3>\n",
      "[fireplace.entity]: Entering mulligan phase\n",
      "[fireplace.utils]: Can mulligan [<Minion ('Blackwater Pirate')>, <Minion ('Mad Scientist')>, <Minion (\"Captain's Parrot\")>]\n",
      "[fireplace.actions]: Player(name='Player1', hero=<Hero ('Rexxar')>) triggering <TargetedAction: Draw()> targeting [Player(name='Player1', hero=<Hero ('Rexxar')>)]\n",
      "[fireplace.entity]: Player1 draws <Minion ('Worgen Infiltrator')>\n",
      "[fireplace.card]: <Minion ('Worgen Infiltrator')> moves from <Zone.DECK: 2> to <Zone.HAND: 3>\n",
      "[fireplace.actions]: Player(name='Player1', hero=<Hero ('Rexxar')>) triggering <TargetedAction: Draw()> targeting [Player(name='Player1', hero=<Hero ('Rexxar')>)]\n",
      "[fireplace.entity]: Player1 draws <Minion ('Piloted Shredder')>\n",
      "[fireplace.card]: <Minion ('Piloted Shredder')> moves from <Zone.DECK: 2> to <Zone.HAND: 3>\n",
      "[fireplace.entity]: Empty stack, refreshing auras and processing deaths\n",
      "[fireplace.card]: <Minion ('Mad Scientist')> moves from <Zone.HAND: 3> to <Zone.DECK: 2>\n",
      "[fireplace.card]: <Minion ('Blackwater Pirate')> moves from <Zone.HAND: 3> to <Zone.DECK: 2>\n",
      "[fireplace.entity]: Player(name='Player1', hero=<Hero ('Rexxar')>) shuffles their deck\n",
      "[fireplace.utils]: Can mulligan [<Minion ('Madder Bomber')>, <Minion ('Foe Reaper 4000')>, <Minion ('Twilight Summoner')>, <Minion ('Questing Adventurer')>]\n",
      "[fireplace.actions]: Player(name='Player2', hero=<Hero ('Rexxar')>) triggering <TargetedAction: Draw()> targeting [Player(name='Player2', hero=<Hero ('Rexxar')>)]\n",
      "[fireplace.entity]: Player2 draws <Minion ('Scavenging Hyena')>\n",
      "[fireplace.card]: <Minion ('Scavenging Hyena')> moves from <Zone.DECK: 2> to <Zone.HAND: 3>\n",
      "[fireplace.entity]: Empty stack, refreshing auras and processing deaths\n",
      "[fireplace.card]: <Minion ('Foe Reaper 4000')> moves from <Zone.HAND: 3> to <Zone.DECK: 2>\n",
      "[fireplace.entity]: Player(name='Player2', hero=<Hero ('Rexxar')>) shuffles their deck\n",
      "[fireplace.entity]: Player2 gets The Coin (GAME_005)\n",
      "[fireplace.actions]: Player(name='Player2', hero=<Hero ('Rexxar')>) triggering <TargetedAction: Give(<Give.CARD>='GAME_005')> targeting [Player(name='Player2', hero=<Hero ('Rexxar')>)]\n",
      "[fireplace.actions]: Giving [<Spell ('The Coin')>] to Player2\n",
      "[fireplace.card]: <Spell ('The Coin')> moves from <Zone.SETASIDE: 6> to <Zone.HAND: 3>\n",
      "[fireplace.entity]: Empty stack, refreshing auras and processing deaths\n",
      "[fireplace.entity]: Player1 begins turn 1\n"
     ]
    },
    {
     "name": "stdout",
     "output_type": "stream",
     "text": [
      "Can mulligan [<Minion ('Blackwater Pirate')>, <Minion ('Mad Scientist')>, <Minion (\"Captain's Parrot\")>]\n",
      "[{'timestamp': datetime.datetime(2016, 6, 3, 17, 35, 30, 768377), 'game_id': 4, 'event_value': \"[<Minion ('Mad Scientist')>, <Minion ('Blackwater Pirate')>]\", 'event_key': 'cards_mulliganed', 'player': 'Player1'}]\n",
      "[{'timestamp': datetime.datetime(2016, 6, 3, 17, 35, 30, 804380), 'game_id': 4, 'event_value': '[<Minion (\"Captain\\'s Parrot\")>]', 'event_key': 'cards_kept', 'player': 'Player1'}]\n",
      "Can mulligan [<Minion ('Madder Bomber')>, <Minion ('Foe Reaper 4000')>, <Minion ('Twilight Summoner')>, <Minion ('Questing Adventurer')>]\n",
      "[{'timestamp': datetime.datetime(2016, 6, 3, 17, 35, 30, 908387), 'game_id': 4, 'event_value': '1', 'event_key': 'turn_begins', 'player': 'Player1'}]\n"
     ]
    },
    {
     "name": "stderr",
     "output_type": "stream",
     "text": [
      "[fireplace.entity]: Player1 is now at 1 mana crystals\n",
      "[fireplace.actions]: Player(name='Player1', hero=<Hero ('Rexxar')>) triggering <TargetedAction: Draw()> targeting [Player(name='Player1', hero=<Hero ('Rexxar')>)]\n",
      "[fireplace.entity]: Player1 draws <Minion ('Antique Healbot')>\n",
      "[fireplace.card]: <Minion ('Antique Healbot')> moves from <Zone.DECK: 2> to <Zone.HAND: 3>\n",
      "[fireplace.entity]: Empty stack, refreshing auras and processing deaths\n",
      "[fireplace.utils]: Playing <Minion ('Worgen Infiltrator')> on None\n",
      "[fireplace.actions]: Player1 plays <Minion ('Worgen Infiltrator')> (target=None, index=None)\n",
      "[fireplace.entity]: Player1 pays 1 mana\n"
     ]
    },
    {
     "name": "stdout",
     "output_type": "stream",
     "text": [
      "[{'timestamp': datetime.datetime(2016, 6, 3, 17, 35, 30, 948393), 'game_id': 4, 'event_value': '1', 'event_key': 'max_mana', 'player': 'Player1'}]\n",
      "[{'timestamp': datetime.datetime(2016, 6, 3, 17, 35, 31, 20395), 'game_id': 4, 'event_value': \"[<Minion ('Foe Reaper 4000')>]\", 'event_key': 'cards_mulliganed', 'player': 'Player2'}]\n",
      "[{'timestamp': datetime.datetime(2016, 6, 3, 17, 35, 31, 60398), 'game_id': 4, 'event_value': \"[<Minion ('Madder Bomber')>, <Minion ('Twilight Summoner')>, <Minion ('Questing Adventurer')>]\", 'event_key': 'cards_kept', 'player': 'Player2'}]\n",
      "Playing <Minion ('Worgen Infiltrator')> on None\n",
      "[{'timestamp': datetime.datetime(2016, 6, 3, 17, 35, 31, 116399), 'game_id': 4, 'event_value': '1', 'event_key': 'mana_spent', 'player': 'Player1'}]\n"
     ]
    },
    {
     "name": "stderr",
     "output_type": "stream",
     "text": [
      "[fireplace.card]: <Minion ('Worgen Infiltrator')> moves from <Zone.HAND: 3> to <Zone.PLAY: 1>\n",
      "[fireplace.actions]: <Minion ('Worgen Infiltrator')> triggering <TargetedAction: Battlecry(<Battlecry.TARGET>=None)> targeting [<Minion ('Worgen Infiltrator')>]\n",
      "[fireplace.actions]: Activating <Minion ('Worgen Infiltrator')> action targeting None\n",
      "[fireplace.entity]: Empty stack, refreshing auras and processing deaths\n",
      "[fireplace.entity]: Empty stack, refreshing auras and processing deaths\n",
      "[fireplace.entity]: Player1 ends turn 1\n",
      "[fireplace.entity]: Player2 begins turn 2\n",
      "[fireplace.entity]: Player2 is now at 1 mana crystals\n",
      "[fireplace.actions]: Player(name='Player2', hero=<Hero ('Rexxar')>) triggering <TargetedAction: Draw()> targeting [Player(name='Player2', hero=<Hero ('Rexxar')>)]\n",
      "[fireplace.entity]: Player2 draws <Minion ('Jeweled Scarab')>\n",
      "[fireplace.card]: <Minion ('Jeweled Scarab')> moves from <Zone.DECK: 2> to <Zone.HAND: 3>\n",
      "[fireplace.entity]: Empty stack, refreshing auras and processing deaths\n",
      "[fireplace.utils]: Playing <Spell ('The Coin')> on None\n",
      "[fireplace.actions]: Player2 plays <Spell ('The Coin')> (target=None, index=None)\n",
      "[fireplace.entity]: Player2 pays 0 mana\n"
     ]
    },
    {
     "name": "stdout",
     "output_type": "stream",
     "text": [
      "[{'timestamp': datetime.datetime(2016, 6, 3, 17, 35, 31, 188405), 'game_id': 4, 'event_value': '1', 'event_key': 'turn_end', 'player': 'Player1'}]\n",
      "[{'timestamp': datetime.datetime(2016, 6, 3, 17, 35, 31, 236410), 'game_id': 4, 'event_value': '2', 'event_key': 'turn_begins', 'player': 'Player2'}]\n",
      "[{'timestamp': datetime.datetime(2016, 6, 3, 17, 35, 31, 288415), 'game_id': 4, 'event_value': '1', 'event_key': 'max_mana', 'player': 'Player2'}]\n",
      "Playing <Spell ('The Coin')> on None\n",
      "[{'timestamp': datetime.datetime(2016, 6, 3, 17, 35, 31, 364422), 'game_id': 4, 'event_value': '0', 'event_key': 'mana_spent', 'player': 'Player2'}]\n"
     ]
    },
    {
     "name": "stderr",
     "output_type": "stream",
     "text": [
      "[fireplace.card]: <Spell ('The Coin')> moves from <Zone.HAND: 3> to <Zone.PLAY: 1>\n",
      "[fireplace.actions]: <Spell ('The Coin')> triggering <TargetedAction: Battlecry(<Battlecry.TARGET>=None)> targeting [<Spell ('The Coin')>]\n",
      "[fireplace.actions]: Activating <Spell ('The Coin')> action targeting None\n",
      "[fireplace.actions]: <Spell ('The Coin')> triggering <TargetedAction: ManaThisTurn(<ManaThisTurn.AMOUNT>=1)> targeting [Player(name='Player2', hero=<Hero ('Rexxar')>)]\n",
      "[fireplace.entity]: Empty stack, refreshing auras and processing deaths\n",
      "[fireplace.entity]: Empty stack, refreshing auras and processing deaths\n",
      "[fireplace.entity]: Player2 ends turn 2\n",
      "[fireplace.entity]: Player1 begins turn 3\n",
      "[fireplace.entity]: Player1 is now at 2 mana crystals\n",
      "[fireplace.actions]: Player(name='Player1', hero=<Hero ('Rexxar')>) triggering <TargetedAction: Draw()> targeting [Player(name='Player1', hero=<Hero ('Rexxar')>)]\n",
      "[fireplace.entity]: Player1 draws <Minion ('Silvermoon Guardian')>\n",
      "[fireplace.card]: <Minion ('Silvermoon Guardian')> moves from <Zone.DECK: 2> to <Zone.HAND: 3>\n",
      "[fireplace.entity]: Empty stack, refreshing auras and processing deaths\n",
      "[fireplace.utils]: Playing <Minion (\"Captain's Parrot\")> on None\n",
      "[fireplace.actions]: Player1 plays <Minion (\"Captain's Parrot\")> (target=None, index=None)\n",
      "[fireplace.entity]: Player1 pays 2 mana\n",
      "[fireplace.card]: <Minion (\"Captain's Parrot\")> moves from <Zone.HAND: 3> to <Zone.PLAY: 1>\n"
     ]
    },
    {
     "name": "stdout",
     "output_type": "stream",
     "text": [
      "[{'timestamp': datetime.datetime(2016, 6, 3, 17, 35, 31, 448427), 'game_id': 4, 'event_value': '2', 'event_key': 'turn_end', 'player': 'Player2'}]\n",
      "[{'timestamp': datetime.datetime(2016, 6, 3, 17, 35, 31, 492442), 'game_id': 4, 'event_value': '3', 'event_key': 'turn_begins', 'player': 'Player1'}]\n",
      "[{'timestamp': datetime.datetime(2016, 6, 3, 17, 35, 31, 536432), 'game_id': 4, 'event_value': '2', 'event_key': 'max_mana', 'player': 'Player1'}]\n",
      "Playing <Minion (\"Captain's Parrot\")> on None\n",
      "[{'timestamp': datetime.datetime(2016, 6, 3, 17, 35, 31, 608433), 'game_id': 4, 'event_value': '2', 'event_key': 'mana_spent', 'player': 'Player1'}]\n"
     ]
    },
    {
     "name": "stderr",
     "output_type": "stream",
     "text": [
      "[fireplace.actions]: <Minion (\"Captain's Parrot\")> triggering <TargetedAction: Battlecry(<Battlecry.TARGET>=None)> targeting [<Minion (\"Captain's Parrot\")>]\n",
      "[fireplace.actions]: Activating <Minion (\"Captain's Parrot\")> action targeting None\n",
      "[fireplace.actions]: <Minion (\"Captain's Parrot\")> triggering <TargetedAction: ForceDraw()> targeting [<Minion ('Blackwater Pirate')>]\n",
      "[fireplace.entity]: Player1 draws <Minion ('Blackwater Pirate')>\n",
      "[fireplace.card]: <Minion ('Blackwater Pirate')> moves from <Zone.DECK: 2> to <Zone.HAND: 3>\n",
      "[fireplace.entity]: Empty stack, refreshing auras and processing deaths\n",
      "[fireplace.entity]: Empty stack, refreshing auras and processing deaths\n",
      "[fireplace.actions]: <Minion ('Worgen Infiltrator')> attacks <Hero ('Rexxar')>\n",
      "[fireplace.actions]: <Minion ('Worgen Infiltrator')> triggering <TargetedAction: Hit(<Hit.AMOUNT>=2)> targeting [<Hero ('Rexxar')>]\n",
      "[fireplace.actions]: <Minion ('Worgen Infiltrator')> triggering <TargetedAction: Predamage(<Predamage.AMOUNT>=2)> targeting [<Hero ('Rexxar')>]\n",
      "[fireplace.actions]: <Minion ('Worgen Infiltrator')> triggering <TargetedAction: Damage()> targeting [<Hero ('Rexxar')>]\n",
      "[fireplace.entity]: Empty stack, refreshing auras and processing deaths\n",
      "[fireplace.entity]: Player1 ends turn 3\n",
      "[fireplace.entity]: Player2 begins turn 4\n",
      "[fireplace.entity]: Player2 is now at 2 mana crystals\n",
      "[fireplace.actions]: Player(name='Player2', hero=<Hero ('Rexxar')>) triggering <TargetedAction: Draw()> targeting [Player(name='Player2', hero=<Hero ('Rexxar')>)]\n",
      "[fireplace.entity]: Player2 draws <Minion ('Volcanic Drake')>\n",
      "[fireplace.card]: <Minion ('Volcanic Drake')> moves from <Zone.DECK: 2> to <Zone.HAND: 3>\n",
      "[fireplace.entity]: Empty stack, refreshing auras and processing deaths\n",
      "[fireplace.utils]: Playing <Minion ('Scavenging Hyena')> on None\n",
      "[fireplace.actions]: Player2 plays <Minion ('Scavenging Hyena')> (target=None, index=None)\n",
      "[fireplace.entity]: Player2 pays 2 mana\n"
     ]
    },
    {
     "name": "stdout",
     "output_type": "stream",
     "text": [
      "[{'timestamp': datetime.datetime(2016, 6, 3, 17, 35, 31, 732460), 'game_id': 4, 'event_value': '3', 'event_key': 'turn_end', 'player': 'Player1'}]\n",
      "[{'timestamp': datetime.datetime(2016, 6, 3, 17, 35, 31, 772445), 'game_id': 4, 'event_value': '4', 'event_key': 'turn_begins', 'player': 'Player2'}]\n",
      "[{'timestamp': datetime.datetime(2016, 6, 3, 17, 35, 31, 820449), 'game_id': 4, 'event_value': '2', 'event_key': 'max_mana', 'player': 'Player2'}]\n",
      "Playing <Minion ('Scavenging Hyena')> on None\n",
      "[{'timestamp': datetime.datetime(2016, 6, 3, 17, 35, 31, 900454), 'game_id': 4, 'event_value': '2', 'event_key': 'mana_spent', 'player': 'Player2'}]\n"
     ]
    },
    {
     "name": "stderr",
     "output_type": "stream",
     "text": [
      "[fireplace.card]: <Minion ('Scavenging Hyena')> moves from <Zone.HAND: 3> to <Zone.PLAY: 1>\n",
      "[fireplace.actions]: <Minion ('Scavenging Hyena')> triggering <TargetedAction: Battlecry(<Battlecry.TARGET>=None)> targeting [<Minion ('Scavenging Hyena')>]\n",
      "[fireplace.actions]: Activating <Minion ('Scavenging Hyena')> action targeting None\n",
      "[fireplace.entity]: Empty stack, refreshing auras and processing deaths\n",
      "[fireplace.entity]: Empty stack, refreshing auras and processing deaths\n",
      "[fireplace.entity]: Player2 ends turn 4\n",
      "[fireplace.entity]: Player1 begins turn 5\n",
      "[fireplace.entity]: Player1 is now at 3 mana crystals\n",
      "[fireplace.actions]: Player(name='Player1', hero=<Hero ('Rexxar')>) triggering <TargetedAction: Draw()> targeting [Player(name='Player1', hero=<Hero ('Rexxar')>)]\n",
      "[fireplace.entity]: Player1 draws <Minion ('Haunted Creeper')>\n",
      "[fireplace.card]: <Minion ('Haunted Creeper')> moves from <Zone.DECK: 2> to <Zone.HAND: 3>\n",
      "[fireplace.entity]: Empty stack, refreshing auras and processing deaths\n",
      "[fireplace.utils]: Playing <Minion ('Haunted Creeper')> on None\n",
      "[fireplace.actions]: Player1 plays <Minion ('Haunted Creeper')> (target=None, index=None)\n",
      "[fireplace.entity]: Player1 pays 2 mana\n"
     ]
    },
    {
     "name": "stdout",
     "output_type": "stream",
     "text": [
      "[{'timestamp': datetime.datetime(2016, 6, 3, 17, 35, 31, 980464), 'game_id': 4, 'event_value': '4', 'event_key': 'turn_end', 'player': 'Player2'}]\n",
      "[{'timestamp': datetime.datetime(2016, 6, 3, 17, 35, 32, 28462), 'game_id': 4, 'event_value': '5', 'event_key': 'turn_begins', 'player': 'Player1'}]\n",
      "[{'timestamp': datetime.datetime(2016, 6, 3, 17, 35, 32, 76466), 'game_id': 4, 'event_value': '3', 'event_key': 'max_mana', 'player': 'Player1'}]\n",
      "Playing <Minion ('Haunted Creeper')> on None\n",
      "[{'timestamp': datetime.datetime(2016, 6, 3, 17, 35, 32, 152472), 'game_id': 4, 'event_value': '2', 'event_key': 'mana_spent', 'player': 'Player1'}]\n"
     ]
    },
    {
     "name": "stderr",
     "output_type": "stream",
     "text": [
      "[fireplace.card]: <Minion ('Haunted Creeper')> moves from <Zone.HAND: 3> to <Zone.PLAY: 1>\n",
      "[fireplace.actions]: <Minion ('Haunted Creeper')> triggering <TargetedAction: Battlecry(<Battlecry.TARGET>=None)> targeting [<Minion ('Haunted Creeper')>]\n",
      "[fireplace.actions]: Activating <Minion ('Haunted Creeper')> action targeting None\n",
      "[fireplace.entity]: Empty stack, refreshing auras and processing deaths\n",
      "[fireplace.entity]: Empty stack, refreshing auras and processing deaths\n",
      "[fireplace.actions]: <Minion ('Worgen Infiltrator')> attacks <Minion ('Scavenging Hyena')>\n",
      "[fireplace.actions]: <Minion ('Worgen Infiltrator')> triggering <TargetedAction: Hit(<Hit.AMOUNT>=2)> targeting [<Minion ('Scavenging Hyena')>]\n",
      "[fireplace.actions]: <Minion ('Worgen Infiltrator')> triggering <TargetedAction: Predamage(<Predamage.AMOUNT>=2)> targeting [<Minion ('Scavenging Hyena')>]\n",
      "[fireplace.actions]: <Minion ('Worgen Infiltrator')> triggering <TargetedAction: Damage()> targeting [<Minion ('Scavenging Hyena')>]\n",
      "[fireplace.actions]: <Minion ('Scavenging Hyena')> triggering <TargetedAction: Hit(<Hit.AMOUNT>=2)> targeting [<Minion ('Worgen Infiltrator')>]\n",
      "[fireplace.actions]: <Minion ('Scavenging Hyena')> triggering <TargetedAction: Predamage(<Predamage.AMOUNT>=2)> targeting [<Minion ('Worgen Infiltrator')>]\n",
      "[fireplace.actions]: <Minion ('Scavenging Hyena')> triggering <TargetedAction: Damage()> targeting [<Minion ('Worgen Infiltrator')>]\n",
      "[fireplace.entity]: Empty stack, refreshing auras and processing deaths\n",
      "[fireplace.entity]: <Minion ('Worgen Infiltrator')> is removed from the field\n",
      "[fireplace.card]: <Minion ('Worgen Infiltrator')> moves from <Zone.PLAY: 1> to <Zone.GRAVEYARD: 4>\n",
      "[fireplace.entity]: <Minion ('Scavenging Hyena')> is removed from the field\n",
      "[fireplace.card]: <Minion ('Scavenging Hyena')> moves from <Zone.PLAY: 1> to <Zone.GRAVEYARD: 4>\n",
      "[fireplace.entity]: Empty stack, refreshing auras and processing deaths\n",
      "[fireplace.actions]: Processing Death for <Minion ('Worgen Infiltrator')>\n",
      "[fireplace.actions]: Processing Death for <Minion ('Scavenging Hyena')>\n",
      "[fireplace.entity]: Empty stack, refreshing auras and processing deaths\n",
      "[fireplace.actions]: <Minion (\"Captain's Parrot\")> attacks <Hero ('Rexxar')>\n",
      "[fireplace.actions]: <Minion (\"Captain's Parrot\")> triggering <TargetedAction: Hit(<Hit.AMOUNT>=1)> targeting [<Hero ('Rexxar')>]\n",
      "[fireplace.actions]: <Minion (\"Captain's Parrot\")> triggering <TargetedAction: Predamage(<Predamage.AMOUNT>=1)> targeting [<Hero ('Rexxar')>]\n",
      "[fireplace.actions]: <Minion (\"Captain's Parrot\")> triggering <TargetedAction: Damage()> targeting [<Hero ('Rexxar')>]\n",
      "[fireplace.entity]: Empty stack, refreshing auras and processing deaths\n",
      "[fireplace.entity]: Player1 ends turn 5\n",
      "[fireplace.entity]: Player2 begins turn 6\n",
      "[fireplace.entity]: Player2 is now at 3 mana crystals\n",
      "[fireplace.actions]: Player(name='Player2', hero=<Hero ('Rexxar')>) triggering <TargetedAction: Draw()> targeting [Player(name='Player2', hero=<Hero ('Rexxar')>)]\n",
      "[fireplace.entity]: Player2 draws <Minion ('Stranglethorn Tiger')>\n",
      "[fireplace.card]: <Minion ('Stranglethorn Tiger')> moves from <Zone.DECK: 2> to <Zone.HAND: 3>\n",
      "[fireplace.entity]: Empty stack, refreshing auras and processing deaths\n",
      "[fireplace.utils]: Playing <Minion ('Jeweled Scarab')> on None\n",
      "[fireplace.actions]: Player2 plays <Minion ('Jeweled Scarab')> (target=None, index=None)\n",
      "[fireplace.entity]: Player2 pays 2 mana\n"
     ]
    },
    {
     "name": "stdout",
     "output_type": "stream",
     "text": [
      "[{'timestamp': datetime.datetime(2016, 6, 3, 17, 35, 32, 348502), 'game_id': 4, 'event_value': '5', 'event_key': 'turn_end', 'player': 'Player1'}]\n",
      "[{'timestamp': datetime.datetime(2016, 6, 3, 17, 35, 32, 388487), 'game_id': 4, 'event_value': '6', 'event_key': 'turn_begins', 'player': 'Player2'}]\n",
      "[{'timestamp': datetime.datetime(2016, 6, 3, 17, 35, 32, 436497), 'game_id': 4, 'event_value': '3', 'event_key': 'max_mana', 'player': 'Player2'}]\n",
      "Playing <Minion ('Jeweled Scarab')> on None\n",
      "[{'timestamp': datetime.datetime(2016, 6, 3, 17, 35, 32, 512498), 'game_id': 4, 'event_value': '2', 'event_key': 'mana_spent', 'player': 'Player2'}]\n"
     ]
    },
    {
     "name": "stderr",
     "output_type": "stream",
     "text": [
      "[fireplace.card]: <Minion ('Jeweled Scarab')> moves from <Zone.HAND: 3> to <Zone.PLAY: 1>\n",
      "[fireplace.actions]: <Minion ('Jeweled Scarab')> triggering <TargetedAction: Battlecry(<Battlecry.TARGET>=None)> targeting [<Minion ('Jeweled Scarab')>]\n",
      "[fireplace.actions]: Activating <Minion ('Jeweled Scarab')> action targeting None\n",
      "[fireplace.actions]: <Minion ('Jeweled Scarab')> triggering <TargetedAction: Discover(<Discover.CARDS>=RandomCardPicker({'cost': 3, 'collectible': True}))> targeting [Player(name='Player2', hero=<Hero ('Rexxar')>)]\n",
      "[fireplace.actions]: <Minion ('Jeweled Scarab')> discovers [<Minion ('Deathlord')>, <Spell ('Unleash the Hounds')>, <Weapon ('Eaglehorn Bow')>] for Player2\n",
      "[fireplace.card]: <Minion ('Deathlord')> attempted a same-zone move in <Zone.SETASIDE: 6>\n",
      "[fireplace.card]: <Spell ('Unleash the Hounds')> attempted a same-zone move in <Zone.SETASIDE: 6>\n",
      "[fireplace.card]: <Weapon ('Eaglehorn Bow')> attempted a same-zone move in <Zone.SETASIDE: 6>\n",
      "[fireplace.entity]: Empty stack, refreshing auras and processing deaths\n",
      "[fireplace.entity]: Empty stack, refreshing auras and processing deaths\n",
      "[fireplace.utils]: Choosing card <Spell ('Unleash the Hounds')>\n",
      "[fireplace.entity]: Discarding <Minion ('Deathlord')>\n",
      "[fireplace.card]: <Minion ('Deathlord')> moves from <Zone.SETASIDE: 6> to <Zone.DISCARD: -2>\n",
      "[fireplace.card]: <Spell ('Unleash the Hounds')> moves from <Zone.SETASIDE: 6> to <Zone.HAND: 3>\n",
      "[fireplace.entity]: Discarding <Weapon ('Eaglehorn Bow')>\n",
      "[fireplace.card]: <Weapon ('Eaglehorn Bow')> moves from <Zone.SETASIDE: 6> to <Zone.DISCARD: -2>\n",
      "[fireplace.entity]: Player2 ends turn 6\n",
      "[fireplace.entity]: Player1 begins turn 7\n",
      "[fireplace.entity]: Player1 is now at 4 mana crystals\n",
      "[fireplace.actions]: Player(name='Player1', hero=<Hero ('Rexxar')>) triggering <TargetedAction: Draw()> targeting [Player(name='Player1', hero=<Hero ('Rexxar')>)]\n",
      "[fireplace.entity]: Player1 draws <Minion ('Dalaran Mage')>\n",
      "[fireplace.card]: <Minion ('Dalaran Mage')> moves from <Zone.DECK: 2> to <Zone.HAND: 3>\n",
      "[fireplace.entity]: Empty stack, refreshing auras and processing deaths\n",
      "[fireplace.utils]: Playing <Minion ('Piloted Shredder')> on None\n",
      "[fireplace.actions]: Player1 plays <Minion ('Piloted Shredder')> (target=None, index=None)\n",
      "[fireplace.entity]: Player1 pays 4 mana\n"
     ]
    },
    {
     "name": "stdout",
     "output_type": "stream",
     "text": [
      "Choosing card <Spell ('Unleash the Hounds')>\n",
      "[{'timestamp': datetime.datetime(2016, 6, 3, 17, 35, 32, 656506), 'game_id': 4, 'event_value': '6', 'event_key': 'turn_end', 'player': 'Player2'}]\n",
      "[{'timestamp': datetime.datetime(2016, 6, 3, 17, 35, 32, 696522), 'game_id': 4, 'event_value': '7', 'event_key': 'turn_begins', 'player': 'Player1'}]\n",
      "[{'timestamp': datetime.datetime(2016, 6, 3, 17, 35, 32, 744518), 'game_id': 4, 'event_value': '4', 'event_key': 'max_mana', 'player': 'Player1'}]\n",
      "Playing <Minion ('Piloted Shredder')> on None\n",
      "[{'timestamp': datetime.datetime(2016, 6, 3, 17, 35, 32, 828520), 'game_id': 4, 'event_value': '4', 'event_key': 'mana_spent', 'player': 'Player1'}]\n"
     ]
    },
    {
     "name": "stderr",
     "output_type": "stream",
     "text": [
      "[fireplace.card]: <Minion ('Piloted Shredder')> moves from <Zone.HAND: 3> to <Zone.PLAY: 1>\n",
      "[fireplace.actions]: <Minion ('Piloted Shredder')> triggering <TargetedAction: Battlecry(<Battlecry.TARGET>=None)> targeting [<Minion ('Piloted Shredder')>]\n",
      "[fireplace.actions]: Activating <Minion ('Piloted Shredder')> action targeting None\n",
      "[fireplace.entity]: Empty stack, refreshing auras and processing deaths\n",
      "[fireplace.entity]: Empty stack, refreshing auras and processing deaths\n",
      "[fireplace.actions]: <Minion (\"Captain's Parrot\")> attacks <Minion ('Jeweled Scarab')>\n",
      "[fireplace.actions]: <Minion (\"Captain's Parrot\")> triggering <TargetedAction: Hit(<Hit.AMOUNT>=1)> targeting [<Minion ('Jeweled Scarab')>]\n",
      "[fireplace.actions]: <Minion (\"Captain's Parrot\")> triggering <TargetedAction: Predamage(<Predamage.AMOUNT>=1)> targeting [<Minion ('Jeweled Scarab')>]\n",
      "[fireplace.actions]: <Minion (\"Captain's Parrot\")> triggering <TargetedAction: Damage()> targeting [<Minion ('Jeweled Scarab')>]\n",
      "[fireplace.actions]: <Minion ('Jeweled Scarab')> triggering <TargetedAction: Hit(<Hit.AMOUNT>=1)> targeting [<Minion (\"Captain's Parrot\")>]\n",
      "[fireplace.actions]: <Minion ('Jeweled Scarab')> triggering <TargetedAction: Predamage(<Predamage.AMOUNT>=1)> targeting [<Minion (\"Captain's Parrot\")>]\n",
      "[fireplace.actions]: <Minion ('Jeweled Scarab')> triggering <TargetedAction: Damage()> targeting [<Minion (\"Captain's Parrot\")>]\n",
      "[fireplace.entity]: Empty stack, refreshing auras and processing deaths\n",
      "[fireplace.entity]: <Minion (\"Captain's Parrot\")> is removed from the field\n",
      "[fireplace.card]: <Minion (\"Captain's Parrot\")> moves from <Zone.PLAY: 1> to <Zone.GRAVEYARD: 4>\n",
      "[fireplace.entity]: <Minion ('Jeweled Scarab')> is removed from the field\n",
      "[fireplace.card]: <Minion ('Jeweled Scarab')> moves from <Zone.PLAY: 1> to <Zone.GRAVEYARD: 4>\n",
      "[fireplace.entity]: Empty stack, refreshing auras and processing deaths\n",
      "[fireplace.actions]: Processing Death for <Minion (\"Captain's Parrot\")>\n",
      "[fireplace.actions]: Processing Death for <Minion ('Jeweled Scarab')>\n",
      "[fireplace.entity]: Empty stack, refreshing auras and processing deaths\n",
      "[fireplace.actions]: <Minion ('Haunted Creeper')> attacks <Hero ('Rexxar')>\n",
      "[fireplace.actions]: <Minion ('Haunted Creeper')> triggering <TargetedAction: Hit(<Hit.AMOUNT>=1)> targeting [<Hero ('Rexxar')>]\n",
      "[fireplace.actions]: <Minion ('Haunted Creeper')> triggering <TargetedAction: Predamage(<Predamage.AMOUNT>=1)> targeting [<Hero ('Rexxar')>]\n",
      "[fireplace.actions]: <Minion ('Haunted Creeper')> triggering <TargetedAction: Damage()> targeting [<Hero ('Rexxar')>]\n",
      "[fireplace.entity]: Empty stack, refreshing auras and processing deaths\n",
      "[fireplace.entity]: Player1 ends turn 7\n",
      "[fireplace.entity]: Player2 begins turn 8\n",
      "[fireplace.entity]: Player2 is now at 4 mana crystals\n",
      "[fireplace.actions]: Player(name='Player2', hero=<Hero ('Rexxar')>) triggering <TargetedAction: Draw()> targeting [Player(name='Player2', hero=<Hero ('Rexxar')>)]\n",
      "[fireplace.entity]: Player2 draws <Minion ('Madder Bomber')>\n",
      "[fireplace.card]: <Minion ('Madder Bomber')> moves from <Zone.DECK: 2> to <Zone.HAND: 3>\n",
      "[fireplace.entity]: Empty stack, refreshing auras and processing deaths\n",
      "[fireplace.utils]: Playing <Spell ('Unleash the Hounds')> on None\n",
      "[fireplace.actions]: Player2 plays <Spell ('Unleash the Hounds')> (target=None, index=None)\n",
      "[fireplace.entity]: Player2 pays 3 mana\n"
     ]
    },
    {
     "name": "stdout",
     "output_type": "stream",
     "text": [
      "[{'timestamp': datetime.datetime(2016, 6, 3, 17, 35, 33, 8534), 'game_id': 4, 'event_value': '7', 'event_key': 'turn_end', 'player': 'Player1'}]\n",
      "[{'timestamp': datetime.datetime(2016, 6, 3, 17, 35, 33, 48536), 'game_id': 4, 'event_value': '8', 'event_key': 'turn_begins', 'player': 'Player2'}]\n",
      "[{'timestamp': datetime.datetime(2016, 6, 3, 17, 35, 33, 96564), 'game_id': 4, 'event_value': '4', 'event_key': 'max_mana', 'player': 'Player2'}]\n",
      "Playing <Spell ('Unleash the Hounds')> on None\n",
      "[{'timestamp': datetime.datetime(2016, 6, 3, 17, 35, 33, 196547), 'game_id': 4, 'event_value': '3', 'event_key': 'mana_spent', 'player': 'Player2'}]\n"
     ]
    },
    {
     "name": "stderr",
     "output_type": "stream",
     "text": [
      "[fireplace.card]: <Spell ('Unleash the Hounds')> moves from <Zone.HAND: 3> to <Zone.PLAY: 1>\n",
      "[fireplace.actions]: <Spell ('Unleash the Hounds')> triggering <TargetedAction: Battlecry(<Battlecry.TARGET>=None)> targeting [<Spell ('Unleash the Hounds')>]\n",
      "[fireplace.actions]: Activating <Spell ('Unleash the Hounds')> action targeting None\n",
      "[fireplace.actions]: <Spell ('Unleash the Hounds')> triggering <TargetedAction: Summon(<Summon.CARD>='EX1_538t')> targeting [Player(name='Player2', hero=<Hero ('Rexxar')>)]\n",
      "[fireplace.actions]: Player2 summons [<Minion ('Hound')>]\n",
      "[fireplace.card]: <Minion ('Hound')> moves from <Zone.SETASIDE: 6> to <Zone.PLAY: 1>\n",
      "[fireplace.actions]: <Spell ('Unleash the Hounds')> triggering <TargetedAction: Summon(<Summon.CARD>='EX1_538t')> targeting [Player(name='Player2', hero=<Hero ('Rexxar')>)]\n",
      "[fireplace.actions]: Player2 summons [<Minion ('Hound')>]\n",
      "[fireplace.card]: <Minion ('Hound')> moves from <Zone.SETASIDE: 6> to <Zone.PLAY: 1>\n",
      "[fireplace.entity]: Empty stack, refreshing auras and processing deaths\n",
      "[fireplace.entity]: Empty stack, refreshing auras and processing deaths\n",
      "[fireplace.actions]: <Minion ('Hound')> attacks <Minion ('Piloted Shredder')>\n",
      "[fireplace.actions]: <Minion ('Hound')> triggering <TargetedAction: Hit(<Hit.AMOUNT>=1)> targeting [<Minion ('Piloted Shredder')>]\n",
      "[fireplace.actions]: <Minion ('Hound')> triggering <TargetedAction: Predamage(<Predamage.AMOUNT>=1)> targeting [<Minion ('Piloted Shredder')>]\n",
      "[fireplace.actions]: <Minion ('Hound')> triggering <TargetedAction: Damage()> targeting [<Minion ('Piloted Shredder')>]\n",
      "[fireplace.actions]: <Minion ('Piloted Shredder')> triggering <TargetedAction: Hit(<Hit.AMOUNT>=4)> targeting [<Minion ('Hound')>]\n",
      "[fireplace.actions]: <Minion ('Piloted Shredder')> triggering <TargetedAction: Predamage(<Predamage.AMOUNT>=4)> targeting [<Minion ('Hound')>]\n",
      "[fireplace.actions]: <Minion ('Piloted Shredder')> triggering <TargetedAction: Damage()> targeting [<Minion ('Hound')>]\n",
      "[fireplace.entity]: Empty stack, refreshing auras and processing deaths\n",
      "[fireplace.entity]: <Minion ('Hound')> is removed from the field\n",
      "[fireplace.card]: <Minion ('Hound')> moves from <Zone.PLAY: 1> to <Zone.GRAVEYARD: 4>\n",
      "[fireplace.entity]: Empty stack, refreshing auras and processing deaths\n",
      "[fireplace.actions]: Processing Death for <Minion ('Hound')>\n",
      "[fireplace.entity]: Empty stack, refreshing auras and processing deaths\n",
      "[fireplace.actions]: <Minion ('Hound')> attacks <Hero ('Rexxar')>\n",
      "[fireplace.actions]: <Minion ('Hound')> triggering <TargetedAction: Hit(<Hit.AMOUNT>=1)> targeting [<Hero ('Rexxar')>]\n",
      "[fireplace.actions]: <Minion ('Hound')> triggering <TargetedAction: Predamage(<Predamage.AMOUNT>=1)> targeting [<Hero ('Rexxar')>]\n",
      "[fireplace.actions]: <Minion ('Hound')> triggering <TargetedAction: Damage()> targeting [<Hero ('Rexxar')>]\n",
      "[fireplace.entity]: Empty stack, refreshing auras and processing deaths\n",
      "[fireplace.entity]: Player2 ends turn 8\n",
      "[fireplace.entity]: Player1 begins turn 9\n",
      "[fireplace.entity]: Player1 is now at 5 mana crystals\n",
      "[fireplace.actions]: Player(name='Player1', hero=<Hero ('Rexxar')>) triggering <TargetedAction: Draw()> targeting [Player(name='Player1', hero=<Hero ('Rexxar')>)]\n",
      "[fireplace.entity]: Player1 draws <Spell ('Powershot')>\n",
      "[fireplace.card]: <Spell ('Powershot')> moves from <Zone.DECK: 2> to <Zone.HAND: 3>\n",
      "[fireplace.entity]: Empty stack, refreshing auras and processing deaths\n",
      "[fireplace.utils]: Playing <Minion ('Antique Healbot')> on None\n",
      "[fireplace.actions]: Player1 plays <Minion ('Antique Healbot')> (target=None, index=None)\n",
      "[fireplace.entity]: Player1 pays 5 mana\n",
      "[fireplace.card]: <Minion ('Antique Healbot')> moves from <Zone.HAND: 3> to <Zone.PLAY: 1>\n"
     ]
    },
    {
     "name": "stdout",
     "output_type": "stream",
     "text": [
      "[{'timestamp': datetime.datetime(2016, 6, 3, 17, 35, 33, 384561), 'game_id': 4, 'event_value': '8', 'event_key': 'turn_end', 'player': 'Player2'}]\n",
      "[{'timestamp': datetime.datetime(2016, 6, 3, 17, 35, 33, 424559), 'game_id': 4, 'event_value': '9', 'event_key': 'turn_begins', 'player': 'Player1'}]\n",
      "[{'timestamp': datetime.datetime(2016, 6, 3, 17, 35, 33, 472565), 'game_id': 4, 'event_value': '5', 'event_key': 'max_mana', 'player': 'Player1'}]\n",
      "Playing <Minion ('Antique Healbot')> on None\n",
      "[{'timestamp': datetime.datetime(2016, 6, 3, 17, 35, 33, 548570), 'game_id': 4, 'event_value': '5', 'event_key': 'mana_spent', 'player': 'Player1'}]\n"
     ]
    },
    {
     "name": "stderr",
     "output_type": "stream",
     "text": [
      "[fireplace.actions]: <Minion ('Antique Healbot')> triggering <TargetedAction: Battlecry(<Battlecry.TARGET>=None)> targeting [<Minion ('Antique Healbot')>]\n",
      "[fireplace.actions]: Activating <Minion ('Antique Healbot')> action targeting None\n",
      "[fireplace.actions]: <Minion ('Antique Healbot')> triggering <TargetedAction: Heal(<Heal.AMOUNT>=8)> targeting [<Hero ('Rexxar')>]\n",
      "[fireplace.actions]: <Minion ('Antique Healbot')> heals <Hero ('Rexxar')> for 1\n",
      "[fireplace.entity]: Empty stack, refreshing auras and processing deaths\n",
      "[fireplace.entity]: Empty stack, refreshing auras and processing deaths\n",
      "[fireplace.actions]: <Minion ('Haunted Creeper')> attacks <Hero ('Rexxar')>\n",
      "[fireplace.actions]: <Minion ('Haunted Creeper')> triggering <TargetedAction: Hit(<Hit.AMOUNT>=1)> targeting [<Hero ('Rexxar')>]\n",
      "[fireplace.actions]: <Minion ('Haunted Creeper')> triggering <TargetedAction: Predamage(<Predamage.AMOUNT>=1)> targeting [<Hero ('Rexxar')>]\n",
      "[fireplace.actions]: <Minion ('Haunted Creeper')> triggering <TargetedAction: Damage()> targeting [<Hero ('Rexxar')>]\n",
      "[fireplace.entity]: Empty stack, refreshing auras and processing deaths\n",
      "[fireplace.actions]: <Minion ('Piloted Shredder')> attacks <Minion ('Hound')>\n",
      "[fireplace.actions]: <Minion ('Piloted Shredder')> triggering <TargetedAction: Hit(<Hit.AMOUNT>=4)> targeting [<Minion ('Hound')>]\n",
      "[fireplace.actions]: <Minion ('Piloted Shredder')> triggering <TargetedAction: Predamage(<Predamage.AMOUNT>=4)> targeting [<Minion ('Hound')>]\n",
      "[fireplace.actions]: <Minion ('Piloted Shredder')> triggering <TargetedAction: Damage()> targeting [<Minion ('Hound')>]\n",
      "[fireplace.actions]: <Minion ('Hound')> triggering <TargetedAction: Hit(<Hit.AMOUNT>=1)> targeting [<Minion ('Piloted Shredder')>]\n",
      "[fireplace.actions]: <Minion ('Hound')> triggering <TargetedAction: Predamage(<Predamage.AMOUNT>=1)> targeting [<Minion ('Piloted Shredder')>]\n",
      "[fireplace.actions]: <Minion ('Hound')> triggering <TargetedAction: Damage()> targeting [<Minion ('Piloted Shredder')>]\n",
      "[fireplace.entity]: Empty stack, refreshing auras and processing deaths\n",
      "[fireplace.entity]: <Minion ('Hound')> is removed from the field\n",
      "[fireplace.card]: <Minion ('Hound')> moves from <Zone.PLAY: 1> to <Zone.GRAVEYARD: 4>\n",
      "[fireplace.entity]: Empty stack, refreshing auras and processing deaths\n",
      "[fireplace.actions]: Processing Death for <Minion ('Hound')>\n",
      "[fireplace.entity]: Empty stack, refreshing auras and processing deaths\n",
      "[fireplace.entity]: Player1 ends turn 9\n",
      "[fireplace.entity]: Player2 begins turn 10\n",
      "[fireplace.entity]: Player2 is now at 5 mana crystals\n",
      "[fireplace.actions]: Player(name='Player2', hero=<Hero ('Rexxar')>) triggering <TargetedAction: Draw()> targeting [Player(name='Player2', hero=<Hero ('Rexxar')>)]\n",
      "[fireplace.entity]: Player2 draws <Spell ('Arcane Shot')>\n",
      "[fireplace.card]: <Spell ('Arcane Shot')> moves from <Zone.DECK: 2> to <Zone.HAND: 3>\n",
      "[fireplace.entity]: Empty stack, refreshing auras and processing deaths\n",
      "[fireplace.entity]: Player2 uses hero power <HeroPower ('Steady Shot')> on None\n",
      "[fireplace.actions]: <HeroPower ('Steady Shot')> triggering <TargetedAction: Hit(<Hit.AMOUNT>=2)> targeting [<Hero ('Rexxar')>]\n"
     ]
    },
    {
     "name": "stdout",
     "output_type": "stream",
     "text": [
      "[{'timestamp': datetime.datetime(2016, 6, 3, 17, 35, 33, 720583), 'game_id': 4, 'event_value': '9', 'event_key': 'turn_end', 'player': 'Player1'}]\n",
      "[{'timestamp': datetime.datetime(2016, 6, 3, 17, 35, 33, 760585), 'game_id': 4, 'event_value': '10', 'event_key': 'turn_begins', 'player': 'Player2'}]\n",
      "[{'timestamp': datetime.datetime(2016, 6, 3, 17, 35, 33, 808585), 'game_id': 4, 'event_value': '5', 'event_key': 'max_mana', 'player': 'Player2'}]\n",
      "[{'timestamp': datetime.datetime(2016, 6, 3, 17, 35, 33, 880595), 'game_id': 4, 'event_value': 'None', 'event_key': 'hero_power', 'player': 'Player2'}]\n"
     ]
    },
    {
     "name": "stderr",
     "output_type": "stream",
     "text": [
      "[fireplace.actions]: <HeroPower ('Steady Shot')> triggering <TargetedAction: Predamage(<Predamage.AMOUNT>=2)> targeting [<Hero ('Rexxar')>]\n",
      "[fireplace.actions]: <HeroPower ('Steady Shot')> triggering <TargetedAction: Damage()> targeting [<Hero ('Rexxar')>]\n",
      "[fireplace.entity]: Empty stack, refreshing auras and processing deaths\n",
      "[fireplace.utils]: Playing <Minion ('Questing Adventurer')> on None\n",
      "[fireplace.actions]: Player2 plays <Minion ('Questing Adventurer')> (target=None, index=None)\n",
      "[fireplace.entity]: Player2 pays 3 mana\n",
      "[fireplace.card]: <Minion ('Questing Adventurer')> moves from <Zone.HAND: 3> to <Zone.PLAY: 1>\n",
      "[fireplace.actions]: <Minion ('Questing Adventurer')> triggering <TargetedAction: Battlecry(<Battlecry.TARGET>=None)> targeting [<Minion ('Questing Adventurer')>]\n",
      "[fireplace.actions]: Activating <Minion ('Questing Adventurer')> action targeting None\n",
      "[fireplace.entity]: Empty stack, refreshing auras and processing deaths\n",
      "[fireplace.entity]: Empty stack, refreshing auras and processing deaths\n",
      "[fireplace.entity]: Player2 ends turn 10\n",
      "[fireplace.entity]: Player1 begins turn 11\n",
      "[fireplace.entity]: Player1 is now at 6 mana crystals\n"
     ]
    },
    {
     "name": "stdout",
     "output_type": "stream",
     "text": [
      "Playing <Minion ('Questing Adventurer')> on None\n",
      "[{'timestamp': datetime.datetime(2016, 6, 3, 17, 35, 33, 956613), 'game_id': 4, 'event_value': '3', 'event_key': 'mana_spent', 'player': 'Player2'}]\n",
      "[{'timestamp': datetime.datetime(2016, 6, 3, 17, 35, 34, 28604), 'game_id': 4, 'event_value': '10', 'event_key': 'turn_end', 'player': 'Player2'}]\n",
      "[{'timestamp': datetime.datetime(2016, 6, 3, 17, 35, 34, 72603), 'game_id': 4, 'event_value': '11', 'event_key': 'turn_begins', 'player': 'Player1'}]\n",
      "[{'timestamp': datetime.datetime(2016, 6, 3, 17, 35, 34, 120606), 'game_id': 4, 'event_value': '6', 'event_key': 'max_mana', 'player': 'Player1'}]\n"
     ]
    },
    {
     "name": "stderr",
     "output_type": "stream",
     "text": [
      "[fireplace.actions]: Player(name='Player1', hero=<Hero ('Rexxar')>) triggering <TargetedAction: Draw()> targeting [Player(name='Player1', hero=<Hero ('Rexxar')>)]\n",
      "[fireplace.entity]: Player1 draws <Minion ('Mechanical Yeti')>\n",
      "[fireplace.card]: <Minion ('Mechanical Yeti')> moves from <Zone.DECK: 2> to <Zone.HAND: 3>\n",
      "[fireplace.entity]: Empty stack, refreshing auras and processing deaths\n",
      "[fireplace.entity]: Player1 uses hero power <HeroPower ('Steady Shot')> on None\n",
      "[fireplace.actions]: <HeroPower ('Steady Shot')> triggering <TargetedAction: Hit(<Hit.AMOUNT>=2)> targeting [<Hero ('Rexxar')>]\n",
      "[fireplace.actions]: <HeroPower ('Steady Shot')> triggering <TargetedAction: Predamage(<Predamage.AMOUNT>=2)> targeting [<Hero ('Rexxar')>]\n",
      "[fireplace.actions]: <HeroPower ('Steady Shot')> triggering <TargetedAction: Damage()> targeting [<Hero ('Rexxar')>]\n",
      "[fireplace.entity]: Empty stack, refreshing auras and processing deaths\n",
      "[fireplace.utils]: Playing <Minion ('Silvermoon Guardian')> on None\n",
      "[fireplace.actions]: Player1 plays <Minion ('Silvermoon Guardian')> (target=None, index=None)\n",
      "[fireplace.entity]: Player1 pays 4 mana\n",
      "[fireplace.card]: <Minion ('Silvermoon Guardian')> moves from <Zone.HAND: 3> to <Zone.PLAY: 1>\n",
      "[fireplace.actions]: <Minion ('Silvermoon Guardian')> triggering <TargetedAction: Battlecry(<Battlecry.TARGET>=None)> targeting [<Minion ('Silvermoon Guardian')>]\n",
      "[fireplace.actions]: Activating <Minion ('Silvermoon Guardian')> action targeting None\n",
      "[fireplace.entity]: Empty stack, refreshing auras and processing deaths\n",
      "[fireplace.entity]: Empty stack, refreshing auras and processing deaths\n",
      "[fireplace.actions]: <Minion ('Haunted Creeper')> attacks <Hero ('Rexxar')>\n",
      "[fireplace.actions]: <Minion ('Haunted Creeper')> triggering <TargetedAction: Hit(<Hit.AMOUNT>=1)> targeting [<Hero ('Rexxar')>]\n",
      "[fireplace.actions]: <Minion ('Haunted Creeper')> triggering <TargetedAction: Predamage(<Predamage.AMOUNT>=1)> targeting [<Hero ('Rexxar')>]\n",
      "[fireplace.actions]: <Minion ('Haunted Creeper')> triggering <TargetedAction: Damage()> targeting [<Hero ('Rexxar')>]\n",
      "[fireplace.entity]: Empty stack, refreshing auras and processing deaths\n",
      "[fireplace.actions]: <Minion ('Piloted Shredder')> attacks <Minion ('Questing Adventurer')>\n",
      "[fireplace.actions]: <Minion ('Piloted Shredder')> triggering <TargetedAction: Hit(<Hit.AMOUNT>=4)> targeting [<Minion ('Questing Adventurer')>]\n",
      "[fireplace.actions]: <Minion ('Piloted Shredder')> triggering <TargetedAction: Predamage(<Predamage.AMOUNT>=4)> targeting [<Minion ('Questing Adventurer')>]\n",
      "[fireplace.actions]: <Minion ('Piloted Shredder')> triggering <TargetedAction: Damage()> targeting [<Minion ('Questing Adventurer')>]\n"
     ]
    },
    {
     "name": "stdout",
     "output_type": "stream",
     "text": [
      "[{'timestamp': datetime.datetime(2016, 6, 3, 17, 35, 34, 192613), 'game_id': 4, 'event_value': 'None', 'event_key': 'hero_power', 'player': 'Player1'}]\n",
      "Playing <Minion ('Silvermoon Guardian')> on None\n",
      "[{'timestamp': datetime.datetime(2016, 6, 3, 17, 35, 34, 268616), 'game_id': 4, 'event_value': '4', 'event_key': 'mana_spent', 'player': 'Player1'}]\n"
     ]
    },
    {
     "name": "stderr",
     "output_type": "stream",
     "text": [
      "[fireplace.actions]: <Minion ('Questing Adventurer')> triggering <TargetedAction: Hit(<Hit.AMOUNT>=2)> targeting [<Minion ('Piloted Shredder')>]\n",
      "[fireplace.actions]: <Minion ('Questing Adventurer')> triggering <TargetedAction: Predamage(<Predamage.AMOUNT>=2)> targeting [<Minion ('Piloted Shredder')>]\n",
      "[fireplace.actions]: <Minion ('Questing Adventurer')> triggering <TargetedAction: Damage()> targeting [<Minion ('Piloted Shredder')>]\n",
      "[fireplace.entity]: Empty stack, refreshing auras and processing deaths\n",
      "[fireplace.entity]: <Minion ('Piloted Shredder')> is removed from the field\n",
      "[fireplace.card]: <Minion ('Piloted Shredder')> moves from <Zone.PLAY: 1> to <Zone.GRAVEYARD: 4>\n",
      "[fireplace.entity]: <Minion ('Questing Adventurer')> is removed from the field\n",
      "[fireplace.card]: <Minion ('Questing Adventurer')> moves from <Zone.PLAY: 1> to <Zone.GRAVEYARD: 4>\n",
      "[fireplace.entity]: Empty stack, refreshing auras and processing deaths\n",
      "[fireplace.actions]: Processing Death for <Minion ('Piloted Shredder')>\n",
      "[fireplace.actions]: Game(players=(Player(name='Player1', hero=<Hero ('Rexxar')>), Player(name='Player2', hero=<Hero ('Rexxar')>))) triggering <TargetedAction: Deathrattle()> targeting [<Minion ('Piloted Shredder')>]\n",
      "[fireplace.actions]: <Minion ('Piloted Shredder')> triggering <TargetedAction: Summon(<Summon.CARD>=RandomCardPicker({'cost': 2, 'type': <CardType.MINION: 4>, 'collectible': True}))> targeting [Player(name='Player1', hero=<Hero ('Rexxar')>)]\n",
      "[fireplace.actions]: Player1 summons [<Minion ('Succubus')>]\n",
      "[fireplace.card]: <Minion ('Succubus')> moves from <Zone.SETASIDE: 6> to <Zone.PLAY: 1>\n",
      "[fireplace.actions]: Processing Death for <Minion ('Questing Adventurer')>\n",
      "[fireplace.entity]: Empty stack, refreshing auras and processing deaths\n",
      "[fireplace.actions]: <Minion ('Antique Healbot')> attacks <Hero ('Rexxar')>\n",
      "[fireplace.actions]: <Minion ('Antique Healbot')> triggering <TargetedAction: Hit(<Hit.AMOUNT>=3)> targeting [<Hero ('Rexxar')>]\n",
      "[fireplace.actions]: <Minion ('Antique Healbot')> triggering <TargetedAction: Predamage(<Predamage.AMOUNT>=3)> targeting [<Hero ('Rexxar')>]\n",
      "[fireplace.actions]: <Minion ('Antique Healbot')> triggering <TargetedAction: Damage()> targeting [<Hero ('Rexxar')>]\n",
      "[fireplace.entity]: Empty stack, refreshing auras and processing deaths\n",
      "[fireplace.entity]: Player1 ends turn 11\n",
      "[fireplace.entity]: Player2 begins turn 12\n",
      "[fireplace.entity]: Player2 is now at 6 mana crystals\n",
      "[fireplace.actions]: Player(name='Player2', hero=<Hero ('Rexxar')>) triggering <TargetedAction: Draw()> targeting [Player(name='Player2', hero=<Hero ('Rexxar')>)]\n",
      "[fireplace.entity]: Player2 draws <Minion ('Ancient Brewmaster')>\n",
      "[fireplace.card]: <Minion ('Ancient Brewmaster')> moves from <Zone.DECK: 2> to <Zone.HAND: 3>\n",
      "[fireplace.entity]: Empty stack, refreshing auras and processing deaths\n",
      "[fireplace.utils]: Playing <Minion ('Twilight Summoner')> on None\n",
      "[fireplace.actions]: Player2 plays <Minion ('Twilight Summoner')> (target=None, index=None)\n",
      "[fireplace.entity]: Player2 pays 4 mana\n",
      "[fireplace.card]: <Minion ('Twilight Summoner')> moves from <Zone.HAND: 3> to <Zone.PLAY: 1>\n"
     ]
    },
    {
     "name": "stdout",
     "output_type": "stream",
     "text": [
      "[{'timestamp': datetime.datetime(2016, 6, 3, 17, 35, 34, 504632), 'game_id': 4, 'event_value': '11', 'event_key': 'turn_end', 'player': 'Player1'}]\n",
      "[{'timestamp': datetime.datetime(2016, 6, 3, 17, 35, 34, 544636), 'game_id': 4, 'event_value': '12', 'event_key': 'turn_begins', 'player': 'Player2'}]\n",
      "[{'timestamp': datetime.datetime(2016, 6, 3, 17, 35, 34, 592639), 'game_id': 4, 'event_value': '6', 'event_key': 'max_mana', 'player': 'Player2'}]\n",
      "Playing <Minion ('Twilight Summoner')> on None\n",
      "[{'timestamp': datetime.datetime(2016, 6, 3, 17, 35, 34, 668644), 'game_id': 4, 'event_value': '4', 'event_key': 'mana_spent', 'player': 'Player2'}]\n"
     ]
    },
    {
     "name": "stderr",
     "output_type": "stream",
     "text": [
      "[fireplace.actions]: <Minion ('Twilight Summoner')> triggering <TargetedAction: Battlecry(<Battlecry.TARGET>=None)> targeting [<Minion ('Twilight Summoner')>]\n",
      "[fireplace.actions]: Activating <Minion ('Twilight Summoner')> action targeting None\n",
      "[fireplace.entity]: Empty stack, refreshing auras and processing deaths\n",
      "[fireplace.entity]: Empty stack, refreshing auras and processing deaths\n",
      "[fireplace.utils]: Playing <Spell ('Arcane Shot')> on <Minion ('Antique Healbot')>\n",
      "[fireplace.actions]: Player2 plays <Spell ('Arcane Shot')> (target=<Minion ('Antique Healbot')>, index=None)\n",
      "[fireplace.entity]: Player2 pays 1 mana\n",
      "[fireplace.card]: <Spell ('Arcane Shot')> moves from <Zone.HAND: 3> to <Zone.PLAY: 1>\n",
      "[fireplace.actions]: <Spell ('Arcane Shot')> triggering <TargetedAction: Battlecry(<Battlecry.TARGET>=<Minion ('Antique Healbot')>)> targeting [<Spell ('Arcane Shot')>]\n",
      "[fireplace.actions]: Activating <Spell ('Arcane Shot')> action targeting <Minion ('Antique Healbot')>\n",
      "[fireplace.actions]: <Spell ('Arcane Shot')> triggering <TargetedAction: Hit(<Hit.AMOUNT>=2)> targeting [<Minion ('Antique Healbot')>]\n",
      "[fireplace.actions]: <Spell ('Arcane Shot')> triggering <TargetedAction: Predamage(<Predamage.AMOUNT>=2)> targeting [<Minion ('Antique Healbot')>]\n",
      "[fireplace.actions]: <Spell ('Arcane Shot')> triggering <TargetedAction: Damage()> targeting [<Minion ('Antique Healbot')>]\n",
      "[fireplace.entity]: Empty stack, refreshing auras and processing deaths\n",
      "[fireplace.entity]: Empty stack, refreshing auras and processing deaths\n",
      "[fireplace.entity]: Player2 ends turn 12\n",
      "[fireplace.entity]: Player1 begins turn 13\n",
      "[fireplace.entity]: Player1 is now at 7 mana crystals\n"
     ]
    },
    {
     "name": "stdout",
     "output_type": "stream",
     "text": [
      "Playing <Spell ('Arcane Shot')> on <Minion ('Antique Healbot')>\n",
      "[{'timestamp': datetime.datetime(2016, 6, 3, 17, 35, 34, 744649), 'game_id': 4, 'event_value': '1', 'event_key': 'mana_spent', 'player': 'Player2'}]\n",
      "[{'timestamp': datetime.datetime(2016, 6, 3, 17, 35, 34, 836656), 'game_id': 4, 'event_value': '12', 'event_key': 'turn_end', 'player': 'Player2'}]\n",
      "[{'timestamp': datetime.datetime(2016, 6, 3, 17, 35, 34, 880659), 'game_id': 4, 'event_value': '13', 'event_key': 'turn_begins', 'player': 'Player1'}]\n",
      "[{'timestamp': datetime.datetime(2016, 6, 3, 17, 35, 34, 928668), 'game_id': 4, 'event_value': '7', 'event_key': 'max_mana', 'player': 'Player1'}]\n"
     ]
    },
    {
     "name": "stderr",
     "output_type": "stream",
     "text": [
      "[fireplace.actions]: Player(name='Player1', hero=<Hero ('Rexxar')>) triggering <TargetedAction: Draw()> targeting [Player(name='Player1', hero=<Hero ('Rexxar')>)]\n",
      "[fireplace.entity]: Player1 draws <Minion ('Lance Carrier')>\n",
      "[fireplace.card]: <Minion ('Lance Carrier')> moves from <Zone.DECK: 2> to <Zone.HAND: 3>\n",
      "[fireplace.entity]: Empty stack, refreshing auras and processing deaths\n",
      "[fireplace.utils]: Playing <Minion ('Blackwater Pirate')> on None\n",
      "[fireplace.actions]: Player1 plays <Minion ('Blackwater Pirate')> (target=None, index=None)\n",
      "[fireplace.entity]: Player1 pays 4 mana\n",
      "[fireplace.card]: <Minion ('Blackwater Pirate')> moves from <Zone.HAND: 3> to <Zone.PLAY: 1>\n",
      "[fireplace.actions]: <Minion ('Blackwater Pirate')> triggering <TargetedAction: Battlecry(<Battlecry.TARGET>=None)> targeting [<Minion ('Blackwater Pirate')>]\n",
      "[fireplace.actions]: Activating <Minion ('Blackwater Pirate')> action targeting None\n",
      "[fireplace.entity]: Empty stack, refreshing auras and processing deaths\n",
      "[fireplace.entity]: Empty stack, refreshing auras and processing deaths\n",
      "[fireplace.utils]: Playing <Spell ('Powershot')> on <Minion ('Succubus')>\n",
      "[fireplace.actions]: Player1 plays <Spell ('Powershot')> (target=<Minion ('Succubus')>, index=None)\n",
      "[fireplace.entity]: Player1 pays 3 mana\n",
      "[fireplace.card]: <Spell ('Powershot')> moves from <Zone.HAND: 3> to <Zone.PLAY: 1>\n",
      "[fireplace.actions]: <Spell ('Powershot')> triggering <TargetedAction: Battlecry(<Battlecry.TARGET>=<Minion ('Succubus')>)> targeting [<Spell ('Powershot')>]\n",
      "[fireplace.actions]: Activating <Spell ('Powershot')> action targeting <Minion ('Succubus')>\n",
      "[fireplace.actions]: <Spell ('Powershot')> triggering <TargetedAction: Hit(<Hit.AMOUNT>=2)> targeting [<Minion ('Silvermoon Guardian')>, <Minion ('Succubus')>, <Minion ('Blackwater Pirate')>]\n",
      "[fireplace.actions]: <Spell ('Powershot')> triggering <TargetedAction: Predamage(<Predamage.AMOUNT>=2)> targeting [<Minion ('Silvermoon Guardian')>]\n",
      "[fireplace.actions]: <Spell ('Powershot')> triggering <TargetedAction: Damage()> targeting [<Minion ('Silvermoon Guardian')>]\n",
      "[fireplace.entity]: <Minion ('Silvermoon Guardian')>'s divine shield prevents 2 damage.\n",
      "[fireplace.actions]: <Spell ('Powershot')> triggering <TargetedAction: Predamage(<Predamage.AMOUNT>=2)> targeting [<Minion ('Succubus')>]\n",
      "[fireplace.actions]: <Spell ('Powershot')> triggering <TargetedAction: Damage()> targeting [<Minion ('Succubus')>]\n",
      "[fireplace.actions]: <Spell ('Powershot')> triggering <TargetedAction: Predamage(<Predamage.AMOUNT>=2)> targeting [<Minion ('Blackwater Pirate')>]\n"
     ]
    },
    {
     "name": "stdout",
     "output_type": "stream",
     "text": [
      "Playing <Minion ('Blackwater Pirate')> on None\n",
      "[{'timestamp': datetime.datetime(2016, 6, 3, 17, 35, 35, 4668), 'game_id': 4, 'event_value': '4', 'event_key': 'mana_spent', 'player': 'Player1'}]\n",
      "Playing <Spell ('Powershot')> on <Minion ('Succubus')>\n",
      "[{'timestamp': datetime.datetime(2016, 6, 3, 17, 35, 35, 92675), 'game_id': 4, 'event_value': '3', 'event_key': 'mana_spent', 'player': 'Player1'}]\n"
     ]
    },
    {
     "name": "stderr",
     "output_type": "stream",
     "text": [
      "[fireplace.actions]: <Spell ('Powershot')> triggering <TargetedAction: Damage()> targeting [<Minion ('Blackwater Pirate')>]\n",
      "[fireplace.entity]: Empty stack, refreshing auras and processing deaths\n",
      "[fireplace.entity]: Empty stack, refreshing auras and processing deaths\n",
      "[fireplace.actions]: <Minion ('Haunted Creeper')> attacks <Hero ('Rexxar')>\n",
      "[fireplace.actions]: <Minion ('Haunted Creeper')> triggering <TargetedAction: Hit(<Hit.AMOUNT>=1)> targeting [<Hero ('Rexxar')>]\n",
      "[fireplace.actions]: <Minion ('Haunted Creeper')> triggering <TargetedAction: Predamage(<Predamage.AMOUNT>=1)> targeting [<Hero ('Rexxar')>]\n",
      "[fireplace.actions]: <Minion ('Haunted Creeper')> triggering <TargetedAction: Damage()> targeting [<Hero ('Rexxar')>]\n",
      "[fireplace.entity]: Empty stack, refreshing auras and processing deaths\n",
      "[fireplace.actions]: <Minion ('Antique Healbot')> attacks <Minion ('Twilight Summoner')>\n",
      "[fireplace.actions]: <Minion ('Antique Healbot')> triggering <TargetedAction: Hit(<Hit.AMOUNT>=3)> targeting [<Minion ('Twilight Summoner')>]\n",
      "[fireplace.actions]: <Minion ('Antique Healbot')> triggering <TargetedAction: Predamage(<Predamage.AMOUNT>=3)> targeting [<Minion ('Twilight Summoner')>]\n",
      "[fireplace.actions]: <Minion ('Antique Healbot')> triggering <TargetedAction: Damage()> targeting [<Minion ('Twilight Summoner')>]\n",
      "[fireplace.actions]: <Minion ('Twilight Summoner')> triggering <TargetedAction: Hit(<Hit.AMOUNT>=1)> targeting [<Minion ('Antique Healbot')>]\n",
      "[fireplace.actions]: <Minion ('Twilight Summoner')> triggering <TargetedAction: Predamage(<Predamage.AMOUNT>=1)> targeting [<Minion ('Antique Healbot')>]\n",
      "[fireplace.actions]: <Minion ('Twilight Summoner')> triggering <TargetedAction: Damage()> targeting [<Minion ('Antique Healbot')>]\n",
      "[fireplace.entity]: Empty stack, refreshing auras and processing deaths\n",
      "[fireplace.entity]: <Minion ('Antique Healbot')> is removed from the field\n",
      "[fireplace.card]: <Minion ('Antique Healbot')> moves from <Zone.PLAY: 1> to <Zone.GRAVEYARD: 4>\n",
      "[fireplace.entity]: <Minion ('Twilight Summoner')> is removed from the field\n",
      "[fireplace.card]: <Minion ('Twilight Summoner')> moves from <Zone.PLAY: 1> to <Zone.GRAVEYARD: 4>\n",
      "[fireplace.entity]: Empty stack, refreshing auras and processing deaths\n",
      "[fireplace.actions]: Processing Death for <Minion ('Antique Healbot')>\n",
      "[fireplace.actions]: Processing Death for <Minion ('Twilight Summoner')>\n",
      "[fireplace.entity]: Empty stack, refreshing auras and processing deaths\n",
      "[fireplace.actions]: <Minion ('Silvermoon Guardian')> attacks <Hero ('Rexxar')>\n",
      "[fireplace.actions]: <Minion ('Silvermoon Guardian')> triggering <TargetedAction: Hit(<Hit.AMOUNT>=3)> targeting [<Hero ('Rexxar')>]\n",
      "[fireplace.actions]: <Minion ('Silvermoon Guardian')> triggering <TargetedAction: Predamage(<Predamage.AMOUNT>=3)> targeting [<Hero ('Rexxar')>]\n",
      "[fireplace.actions]: <Minion ('Silvermoon Guardian')> triggering <TargetedAction: Damage()> targeting [<Hero ('Rexxar')>]\n",
      "[fireplace.entity]: Empty stack, refreshing auras and processing deaths\n",
      "[fireplace.actions]: <Minion ('Succubus')> attacks <Hero ('Rexxar')>\n",
      "[fireplace.actions]: <Minion ('Succubus')> triggering <TargetedAction: Hit(<Hit.AMOUNT>=4)> targeting [<Hero ('Rexxar')>]\n",
      "[fireplace.actions]: <Minion ('Succubus')> triggering <TargetedAction: Predamage(<Predamage.AMOUNT>=4)> targeting [<Hero ('Rexxar')>]\n",
      "[fireplace.actions]: <Minion ('Succubus')> triggering <TargetedAction: Damage()> targeting [<Hero ('Rexxar')>]\n",
      "[fireplace.entity]: Empty stack, refreshing auras and processing deaths\n",
      "[fireplace.entity]: Player1 ends turn 13\n",
      "[fireplace.entity]: Player2 begins turn 14\n",
      "[fireplace.entity]: Player2 is now at 7 mana crystals\n",
      "[fireplace.actions]: Player(name='Player2', hero=<Hero ('Rexxar')>) triggering <TargetedAction: Draw()> targeting [Player(name='Player2', hero=<Hero ('Rexxar')>)]\n",
      "[fireplace.entity]: Player2 draws <Minion ('Hogger')>\n",
      "[fireplace.card]: <Minion ('Hogger')> moves from <Zone.DECK: 2> to <Zone.HAND: 3>\n",
      "[fireplace.entity]: Empty stack, refreshing auras and processing deaths\n",
      "[fireplace.utils]: Playing <Minion ('Volcanic Drake')> on None\n",
      "[fireplace.actions]: Player2 plays <Minion ('Volcanic Drake')> (target=None, index=None)\n",
      "[fireplace.entity]: Player2 pays 5 mana\n"
     ]
    },
    {
     "name": "stdout",
     "output_type": "stream",
     "text": [
      "[{'timestamp': datetime.datetime(2016, 6, 3, 17, 35, 35, 364714), 'game_id': 4, 'event_value': '13', 'event_key': 'turn_end', 'player': 'Player1'}]\n",
      "[{'timestamp': datetime.datetime(2016, 6, 3, 17, 35, 35, 404712), 'game_id': 4, 'event_value': '14', 'event_key': 'turn_begins', 'player': 'Player2'}]\n",
      "[{'timestamp': datetime.datetime(2016, 6, 3, 17, 35, 35, 456698), 'game_id': 4, 'event_value': '7', 'event_key': 'max_mana', 'player': 'Player2'}]\n",
      "Playing <Minion ('Volcanic Drake')> on None\n",
      "[{'timestamp': datetime.datetime(2016, 6, 3, 17, 35, 35, 540706), 'game_id': 4, 'event_value': '5', 'event_key': 'mana_spent', 'player': 'Player2'}]\n"
     ]
    },
    {
     "name": "stderr",
     "output_type": "stream",
     "text": [
      "[fireplace.card]: <Minion ('Volcanic Drake')> moves from <Zone.HAND: 3> to <Zone.PLAY: 1>\n",
      "[fireplace.actions]: <Minion ('Volcanic Drake')> triggering <TargetedAction: Battlecry(<Battlecry.TARGET>=None)> targeting [<Minion ('Volcanic Drake')>]\n",
      "[fireplace.actions]: Activating <Minion ('Volcanic Drake')> action targeting None\n",
      "[fireplace.entity]: Empty stack, refreshing auras and processing deaths\n",
      "[fireplace.entity]: Empty stack, refreshing auras and processing deaths\n",
      "[fireplace.entity]: Player2 ends turn 14\n",
      "[fireplace.entity]: Player1 begins turn 15\n",
      "[fireplace.entity]: Player1 is now at 8 mana crystals\n",
      "[fireplace.actions]: Player(name='Player1', hero=<Hero ('Rexxar')>) triggering <TargetedAction: Draw()> targeting [Player(name='Player1', hero=<Hero ('Rexxar')>)]\n",
      "[fireplace.entity]: Player1 draws <Minion ('Alarm-o-Bot')>\n",
      "[fireplace.card]: <Minion ('Alarm-o-Bot')> moves from <Zone.DECK: 2> to <Zone.HAND: 3>\n",
      "[fireplace.entity]: Empty stack, refreshing auras and processing deaths\n",
      "[fireplace.utils]: Playing <Minion ('Dalaran Mage')> on None\n",
      "[fireplace.actions]: Player1 plays <Minion ('Dalaran Mage')> (target=None, index=None)\n",
      "[fireplace.entity]: Player1 pays 3 mana\n"
     ]
    },
    {
     "name": "stdout",
     "output_type": "stream",
     "text": [
      "[{'timestamp': datetime.datetime(2016, 6, 3, 17, 35, 35, 624711), 'game_id': 4, 'event_value': '14', 'event_key': 'turn_end', 'player': 'Player2'}]\n",
      "[{'timestamp': datetime.datetime(2016, 6, 3, 17, 35, 35, 676715), 'game_id': 4, 'event_value': '15', 'event_key': 'turn_begins', 'player': 'Player1'}]\n",
      "[{'timestamp': datetime.datetime(2016, 6, 3, 17, 35, 35, 728725), 'game_id': 4, 'event_value': '8', 'event_key': 'max_mana', 'player': 'Player1'}]\n",
      "Playing <Minion ('Dalaran Mage')> on None\n",
      "[{'timestamp': datetime.datetime(2016, 6, 3, 17, 35, 35, 824724), 'game_id': 4, 'event_value': '3', 'event_key': 'mana_spent', 'player': 'Player1'}]\n"
     ]
    },
    {
     "name": "stderr",
     "output_type": "stream",
     "text": [
      "[fireplace.card]: <Minion ('Dalaran Mage')> moves from <Zone.HAND: 3> to <Zone.PLAY: 1>\n",
      "[fireplace.actions]: <Minion ('Dalaran Mage')> triggering <TargetedAction: Battlecry(<Battlecry.TARGET>=None)> targeting [<Minion ('Dalaran Mage')>]\n",
      "[fireplace.actions]: Activating <Minion ('Dalaran Mage')> action targeting None\n",
      "[fireplace.entity]: Empty stack, refreshing auras and processing deaths\n",
      "[fireplace.entity]: Empty stack, refreshing auras and processing deaths\n",
      "[fireplace.utils]: Playing <Minion ('Alarm-o-Bot')> on None\n",
      "[fireplace.actions]: Player1 plays <Minion ('Alarm-o-Bot')> (target=None, index=None)\n",
      "[fireplace.entity]: Player1 pays 3 mana\n",
      "[fireplace.card]: <Minion ('Alarm-o-Bot')> moves from <Zone.HAND: 3> to <Zone.PLAY: 1>\n",
      "[fireplace.actions]: <Minion ('Alarm-o-Bot')> triggering <TargetedAction: Battlecry(<Battlecry.TARGET>=None)> targeting [<Minion ('Alarm-o-Bot')>]\n",
      "[fireplace.actions]: Activating <Minion ('Alarm-o-Bot')> action targeting None\n",
      "[fireplace.entity]: Empty stack, refreshing auras and processing deaths\n",
      "[fireplace.entity]: Empty stack, refreshing auras and processing deaths\n",
      "[fireplace.actions]: <Minion ('Haunted Creeper')> attacks <Minion ('Volcanic Drake')>\n",
      "[fireplace.actions]: <Minion ('Haunted Creeper')> triggering <TargetedAction: Hit(<Hit.AMOUNT>=1)> targeting [<Minion ('Volcanic Drake')>]\n",
      "[fireplace.actions]: <Minion ('Haunted Creeper')> triggering <TargetedAction: Predamage(<Predamage.AMOUNT>=1)> targeting [<Minion ('Volcanic Drake')>]\n",
      "[fireplace.actions]: <Minion ('Haunted Creeper')> triggering <TargetedAction: Damage()> targeting [<Minion ('Volcanic Drake')>]\n",
      "[fireplace.actions]: <Minion ('Volcanic Drake')> triggering <TargetedAction: Hit(<Hit.AMOUNT>=6)> targeting [<Minion ('Haunted Creeper')>]\n",
      "[fireplace.actions]: <Minion ('Volcanic Drake')> triggering <TargetedAction: Predamage(<Predamage.AMOUNT>=6)> targeting [<Minion ('Haunted Creeper')>]\n",
      "[fireplace.actions]: <Minion ('Volcanic Drake')> triggering <TargetedAction: Damage()> targeting [<Minion ('Haunted Creeper')>]\n",
      "[fireplace.entity]: Empty stack, refreshing auras and processing deaths\n",
      "[fireplace.entity]: <Minion ('Haunted Creeper')> is removed from the field\n",
      "[fireplace.card]: <Minion ('Haunted Creeper')> moves from <Zone.PLAY: 1> to <Zone.GRAVEYARD: 4>\n",
      "[fireplace.entity]: Empty stack, refreshing auras and processing deaths\n",
      "[fireplace.actions]: Processing Death for <Minion ('Haunted Creeper')>\n",
      "[fireplace.actions]: Game(players=(Player(name='Player1', hero=<Hero ('Rexxar')>), Player(name='Player2', hero=<Hero ('Rexxar')>))) triggering <TargetedAction: Deathrattle()> targeting [<Minion ('Haunted Creeper')>]\n",
      "[fireplace.actions]: <Minion ('Haunted Creeper')> triggering <TargetedAction: Summon(<Summon.CARD>='FP1_002t')> targeting [Player(name='Player1', hero=<Hero ('Rexxar')>)]\n",
      "[fireplace.actions]: Player1 summons [<Minion ('Spectral Spider')>]\n",
      "[fireplace.card]: <Minion ('Spectral Spider')> moves from <Zone.SETASIDE: 6> to <Zone.PLAY: 1>\n",
      "[fireplace.actions]: <Minion ('Haunted Creeper')> triggering <TargetedAction: Summon(<Summon.CARD>='FP1_002t')> targeting [Player(name='Player1', hero=<Hero ('Rexxar')>)]\n",
      "[fireplace.actions]: Player1 summons [<Minion ('Spectral Spider')>]\n",
      "[fireplace.card]: <Minion ('Spectral Spider')> moves from <Zone.SETASIDE: 6> to <Zone.PLAY: 1>\n"
     ]
    },
    {
     "name": "stdout",
     "output_type": "stream",
     "text": [
      "Playing <Minion ('Alarm-o-Bot')> on None\n",
      "[{'timestamp': datetime.datetime(2016, 6, 3, 17, 35, 35, 924737), 'game_id': 4, 'event_value': '3', 'event_key': 'mana_spent', 'player': 'Player1'}]\n"
     ]
    },
    {
     "name": "stderr",
     "output_type": "stream",
     "text": [
      "[fireplace.entity]: Empty stack, refreshing auras and processing deaths\n",
      "[fireplace.actions]: <Minion ('Silvermoon Guardian')> attacks <Hero ('Rexxar')>\n",
      "[fireplace.actions]: <Minion ('Silvermoon Guardian')> triggering <TargetedAction: Hit(<Hit.AMOUNT>=3)> targeting [<Hero ('Rexxar')>]\n",
      "[fireplace.actions]: <Minion ('Silvermoon Guardian')> triggering <TargetedAction: Predamage(<Predamage.AMOUNT>=3)> targeting [<Hero ('Rexxar')>]\n",
      "[fireplace.actions]: <Minion ('Silvermoon Guardian')> triggering <TargetedAction: Damage()> targeting [<Hero ('Rexxar')>]\n",
      "[fireplace.entity]: Empty stack, refreshing auras and processing deaths\n",
      "[fireplace.actions]: <Minion ('Succubus')> attacks <Minion ('Volcanic Drake')>\n",
      "[fireplace.actions]: <Minion ('Succubus')> triggering <TargetedAction: Hit(<Hit.AMOUNT>=4)> targeting [<Minion ('Volcanic Drake')>]\n",
      "[fireplace.actions]: <Minion ('Succubus')> triggering <TargetedAction: Predamage(<Predamage.AMOUNT>=4)> targeting [<Minion ('Volcanic Drake')>]\n",
      "[fireplace.actions]: <Minion ('Succubus')> triggering <TargetedAction: Damage()> targeting [<Minion ('Volcanic Drake')>]\n",
      "[fireplace.actions]: <Minion ('Volcanic Drake')> triggering <TargetedAction: Hit(<Hit.AMOUNT>=6)> targeting [<Minion ('Succubus')>]\n",
      "[fireplace.actions]: <Minion ('Volcanic Drake')> triggering <TargetedAction: Predamage(<Predamage.AMOUNT>=6)> targeting [<Minion ('Succubus')>]\n",
      "[fireplace.actions]: <Minion ('Volcanic Drake')> triggering <TargetedAction: Damage()> targeting [<Minion ('Succubus')>]\n",
      "[fireplace.entity]: Empty stack, refreshing auras and processing deaths\n",
      "[fireplace.entity]: <Minion ('Succubus')> is removed from the field\n",
      "[fireplace.card]: <Minion ('Succubus')> moves from <Zone.PLAY: 1> to <Zone.GRAVEYARD: 4>\n",
      "[fireplace.entity]: <Minion ('Volcanic Drake')> is removed from the field\n",
      "[fireplace.card]: <Minion ('Volcanic Drake')> moves from <Zone.PLAY: 1> to <Zone.GRAVEYARD: 4>\n",
      "[fireplace.entity]: Empty stack, refreshing auras and processing deaths\n",
      "[fireplace.actions]: Processing Death for <Minion ('Succubus')>\n",
      "[fireplace.actions]: Processing Death for <Minion ('Volcanic Drake')>\n",
      "[fireplace.entity]: Empty stack, refreshing auras and processing deaths\n",
      "[fireplace.actions]: <Minion ('Blackwater Pirate')> attacks <Hero ('Rexxar')>\n",
      "[fireplace.actions]: <Minion ('Blackwater Pirate')> triggering <TargetedAction: Hit(<Hit.AMOUNT>=2)> targeting [<Hero ('Rexxar')>]\n",
      "[fireplace.actions]: <Minion ('Blackwater Pirate')> triggering <TargetedAction: Predamage(<Predamage.AMOUNT>=2)> targeting [<Hero ('Rexxar')>]\n",
      "[fireplace.actions]: <Minion ('Blackwater Pirate')> triggering <TargetedAction: Damage()> targeting [<Hero ('Rexxar')>]\n",
      "[fireplace.entity]: Empty stack, refreshing auras and processing deaths\n",
      "[fireplace.entity]: Player1 ends turn 15\n",
      "[fireplace.entity]: Player2 begins turn 16\n",
      "[fireplace.entity]: Player2 is now at 8 mana crystals\n",
      "[fireplace.actions]: Player(name='Player2', hero=<Hero ('Rexxar')>) triggering <TargetedAction: Draw()> targeting [Player(name='Player2', hero=<Hero ('Rexxar')>)]\n",
      "[fireplace.entity]: Player2 draws <Minion ('Master Jouster')>\n",
      "[fireplace.card]: <Minion ('Master Jouster')> moves from <Zone.DECK: 2> to <Zone.HAND: 3>\n",
      "[fireplace.entity]: Empty stack, refreshing auras and processing deaths\n",
      "[fireplace.utils]: Playing <Minion ('Madder Bomber')> on None\n"
     ]
    },
    {
     "name": "stdout",
     "output_type": "stream",
     "text": [
      "[{'timestamp': datetime.datetime(2016, 6, 3, 17, 35, 36, 240770), 'game_id': 4, 'event_value': '15', 'event_key': 'turn_end', 'player': 'Player1'}]\n",
      "[{'timestamp': datetime.datetime(2016, 6, 3, 17, 35, 36, 328762), 'game_id': 4, 'event_value': '16', 'event_key': 'turn_begins', 'player': 'Player2'}]\n",
      "[{'timestamp': datetime.datetime(2016, 6, 3, 17, 35, 36, 368762), 'game_id': 4, 'event_value': '8', 'event_key': 'max_mana', 'player': 'Player2'}]\n",
      "Playing <Minion ('Madder Bomber')> on None\n"
     ]
    },
    {
     "name": "stderr",
     "output_type": "stream",
     "text": [
      "[fireplace.actions]: Player2 plays <Minion ('Madder Bomber')> (target=None, index=None)\n",
      "[fireplace.entity]: Player2 pays 5 mana\n",
      "[fireplace.card]: <Minion ('Madder Bomber')> moves from <Zone.HAND: 3> to <Zone.PLAY: 1>\n",
      "[fireplace.actions]: <Minion ('Madder Bomber')> triggering <TargetedAction: Battlecry(<Battlecry.TARGET>=None)> targeting [<Minion ('Madder Bomber')>]\n",
      "[fireplace.actions]: Activating <Minion ('Madder Bomber')> action targeting None\n",
      "[fireplace.actions]: <Minion ('Madder Bomber')> triggering <TargetedAction: Hit(<Hit.AMOUNT>=1)> targeting [<Minion ('Alarm-o-Bot')>]\n",
      "[fireplace.actions]: <Minion ('Madder Bomber')> triggering <TargetedAction: Predamage(<Predamage.AMOUNT>=1)> targeting [<Minion ('Alarm-o-Bot')>]\n",
      "[fireplace.actions]: <Minion ('Madder Bomber')> triggering <TargetedAction: Damage()> targeting [<Minion ('Alarm-o-Bot')>]\n",
      "[fireplace.actions]: <Minion ('Madder Bomber')> triggering <TargetedAction: Hit(<Hit.AMOUNT>=1)> targeting [<Hero ('Rexxar')>]\n",
      "[fireplace.actions]: <Minion ('Madder Bomber')> triggering <TargetedAction: Predamage(<Predamage.AMOUNT>=1)> targeting [<Hero ('Rexxar')>]\n",
      "[fireplace.actions]: <Minion ('Madder Bomber')> triggering <TargetedAction: Damage()> targeting [<Hero ('Rexxar')>]\n",
      "[fireplace.actions]: <Minion ('Madder Bomber')> triggering <TargetedAction: Hit(<Hit.AMOUNT>=1)> targeting [<Minion ('Blackwater Pirate')>]\n",
      "[fireplace.actions]: <Minion ('Madder Bomber')> triggering <TargetedAction: Predamage(<Predamage.AMOUNT>=1)> targeting [<Minion ('Blackwater Pirate')>]\n",
      "[fireplace.actions]: <Minion ('Madder Bomber')> triggering <TargetedAction: Damage()> targeting [<Minion ('Blackwater Pirate')>]\n",
      "[fireplace.actions]: <Minion ('Madder Bomber')> triggering <TargetedAction: Hit(<Hit.AMOUNT>=1)> targeting [<Hero ('Rexxar')>]\n",
      "[fireplace.actions]: <Minion ('Madder Bomber')> triggering <TargetedAction: Predamage(<Predamage.AMOUNT>=1)> targeting [<Hero ('Rexxar')>]\n",
      "[fireplace.actions]: <Minion ('Madder Bomber')> triggering <TargetedAction: Damage()> targeting [<Hero ('Rexxar')>]\n",
      "[fireplace.actions]: <Minion ('Madder Bomber')> triggering <TargetedAction: Hit(<Hit.AMOUNT>=1)> targeting [<Minion ('Spectral Spider')>]\n",
      "[fireplace.actions]: <Minion ('Madder Bomber')> triggering <TargetedAction: Predamage(<Predamage.AMOUNT>=1)> targeting [<Minion ('Spectral Spider')>]\n",
      "[fireplace.actions]: <Minion ('Madder Bomber')> triggering <TargetedAction: Damage()> targeting [<Minion ('Spectral Spider')>]\n",
      "[fireplace.actions]: <Minion ('Madder Bomber')> triggering <TargetedAction: Hit(<Hit.AMOUNT>=1)> targeting [<Minion ('Blackwater Pirate')>]\n",
      "[fireplace.actions]: <Minion ('Madder Bomber')> triggering <TargetedAction: Predamage(<Predamage.AMOUNT>=1)> targeting [<Minion ('Blackwater Pirate')>]\n",
      "[fireplace.actions]: <Minion ('Madder Bomber')> triggering <TargetedAction: Damage()> targeting [<Minion ('Blackwater Pirate')>]\n",
      "[fireplace.entity]: Empty stack, refreshing auras and processing deaths\n",
      "[fireplace.entity]: <Minion ('Spectral Spider')> is removed from the field\n",
      "[fireplace.card]: <Minion ('Spectral Spider')> moves from <Zone.PLAY: 1> to <Zone.GRAVEYARD: 4>\n",
      "[fireplace.entity]: Empty stack, refreshing auras and processing deaths\n",
      "[fireplace.actions]: Processing Death for <Minion ('Spectral Spider')>\n",
      "[fireplace.entity]: Empty stack, refreshing auras and processing deaths\n"
     ]
    },
    {
     "name": "stdout",
     "output_type": "stream",
     "text": [
      "[{'timestamp': datetime.datetime(2016, 6, 3, 17, 35, 36, 452771), 'game_id': 4, 'event_value': '5', 'event_key': 'mana_spent', 'player': 'Player2'}]\n"
     ]
    },
    {
     "name": "stderr",
     "output_type": "stream",
     "text": [
      "[fireplace.entity]: Empty stack, refreshing auras and processing deaths\n",
      "[fireplace.entity]: Player2 ends turn 16\n",
      "[fireplace.actions]: <Minion ('Alarm-o-Bot')> triggers off <Action: BeginTurn(<BeginTurn.PLAYER>=Player(name='Player1', hero=<Hero ('Rexxar')>))> from Game(players=(Player(name='Player1', hero=<Hero ('Rexxar')>), Player(name='Player2', hero=<Hero ('Rexxar')>)))\n",
      "[fireplace.actions]: <Minion ('Alarm-o-Bot')> triggering <TargetedAction: Swap(<Swap.OTHER>=<fireplace.dsl.selector.RandomSelector object at 0x0000025198AA64E0>)> targeting [<Minion ('Alarm-o-Bot')>]\n",
      "[fireplace.entity]: <Minion ('Alarm-o-Bot')> is removed from the field\n",
      "[fireplace.card]: <Minion ('Alarm-o-Bot')> moves from <Zone.PLAY: 1> to <Zone.HAND: 3>\n",
      "[fireplace.card]: <Minion ('Mechanical Yeti')> moves from <Zone.HAND: 3> to <Zone.PLAY: 1>\n",
      "[fireplace.entity]: Empty stack, refreshing auras and processing deaths\n",
      "[fireplace.entity]: Player1 begins turn 17\n",
      "[fireplace.entity]: Player1 is now at 9 mana crystals\n",
      "[fireplace.actions]: Player(name='Player1', hero=<Hero ('Rexxar')>) triggering <TargetedAction: Draw()> targeting [Player(name='Player1', hero=<Hero ('Rexxar')>)]\n",
      "[fireplace.entity]: Player1 draws <Minion ('Ancient Shade')>\n",
      "[fireplace.card]: <Minion ('Ancient Shade')> moves from <Zone.DECK: 2> to <Zone.HAND: 3>\n",
      "[fireplace.entity]: Empty stack, refreshing auras and processing deaths\n",
      "[fireplace.utils]: Playing <Minion ('Lance Carrier')> on <Minion ('Blackwater Pirate')>\n",
      "[fireplace.actions]: Player1 plays <Minion ('Lance Carrier')> (target=<Minion ('Blackwater Pirate')>, index=None)\n"
     ]
    },
    {
     "name": "stdout",
     "output_type": "stream",
     "text": [
      "[{'timestamp': datetime.datetime(2016, 6, 3, 17, 35, 36, 660785), 'game_id': 4, 'event_value': '16', 'event_key': 'turn_end', 'player': 'Player2'}]\n",
      "[{'timestamp': datetime.datetime(2016, 6, 3, 17, 35, 36, 744791), 'game_id': 4, 'event_value': '17', 'event_key': 'turn_begins', 'player': 'Player1'}]\n",
      "[{'timestamp': datetime.datetime(2016, 6, 3, 17, 35, 36, 784796), 'game_id': 4, 'event_value': '9', 'event_key': 'max_mana', 'player': 'Player1'}]\n",
      "Playing <Minion ('Lance Carrier')> on <Minion ('Blackwater Pirate')>\n"
     ]
    },
    {
     "name": "stderr",
     "output_type": "stream",
     "text": [
      "[fireplace.entity]: Player1 pays 2 mana\n",
      "[fireplace.card]: <Minion ('Lance Carrier')> moves from <Zone.HAND: 3> to <Zone.PLAY: 1>\n",
      "[fireplace.actions]: <Minion ('Lance Carrier')> triggering <TargetedAction: Battlecry(<Battlecry.TARGET>=<Minion ('Blackwater Pirate')>)> targeting [<Minion ('Lance Carrier')>]\n",
      "[fireplace.actions]: Activating <Minion ('Lance Carrier')> action targeting <Minion ('Blackwater Pirate')>\n",
      "[fireplace.actions]: <Minion ('Lance Carrier')> triggering <TargetedAction: Buff(<Buff.BUFF>='AT_084e')> targeting [<Minion ('Blackwater Pirate')>]\n",
      "[fireplace.entity]: Applying <Enchantment ('Equipped')> to <Minion ('Blackwater Pirate')>\n",
      "[fireplace.card]: <Enchantment ('Equipped')> moves from <Zone.SETASIDE: 6> to <Zone.PLAY: 1>\n",
      "[fireplace.entity]: Empty stack, refreshing auras and processing deaths\n",
      "[fireplace.entity]: Empty stack, refreshing auras and processing deaths\n",
      "[fireplace.actions]: <Minion ('Silvermoon Guardian')> attacks <Hero ('Rexxar')>\n",
      "[fireplace.actions]: <Minion ('Silvermoon Guardian')> triggering <TargetedAction: Hit(<Hit.AMOUNT>=3)> targeting [<Hero ('Rexxar')>]\n",
      "[fireplace.actions]: <Minion ('Silvermoon Guardian')> triggering <TargetedAction: Predamage(<Predamage.AMOUNT>=3)> targeting [<Hero ('Rexxar')>]\n",
      "[fireplace.actions]: <Minion ('Silvermoon Guardian')> triggering <TargetedAction: Damage()> targeting [<Hero ('Rexxar')>]\n",
      "[fireplace.entity]: Empty stack, refreshing auras and processing deaths\n",
      "[fireplace.actions]: <Minion ('Blackwater Pirate')> attacks <Minion ('Madder Bomber')>\n",
      "[fireplace.actions]: <Minion ('Blackwater Pirate')> triggering <TargetedAction: Hit(<Hit.AMOUNT>=4)> targeting [<Minion ('Madder Bomber')>]\n",
      "[fireplace.actions]: <Minion ('Blackwater Pirate')> triggering <TargetedAction: Predamage(<Predamage.AMOUNT>=4)> targeting [<Minion ('Madder Bomber')>]\n",
      "[fireplace.actions]: <Minion ('Blackwater Pirate')> triggering <TargetedAction: Damage()> targeting [<Minion ('Madder Bomber')>]\n",
      "[fireplace.actions]: <Minion ('Madder Bomber')> triggering <TargetedAction: Hit(<Hit.AMOUNT>=5)> targeting [<Minion ('Blackwater Pirate')>]\n",
      "[fireplace.actions]: <Minion ('Madder Bomber')> triggering <TargetedAction: Predamage(<Predamage.AMOUNT>=5)> targeting [<Minion ('Blackwater Pirate')>]\n",
      "[fireplace.actions]: <Minion ('Madder Bomber')> triggering <TargetedAction: Damage()> targeting [<Minion ('Blackwater Pirate')>]\n",
      "[fireplace.entity]: Empty stack, refreshing auras and processing deaths\n",
      "[fireplace.entity]: <Minion ('Blackwater Pirate')> is removed from the field\n",
      "[fireplace.card]: <Minion ('Blackwater Pirate')> moves from <Zone.PLAY: 1> to <Zone.GRAVEYARD: 4>\n",
      "[fireplace.entity]: <Minion ('Madder Bomber')> is removed from the field\n",
      "[fireplace.card]: <Minion ('Madder Bomber')> moves from <Zone.PLAY: 1> to <Zone.GRAVEYARD: 4>\n",
      "[fireplace.entity]: Empty stack, refreshing auras and processing deaths\n",
      "[fireplace.actions]: Processing Death for <Minion ('Blackwater Pirate')>\n",
      "[fireplace.actions]: Processing Death for <Minion ('Madder Bomber')>\n",
      "[fireplace.entity]: Empty stack, refreshing auras and processing deaths\n",
      "[fireplace.actions]: <Minion ('Dalaran Mage')> attacks <Hero ('Rexxar')>\n"
     ]
    },
    {
     "name": "stdout",
     "output_type": "stream",
     "text": [
      "[{'timestamp': datetime.datetime(2016, 6, 3, 17, 35, 36, 868806), 'game_id': 4, 'event_value': '2', 'event_key': 'mana_spent', 'player': 'Player1'}]\n"
     ]
    },
    {
     "name": "stderr",
     "output_type": "stream",
     "text": [
      "[fireplace.actions]: <Minion ('Dalaran Mage')> triggering <TargetedAction: Hit(<Hit.AMOUNT>=1)> targeting [<Hero ('Rexxar')>]\n",
      "[fireplace.actions]: <Minion ('Dalaran Mage')> triggering <TargetedAction: Predamage(<Predamage.AMOUNT>=1)> targeting [<Hero ('Rexxar')>]\n",
      "[fireplace.actions]: <Minion ('Dalaran Mage')> triggering <TargetedAction: Damage()> targeting [<Hero ('Rexxar')>]\n",
      "[fireplace.entity]: Empty stack, refreshing auras and processing deaths\n",
      "[fireplace.actions]: <Minion ('Spectral Spider')> attacks <Hero ('Rexxar')>\n",
      "[fireplace.actions]: <Minion ('Spectral Spider')> triggering <TargetedAction: Hit(<Hit.AMOUNT>=1)> targeting [<Hero ('Rexxar')>]\n",
      "[fireplace.actions]: <Minion ('Spectral Spider')> triggering <TargetedAction: Predamage(<Predamage.AMOUNT>=1)> targeting [<Hero ('Rexxar')>]\n",
      "[fireplace.actions]: <Minion ('Spectral Spider')> triggering <TargetedAction: Damage()> targeting [<Hero ('Rexxar')>]\n",
      "[fireplace.entity]: Empty stack, refreshing auras and processing deaths\n",
      "[fireplace.card]: <HeroPower ('Steady Shot')> moves from <Zone.PLAY: 1> to <Zone.GRAVEYARD: 4>\n",
      "[fireplace.card]: <Hero ('Rexxar')> moves from <Zone.PLAY: 1> to <Zone.GRAVEYARD: 4>\n"
     ]
    },
    {
     "name": "stdout",
     "output_type": "stream",
     "text": [
      "[{'timestamp': datetime.datetime(2016, 6, 3, 17, 35, 37, 124813), 'game_id': 4, 'event_value': 'Zone.GRAVEYARD', 'event_key': 'lost', 'player': 'Player2'}]\n",
      "[{'timestamp': datetime.datetime(2016, 6, 3, 17, 35, 37, 160816), 'game_id': 4, 'event_value': 'ending_game', 'event_key': 'debug', 'player': 'check_for_end_game'}]\n",
      "Game completed normally.\n"
     ]
    }
   ],
   "source": [
    "#!/usr/bin/env python\n",
    "import sys; sys.path.append(\"..\")\n",
    "from fireplace import cards\n",
    "from fireplace.exceptions import GameOver\n",
    "from fireplace.utils import play_full_game\n",
    "\n",
    "# first_players = []\n",
    "\n",
    "def test_full_game():\n",
    "    try:\n",
    "        game = play_full_game()\n",
    "    except GameOver:\n",
    "        print(\"Game completed normally.\")\n",
    "\n",
    "def main(numgames):\n",
    "    cards.db.initialize()\n",
    "    for i in range(int(numgames)):\n",
    "        test_full_game()\n",
    "\n",
    "if __name__ == \"__main__\":\n",
    "    main(2)"
   ]
  },
  {
   "cell_type": "code",
   "execution_count": null,
   "metadata": {
    "collapsed": false
   },
   "outputs": [],
   "source": [
    "from fireplace.game import CoinRules"
   ]
  },
  {
   "cell_type": "code",
   "execution_count": null,
   "metadata": {
    "collapsed": false
   },
   "outputs": [],
   "source": [
    "CoinRules"
   ]
  },
  {
   "cell_type": "code",
   "execution_count": null,
   "metadata": {
    "collapsed": false
   },
   "outputs": [],
   "source": []
  },
  {
   "cell_type": "code",
   "execution_count": null,
   "metadata": {
    "collapsed": false
   },
   "outputs": [],
   "source": [
    "cards.db.initialize()"
   ]
  },
  {
   "cell_type": "code",
   "execution_count": null,
   "metadata": {
    "collapsed": false
   },
   "outputs": [],
   "source": [
    "game = test_full_game()"
   ]
  },
  {
   "cell_type": "code",
   "execution_count": null,
   "metadata": {
    "collapsed": false
   },
   "outputs": [],
   "source": [
    "import logging\n",
    "\n",
    "def get_logger(name, level=logging.DEBUG):\n",
    "\tlogger = logging.getLogger(name)\n",
    "\tlogger.setLevel(level)\n",
    "\n",
    "\tif not logger.handlers:\n",
    "\t\tch = logging.StreamHandler()\n",
    "\t\tch.setLevel(level)\n",
    "\n",
    "\t\tformatter = logging.Formatter(\n",
    "\t\t\t\"[%(name)s.%(module)s]: %(message)s\",\n",
    "\t\t\tdatefmt=\"%H:%M:%S\"\n",
    "\t\t)\n",
    "\t\tch.setFormatter(formatter)\n",
    "\n",
    "\t\tlogger.addHandler(ch)\n",
    "\n",
    "\treturn logger\n",
    "\n",
    "\n",
    "log = get_logger(\"fireplace\")\n",
    "\n",
    "log"
   ]
  },
  {
   "cell_type": "code",
   "execution_count": null,
   "metadata": {
    "collapsed": false
   },
   "outputs": [],
   "source": [
    "from fireplace import cards"
   ]
  },
  {
   "cell_type": "code",
   "execution_count": null,
   "metadata": {
    "collapsed": false
   },
   "outputs": [],
   "source": [
    "cards.filter(name = 'Wisp')"
   ]
  },
  {
   "cell_type": "code",
   "execution_count": null,
   "metadata": {
    "collapsed": false
   },
   "outputs": [],
   "source": [
    "cards.db"
   ]
  },
  {
   "cell_type": "code",
   "execution_count": null,
   "metadata": {
    "collapsed": true
   },
   "outputs": [],
   "source": []
  }
 ],
 "metadata": {
  "kernelspec": {
   "display_name": "Python 3",
   "language": "python",
   "name": "python3"
  },
  "language_info": {
   "codemirror_mode": {
    "name": "ipython",
    "version": 3
   },
   "file_extension": ".py",
   "mimetype": "text/x-python",
   "name": "python",
   "nbconvert_exporter": "python",
   "pygments_lexer": "ipython3",
   "version": "3.5.1"
  }
 },
 "nbformat": 4,
 "nbformat_minor": 0
}
