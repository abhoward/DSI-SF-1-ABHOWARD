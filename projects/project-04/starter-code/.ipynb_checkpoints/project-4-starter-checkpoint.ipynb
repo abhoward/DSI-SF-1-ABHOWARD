{
 "cells": [
  {
   "cell_type": "markdown",
   "metadata": {},
   "source": [
    "# Classification with stumbleupon data\n",
    "\n",
    "Project 4 has been changed since scraping was untenable. The project now focuses on the stumbleupon kaggle dataset. For more information on this dataset, [check out the website here](https://www.kaggle.com/c/stumbleupon).\n",
    "\n",
    "---"
   ]
  },
  {
   "cell_type": "markdown",
   "metadata": {},
   "source": [
    "## 1. Load in the dataset\n",
    "\n",
    "This is the only part completed for you.\n",
    "\n",
    "---"
   ]
  },
  {
   "cell_type": "code",
   "execution_count": 68,
   "metadata": {
    "collapsed": true
   },
   "outputs": [],
   "source": [
    "import pandas as pd\n",
    "import numpy as np\n",
    "import matplotlib.pyplot as plt\n",
    "import seaborn as sns\n",
    "import json\n",
    "import patsy\n",
    "from sklearn.cross_validation import cross_val_score\n",
    "from sklearn.preprocessing import StandardScaler\n",
    "from sklearn.linear_model import LogisticRegression\n",
    "from sklearn.grid_search import GridSearchCV\n",
    "from sklearn.linear_model import Ridge\n",
    "from sklearn.linear_model import Lasso\n",
    "from sklearn.neighbors import KNeighborsClassifier\n",
    "from sklearn.cross_validation import train_test_split, StratifiedKFold\n",
    "from sklearn.metrics import classification_report\n",
    "from sklearn.feature_extraction.text import CountVectorizer\n",
    "\n",
    "sns.set_style('white')\n",
    "\n",
    "%matplotlib inline"
   ]
  },
  {
   "cell_type": "code",
   "execution_count": 2,
   "metadata": {
    "collapsed": false
   },
   "outputs": [],
   "source": [
    "su = pd.read_csv('../dataset/evergreen.tsv', delimiter='\\t')"
   ]
  },
  {
   "cell_type": "markdown",
   "metadata": {},
   "source": [
    "## 2. Clean up/examine your data\n",
    "\n",
    "Some of the columns may have values that need changing or that are of the wrong type. There could also be columns that aren't very useful.\n",
    "\n",
    "---"
   ]
  },
  {
   "cell_type": "code",
   "execution_count": 3,
   "metadata": {
    "collapsed": false
   },
   "outputs": [
    {
     "data": {
      "text/html": [
       "<div>\n",
       "<table border=\"1\" class=\"dataframe\">\n",
       "  <thead>\n",
       "    <tr style=\"text-align: right;\">\n",
       "      <th></th>\n",
       "      <th>url</th>\n",
       "      <th>urlid</th>\n",
       "      <th>boilerplate</th>\n",
       "      <th>alchemy_category</th>\n",
       "      <th>alchemy_category_score</th>\n",
       "      <th>avglinksize</th>\n",
       "      <th>commonlinkratio_1</th>\n",
       "      <th>commonlinkratio_2</th>\n",
       "      <th>commonlinkratio_3</th>\n",
       "      <th>commonlinkratio_4</th>\n",
       "      <th>...</th>\n",
       "      <th>is_news</th>\n",
       "      <th>lengthyLinkDomain</th>\n",
       "      <th>linkwordscore</th>\n",
       "      <th>news_front_page</th>\n",
       "      <th>non_markup_alphanum_characters</th>\n",
       "      <th>numberOfLinks</th>\n",
       "      <th>numwords_in_url</th>\n",
       "      <th>parametrizedLinkRatio</th>\n",
       "      <th>spelling_errors_ratio</th>\n",
       "      <th>label</th>\n",
       "    </tr>\n",
       "  </thead>\n",
       "  <tbody>\n",
       "    <tr>\n",
       "      <th>0</th>\n",
       "      <td>http://www.bloomberg.com/news/2010-12-23/ibm-p...</td>\n",
       "      <td>4042</td>\n",
       "      <td>{\"title\":\"IBM Sees Holographic Calls Air Breat...</td>\n",
       "      <td>business</td>\n",
       "      <td>0.789131</td>\n",
       "      <td>2.055556</td>\n",
       "      <td>0.676471</td>\n",
       "      <td>0.205882</td>\n",
       "      <td>0.047059</td>\n",
       "      <td>0.023529</td>\n",
       "      <td>...</td>\n",
       "      <td>1</td>\n",
       "      <td>1</td>\n",
       "      <td>24</td>\n",
       "      <td>0</td>\n",
       "      <td>5424</td>\n",
       "      <td>170</td>\n",
       "      <td>8</td>\n",
       "      <td>0.152941</td>\n",
       "      <td>0.079130</td>\n",
       "      <td>0</td>\n",
       "    </tr>\n",
       "    <tr>\n",
       "      <th>1</th>\n",
       "      <td>http://www.popsci.com/technology/article/2012-...</td>\n",
       "      <td>8471</td>\n",
       "      <td>{\"title\":\"The Fully Electronic Futuristic Star...</td>\n",
       "      <td>recreation</td>\n",
       "      <td>0.574147</td>\n",
       "      <td>3.677966</td>\n",
       "      <td>0.508021</td>\n",
       "      <td>0.288770</td>\n",
       "      <td>0.213904</td>\n",
       "      <td>0.144385</td>\n",
       "      <td>...</td>\n",
       "      <td>1</td>\n",
       "      <td>1</td>\n",
       "      <td>40</td>\n",
       "      <td>0</td>\n",
       "      <td>4973</td>\n",
       "      <td>187</td>\n",
       "      <td>9</td>\n",
       "      <td>0.181818</td>\n",
       "      <td>0.125448</td>\n",
       "      <td>1</td>\n",
       "    </tr>\n",
       "  </tbody>\n",
       "</table>\n",
       "<p>2 rows × 27 columns</p>\n",
       "</div>"
      ],
      "text/plain": [
       "                                                 url  urlid  \\\n",
       "0  http://www.bloomberg.com/news/2010-12-23/ibm-p...   4042   \n",
       "1  http://www.popsci.com/technology/article/2012-...   8471   \n",
       "\n",
       "                                         boilerplate alchemy_category  \\\n",
       "0  {\"title\":\"IBM Sees Holographic Calls Air Breat...         business   \n",
       "1  {\"title\":\"The Fully Electronic Futuristic Star...       recreation   \n",
       "\n",
       "  alchemy_category_score  avglinksize  commonlinkratio_1  commonlinkratio_2  \\\n",
       "0               0.789131     2.055556           0.676471           0.205882   \n",
       "1               0.574147     3.677966           0.508021           0.288770   \n",
       "\n",
       "   commonlinkratio_3  commonlinkratio_4  ...    is_news  lengthyLinkDomain  \\\n",
       "0           0.047059           0.023529  ...          1                  1   \n",
       "1           0.213904           0.144385  ...          1                  1   \n",
       "\n",
       "   linkwordscore  news_front_page  non_markup_alphanum_characters  \\\n",
       "0             24                0                            5424   \n",
       "1             40                0                            4973   \n",
       "\n",
       "   numberOfLinks  numwords_in_url parametrizedLinkRatio  \\\n",
       "0            170                8              0.152941   \n",
       "1            187                9              0.181818   \n",
       "\n",
       "   spelling_errors_ratio  label  \n",
       "0               0.079130      0  \n",
       "1               0.125448      1  \n",
       "\n",
       "[2 rows x 27 columns]"
      ]
     },
     "execution_count": 3,
     "metadata": {},
     "output_type": "execute_result"
    }
   ],
   "source": [
    "su.head(2)"
   ]
  },
  {
   "cell_type": "code",
   "execution_count": 4,
   "metadata": {
    "collapsed": false
   },
   "outputs": [
    {
     "data": {
      "text/plain": [
       "url                                object\n",
       "urlid                               int64\n",
       "boilerplate                        object\n",
       "alchemy_category                   object\n",
       "alchemy_category_score             object\n",
       "avglinksize                       float64\n",
       "commonlinkratio_1                 float64\n",
       "commonlinkratio_2                 float64\n",
       "commonlinkratio_3                 float64\n",
       "commonlinkratio_4                 float64\n",
       "compression_ratio                 float64\n",
       "embed_ratio                       float64\n",
       "framebased                          int64\n",
       "frameTagRatio                     float64\n",
       "hasDomainLink                       int64\n",
       "html_ratio                        float64\n",
       "image_ratio                       float64\n",
       "is_news                            object\n",
       "lengthyLinkDomain                   int64\n",
       "linkwordscore                       int64\n",
       "news_front_page                    object\n",
       "non_markup_alphanum_characters      int64\n",
       "numberOfLinks                       int64\n",
       "numwords_in_url                     int64\n",
       "parametrizedLinkRatio             float64\n",
       "spelling_errors_ratio             float64\n",
       "label                               int64\n",
       "dtype: object"
      ]
     },
     "execution_count": 4,
     "metadata": {},
     "output_type": "execute_result"
    }
   ],
   "source": [
    "su.dtypes"
   ]
  },
  {
   "cell_type": "code",
   "execution_count": 5,
   "metadata": {
    "collapsed": false
   },
   "outputs": [
    {
     "data": {
      "text/plain": [
       "<matplotlib.axes._subplots.AxesSubplot at 0xd9dea20>"
      ]
     },
     "execution_count": 5,
     "metadata": {},
     "output_type": "execute_result"
    },
    {
     "data": {
      "image/png": "[encoded data removed]",
      "text/plain": [
       "<matplotlib.figure.Figure at 0xb0262b0>"
      ]
     },
     "metadata": {},
     "output_type": "display_data"
    }
   ],
   "source": [
    "sns.heatmap(su.corr())"
   ]
  },
  {
   "cell_type": "code",
   "execution_count": 6,
   "metadata": {
    "collapsed": false
   },
   "outputs": [],
   "source": [
    "# Dropping column that has no correlation with any other columns other than itself (illustrated above)\n",
    "su.drop('framebased', axis = 1, inplace = True)"
   ]
  },
  {
   "cell_type": "markdown",
   "metadata": {},
   "source": [
    "## 3. Use statsmodels' logistic regression function to look at variable significance\n",
    "\n",
    "The **`import statsmodels.formula.api as smf`** code below gives us access to a statsmodels api that can run logistic regressions using patsy-style formulas.\n",
    "\n",
    "Ex:\n",
    "\n",
    "```python\n",
    "formula = 'target ~ var1 + var2 + C(var3) -1'\n",
    "logreg = smf.logit(formula, data=data)\n",
    "logreg_results = logreg.fit()\n",
    "print logreg_results.summary()\n",
    "```\n",
    "\n",
    "---"
   ]
  },
  {
   "cell_type": "code",
   "execution_count": 7,
   "metadata": {
    "collapsed": false
   },
   "outputs": [],
   "source": [
    "su.alchemy_category_score = su.alchemy_category_score.replace('?', np.nan)\n",
    "su = su.dropna()\n",
    "su.alchemy_category_score = su.alchemy_category_score.apply(float)"
   ]
  },
  {
   "cell_type": "code",
   "execution_count": 8,
   "metadata": {
    "collapsed": false
   },
   "outputs": [],
   "source": [
    "import statsmodels.formula.api as smf"
   ]
  },
  {
   "cell_type": "markdown",
   "metadata": {},
   "source": [
    "### 3.1 Run a logistic regression predicting evergreen from the numeric columns\n",
    "\n",
    "And print out the results as shown in the example above.\n",
    "\n",
    "---"
   ]
  },
  {
   "cell_type": "code",
   "execution_count": 9,
   "metadata": {
    "collapsed": true
   },
   "outputs": [],
   "source": [
    "target = 'label'\n",
    "cols = ['avglinksize', 'commonlinkratio_1', 'commonlinkratio_2', 'commonlinkratio_3', 'commonlinkratio_4', 'compression_ratio',\n",
    "        'embed_ratio', 'frameTagRatio', 'hasDomainLink', 'html_ratio', 'image_ratio', 'linkwordscore',\n",
    "        'non_markup_alphanum_characters', 'numberOfLinks', 'numwords_in_url', 'parametrizedLinkRatio', 'spelling_errors_ratio',\n",
    "        'alchemy_category_score']"
   ]
  },
  {
   "cell_type": "code",
   "execution_count": 10,
   "metadata": {
    "collapsed": false
   },
   "outputs": [],
   "source": [
    "formula_num = \"\"\"\n",
    "label ~ avglinksize + commonlinkratio_1 + commonlinkratio_2 + commonlinkratio_3 + commonlinkratio_4 + compression_ratio + embed_ratio + \n",
    "frameTagRatio + hasDomainLink + html_ratio + image_ratio + linkwordscore + non_markup_alphanum_characters + \n",
    "numberOfLinks + numwords_in_url + parametrizedLinkRatio + spelling_errors_ratio + alchemy_category_score\n",
    "\"\"\""
   ]
  },
  {
   "cell_type": "code",
   "execution_count": 11,
   "metadata": {
    "collapsed": false
   },
   "outputs": [
    {
     "name": "stdout",
     "output_type": "stream",
     "text": [
      "Optimization terminated successfully.\n",
      "         Current function value: 0.645483\n",
      "         Iterations 5\n",
      "                           Logit Regression Results                           \n",
      "==============================================================================\n",
      "Dep. Variable:                  label   No. Observations:                 5053\n",
      "Model:                          Logit   Df Residuals:                     5034\n",
      "Method:                           MLE   Df Model:                           18\n",
      "Date:                Sun, 15 May 2016   Pseudo R-squ.:                 0.06784\n",
      "Time:                        19:08:20   Log-Likelihood:                -3261.6\n",
      "converged:                       True   LL-Null:                       -3499.0\n",
      "                                        LLR p-value:                 2.082e-89\n",
      "==================================================================================================\n",
      "                                     coef    std err          z      P>|z|      [95.0% Conf. Int.]\n",
      "--------------------------------------------------------------------------------------------------\n",
      "Intercept                          1.9490      0.242      8.062      0.000         1.475     2.423\n",
      "avglinksize                        0.0042      0.003      1.296      0.195        -0.002     0.011\n",
      "commonlinkratio_1                  0.6948      0.274      2.536      0.011         0.158     1.232\n",
      "commonlinkratio_2                 -0.1297      0.467     -0.278      0.781        -1.046     0.786\n",
      "commonlinkratio_3                  3.1149      0.883      3.527      0.000         1.384     4.846\n",
      "commonlinkratio_4                 -2.2773      0.907     -2.511      0.012        -4.055    -0.500\n",
      "compression_ratio                 -0.0034      0.014     -0.241      0.810        -0.031     0.024\n",
      "embed_ratio                       -0.4421      0.229     -1.933      0.053        -0.890     0.006\n",
      "frameTagRatio                     -7.7250      0.969     -7.975      0.000        -9.624    -5.826\n",
      "hasDomainLink                      0.0894      0.212      0.422      0.673        -0.326     0.505\n",
      "html_ratio                        -0.5176      0.721     -0.718      0.473        -1.930     0.895\n",
      "image_ratio                       -0.0050      0.015     -0.327      0.743        -0.035     0.025\n",
      "linkwordscore                     -0.0254      0.002    -11.571      0.000        -0.030    -0.021\n",
      "non_markup_alphanum_characters -2.536e-05   5.83e-06     -4.348      0.000     -3.68e-05 -1.39e-05\n",
      "numberOfLinks                      0.0009      0.000      3.320      0.001         0.000     0.001\n",
      "numwords_in_url                   -0.0269      0.009     -2.844      0.004        -0.045    -0.008\n",
      "parametrizedLinkRatio             -0.0811      0.175     -0.463      0.643        -0.425     0.262\n",
      "spelling_errors_ratio             -3.6658      0.595     -6.158      0.000        -4.833    -2.499\n",
      "alchemy_category_score            -0.9635      0.145     -6.623      0.000        -1.249    -0.678\n",
      "==================================================================================================\n"
     ]
    }
   ],
   "source": [
    "logreg_num = smf.logit(formula_num, data = su)\n",
    "logreg_num_results = logreg_num.fit()\n",
    "print logreg_num_results.summary()"
   ]
  },
  {
   "cell_type": "markdown",
   "metadata": {},
   "source": [
    "### 3.2 Run a logistic regression predicting evergreen from the numeric columns and a categorical variable of alchemy_category\n",
    "\n",
    "And print out the results as shown in the example.\n",
    "\n",
    "---"
   ]
  },
  {
   "cell_type": "code",
   "execution_count": 12,
   "metadata": {
    "collapsed": true
   },
   "outputs": [],
   "source": [
    "formula_cat = \"\"\"\n",
    "label ~ avglinksize + alchemy_category_score + commonlinkratio_1 + commonlinkratio_2 + commonlinkratio_3 + commonlinkratio_4 + \n",
    "compression_ratio + embed_ratio + frameTagRatio + hasDomainLink + html_ratio + image_ratio + linkwordscore + non_markup_alphanum_characters + \n",
    "numberOfLinks + numwords_in_url + parametrizedLinkRatio + spelling_errors_ratio + C(alchemy_category)\n",
    "\"\"\""
   ]
  },
  {
   "cell_type": "code",
   "execution_count": 13,
   "metadata": {
    "collapsed": false
   },
   "outputs": [
    {
     "name": "stdout",
     "output_type": "stream",
     "text": [
      "Warning: Maximum number of iterations has been exceeded.\n",
      "         Current function value: 0.595375\n",
      "         Iterations: 35\n",
      "                           Logit Regression Results                           \n",
      "==============================================================================\n",
      "Dep. Variable:                  label   No. Observations:                 5053\n",
      "Model:                          Logit   Df Residuals:                     5022\n",
      "Method:                           MLE   Df Model:                           30\n",
      "Date:                Sun, 15 May 2016   Pseudo R-squ.:                  0.1402\n",
      "Time:                        19:08:20   Log-Likelihood:                -3008.4\n",
      "converged:                      False   LL-Null:                       -3499.0\n",
      "                                        LLR p-value:                4.832e-187\n",
      "=============================================================================================================\n",
      "                                                coef    std err          z      P>|z|      [95.0% Conf. Int.]\n",
      "-------------------------------------------------------------------------------------------------------------\n",
      "Intercept                                     0.9227      0.264      3.492      0.000         0.405     1.440\n",
      "C(alchemy_category)[T.business]               1.3719      0.104     13.152      0.000         1.167     1.576\n",
      "C(alchemy_category)[T.computer_internet]     -0.4639      0.156     -2.969      0.003        -0.770    -0.158\n",
      "C(alchemy_category)[T.culture_politics]       0.3150      0.133      2.367      0.018         0.054     0.576\n",
      "C(alchemy_category)[T.gaming]                 0.0269      0.260      0.104      0.918        -0.483     0.537\n",
      "C(alchemy_category)[T.health]                 0.8314      0.119      6.980      0.000         0.598     1.065\n",
      "C(alchemy_category)[T.law_crime]              0.4683      0.392      1.193      0.233        -0.301     1.238\n",
      "C(alchemy_category)[T.recreation]             1.2572      0.097     13.026      0.000         1.068     1.446\n",
      "C(alchemy_category)[T.religion]               0.3479      0.268      1.298      0.194        -0.177     0.873\n",
      "C(alchemy_category)[T.science_technology]     0.3129      0.143      2.194      0.028         0.033     0.592\n",
      "C(alchemy_category)[T.sports]                -0.7493      0.148     -5.051      0.000        -1.040    -0.459\n",
      "C(alchemy_category)[T.unknown]                0.5661      0.943      0.601      0.548        -1.281     2.413\n",
      "C(alchemy_category)[T.weather]              -17.7365   5935.096     -0.003      0.998     -1.17e+04  1.16e+04\n",
      "avglinksize                                   0.0047      0.003      1.350      0.177        -0.002     0.011\n",
      "alchemy_category_score                       -0.5083      0.159     -3.189      0.001        -0.821    -0.196\n",
      "commonlinkratio_1                             0.4337      0.288      1.505      0.132        -0.131     0.999\n",
      "commonlinkratio_2                            -0.0621      0.496     -0.125      0.900        -1.033     0.909\n",
      "commonlinkratio_3                             2.6706      0.913      2.925      0.003         0.881     4.460\n",
      "commonlinkratio_4                            -1.7439      0.933     -1.870      0.061        -3.572     0.084\n",
      "compression_ratio                            -0.0016      0.015     -0.108      0.914        -0.030     0.027\n",
      "embed_ratio                                  -0.3363      0.238     -1.415      0.157        -0.802     0.129\n",
      "frameTagRatio                                -7.2241      1.010     -7.156      0.000        -9.203    -5.245\n",
      "hasDomainLink                                -0.1107      0.220     -0.504      0.614        -0.541     0.320\n",
      "html_ratio                                   -0.2676      0.760     -0.352      0.725        -1.757     1.222\n",
      "image_ratio                                  -0.0033      0.016     -0.209      0.835        -0.034     0.028\n",
      "linkwordscore                                -0.0221      0.002     -9.667      0.000        -0.027    -0.018\n",
      "non_markup_alphanum_characters            -1.346e-05   6.12e-06     -2.200      0.028     -2.55e-05 -1.47e-06\n",
      "numberOfLinks                                 0.0007      0.000      2.331      0.020         0.000     0.001\n",
      "numwords_in_url                              -0.0236      0.010     -2.364      0.018        -0.043    -0.004\n",
      "parametrizedLinkRatio                        -0.1305      0.184     -0.709      0.478        -0.491     0.230\n",
      "spelling_errors_ratio                        -2.9420      0.596     -4.935      0.000        -4.111    -1.773\n",
      "=============================================================================================================\n"
     ]
    },
    {
     "name": "stderr",
     "output_type": "stream",
     "text": [
      "C:\\Anaconda2\\lib\\site-packages\\statsmodels\\base\\model.py:466: ConvergenceWarning: Maximum Likelihood optimization failed to converge. Check mle_retvals\n",
      "  \"Check mle_retvals\", ConvergenceWarning)\n"
     ]
    }
   ],
   "source": [
    "logreg_cat = smf.logit(formula_cat, data = su)\n",
    "logreg_cat_results = logreg_cat.fit()\n",
    "print logreg_cat_results.summary()"
   ]
  },
  {
   "cell_type": "markdown",
   "metadata": {},
   "source": [
    "## 4. Use sklearn to cross-validate the accuracy of the model above\n",
    "\n",
    "Normalize the numeric and categorical columns of the predictor matrix.\n",
    "\n",
    "---"
   ]
  },
  {
   "cell_type": "code",
   "execution_count": 14,
   "metadata": {
    "collapsed": false
   },
   "outputs": [],
   "source": [
    "formula_preds = \"\"\" ~ avglinksize + alchemy_category_score + commonlinkratio_1 + commonlinkratio_2 + commonlinkratio_3 + commonlinkratio_4 + \n",
    "compression_ratio + embed_ratio + frameTagRatio + hasDomainLink + html_ratio + image_ratio + linkwordscore + non_markup_alphanum_characters + \n",
    "numberOfLinks + numwords_in_url + parametrizedLinkRatio + spelling_errors_ratio + C(alchemy_category)\"\"\"\n",
    "X = patsy.dmatrix(formula_preds, data = su)"
   ]
  },
  {
   "cell_type": "code",
   "execution_count": 15,
   "metadata": {
    "collapsed": false
   },
   "outputs": [],
   "source": [
    "# Normalizing our predictors\n",
    "standard_scaler = StandardScaler()\n",
    "X = standard_scaler.fit_transform(X)"
   ]
  },
  {
   "cell_type": "code",
   "execution_count": 16,
   "metadata": {
    "collapsed": true
   },
   "outputs": [],
   "source": [
    "logmodel = LogisticRegression()"
   ]
  },
  {
   "cell_type": "code",
   "execution_count": 17,
   "metadata": {
    "collapsed": false
   },
   "outputs": [],
   "source": [
    "Y = su.label.values"
   ]
  },
  {
   "cell_type": "code",
   "execution_count": 18,
   "metadata": {
    "collapsed": false
   },
   "outputs": [
    {
     "data": {
      "text/plain": [
       "LogisticRegression(C=1.0, class_weight=None, dual=False, fit_intercept=True,\n",
       "          intercept_scaling=1, max_iter=100, multi_class='ovr', n_jobs=1,\n",
       "          penalty='l2', random_state=None, solver='liblinear', tol=0.0001,\n",
       "          verbose=0, warm_start=False)"
      ]
     },
     "execution_count": 18,
     "metadata": {},
     "output_type": "execute_result"
    }
   ],
   "source": [
    "logmodel.fit(X, Y)"
   ]
  },
  {
   "cell_type": "code",
   "execution_count": 19,
   "metadata": {
    "collapsed": false
   },
   "outputs": [
    {
     "data": {
      "text/plain": [
       "0.68454485804663556"
      ]
     },
     "execution_count": 19,
     "metadata": {},
     "output_type": "execute_result"
    }
   ],
   "source": [
    "np.mean(cross_val_score(logmodel, X, Y, cv=5))"
   ]
  },
  {
   "cell_type": "markdown",
   "metadata": {},
   "source": [
    "## 5. Gridsearch regularization parameters for logistic regression\n",
    "\n",
    "Find the best regularization type (Ridge, Lasso) across a set of regularization strengths.\n",
    "\n",
    "[NOTE: C is the inverse of the regularization strength. Lower C values are stronger regularization. Having a C higher than 1 will significantly slow down the search. I'm not particularly interested in values over 1, since this is the default regularization strength in LogisticRegression.]\n",
    "\n",
    "**After you find the best set of parameters, build a Logistic Regression with those parameters and crossvalidate the score.**\n",
    "\n",
    "[NOTE 2: to run Lasso regularization the solver should be `'liblinear'`]\n",
    "\n",
    "---"
   ]
  },
  {
   "cell_type": "code",
   "execution_count": 20,
   "metadata": {
    "collapsed": false
   },
   "outputs": [],
   "source": [
    "# 1 / [1 -> 10**5] (1, 10, 100, 1000, 10000)\n",
    "# Put 20 points evenly spaced between 1 and 10000\n",
    "Cs = 1./np.logspace(0.0, 4.0, 20)\n",
    "\n",
    "# n_jobs = 4 means run 4 threads at once on the computer.\n",
    "# most modern CPUs do 4 with relative ease, but if you have a shit computer you should probably leave it out.\n",
    "# (if you put -1 it will use all cores - not recommended.)\n",
    "search_parameters = {\n",
    "    \"penalty\":             ['l1','l2'],   # Used to specify the norm used in the penalization.\n",
    "    \"C\":                   Cs,  # Regularization paramter\n",
    "    \"class_weight\":        [None, \"balanced\"], # The “balanced” mode uses the values of y to automatically adjust weights inversely proportional to \n",
    "                                               # class frequencies in the input data as n_samples / (n_classes * np.bincount(y))\n",
    "    'n_jobs':              [4],\n",
    "    'solver':              ['liblinear']\n",
    "}\n",
    "\n",
    "est = GridSearchCV(logmodel, search_parameters)"
   ]
  },
  {
   "cell_type": "code",
   "execution_count": 21,
   "metadata": {
    "collapsed": false
   },
   "outputs": [
    {
     "data": {
      "text/plain": [
       "[mean: 0.68375, std: 0.00396, params: {'penalty': 'l1', 'C': 1.0, 'n_jobs': 4, 'solver': 'liblinear', 'class_weight': None},\n",
       " mean: 0.68474, std: 0.00550, params: {'penalty': 'l2', 'C': 1.0, 'n_jobs': 4, 'solver': 'liblinear', 'class_weight': None},\n",
       " mean: 0.68395, std: 0.00539, params: {'penalty': 'l1', 'C': 1.0, 'n_jobs': 4, 'solver': 'liblinear', 'class_weight': 'balanced'},\n",
       " mean: 0.68395, std: 0.00468, params: {'penalty': 'l2', 'C': 1.0, 'n_jobs': 4, 'solver': 'liblinear', 'class_weight': 'balanced'},\n",
       " mean: 0.68296, std: 0.00352, params: {'penalty': 'l1', 'C': 0.61584821106602639, 'n_jobs': 4, 'solver': 'liblinear', 'class_weight': None},\n",
       " mean: 0.68494, std: 0.00523, params: {'penalty': 'l2', 'C': 0.61584821106602639, 'n_jobs': 4, 'solver': 'liblinear', 'class_weight': None},\n",
       " mean: 0.68395, std: 0.00499, params: {'penalty': 'l1', 'C': 0.61584821106602639, 'n_jobs': 4, 'solver': 'liblinear', 'class_weight': 'balanced'},\n",
       " mean: 0.68415, std: 0.00470, params: {'penalty': 'l2', 'C': 0.61584821106602639, 'n_jobs': 4, 'solver': 'liblinear', 'class_weight': 'balanced'},\n",
       " mean: 0.68395, std: 0.00298, params: {'penalty': 'l1', 'C': 0.37926901907322502, 'n_jobs': 4, 'solver': 'liblinear', 'class_weight': None},\n",
       " mean: 0.68514, std: 0.00536, params: {'penalty': 'l2', 'C': 0.37926901907322502, 'n_jobs': 4, 'solver': 'liblinear', 'class_weight': None},\n",
       " mean: 0.68435, std: 0.00571, params: {'penalty': 'l1', 'C': 0.37926901907322502, 'n_jobs': 4, 'solver': 'liblinear', 'class_weight': 'balanced'},\n",
       " mean: 0.68415, std: 0.00531, params: {'penalty': 'l2', 'C': 0.37926901907322502, 'n_jobs': 4, 'solver': 'liblinear', 'class_weight': 'balanced'},\n",
       " mean: 0.68355, std: 0.00367, params: {'penalty': 'l1', 'C': 0.23357214690901226, 'n_jobs': 4, 'solver': 'liblinear', 'class_weight': None},\n",
       " mean: 0.68494, std: 0.00483, params: {'penalty': 'l2', 'C': 0.23357214690901226, 'n_jobs': 4, 'solver': 'liblinear', 'class_weight': None},\n",
       " mean: 0.68336, std: 0.00585, params: {'penalty': 'l1', 'C': 0.23357214690901226, 'n_jobs': 4, 'solver': 'liblinear', 'class_weight': 'balanced'},\n",
       " mean: 0.68435, std: 0.00574, params: {'penalty': 'l2', 'C': 0.23357214690901226, 'n_jobs': 4, 'solver': 'liblinear', 'class_weight': 'balanced'},\n",
       " mean: 0.68454, std: 0.00379, params: {'penalty': 'l1', 'C': 0.14384498882876628, 'n_jobs': 4, 'solver': 'liblinear', 'class_weight': None},\n",
       " mean: 0.68435, std: 0.00400, params: {'penalty': 'l2', 'C': 0.14384498882876628, 'n_jobs': 4, 'solver': 'liblinear', 'class_weight': None},\n",
       " mean: 0.68435, std: 0.00729, params: {'penalty': 'l1', 'C': 0.14384498882876628, 'n_jobs': 4, 'solver': 'liblinear', 'class_weight': 'balanced'},\n",
       " mean: 0.68415, std: 0.00473, params: {'penalty': 'l2', 'C': 0.14384498882876628, 'n_jobs': 4, 'solver': 'liblinear', 'class_weight': 'balanced'},\n",
       " mean: 0.68296, std: 0.00494, params: {'penalty': 'l1', 'C': 0.088586679041008282, 'n_jobs': 4, 'solver': 'liblinear', 'class_weight': None},\n",
       " mean: 0.68514, std: 0.00473, params: {'penalty': 'l2', 'C': 0.088586679041008282, 'n_jobs': 4, 'solver': 'liblinear', 'class_weight': None},\n",
       " mean: 0.68553, std: 0.00661, params: {'penalty': 'l1', 'C': 0.088586679041008282, 'n_jobs': 4, 'solver': 'liblinear', 'class_weight': 'balanced'},\n",
       " mean: 0.68435, std: 0.00491, params: {'penalty': 'l2', 'C': 0.088586679041008282, 'n_jobs': 4, 'solver': 'liblinear', 'class_weight': 'balanced'},\n",
       " mean: 0.68217, std: 0.00609, params: {'penalty': 'l1', 'C': 0.054555947811685199, 'n_jobs': 4, 'solver': 'liblinear', 'class_weight': None},\n",
       " mean: 0.68474, std: 0.00352, params: {'penalty': 'l2', 'C': 0.054555947811685199, 'n_jobs': 4, 'solver': 'liblinear', 'class_weight': None},\n",
       " mean: 0.68454, std: 0.00576, params: {'penalty': 'l1', 'C': 0.054555947811685199, 'n_jobs': 4, 'solver': 'liblinear', 'class_weight': 'balanced'},\n",
       " mean: 0.68375, std: 0.00571, params: {'penalty': 'l2', 'C': 0.054555947811685199, 'n_jobs': 4, 'solver': 'liblinear', 'class_weight': 'balanced'},\n",
       " mean: 0.68514, std: 0.00364, params: {'penalty': 'l1', 'C': 0.033598182862837826, 'n_jobs': 4, 'solver': 'liblinear', 'class_weight': None},\n",
       " mean: 0.68454, std: 0.00558, params: {'penalty': 'l2', 'C': 0.033598182862837826, 'n_jobs': 4, 'solver': 'liblinear', 'class_weight': None},\n",
       " mean: 0.68454, std: 0.00603, params: {'penalty': 'l1', 'C': 0.033598182862837826, 'n_jobs': 4, 'solver': 'liblinear', 'class_weight': 'balanced'},\n",
       " mean: 0.68355, std: 0.00608, params: {'penalty': 'l2', 'C': 0.033598182862837826, 'n_jobs': 4, 'solver': 'liblinear', 'class_weight': 'balanced'},\n",
       " mean: 0.68454, std: 0.00933, params: {'penalty': 'l1', 'C': 0.020691380811147901, 'n_jobs': 4, 'solver': 'liblinear', 'class_weight': None},\n",
       " mean: 0.68395, std: 0.00582, params: {'penalty': 'l2', 'C': 0.020691380811147901, 'n_jobs': 4, 'solver': 'liblinear', 'class_weight': None},\n",
       " mean: 0.68375, std: 0.00756, params: {'penalty': 'l1', 'C': 0.020691380811147901, 'n_jobs': 4, 'solver': 'liblinear', 'class_weight': 'balanced'},\n",
       " mean: 0.68454, std: 0.00568, params: {'penalty': 'l2', 'C': 0.020691380811147901, 'n_jobs': 4, 'solver': 'liblinear', 'class_weight': 'balanced'},\n",
       " mean: 0.67979, std: 0.00747, params: {'penalty': 'l1', 'C': 0.012742749857031341, 'n_jobs': 4, 'solver': 'liblinear', 'class_weight': None},\n",
       " mean: 0.68494, std: 0.00278, params: {'penalty': 'l2', 'C': 0.012742749857031341, 'n_jobs': 4, 'solver': 'liblinear', 'class_weight': None},\n",
       " mean: 0.67940, std: 0.00765, params: {'penalty': 'l1', 'C': 0.012742749857031341, 'n_jobs': 4, 'solver': 'liblinear', 'class_weight': 'balanced'},\n",
       " mean: 0.68435, std: 0.00707, params: {'penalty': 'l2', 'C': 0.012742749857031341, 'n_jobs': 4, 'solver': 'liblinear', 'class_weight': 'balanced'},\n",
       " mean: 0.66792, std: 0.00412, params: {'penalty': 'l1', 'C': 0.0078475997035146149, 'n_jobs': 4, 'solver': 'liblinear', 'class_weight': None},\n",
       " mean: 0.68632, std: 0.00316, params: {'penalty': 'l2', 'C': 0.0078475997035146149, 'n_jobs': 4, 'solver': 'liblinear', 'class_weight': None},\n",
       " mean: 0.66851, std: 0.00303, params: {'penalty': 'l1', 'C': 0.0078475997035146149, 'n_jobs': 4, 'solver': 'liblinear', 'class_weight': 'balanced'},\n",
       " mean: 0.68514, std: 0.00615, params: {'penalty': 'l2', 'C': 0.0078475997035146149, 'n_jobs': 4, 'solver': 'liblinear', 'class_weight': 'balanced'},\n",
       " mean: 0.66653, std: 0.00422, params: {'penalty': 'l1', 'C': 0.0048329302385717518, 'n_jobs': 4, 'solver': 'liblinear', 'class_weight': None},\n",
       " mean: 0.68474, std: 0.00419, params: {'penalty': 'l2', 'C': 0.0048329302385717518, 'n_jobs': 4, 'solver': 'liblinear', 'class_weight': None},\n",
       " mean: 0.66614, std: 0.00388, params: {'penalty': 'l1', 'C': 0.0048329302385717518, 'n_jobs': 4, 'solver': 'liblinear', 'class_weight': 'balanced'},\n",
       " mean: 0.68593, std: 0.00395, params: {'penalty': 'l2', 'C': 0.0048329302385717518, 'n_jobs': 4, 'solver': 'liblinear', 'class_weight': 'balanced'},\n",
       " mean: 0.55235, std: 0.05035, params: {'penalty': 'l1', 'C': 0.0029763514416313195, 'n_jobs': 4, 'solver': 'liblinear', 'class_weight': None},\n",
       " mean: 0.68474, std: 0.00522, params: {'penalty': 'l2', 'C': 0.0029763514416313195, 'n_jobs': 4, 'solver': 'liblinear', 'class_weight': None},\n",
       " mean: 0.55235, std: 0.05035, params: {'penalty': 'l1', 'C': 0.0029763514416313195, 'n_jobs': 4, 'solver': 'liblinear', 'class_weight': 'balanced'},\n",
       " mean: 0.68652, std: 0.00311, params: {'penalty': 'l2', 'C': 0.0029763514416313195, 'n_jobs': 4, 'solver': 'liblinear', 'class_weight': 'balanced'},\n",
       " mean: 0.48150, std: 0.00013, params: {'penalty': 'l1', 'C': 0.0018329807108324375, 'n_jobs': 4, 'solver': 'liblinear', 'class_weight': None},\n",
       " mean: 0.68474, std: 0.00665, params: {'penalty': 'l2', 'C': 0.0018329807108324375, 'n_jobs': 4, 'solver': 'liblinear', 'class_weight': None},\n",
       " mean: 0.48150, std: 0.00013, params: {'penalty': 'l1', 'C': 0.0018329807108324375, 'n_jobs': 4, 'solver': 'liblinear', 'class_weight': 'balanced'},\n",
       " mean: 0.68534, std: 0.00348, params: {'penalty': 'l2', 'C': 0.0018329807108324375, 'n_jobs': 4, 'solver': 'liblinear', 'class_weight': 'balanced'},\n",
       " mean: 0.48150, std: 0.00013, params: {'penalty': 'l1', 'C': 0.0011288378916846893, 'n_jobs': 4, 'solver': 'liblinear', 'class_weight': None},\n",
       " mean: 0.68415, std: 0.00348, params: {'penalty': 'l2', 'C': 0.0011288378916846893, 'n_jobs': 4, 'solver': 'liblinear', 'class_weight': None},\n",
       " mean: 0.48150, std: 0.00013, params: {'penalty': 'l1', 'C': 0.0011288378916846893, 'n_jobs': 4, 'solver': 'liblinear', 'class_weight': 'balanced'},\n",
       " mean: 0.68553, std: 0.00364, params: {'penalty': 'l2', 'C': 0.0011288378916846893, 'n_jobs': 4, 'solver': 'liblinear', 'class_weight': 'balanced'},\n",
       " mean: 0.48150, std: 0.00013, params: {'penalty': 'l1', 'C': 0.00069519279617756048, 'n_jobs': 4, 'solver': 'liblinear', 'class_weight': None},\n",
       " mean: 0.68158, std: 0.00333, params: {'penalty': 'l2', 'C': 0.00069519279617756048, 'n_jobs': 4, 'solver': 'liblinear', 'class_weight': None},\n",
       " mean: 0.48150, std: 0.00013, params: {'penalty': 'l1', 'C': 0.00069519279617756048, 'n_jobs': 4, 'solver': 'liblinear', 'class_weight': 'balanced'},\n",
       " mean: 0.68514, std: 0.00346, params: {'penalty': 'l2', 'C': 0.00069519279617756048, 'n_jobs': 4, 'solver': 'liblinear', 'class_weight': 'balanced'},\n",
       " mean: 0.48150, std: 0.00013, params: {'penalty': 'l1', 'C': 0.00042813323987193956, 'n_jobs': 4, 'solver': 'liblinear', 'class_weight': None},\n",
       " mean: 0.68276, std: 0.00499, params: {'penalty': 'l2', 'C': 0.00042813323987193956, 'n_jobs': 4, 'solver': 'liblinear', 'class_weight': None},\n",
       " mean: 0.48150, std: 0.00013, params: {'penalty': 'l1', 'C': 0.00042813323987193956, 'n_jobs': 4, 'solver': 'liblinear', 'class_weight': 'balanced'},\n",
       " mean: 0.68197, std: 0.00631, params: {'penalty': 'l2', 'C': 0.00042813323987193956, 'n_jobs': 4, 'solver': 'liblinear', 'class_weight': 'balanced'},\n",
       " mean: 0.48150, std: 0.00013, params: {'penalty': 'l1', 'C': 0.0002636650898730361, 'n_jobs': 4, 'solver': 'liblinear', 'class_weight': None},\n",
       " mean: 0.68059, std: 0.00655, params: {'penalty': 'l2', 'C': 0.0002636650898730361, 'n_jobs': 4, 'solver': 'liblinear', 'class_weight': None},\n",
       " mean: 0.48150, std: 0.00013, params: {'penalty': 'l1', 'C': 0.0002636650898730361, 'n_jobs': 4, 'solver': 'liblinear', 'class_weight': 'balanced'},\n",
       " mean: 0.68177, std: 0.00679, params: {'penalty': 'l2', 'C': 0.0002636650898730361, 'n_jobs': 4, 'solver': 'liblinear', 'class_weight': 'balanced'},\n",
       " mean: 0.48150, std: 0.00013, params: {'penalty': 'l1', 'C': 0.00016237767391887227, 'n_jobs': 4, 'solver': 'liblinear', 'class_weight': None},\n",
       " mean: 0.67821, std: 0.00802, params: {'penalty': 'l2', 'C': 0.00016237767391887227, 'n_jobs': 4, 'solver': 'liblinear', 'class_weight': None},\n",
       " mean: 0.48150, std: 0.00013, params: {'penalty': 'l1', 'C': 0.00016237767391887227, 'n_jobs': 4, 'solver': 'liblinear', 'class_weight': 'balanced'},\n",
       " mean: 0.67979, std: 0.00672, params: {'penalty': 'l2', 'C': 0.00016237767391887227, 'n_jobs': 4, 'solver': 'liblinear', 'class_weight': 'balanced'},\n",
       " mean: 0.48150, std: 0.00013, params: {'penalty': 'l1', 'C': 0.0001, 'n_jobs': 4, 'solver': 'liblinear', 'class_weight': None},\n",
       " mean: 0.67782, std: 0.00818, params: {'penalty': 'l2', 'C': 0.0001, 'n_jobs': 4, 'solver': 'liblinear', 'class_weight': None},\n",
       " mean: 0.48150, std: 0.00013, params: {'penalty': 'l1', 'C': 0.0001, 'n_jobs': 4, 'solver': 'liblinear', 'class_weight': 'balanced'},\n",
       " mean: 0.67841, std: 0.00732, params: {'penalty': 'l2', 'C': 0.0001, 'n_jobs': 4, 'solver': 'liblinear', 'class_weight': 'balanced'}]"
      ]
     },
     "execution_count": 21,
     "metadata": {},
     "output_type": "execute_result"
    }
   ],
   "source": [
    "grid = est.fit(X, Y)\n",
    "\n",
    "grid.grid_scores_"
   ]
  },
  {
   "cell_type": "code",
   "execution_count": 23,
   "metadata": {
    "collapsed": false
   },
   "outputs": [
    {
     "data": {
      "text/plain": [
       "{'C': 0.0029763514416313195,\n",
       " 'class_weight': 'balanced',\n",
       " 'n_jobs': 4,\n",
       " 'penalty': 'l2',\n",
       " 'solver': 'liblinear'}"
      ]
     },
     "execution_count": 23,
     "metadata": {},
     "output_type": "execute_result"
    }
   ],
   "source": [
    "grid.best_params_"
   ]
  },
  {
   "cell_type": "code",
   "execution_count": 24,
   "metadata": {
    "collapsed": false
   },
   "outputs": [],
   "source": [
    "best_c = grid.best_params_['C']"
   ]
  },
  {
   "cell_type": "code",
   "execution_count": 25,
   "metadata": {
    "collapsed": true
   },
   "outputs": [],
   "source": [
    "best_logmodel = LogisticRegression(penalty = 'l2', C = best_c, class_weight = 'balanced')"
   ]
  },
  {
   "cell_type": "code",
   "execution_count": 26,
   "metadata": {
    "collapsed": false
   },
   "outputs": [
    {
     "data": {
      "text/plain": [
       "0.68632684039917335"
      ]
     },
     "execution_count": 26,
     "metadata": {},
     "output_type": "execute_result"
    }
   ],
   "source": [
    "np.mean(cross_val_score(best_logmodel, X, Y, cv=5))"
   ]
  },
  {
   "cell_type": "markdown",
   "metadata": {},
   "source": [
    "## 6. Gridsearch neighbors for kNN\n",
    "\n",
    "Find the best number of neighbors with your predictors to predict the `label` target variable.\n",
    "\n",
    "Start by bulding a kNN model with a set number of neighbors, then use gridsearch to run through a series of neighbors.\n",
    "\n",
    "---"
   ]
  },
  {
   "cell_type": "code",
   "execution_count": 27,
   "metadata": {
    "collapsed": true
   },
   "outputs": [],
   "source": [
    "x_train, x_test, y_train, y_test = train_test_split(X, Y, test_size = 0.3)"
   ]
  },
  {
   "cell_type": "code",
   "execution_count": 28,
   "metadata": {
    "collapsed": false
   },
   "outputs": [
    {
     "data": {
      "text/plain": [
       "0.66820580474934033"
      ]
     },
     "execution_count": 28,
     "metadata": {},
     "output_type": "execute_result"
    }
   ],
   "source": [
    "# Creating our knn model and cross validating it before we run a gridsearch\n",
    "knn = KNeighborsClassifier(n_neighbors = 5)\n",
    "knn.fit(x_train, y_train)\n",
    "knn.score(x_test, y_test)"
   ]
  },
  {
   "cell_type": "code",
   "execution_count": 29,
   "metadata": {
    "collapsed": false
   },
   "outputs": [
    {
     "data": {
      "text/plain": [
       "array([19, 21, 23, 25, 27, 29, 31, 33])"
      ]
     },
     "execution_count": 29,
     "metadata": {},
     "output_type": "execute_result"
    }
   ],
   "source": [
    "# Generates a list of odd numbers to assign to n_neighbors\n",
    "Ns = np.arange(19, 35, 2)\n",
    "Ns"
   ]
  },
  {
   "cell_type": "code",
   "execution_count": 30,
   "metadata": {
    "collapsed": true
   },
   "outputs": [],
   "source": [
    "# Creating parameters for our knn model\n",
    "search_parameters_knn = {\n",
    "    \"n_neighbors\":         Ns,\n",
    "    \"weights\":             ['uniform', 'distance'],\n",
    "    \"algorithm\":           ['ball_tree', 'kd_tree', 'brute']\n",
    "}\n",
    "\n",
    "est_knn = GridSearchCV(knn, search_parameters_knn)"
   ]
  },
  {
   "cell_type": "code",
   "execution_count": 31,
   "metadata": {
    "collapsed": true
   },
   "outputs": [],
   "source": [
    "grid_knn = est_knn.fit(X, Y)"
   ]
  },
  {
   "cell_type": "code",
   "execution_count": 32,
   "metadata": {
    "collapsed": false,
    "scrolled": true
   },
   "outputs": [
    {
     "data": {
      "text/plain": [
       "[mean: 0.68652, std: 0.01044, params: {'n_neighbors': 19, 'weights': 'uniform', 'algorithm': 'ball_tree'},\n",
       " mean: 0.69167, std: 0.00718, params: {'n_neighbors': 19, 'weights': 'distance', 'algorithm': 'ball_tree'},\n",
       " mean: 0.68652, std: 0.00644, params: {'n_neighbors': 21, 'weights': 'uniform', 'algorithm': 'ball_tree'},\n",
       " mean: 0.69147, std: 0.00828, params: {'n_neighbors': 21, 'weights': 'distance', 'algorithm': 'ball_tree'},\n",
       " mean: 0.69107, std: 0.00897, params: {'n_neighbors': 23, 'weights': 'uniform', 'algorithm': 'ball_tree'},\n",
       " mean: 0.69701, std: 0.01029, params: {'n_neighbors': 23, 'weights': 'distance', 'algorithm': 'ball_tree'},\n",
       " mean: 0.69187, std: 0.00955, params: {'n_neighbors': 25, 'weights': 'uniform', 'algorithm': 'ball_tree'},\n",
       " mean: 0.69761, std: 0.01044, params: {'n_neighbors': 25, 'weights': 'distance', 'algorithm': 'ball_tree'},\n",
       " mean: 0.69424, std: 0.00781, params: {'n_neighbors': 27, 'weights': 'uniform', 'algorithm': 'ball_tree'},\n",
       " mean: 0.69859, std: 0.00997, params: {'n_neighbors': 27, 'weights': 'distance', 'algorithm': 'ball_tree'},\n",
       " mean: 0.69048, std: 0.00759, params: {'n_neighbors': 29, 'weights': 'uniform', 'algorithm': 'ball_tree'},\n",
       " mean: 0.69483, std: 0.01004, params: {'n_neighbors': 29, 'weights': 'distance', 'algorithm': 'ball_tree'},\n",
       " mean: 0.68870, std: 0.00534, params: {'n_neighbors': 31, 'weights': 'uniform', 'algorithm': 'ball_tree'},\n",
       " mean: 0.69325, std: 0.00821, params: {'n_neighbors': 31, 'weights': 'distance', 'algorithm': 'ball_tree'},\n",
       " mean: 0.68316, std: 0.00606, params: {'n_neighbors': 33, 'weights': 'uniform', 'algorithm': 'ball_tree'},\n",
       " mean: 0.69048, std: 0.00648, params: {'n_neighbors': 33, 'weights': 'distance', 'algorithm': 'ball_tree'},\n",
       " mean: 0.68652, std: 0.01044, params: {'n_neighbors': 19, 'weights': 'uniform', 'algorithm': 'kd_tree'},\n",
       " mean: 0.69167, std: 0.00718, params: {'n_neighbors': 19, 'weights': 'distance', 'algorithm': 'kd_tree'},\n",
       " mean: 0.68652, std: 0.00644, params: {'n_neighbors': 21, 'weights': 'uniform', 'algorithm': 'kd_tree'},\n",
       " mean: 0.69147, std: 0.00828, params: {'n_neighbors': 21, 'weights': 'distance', 'algorithm': 'kd_tree'},\n",
       " mean: 0.69107, std: 0.00897, params: {'n_neighbors': 23, 'weights': 'uniform', 'algorithm': 'kd_tree'},\n",
       " mean: 0.69701, std: 0.01029, params: {'n_neighbors': 23, 'weights': 'distance', 'algorithm': 'kd_tree'},\n",
       " mean: 0.69187, std: 0.00955, params: {'n_neighbors': 25, 'weights': 'uniform', 'algorithm': 'kd_tree'},\n",
       " mean: 0.69761, std: 0.01044, params: {'n_neighbors': 25, 'weights': 'distance', 'algorithm': 'kd_tree'},\n",
       " mean: 0.69424, std: 0.00781, params: {'n_neighbors': 27, 'weights': 'uniform', 'algorithm': 'kd_tree'},\n",
       " mean: 0.69859, std: 0.00997, params: {'n_neighbors': 27, 'weights': 'distance', 'algorithm': 'kd_tree'},\n",
       " mean: 0.69048, std: 0.00759, params: {'n_neighbors': 29, 'weights': 'uniform', 'algorithm': 'kd_tree'},\n",
       " mean: 0.69483, std: 0.01004, params: {'n_neighbors': 29, 'weights': 'distance', 'algorithm': 'kd_tree'},\n",
       " mean: 0.68870, std: 0.00534, params: {'n_neighbors': 31, 'weights': 'uniform', 'algorithm': 'kd_tree'},\n",
       " mean: 0.69325, std: 0.00821, params: {'n_neighbors': 31, 'weights': 'distance', 'algorithm': 'kd_tree'},\n",
       " mean: 0.68316, std: 0.00606, params: {'n_neighbors': 33, 'weights': 'uniform', 'algorithm': 'kd_tree'},\n",
       " mean: 0.69048, std: 0.00648, params: {'n_neighbors': 33, 'weights': 'distance', 'algorithm': 'kd_tree'},\n",
       " mean: 0.68652, std: 0.01044, params: {'n_neighbors': 19, 'weights': 'uniform', 'algorithm': 'brute'},\n",
       " mean: 0.69167, std: 0.00718, params: {'n_neighbors': 19, 'weights': 'distance', 'algorithm': 'brute'},\n",
       " mean: 0.68652, std: 0.00644, params: {'n_neighbors': 21, 'weights': 'uniform', 'algorithm': 'brute'},\n",
       " mean: 0.69147, std: 0.00828, params: {'n_neighbors': 21, 'weights': 'distance', 'algorithm': 'brute'},\n",
       " mean: 0.69107, std: 0.00897, params: {'n_neighbors': 23, 'weights': 'uniform', 'algorithm': 'brute'},\n",
       " mean: 0.69701, std: 0.01029, params: {'n_neighbors': 23, 'weights': 'distance', 'algorithm': 'brute'},\n",
       " mean: 0.69187, std: 0.00955, params: {'n_neighbors': 25, 'weights': 'uniform', 'algorithm': 'brute'},\n",
       " mean: 0.69761, std: 0.01044, params: {'n_neighbors': 25, 'weights': 'distance', 'algorithm': 'brute'},\n",
       " mean: 0.69424, std: 0.00781, params: {'n_neighbors': 27, 'weights': 'uniform', 'algorithm': 'brute'},\n",
       " mean: 0.69859, std: 0.00997, params: {'n_neighbors': 27, 'weights': 'distance', 'algorithm': 'brute'},\n",
       " mean: 0.69048, std: 0.00759, params: {'n_neighbors': 29, 'weights': 'uniform', 'algorithm': 'brute'},\n",
       " mean: 0.69483, std: 0.01004, params: {'n_neighbors': 29, 'weights': 'distance', 'algorithm': 'brute'},\n",
       " mean: 0.68870, std: 0.00534, params: {'n_neighbors': 31, 'weights': 'uniform', 'algorithm': 'brute'},\n",
       " mean: 0.69325, std: 0.00821, params: {'n_neighbors': 31, 'weights': 'distance', 'algorithm': 'brute'},\n",
       " mean: 0.68316, std: 0.00606, params: {'n_neighbors': 33, 'weights': 'uniform', 'algorithm': 'brute'},\n",
       " mean: 0.69048, std: 0.00648, params: {'n_neighbors': 33, 'weights': 'distance', 'algorithm': 'brute'}]"
      ]
     },
     "execution_count": 32,
     "metadata": {},
     "output_type": "execute_result"
    }
   ],
   "source": [
    "grid_knn.grid_scores_"
   ]
  },
  {
   "cell_type": "code",
   "execution_count": 60,
   "metadata": {
    "collapsed": false
   },
   "outputs": [
    {
     "name": "stdout",
     "output_type": "stream",
     "text": [
      "{'n_neighbors': 27, 'weights': 'distance', 'algorithm': 'ball_tree'}\n"
     ]
    },
    {
     "data": {
      "text/plain": [
       "27"
      ]
     },
     "execution_count": 60,
     "metadata": {},
     "output_type": "execute_result"
    }
   ],
   "source": [
    "print grid_knn.best_params_\n",
    "best_n = grid_knn.best_params_['n_neighbors']\n",
    "best_n"
   ]
  },
  {
   "cell_type": "code",
   "execution_count": 61,
   "metadata": {
    "collapsed": false
   },
   "outputs": [],
   "source": [
    "# Building our knn model with the best parameters listed above\n",
    "best_knn = KNeighborsClassifier(algorithm = 'ball_tree', n_neighbors = best_n, weights = 'distance')"
   ]
  },
  {
   "cell_type": "code",
   "execution_count": 62,
   "metadata": {
    "collapsed": false
   },
   "outputs": [
    {
     "data": {
      "text/plain": [
       "0.69523165966448275"
      ]
     },
     "execution_count": 62,
     "metadata": {},
     "output_type": "execute_result"
    }
   ],
   "source": [
    "np.mean(cross_val_score(best_knn, X, Y, cv=5))"
   ]
  },
  {
   "cell_type": "markdown",
   "metadata": {},
   "source": [
    "## 7. Choose a new target from alchemy_category to predict with logistic regression\n",
    "\n",
    "**Ideally your category choice will have a small fraction of the total rows, but not TOO small!**\n",
    "\n",
    "---"
   ]
  },
  {
   "cell_type": "markdown",
   "metadata": {},
   "source": [
    "### 7.1 Chose your target category, create the Y vector, and check the fraction of instances\n",
    "\n",
    "---"
   ]
  },
  {
   "cell_type": "code",
   "execution_count": 36,
   "metadata": {
    "collapsed": false
   },
   "outputs": [
    {
     "data": {
      "text/plain": [
       "0.17415396793983773"
      ]
     },
     "execution_count": 36,
     "metadata": {},
     "output_type": "execute_result"
    }
   ],
   "source": [
    "# Deciding which category to use as our new target variable\n",
    "float(su.alchemy_category.value_counts()['business']) / float(len(su.alchemy_category))"
   ]
  },
  {
   "cell_type": "code",
   "execution_count": 37,
   "metadata": {
    "collapsed": false
   },
   "outputs": [],
   "source": [
    "# Using 'Business' as our new target variable and dummy coding the column\n",
    "su_alch = su\n",
    "su_alch.alchemy_category = su_alch.alchemy_category.map(lambda x: 1 if x == 'business' else 0)"
   ]
  },
  {
   "cell_type": "code",
   "execution_count": 38,
   "metadata": {
    "collapsed": true
   },
   "outputs": [],
   "source": [
    "Y_alch = su_alch.alchemy_category.values"
   ]
  },
  {
   "cell_type": "code",
   "execution_count": 39,
   "metadata": {
    "collapsed": false
   },
   "outputs": [
    {
     "data": {
      "text/plain": [
       "0    4173\n",
       "1     880\n",
       "Name: alchemy_category, dtype: int64"
      ]
     },
     "execution_count": 39,
     "metadata": {},
     "output_type": "execute_result"
    }
   ],
   "source": [
    "su_alch.alchemy_category.value_counts()"
   ]
  },
  {
   "cell_type": "markdown",
   "metadata": {},
   "source": [
    "### 7.2 Use patsy to create an X matrix of the numeric predictors and all two-way interactions between them\n",
    "\n",
    "Ex:\n",
    "\n",
    "```python\n",
    "import patsy\n",
    "\n",
    "formula_interactions = '~ (var1 + var2 + var3)**2 -1'\n",
    "X_interactions = patsy.dmatrix(formula_interactions, data=data\n",
    "```\n",
    "\n",
    "Get the column names from the `design_info` property of the patsy X matrix.\n",
    "\n",
    "---"
   ]
  },
  {
   "cell_type": "code",
   "execution_count": 40,
   "metadata": {
    "collapsed": true
   },
   "outputs": [],
   "source": [
    "formula_interactions = \"\"\"\n",
    "~ (avglinksize + alchemy_category_score + commonlinkratio_1 + commonlinkratio_2 + commonlinkratio_3 + commonlinkratio_4 + \n",
    "compression_ratio + embed_ratio + frameTagRatio + hasDomainLink + html_ratio + image_ratio + linkwordscore + non_markup_alphanum_characters + \n",
    "numberOfLinks + numwords_in_url + parametrizedLinkRatio + spelling_errors_ratio)**2\n",
    "\"\"\"\n",
    "X_interactions = patsy.dmatrix(formula_interactions, data = su_alch)"
   ]
  },
  {
   "cell_type": "code",
   "execution_count": 41,
   "metadata": {
    "collapsed": false
   },
   "outputs": [
    {
     "data": {
      "text/plain": [
       "DesignInfo(['Intercept',\n",
       "            'avglinksize',\n",
       "            'alchemy_category_score',\n",
       "            'commonlinkratio_1',\n",
       "            'commonlinkratio_2',\n",
       "            'commonlinkratio_3',\n",
       "            'commonlinkratio_4',\n",
       "            'compression_ratio',\n",
       "            'embed_ratio',\n",
       "            'frameTagRatio',\n",
       "            'hasDomainLink',\n",
       "            'html_ratio',\n",
       "            'image_ratio',\n",
       "            'linkwordscore',\n",
       "            'non_markup_alphanum_characters',\n",
       "            'numberOfLinks',\n",
       "            'numwords_in_url',\n",
       "            'parametrizedLinkRatio',\n",
       "            'spelling_errors_ratio',\n",
       "            'avglinksize:alchemy_category_score',\n",
       "            'avglinksize:commonlinkratio_1',\n",
       "            'avglinksize:commonlinkratio_2',\n",
       "            'avglinksize:commonlinkratio_3',\n",
       "            'avglinksize:commonlinkratio_4',\n",
       "            'avglinksize:compression_ratio',\n",
       "            'avglinksize:embed_ratio',\n",
       "            'avglinksize:frameTagRatio',\n",
       "            'avglinksize:hasDomainLink',\n",
       "            'avglinksize:html_ratio',\n",
       "            'avglinksize:image_ratio',\n",
       "            'avglinksize:linkwordscore',\n",
       "            'avglinksize:non_markup_alphanum_characters',\n",
       "            'avglinksize:numberOfLinks',\n",
       "            'avglinksize:numwords_in_url',\n",
       "            'avglinksize:parametrizedLinkRatio',\n",
       "            'avglinksize:spelling_errors_ratio',\n",
       "            'alchemy_category_score:commonlinkratio_1',\n",
       "            'alchemy_category_score:commonlinkratio_2',\n",
       "            'alchemy_category_score:commonlinkratio_3',\n",
       "            'alchemy_category_score:commonlinkratio_4',\n",
       "            'alchemy_category_score:compression_ratio',\n",
       "            'alchemy_category_score:embed_ratio',\n",
       "            'alchemy_category_score:frameTagRatio',\n",
       "            'alchemy_category_score:hasDomainLink',\n",
       "            'alchemy_category_score:html_ratio',\n",
       "            'alchemy_category_score:image_ratio',\n",
       "            'alchemy_category_score:linkwordscore',\n",
       "            'alchemy_category_score:non_markup_alphanum_characters',\n",
       "            'alchemy_category_score:numberOfLinks',\n",
       "            'alchemy_category_score:numwords_in_url',\n",
       "            'alchemy_category_score:parametrizedLinkRatio',\n",
       "            'alchemy_category_score:spelling_errors_ratio',\n",
       "            'commonlinkratio_1:commonlinkratio_2',\n",
       "            'commonlinkratio_1:commonlinkratio_3',\n",
       "            'commonlinkratio_1:commonlinkratio_4',\n",
       "            'commonlinkratio_1:compression_ratio',\n",
       "            'commonlinkratio_1:embed_ratio',\n",
       "            'commonlinkratio_1:frameTagRatio',\n",
       "            'commonlinkratio_1:hasDomainLink',\n",
       "            'commonlinkratio_1:html_ratio',\n",
       "            'commonlinkratio_1:image_ratio',\n",
       "            'commonlinkratio_1:linkwordscore',\n",
       "            'commonlinkratio_1:non_markup_alphanum_characters',\n",
       "            'commonlinkratio_1:numberOfLinks',\n",
       "            'commonlinkratio_1:numwords_in_url',\n",
       "            'commonlinkratio_1:parametrizedLinkRatio',\n",
       "            'commonlinkratio_1:spelling_errors_ratio',\n",
       "            'commonlinkratio_2:commonlinkratio_3',\n",
       "            'commonlinkratio_2:commonlinkratio_4',\n",
       "            'commonlinkratio_2:compression_ratio',\n",
       "            'commonlinkratio_2:embed_ratio',\n",
       "            'commonlinkratio_2:frameTagRatio',\n",
       "            'commonlinkratio_2:hasDomainLink',\n",
       "            'commonlinkratio_2:html_ratio',\n",
       "            'commonlinkratio_2:image_ratio',\n",
       "            'commonlinkratio_2:linkwordscore',\n",
       "            'commonlinkratio_2:non_markup_alphanum_characters',\n",
       "            'commonlinkratio_2:numberOfLinks',\n",
       "            'commonlinkratio_2:numwords_in_url',\n",
       "            'commonlinkratio_2:parametrizedLinkRatio',\n",
       "            'commonlinkratio_2:spelling_errors_ratio',\n",
       "            'commonlinkratio_3:commonlinkratio_4',\n",
       "            'commonlinkratio_3:compression_ratio',\n",
       "            'commonlinkratio_3:embed_ratio',\n",
       "            'commonlinkratio_3:frameTagRatio',\n",
       "            'commonlinkratio_3:hasDomainLink',\n",
       "            'commonlinkratio_3:html_ratio',\n",
       "            'commonlinkratio_3:image_ratio',\n",
       "            'commonlinkratio_3:linkwordscore',\n",
       "            'commonlinkratio_3:non_markup_alphanum_characters',\n",
       "            'commonlinkratio_3:numberOfLinks',\n",
       "            'commonlinkratio_3:numwords_in_url',\n",
       "            'commonlinkratio_3:parametrizedLinkRatio',\n",
       "            'commonlinkratio_3:spelling_errors_ratio',\n",
       "            'commonlinkratio_4:compression_ratio',\n",
       "            'commonlinkratio_4:embed_ratio',\n",
       "            'commonlinkratio_4:frameTagRatio',\n",
       "            'commonlinkratio_4:hasDomainLink',\n",
       "            'commonlinkratio_4:html_ratio',\n",
       "            'commonlinkratio_4:image_ratio',\n",
       "            'commonlinkratio_4:linkwordscore',\n",
       "            'commonlinkratio_4:non_markup_alphanum_characters',\n",
       "            'commonlinkratio_4:numberOfLinks',\n",
       "            'commonlinkratio_4:numwords_in_url',\n",
       "            'commonlinkratio_4:parametrizedLinkRatio',\n",
       "            'commonlinkratio_4:spelling_errors_ratio',\n",
       "            'compression_ratio:embed_ratio',\n",
       "            'compression_ratio:frameTagRatio',\n",
       "            'compression_ratio:hasDomainLink',\n",
       "            'compression_ratio:html_ratio',\n",
       "            'compression_ratio:image_ratio',\n",
       "            'compression_ratio:linkwordscore',\n",
       "            'compression_ratio:non_markup_alphanum_characters',\n",
       "            'compression_ratio:numberOfLinks',\n",
       "            'compression_ratio:numwords_in_url',\n",
       "            'compression_ratio:parametrizedLinkRatio',\n",
       "            'compression_ratio:spelling_errors_ratio',\n",
       "            'embed_ratio:frameTagRatio',\n",
       "            'embed_ratio:hasDomainLink',\n",
       "            'embed_ratio:html_ratio',\n",
       "            'embed_ratio:image_ratio',\n",
       "            'embed_ratio:linkwordscore',\n",
       "            'embed_ratio:non_markup_alphanum_characters',\n",
       "            'embed_ratio:numberOfLinks',\n",
       "            'embed_ratio:numwords_in_url',\n",
       "            'embed_ratio:parametrizedLinkRatio',\n",
       "            'embed_ratio:spelling_errors_ratio',\n",
       "            'frameTagRatio:hasDomainLink',\n",
       "            'frameTagRatio:html_ratio',\n",
       "            'frameTagRatio:image_ratio',\n",
       "            'frameTagRatio:linkwordscore',\n",
       "            'frameTagRatio:non_markup_alphanum_characters',\n",
       "            'frameTagRatio:numberOfLinks',\n",
       "            'frameTagRatio:numwords_in_url',\n",
       "            'frameTagRatio:parametrizedLinkRatio',\n",
       "            'frameTagRatio:spelling_errors_ratio',\n",
       "            'hasDomainLink:html_ratio',\n",
       "            'hasDomainLink:image_ratio',\n",
       "            'hasDomainLink:linkwordscore',\n",
       "            'hasDomainLink:non_markup_alphanum_characters',\n",
       "            'hasDomainLink:numberOfLinks',\n",
       "            'hasDomainLink:numwords_in_url',\n",
       "            'hasDomainLink:parametrizedLinkRatio',\n",
       "            'hasDomainLink:spelling_errors_ratio',\n",
       "            'html_ratio:image_ratio',\n",
       "            'html_ratio:linkwordscore',\n",
       "            'html_ratio:non_markup_alphanum_characters',\n",
       "            'html_ratio:numberOfLinks',\n",
       "            'html_ratio:numwords_in_url',\n",
       "            'html_ratio:parametrizedLinkRatio',\n",
       "            'html_ratio:spelling_errors_ratio',\n",
       "            'image_ratio:linkwordscore',\n",
       "            'image_ratio:non_markup_alphanum_characters',\n",
       "            'image_ratio:numberOfLinks',\n",
       "            'image_ratio:numwords_in_url',\n",
       "            'image_ratio:parametrizedLinkRatio',\n",
       "            'image_ratio:spelling_errors_ratio',\n",
       "            'linkwordscore:non_markup_alphanum_characters',\n",
       "            'linkwordscore:numberOfLinks',\n",
       "            'linkwordscore:numwords_in_url',\n",
       "            'linkwordscore:parametrizedLinkRatio',\n",
       "            'linkwordscore:spelling_errors_ratio',\n",
       "            'non_markup_alphanum_characters:numberOfLinks',\n",
       "            'non_markup_alphanum_characters:numwords_in_url',\n",
       "            'non_markup_alphanum_characters:parametrizedLinkRatio',\n",
       "            'non_markup_alphanum_characters:spelling_errors_ratio',\n",
       "            'numberOfLinks:numwords_in_url',\n",
       "            'numberOfLinks:parametrizedLinkRatio',\n",
       "            'numberOfLinks:spelling_errors_ratio',\n",
       "            'numwords_in_url:parametrizedLinkRatio',\n",
       "            'numwords_in_url:spelling_errors_ratio',\n",
       "            'parametrizedLinkRatio:spelling_errors_ratio'],\n",
       "           factor_infos={EvalFactor('frameTagRatio'): FactorInfo(factor=EvalFactor('frameTagRatio'),\n",
       "                                    type='numerical',\n",
       "                                    state=<factor state>,\n",
       "                                    num_columns=1L),\n",
       "                         EvalFactor('embed_ratio'): FactorInfo(factor=EvalFactor('embed_ratio'),\n",
       "                                    type='numerical',\n",
       "                                    state=<factor state>,\n",
       "                                    num_columns=1L),\n",
       "                         EvalFactor('commonlinkratio_4'): FactorInfo(factor=EvalFactor('commonlinkratio_4'),\n",
       "                                    type='numerical',\n",
       "                                    state=<factor state>,\n",
       "                                    num_columns=1L),\n",
       "                         EvalFactor('compression_ratio'): FactorInfo(factor=EvalFactor('compression_ratio'),\n",
       "                                    type='numerical',\n",
       "                                    state=<factor state>,\n",
       "                                    num_columns=1L),\n",
       "                         EvalFactor('commonlinkratio_1'): FactorInfo(factor=EvalFactor('commonlinkratio_1'),\n",
       "                                    type='numerical',\n",
       "                                    state=<factor state>,\n",
       "                                    num_columns=1L),\n",
       "                         EvalFactor('commonlinkratio_2'): FactorInfo(factor=EvalFactor('commonlinkratio_2'),\n",
       "                                    type='numerical',\n",
       "                                    state=<factor state>,\n",
       "                                    num_columns=1L),\n",
       "                         EvalFactor('commonlinkratio_3'): FactorInfo(factor=EvalFactor('commonlinkratio_3'),\n",
       "                                    type='numerical',\n",
       "                                    state=<factor state>,\n",
       "                                    num_columns=1L),\n",
       "                         EvalFactor('alchemy_category_score'): FactorInfo(factor=EvalFactor('alchemy_category_score'),\n",
       "                                    type='numerical',\n",
       "                                    state=<factor state>,\n",
       "                                    num_columns=1L),\n",
       "                         EvalFactor('avglinksize'): FactorInfo(factor=EvalFactor('avglinksize'),\n",
       "                                    type='numerical',\n",
       "                                    state=<factor state>,\n",
       "                                    num_columns=1L),\n",
       "                         EvalFactor('numwords_in_url'): FactorInfo(factor=EvalFactor('numwords_in_url'),\n",
       "                                    type='numerical',\n",
       "                                    state=<factor state>,\n",
       "                                    num_columns=1L),\n",
       "                         EvalFactor('numberOfLinks'): FactorInfo(factor=EvalFactor('numberOfLinks'),\n",
       "                                    type='numerical',\n",
       "                                    state=<factor state>,\n",
       "                                    num_columns=1L),\n",
       "                         EvalFactor('image_ratio'): FactorInfo(factor=EvalFactor('image_ratio'),\n",
       "                                    type='numerical',\n",
       "                                    state=<factor state>,\n",
       "                                    num_columns=1L),\n",
       "                         EvalFactor('linkwordscore'): FactorInfo(factor=EvalFactor('linkwordscore'),\n",
       "                                    type='numerical',\n",
       "                                    state=<factor state>,\n",
       "                                    num_columns=1L),\n",
       "                         EvalFactor('html_ratio'): FactorInfo(factor=EvalFactor('html_ratio'),\n",
       "                                    type='numerical',\n",
       "                                    state=<factor state>,\n",
       "                                    num_columns=1L),\n",
       "                         EvalFactor('non_markup_alphanum_characters'): FactorInfo(factor=EvalFactor('non_markup_alphanum_characters'),\n",
       "                                    type='numerical',\n",
       "                                    state=<factor state>,\n",
       "                                    num_columns=1L),\n",
       "                         EvalFactor('parametrizedLinkRatio'): FactorInfo(factor=EvalFactor('parametrizedLinkRatio'),\n",
       "                                    type='numerical',\n",
       "                                    state=<factor state>,\n",
       "                                    num_columns=1L),\n",
       "                         EvalFactor('hasDomainLink'): FactorInfo(factor=EvalFactor('hasDomainLink'),\n",
       "                                    type='numerical',\n",
       "                                    state=<factor state>,\n",
       "                                    num_columns=1L),\n",
       "                         EvalFactor('spelling_errors_ratio'): FactorInfo(factor=EvalFactor('spelling_errors_ratio'),\n",
       "                                    type='numerical',\n",
       "                                    state=<factor state>,\n",
       "                                    num_columns=1L)},\n",
       "           term_codings=OrderedDict([(Term([]),\n",
       "                                      [SubtermInfo(factors=(),\n",
       "                                                   contrast_matrices={},\n",
       "                                                   num_columns=1)]),\n",
       "                                     (Term([EvalFactor('avglinksize')]),\n",
       "                                      [SubtermInfo(factors=(EvalFactor('avglinksize'),),\n",
       "                                                   contrast_matrices={},\n",
       "                                                   num_columns=1L)]),\n",
       "                                     (Term([EvalFactor('alchemy_category_score')]),\n",
       "                                      [SubtermInfo(factors=(EvalFactor('alchemy_category_score'),),\n",
       "                                                   contrast_matrices={},\n",
       "                                                   num_columns=1L)]),\n",
       "                                     (Term([EvalFactor('commonlinkratio_1')]),\n",
       "                                      [SubtermInfo(factors=(EvalFactor('commonlinkratio_1'),),\n",
       "                                                   contrast_matrices={},\n",
       "                                                   num_columns=1L)]),\n",
       "                                     (Term([EvalFactor('commonlinkratio_2')]),\n",
       "                                      [SubtermInfo(factors=(EvalFactor('commonlinkratio_2'),),\n",
       "                                                   contrast_matrices={},\n",
       "                                                   num_columns=1L)]),\n",
       "                                     (Term([EvalFactor('commonlinkratio_3')]),\n",
       "                                      [SubtermInfo(factors=(EvalFactor('commonlinkratio_3'),),\n",
       "                                                   contrast_matrices={},\n",
       "                                                   num_columns=1L)]),\n",
       "                                     (Term([EvalFactor('commonlinkratio_4')]),\n",
       "                                      [SubtermInfo(factors=(EvalFactor('commonlinkratio_4'),),\n",
       "                                                   contrast_matrices={},\n",
       "                                                   num_columns=1L)]),\n",
       "                                     (Term([EvalFactor('compression_ratio')]),\n",
       "                                      [SubtermInfo(factors=(EvalFactor('compression_ratio'),),\n",
       "                                                   contrast_matrices={},\n",
       "                                                   num_columns=1L)]),\n",
       "                                     (Term([EvalFactor('embed_ratio')]),\n",
       "                                      [SubtermInfo(factors=(EvalFactor('embed_ratio'),),\n",
       "                                                   contrast_matrices={},\n",
       "                                                   num_columns=1L)]),\n",
       "                                     (Term([EvalFactor('frameTagRatio')]),\n",
       "                                      [SubtermInfo(factors=(EvalFactor('frameTagRatio'),),\n",
       "                                                   contrast_matrices={},\n",
       "                                                   num_columns=1L)]),\n",
       "                                     (Term([EvalFactor('hasDomainLink')]),\n",
       "                                      [SubtermInfo(factors=(EvalFactor('hasDomainLink'),),\n",
       "                                                   contrast_matrices={},\n",
       "                                                   num_columns=1L)]),\n",
       "                                     (Term([EvalFactor('html_ratio')]),\n",
       "                                      [SubtermInfo(factors=(EvalFactor('html_ratio'),),\n",
       "                                                   contrast_matrices={},\n",
       "                                                   num_columns=1L)]),\n",
       "                                     (Term([EvalFactor('image_ratio')]),\n",
       "                                      [SubtermInfo(factors=(EvalFactor('image_ratio'),),\n",
       "                                                   contrast_matrices={},\n",
       "                                                   num_columns=1L)]),\n",
       "                                     (Term([EvalFactor('linkwordscore')]),\n",
       "                                      [SubtermInfo(factors=(EvalFactor('linkwordscore'),),\n",
       "                                                   contrast_matrices={},\n",
       "                                                   num_columns=1L)]),\n",
       "                                     (Term([EvalFactor('non_markup_alphanum_characters')]),\n",
       "                                      [SubtermInfo(factors=(EvalFactor('non_markup_alphanum_characters'),),\n",
       "                                                   contrast_matrices={},\n",
       "                                                   num_columns=1L)]),\n",
       "                                     (Term([EvalFactor('numberOfLinks')]),\n",
       "                                      [SubtermInfo(factors=(EvalFactor('numberOfLinks'),),\n",
       "                                                   contrast_matrices={},\n",
       "                                                   num_columns=1L)]),\n",
       "                                     (Term([EvalFactor('numwords_in_url')]),\n",
       "                                      [SubtermInfo(factors=(EvalFactor('numwords_in_url'),),\n",
       "                                                   contrast_matrices={},\n",
       "                                                   num_columns=1L)]),\n",
       "                                     (Term([EvalFactor('parametrizedLinkRatio')]),\n",
       "                                      [SubtermInfo(factors=(EvalFactor('parametrizedLinkRatio'),),\n",
       "                                                   contrast_matrices={},\n",
       "                                                   num_columns=1L)]),\n",
       "                                     (Term([EvalFactor('spelling_errors_ratio')]),\n",
       "                                      [SubtermInfo(factors=(EvalFactor('spelling_errors_ratio'),),\n",
       "                                                   contrast_matrices={},\n",
       "                                                   num_columns=1L)]),\n",
       "                                     (Term([EvalFactor('avglinksize'),\n",
       "                                            EvalFactor('alchemy_category_score')]),\n",
       "                                      [SubtermInfo(factors=(EvalFactor('avglinksize'),\n",
       "                                                            EvalFactor('alchemy_category_score')),\n",
       "                                                   contrast_matrices={},\n",
       "                                                   num_columns=1L)]),\n",
       "                                     (Term([EvalFactor('avglinksize'),\n",
       "                                            EvalFactor('commonlinkratio_1')]),\n",
       "                                      [SubtermInfo(factors=(EvalFactor('avglinksize'),\n",
       "                                                            EvalFactor('commonlinkratio_1')),\n",
       "                                                   contrast_matrices={},\n",
       "                                                   num_columns=1L)]),\n",
       "                                     (Term([EvalFactor('avglinksize'),\n",
       "                                            EvalFactor('commonlinkratio_2')]),\n",
       "                                      [SubtermInfo(factors=(EvalFactor('avglinksize'),\n",
       "                                                            EvalFactor('commonlinkratio_2')),\n",
       "                                                   contrast_matrices={},\n",
       "                                                   num_columns=1L)]),\n",
       "                                     (Term([EvalFactor('avglinksize'),\n",
       "                                            EvalFactor('commonlinkratio_3')]),\n",
       "                                      [SubtermInfo(factors=(EvalFactor('avglinksize'),\n",
       "                                                            EvalFactor('commonlinkratio_3')),\n",
       "                                                   contrast_matrices={},\n",
       "                                                   num_columns=1L)]),\n",
       "                                     (Term([EvalFactor('avglinksize'),\n",
       "                                            EvalFactor('commonlinkratio_4')]),\n",
       "                                      [SubtermInfo(factors=(EvalFactor('avglinksize'),\n",
       "                                                            EvalFactor('commonlinkratio_4')),\n",
       "                                                   contrast_matrices={},\n",
       "                                                   num_columns=1L)]),\n",
       "                                     (Term([EvalFactor('avglinksize'),\n",
       "                                            EvalFactor('compression_ratio')]),\n",
       "                                      [SubtermInfo(factors=(EvalFactor('avglinksize'),\n",
       "                                                            EvalFactor('compression_ratio')),\n",
       "                                                   contrast_matrices={},\n",
       "                                                   num_columns=1L)]),\n",
       "                                     (Term([EvalFactor('avglinksize'),\n",
       "                                            EvalFactor('embed_ratio')]),\n",
       "                                      [SubtermInfo(factors=(EvalFactor('avglinksize'),\n",
       "                                                            EvalFactor('embed_ratio')),\n",
       "                                                   contrast_matrices={},\n",
       "                                                   num_columns=1L)]),\n",
       "                                     (Term([EvalFactor('avglinksize'),\n",
       "                                            EvalFactor('frameTagRatio')]),\n",
       "                                      [SubtermInfo(factors=(EvalFactor('avglinksize'),\n",
       "                                                            EvalFactor('frameTagRatio')),\n",
       "                                                   contrast_matrices={},\n",
       "                                                   num_columns=1L)]),\n",
       "                                     (Term([EvalFactor('avglinksize'),\n",
       "                                            EvalFactor('hasDomainLink')]),\n",
       "                                      [SubtermInfo(factors=(EvalFactor('avglinksize'),\n",
       "                                                            EvalFactor('hasDomainLink')),\n",
       "                                                   contrast_matrices={},\n",
       "                                                   num_columns=1L)]),\n",
       "                                     (Term([EvalFactor('avglinksize'),\n",
       "                                            EvalFactor('html_ratio')]),\n",
       "                                      [SubtermInfo(factors=(EvalFactor('avglinksize'),\n",
       "                                                            EvalFactor('html_ratio')),\n",
       "                                                   contrast_matrices={},\n",
       "                                                   num_columns=1L)]),\n",
       "                                     (Term([EvalFactor('avglinksize'),\n",
       "                                            EvalFactor('image_ratio')]),\n",
       "                                      [SubtermInfo(factors=(EvalFactor('avglinksize'),\n",
       "                                                            EvalFactor('image_ratio')),\n",
       "                                                   contrast_matrices={},\n",
       "                                                   num_columns=1L)]),\n",
       "                                     (Term([EvalFactor('avglinksize'),\n",
       "                                            EvalFactor('linkwordscore')]),\n",
       "                                      [SubtermInfo(factors=(EvalFactor('avglinksize'),\n",
       "                                                            EvalFactor('linkwordscore')),\n",
       "                                                   contrast_matrices={},\n",
       "                                                   num_columns=1L)]),\n",
       "                                     (Term([EvalFactor('avglinksize'),\n",
       "                                            EvalFactor('non_markup_alphanum_characters')]),\n",
       "                                      [SubtermInfo(factors=(EvalFactor('avglinksize'),\n",
       "                                                            EvalFactor('non_markup_alphanum_characters')),\n",
       "                                                   contrast_matrices={},\n",
       "                                                   num_columns=1L)]),\n",
       "                                     (Term([EvalFactor('avglinksize'),\n",
       "                                            EvalFactor('numberOfLinks')]),\n",
       "                                      [SubtermInfo(factors=(EvalFactor('avglinksize'),\n",
       "                                                            EvalFactor('numberOfLinks')),\n",
       "                                                   contrast_matrices={},\n",
       "                                                   num_columns=1L)]),\n",
       "                                     (Term([EvalFactor('avglinksize'),\n",
       "                                            EvalFactor('numwords_in_url')]),\n",
       "                                      [SubtermInfo(factors=(EvalFactor('avglinksize'),\n",
       "                                                            EvalFactor('numwords_in_url')),\n",
       "                                                   contrast_matrices={},\n",
       "                                                   num_columns=1L)]),\n",
       "                                     (Term([EvalFactor('avglinksize'),\n",
       "                                            EvalFactor('parametrizedLinkRatio')]),\n",
       "                                      [SubtermInfo(factors=(EvalFactor('avglinksize'),\n",
       "                                                            EvalFactor('parametrizedLinkRatio')),\n",
       "                                                   contrast_matrices={},\n",
       "                                                   num_columns=1L)]),\n",
       "                                     (Term([EvalFactor('avglinksize'),\n",
       "                                            EvalFactor('spelling_errors_ratio')]),\n",
       "                                      [SubtermInfo(factors=(EvalFactor('avglinksize'),\n",
       "                                                            EvalFactor('spelling_errors_ratio')),\n",
       "                                                   contrast_matrices={},\n",
       "                                                   num_columns=1L)]),\n",
       "                                     (Term([EvalFactor('alchemy_category_score'),\n",
       "                                            EvalFactor('commonlinkratio_1')]),\n",
       "                                      [SubtermInfo(factors=(EvalFactor('alchemy_category_score'),\n",
       "                                                            EvalFactor('commonlinkratio_1')),\n",
       "                                                   contrast_matrices={},\n",
       "                                                   num_columns=1L)]),\n",
       "                                     (Term([EvalFactor('alchemy_category_score'),\n",
       "                                            EvalFactor('commonlinkratio_2')]),\n",
       "                                      [SubtermInfo(factors=(EvalFactor('alchemy_category_score'),\n",
       "                                                            EvalFactor('commonlinkratio_2')),\n",
       "                                                   contrast_matrices={},\n",
       "                                                   num_columns=1L)]),\n",
       "                                     (Term([EvalFactor('alchemy_category_score'),\n",
       "                                            EvalFactor('commonlinkratio_3')]),\n",
       "                                      [SubtermInfo(factors=(EvalFactor('alchemy_category_score'),\n",
       "                                                            EvalFactor('commonlinkratio_3')),\n",
       "                                                   contrast_matrices={},\n",
       "                                                   num_columns=1L)]),\n",
       "                                     (Term([EvalFactor('alchemy_category_score'),\n",
       "                                            EvalFactor('commonlinkratio_4')]),\n",
       "                                      [SubtermInfo(factors=(EvalFactor('alchemy_category_score'),\n",
       "                                                            EvalFactor('commonlinkratio_4')),\n",
       "                                                   contrast_matrices={},\n",
       "                                                   num_columns=1L)]),\n",
       "                                     (Term([EvalFactor('alchemy_category_score'),\n",
       "                                            EvalFactor('compression_ratio')]),\n",
       "                                      [SubtermInfo(factors=(EvalFactor('alchemy_category_score'),\n",
       "                                                            EvalFactor('compression_ratio')),\n",
       "                                                   contrast_matrices={},\n",
       "                                                   num_columns=1L)]),\n",
       "                                     (Term([EvalFactor('alchemy_category_score'),\n",
       "                                            EvalFactor('embed_ratio')]),\n",
       "                                      [SubtermInfo(factors=(EvalFactor('alchemy_category_score'),\n",
       "                                                            EvalFactor('embed_ratio')),\n",
       "                                                   contrast_matrices={},\n",
       "                                                   num_columns=1L)]),\n",
       "                                     (Term([EvalFactor('alchemy_category_score'),\n",
       "                                            EvalFactor('frameTagRatio')]),\n",
       "                                      [SubtermInfo(factors=(EvalFactor('alchemy_category_score'),\n",
       "                                                            EvalFactor('frameTagRatio')),\n",
       "                                                   contrast_matrices={},\n",
       "                                                   num_columns=1L)]),\n",
       "                                     (Term([EvalFactor('alchemy_category_score'),\n",
       "                                            EvalFactor('hasDomainLink')]),\n",
       "                                      [SubtermInfo(factors=(EvalFactor('alchemy_category_score'),\n",
       "                                                            EvalFactor('hasDomainLink')),\n",
       "                                                   contrast_matrices={},\n",
       "                                                   num_columns=1L)]),\n",
       "                                     (Term([EvalFactor('alchemy_category_score'),\n",
       "                                            EvalFactor('html_ratio')]),\n",
       "                                      [SubtermInfo(factors=(EvalFactor('alchemy_category_score'),\n",
       "                                                            EvalFactor('html_ratio')),\n",
       "                                                   contrast_matrices={},\n",
       "                                                   num_columns=1L)]),\n",
       "                                     (Term([EvalFactor('alchemy_category_score'),\n",
       "                                            EvalFactor('image_ratio')]),\n",
       "                                      [SubtermInfo(factors=(EvalFactor('alchemy_category_score'),\n",
       "                                                            EvalFactor('image_ratio')),\n",
       "                                                   contrast_matrices={},\n",
       "                                                   num_columns=1L)]),\n",
       "                                     (Term([EvalFactor('alchemy_category_score'),\n",
       "                                            EvalFactor('linkwordscore')]),\n",
       "                                      [SubtermInfo(factors=(EvalFactor('alchemy_category_score'),\n",
       "                                                            EvalFactor('linkwordscore')),\n",
       "                                                   contrast_matrices={},\n",
       "                                                   num_columns=1L)]),\n",
       "                                     (Term([EvalFactor('alchemy_category_score'),\n",
       "                                            EvalFactor('non_markup_alphanum_characters')]),\n",
       "                                      [SubtermInfo(factors=(EvalFactor('alchemy_category_score'),\n",
       "                                                            EvalFactor('non_markup_alphanum_characters')),\n",
       "                                                   contrast_matrices={},\n",
       "                                                   num_columns=1L)]),\n",
       "                                     (Term([EvalFactor('alchemy_category_score'),\n",
       "                                            EvalFactor('numberOfLinks')]),\n",
       "                                      [SubtermInfo(factors=(EvalFactor('alchemy_category_score'),\n",
       "                                                            EvalFactor('numberOfLinks')),\n",
       "                                                   contrast_matrices={},\n",
       "                                                   num_columns=1L)]),\n",
       "                                     (Term([EvalFactor('alchemy_category_score'),\n",
       "                                            EvalFactor('numwords_in_url')]),\n",
       "                                      [SubtermInfo(factors=(EvalFactor('alchemy_category_score'),\n",
       "                                                            EvalFactor('numwords_in_url')),\n",
       "                                                   contrast_matrices={},\n",
       "                                                   num_columns=1L)]),\n",
       "                                     (Term([EvalFactor('alchemy_category_score'),\n",
       "                                            EvalFactor('parametrizedLinkRatio')]),\n",
       "                                      [SubtermInfo(factors=(EvalFactor('alchemy_category_score'),\n",
       "                                                            EvalFactor('parametrizedLinkRatio')),\n",
       "                                                   contrast_matrices={},\n",
       "                                                   num_columns=1L)]),\n",
       "                                     (Term([EvalFactor('alchemy_category_score'),\n",
       "                                            EvalFactor('spelling_errors_ratio')]),\n",
       "                                      [SubtermInfo(factors=(EvalFactor('alchemy_category_score'),\n",
       "                                                            EvalFactor('spelling_errors_ratio')),\n",
       "                                                   contrast_matrices={},\n",
       "                                                   num_columns=1L)]),\n",
       "                                     (Term([EvalFactor('commonlinkratio_1'),\n",
       "                                            EvalFactor('commonlinkratio_2')]),\n",
       "                                      [SubtermInfo(factors=(EvalFactor('commonlinkratio_1'),\n",
       "                                                            EvalFactor('commonlinkratio_2')),\n",
       "                                                   contrast_matrices={},\n",
       "                                                   num_columns=1L)]),\n",
       "                                     (Term([EvalFactor('commonlinkratio_1'),\n",
       "                                            EvalFactor('commonlinkratio_3')]),\n",
       "                                      [SubtermInfo(factors=(EvalFactor('commonlinkratio_1'),\n",
       "                                                            EvalFactor('commonlinkratio_3')),\n",
       "                                                   contrast_matrices={},\n",
       "                                                   num_columns=1L)]),\n",
       "                                     (Term([EvalFactor('commonlinkratio_1'),\n",
       "                                            EvalFactor('commonlinkratio_4')]),\n",
       "                                      [SubtermInfo(factors=(EvalFactor('commonlinkratio_1'),\n",
       "                                                            EvalFactor('commonlinkratio_4')),\n",
       "                                                   contrast_matrices={},\n",
       "                                                   num_columns=1L)]),\n",
       "                                     (Term([EvalFactor('commonlinkratio_1'),\n",
       "                                            EvalFactor('compression_ratio')]),\n",
       "                                      [SubtermInfo(factors=(EvalFactor('commonlinkratio_1'),\n",
       "                                                            EvalFactor('compression_ratio')),\n",
       "                                                   contrast_matrices={},\n",
       "                                                   num_columns=1L)]),\n",
       "                                     (Term([EvalFactor('commonlinkratio_1'),\n",
       "                                            EvalFactor('embed_ratio')]),\n",
       "                                      [SubtermInfo(factors=(EvalFactor('commonlinkratio_1'),\n",
       "                                                            EvalFactor('embed_ratio')),\n",
       "                                                   contrast_matrices={},\n",
       "                                                   num_columns=1L)]),\n",
       "                                     (Term([EvalFactor('commonlinkratio_1'),\n",
       "                                            EvalFactor('frameTagRatio')]),\n",
       "                                      [SubtermInfo(factors=(EvalFactor('commonlinkratio_1'),\n",
       "                                                            EvalFactor('frameTagRatio')),\n",
       "                                                   contrast_matrices={},\n",
       "                                                   num_columns=1L)]),\n",
       "                                     (Term([EvalFactor('commonlinkratio_1'),\n",
       "                                            EvalFactor('hasDomainLink')]),\n",
       "                                      [SubtermInfo(factors=(EvalFactor('commonlinkratio_1'),\n",
       "                                                            EvalFactor('hasDomainLink')),\n",
       "                                                   contrast_matrices={},\n",
       "                                                   num_columns=1L)]),\n",
       "                                     (Term([EvalFactor('commonlinkratio_1'),\n",
       "                                            EvalFactor('html_ratio')]),\n",
       "                                      [SubtermInfo(factors=(EvalFactor('commonlinkratio_1'),\n",
       "                                                            EvalFactor('html_ratio')),\n",
       "                                                   contrast_matrices={},\n",
       "                                                   num_columns=1L)]),\n",
       "                                     (Term([EvalFactor('commonlinkratio_1'),\n",
       "                                            EvalFactor('image_ratio')]),\n",
       "                                      [SubtermInfo(factors=(EvalFactor('commonlinkratio_1'),\n",
       "                                                            EvalFactor('image_ratio')),\n",
       "                                                   contrast_matrices={},\n",
       "                                                   num_columns=1L)]),\n",
       "                                     (Term([EvalFactor('commonlinkratio_1'),\n",
       "                                            EvalFactor('linkwordscore')]),\n",
       "                                      [SubtermInfo(factors=(EvalFactor('commonlinkratio_1'),\n",
       "                                                            EvalFactor('linkwordscore')),\n",
       "                                                   contrast_matrices={},\n",
       "                                                   num_columns=1L)]),\n",
       "                                     (Term([EvalFactor('commonlinkratio_1'),\n",
       "                                            EvalFactor('non_markup_alphanum_characters')]),\n",
       "                                      [SubtermInfo(factors=(EvalFactor('commonlinkratio_1'),\n",
       "                                                            EvalFactor('non_markup_alphanum_characters')),\n",
       "                                                   contrast_matrices={},\n",
       "                                                   num_columns=1L)]),\n",
       "                                     (Term([EvalFactor('commonlinkratio_1'),\n",
       "                                            EvalFactor('numberOfLinks')]),\n",
       "                                      [SubtermInfo(factors=(EvalFactor('commonlinkratio_1'),\n",
       "                                                            EvalFactor('numberOfLinks')),\n",
       "                                                   contrast_matrices={},\n",
       "                                                   num_columns=1L)]),\n",
       "                                     (Term([EvalFactor('commonlinkratio_1'),\n",
       "                                            EvalFactor('numwords_in_url')]),\n",
       "                                      [SubtermInfo(factors=(EvalFactor('commonlinkratio_1'),\n",
       "                                                            EvalFactor('numwords_in_url')),\n",
       "                                                   contrast_matrices={},\n",
       "                                                   num_columns=1L)]),\n",
       "                                     (Term([EvalFactor('commonlinkratio_1'),\n",
       "                                            EvalFactor('parametrizedLinkRatio')]),\n",
       "                                      [SubtermInfo(factors=(EvalFactor('commonlinkratio_1'),\n",
       "                                                            EvalFactor('parametrizedLinkRatio')),\n",
       "                                                   contrast_matrices={},\n",
       "                                                   num_columns=1L)]),\n",
       "                                     (Term([EvalFactor('commonlinkratio_1'),\n",
       "                                            EvalFactor('spelling_errors_ratio')]),\n",
       "                                      [SubtermInfo(factors=(EvalFactor('commonlinkratio_1'),\n",
       "                                                            EvalFactor('spelling_errors_ratio')),\n",
       "                                                   contrast_matrices={},\n",
       "                                                   num_columns=1L)]),\n",
       "                                     (Term([EvalFactor('commonlinkratio_2'),\n",
       "                                            EvalFactor('commonlinkratio_3')]),\n",
       "                                      [SubtermInfo(factors=(EvalFactor('commonlinkratio_2'),\n",
       "                                                            EvalFactor('commonlinkratio_3')),\n",
       "                                                   contrast_matrices={},\n",
       "                                                   num_columns=1L)]),\n",
       "                                     (Term([EvalFactor('commonlinkratio_2'),\n",
       "                                            EvalFactor('commonlinkratio_4')]),\n",
       "                                      [SubtermInfo(factors=(EvalFactor('commonlinkratio_2'),\n",
       "                                                            EvalFactor('commonlinkratio_4')),\n",
       "                                                   contrast_matrices={},\n",
       "                                                   num_columns=1L)]),\n",
       "                                     (Term([EvalFactor('commonlinkratio_2'),\n",
       "                                            EvalFactor('compression_ratio')]),\n",
       "                                      [SubtermInfo(factors=(EvalFactor('commonlinkratio_2'),\n",
       "                                                            EvalFactor('compression_ratio')),\n",
       "                                                   contrast_matrices={},\n",
       "                                                   num_columns=1L)]),\n",
       "                                     (Term([EvalFactor('commonlinkratio_2'),\n",
       "                                            EvalFactor('embed_ratio')]),\n",
       "                                      [SubtermInfo(factors=(EvalFactor('commonlinkratio_2'),\n",
       "                                                            EvalFactor('embed_ratio')),\n",
       "                                                   contrast_matrices={},\n",
       "                                                   num_columns=1L)]),\n",
       "                                     (Term([EvalFactor('commonlinkratio_2'),\n",
       "                                            EvalFactor('frameTagRatio')]),\n",
       "                                      [SubtermInfo(factors=(EvalFactor('commonlinkratio_2'),\n",
       "                                                            EvalFactor('frameTagRatio')),\n",
       "                                                   contrast_matrices={},\n",
       "                                                   num_columns=1L)]),\n",
       "                                     (Term([EvalFactor('commonlinkratio_2'),\n",
       "                                            EvalFactor('hasDomainLink')]),\n",
       "                                      [SubtermInfo(factors=(EvalFactor('commonlinkratio_2'),\n",
       "                                                            EvalFactor('hasDomainLink')),\n",
       "                                                   contrast_matrices={},\n",
       "                                                   num_columns=1L)]),\n",
       "                                     (Term([EvalFactor('commonlinkratio_2'),\n",
       "                                            EvalFactor('html_ratio')]),\n",
       "                                      [SubtermInfo(factors=(EvalFactor('commonlinkratio_2'),\n",
       "                                                            EvalFactor('html_ratio')),\n",
       "                                                   contrast_matrices={},\n",
       "                                                   num_columns=1L)]),\n",
       "                                     (Term([EvalFactor('commonlinkratio_2'),\n",
       "                                            EvalFactor('image_ratio')]),\n",
       "                                      [SubtermInfo(factors=(EvalFactor('commonlinkratio_2'),\n",
       "                                                            EvalFactor('image_ratio')),\n",
       "                                                   contrast_matrices={},\n",
       "                                                   num_columns=1L)]),\n",
       "                                     (Term([EvalFactor('commonlinkratio_2'),\n",
       "                                            EvalFactor('linkwordscore')]),\n",
       "                                      [SubtermInfo(factors=(EvalFactor('commonlinkratio_2'),\n",
       "                                                            EvalFactor('linkwordscore')),\n",
       "                                                   contrast_matrices={},\n",
       "                                                   num_columns=1L)]),\n",
       "                                     (Term([EvalFactor('commonlinkratio_2'),\n",
       "                                            EvalFactor('non_markup_alphanum_characters')]),\n",
       "                                      [SubtermInfo(factors=(EvalFactor('commonlinkratio_2'),\n",
       "                                                            EvalFactor('non_markup_alphanum_characters')),\n",
       "                                                   contrast_matrices={},\n",
       "                                                   num_columns=1L)]),\n",
       "                                     (Term([EvalFactor('commonlinkratio_2'),\n",
       "                                            EvalFactor('numberOfLinks')]),\n",
       "                                      [SubtermInfo(factors=(EvalFactor('commonlinkratio_2'),\n",
       "                                                            EvalFactor('numberOfLinks')),\n",
       "                                                   contrast_matrices={},\n",
       "                                                   num_columns=1L)]),\n",
       "                                     (Term([EvalFactor('commonlinkratio_2'),\n",
       "                                            EvalFactor('numwords_in_url')]),\n",
       "                                      [SubtermInfo(factors=(EvalFactor('commonlinkratio_2'),\n",
       "                                                            EvalFactor('numwords_in_url')),\n",
       "                                                   contrast_matrices={},\n",
       "                                                   num_columns=1L)]),\n",
       "                                     (Term([EvalFactor('commonlinkratio_2'),\n",
       "                                            EvalFactor('parametrizedLinkRatio')]),\n",
       "                                      [SubtermInfo(factors=(EvalFactor('commonlinkratio_2'),\n",
       "                                                            EvalFactor('parametrizedLinkRatio')),\n",
       "                                                   contrast_matrices={},\n",
       "                                                   num_columns=1L)]),\n",
       "                                     (Term([EvalFactor('commonlinkratio_2'),\n",
       "                                            EvalFactor('spelling_errors_ratio')]),\n",
       "                                      [SubtermInfo(factors=(EvalFactor('commonlinkratio_2'),\n",
       "                                                            EvalFactor('spelling_errors_ratio')),\n",
       "                                                   contrast_matrices={},\n",
       "                                                   num_columns=1L)]),\n",
       "                                     (Term([EvalFactor('commonlinkratio_3'),\n",
       "                                            EvalFactor('commonlinkratio_4')]),\n",
       "                                      [SubtermInfo(factors=(EvalFactor('commonlinkratio_3'),\n",
       "                                                            EvalFactor('commonlinkratio_4')),\n",
       "                                                   contrast_matrices={},\n",
       "                                                   num_columns=1L)]),\n",
       "                                     (Term([EvalFactor('commonlinkratio_3'),\n",
       "                                            EvalFactor('compression_ratio')]),\n",
       "                                      [SubtermInfo(factors=(EvalFactor('commonlinkratio_3'),\n",
       "                                                            EvalFactor('compression_ratio')),\n",
       "                                                   contrast_matrices={},\n",
       "                                                   num_columns=1L)]),\n",
       "                                     (Term([EvalFactor('commonlinkratio_3'),\n",
       "                                            EvalFactor('embed_ratio')]),\n",
       "                                      [SubtermInfo(factors=(EvalFactor('commonlinkratio_3'),\n",
       "                                                            EvalFactor('embed_ratio')),\n",
       "                                                   contrast_matrices={},\n",
       "                                                   num_columns=1L)]),\n",
       "                                     (Term([EvalFactor('commonlinkratio_3'),\n",
       "                                            EvalFactor('frameTagRatio')]),\n",
       "                                      [SubtermInfo(factors=(EvalFactor('commonlinkratio_3'),\n",
       "                                                            EvalFactor('frameTagRatio')),\n",
       "                                                   contrast_matrices={},\n",
       "                                                   num_columns=1L)]),\n",
       "                                     (Term([EvalFactor('commonlinkratio_3'),\n",
       "                                            EvalFactor('hasDomainLink')]),\n",
       "                                      [SubtermInfo(factors=(EvalFactor('commonlinkratio_3'),\n",
       "                                                            EvalFactor('hasDomainLink')),\n",
       "                                                   contrast_matrices={},\n",
       "                                                   num_columns=1L)]),\n",
       "                                     (Term([EvalFactor('commonlinkratio_3'),\n",
       "                                            EvalFactor('html_ratio')]),\n",
       "                                      [SubtermInfo(factors=(EvalFactor('commonlinkratio_3'),\n",
       "                                                            EvalFactor('html_ratio')),\n",
       "                                                   contrast_matrices={},\n",
       "                                                   num_columns=1L)]),\n",
       "                                     (Term([EvalFactor('commonlinkratio_3'),\n",
       "                                            EvalFactor('image_ratio')]),\n",
       "                                      [SubtermInfo(factors=(EvalFactor('commonlinkratio_3'),\n",
       "                                                            EvalFactor('image_ratio')),\n",
       "                                                   contrast_matrices={},\n",
       "                                                   num_columns=1L)]),\n",
       "                                     (Term([EvalFactor('commonlinkratio_3'),\n",
       "                                            EvalFactor('linkwordscore')]),\n",
       "                                      [SubtermInfo(factors=(EvalFactor('commonlinkratio_3'),\n",
       "                                                            EvalFactor('linkwordscore')),\n",
       "                                                   contrast_matrices={},\n",
       "                                                   num_columns=1L)]),\n",
       "                                     (Term([EvalFactor('commonlinkratio_3'),\n",
       "                                            EvalFactor('non_markup_alphanum_characters')]),\n",
       "                                      [SubtermInfo(factors=(EvalFactor('commonlinkratio_3'),\n",
       "                                                            EvalFactor('non_markup_alphanum_characters')),\n",
       "                                                   contrast_matrices={},\n",
       "                                                   num_columns=1L)]),\n",
       "                                     (Term([EvalFactor('commonlinkratio_3'),\n",
       "                                            EvalFactor('numberOfLinks')]),\n",
       "                                      [SubtermInfo(factors=(EvalFactor('commonlinkratio_3'),\n",
       "                                                            EvalFactor('numberOfLinks')),\n",
       "                                                   contrast_matrices={},\n",
       "                                                   num_columns=1L)]),\n",
       "                                     (Term([EvalFactor('commonlinkratio_3'),\n",
       "                                            EvalFactor('numwords_in_url')]),\n",
       "                                      [SubtermInfo(factors=(EvalFactor('commonlinkratio_3'),\n",
       "                                                            EvalFactor('numwords_in_url')),\n",
       "                                                   contrast_matrices={},\n",
       "                                                   num_columns=1L)]),\n",
       "                                     (Term([EvalFactor('commonlinkratio_3'),\n",
       "                                            EvalFactor('parametrizedLinkRatio')]),\n",
       "                                      [SubtermInfo(factors=(EvalFactor('commonlinkratio_3'),\n",
       "                                                            EvalFactor('parametrizedLinkRatio')),\n",
       "                                                   contrast_matrices={},\n",
       "                                                   num_columns=1L)]),\n",
       "                                     (Term([EvalFactor('commonlinkratio_3'),\n",
       "                                            EvalFactor('spelling_errors_ratio')]),\n",
       "                                      [SubtermInfo(factors=(EvalFactor('commonlinkratio_3'),\n",
       "                                                            EvalFactor('spelling_errors_ratio')),\n",
       "                                                   contrast_matrices={},\n",
       "                                                   num_columns=1L)]),\n",
       "                                     (Term([EvalFactor('commonlinkratio_4'),\n",
       "                                            EvalFactor('compression_ratio')]),\n",
       "                                      [SubtermInfo(factors=(EvalFactor('commonlinkratio_4'),\n",
       "                                                            EvalFactor('compression_ratio')),\n",
       "                                                   contrast_matrices={},\n",
       "                                                   num_columns=1L)]),\n",
       "                                     (Term([EvalFactor('commonlinkratio_4'),\n",
       "                                            EvalFactor('embed_ratio')]),\n",
       "                                      [SubtermInfo(factors=(EvalFactor('commonlinkratio_4'),\n",
       "                                                            EvalFactor('embed_ratio')),\n",
       "                                                   contrast_matrices={},\n",
       "                                                   num_columns=1L)]),\n",
       "                                     (Term([EvalFactor('commonlinkratio_4'),\n",
       "                                            EvalFactor('frameTagRatio')]),\n",
       "                                      [SubtermInfo(factors=(EvalFactor('commonlinkratio_4'),\n",
       "                                                            EvalFactor('frameTagRatio')),\n",
       "                                                   contrast_matrices={},\n",
       "                                                   num_columns=1L)]),\n",
       "                                     (Term([EvalFactor('commonlinkratio_4'),\n",
       "                                            EvalFactor('hasDomainLink')]),\n",
       "                                      [SubtermInfo(factors=(EvalFactor('commonlinkratio_4'),\n",
       "                                                            EvalFactor('hasDomainLink')),\n",
       "                                                   contrast_matrices={},\n",
       "                                                   num_columns=1L)]),\n",
       "                                     (Term([EvalFactor('commonlinkratio_4'),\n",
       "                                            EvalFactor('html_ratio')]),\n",
       "                                      [SubtermInfo(factors=(EvalFactor('commonlinkratio_4'),\n",
       "                                                            EvalFactor('html_ratio')),\n",
       "                                                   contrast_matrices={},\n",
       "                                                   num_columns=1L)]),\n",
       "                                     (Term([EvalFactor('commonlinkratio_4'),\n",
       "                                            EvalFactor('image_ratio')]),\n",
       "                                      [SubtermInfo(factors=(EvalFactor('commonlinkratio_4'),\n",
       "                                                            EvalFactor('image_ratio')),\n",
       "                                                   contrast_matrices={},\n",
       "                                                   num_columns=1L)]),\n",
       "                                     (Term([EvalFactor('commonlinkratio_4'),\n",
       "                                            EvalFactor('linkwordscore')]),\n",
       "                                      [SubtermInfo(factors=(EvalFactor('commonlinkratio_4'),\n",
       "                                                            EvalFactor('linkwordscore')),\n",
       "                                                   contrast_matrices={},\n",
       "                                                   num_columns=1L)]),\n",
       "                                     (Term([EvalFactor('commonlinkratio_4'),\n",
       "                                            EvalFactor('non_markup_alphanum_characters')]),\n",
       "                                      [SubtermInfo(factors=(EvalFactor('commonlinkratio_4'),\n",
       "                                                            EvalFactor('non_markup_alphanum_characters')),\n",
       "                                                   contrast_matrices={},\n",
       "                                                   num_columns=1L)]),\n",
       "                                     (Term([EvalFactor('commonlinkratio_4'),\n",
       "                                            EvalFactor('numberOfLinks')]),\n",
       "                                      [SubtermInfo(factors=(EvalFactor('commonlinkratio_4'),\n",
       "                                                            EvalFactor('numberOfLinks')),\n",
       "                                                   contrast_matrices={},\n",
       "                                                   num_columns=1L)]),\n",
       "                                     (Term([EvalFactor('commonlinkratio_4'),\n",
       "                                            EvalFactor('numwords_in_url')]),\n",
       "                                      [SubtermInfo(factors=(EvalFactor('commonlinkratio_4'),\n",
       "                                                            EvalFactor('numwords_in_url')),\n",
       "                                                   contrast_matrices={},\n",
       "                                                   num_columns=1L)]),\n",
       "                                     (Term([EvalFactor('commonlinkratio_4'),\n",
       "                                            EvalFactor('parametrizedLinkRatio')]),\n",
       "                                      [SubtermInfo(factors=(EvalFactor('commonlinkratio_4'),\n",
       "                                                            EvalFactor('parametrizedLinkRatio')),\n",
       "                                                   contrast_matrices={},\n",
       "                                                   num_columns=1L)]),\n",
       "                                     (Term([EvalFactor('commonlinkratio_4'),\n",
       "                                            EvalFactor('spelling_errors_ratio')]),\n",
       "                                      [SubtermInfo(factors=(EvalFactor('commonlinkratio_4'),\n",
       "                                                            EvalFactor('spelling_errors_ratio')),\n",
       "                                                   contrast_matrices={},\n",
       "                                                   num_columns=1L)]),\n",
       "                                     (Term([EvalFactor('compression_ratio'),\n",
       "                                            EvalFactor('embed_ratio')]),\n",
       "                                      [SubtermInfo(factors=(EvalFactor('compression_ratio'),\n",
       "                                                            EvalFactor('embed_ratio')),\n",
       "                                                   contrast_matrices={},\n",
       "                                                   num_columns=1L)]),\n",
       "                                     (Term([EvalFactor('compression_ratio'),\n",
       "                                            EvalFactor('frameTagRatio')]),\n",
       "                                      [SubtermInfo(factors=(EvalFactor('compression_ratio'),\n",
       "                                                            EvalFactor('frameTagRatio')),\n",
       "                                                   contrast_matrices={},\n",
       "                                                   num_columns=1L)]),\n",
       "                                     (Term([EvalFactor('compression_ratio'),\n",
       "                                            EvalFactor('hasDomainLink')]),\n",
       "                                      [SubtermInfo(factors=(EvalFactor('compression_ratio'),\n",
       "                                                            EvalFactor('hasDomainLink')),\n",
       "                                                   contrast_matrices={},\n",
       "                                                   num_columns=1L)]),\n",
       "                                     (Term([EvalFactor('compression_ratio'),\n",
       "                                            EvalFactor('html_ratio')]),\n",
       "                                      [SubtermInfo(factors=(EvalFactor('compression_ratio'),\n",
       "                                                            EvalFactor('html_ratio')),\n",
       "                                                   contrast_matrices={},\n",
       "                                                   num_columns=1L)]),\n",
       "                                     (Term([EvalFactor('compression_ratio'),\n",
       "                                            EvalFactor('image_ratio')]),\n",
       "                                      [SubtermInfo(factors=(EvalFactor('compression_ratio'),\n",
       "                                                            EvalFactor('image_ratio')),\n",
       "                                                   contrast_matrices={},\n",
       "                                                   num_columns=1L)]),\n",
       "                                     (Term([EvalFactor('compression_ratio'),\n",
       "                                            EvalFactor('linkwordscore')]),\n",
       "                                      [SubtermInfo(factors=(EvalFactor('compression_ratio'),\n",
       "                                                            EvalFactor('linkwordscore')),\n",
       "                                                   contrast_matrices={},\n",
       "                                                   num_columns=1L)]),\n",
       "                                     (Term([EvalFactor('compression_ratio'),\n",
       "                                            EvalFactor('non_markup_alphanum_characters')]),\n",
       "                                      [SubtermInfo(factors=(EvalFactor('compression_ratio'),\n",
       "                                                            EvalFactor('non_markup_alphanum_characters')),\n",
       "                                                   contrast_matrices={},\n",
       "                                                   num_columns=1L)]),\n",
       "                                     (Term([EvalFactor('compression_ratio'),\n",
       "                                            EvalFactor('numberOfLinks')]),\n",
       "                                      [SubtermInfo(factors=(EvalFactor('compression_ratio'),\n",
       "                                                            EvalFactor('numberOfLinks')),\n",
       "                                                   contrast_matrices={},\n",
       "                                                   num_columns=1L)]),\n",
       "                                     (Term([EvalFactor('compression_ratio'),\n",
       "                                            EvalFactor('numwords_in_url')]),\n",
       "                                      [SubtermInfo(factors=(EvalFactor('compression_ratio'),\n",
       "                                                            EvalFactor('numwords_in_url')),\n",
       "                                                   contrast_matrices={},\n",
       "                                                   num_columns=1L)]),\n",
       "                                     (Term([EvalFactor('compression_ratio'),\n",
       "                                            EvalFactor('parametrizedLinkRatio')]),\n",
       "                                      [SubtermInfo(factors=(EvalFactor('compression_ratio'),\n",
       "                                                            EvalFactor('parametrizedLinkRatio')),\n",
       "                                                   contrast_matrices={},\n",
       "                                                   num_columns=1L)]),\n",
       "                                     (Term([EvalFactor('compression_ratio'),\n",
       "                                            EvalFactor('spelling_errors_ratio')]),\n",
       "                                      [SubtermInfo(factors=(EvalFactor('compression_ratio'),\n",
       "                                                            EvalFactor('spelling_errors_ratio')),\n",
       "                                                   contrast_matrices={},\n",
       "                                                   num_columns=1L)]),\n",
       "                                     (Term([EvalFactor('embed_ratio'),\n",
       "                                            EvalFactor('frameTagRatio')]),\n",
       "                                      [SubtermInfo(factors=(EvalFactor('embed_ratio'),\n",
       "                                                            EvalFactor('frameTagRatio')),\n",
       "                                                   contrast_matrices={},\n",
       "                                                   num_columns=1L)]),\n",
       "                                     (Term([EvalFactor('embed_ratio'),\n",
       "                                            EvalFactor('hasDomainLink')]),\n",
       "                                      [SubtermInfo(factors=(EvalFactor('embed_ratio'),\n",
       "                                                            EvalFactor('hasDomainLink')),\n",
       "                                                   contrast_matrices={},\n",
       "                                                   num_columns=1L)]),\n",
       "                                     (Term([EvalFactor('embed_ratio'),\n",
       "                                            EvalFactor('html_ratio')]),\n",
       "                                      [SubtermInfo(factors=(EvalFactor('embed_ratio'),\n",
       "                                                            EvalFactor('html_ratio')),\n",
       "                                                   contrast_matrices={},\n",
       "                                                   num_columns=1L)]),\n",
       "                                     (Term([EvalFactor('embed_ratio'),\n",
       "                                            EvalFactor('image_ratio')]),\n",
       "                                      [SubtermInfo(factors=(EvalFactor('embed_ratio'),\n",
       "                                                            EvalFactor('image_ratio')),\n",
       "                                                   contrast_matrices={},\n",
       "                                                   num_columns=1L)]),\n",
       "                                     (Term([EvalFactor('embed_ratio'),\n",
       "                                            EvalFactor('linkwordscore')]),\n",
       "                                      [SubtermInfo(factors=(EvalFactor('embed_ratio'),\n",
       "                                                            EvalFactor('linkwordscore')),\n",
       "                                                   contrast_matrices={},\n",
       "                                                   num_columns=1L)]),\n",
       "                                     (Term([EvalFactor('embed_ratio'),\n",
       "                                            EvalFactor('non_markup_alphanum_characters')]),\n",
       "                                      [SubtermInfo(factors=(EvalFactor('embed_ratio'),\n",
       "                                                            EvalFactor('non_markup_alphanum_characters')),\n",
       "                                                   contrast_matrices={},\n",
       "                                                   num_columns=1L)]),\n",
       "                                     (Term([EvalFactor('embed_ratio'),\n",
       "                                            EvalFactor('numberOfLinks')]),\n",
       "                                      [SubtermInfo(factors=(EvalFactor('embed_ratio'),\n",
       "                                                            EvalFactor('numberOfLinks')),\n",
       "                                                   contrast_matrices={},\n",
       "                                                   num_columns=1L)]),\n",
       "                                     (Term([EvalFactor('embed_ratio'),\n",
       "                                            EvalFactor('numwords_in_url')]),\n",
       "                                      [SubtermInfo(factors=(EvalFactor('embed_ratio'),\n",
       "                                                            EvalFactor('numwords_in_url')),\n",
       "                                                   contrast_matrices={},\n",
       "                                                   num_columns=1L)]),\n",
       "                                     (Term([EvalFactor('embed_ratio'),\n",
       "                                            EvalFactor('parametrizedLinkRatio')]),\n",
       "                                      [SubtermInfo(factors=(EvalFactor('embed_ratio'),\n",
       "                                                            EvalFactor('parametrizedLinkRatio')),\n",
       "                                                   contrast_matrices={},\n",
       "                                                   num_columns=1L)]),\n",
       "                                     (Term([EvalFactor('embed_ratio'),\n",
       "                                            EvalFactor('spelling_errors_ratio')]),\n",
       "                                      [SubtermInfo(factors=(EvalFactor('embed_ratio'),\n",
       "                                                            EvalFactor('spelling_errors_ratio')),\n",
       "                                                   contrast_matrices={},\n",
       "                                                   num_columns=1L)]),\n",
       "                                     (Term([EvalFactor('frameTagRatio'),\n",
       "                                            EvalFactor('hasDomainLink')]),\n",
       "                                      [SubtermInfo(factors=(EvalFactor('frameTagRatio'),\n",
       "                                                            EvalFactor('hasDomainLink')),\n",
       "                                                   contrast_matrices={},\n",
       "                                                   num_columns=1L)]),\n",
       "                                     (Term([EvalFactor('frameTagRatio'),\n",
       "                                            EvalFactor('html_ratio')]),\n",
       "                                      [SubtermInfo(factors=(EvalFactor('frameTagRatio'),\n",
       "                                                            EvalFactor('html_ratio')),\n",
       "                                                   contrast_matrices={},\n",
       "                                                   num_columns=1L)]),\n",
       "                                     (Term([EvalFactor('frameTagRatio'),\n",
       "                                            EvalFactor('image_ratio')]),\n",
       "                                      [SubtermInfo(factors=(EvalFactor('frameTagRatio'),\n",
       "                                                            EvalFactor('image_ratio')),\n",
       "                                                   contrast_matrices={},\n",
       "                                                   num_columns=1L)]),\n",
       "                                     (Term([EvalFactor('frameTagRatio'),\n",
       "                                            EvalFactor('linkwordscore')]),\n",
       "                                      [SubtermInfo(factors=(EvalFactor('frameTagRatio'),\n",
       "                                                            EvalFactor('linkwordscore')),\n",
       "                                                   contrast_matrices={},\n",
       "                                                   num_columns=1L)]),\n",
       "                                     (Term([EvalFactor('frameTagRatio'),\n",
       "                                            EvalFactor('non_markup_alphanum_characters')]),\n",
       "                                      [SubtermInfo(factors=(EvalFactor('frameTagRatio'),\n",
       "                                                            EvalFactor('non_markup_alphanum_characters')),\n",
       "                                                   contrast_matrices={},\n",
       "                                                   num_columns=1L)]),\n",
       "                                     (Term([EvalFactor('frameTagRatio'),\n",
       "                                            EvalFactor('numberOfLinks')]),\n",
       "                                      [SubtermInfo(factors=(EvalFactor('frameTagRatio'),\n",
       "                                                            EvalFactor('numberOfLinks')),\n",
       "                                                   contrast_matrices={},\n",
       "                                                   num_columns=1L)]),\n",
       "                                     (Term([EvalFactor('frameTagRatio'),\n",
       "                                            EvalFactor('numwords_in_url')]),\n",
       "                                      [SubtermInfo(factors=(EvalFactor('frameTagRatio'),\n",
       "                                                            EvalFactor('numwords_in_url')),\n",
       "                                                   contrast_matrices={},\n",
       "                                                   num_columns=1L)]),\n",
       "                                     (Term([EvalFactor('frameTagRatio'),\n",
       "                                            EvalFactor('parametrizedLinkRatio')]),\n",
       "                                      [SubtermInfo(factors=(EvalFactor('frameTagRatio'),\n",
       "                                                            EvalFactor('parametrizedLinkRatio')),\n",
       "                                                   contrast_matrices={},\n",
       "                                                   num_columns=1L)]),\n",
       "                                     (Term([EvalFactor('frameTagRatio'),\n",
       "                                            EvalFactor('spelling_errors_ratio')]),\n",
       "                                      [SubtermInfo(factors=(EvalFactor('frameTagRatio'),\n",
       "                                                            EvalFactor('spelling_errors_ratio')),\n",
       "                                                   contrast_matrices={},\n",
       "                                                   num_columns=1L)]),\n",
       "                                     (Term([EvalFactor('hasDomainLink'),\n",
       "                                            EvalFactor('html_ratio')]),\n",
       "                                      [SubtermInfo(factors=(EvalFactor('hasDomainLink'),\n",
       "                                                            EvalFactor('html_ratio')),\n",
       "                                                   contrast_matrices={},\n",
       "                                                   num_columns=1L)]),\n",
       "                                     (Term([EvalFactor('hasDomainLink'),\n",
       "                                            EvalFactor('image_ratio')]),\n",
       "                                      [SubtermInfo(factors=(EvalFactor('hasDomainLink'),\n",
       "                                                            EvalFactor('image_ratio')),\n",
       "                                                   contrast_matrices={},\n",
       "                                                   num_columns=1L)]),\n",
       "                                     (Term([EvalFactor('hasDomainLink'),\n",
       "                                            EvalFactor('linkwordscore')]),\n",
       "                                      [SubtermInfo(factors=(EvalFactor('hasDomainLink'),\n",
       "                                                            EvalFactor('linkwordscore')),\n",
       "                                                   contrast_matrices={},\n",
       "                                                   num_columns=1L)]),\n",
       "                                     (Term([EvalFactor('hasDomainLink'),\n",
       "                                            EvalFactor('non_markup_alphanum_characters')]),\n",
       "                                      [SubtermInfo(factors=(EvalFactor('hasDomainLink'),\n",
       "                                                            EvalFactor('non_markup_alphanum_characters')),\n",
       "                                                   contrast_matrices={},\n",
       "                                                   num_columns=1L)]),\n",
       "                                     (Term([EvalFactor('hasDomainLink'),\n",
       "                                            EvalFactor('numberOfLinks')]),\n",
       "                                      [SubtermInfo(factors=(EvalFactor('hasDomainLink'),\n",
       "                                                            EvalFactor('numberOfLinks')),\n",
       "                                                   contrast_matrices={},\n",
       "                                                   num_columns=1L)]),\n",
       "                                     (Term([EvalFactor('hasDomainLink'),\n",
       "                                            EvalFactor('numwords_in_url')]),\n",
       "                                      [SubtermInfo(factors=(EvalFactor('hasDomainLink'),\n",
       "                                                            EvalFactor('numwords_in_url')),\n",
       "                                                   contrast_matrices={},\n",
       "                                                   num_columns=1L)]),\n",
       "                                     (Term([EvalFactor('hasDomainLink'),\n",
       "                                            EvalFactor('parametrizedLinkRatio')]),\n",
       "                                      [SubtermInfo(factors=(EvalFactor('hasDomainLink'),\n",
       "                                                            EvalFactor('parametrizedLinkRatio')),\n",
       "                                                   contrast_matrices={},\n",
       "                                                   num_columns=1L)]),\n",
       "                                     (Term([EvalFactor('hasDomainLink'),\n",
       "                                            EvalFactor('spelling_errors_ratio')]),\n",
       "                                      [SubtermInfo(factors=(EvalFactor('hasDomainLink'),\n",
       "                                                            EvalFactor('spelling_errors_ratio')),\n",
       "                                                   contrast_matrices={},\n",
       "                                                   num_columns=1L)]),\n",
       "                                     (Term([EvalFactor('html_ratio'),\n",
       "                                            EvalFactor('image_ratio')]),\n",
       "                                      [SubtermInfo(factors=(EvalFactor('html_ratio'),\n",
       "                                                            EvalFactor('image_ratio')),\n",
       "                                                   contrast_matrices={},\n",
       "                                                   num_columns=1L)]),\n",
       "                                     (Term([EvalFactor('html_ratio'),\n",
       "                                            EvalFactor('linkwordscore')]),\n",
       "                                      [SubtermInfo(factors=(EvalFactor('html_ratio'),\n",
       "                                                            EvalFactor('linkwordscore')),\n",
       "                                                   contrast_matrices={},\n",
       "                                                   num_columns=1L)]),\n",
       "                                     (Term([EvalFactor('html_ratio'),\n",
       "                                            EvalFactor('non_markup_alphanum_characters')]),\n",
       "                                      [SubtermInfo(factors=(EvalFactor('html_ratio'),\n",
       "                                                            EvalFactor('non_markup_alphanum_characters')),\n",
       "                                                   contrast_matrices={},\n",
       "                                                   num_columns=1L)]),\n",
       "                                     (Term([EvalFactor('html_ratio'),\n",
       "                                            EvalFactor('numberOfLinks')]),\n",
       "                                      [SubtermInfo(factors=(EvalFactor('html_ratio'),\n",
       "                                                            EvalFactor('numberOfLinks')),\n",
       "                                                   contrast_matrices={},\n",
       "                                                   num_columns=1L)]),\n",
       "                                     (Term([EvalFactor('html_ratio'),\n",
       "                                            EvalFactor('numwords_in_url')]),\n",
       "                                      [SubtermInfo(factors=(EvalFactor('html_ratio'),\n",
       "                                                            EvalFactor('numwords_in_url')),\n",
       "                                                   contrast_matrices={},\n",
       "                                                   num_columns=1L)]),\n",
       "                                     (Term([EvalFactor('html_ratio'),\n",
       "                                            EvalFactor('parametrizedLinkRatio')]),\n",
       "                                      [SubtermInfo(factors=(EvalFactor('html_ratio'),\n",
       "                                                            EvalFactor('parametrizedLinkRatio')),\n",
       "                                                   contrast_matrices={},\n",
       "                                                   num_columns=1L)]),\n",
       "                                     (Term([EvalFactor('html_ratio'),\n",
       "                                            EvalFactor('spelling_errors_ratio')]),\n",
       "                                      [SubtermInfo(factors=(EvalFactor('html_ratio'),\n",
       "                                                            EvalFactor('spelling_errors_ratio')),\n",
       "                                                   contrast_matrices={},\n",
       "                                                   num_columns=1L)]),\n",
       "                                     (Term([EvalFactor('image_ratio'),\n",
       "                                            EvalFactor('linkwordscore')]),\n",
       "                                      [SubtermInfo(factors=(EvalFactor('image_ratio'),\n",
       "                                                            EvalFactor('linkwordscore')),\n",
       "                                                   contrast_matrices={},\n",
       "                                                   num_columns=1L)]),\n",
       "                                     (Term([EvalFactor('image_ratio'),\n",
       "                                            EvalFactor('non_markup_alphanum_characters')]),\n",
       "                                      [SubtermInfo(factors=(EvalFactor('image_ratio'),\n",
       "                                                            EvalFactor('non_markup_alphanum_characters')),\n",
       "                                                   contrast_matrices={},\n",
       "                                                   num_columns=1L)]),\n",
       "                                     (Term([EvalFactor('image_ratio'),\n",
       "                                            EvalFactor('numberOfLinks')]),\n",
       "                                      [SubtermInfo(factors=(EvalFactor('image_ratio'),\n",
       "                                                            EvalFactor('numberOfLinks')),\n",
       "                                                   contrast_matrices={},\n",
       "                                                   num_columns=1L)]),\n",
       "                                     (Term([EvalFactor('image_ratio'),\n",
       "                                            EvalFactor('numwords_in_url')]),\n",
       "                                      [SubtermInfo(factors=(EvalFactor('image_ratio'),\n",
       "                                                            EvalFactor('numwords_in_url')),\n",
       "                                                   contrast_matrices={},\n",
       "                                                   num_columns=1L)]),\n",
       "                                     (Term([EvalFactor('image_ratio'),\n",
       "                                            EvalFactor('parametrizedLinkRatio')]),\n",
       "                                      [SubtermInfo(factors=(EvalFactor('image_ratio'),\n",
       "                                                            EvalFactor('parametrizedLinkRatio')),\n",
       "                                                   contrast_matrices={},\n",
       "                                                   num_columns=1L)]),\n",
       "                                     (Term([EvalFactor('image_ratio'),\n",
       "                                            EvalFactor('spelling_errors_ratio')]),\n",
       "                                      [SubtermInfo(factors=(EvalFactor('image_ratio'),\n",
       "                                                            EvalFactor('spelling_errors_ratio')),\n",
       "                                                   contrast_matrices={},\n",
       "                                                   num_columns=1L)]),\n",
       "                                     (Term([EvalFactor('linkwordscore'),\n",
       "                                            EvalFactor('non_markup_alphanum_characters')]),\n",
       "                                      [SubtermInfo(factors=(EvalFactor('linkwordscore'),\n",
       "                                                            EvalFactor('non_markup_alphanum_characters')),\n",
       "                                                   contrast_matrices={},\n",
       "                                                   num_columns=1L)]),\n",
       "                                     (Term([EvalFactor('linkwordscore'),\n",
       "                                            EvalFactor('numberOfLinks')]),\n",
       "                                      [SubtermInfo(factors=(EvalFactor('linkwordscore'),\n",
       "                                                            EvalFactor('numberOfLinks')),\n",
       "                                                   contrast_matrices={},\n",
       "                                                   num_columns=1L)]),\n",
       "                                     (Term([EvalFactor('linkwordscore'),\n",
       "                                            EvalFactor('numwords_in_url')]),\n",
       "                                      [SubtermInfo(factors=(EvalFactor('linkwordscore'),\n",
       "                                                            EvalFactor('numwords_in_url')),\n",
       "                                                   contrast_matrices={},\n",
       "                                                   num_columns=1L)]),\n",
       "                                     (Term([EvalFactor('linkwordscore'),\n",
       "                                            EvalFactor('parametrizedLinkRatio')]),\n",
       "                                      [SubtermInfo(factors=(EvalFactor('linkwordscore'),\n",
       "                                                            EvalFactor('parametrizedLinkRatio')),\n",
       "                                                   contrast_matrices={},\n",
       "                                                   num_columns=1L)]),\n",
       "                                     (Term([EvalFactor('linkwordscore'),\n",
       "                                            EvalFactor('spelling_errors_ratio')]),\n",
       "                                      [SubtermInfo(factors=(EvalFactor('linkwordscore'),\n",
       "                                                            EvalFactor('spelling_errors_ratio')),\n",
       "                                                   contrast_matrices={},\n",
       "                                                   num_columns=1L)]),\n",
       "                                     (Term([EvalFactor('non_markup_alphanum_characters'),\n",
       "                                            EvalFactor('numberOfLinks')]),\n",
       "                                      [SubtermInfo(factors=(EvalFactor('non_markup_alphanum_characters'),\n",
       "                                                            EvalFactor('numberOfLinks')),\n",
       "                                                   contrast_matrices={},\n",
       "                                                   num_columns=1L)]),\n",
       "                                     (Term([EvalFactor('non_markup_alphanum_characters'),\n",
       "                                            EvalFactor('numwords_in_url')]),\n",
       "                                      [SubtermInfo(factors=(EvalFactor('non_markup_alphanum_characters'),\n",
       "                                                            EvalFactor('numwords_in_url')),\n",
       "                                                   contrast_matrices={},\n",
       "                                                   num_columns=1L)]),\n",
       "                                     (Term([EvalFactor('non_markup_alphanum_characters'),\n",
       "                                            EvalFactor('parametrizedLinkRatio')]),\n",
       "                                      [SubtermInfo(factors=(EvalFactor('non_markup_alphanum_characters'),\n",
       "                                                            EvalFactor('parametrizedLinkRatio')),\n",
       "                                                   contrast_matrices={},\n",
       "                                                   num_columns=1L)]),\n",
       "                                     (Term([EvalFactor('non_markup_alphanum_characters'),\n",
       "                                            EvalFactor('spelling_errors_ratio')]),\n",
       "                                      [SubtermInfo(factors=(EvalFactor('non_markup_alphanum_characters'),\n",
       "                                                            EvalFactor('spelling_errors_ratio')),\n",
       "                                                   contrast_matrices={},\n",
       "                                                   num_columns=1L)]),\n",
       "                                     (Term([EvalFactor('numberOfLinks'),\n",
       "                                            EvalFactor('numwords_in_url')]),\n",
       "                                      [SubtermInfo(factors=(EvalFactor('numberOfLinks'),\n",
       "                                                            EvalFactor('numwords_in_url')),\n",
       "                                                   contrast_matrices={},\n",
       "                                                   num_columns=1L)]),\n",
       "                                     (Term([EvalFactor('numberOfLinks'),\n",
       "                                            EvalFactor('parametrizedLinkRatio')]),\n",
       "                                      [SubtermInfo(factors=(EvalFactor('numberOfLinks'),\n",
       "                                                            EvalFactor('parametrizedLinkRatio')),\n",
       "                                                   contrast_matrices={},\n",
       "                                                   num_columns=1L)]),\n",
       "                                     (Term([EvalFactor('numberOfLinks'),\n",
       "                                            EvalFactor('spelling_errors_ratio')]),\n",
       "                                      [SubtermInfo(factors=(EvalFactor('numberOfLinks'),\n",
       "                                                            EvalFactor('spelling_errors_ratio')),\n",
       "                                                   contrast_matrices={},\n",
       "                                                   num_columns=1L)]),\n",
       "                                     (Term([EvalFactor('numwords_in_url'),\n",
       "                                            EvalFactor('parametrizedLinkRatio')]),\n",
       "                                      [SubtermInfo(factors=(EvalFactor('numwords_in_url'),\n",
       "                                                            EvalFactor('parametrizedLinkRatio')),\n",
       "                                                   contrast_matrices={},\n",
       "                                                   num_columns=1L)]),\n",
       "                                     (Term([EvalFactor('numwords_in_url'),\n",
       "                                            EvalFactor('spelling_errors_ratio')]),\n",
       "                                      [SubtermInfo(factors=(EvalFactor('numwords_in_url'),\n",
       "                                                            EvalFactor('spelling_errors_ratio')),\n",
       "                                                   contrast_matrices={},\n",
       "                                                   num_columns=1L)]),\n",
       "                                     (Term([EvalFactor('parametrizedLinkRatio'),\n",
       "                                            EvalFactor('spelling_errors_ratio')]),\n",
       "                                      [SubtermInfo(factors=(EvalFactor('parametrizedLinkRatio'),\n",
       "                                                            EvalFactor('spelling_errors_ratio')),\n",
       "                                                   contrast_matrices={},\n",
       "                                                   num_columns=1L)])]))"
      ]
     },
     "execution_count": 41,
     "metadata": {},
     "output_type": "execute_result"
    }
   ],
   "source": [
    "X_interactions.design_info"
   ]
  },
  {
   "cell_type": "markdown",
   "metadata": {},
   "source": [
    "### 7.3 Normalize the predictor matrix columns\n",
    "\n",
    "---"
   ]
  },
  {
   "cell_type": "code",
   "execution_count": 42,
   "metadata": {
    "collapsed": true
   },
   "outputs": [],
   "source": [
    "X_alch = standard_scaler.fit_transform(X_interactions)"
   ]
  },
  {
   "cell_type": "code",
   "execution_count": 43,
   "metadata": {
    "collapsed": false
   },
   "outputs": [
    {
     "data": {
      "text/plain": [
       "array([[ 0.        , -0.0874052 ,  0.87292916, ...,  0.39900846,\n",
       "         0.40483419, -0.18845354],\n",
       "       [ 0.        ,  0.07266537, -0.13713086, ...,  0.80765693,\n",
       "         1.67538071,  0.24073594],\n",
       "       [ 0.        , -0.05511037,  1.84733377, ...,  1.00262954,\n",
       "         0.40664847, -0.28866901],\n",
       "       ..., \n",
       "       [ 0.        , -0.0723594 , -2.16786439, ..., -0.73292662,\n",
       "        -0.09525743, -0.58583646],\n",
       "       [ 0.        , -0.09288643, -1.91249751, ...,  1.33692467,\n",
       "         0.29007081,  1.37417839],\n",
       "       [ 0.        , -0.18895223,  0.06832124, ..., -0.81211549,\n",
       "        -1.21675751, -0.32195151]])"
      ]
     },
     "execution_count": 43,
     "metadata": {},
     "output_type": "execute_result"
    }
   ],
   "source": [
    "X_alch"
   ]
  },
  {
   "cell_type": "code",
   "execution_count": 44,
   "metadata": {
    "collapsed": false
   },
   "outputs": [
    {
     "data": {
      "text/plain": [
       "0.8167415851377422"
      ]
     },
     "execution_count": 44,
     "metadata": {},
     "output_type": "execute_result"
    }
   ],
   "source": [
    "np.mean(cross_val_score(logmodel, X_alch, Y_alch, cv=5))"
   ]
  },
  {
   "cell_type": "markdown",
   "metadata": {},
   "source": [
    "### 7.4 Gridsearch a logistic regression to predict accuracy on your new target from the interaction predictors\n",
    "\n",
    "Include Ridge and Lasso.\n",
    "\n",
    "---"
   ]
  },
  {
   "cell_type": "code",
   "execution_count": 45,
   "metadata": {
    "collapsed": true
   },
   "outputs": [],
   "source": [
    "# Even more parameters!\n",
    "\n",
    "Cs = 1./np.logspace(0.0, 4.0, 20)\n",
    "\n",
    "search_parameters_alch = {\n",
    "    \"penalty\":             ['l1','l2'],   \n",
    "    \"C\":                   Cs,  \n",
    "    \"class_weight\":        [None, \"balanced\"], \n",
    "    'solver':              ['liblinear']\n",
    "}\n",
    "\n",
    "est_alch = GridSearchCV(logmodel, search_parameters_alch)"
   ]
  },
  {
   "cell_type": "code",
   "execution_count": 46,
   "metadata": {
    "collapsed": false
   },
   "outputs": [],
   "source": [
    "grid_alch = est_alch.fit(X_alch, Y_alch)"
   ]
  },
  {
   "cell_type": "code",
   "execution_count": 47,
   "metadata": {
    "collapsed": false
   },
   "outputs": [
    {
     "data": {
      "text/plain": [
       "[mean: 0.81694, std: 0.00205, params: {'penalty': 'l1', 'C': 1.0, 'solver': 'liblinear', 'class_weight': None},\n",
       " mean: 0.81615, std: 0.00200, params: {'penalty': 'l2', 'C': 1.0, 'solver': 'liblinear', 'class_weight': None},\n",
       " mean: 0.57035, std: 0.01303, params: {'penalty': 'l1', 'C': 1.0, 'solver': 'liblinear', 'class_weight': 'balanced'},\n",
       " mean: 0.57115, std: 0.00749, params: {'penalty': 'l2', 'C': 1.0, 'solver': 'liblinear', 'class_weight': 'balanced'},\n",
       " mean: 0.81912, std: 0.00102, params: {'penalty': 'l1', 'C': 0.61584821106602639, 'solver': 'liblinear', 'class_weight': None},\n",
       " mean: 0.81635, std: 0.00253, params: {'penalty': 'l2', 'C': 0.61584821106602639, 'solver': 'liblinear', 'class_weight': None},\n",
       " mean: 0.56778, std: 0.01296, params: {'penalty': 'l1', 'C': 0.61584821106602639, 'solver': 'liblinear', 'class_weight': 'balanced'},\n",
       " mean: 0.56719, std: 0.00848, params: {'penalty': 'l2', 'C': 0.61584821106602639, 'solver': 'liblinear', 'class_weight': 'balanced'},\n",
       " mean: 0.82169, std: 0.00075, params: {'penalty': 'l1', 'C': 0.37926901907322502, 'solver': 'liblinear', 'class_weight': None},\n",
       " mean: 0.81694, std: 0.00115, params: {'penalty': 'l2', 'C': 0.37926901907322502, 'solver': 'liblinear', 'class_weight': None},\n",
       " mean: 0.56145, std: 0.00988, params: {'penalty': 'l1', 'C': 0.37926901907322502, 'solver': 'liblinear', 'class_weight': 'balanced'},\n",
       " mean: 0.56541, std: 0.01102, params: {'penalty': 'l2', 'C': 0.37926901907322502, 'solver': 'liblinear', 'class_weight': 'balanced'},\n",
       " mean: 0.82308, std: 0.00044, params: {'penalty': 'l1', 'C': 0.23357214690901226, 'solver': 'liblinear', 'class_weight': None},\n",
       " mean: 0.81753, std: 0.00158, params: {'penalty': 'l2', 'C': 0.23357214690901226, 'solver': 'liblinear', 'class_weight': None},\n",
       " mean: 0.55413, std: 0.00959, params: {'penalty': 'l1', 'C': 0.23357214690901226, 'solver': 'liblinear', 'class_weight': 'balanced'},\n",
       " mean: 0.56778, std: 0.01357, params: {'penalty': 'l2', 'C': 0.23357214690901226, 'solver': 'liblinear', 'class_weight': 'balanced'},\n",
       " mean: 0.82406, std: 0.00107, params: {'penalty': 'l1', 'C': 0.14384498882876628, 'solver': 'liblinear', 'class_weight': None},\n",
       " mean: 0.81852, std: 0.00143, params: {'penalty': 'l2', 'C': 0.14384498882876628, 'solver': 'liblinear', 'class_weight': None},\n",
       " mean: 0.54344, std: 0.00968, params: {'penalty': 'l1', 'C': 0.14384498882876628, 'solver': 'liblinear', 'class_weight': 'balanced'},\n",
       " mean: 0.56481, std: 0.01395, params: {'penalty': 'l2', 'C': 0.14384498882876628, 'solver': 'liblinear', 'class_weight': 'balanced'},\n",
       " mean: 0.82426, std: 0.00044, params: {'penalty': 'l1', 'C': 0.088586679041008282, 'solver': 'liblinear', 'class_weight': None},\n",
       " mean: 0.81951, std: 0.00093, params: {'penalty': 'l2', 'C': 0.088586679041008282, 'solver': 'liblinear', 'class_weight': None},\n",
       " mean: 0.52385, std: 0.00060, params: {'penalty': 'l1', 'C': 0.088586679041008282, 'solver': 'liblinear', 'class_weight': 'balanced'},\n",
       " mean: 0.56343, std: 0.00850, params: {'penalty': 'l2', 'C': 0.088586679041008282, 'solver': 'liblinear', 'class_weight': 'balanced'},\n",
       " mean: 0.82545, std: 0.00044, params: {'penalty': 'l1', 'C': 0.054555947811685199, 'solver': 'liblinear', 'class_weight': None},\n",
       " mean: 0.82030, std: 0.00051, params: {'penalty': 'l2', 'C': 0.054555947811685199, 'solver': 'liblinear', 'class_weight': None},\n",
       " mean: 0.50485, std: 0.00459, params: {'penalty': 'l1', 'C': 0.054555947811685199, 'solver': 'liblinear', 'class_weight': 'balanced'},\n",
       " mean: 0.55888, std: 0.00871, params: {'penalty': 'l2', 'C': 0.054555947811685199, 'solver': 'liblinear', 'class_weight': 'balanced'},\n",
       " mean: 0.82565, std: 0.00026, params: {'penalty': 'l1', 'C': 0.033598182862837826, 'solver': 'liblinear', 'class_weight': None},\n",
       " mean: 0.82070, std: 0.00044, params: {'penalty': 'l2', 'C': 0.033598182862837826, 'solver': 'liblinear', 'class_weight': None},\n",
       " mean: 0.47398, std: 0.00335, params: {'penalty': 'l1', 'C': 0.033598182862837826, 'solver': 'liblinear', 'class_weight': 'balanced'},\n",
       " mean: 0.55413, std: 0.00510, params: {'penalty': 'l2', 'C': 0.033598182862837826, 'solver': 'liblinear', 'class_weight': 'balanced'},\n",
       " mean: 0.82585, std: 0.00023, params: {'penalty': 'l1', 'C': 0.020691380811147901, 'solver': 'liblinear', 'class_weight': None},\n",
       " mean: 0.82189, std: 0.00044, params: {'penalty': 'l2', 'C': 0.020691380811147901, 'solver': 'liblinear', 'class_weight': None},\n",
       " mean: 0.45696, std: 0.01183, params: {'penalty': 'l1', 'C': 0.020691380811147901, 'solver': 'liblinear', 'class_weight': 'balanced'},\n",
       " mean: 0.54502, std: 0.00808, params: {'penalty': 'l2', 'C': 0.020691380811147901, 'solver': 'liblinear', 'class_weight': 'balanced'},\n",
       " mean: 0.82585, std: 0.00023, params: {'penalty': 'l1', 'C': 0.012742749857031341, 'solver': 'liblinear', 'class_weight': None},\n",
       " mean: 0.82268, std: 0.00051, params: {'penalty': 'l2', 'C': 0.012742749857031341, 'solver': 'liblinear', 'class_weight': None},\n",
       " mean: 0.44805, std: 0.01886, params: {'penalty': 'l1', 'C': 0.012742749857031341, 'solver': 'liblinear', 'class_weight': 'balanced'},\n",
       " mean: 0.53928, std: 0.00708, params: {'penalty': 'l2', 'C': 0.012742749857031341, 'solver': 'liblinear', 'class_weight': 'balanced'},\n",
       " mean: 0.82585, std: 0.00023, params: {'penalty': 'l1', 'C': 0.0078475997035146149, 'solver': 'liblinear', 'class_weight': None},\n",
       " mean: 0.82308, std: 0.00044, params: {'penalty': 'l2', 'C': 0.0078475997035146149, 'solver': 'liblinear', 'class_weight': None},\n",
       " mean: 0.43796, std: 0.02211, params: {'penalty': 'l1', 'C': 0.0078475997035146149, 'solver': 'liblinear', 'class_weight': 'balanced'},\n",
       " mean: 0.52879, std: 0.00782, params: {'penalty': 'l2', 'C': 0.0078475997035146149, 'solver': 'liblinear', 'class_weight': 'balanced'},\n",
       " mean: 0.82585, std: 0.00023, params: {'penalty': 'l1', 'C': 0.0048329302385717518, 'solver': 'liblinear', 'class_weight': None},\n",
       " mean: 0.82367, std: 0.00093, params: {'penalty': 'l2', 'C': 0.0048329302385717518, 'solver': 'liblinear', 'class_weight': None},\n",
       " mean: 0.82585, std: 0.00023, params: {'penalty': 'l1', 'C': 0.0048329302385717518, 'solver': 'liblinear', 'class_weight': 'balanced'},\n",
       " mean: 0.51949, std: 0.00546, params: {'penalty': 'l2', 'C': 0.0048329302385717518, 'solver': 'liblinear', 'class_weight': 'balanced'},\n",
       " mean: 0.82585, std: 0.00023, params: {'penalty': 'l1', 'C': 0.0029763514416313195, 'solver': 'liblinear', 'class_weight': None},\n",
       " mean: 0.82327, std: 0.00096, params: {'penalty': 'l2', 'C': 0.0029763514416313195, 'solver': 'liblinear', 'class_weight': None},\n",
       " mean: 0.82585, std: 0.00023, params: {'penalty': 'l1', 'C': 0.0029763514416313195, 'solver': 'liblinear', 'class_weight': 'balanced'},\n",
       " mean: 0.51356, std: 0.00399, params: {'penalty': 'l2', 'C': 0.0029763514416313195, 'solver': 'liblinear', 'class_weight': 'balanced'},\n",
       " mean: 0.82585, std: 0.00023, params: {'penalty': 'l1', 'C': 0.0018329807108324375, 'solver': 'liblinear', 'class_weight': None},\n",
       " mean: 0.82327, std: 0.00135, params: {'penalty': 'l2', 'C': 0.0018329807108324375, 'solver': 'liblinear', 'class_weight': None},\n",
       " mean: 0.82585, std: 0.00023, params: {'penalty': 'l1', 'C': 0.0018329807108324375, 'solver': 'liblinear', 'class_weight': 'balanced'},\n",
       " mean: 0.50386, std: 0.00881, params: {'penalty': 'l2', 'C': 0.0018329807108324375, 'solver': 'liblinear', 'class_weight': 'balanced'},\n",
       " mean: 0.82585, std: 0.00023, params: {'penalty': 'l1', 'C': 0.0011288378916846893, 'solver': 'liblinear', 'class_weight': None},\n",
       " mean: 0.82308, std: 0.00123, params: {'penalty': 'l2', 'C': 0.0011288378916846893, 'solver': 'liblinear', 'class_weight': None},\n",
       " mean: 0.82585, std: 0.00023, params: {'penalty': 'l1', 'C': 0.0011288378916846893, 'solver': 'liblinear', 'class_weight': 'balanced'},\n",
       " mean: 0.49476, std: 0.00954, params: {'penalty': 'l2', 'C': 0.0011288378916846893, 'solver': 'liblinear', 'class_weight': 'balanced'},\n",
       " mean: 0.82585, std: 0.00023, params: {'penalty': 'l1', 'C': 0.00069519279617756048, 'solver': 'liblinear', 'class_weight': None},\n",
       " mean: 0.81833, std: 0.00519, params: {'penalty': 'l2', 'C': 0.00069519279617756048, 'solver': 'liblinear', 'class_weight': None},\n",
       " mean: 0.82585, std: 0.00023, params: {'penalty': 'l1', 'C': 0.00069519279617756048, 'solver': 'liblinear', 'class_weight': 'balanced'},\n",
       " mean: 0.48842, std: 0.00728, params: {'penalty': 'l2', 'C': 0.00069519279617756048, 'solver': 'liblinear', 'class_weight': 'balanced'},\n",
       " mean: 0.82585, std: 0.00023, params: {'penalty': 'l1', 'C': 0.00042813323987193956, 'solver': 'liblinear', 'class_weight': None},\n",
       " mean: 0.81595, std: 0.00614, params: {'penalty': 'l2', 'C': 0.00042813323987193956, 'solver': 'liblinear', 'class_weight': None},\n",
       " mean: 0.82585, std: 0.00023, params: {'penalty': 'l1', 'C': 0.00042813323987193956, 'solver': 'liblinear', 'class_weight': 'balanced'},\n",
       " mean: 0.48348, std: 0.00763, params: {'penalty': 'l2', 'C': 0.00042813323987193956, 'solver': 'liblinear', 'class_weight': 'balanced'},\n",
       " mean: 0.82585, std: 0.00023, params: {'penalty': 'l1', 'C': 0.0002636650898730361, 'solver': 'liblinear', 'class_weight': None},\n",
       " mean: 0.81476, std: 0.00603, params: {'penalty': 'l2', 'C': 0.0002636650898730361, 'solver': 'liblinear', 'class_weight': None},\n",
       " mean: 0.82585, std: 0.00023, params: {'penalty': 'l1', 'C': 0.0002636650898730361, 'solver': 'liblinear', 'class_weight': 'balanced'},\n",
       " mean: 0.48070, std: 0.00939, params: {'penalty': 'l2', 'C': 0.0002636650898730361, 'solver': 'liblinear', 'class_weight': 'balanced'},\n",
       " mean: 0.82585, std: 0.00023, params: {'penalty': 'l1', 'C': 0.00016237767391887227, 'solver': 'liblinear', 'class_weight': None},\n",
       " mean: 0.81100, std: 0.00684, params: {'penalty': 'l2', 'C': 0.00016237767391887227, 'solver': 'liblinear', 'class_weight': None},\n",
       " mean: 0.82585, std: 0.00023, params: {'penalty': 'l1', 'C': 0.00016237767391887227, 'solver': 'liblinear', 'class_weight': 'balanced'},\n",
       " mean: 0.47675, std: 0.01055, params: {'penalty': 'l2', 'C': 0.00016237767391887227, 'solver': 'liblinear', 'class_weight': 'balanced'},\n",
       " mean: 0.82585, std: 0.00023, params: {'penalty': 'l1', 'C': 0.0001, 'solver': 'liblinear', 'class_weight': None},\n",
       " mean: 0.80586, std: 0.00627, params: {'penalty': 'l2', 'C': 0.0001, 'solver': 'liblinear', 'class_weight': None},\n",
       " mean: 0.82585, std: 0.00023, params: {'penalty': 'l1', 'C': 0.0001, 'solver': 'liblinear', 'class_weight': 'balanced'},\n",
       " mean: 0.47318, std: 0.01188, params: {'penalty': 'l2', 'C': 0.0001, 'solver': 'liblinear', 'class_weight': 'balanced'}]"
      ]
     },
     "execution_count": 47,
     "metadata": {},
     "output_type": "execute_result"
    }
   ],
   "source": [
    "grid_alch.grid_scores_"
   ]
  },
  {
   "cell_type": "code",
   "execution_count": 48,
   "metadata": {
    "collapsed": false
   },
   "outputs": [
    {
     "name": "stdout",
     "output_type": "stream",
     "text": [
      "{'penalty': 'l1', 'C': 0.020691380811147901, 'solver': 'liblinear', 'class_weight': None}\n",
      "0.82584603206\n",
      "0.0206913808111\n"
     ]
    }
   ],
   "source": [
    "print grid_alch.best_params_\n",
    "print grid_alch.best_score_\n",
    "\n",
    "best_alch_c = grid_alch.best_params_['C']\n",
    "print best_alch_c"
   ]
  },
  {
   "cell_type": "markdown",
   "metadata": {},
   "source": [
    "### 7.5 Build a logistic regression with the optimal parameters, and look at the coefficients\n",
    "\n",
    "---"
   ]
  },
  {
   "cell_type": "code",
   "execution_count": 49,
   "metadata": {
    "collapsed": true
   },
   "outputs": [],
   "source": [
    "# Creating a logisitc regresion with the best parameters from above\n",
    "best_logmodel_alch = LogisticRegression(penalty = 'l1', C = best_alch_c, solver = 'liblinear', class_weight = None)"
   ]
  },
  {
   "cell_type": "code",
   "execution_count": 50,
   "metadata": {
    "collapsed": false
   },
   "outputs": [
    {
     "data": {
      "text/plain": [
       "LogisticRegression(C=0.020691380811147901, class_weight=None, dual=False,\n",
       "          fit_intercept=True, intercept_scaling=1, max_iter=100,\n",
       "          multi_class='ovr', n_jobs=1, penalty='l1', random_state=None,\n",
       "          solver='liblinear', tol=0.0001, verbose=0, warm_start=False)"
      ]
     },
     "execution_count": 50,
     "metadata": {},
     "output_type": "execute_result"
    }
   ],
   "source": [
    "best_logmodel_alch.fit(X_alch, Y_alch)"
   ]
  },
  {
   "cell_type": "code",
   "execution_count": 51,
   "metadata": {
    "collapsed": false,
    "scrolled": true
   },
   "outputs": [
    {
     "data": {
      "text/plain": [
       "array([[ 0.        ,  0.        ,  0.        ,  0.        ,  0.        ,\n",
       "         0.        ,  0.        ,  0.        ,  0.        ,  0.        ,\n",
       "         0.        ,  0.        ,  0.        ,  0.        ,  0.        ,\n",
       "         0.        ,  0.        ,  0.        ,  0.        ,  0.        ,\n",
       "         0.        ,  0.        ,  0.        ,  0.        ,  0.        ,\n",
       "         0.        ,  0.        ,  0.        ,  0.        ,  0.        ,\n",
       "         0.        ,  0.        ,  0.        ,  0.        ,  0.        ,\n",
       "         0.        ,  0.        ,  0.        ,  0.        ,  0.        ,\n",
       "         0.        ,  0.        , -0.03026586,  0.        ,  0.        ,\n",
       "         0.        ,  0.        ,  0.        ,  0.        ,  0.        ,\n",
       "         0.        ,  0.        ,  0.        ,  0.        ,  0.        ,\n",
       "         0.        ,  0.        ,  0.        ,  0.        ,  0.        ,\n",
       "         0.        ,  0.        ,  0.        ,  0.        ,  0.        ,\n",
       "         0.        ,  0.        ,  0.        ,  0.        ,  0.        ,\n",
       "         0.        ,  0.        ,  0.        ,  0.        ,  0.        ,\n",
       "         0.        ,  0.        ,  0.        ,  0.        ,  0.        ,\n",
       "         0.        ,  0.        ,  0.        ,  0.        ,  0.        ,\n",
       "         0.        ,  0.        ,  0.        ,  0.        ,  0.        ,\n",
       "         0.        ,  0.        ,  0.        ,  0.        ,  0.        ,\n",
       "         0.        ,  0.        ,  0.        ,  0.        ,  0.        ,\n",
       "         0.        ,  0.        ,  0.        ,  0.        ,  0.        ,\n",
       "         0.        ,  0.        ,  0.        ,  0.        ,  0.        ,\n",
       "         0.        ,  0.        ,  0.        ,  0.        ,  0.        ,\n",
       "         0.        ,  0.        ,  0.        ,  0.        ,  0.        ,\n",
       "         0.        ,  0.        ,  0.        ,  0.        ,  0.        ,\n",
       "         0.        ,  0.        ,  0.        ,  0.        ,  0.        ,\n",
       "        -0.11167091,  0.        ,  0.        ,  0.        ,  0.        ,\n",
       "         0.        ,  0.        ,  0.02354433,  0.        ,  0.        ,\n",
       "         0.        ,  0.        ,  0.        ,  0.        ,  0.        ,\n",
       "         0.        ,  0.        ,  0.        ,  0.        ,  0.        ,\n",
       "        -0.07881446,  0.        ,  0.        ,  0.        ,  0.        ,\n",
       "         0.        ,  0.        ,  0.        ,  0.        ,  0.        ,\n",
       "         0.        ,  0.        ,  0.        ,  0.        ,  0.        ,\n",
       "        -0.03100267,  0.        ,  0.        ,  0.        ,  0.        ,\n",
       "        -0.01944856,  0.        ]])"
      ]
     },
     "execution_count": 51,
     "metadata": {},
     "output_type": "execute_result"
    }
   ],
   "source": [
    "# The coefficients of our logistic regression\n",
    "best_logmodel_alch.coef_"
   ]
  },
  {
   "cell_type": "markdown",
   "metadata": {},
   "source": [
    "### 7.6 Gridsearch parameters for a logistic regression with the same target and predictors, but score based on precision rather than accuracy\n",
    "\n",
    "Look at the documentation.\n",
    "\n",
    "---"
   ]
  },
  {
   "cell_type": "code",
   "execution_count": 52,
   "metadata": {
    "collapsed": true
   },
   "outputs": [],
   "source": [
    "Cs = 1./np.logspace(0.0, 4.0, 20)\n",
    "\n",
    "search_parameters_alch_prec = {\n",
    "    \"penalty\":             ['l1','l2'],  \n",
    "    \"C\":                   Cs,  \n",
    "    \"class_weight\":        [None, \"balanced\"], \n",
    "    'solver':              ['liblinear'],\n",
    "}\n",
    "\n",
    "est_alch_prec = GridSearchCV(logmodel, search_parameters_alch_prec, scoring = 'precision')"
   ]
  },
  {
   "cell_type": "code",
   "execution_count": 53,
   "metadata": {
    "collapsed": false
   },
   "outputs": [
    {
     "name": "stderr",
     "output_type": "stream",
     "text": [
      "C:\\Anaconda2\\lib\\site-packages\\sklearn\\metrics\\classification.py:1074: UndefinedMetricWarning: Precision is ill-defined and being set to 0.0 due to no predicted samples.\n",
      "  'precision', 'predicted', average, warn_for)\n"
     ]
    }
   ],
   "source": [
    "grid_alch_prec = est_alch_prec.fit(X_alch, Y_alch)"
   ]
  },
  {
   "cell_type": "code",
   "execution_count": 54,
   "metadata": {
    "collapsed": false
   },
   "outputs": [
    {
     "data": {
      "text/plain": [
       "{'C': 0.23357214690901226,\n",
       " 'class_weight': 'balanced',\n",
       " 'penalty': 'l2',\n",
       " 'solver': 'liblinear'}"
      ]
     },
     "execution_count": 54,
     "metadata": {},
     "output_type": "execute_result"
    }
   ],
   "source": [
    "grid_alch_prec.best_params_"
   ]
  },
  {
   "cell_type": "code",
   "execution_count": 55,
   "metadata": {
    "collapsed": false
   },
   "outputs": [
    {
     "data": {
      "text/plain": [
       "0.21568553669712157"
      ]
     },
     "execution_count": 55,
     "metadata": {},
     "output_type": "execute_result"
    }
   ],
   "source": [
    "grid_alch_prec.best_score_"
   ]
  },
  {
   "cell_type": "markdown",
   "metadata": {},
   "source": [
    "## [BONUS] 8. Build models predicting from words\n",
    "\n",
    "This is a bit of the NLP we covered in the pipeline lecture!\n",
    "\n",
    "---"
   ]
  },
  {
   "cell_type": "markdown",
   "metadata": {},
   "source": [
    "### 8.1 Choose 'body' or 'title' from the boilerplate to be the basis of your word predictors\n",
    "\n",
    "You will need to parse the json from the boilerplate field.\n",
    "\n",
    "---"
   ]
  },
  {
   "cell_type": "code",
   "execution_count": 71,
   "metadata": {
    "collapsed": false
   },
   "outputs": [
    {
     "data": {
      "text/plain": [
       "0    IBM Sees Holographic Calls Air Breathing Batte...\n",
       "1    The Fully Electronic Futuristic Starting Gun T...\n",
       "2    Fruits that Fight the Flu fruits that fight th...\n",
       "3                  10 Foolproof Tips for Better Sleep \n",
       "4    The 50 Coolest Jerseys You Didn t Know Existed...\n",
       "Name: title, dtype: object"
      ]
     },
     "execution_count": 71,
     "metadata": {},
     "output_type": "execute_result"
    }
   ],
   "source": [
    "# Creating columns by converting jsons:\n",
    "su['title'] = su.boilerplate.map(lambda x: json.loads(x).get('title', ''))\n",
    "su['body'] = su.boilerplate.map(lambda x: json.loads(x).get('body', ''))\n",
    "\n",
    "# Changing title and body na columns to blank strings\n",
    "titles = su['title'].fillna('')\n",
    "body = su['body'].fillna('')\n",
    "\n",
    "titles[0:5]"
   ]
  },
  {
   "cell_type": "markdown",
   "metadata": {},
   "source": [
    "### 8.2 Use CountVectorizer to create your predictor matrix from the string column\n",
    "\n",
    "It is up to you what range of ngrams and features, and whether or not you want the columns binary or counts.\n",
    "\n",
    "---"
   ]
  },
  {
   "cell_type": "code",
   "execution_count": 72,
   "metadata": {
    "collapsed": false
   },
   "outputs": [
    {
     "data": {
      "text/plain": [
       "CountVectorizer(analyzer=u'word', binary=True, decode_error=u'strict',\n",
       "        dtype=<type 'numpy.int64'>, encoding=u'utf-8', input=u'content',\n",
       "        lowercase=True, max_df=1.0, max_features=1000, min_df=1,\n",
       "        ngram_range=(1, 2), preprocessor=None, stop_words='english',\n",
       "        strip_accents=None, token_pattern=u'(?u)\\\\b\\\\w\\\\w+\\\\b',\n",
       "        tokenizer=None, vocabulary=None)"
      ]
     },
     "execution_count": 72,
     "metadata": {},
     "output_type": "execute_result"
    }
   ],
   "source": [
    "title_vectorizer = CountVectorizer(max_features = 1000, ngram_range = (1, 2), stop_words = 'english', binary = True)\n",
    "\n",
    "title_vectorizer.fit(titles)"
   ]
  },
  {
   "cell_type": "code",
   "execution_count": 73,
   "metadata": {
    "collapsed": true
   },
   "outputs": [],
   "source": [
    "title_X = title_vectorizer.transform(titles)"
   ]
  },
  {
   "cell_type": "code",
   "execution_count": 76,
   "metadata": {
    "collapsed": false
   },
   "outputs": [
    {
     "data": {
      "text/plain": [
       "matrix([[0, 0, 0, ..., 0, 0, 0],\n",
       "        [0, 0, 0, ..., 0, 0, 0],\n",
       "        [0, 0, 0, ..., 0, 0, 0],\n",
       "        ..., \n",
       "        [0, 0, 0, ..., 0, 0, 0],\n",
       "        [0, 0, 0, ..., 0, 0, 0],\n",
       "        [0, 0, 0, ..., 0, 0, 0]], dtype=int64)"
      ]
     },
     "execution_count": 76,
     "metadata": {},
     "output_type": "execute_result"
    }
   ],
   "source": [
    "title_X.todense()"
   ]
  },
  {
   "cell_type": "markdown",
   "metadata": {},
   "source": [
    "### 8.3 Gridsearch a logistic regression predicting accuracy of your chosen target category from word predictor matrix\n",
    "\n",
    "---"
   ]
  },
  {
   "cell_type": "code",
   "execution_count": 79,
   "metadata": {
    "collapsed": false
   },
   "outputs": [],
   "source": [
    "title_model = LogisticRegression()\n",
    "# coefs = title_model.coef_\n",
    "# colnames = title_vectorizer.get_feature_names()\n",
    "\n",
    "Cs = 1./np.logspace(0.0, 4.0, 20)\n",
    "\n",
    "search_parameters_title = {\n",
    "    \"penalty\":             ['l1','l2'],   # Used to specify the norm used in the penalization.\n",
    "    \"C\":                   Cs,  # Regularization paramter\n",
    "    \"class_weight\":        [None, \"balanced\"], # The “balanced” mode uses the values of y to automatically adjust weights inversely proportional to \n",
    "                                               # class frequencies in the input data as n_samples / (n_classes * np.bincount(y))\n",
    "    'solver':              ['liblinear']\n",
    "}\n",
    "\n",
    "est_title = GridSearchCV(title_model, search_parameters_title)"
   ]
  },
  {
   "cell_type": "code",
   "execution_count": 81,
   "metadata": {
    "collapsed": false
   },
   "outputs": [],
   "source": [
    "grid_title = est_title.fit(title_X, Y)"
   ]
  },
  {
   "cell_type": "code",
   "execution_count": 88,
   "metadata": {
    "collapsed": false
   },
   "outputs": [
    {
     "name": "stdout",
     "output_type": "stream",
     "text": [
      "{'penalty': 'l2', 'C': 0.0078475997035146149, 'solver': 'liblinear', 'class_weight': None}\n",
      "0.776568375223\n"
     ]
    },
    {
     "data": {
      "text/plain": [
       "0.0078475997035146149"
      ]
     },
     "execution_count": 88,
     "metadata": {},
     "output_type": "execute_result"
    }
   ],
   "source": [
    "print grid_title.best_params_\n",
    "print grid_title.best_score_\n",
    "\n",
    "best_c_title = grid_title.best_params_['C']"
   ]
  },
  {
   "cell_type": "markdown",
   "metadata": {},
   "source": [
    "### 8.4 Do the same as above, but score the gridsearch based on precision rather than accuracy\n",
    "\n",
    "---"
   ]
  },
  {
   "cell_type": "code",
   "execution_count": 84,
   "metadata": {
    "collapsed": true
   },
   "outputs": [],
   "source": [
    "est_title_prec = GridSearchCV(title_model, search_parameters_title, scoring = 'precision')"
   ]
  },
  {
   "cell_type": "code",
   "execution_count": 85,
   "metadata": {
    "collapsed": true
   },
   "outputs": [],
   "source": [
    "grid_title_prec = est_title_prec.fit(title_X, Y)"
   ]
  },
  {
   "cell_type": "code",
   "execution_count": 86,
   "metadata": {
    "collapsed": false
   },
   "outputs": [
    {
     "name": "stdout",
     "output_type": "stream",
     "text": [
      "{'penalty': 'l1', 'C': 0.012742749857031341, 'solver': 'liblinear', 'class_weight': None}\n",
      "0.776568375223\n"
     ]
    }
   ],
   "source": [
    "print grid_title_prec.best_params_\n",
    "print grid_title.best_score_"
   ]
  },
  {
   "cell_type": "markdown",
   "metadata": {},
   "source": [
    "### 8.5 Build a logistic regression with optimal precision categories\n",
    "\n",
    "Print out the top 20 or 25 word features as ranked by their coefficients.\n",
    "\n",
    "---"
   ]
  },
  {
   "cell_type": "code",
   "execution_count": 99,
   "metadata": {
    "collapsed": true
   },
   "outputs": [],
   "source": [
    "best_title_model = LogisticRegression(penalty = 'l2', C = best_c_title, class_weight= None, solver = 'liblinear')"
   ]
  },
  {
   "cell_type": "code",
   "execution_count": 100,
   "metadata": {
    "collapsed": false
   },
   "outputs": [
    {
     "data": {
      "text/plain": [
       "LogisticRegression(C=0.0078475997035146149, class_weight=None, dual=False,\n",
       "          fit_intercept=True, intercept_scaling=1, max_iter=100,\n",
       "          multi_class='ovr', n_jobs=1, penalty='l2', random_state=None,\n",
       "          solver='liblinear', tol=0.0001, verbose=0, warm_start=False)"
      ]
     },
     "execution_count": 100,
     "metadata": {},
     "output_type": "execute_result"
    }
   ],
   "source": [
    "best_title_model.fit(title_X, Y)"
   ]
  },
  {
   "cell_type": "code",
   "execution_count": 101,
   "metadata": {
    "collapsed": false
   },
   "outputs": [
    {
     "data": {
      "text/plain": [
       "array([0, 0, 1, ..., 0, 1, 0], dtype=int64)"
      ]
     },
     "execution_count": 101,
     "metadata": {},
     "output_type": "execute_result"
    }
   ],
   "source": [
    "best_title_model.predict(title_X)"
   ]
  },
  {
   "cell_type": "code",
   "execution_count": 122,
   "metadata": {
    "collapsed": false
   },
   "outputs": [],
   "source": [
    "coef = best_title_model.coef_"
   ]
  },
  {
   "cell_type": "code",
   "execution_count": 127,
   "metadata": {
    "collapsed": false
   },
   "outputs": [
    {
     "data": {
      "text/plain": [
       "[array([ -3.12287163e-01,  -3.00028662e-01,  -2.56516414e-01,\n",
       "         -2.51999368e-01,  -1.56837992e-01,  -1.49308678e-01,\n",
       "         -1.15338429e-01,  -9.24656155e-02,  -9.14462257e-02,\n",
       "         -8.63025161e-02,  -8.11962800e-02,  -7.84127029e-02,\n",
       "         -7.76619136e-02,  -7.65250964e-02,  -6.74404059e-02,\n",
       "         -6.70848933e-02,  -6.69367785e-02,  -6.52381508e-02,\n",
       "         -6.46516772e-02,  -6.44238685e-02,  -6.41011101e-02,\n",
       "         -6.09427703e-02,  -6.07266238e-02,  -5.86695401e-02,\n",
       "         -5.85284707e-02,  -5.84114117e-02,  -5.78233631e-02,\n",
       "         -5.65467133e-02,  -5.40167739e-02,  -5.38757947e-02,\n",
       "         -5.30323007e-02,  -5.26547102e-02,  -5.17834700e-02,\n",
       "         -5.16982222e-02,  -5.15687049e-02,  -5.06731200e-02,\n",
       "         -4.98838904e-02,  -4.97204340e-02,  -4.89746557e-02,\n",
       "         -4.84939588e-02,  -4.74421974e-02,  -4.73701072e-02,\n",
       "         -4.73125353e-02,  -4.56141970e-02,  -4.48668412e-02,\n",
       "         -4.41256211e-02,  -4.39878493e-02,  -4.36572630e-02,\n",
       "         -4.34910709e-02,  -4.17960529e-02,  -4.17644342e-02,\n",
       "         -4.17251766e-02,  -4.08193907e-02,  -4.04177496e-02,\n",
       "         -3.97623608e-02,  -3.94634692e-02,  -3.93036589e-02,\n",
       "         -3.92591194e-02,  -3.88283906e-02,  -3.86060806e-02,\n",
       "         -3.84855227e-02,  -3.79905234e-02,  -3.79876820e-02,\n",
       "         -3.79876820e-02,  -3.79876820e-02,  -3.75452396e-02,\n",
       "         -3.66718104e-02,  -3.66538335e-02,  -3.64290521e-02,\n",
       "         -3.63839327e-02,  -3.63180674e-02,  -3.62693390e-02,\n",
       "         -3.60465267e-02,  -3.58409284e-02,  -3.56197168e-02,\n",
       "         -3.48597591e-02,  -3.46970144e-02,  -3.46425234e-02,\n",
       "         -3.43335559e-02,  -3.42861383e-02,  -3.40922540e-02,\n",
       "         -3.38015856e-02,  -3.37951079e-02,  -3.37915637e-02,\n",
       "         -3.32296043e-02,  -3.32091228e-02,  -3.29577422e-02,\n",
       "         -3.29356785e-02,  -3.28415685e-02,  -3.27502505e-02,\n",
       "         -3.27502505e-02,  -3.27502505e-02,  -3.26699813e-02,\n",
       "         -3.25333493e-02,  -3.22888485e-02,  -3.22792486e-02,\n",
       "         -3.21672608e-02,  -3.20103133e-02,  -3.19493457e-02,\n",
       "         -3.18424926e-02,  -3.13938698e-02,  -3.12555205e-02,\n",
       "         -3.12161488e-02,  -3.08175540e-02,  -3.06003805e-02,\n",
       "         -3.04192882e-02,  -3.02968308e-02,  -3.01171816e-02,\n",
       "         -2.99783281e-02,  -2.98772013e-02,  -2.94578550e-02,\n",
       "         -2.94131112e-02,  -2.93942926e-02,  -2.93063055e-02,\n",
       "         -2.92400617e-02,  -2.90848661e-02,  -2.88243490e-02,\n",
       "         -2.87641910e-02,  -2.85435024e-02,  -2.84933523e-02,\n",
       "         -2.83863915e-02,  -2.83510934e-02,  -2.81253178e-02,\n",
       "         -2.80503467e-02,  -2.76830744e-02,  -2.75507224e-02,\n",
       "         -2.75292970e-02,  -2.75207751e-02,  -2.74968588e-02,\n",
       "         -2.73369591e-02,  -2.72797884e-02,  -2.72174609e-02,\n",
       "         -2.72005883e-02,  -2.70079864e-02,  -2.69365501e-02,\n",
       "         -2.66853078e-02,  -2.66566320e-02,  -2.64736014e-02,\n",
       "         -2.64566323e-02,  -2.64206333e-02,  -2.61400767e-02,\n",
       "         -2.61250621e-02,  -2.60098054e-02,  -2.58354048e-02,\n",
       "         -2.57772487e-02,  -2.57596062e-02,  -2.56837642e-02,\n",
       "         -2.56103706e-02,  -2.52671110e-02,  -2.51069955e-02,\n",
       "         -2.51032796e-02,  -2.49856708e-02,  -2.49293441e-02,\n",
       "         -2.49200734e-02,  -2.49120729e-02,  -2.47021692e-02,\n",
       "         -2.46896287e-02,  -2.46056472e-02,  -2.45954128e-02,\n",
       "         -2.45406807e-02,  -2.45105826e-02,  -2.45065669e-02,\n",
       "         -2.44530636e-02,  -2.44053510e-02,  -2.42775898e-02,\n",
       "         -2.42285760e-02,  -2.41482823e-02,  -2.41190976e-02,\n",
       "         -2.40199594e-02,  -2.40111366e-02,  -2.39825448e-02,\n",
       "         -2.39735830e-02,  -2.39611523e-02,  -2.39318347e-02,\n",
       "         -2.37614314e-02,  -2.37333547e-02,  -2.37146847e-02,\n",
       "         -2.34818667e-02,  -2.34433871e-02,  -2.32485489e-02,\n",
       "         -2.27763447e-02,  -2.27421021e-02,  -2.26710324e-02,\n",
       "         -2.25183131e-02,  -2.24409060e-02,  -2.21921853e-02,\n",
       "         -2.21832393e-02,  -2.21565856e-02,  -2.20960455e-02,\n",
       "         -2.20808837e-02,  -2.20280027e-02,  -2.19396163e-02,\n",
       "         -2.18986565e-02,  -2.18572867e-02,  -2.18478555e-02,\n",
       "         -2.14909705e-02,  -2.14909705e-02,  -2.14874105e-02,\n",
       "         -2.12866530e-02,  -2.12779296e-02,  -2.12343786e-02,\n",
       "         -2.11093155e-02,  -2.11017375e-02,  -2.10786023e-02,\n",
       "         -2.09381848e-02,  -2.09381848e-02,  -2.08744676e-02,\n",
       "         -2.08678540e-02,  -2.08015186e-02,  -2.05706215e-02,\n",
       "         -2.05527125e-02,  -2.03778285e-02,  -2.03336346e-02,\n",
       "         -2.02904402e-02,  -2.02023948e-02,  -2.01419814e-02,\n",
       "         -2.01061583e-02,  -2.00471796e-02,  -1.96593707e-02,\n",
       "         -1.96132896e-02,  -1.94533883e-02,  -1.93511539e-02,\n",
       "         -1.93356794e-02,  -1.91756979e-02,  -1.90653505e-02,\n",
       "         -1.89789994e-02,  -1.89765453e-02,  -1.89529172e-02,\n",
       "         -1.89418632e-02,  -1.88882317e-02,  -1.88501135e-02,\n",
       "         -1.87347173e-02,  -1.87305907e-02,  -1.87223696e-02,\n",
       "         -1.86684049e-02,  -1.84839231e-02,  -1.82730842e-02,\n",
       "         -1.82412973e-02,  -1.82190404e-02,  -1.81809329e-02,\n",
       "         -1.81045909e-02,  -1.80696767e-02,  -1.79765020e-02,\n",
       "         -1.79008193e-02,  -1.78852369e-02,  -1.78798628e-02,\n",
       "         -1.77752065e-02,  -1.74179199e-02,  -1.74013906e-02,\n",
       "         -1.73949283e-02,  -1.73743297e-02,  -1.73485687e-02,\n",
       "         -1.73205994e-02,  -1.71902254e-02,  -1.71857086e-02,\n",
       "         -1.70632141e-02,  -1.70515185e-02,  -1.69905882e-02,\n",
       "         -1.68290136e-02,  -1.68173217e-02,  -1.67731700e-02,\n",
       "         -1.67506522e-02,  -1.67342528e-02,  -1.66394179e-02,\n",
       "         -1.66309163e-02,  -1.65642728e-02,  -1.64813437e-02,\n",
       "         -1.64439205e-02,  -1.64069442e-02,  -1.63214857e-02,\n",
       "         -1.62864033e-02,  -1.62718120e-02,  -1.61785681e-02,\n",
       "         -1.61342297e-02,  -1.61273703e-02,  -1.60491630e-02,\n",
       "         -1.60283349e-02,  -1.60031821e-02,  -1.59724787e-02,\n",
       "         -1.58741631e-02,  -1.56606974e-02,  -1.56428631e-02,\n",
       "         -1.54101593e-02,  -1.53556621e-02,  -1.52359059e-02,\n",
       "         -1.52032115e-02,  -1.52015837e-02,  -1.51536998e-02,\n",
       "         -1.51332077e-02,  -1.49781258e-02,  -1.49743021e-02,\n",
       "         -1.49446962e-02,  -1.49146355e-02,  -1.48690083e-02,\n",
       "         -1.46366397e-02,  -1.45417288e-02,  -1.45236840e-02,\n",
       "         -1.45038947e-02,  -1.44807141e-02,  -1.43758800e-02,\n",
       "         -1.42314526e-02,  -1.42006691e-02,  -1.41362005e-02,\n",
       "         -1.40402623e-02,  -1.39761721e-02,  -1.39761721e-02,\n",
       "         -1.39172891e-02,  -1.39162149e-02,  -1.38229107e-02,\n",
       "         -1.37845003e-02,  -1.37562725e-02,  -1.37399232e-02,\n",
       "         -1.36776728e-02,  -1.35900058e-02,  -1.35520785e-02,\n",
       "         -1.35144622e-02,  -1.34958865e-02,  -1.34248026e-02,\n",
       "         -1.34241068e-02,  -1.34049614e-02,  -1.32863117e-02,\n",
       "         -1.32689519e-02,  -1.30870282e-02,  -1.30594216e-02,\n",
       "         -1.30020188e-02,  -1.26536292e-02,  -1.25251107e-02,\n",
       "         -1.24847873e-02,  -1.24809974e-02,  -1.24606626e-02,\n",
       "         -1.24049538e-02,  -1.23996959e-02,  -1.23400923e-02,\n",
       "         -1.21510433e-02,  -1.19378853e-02,  -1.16579107e-02,\n",
       "         -1.16495232e-02,  -1.15991882e-02,  -1.15801834e-02,\n",
       "         -1.13270601e-02,  -1.13110596e-02,  -1.12405991e-02,\n",
       "         -1.11338250e-02,  -1.11091366e-02,  -1.10175104e-02,\n",
       "         -1.08058983e-02,  -1.07784475e-02,  -1.07247384e-02,\n",
       "         -1.07198176e-02,  -1.06497861e-02,  -1.06480373e-02,\n",
       "         -1.05802663e-02,  -1.04946781e-02,  -1.04806677e-02,\n",
       "         -1.04621714e-02,  -1.03477112e-02,  -1.03418443e-02,\n",
       "         -1.01506136e-02,  -9.95789712e-03,  -9.90690022e-03,\n",
       "         -9.82105713e-03,  -9.82105713e-03,  -9.82105713e-03,\n",
       "         -9.82105713e-03,  -9.73049413e-03,  -9.69577108e-03,\n",
       "         -9.50208064e-03,  -9.25881153e-03,  -9.23594297e-03,\n",
       "         -9.13675177e-03,  -9.13200305e-03,  -9.12774604e-03,\n",
       "         -9.11725690e-03,  -9.11148822e-03,  -9.11148822e-03,\n",
       "         -9.11148822e-03,  -8.82887299e-03,  -8.77510424e-03,\n",
       "         -8.73501934e-03,  -8.62741853e-03,  -8.57498907e-03,\n",
       "         -8.50589562e-03,  -8.35659812e-03,  -8.26783712e-03,\n",
       "         -8.25598062e-03,  -8.22277118e-03,  -7.93982461e-03,\n",
       "         -7.89431447e-03,  -7.89431447e-03,  -7.88164952e-03,\n",
       "         -7.76478321e-03,  -7.73205184e-03,  -7.70884562e-03,\n",
       "         -7.68953578e-03,  -7.67044899e-03,  -7.57717102e-03,\n",
       "         -7.43867011e-03,  -7.41086833e-03,  -7.33072749e-03,\n",
       "         -7.23345470e-03,  -7.20973152e-03,  -7.18771959e-03,\n",
       "         -7.11556904e-03,  -7.08427762e-03,  -7.02110782e-03,\n",
       "         -6.86025203e-03,  -6.82614890e-03,  -6.78124064e-03,\n",
       "         -6.75869213e-03,  -6.73903595e-03,  -6.65871791e-03,\n",
       "         -6.65058826e-03,  -6.57137231e-03,  -6.55677928e-03,\n",
       "         -6.54154488e-03,  -6.38410784e-03,  -6.34043906e-03,\n",
       "         -6.28363479e-03,  -6.20458235e-03,  -6.17487801e-03,\n",
       "         -6.16876299e-03,  -6.08684781e-03,  -6.08598389e-03,\n",
       "         -6.07056513e-03,  -6.06834317e-03,  -6.03339113e-03,\n",
       "         -5.94536652e-03,  -5.83466498e-03,  -5.71677613e-03,\n",
       "         -5.66085315e-03,  -5.54338235e-03,  -5.44053289e-03,\n",
       "         -5.38355020e-03,  -5.06122425e-03,  -4.97452929e-03,\n",
       "         -4.88090032e-03,  -4.69967518e-03,  -4.65171150e-03,\n",
       "         -4.65115370e-03,  -4.65115370e-03,  -4.61502727e-03,\n",
       "         -4.53293904e-03,  -4.50376342e-03,  -4.36227735e-03,\n",
       "         -4.30356972e-03,  -4.27564669e-03,  -4.11264909e-03,\n",
       "         -4.07028067e-03,  -3.91512000e-03,  -3.89366143e-03,\n",
       "         -3.83576781e-03,  -3.78616703e-03,  -3.71028899e-03,\n",
       "         -3.65608998e-03,  -3.64928175e-03,  -3.53373523e-03,\n",
       "         -3.47732008e-03,  -3.37828478e-03,  -3.27858115e-03,\n",
       "         -3.27035553e-03,  -3.26670945e-03,  -3.07044996e-03,\n",
       "         -3.01535618e-03,  -2.99824157e-03,  -2.97539843e-03,\n",
       "         -2.77119735e-03,  -2.71275528e-03,  -2.71199622e-03,\n",
       "         -2.56393027e-03,  -2.55465252e-03,  -2.45197772e-03,\n",
       "         -2.44793984e-03,  -2.44400333e-03,  -2.40386020e-03,\n",
       "         -2.39419818e-03,  -2.33963865e-03,  -2.28520070e-03,\n",
       "         -2.21783813e-03,  -2.12515531e-03,  -2.08585306e-03,\n",
       "         -2.07345245e-03,  -1.96268809e-03,  -1.95055080e-03,\n",
       "         -1.45646798e-03,  -1.34137974e-03,  -1.24767210e-03,\n",
       "         -1.01293499e-03,  -9.97629140e-04,  -9.86273091e-04,\n",
       "         -9.44420255e-04,  -7.70029903e-04,  -6.48644222e-04,\n",
       "         -6.42068498e-04,  -6.10984138e-04,  -5.43387957e-04,\n",
       "         -3.86605987e-04,  -1.38876369e-04,  -4.82632340e-05,\n",
       "          2.15299561e-04,   2.22653054e-04,   2.60799059e-04,\n",
       "          3.00851077e-04,   3.10496042e-04,   3.14034530e-04,\n",
       "          4.37617333e-04,   6.29050022e-04,   7.28531296e-04,\n",
       "          8.19803661e-04,   8.27026166e-04,   8.81353090e-04,\n",
       "          1.12218825e-03,   1.25233021e-03,   1.33087548e-03,\n",
       "          1.37613679e-03,   1.42287145e-03,   1.72931005e-03,\n",
       "          1.81920209e-03,   1.89847344e-03,   1.89966830e-03,\n",
       "          2.06744886e-03,   2.08998615e-03,   2.34376349e-03,\n",
       "          2.40213009e-03,   2.55620375e-03,   2.69806892e-03,\n",
       "          2.72577828e-03,   2.96316752e-03,   3.07521467e-03,\n",
       "          3.07521467e-03,   3.19231432e-03,   3.30980530e-03,\n",
       "          3.32592563e-03,   3.67082150e-03,   3.71344206e-03,\n",
       "          3.77393392e-03,   3.82265951e-03,   3.91393048e-03,\n",
       "          4.28597376e-03,   4.28792621e-03,   4.32598255e-03,\n",
       "          4.32862882e-03,   4.69634224e-03,   4.69992202e-03,\n",
       "          4.90604928e-03,   4.91283256e-03,   5.01712801e-03,\n",
       "          5.03610158e-03,   5.39658633e-03,   5.46547500e-03,\n",
       "          5.48831291e-03,   5.53646707e-03,   5.53693381e-03,\n",
       "          5.55824739e-03,   5.57483721e-03,   5.70665860e-03,\n",
       "          5.75503232e-03,   5.87523708e-03,   6.05828059e-03,\n",
       "          6.05828059e-03,   6.07619315e-03,   6.27170118e-03,\n",
       "          6.44522861e-03,   6.49649970e-03,   6.65900824e-03,\n",
       "          6.89971568e-03,   6.97117171e-03,   7.05743153e-03,\n",
       "          7.16187622e-03,   7.37037722e-03,   7.43920751e-03,\n",
       "          7.43920751e-03,   7.45595352e-03,   7.51435468e-03,\n",
       "          7.57465698e-03,   7.58903349e-03,   7.58923541e-03,\n",
       "          7.60967854e-03,   7.60967854e-03,   7.66858153e-03,\n",
       "          7.66968501e-03,   7.71580633e-03,   7.81691282e-03,\n",
       "          7.83700089e-03,   7.84356557e-03,   7.91584985e-03,\n",
       "          8.19792125e-03,   8.26760412e-03,   8.31781495e-03,\n",
       "          8.40278902e-03,   8.40278902e-03,   8.40278902e-03,\n",
       "          8.43131711e-03,   8.47665543e-03,   8.65165811e-03,\n",
       "          8.70035894e-03,   8.74069161e-03,   8.78398654e-03,\n",
       "          8.85520960e-03,   8.93525195e-03,   9.26479046e-03,\n",
       "          9.41242925e-03,   9.66967960e-03,   9.98852970e-03,\n",
       "          1.00517137e-02,   1.01413500e-02,   1.04283019e-02,\n",
       "          1.04301290e-02,   1.05266306e-02,   1.05404334e-02,\n",
       "          1.05863243e-02,   1.07159027e-02,   1.07208233e-02,\n",
       "          1.08259630e-02,   1.08942130e-02,   1.09294723e-02,\n",
       "          1.09627189e-02,   1.10454331e-02,   1.11246423e-02,\n",
       "          1.11636743e-02,   1.11837751e-02,   1.12340554e-02,\n",
       "          1.13493369e-02,   1.14592529e-02,   1.16254353e-02,\n",
       "          1.16868773e-02,   1.19182754e-02,   1.19390277e-02,\n",
       "          1.19965279e-02,   1.20014688e-02,   1.20064117e-02,\n",
       "          1.20627353e-02,   1.21139262e-02,   1.22092779e-02,\n",
       "          1.23227307e-02,   1.23887669e-02,   1.24360607e-02,\n",
       "          1.24781768e-02,   1.25216467e-02,   1.25715060e-02,\n",
       "          1.26232819e-02,   1.26600494e-02,   1.27688291e-02,\n",
       "          1.29287176e-02,   1.30147211e-02,   1.30178814e-02,\n",
       "          1.32883462e-02,   1.33250502e-02,   1.34792901e-02,\n",
       "          1.35200186e-02,   1.35317726e-02,   1.36093354e-02,\n",
       "          1.37398616e-02,   1.37583973e-02,   1.38267970e-02,\n",
       "          1.38718146e-02,   1.39609859e-02,   1.40800452e-02,\n",
       "          1.40830749e-02,   1.41137056e-02,   1.42162504e-02,\n",
       "          1.43517293e-02,   1.43613774e-02,   1.44802100e-02,\n",
       "          1.45501133e-02,   1.45688842e-02,   1.46222183e-02,\n",
       "          1.47368744e-02,   1.50534912e-02,   1.53135683e-02,\n",
       "          1.53423901e-02,   1.53728710e-02,   1.53942703e-02,\n",
       "          1.54002406e-02,   1.54180279e-02,   1.54474964e-02,\n",
       "          1.55595442e-02,   1.55628059e-02,   1.56738299e-02,\n",
       "          1.56891578e-02,   1.57180247e-02,   1.57537555e-02,\n",
       "          1.57716686e-02,   1.58201911e-02,   1.58875668e-02,\n",
       "          1.61270390e-02,   1.61521070e-02,   1.62417670e-02,\n",
       "          1.62424709e-02,   1.63012806e-02,   1.63277137e-02,\n",
       "          1.64446515e-02,   1.64536387e-02,   1.64536387e-02,\n",
       "          1.64536387e-02,   1.65539479e-02,   1.65779963e-02,\n",
       "          1.66313176e-02,   1.67681702e-02,   1.68126814e-02,\n",
       "          1.68248340e-02,   1.68248340e-02,   1.71632654e-02,\n",
       "          1.71987221e-02,   1.73050748e-02,   1.73303182e-02,\n",
       "          1.74017663e-02,   1.74057703e-02,   1.74236631e-02,\n",
       "          1.74294869e-02,   1.75015204e-02,   1.76001153e-02,\n",
       "          1.76039820e-02,   1.76608292e-02,   1.77150651e-02,\n",
       "          1.77243070e-02,   1.77550316e-02,   1.77627615e-02,\n",
       "          1.79917163e-02,   1.81897261e-02,   1.84114714e-02,\n",
       "          1.84415644e-02,   1.84555203e-02,   1.84733734e-02,\n",
       "          1.85373788e-02,   1.85591292e-02,   1.86498716e-02,\n",
       "          1.86531503e-02,   1.88105054e-02,   1.90143387e-02,\n",
       "          1.90590998e-02,   1.91577569e-02,   1.92327858e-02,\n",
       "          1.93176374e-02,   1.93405077e-02,   1.93568438e-02,\n",
       "          1.93856112e-02,   1.93862902e-02,   1.94138798e-02,\n",
       "          1.94402977e-02,   1.94712545e-02,   1.95803141e-02,\n",
       "          1.95984055e-02,   1.96136522e-02,   1.97001825e-02,\n",
       "          1.97510180e-02,   1.99058228e-02,   1.99781355e-02,\n",
       "          1.99977874e-02,   1.99982883e-02,   2.00793100e-02,\n",
       "          2.00896445e-02,   2.02740352e-02,   2.02905505e-02,\n",
       "          2.03779928e-02,   2.03948644e-02,   2.04209888e-02,\n",
       "          2.04463480e-02,   2.04463480e-02,   2.05003337e-02,\n",
       "          2.05181010e-02,   2.06515993e-02,   2.08165991e-02,\n",
       "          2.08479536e-02,   2.08479536e-02,   2.08985207e-02,\n",
       "          2.09684034e-02,   2.09998688e-02,   2.11165298e-02,\n",
       "          2.11908043e-02,   2.11998744e-02,   2.14848160e-02,\n",
       "          2.15572250e-02,   2.16357626e-02,   2.18471885e-02,\n",
       "          2.18732522e-02,   2.19257990e-02,   2.19687966e-02,\n",
       "          2.21157796e-02,   2.21876631e-02,   2.22160297e-02,\n",
       "          2.25737181e-02,   2.26332436e-02,   2.26760803e-02,\n",
       "          2.27432696e-02,   2.27813590e-02,   2.28356465e-02,\n",
       "          2.29462919e-02,   2.30040707e-02,   2.30340621e-02,\n",
       "          2.30944450e-02,   2.32704180e-02,   2.33779587e-02,\n",
       "          2.35470497e-02,   2.36246201e-02,   2.38714936e-02,\n",
       "          2.39986911e-02,   2.40095062e-02,   2.41682979e-02,\n",
       "          2.41818624e-02,   2.43494950e-02,   2.43542364e-02,\n",
       "          2.43724858e-02,   2.44700179e-02,   2.45969759e-02,\n",
       "          2.47385981e-02,   2.47977910e-02,   2.49353947e-02,\n",
       "          2.49687084e-02,   2.51159888e-02,   2.53764564e-02,\n",
       "          2.53929337e-02,   2.54404250e-02,   2.54721146e-02,\n",
       "          2.55704177e-02,   2.56735468e-02,   2.58084756e-02,\n",
       "          2.61787980e-02,   2.62969552e-02,   2.65762472e-02,\n",
       "          2.67921541e-02,   2.67921541e-02,   2.69493685e-02,\n",
       "          2.71078797e-02,   2.72957771e-02,   2.74371893e-02,\n",
       "          2.74420642e-02,   2.74964564e-02,   2.75498870e-02,\n",
       "          2.76251399e-02,   2.76511792e-02,   2.78058573e-02,\n",
       "          2.80213500e-02,   2.81090728e-02,   2.82350927e-02,\n",
       "          2.83436147e-02,   2.83487391e-02,   2.83808497e-02,\n",
       "          2.86510660e-02,   2.87668360e-02,   2.93981224e-02,\n",
       "          2.94006270e-02,   2.95047585e-02,   2.96098479e-02,\n",
       "          2.97469144e-02,   2.99477811e-02,   2.99578912e-02,\n",
       "          2.99674814e-02,   3.01516990e-02,   3.02035512e-02,\n",
       "          3.05153817e-02,   3.07571917e-02,   3.08059221e-02,\n",
       "          3.08322553e-02,   3.12645116e-02,   3.15036221e-02,\n",
       "          3.15952933e-02,   3.17225671e-02,   3.17240410e-02,\n",
       "          3.19596968e-02,   3.23512307e-02,   3.24859391e-02,\n",
       "          3.26179857e-02,   3.27291490e-02,   3.28310076e-02,\n",
       "          3.33238323e-02,   3.36290795e-02,   3.37711026e-02,\n",
       "          3.38854521e-02,   3.40673041e-02,   3.41206440e-02,\n",
       "          3.41634146e-02,   3.42021490e-02,   3.44109739e-02,\n",
       "          3.45947652e-02,   3.50264199e-02,   3.53896662e-02,\n",
       "          3.68656136e-02,   3.72416509e-02,   3.72879812e-02,\n",
       "          3.73257687e-02,   3.74884697e-02,   3.77399511e-02,\n",
       "          3.80968230e-02,   3.82358850e-02,   3.84068317e-02,\n",
       "          3.85803975e-02,   3.92880157e-02,   3.93270911e-02,\n",
       "          3.93450106e-02,   3.95209605e-02,   3.97168571e-02,\n",
       "          4.02801104e-02,   4.09203570e-02,   4.10091546e-02,\n",
       "          4.12205951e-02,   4.18341851e-02,   4.20729246e-02,\n",
       "          4.24035893e-02,   4.25358665e-02,   4.26189078e-02,\n",
       "          4.29368391e-02,   4.31342084e-02,   4.35006759e-02,\n",
       "          4.39708535e-02,   4.45692362e-02,   4.46380934e-02,\n",
       "          4.47912071e-02,   4.63253692e-02,   4.63253692e-02,\n",
       "          4.64173763e-02,   4.64851508e-02,   4.67556474e-02,\n",
       "          4.70070480e-02,   4.73121074e-02,   4.81483795e-02,\n",
       "          4.84293715e-02,   4.88738366e-02,   4.89133082e-02,\n",
       "          4.91138599e-02,   4.96255936e-02,   4.97999788e-02,\n",
       "          5.01559132e-02,   5.04894049e-02,   5.12904240e-02,\n",
       "          5.17572730e-02,   5.27441017e-02,   5.27722190e-02,\n",
       "          5.29818219e-02,   5.38404096e-02,   5.41490579e-02,\n",
       "          5.44992894e-02,   5.51746205e-02,   5.76271988e-02,\n",
       "          5.78275240e-02,   5.83400935e-02,   5.86900157e-02,\n",
       "          5.88450900e-02,   5.91847023e-02,   5.96632255e-02,\n",
       "          6.01929801e-02,   6.11756614e-02,   6.17005246e-02,\n",
       "          6.25292962e-02,   6.37514003e-02,   6.64899747e-02,\n",
       "          6.71582858e-02,   6.71852165e-02,   6.80441044e-02,\n",
       "          6.88587324e-02,   6.99729180e-02,   7.04439102e-02,\n",
       "          7.28564372e-02,   7.36556604e-02,   7.43290934e-02,\n",
       "          7.46223712e-02,   7.48313644e-02,   7.51203170e-02,\n",
       "          7.88429821e-02,   8.01934001e-02,   8.13140834e-02,\n",
       "          8.19781124e-02,   8.31312864e-02,   8.42966250e-02,\n",
       "          8.62184143e-02,   8.79101142e-02,   9.08039514e-02,\n",
       "          9.12229249e-02,   9.14999716e-02,   9.36048253e-02,\n",
       "          1.00001831e-01,   1.01550991e-01,   1.07286991e-01,\n",
       "          1.08022055e-01,   1.10160202e-01,   1.12755478e-01,\n",
       "          1.13056835e-01,   1.13693868e-01,   1.15777964e-01,\n",
       "          1.16092964e-01,   1.18278132e-01,   1.23185876e-01,\n",
       "          1.30158421e-01,   1.31888443e-01,   1.35383570e-01,\n",
       "          1.35383570e-01,   1.35383570e-01,   1.40141511e-01,\n",
       "          1.51516275e-01,   1.53544166e-01,   1.66117503e-01,\n",
       "          1.67600174e-01,   1.69060240e-01,   2.21454185e-01,\n",
       "          2.24951506e-01,   2.51772674e-01,   2.69812171e-01,\n",
       "          2.90833041e-01,   3.59910112e-01,   4.37115727e-01,\n",
       "          7.27118449e-01])]"
      ]
     },
     "execution_count": 127,
     "metadata": {},
     "output_type": "execute_result"
    }
   ],
   "source": [
    "# I couldn't get these coefficients to be sorted in the correct order (descending as opposed to ascending). \n",
    "# I've also run out of time, but I'm not entirely sure how to actually look at the top 20 or 25 word features,\n",
    "# so I'd love some feedback on how to do that.\n",
    "coef = sorted(coef, reverse = True)\n",
    "\n",
    "coef"
   ]
  },
  {
   "cell_type": "code",
   "execution_count": null,
   "metadata": {
    "collapsed": true
   },
   "outputs": [],
   "source": []
  }
 ],
 "metadata": {
  "kernelspec": {
   "display_name": "Python 2",
   "language": "python",
   "name": "python2"
  },
  "language_info": {
   "codemirror_mode": {
    "name": "ipython",
    "version": 2
   },
   "file_extension": ".py",
   "mimetype": "text/x-python",
   "name": "python",
   "nbconvert_exporter": "python",
   "pygments_lexer": "ipython2",
   "version": "2.7.11"
  }
 },
 "nbformat": 4,
 "nbformat_minor": 0
}
